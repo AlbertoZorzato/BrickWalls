{
 "cells": [
  {
   "cell_type": "code",
   "execution_count": 1,
   "id": "2c4beb22",
   "metadata": {},
   "outputs": [],
   "source": [
    "from qiskit import quantum_info,transpile\n",
    "from qiskit import QuantumCircuit, ClassicalRegister, QuantumRegister\n",
    "import numpy as np\n",
    "from qiskit.quantum_info import Operator\n",
    "from qiskit_ibm_runtime import Estimator, Session, QiskitRuntimeService, Options, Sampler"
   ]
  },
  {
   "cell_type": "code",
   "execution_count": 7,
   "id": "0e31c269",
   "metadata": {},
   "outputs": [],
   "source": [
    "\n",
    "def Shat(A,T,G): \n",
    "    \n",
    "    t = np.tanh(T/4 + G/4)\n",
    "    tt = np.tanh(T/4 - G/4)\n",
    "    Shatf = np.array([[1-t*tt,0,0,t+tt],[0,1+t*tt,t-tt,0],[0,-t+tt,1+t*tt,0],[-t-tt,0,0,1-t*tt]],dtype=complex)\n",
    "    Shatg = np.array([[1,0,0,0],[0,0,1,0],[0,1,0,0],[0,0,0,-1]],dtype=complex)\n",
    "    f = -(1j/4)*A*(2*np.cosh(T/2)+2*np.cosh(G/2))*(1/np.sinh(T/2))*(1/np.cosh(T/2))\n",
    "    Shat = f*Shatf+Shatg\n",
    "    Nalpha = 1+2*A**(2)*(np.cosh(T)/np.sinh(T))*(1/np.sinh(T))+2*A**(2)*np.cosh(G)*(1/np.sinh(T))**(2)\n",
    "    Shat = (-1/np.sqrt(Nalpha))*Shat    #\n",
    "    return Shat\n",
    "\n",
    "def K(T):\n",
    "    \n",
    "    K2 = Ur = np.zeros((2,2), dtype=complex)\n",
    "    \n",
    "    coef1 = np.cos(np.pi/4 + 1j*T/2)\n",
    "    coef2 = np.cos(np.pi/4 - 1j*T/2)\n",
    "    \n",
    "    K2[0,0]=coef1\n",
    "    K2[1,1]=coef2\n",
    "    K2 = 1/np.sqrt(np.cosh(T)/2)*K2      #\n",
    "    \n",
    "    return K2\n",
    "\n",
    "\n",
    "def Na(A,T,G):\n",
    "    return 1+2*A**(2)*(np.cosh(T)/np.sinh(T))*(1/np.sinh(T))+2*A**(2)*np.cosh(G)*(1/np.sinh(T))**(2)\n",
    "\n",
    "def Nk(T):\n",
    "    return (np.cosh(T/2))/2\n",
    "\n",
    "basis_gates=['ecr', 'id', 'rz', 'sx', 'x']"
   ]
  },
  {
   "cell_type": "code",
   "execution_count": 3,
   "id": "0eb28e9b",
   "metadata": {},
   "outputs": [],
   "source": [
    "def x(t):\n",
    "    return np.exp(t/4)\n",
    "\n",
    "def y(g):\n",
    "    return np.exp(g/4)\n",
    "\n",
    "def Qplus(t,g):\n",
    "    Ql12 = x(t)*y(g)*X(1,4)+(1/(x(t)*y(g)))*Z(1,4)@X(2,4)\n",
    "    Ql34 = x(t)*y(g)*Z(1,4)@Z(2,4)@X(3,4)+(1/(x(t)*y(g)))*Z(1,4)@Z(2,4)@Z(3,4)@X(4,4)\n",
    "    return Ql12+Ql34\n",
    "\n",
    "def Qminus(t,g):\n",
    "    Qr12 = (y(g)/x(t))*Y(1,4)+(x(t)/y(g))*Z(1,4)@Y(2,4)\n",
    "    Qr34 = (y(g)/x(t))*Z(1,4)@Z(2,4)@Y(3,4)+(x(t)/y(g))*Z(1,4)@Z(2,4)@Z(3,4)@Y(4,4)\n",
    "    return Qr12+Qr34\n",
    "\n",
    "def X(n,L):\n",
    "    X = np.array([[0,1],[1,0]])\n",
    "    return (np.kron(np.eye(2**(n-1)),np.kron(X,np.eye(2**(L-n)))))\n",
    "def Y(n,L):\n",
    "    Y = np.array([[0,-1j],[1j,0]])\n",
    "    return (np.kron(np.eye(2**(n-1)),np.kron(Y,np.eye(2**(L-n)))))    \n",
    "def Z(n,L):\n",
    "    Z = np.array([[1,0],[0,-1]])\n",
    "    return (np.kron(np.eye(2**(n-1)),np.kron(Z,np.eye(2**(L-n)))))    "
   ]
  },
  {
   "cell_type": "code",
   "execution_count": 9,
   "id": "2a88fee4",
   "metadata": {},
   "outputs": [
    {
     "data": {
      "text/plain": [
       "OrderedDict([('rz', 320),\n",
       "             ('sx', 220),\n",
       "             ('ecr', 64),\n",
       "             ('x', 12),\n",
       "             ('barrier', 3),\n",
       "             ('measure', 1)])"
      ]
     },
     "execution_count": 9,
     "metadata": {},
     "output_type": "execute_result"
    }
   ],
   "source": [
    "n=4;A=1;G=1;T=1\n",
    "\n",
    "qa = QuantumRegister(4, name='qa')\n",
    "qb = QuantumRegister(4, name='qb')\n",
    "anc = QuantumRegister(1, name='ancilla')\n",
    "c = ClassicalRegister(1, name='c')\n",
    "qc = QuantumCircuit(qa, qb,anc,c)\n",
    "qc.h(8)\n",
    "qc.barrier(range(2*n+1))\n",
    "l=0\n",
    "\n",
    "\n",
    "#local gate way (MUCH CHEAPER IN TRANSPILATION), first half\n",
    "qc.unitary(Shat(A,T,G),[0,1],label='S12')\n",
    "qc.unitary(Shat(A,T,G),[2,3],label='S34')\n",
    "qc.unitary(K(-T/2),[0],label=r'$K(-\\theta/2)$')\n",
    "qc.unitary(Shat(A,T,G),[1,2],label='S23')\n",
    "qc.unitary(K(T/2),[3],label=r'$K(\\theta/2)$')\n",
    "qc.unitary(Shat(A,T,0),[0,1],label='S12')\n",
    "qc.unitary(Shat(A,T,0),[2,3],label='S34')\n",
    "qc.unitary(K(-T/2),[0],label=r'$K(-\\theta/2)$')\n",
    "qc.unitary(Shat(A,T,-G),[1,2],label='S23')\n",
    "qc.unitary(K(T/2),[3],label=r'$K(\\theta/2)$')\n",
    "qc.unitary(Shat(A,T,-G),[0,1],label='S12')\n",
    "qc.unitary(Shat(A,T,-G),[2,3],label='S34')\n",
    "qc.unitary(K(-T/2),[0],label=r'$K(-\\theta/2)$')\n",
    "qc.unitary(Shat(A,T,-G),[1,2],label='S23')\n",
    "qc.unitary(K(T/2),[3],label=r'$K(\\theta/2)$')\n",
    "qc.unitary(Shat(A,T,0),[0,1],label='S12')\n",
    "qc.unitary(Shat(A,T,0),[2,3],label='S34')\n",
    "qc.unitary(K(-T/2),[0],label=r'$K(-\\theta/2)$')\n",
    "qc.unitary(Shat(A,T,G),[1,2],label='S23')\n",
    "qc.unitary(K(T/2),[3],label=r'$K(\\theta/2)$')\n",
    "#second half\n",
    "qc.unitary(Shat(A,T,G),[4,5],label='S12B')\n",
    "qc.unitary(Shat(A,T,G),[6,7],label='S34B')\n",
    "qc.unitary(K(-T/2),[4],label=r'$K(-\\theta/2)B$')\n",
    "qc.unitary(Shat(A,T,G),[5,6],label='S23B')\n",
    "qc.unitary(K(T/2),[7],label=r'$K(\\theta/2)B$')\n",
    "qc.unitary(Shat(A,T,0),[4,5],label='S12B')\n",
    "qc.unitary(Shat(A,T,0),[6,7],label='S34B')\n",
    "qc.unitary(K(-T/2),[4],label=r'$K(-\\theta/2)B$')\n",
    "qc.unitary(Shat(A,T,-G),[5,6],label='S23B')\n",
    "qc.unitary(K(T/2),[7],label=r'$K(\\theta/2)B$')\n",
    "qc.unitary(Shat(A,T,-G),[4,5],label='S12B')\n",
    "qc.unitary(Shat(A,T,-G),[6,7],label='S34B')\n",
    "qc.unitary(K(-T/2),[4],label=r'$K(-\\theta/2)B$')\n",
    "qc.unitary(Shat(A,T,-G),[5,6],label='S23B')\n",
    "qc.unitary(K(T/2),[7],label=r'$K(\\theta/2)B$')\n",
    "qc.unitary(Shat(A,T,0),[4,5],label='S12B')\n",
    "qc.unitary(Shat(A,T,0),[6,7],label='S34B')\n",
    "qc.unitary(K(-T/2),[4],label=r'$K(-\\theta/2)B$')\n",
    "qc.unitary(Shat(A,T,G),[5,6],label='S23B')\n",
    "qc.unitary(K(T/2),[7],label=r'$K(\\theta/2)B$')\n",
    "qc.barrier(range(2*n+1))\n",
    "\n",
    "\n",
    "\n",
    "op = Operator(qc)\n",
    "op=op.data\n",
    "qc.cswap(8,0,4)\n",
    "qc.cswap(8,1,5)\n",
    "qc.barrier(range(2*n+1))\n",
    "qc.h(8)\n",
    "qc.measure(8,0)\n",
    "qc = transpile(qc, basis_gates=basis_gates, optimization_level=1)\n",
    "qc.draw(output='mpl')\n",
    "qc.count_ops()"
   ]
  },
  {
   "cell_type": "code",
   "execution_count": 10,
   "id": "6a278959",
   "metadata": {},
   "outputs": [
    {
     "name": "stdout",
     "output_type": "stream",
     "text": [
      "2.090352\n"
     ]
    }
   ],
   "source": [
    "N1=320+220+12\n",
    "N2=64\n",
    "Nr=1\n",
    "datapoints=len(np.arange(0.1,3.8,0.05))\n",
    "shots = 16e3\n",
    "one_time=150e-9\n",
    "two_time=350e-9\n",
    "readout=730e-9\n",
    "\n",
    "\n",
    "estimated_time=(one_time*N1+two_time*N2+readout*Nr)*datapoints*shots\n",
    "print(estimated_time/60)"
   ]
  },
  {
   "cell_type": "code",
   "execution_count": 12,
   "id": "55e314f0-c2d4-4ec6-a835-4624f4f45e1e",
   "metadata": {},
   "outputs": [
    {
     "name": "stdout",
     "output_type": "stream",
     "text": [
      "74\n"
     ]
    }
   ],
   "source": [
    "print(len(np.arange(0.1,3.8,0.05)))"
   ]
  },
  {
   "cell_type": "code",
   "execution_count": 76,
   "id": "52bc49a2",
   "metadata": {},
   "outputs": [
    {
     "data": {
      "text/plain": [
       "True"
      ]
     },
     "execution_count": 76,
     "metadata": {},
     "output_type": "execute_result"
    }
   ],
   "source": [
    "np.allclose(np.linalg.inv(matrix)@matrix,np.eye(16))\n",
    "#matrix.shape"
   ]
  },
  {
   "cell_type": "code",
   "execution_count": 90,
   "id": "9888ed28",
   "metadata": {},
   "outputs": [
    {
     "name": "stdout",
     "output_type": "stream",
     "text": [
      "Qtot is True\n"
     ]
    }
   ],
   "source": [
    "#check susy->the UBW commutes with the total supercharge\n",
    "t,g=1,1\n",
    "\n",
    "print('Qtot is',np.allclose(matrix@(Qplus(T,G)+Qminus(T,G)),(Qplus(T,G)+Qminus(T,G))@(matrix)))"
   ]
  },
  {
   "cell_type": "code",
   "execution_count": null,
   "id": "581e3b68",
   "metadata": {},
   "outputs": [],
   "source": [
    "######EXECUTION########\n",
    "#specify the credentials when initializing QiskitRuntimeService, if they are not previously saved\n",
    "service = QiskitRuntimeService(channel=\"ibm_quantum\")\n",
    "backend = service.backend(\"ibmq_qasm_simulator\")\n",
    "\n",
    "with Session(service, backend=backend) as session:\n",
    "    sampler = Sampler(session=session)\n",
    "    job = sampler.run(qc, shots=16000)\n",
    "    result = job.result()\n",
    "renyi[k]=-np.log(result.quasi_dists[0][0]-result.quasi_dists[0][1]) \n",
    "print(k,T,renyi[k])"
   ]
  },
  {
   "cell_type": "code",
   "execution_count": null,
   "id": "953285b0",
   "metadata": {},
   "outputs": [],
   "source": []
  }
 ],
 "metadata": {
  "kernelspec": {
   "display_name": "Python 3 (ipykernel)",
   "language": "python",
   "name": "python3"
  },
  "language_info": {
   "codemirror_mode": {
    "name": "ipython",
    "version": 3
   },
   "file_extension": ".py",
   "mimetype": "text/x-python",
   "name": "python",
   "nbconvert_exporter": "python",
   "pygments_lexer": "ipython3",
   "version": "3.10.6"
  }
 },
 "nbformat": 4,
 "nbformat_minor": 5
}
