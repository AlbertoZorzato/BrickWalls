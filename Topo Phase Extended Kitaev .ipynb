{
 "cells": [
  {
   "cell_type": "code",
   "execution_count": 5,
   "id": "b5e9adeb",
   "metadata": {},
   "outputs": [],
   "source": [
    "import numpy as np \n",
    "import matplotlib.pyplot as plt \n",
    "import matplotlib.patches as mpatches\n",
    "import matplotlib.colors as colors\n",
    "import scipy.sparse.linalg as sla\n",
    "from scipy.linalg import eig\n",
    "from tqdm import tqdm\n",
    "import pickle \n"
   ]
  },
  {
   "cell_type": "code",
   "execution_count": 6,
   "id": "d5d45bf3",
   "metadata": {
    "slideshow": {
     "slide_type": "-"
    }
   },
   "outputs": [],
   "source": [
    "#define z and w \n",
    "\n",
    "def z(k,t,e,t3):\n",
    "    z=-t*(1+e)-t*(1-e)*np.exp(-1j*k)+t3*np.exp(1j*k)\n",
    "    return(z)\n",
    "#removed d3 dependence because it's fixed to 0\n",
    "def w(k,d,e):\n",
    "    w=-d*(1+e)+d*(1-e)*np.exp(-1j*k)\n",
    "    return(w)"
   ]
  },
  {
   "cell_type": "code",
   "execution_count": 7,
   "id": "393f16cb",
   "metadata": {},
   "outputs": [],
   "source": [
    "#Define Hamiltonian\n",
    "\n",
    "def H(k,t,e,t3,d,m):\n",
    "    \n",
    "    \n",
    "    H = np.zeros((4,4), dtype=complex)\n",
    "    H[0,0]=-m\n",
    "    H[0,1]=z(k,t,e,t3)\n",
    "    H[0,2]=0\n",
    "    H[0,3]=w(k,d,e)\n",
    "    H[1,0]=np.conj(z(k,t,e,t3))\n",
    "    H[1,1]=-m\n",
    "    H[1,2]=-np.conj(w(k,d,e))\n",
    "    H[1,3]=0\n",
    "    H[2,0]=0\n",
    "    H[2,1]=-w(k,d,e)\n",
    "    H[2,2]=m\n",
    "    H[2,3]=-z(k,t,e,t3)\n",
    "    H[3,0]=np.conj(w(k,d,e))\n",
    "    H[3,1]=0\n",
    "    H[3,2]=-np.conj(z(k,t,e,t3))\n",
    "    H[3,3]=m\n",
    "    \n",
    "    return(H)\n",
    "\n",
    "def magical(k,t,e,t3,d,m):\n",
    "    #magic Unitary\n",
    "    #U = np.array([[1,1],[1j,-1j]], dtype='complex128')\n",
    "    #U = np.kron(U,np.eye(2))\n",
    "    #magic = (1/2)*(U@U)\n",
    "    #our one doesn't work we use the rotation found in literature\n",
    "    U = np.array([[1,1],[-1j,1j]], dtype='complex128')\n",
    "    magic = (1/np.sqrt(2))*np.kron(U,np.eye(2))\n",
    "    return (magic@H(k,t,e,t3,d,m)@magic.conj().T)[:2, 2:]\n",
    "\n",
    "id=np.array([[1,0],[0,1]])\n",
    "sigma_x=np.array([[0,1],[1,0]])\n",
    "sigma_z=np.array([[1,0],[0,-1]])"
   ]
  },
  {
   "cell_type": "code",
   "execution_count": 8,
   "id": "958bcdd1",
   "metadata": {
    "collapsed": true
   },
   "outputs": [
    {
     "ename": "NameError",
     "evalue": "name 'magic' is not defined",
     "output_type": "error",
     "traceback": [
      "\u001b[0;31m---------------------------------------------------------------------------\u001b[0m",
      "\u001b[0;31mNameError\u001b[0m                                 Traceback (most recent call last)",
      "Cell \u001b[0;32mIn[8], line 1\u001b[0m\n\u001b[0;32m----> 1\u001b[0m np\u001b[38;5;241m.\u001b[39mallclose((\u001b[43mmagic\u001b[49m\u001b[38;5;129m@H\u001b[39m(\u001b[38;5;241m1\u001b[39m,\u001b[38;5;241m1\u001b[39m,\u001b[38;5;241m1\u001b[39m,\u001b[38;5;241m1\u001b[39m,\u001b[38;5;241m1\u001b[39m,\u001b[38;5;241m1\u001b[39m)\u001b[38;5;129m@magic\u001b[39m\u001b[38;5;241m.\u001b[39mconj()\u001b[38;5;241m.\u001b[39mT)[:\u001b[38;5;241m2\u001b[39m, \u001b[38;5;241m2\u001b[39m:],(magic\u001b[38;5;129m@H\u001b[39m(\u001b[38;5;241m1\u001b[39m,\u001b[38;5;241m1\u001b[39m,\u001b[38;5;241m1\u001b[39m,\u001b[38;5;241m1\u001b[39m,\u001b[38;5;241m1\u001b[39m,\u001b[38;5;241m1\u001b[39m)\u001b[38;5;129m@magic\u001b[39m\u001b[38;5;241m.\u001b[39mconj()\u001b[38;5;241m.\u001b[39mT)[\u001b[38;5;241m2\u001b[39m:, :\u001b[38;5;241m2\u001b[39m]\u001b[38;5;241m.\u001b[39mconj()\u001b[38;5;241m.\u001b[39mT)\n",
      "\u001b[0;31mNameError\u001b[0m: name 'magic' is not defined"
     ]
    }
   ],
   "source": [
    "np.allclose((magic@H(1,1,1,1,1,1)@magic.conj().T)[:2, 2:],(magic@H(1,1,1,1,1,1)@magic.conj().T)[2:, :2].conj().T)"
   ]
  },
  {
   "cell_type": "code",
   "execution_count": 22,
   "id": "ee317f76",
   "metadata": {},
   "outputs": [
    {
     "name": "stdout",
     "output_type": "stream",
     "text": [
      "[[0 0 1 0]\n",
      " [0 0 0 1]\n",
      " [1 0 0 0]\n",
      " [0 1 0 0]]\n"
     ]
    }
   ],
   "source": [
    "#symmetry operator\n",
    "id=np.array([[1,0],[0,1]])\n",
    "sigma_x=np.array([[0,1],[1,0]])\n",
    "\n",
    "C2= np.kron(sigma_x,id)\n",
    "sigma_z=np.array([[1,0],[0,-1]])\n",
    "C2idsig= np.kron(id,sigma_x)\n",
    "sigma_z=np.array([[1,0],[0,-1]])\n",
    "\n",
    "C1= np.kron(id,sigma_z)\n",
    "print(C2)"
   ]
  },
  {
   "cell_type": "code",
   "execution_count": 11,
   "id": "417d9e57",
   "metadata": {},
   "outputs": [
    {
     "data": {
      "text/plain": [
       "array([[0.+0.j, 0.+0.j, 0.+0.j, 0.+0.j],\n",
       "       [0.+0.j, 0.+0.j, 0.+0.j, 0.+0.j],\n",
       "       [0.+0.j, 0.+0.j, 0.+0.j, 0.+0.j],\n",
       "       [0.+0.j, 0.+0.j, 0.+0.j, 0.+0.j]])"
      ]
     },
     "execution_count": 11,
     "metadata": {},
     "output_type": "execute_result"
    }
   ],
   "source": [
    "#check commutation, we discover that differently from what they say in paper it's actually sigma_x\\bigo\\id\n",
    "C2@np.conj(H(1,1,1,1,1,1))@C2+H(-1,1,1,1,1,1)"
   ]
  },
  {
   "cell_type": "code",
   "execution_count": 25,
   "id": "c121a643",
   "metadata": {},
   "outputs": [
    {
     "name": "stderr",
     "output_type": "stream",
     "text": [
      "100%|███████████████████████████████████████████████████████████████████████████████████| 20/20 [00:04<00:00,  4.34it/s]\n"
     ]
    }
   ],
   "source": [
    "\n",
    "#original formula on H(k,t,e,t3,d,m), looping over e and t3\n",
    "\n",
    "#parameters definition H(k,1,e,t3,0.2,0)\n",
    "\n",
    "par_res=0.1\n",
    "k_res=0.12\n",
    "e_range = np.arange(-.99, 0.99, par_res)\n",
    "t_range = np.arange(-3, 3, par_res)\n",
    "k_range = np.arange(-np.pi, np.pi, k_res)\n",
    "d=0.2\n",
    "\n",
    "A_kit1 = np.zeros((len(e_range),len(t_range)), dtype='c16')\n",
    "\n",
    "for m,e in enumerate(tqdm(e_range)):\n",
    "    \n",
    "    for n,t3 in enumerate(t_range):\n",
    "        \n",
    "        v=np.zeros(len(k_range),dtype='c16')\n",
    "        \n",
    "        for i,k in enumerate(k_range):\n",
    "            \n",
    "            \n",
    "            inv = (np.linalg.inv(H(k,1,e,t3,d,0)))\n",
    "            der = (1/(2*k_res))*(H(k+(k_res),1,e,t3,d,0)-H(k-(k_res),1,e,t3,d,0))\n",
    "            temp = (C2@inv@der)\n",
    "            v[i]= np.trace(temp)\n",
    "           \n",
    "        v_tot=(k_res)*(1/(4*np.pi*1j))*np.sum(v,axis=0) \n",
    "   \n",
    "        A_kit1[m,n]=v_tot"
   ]
  },
  {
   "cell_type": "code",
   "execution_count": 26,
   "id": "386a21d5",
   "metadata": {},
   "outputs": [],
   "source": [
    "import scipy\n",
    "from scipy.integrate import quad\n",
    "def integrand(k,t,e,t3,d,m):\n",
    "    k_res=0.001\n",
    "    inv = (np.linalg.inv(magical(k,t,e,t3,d,m)))\n",
    "    der = (1/(2*k_res))*(magical(k+k_res,t,e,t3,d,m)-magical(k-k_res,t,e,t3,d,m))\n",
    "    temp = (inv@der)\n",
    "    return np.trace(temp)\n",
    "\n",
    "def complex_quadrature(func, a, b, **kwargs):\n",
    "    def real_func(x):\n",
    "        return np.real(func(x))\n",
    "    def imag_func(x):\n",
    "        return np.imag(func(x))\n",
    "    real_integral = quad(real_func, a, b)\n",
    "    imag_integral = quad(imag_func, a, b)\n",
    "    return((real_integral[0] + 1j*imag_integral[0]))\n"
   ]
  },
  {
   "cell_type": "code",
   "execution_count": 17,
   "id": "ac5b15e3",
   "metadata": {},
   "outputs": [
    {
     "name": "stderr",
     "output_type": "stream",
     "text": [
      "100%|███████████████████████████████████████████████████████████████████████████████████| 20/20 [01:07<00:00,  3.39s/it]\n"
     ]
    }
   ],
   "source": [
    "#WORKING ONE -variation with integrator and chiral index method \n",
    "\n",
    "\n",
    "#original formula on H(k,t,e,t3,d,m), looping over e and t3\n",
    "\n",
    "#parameters definition H(k,1,e,t3,0.2,0)\n",
    "\n",
    "par_res=0.1\n",
    "k_res=0.1\n",
    "e_range = np.arange(-.99, 0.99, par_res)\n",
    "t_range = np.arange(-3, 3, par_res)\n",
    "k_range = np.arange(-np.pi, np.pi, k_res)\n",
    "d=0.2\n",
    "\n",
    "A_kit = np.zeros((len(e_range),len(t_range)), dtype='c16')\n",
    "\n",
    "for m,e in enumerate(tqdm(e_range)):\n",
    "    \n",
    "    for n,t3 in enumerate(t_range):\n",
    "        \n",
    "        v_tot=complex_quadrature(lambda k: integrand(k,1,e,t3,d,0),-np.pi,np.pi)\n",
    "           \n",
    "        v_tot=(1/(2*np.pi*1j))*v_tot \n",
    "   \n",
    "        A_kit[m,n]=v_tot"
   ]
  },
  {
   "cell_type": "code",
   "execution_count": 27,
   "id": "7ac7f89c",
   "metadata": {},
   "outputs": [
    {
     "data": {
      "text/plain": [
       "Text(0.5, 0, '$\\\\frac{t_{3}}{t}$')"
      ]
     },
     "execution_count": 27,
     "metadata": {},
     "output_type": "execute_result"
    },
    {
     "data": {
      "image/png": "[encoded data removed]",
      "text/plain": [
       "<Figure size 640x480 with 2 Axes>"
      ]
     },
     "metadata": {},
     "output_type": "display_data"
    }
   ],
   "source": [
    "#boxplot, resolution is bad and parameter resolution is not good also \n",
    "x,y = t_range,e_range          #Transposed for easier unpacking\n",
    "grid=np.real(np.flipud(A_kit1))\n",
    "\n",
    "# Create a new figure and add a subplot\n",
    "fig, ax = plt.subplots()\n",
    "\n",
    "\n",
    "cax= plt.imshow(grid, extent=(x.min(), x.max(), y.min(), y.max()), aspect='auto',\n",
    "           interpolation='nearest',cmap='tab10')\n",
    "#,vmin=,vmax=\n",
    "fig.colorbar(cax)\n",
    "#pixel_plot = plt.imshow(\n",
    "#  np.real(data), cmap='twilight', interpolation='none')\n",
    "plt.ylabel(r'$\\eta$')  \n",
    "plt.xlabel(r'$\\frac{t_{3}}{t}$')\n",
    "\n",
    "  "
   ]
  },
  {
   "cell_type": "code",
   "execution_count": 86,
   "id": "cfee7f6a",
   "metadata": {},
   "outputs": [
    {
     "name": "stdout",
     "output_type": "stream",
     "text": [
      "(10, 30) [ 2.0026061 +0.j  0.97362788+0.j  0.99914123+0.j  0.99966904+0.j\n",
      "  0.99982512+0.j -0.99968798-0.j -1.00006817-0.j -1.00004551-0.j\n",
      " -1.00003062-0.j -1.00002026-0.j]\n"
     ]
    }
   ],
   "source": [
    "#check A\n",
    "F = A_kit[A_kit.real>1e-10]\n",
    "print(np.shape(A_kit),A_kit[:,25])"
   ]
  },
  {
   "cell_type": "code",
   "execution_count": 88,
   "id": "f19ecb8b",
   "metadata": {},
   "outputs": [
    {
     "data": {
      "text/plain": [
       "Text(0.5, 0, '$\\\\frac{t_{3}}{t}$')"
      ]
     },
     "execution_count": 88,
     "metadata": {},
     "output_type": "execute_result"
    },
    {
     "data": {
      "image/png": "[encoded data removed]",
      "text/plain": [
       "<Figure size 640x480 with 2 Axes>"
      ]
     },
     "metadata": {},
     "output_type": "display_data"
    }
   ],
   "source": [
    "#boxplot, resolution is bad and parameter resolution is not good also \n",
    "x,y = t_range,e_range          #Transposed for easier unpacking\n",
    "grid=np.real(np.flipud(A_kit))\n",
    "\n",
    "# Create a new figure and add a subplot\n",
    "fig, ax = plt.subplots()\n",
    "\n",
    "\n",
    "cax= plt.imshow(grid, extent=(x.min(), x.max(), y.min(), y.max()), aspect='auto',\n",
    "           interpolation='nearest',cmap='tab10')\n",
    "#,vmin=,vmax=\n",
    "fig.colorbar(cax)\n",
    "#pixel_plot = plt.imshow(\n",
    "#  np.real(data), cmap='twilight', interpolation='none')\n",
    "plt.ylabel(r'$\\eta$')  \n",
    "plt.xlabel(r'$\\frac{t_{3}}{t}$')\n",
    "\n",
    "  "
   ]
  },
  {
   "cell_type": "code",
   "execution_count": 14,
   "id": "a0d917e1",
   "metadata": {},
   "outputs": [
    {
     "data": {
      "text/plain": [
       "Text(0.5, 0, '$\\\\frac{t_{3}}{t}$')"
      ]
     },
     "execution_count": 14,
     "metadata": {},
     "output_type": "execute_result"
    },
    {
     "data": {
      "image/png": "[encoded data removed]",
      "text/plain": [
       "<Figure size 640x480 with 2 Axes>"
      ]
     },
     "metadata": {},
     "output_type": "display_data"
    }
   ],
   "source": [
    "#boxplot, resolution is bad and parameter resolution is not good also \n",
    "x,y = t_range,e_range          #Transposed for easier unpacking\n",
    "grid=np.real(np.flipud(A_kit))\n",
    "\n",
    "# Create a new figure and add a subplot\n",
    "fig, ax = plt.subplots()\n",
    "\n",
    "\n",
    "cax= plt.imshow(grid, extent=(x.min(), x.max(), y.min(), y.max()), aspect='auto',\n",
    "           interpolation='nearest',cmap='tab10')\n",
    "#,vmin=,vmax=\n",
    "fig.colorbar(cax)\n",
    "#pixel_plot = plt.imshow(\n",
    "#  np.real(data), cmap='twilight', interpolation='none')\n",
    "plt.ylabel(r'$\\eta$')  \n",
    "plt.xlabel(r'$\\frac{t_{3}}{t}$')\n",
    "\n",
    "  "
   ]
  },
  {
   "cell_type": "code",
   "execution_count": 15,
   "id": "71dd1985",
   "metadata": {},
   "outputs": [
    {
     "name": "stdout",
     "output_type": "stream",
     "text": [
      "[-1.07561844e+00-0.j -1.60694406e+00-0.j -2.59273891e+00-0.j\n",
      " -4.71283846e+00-0.j -1.05862315e+01-0.j -3.87756255e+01-0.j\n",
      " -1.79751166e+03-0.j -5.80458148e+01-0.j -1.30518812e+01-0.j\n",
      " -5.46131217e+00-0.j -2.92393107e+00-0.j -1.79173923e+00-0.j\n",
      " -1.19788306e+00-0.j -8.52537115e-01-0.j -6.37023356e-01-0.j\n",
      " -4.95692167e-01-0.j -3.99797089e-01-0.j -3.33390433e-01-0.j\n",
      " -2.87151282e-01-0.j -2.55441483e-01-0.j -2.34807928e-01-0.j\n",
      " -2.23188091e-01-0.j -2.19486044e-01-0.j -2.23364152e-01-0.j\n",
      " -2.35181559e-01-0.j -2.56060200e-01-0.j -2.88099169e-01-0.j\n",
      " -3.34808692e-01-0.j -4.01923206e-01-0.j -4.98936905e-01-0.j\n",
      " -6.42130898e-01-0.j -8.60945046e-01-0.j -1.21261842e+00-0.j\n",
      " -1.81997413e+00-0.j -2.98579680e+00-0.j -5.63037870e+00-0.j\n",
      " -1.37598106e+01-0.j -6.74178800e+01-0.j -1.64699182e+03-0.j\n",
      " -1.72925964e+03-0.j -4.23251912e+01-0.j -1.11314652e+01-0.j\n",
      " -4.88699798e+00-0.j -2.66905604e+00-0.j -1.64686047e+00-0.j\n",
      " -7.00495835e-01-0.j -9.84864346e-01-0.j -1.45701360e+00-0.j\n",
      " -2.31521953e+00-0.j -4.10027497e+00-0.j -8.74636734e+00-0.j\n",
      " -2.78391225e+01-0.j -4.32409944e+02-0.j -2.48263879e+03-0.j\n",
      " -3.91319433e+01-0.j -1.06277071e+01-0.j -4.73439296e+00-0.j\n",
      " -2.61535290e+00-0.j -1.63412968e+00-0.j -1.10825582e+00-0.j\n",
      " -7.98485527e-01-0.j -6.03868334e-01-0.j -4.76106593e-01-0.j\n",
      " -3.89923012e-01-0.j -3.31204273e-01-0.j -2.91723813e-01-0.j\n",
      " -2.66601513e-01-0.j -2.53017057e-01-0.j -2.49553254e-01-0.j\n",
      " -2.55895431e-01-0.j -2.72774906e-01-0.j -3.02139306e-01-0.j\n",
      " -3.47619057e-01-0.j -4.15491288e-01-0.j -5.16618315e-01-0.j\n",
      " -6.70519294e-01-0.j -9.14645785e-01-0.j -1.32812162e+00-0.j\n",
      " -2.10335932e+00-0.j -3.82217482e+00-0.j -9.06455841e+00-0.j\n",
      " -4.61916751e+01-0.j -1.18445462e+02-0.j -7.62489971e+02-0.j\n",
      " -1.25592855e+02-0.j -1.40199531e+01-0.j -5.22459927e+00-0.j\n",
      " -2.69513777e+00-0.j -1.62042177e+00-0.j -1.06654678e+00-0.j\n",
      " -4.78567239e-01-0.j -6.44863189e-01-0.j -9.01267452e-01-0.j\n",
      " -1.32171999e+00-0.j -2.07192395e+00-0.j -3.58661718e+00-0.j\n",
      " -7.32216339e+00-0.j -2.08792264e+01-0.j -1.76571052e+02-0.j\n",
      " -4.68338661e+02-0.j -2.81945344e+01-0.j -8.83948059e+00-0.j\n",
      " -4.15606304e+00-0.j -2.36369329e+00-0.j -1.50622497e+00-0.j\n",
      " -1.03802728e+00-0.j -7.59486198e-01-0.j -5.84063401e-01-0.j\n",
      " -4.69640490e-01-0.j -3.93991630e-01-0.j -3.44757767e-01-0.j\n",
      " -3.14937117e-01-0.j -3.00736097e-01-0.j -3.00554507e-01-0.j\n",
      " -3.14612883e-01-0.j -3.45066986e-01-0.j -3.96685635e-01-0.j\n",
      " -4.78472148e-01-0.j -6.07266282e-01-0.j -8.16171602e-01-0.j\n",
      " -1.17654662e+00-0.j -1.86555924e+00-0.j -3.43126018e+00-0.j\n",
      " -8.36046233e+00-0.j -4.44437412e+01-0.j -3.28258094e+00-0.j\n",
      " -3.12874980e+01-0.j -7.84270205e+02-0.j -1.26787475e+01-0.j\n",
      " -3.56252176e+01-0.j -7.78978192e+00-0.j -3.33594689e+00-0.j\n",
      " -1.83124377e+00-0.j -1.14388771e+00-0.j -7.73732219e-01-0.j\n",
      " -3.37895490e-01-0.j -4.41274671e-01-0.j -5.92465767e-01-0.j\n",
      " -8.23738042e-01-0.j -1.19873969e+00-0.j -1.85678324e+00-0.j\n",
      " -3.15070913e+00-0.j -6.19589943e+00-0.j -1.61799378e+01-0.j\n",
      " -9.39336733e+01-0.j -1.84686636e+02-0.j -2.13716715e+01-0.j\n",
      " -7.50707920e+00-0.j -3.70328495e+00-0.j -2.16727460e+00-0.j\n",
      " -1.41139133e+00-0.j -9.92513258e-01-0.j -7.42221366e-01-0.j\n",
      " -5.85795475e-01-0.j -4.86484359e-01-0.j -4.25039355e-01-0.j\n",
      " -3.91253170e-01-0.j -3.80245055e-01-0.j -3.90945848e-01-0.j\n",
      " -4.25915013e-01-0.j -4.92458298e-01-0.j -6.05879454e-01-0.j\n",
      " -7.97580532e-01-0.j -1.13660333e+00-0.j -1.79627744e+00-0.j\n",
      " -3.31651429e+00-0.j -8.15533026e+00-0.j -4.37155053e+01-0.j\n",
      " -1.76308771e-01-0.j -6.49996525e+00-0.j -3.46352675e+02-0.j\n",
      " -7.58844594e+02-0.j -9.42546107e+00-0.j -3.60598525e+02-0.j\n",
      " -1.61337596e+01-0.j -4.93660763e+00-0.j -2.33089929e+00-0.j\n",
      " -1.33659081e+00-0.j -8.55940155e-01-0.j -5.88710093e-01-0.j\n",
      " -2.43937579e-01-0.j -3.11050626e-01-0.j -4.05402525e-01-0.j\n",
      " -5.42692412e-01-0.j -7.51227991e-01-0.j -1.08598957e+00-0.j\n",
      " -1.66474552e+00-0.j -2.77638132e+00-0.j -5.28814862e+00-0.j\n",
      " -1.28575021e+01-0.j -5.78477590e+01-0.j -9.87246424e+01-0.j\n",
      " -1.69088314e+01-0.j -6.52360968e+00-0.j -3.36662048e+00-0.j\n",
      " -2.03177567e+00-0.j -1.35967624e+00-0.j -9.84445754e-01-0.j\n",
      " -7.62432218e-01-0.j -6.29030171e-01-0.j -5.52933349e-01-0.j\n",
      " -5.19153834e-01-0.j -5.22417238e-01-0.j -5.65350193e-01-0.j\n",
      " -6.60283495e-01-0.j -8.36572459e-01-0.j -1.16164510e+00-0.j\n",
      " -1.80713043e+00-0.j -3.30955082e+00-0.j -8.10883746e+00-0.j\n",
      " -4.32425350e+01-0.j -8.22416179e+02-0.j -7.82978655e+01-0.j\n",
      " -5.89879433e+01-0.j -8.92395610e+00-0.j -3.33076220e+00-0.j\n",
      " -1.68916382e+00-0.j -1.00202530e+00-0.j -6.54081266e-01-0.j\n",
      " -4.55441853e-01-0.j -1.78478247e-01-0.j -2.23389618e-01-0.j\n",
      " -2.84638053e-01-0.j -3.70483853e-01-0.j -4.94865221e-01-0.j\n",
      " -6.82655309e-01-0.j -9.81490479e-01-0.j -1.49142204e+00-0.j\n",
      " -2.45087471e+00-0.j -4.54341237e+00-0.j -1.04193356e+01-0.j\n",
      " -3.90232187e+01-0.j -2.22792156e+03-0.j -6.23400020e+01-0.j\n",
      " -1.39386144e+01-0.j -5.83609622e+00-0.j -3.15491136e+00-0.j\n",
      " -1.97768003e+00-0.j -1.37732529e+00-0.j -1.04665557e+00-0.j\n",
      " -8.62855126e-01-0.j -7.72407963e-01-0.j -7.54144292e-01-0.j\n",
      " -8.07774285e-01-0.j -9.55608996e-01-0.j -1.26104383e+00-0.j\n",
      " -1.89338187e+00-0.j -3.38711112e+00-0.j -8.16973415e+00-0.j\n",
      " -4.29341171e+01-0.j -8.22526272e+02-0.j -2.10903160e+01-0.j\n",
      " -1.04537971e+01-0.j -2.41730136e+01-0.j -2.81583065e+03-0.j\n",
      " -1.51154939e+03-0.j -2.21157362e+01-0.j -5.45550364e+00-0.j\n",
      " -2.31354400e+00-0.j -1.23675418e+00-0.j -7.53374010e-01-0.j\n",
      " -4.99309286e-01-0.j -3.51055564e-01-0.j -1.31190682e-01-0.j\n",
      " -1.61830398e-01-0.j -2.02633316e-01-0.j -2.58202397e-01-0.j\n",
      " -3.35920011e-01-0.j -4.48157509e-01-0.j -6.16789802e-01-0.j\n",
      " -8.83188329e-01-0.j -1.33272404e+00-0.j -2.16361748e+00-0.j\n",
      " -3.92136027e+00-0.j -8.57253470e+00-0.j -2.79952218e+01-0.j\n",
      " -4.64875804e+02-0.j -3.21686756e+03-0.j -4.41264235e+01-0.j\n",
      " -1.20367739e+01-0.j -5.44956840e+00-0.j -3.11417161e+00-0.j\n",
      " -2.06499399e+00-0.j -1.54062100e+00-0.j -1.28231752e+00-0.j\n",
      " -1.19414166e+00-0.j -1.25497048e+00-0.j -1.50701494e+00-0.j\n",
      " -2.10929563e+00-0.j -3.59222550e+00-0.j -8.37727678e+00-0.j\n",
      " -4.28558582e+01-0.j -8.25376024e+02-0.j -1.92182376e+01-0.j\n",
      " -5.98169182e+00-0.j -3.80326572e+00-0.j -4.59654727e+00-0.j\n",
      " -1.14934746e+01-0.j -1.23800765e+02-0.j -1.21506366e+02-0.j\n",
      " -1.09409502e+01-0.j -3.48652186e+00-0.j -1.61005141e+00-0.j\n",
      " -8.94521521e-01-0.j -5.56126640e-01-0.j -3.73031901e-01-0.j\n",
      " -2.64307275e-01-0.j -9.58621170e-02-0.j -1.16929757e-01-0.j\n",
      " -1.44468260e-01-0.j -1.81149116e-01-0.j -2.31090472e-01-0.j\n",
      " -3.00869946e-01-0.j -4.01448171e-01-0.j -5.52055481e-01-0.j\n",
      " -7.88669087e-01-0.j -1.18438670e+00-0.j -1.90507537e+00-0.j\n",
      " -3.39098290e+00-0.j -7.13230859e+00-0.j -2.09810748e+01-0.j\n",
      " -1.85079150e+02-0.j -5.76239637e+02-0.j -3.44664360e+01-0.j\n",
      " -1.10862998e+01-0.j -5.48110587e+00-0.j -3.40258400e+00-0.j\n",
      " -2.49985374e+00-0.j -2.14640355e+00-0.j -2.17332720e+00-0.j\n",
      " -2.65495619e+00-0.j -4.08878625e+00-0.j -8.89206457e+00-0.j\n",
      " -4.32508818e+01-0.j -8.24212366e+02-0.j -1.86648376e+01-0.j\n",
      " -5.35073258e+00-0.j -2.62879715e+00-0.j -1.81247247e+00-0.j\n",
      " -1.77700421e+00-0.j -2.62034072e+00-0.j -6.19334717e+00-0.j\n",
      " -3.26897133e+01-0.j -3.26473215e+01-0.j -6.00585852e+00-0.j\n",
      " -2.21996090e+00-0.j -1.08518282e+00-0.j -6.19724852e-01-0.j\n",
      " -3.91190622e-01-0.j -2.64852743e-01-0.j -1.88831850e-01-0.j\n",
      " -6.85523920e-02-0.j -8.29332400e-02-0.j -1.01466702e-01-0.j\n",
      " -1.25741258e-01-0.j -1.58130877e-01-0.j -2.02289501e-01-0.j\n",
      " -2.64038515e-01-0.j -3.53040418e-01-0.j -4.86148924e-01-0.j\n",
      " -6.94623058e-01-0.j -1.04116160e+00-0.j -1.66527340e+00-0.j\n",
      " -2.92585397e+00-0.j -5.97361030e+00-0.j -1.62275153e+01-0.j\n",
      " -9.83374277e+01-0.j -2.51496136e+02-0.j -3.01679496e+01-0.j\n",
      " -1.14304647e+01-0.j -6.44454757e+00-0.j -4.72106773e+00-0.j\n",
      " -4.42266521e+00-0.j -5.51516643e+00-0.j -1.02755124e+01-0.j\n",
      " -4.48811309e+01-0.j -8.17920121e+02-0.j -1.83167385e+01-0.j\n",
      " -5.14067009e+00-0.j -2.36159312e+00-0.j -1.38344260e+00-0.j\n",
      " -9.78348218e-01-0.j -8.50938985e-01-0.j -9.61351919e-01-0.j\n",
      " -1.48747197e+00-0.j -3.32165227e+00-0.j -1.29021740e+01-0.j\n",
      " -3.89753865e+02-0.j -3.74732168e+02-0.j -1.29683636e+01-0.j\n",
      " -3.25083369e+00-0.j -1.31009165e+00-0.j -6.64057102e-01-0.j\n",
      " -3.86357510e-01-0.j -2.46590069e-01-0.j -1.68194425e-01-0.j\n",
      " -1.20585993e-01-0.j -4.66266688e-02-0.j -5.61249059e-02-0.j\n",
      " -6.82463703e-02-0.j -8.39371947e-02-0.j -1.04578570e-01-0.j\n",
      " -1.32237871e-01-0.j -1.70100053e-01-0.j -2.23239548e-01-0.j\n",
      " -3.00069265e-01-0.j -4.15221159e-01-0.j -5.95687907e-01-0.j\n",
      " -8.95117064e-01-0.j -1.43107886e+00-0.j -2.49841533e+00-0.j\n",
      " -5.00057611e+00-0.j -1.28167743e+01-0.j -6.08837512e+01-0.j\n",
      " -1.66043056e+02-0.j -3.20233502e+01-0.j -1.54180522e+01-0.j\n",
      " -1.19375628e+01-0.j -1.53369280e+01-0.j -5.09092121e+01-0.j\n",
      " -8.05773883e+02-0.j -1.79943362e+01-0.j -5.01820028e+00-0.j\n",
      " -2.25754943e+00-0.j -1.25853911e+00-0.j -7.99787846e-01-0.j\n",
      " -5.63758376e-01-0.j -4.43274739e-01-0.j -4.03396824e-01-0.j\n",
      " -4.53301962e-01-0.j -6.75212629e-01-0.j -1.41806405e+00-0.j\n",
      " -4.76001636e+00-0.j -4.65312048e+01-0.j -4.65657046e+01-0.j\n",
      " -4.79596826e+00-0.j -1.37888187e+00-0.j -5.80490364e-01-0.j\n",
      " -3.00215196e-01-0.j -1.76843655e-01-0.j -1.13969477e-01-0.j\n",
      " -7.84313488e-02-0.j -5.67274835e-02-0.j -2.82092921e-02-0.j\n",
      " -3.39417082e-02-0.j -4.12255657e-02-0.j -5.06007007e-02-0.j\n",
      " -6.28429936e-02-0.j -7.90921317e-02-0.j -1.01064159e-01-0.j\n",
      " -1.31417443e-01-0.j -1.74408336e-01-0.j -2.37121804e-01-0.j\n",
      " -3.31912806e-01-0.j -4.81586275e-01-0.j -7.31345392e-01-0.j\n",
      " -1.17947166e+00-0.j -2.06828678e+00-0.j -4.11538883e+00-0.j\n",
      " -1.01850501e+01-0.j -4.12713509e+01-0.j -3.13649326e+03-0.j\n",
      " -1.73808475e+02-0.j -6.17242021e+01-0.j -8.68411808e+01-0.j\n",
      " -7.87110521e+02-0.j -1.76254634e+01-0.j -4.90348050e+00-0.j\n",
      " -2.18995584e+00-0.j -1.20182944e+00-0.j -7.39137825e-01-0.j\n",
      " -4.87350877e-01-0.j -3.35310523e-01-0.j -2.35538881e-01-0.j\n",
      " -1.64543669e-01-0.j -1.08578980e-01-0.j -5.66725204e-02-0.j\n",
      "  6.78591051e-03+0.j  1.25016165e-01+0.j  5.16807516e-01+0.j\n",
      " -5.69878416e+03-0.j  5.57258015e-01+0.j  1.74738066e-01+0.j\n",
      "  7.61860889e-02+0.j  3.91819558e-02+0.j  2.21001035e-02+0.j\n",
      "  1.31423326e-02+0.j  8.03156823e-03+0.j  4.94106847e-03+0.j\n",
      " -1.18463726e-02-0.j -1.44519450e-02-0.j -1.77898339e-02-0.j\n",
      " -2.21174390e-02-0.j -2.78034991e-02-0.j -3.53866742e-02-0.j\n",
      " -4.56713286e-02-0.j -5.98888786e-02-0.j -7.99789949e-02-0.j\n",
      " -1.09099277e-01-0.j -1.52592210e-01-0.j -2.19921540e-01-0.j\n",
      " -3.28810863e-01-0.j -5.14828074e-01-0.j -8.55963388e-01-0.j\n",
      " -1.54475351e+00-0.j -3.14401835e+00-0.j -7.80104888e+00-0.j\n",
      " -2.91370173e+01-0.j -5.62190896e+02-0.j -2.90567548e+04-0.j\n",
      " -7.61093188e+02-0.j -1.71277685e+01-0.j -4.75284342e+00-0.j\n",
      " -2.11694998e+00-0.j -1.15704815e+00-0.j -7.05952117e-01-0.j\n",
      " -4.58077954e-01-0.j -3.05246240e-01-0.j -2.00743919e-01-0.j\n",
      " -1.20582876e-01-0.j -4.93187551e-02-0.j  2.73225926e-02+0.j\n",
      "  1.30056612e-01+0.j  3.02549158e-01+0.j  6.66370704e-01+0.j\n",
      " -2.51077375e+02-0.j  7.42448197e-01+0.j  3.81497077e-01+0.j\n",
      "  2.21892937e-01+0.j  1.40341966e-01+0.j  9.42823835e-02+0.j\n",
      "  6.62837155e-02+0.j  3.73489195e-03+0.j  3.99981000e-03+0.j\n",
      "  4.24635342e-03+0.j  4.44730311e-03+0.j  4.55775976e-03+0.j\n",
      "  4.50379243e-03+0.j  4.16305285e-03+0.j  3.33087084e-03+0.j\n",
      "  1.65929057e-03+0.j -1.45614453e-03-0.j -7.09473969e-03-0.j\n",
      " -1.72509484e-02-0.j -3.57706812e-02-0.j -7.04744809e-02-0.j\n",
      " -1.38368589e-01-0.j -2.79780344e-01-0.j -6.02064422e-01-0.j\n",
      " -1.44144149e+00-0.j -4.14752787e+00-0.j -1.71600080e+01-0.j\n",
      " -2.18175378e+02-0.j -3.47281192e+02-0.j -7.25830250e+02-0.j\n",
      " -1.63265707e+01-0.j -4.50691413e+00-0.j -2.00629328e+00-0.j\n",
      " -1.09836196e+00-0.j -6.71684798e-01-0.j -4.36829466e-01-0.j\n",
      " -2.91798935e-01-0.j -1.92858050e-01-0.j -1.18022722e-01-0.j\n",
      " -5.40963324e-02-0.j  9.17650057e-03+0.j  8.31221389e-02+0.j\n",
      "  1.85381323e-01+0.j  3.51363330e-01+0.j  6.67610218e-01+0.j\n",
      " -7.01902351e+01-0.j  7.54368785e-01+0.j  4.33845508e-01+0.j\n",
      "  2.73057950e-01+0.j  1.83251282e-01+0.j  1.29030782e-01+0.j\n",
      "  1.98436906e-02+0.j  2.31020907e-02+0.j  2.70890044e-02+0.j\n",
      "  3.20171973e-02+0.j  3.81783556e-02+0.j  4.59795418e-02+0.j\n",
      "  5.60003355e-02+0.j  6.90849432e-02+0.j  8.64954929e-02+0.j\n",
      "  1.10176701e-01+0.j  1.43232758e-01+0.j  1.90830932e-01+0.j\n",
      "  2.62019940e-01+0.j  3.73668131e-01+0.j  5.59813479e-01+0.j\n",
      "  8.96661381e-01+0.j -6.29407687e+02-0.j -1.61482030e+02-0.j\n",
      " -6.73842576e+02-0.j -1.47553730e+01-0.j -4.04321293e+00-0.j\n",
      " -1.80855092e+00-0.j -9.99314925e-01-0.j -6.17942127e-01-0.j\n",
      " -4.07022001e-01-0.j -2.76297743e-01-0.j -1.87260903e-01-0.j\n",
      " -1.20817941e-01-0.j -6.60014677e-02-0.j -1.51995380e-02-0.j\n",
      "  3.84648420e-02+0.j  1.03401331e-01+0.j  1.92913841e-01+0.j\n",
      "  3.32355009e-01+0.j  5.77947004e-01+0.j -4.07858999e+02-0.j\n",
      " -3.23106354e+01-0.j -4.06149418e+02-0.j  6.70819228e-01+0.j\n",
      "  4.17168919e-01+0.j  2.77992572e-01+0.j  1.94929181e-01+0.j\n",
      "  3.80924869e-02+0.j  4.49530417e-02+0.j  5.35051486e-02+0.j\n",
      "  6.42962794e-02+0.j  7.81001269e-02+0.j  9.60337674e-02+0.j\n",
      "  1.19749988e-01+0.j  1.51764127e-01+0.j  1.96032302e-01+0.j\n",
      "  2.59024128e-01+0.j  3.51829331e-01+0.j  4.94593651e-01+0.j\n",
      "  7.26717081e-01+0.j -6.83057568e+02-0.j -1.85692165e+01-0.j\n",
      " -1.39763207e+01-0.j -2.87851295e+01-0.j -1.36052095e+02-0.j\n",
      " -5.55747332e+02-0.j -1.10849096e+01-0.j -3.10398500e+00-0.j\n",
      " -1.43722662e+00-0.j -8.21082884e-01-0.j -5.23402369e-01-0.j\n",
      " -3.54723817e-01-0.j -2.47953781e-01-0.j -1.74129292e-01-0.j\n",
      " -1.18775007e-01-0.j -7.36353895e-02-0.j -3.32317561e-02-0.j\n",
      "  6.88117342e-03+0.j  5.13207720e-02+0.j  1.06184946e-01+0.j\n",
      "  1.81181403e-01+0.j  2.94052083e-01+0.j  4.81335163e-01+0.j\n",
      "  8.28801576e-01+0.j -6.44826379e+01-0.j -1.84902672e+01-0.j\n",
      " -6.32544694e+01-0.j  9.49276465e-01+0.j  5.79684117e-01+0.j\n",
      "  3.81964207e-01+0.j  2.65878066e-01+0.j  6.08280613e-02+0.j\n",
      "  7.26819524e-02+0.j  8.77367867e-02+0.j  1.07142757e-01+0.j\n",
      "  1.32586182e-01+0.j  1.66608667e-01+0.j  2.13166946e-01+0.j\n",
      "  2.78662750e-01+0.j  3.73949146e-01+0.j  5.18524937e-01+0.j\n",
      "  7.50121779e-01+0.j -7.25294582e+02-0.j -1.69134986e+01-0.j\n",
      " -6.82248061e+00-0.j -6.42416068e+00-0.j -9.41747283e+00-0.j\n",
      " -1.86394980e+01-0.j -5.38266135e+01-0.j -3.70301667e+02-0.j\n",
      " -2.93574466e+00-0.j -1.35520431e+00-0.j -7.91741327e-01-0.j\n",
      " -5.20151071e-01-0.j -3.64832248e-01-0.j -2.65677484e-01-0.j\n",
      " -1.97071764e-01-0.j -1.46328781e-01-0.j -1.06381717e-01-0.j\n",
      " -7.28378979e-02-0.j -4.26048228e-02-0.j -1.31328604e-02-0.j\n",
      "  1.81207009e-02+0.j  5.42305161e-02+0.j  9.95648511e-02+0.j\n",
      "  1.61138099e-01+0.j  2.51376736e-01+0.j  3.94449201e-01+0.j\n",
      "  6.42615794e-01+0.j -4.27941954e+03-0.j -2.60574082e+01-0.j\n",
      " -1.19623926e+01-0.j -2.52881504e+01-0.j -3.69514522e+03-0.j\n",
      "  7.69644680e-01+0.j  4.99358938e-01+0.j  3.44074178e-01+0.j\n",
      "  9.19745495e-02+0.j  1.11715395e-01+0.j  1.37450449e-01+0.j\n",
      "  1.71657562e-01+0.j  2.18177489e-01+0.j  2.83199194e-01+0.j\n",
      "  3.77177644e-01+0.j  5.18843314e-01+0.j  7.44378296e-01+0.j\n",
      " -7.56605626e+02-0.j -1.72271100e+01-0.j -5.95449113e+00-0.j\n",
      " -4.33860037e+00-0.j -4.92777313e+00-0.j -7.56790283e+00-0.j\n",
      " -1.57980540e+01-0.j -6.37682276e+01-0.j  9.01601363e-01+0.j\n",
      "  7.32365470e-02+0.j -1.04700070e-01-0.j -1.39393193e-01-0.j\n",
      " -1.34581871e-01-0.j -1.18276560e-01-0.j -9.91108274e-02-0.j\n",
      " -7.97501427e-02-0.j -6.07735140e-02-0.j -4.19332199e-02-0.j\n",
      " -2.25676268e-02-0.j -1.69023588e-03-0.j  2.20891968e-02+0.j\n",
      "  5.07933124e-02+0.j  8.75268595e-02+0.j  1.37344553e-01+0.j\n",
      "  2.09008423e-01+0.j  3.18819878e-01+0.j  4.99821987e-01+0.j\n",
      "  8.26890479e-01+0.j -1.29631884e+02-0.j -1.44095863e+01-0.j\n",
      " -8.37796043e+00-0.j -1.38408099e+01-0.j -1.26304283e+02-0.j\n",
      "  9.99477031e-01+0.j  6.35550693e-01+0.j  4.32190014e-01+0.j\n",
      "  1.38929956e-01+0.j  1.72785062e-01+0.j  2.18667576e-01+0.j\n",
      "  2.82584418e-01+0.j  3.74677725e-01+0.j  5.13120097e-01+0.j\n",
      "  7.33050924e-01+0.j -7.80541515e+02-0.j -1.76544552e+01-0.j\n",
      " -5.80621487e+00-0.j -3.82640280e+00-0.j -3.91811154e+00-0.j\n",
      " -5.60318787e+00-0.j -1.13981053e+01-0.j -4.91178554e+01-0.j\n",
      "  8.60243494e-01+0.j  3.16220166e-01+0.j  1.08129668e-01+0.j\n",
      "  1.94816077e-02+0.j -1.93363996e-02-0.j -3.50217474e-02-0.j\n",
      " -3.90534160e-02-0.j -3.67285291e-02-0.j -3.05508615e-02-0.j\n",
      " -2.16281089e-02-0.j -1.02755239e-02-0.j  3.73892786e-03+0.j\n",
      "  2.11450269e-02+0.j  4.32703431e-02+0.j  7.23172248e-02+0.j\n",
      "  1.11930413e-01+0.j  1.68334212e-01+0.j  2.52714548e-01+0.j\n",
      "  3.86605983e-01+0.j  6.15425071e-01+0.j -3.71607565e+01-0.j\n",
      " -9.31308400e+00-0.j -6.20638460e+00-0.j -8.85019971e+00-0.j\n",
      " -3.55217664e+01-0.j  7.97750418e-01+0.j  5.33613575e-01+0.j\n",
      "  2.17444697e-01+0.j  2.80245042e-01+0.j  3.70611794e-01+0.j\n",
      "  5.06337361e-01+0.j  7.21883916e-01+0.j -7.98461749e+02-0.j\n",
      " -1.80334982e+01-0.j -5.81044544e+00-0.j -3.65811819e+00-0.j\n",
      " -3.56395381e+00-0.j -4.95100401e+00-0.j -1.01076562e+01-0.j\n",
      " -4.58483601e+01-0.j  6.36498525e-01+0.j  3.16715450e-01+0.j\n",
      "  1.61112611e-01+0.j  7.91457410e-02+0.j  3.40685546e-02+0.j\n",
      "  9.05534614e-03+0.j -4.27374182e-03-0.j -1.03316075e-02-0.j\n",
      " -1.15015072e-02-0.j -9.03704954e-03-0.j -3.49413401e-03-0.j\n",
      "  5.07276399e-03+0.j  1.70545345e-02+0.j  3.33424369e-02+0.j\n",
      "  5.55106797e-02+0.j  8.61974743e-02+0.j  1.29855120e-01+0.j\n",
      "  1.94265684e-01+0.j  2.93799007e-01+0.j  4.57061531e-01+0.j\n",
      "  7.47118680e-01+0.j -4.21864384e+02-0.j -1.77849416e+01-0.j\n",
      " -6.61057147e+00-0.j -4.79771551e+00-0.j -6.20894996e+00-0.j\n",
      " -1.66066180e+01-0.j -4.04566340e+02-0.j  9.96030135e-01+0.j\n",
      "  6.52792011e-01+0.j  3.66398218e-01+0.j  4.99978008e-01+0.j\n",
      "  7.12223189e-01+0.j -8.11062330e+02-0.j -1.83594207e+01-0.j\n",
      " -5.85344185e+00-0.j -3.59804291e+00-0.j -3.41179388e+00-0.j\n",
      " -4.67043104e+00-0.j -9.58841119e+00-0.j -4.49115662e+01-0.j\n",
      "  8.44899544e-01+0.j  4.64082373e-01+0.j  2.69134397e-01+0.j\n",
      "  1.59965822e-01+0.j  9.50789071e-02+0.j  5.50119257e-02+0.j\n",
      "  2.97959321e-02+0.j  1.39883932e-02+0.j  4.48823087e-03+0.j\n",
      " -5.03799927e-04-0.j -2.00679036e-03-0.j -5.25870232e-04-0.j\n",
      "  3.82135255e-03+0.j  1.12682965e-02+0.j  2.24384454e-02+0.j\n",
      "  3.84725245e-02+0.j  6.12900792e-02+0.j  9.40923666e-02+0.j\n",
      "  1.42345307e-01+0.j  2.15801909e-01+0.j  3.32987837e-01+0.j\n",
      "  5.32199084e-01+0.j  9.02360176e-01+0.j -6.31065456e+01-0.j\n",
      " -1.06562233e+01-0.j -5.00134191e+00-0.j -3.83824866e+00-0.j\n",
      " -4.63581112e+00-0.j -9.68701910e+00-0.j -5.97455276e+01-0.j\n",
      "  7.95747628e-01+0.j]\n"
     ]
    }
   ],
   "source": [
    "print(A_test[A_test<1])"
   ]
  },
  {
   "cell_type": "code",
   "execution_count": 89,
   "id": "dcfa08b0",
   "metadata": {},
   "outputs": [],
   "source": [
    "#saving data\n",
    "with open('A_Kitaev_normalmethod_k_res='+str(k_res)+' par_res='+str(par_res)+'.pkl', 'wb') as file:\n",
    "      \n",
    "    # A new file will be created\n",
    "    pickle.dump(A_kit, file)"
   ]
  },
  {
   "cell_type": "code",
   "execution_count": 81,
   "id": "07733fd0",
   "metadata": {},
   "outputs": [],
   "source": [
    "#loading data\n",
    "with open('A_Kitaev_normalmethod_k_res=0.001 par_res=0.2.pkl', 'rb') as file:\n",
    "    loaded_data = pickle.load(file)\n"
   ]
  },
  {
   "cell_type": "code",
   "execution_count": null,
   "id": "85f3f46b",
   "metadata": {},
   "outputs": [],
   "source": [
    "#condition number for H \n",
    "np.linalg.cond(H())"
   ]
  },
  {
   "cell_type": "code",
   "execution_count": null,
   "id": "10b0cd22",
   "metadata": {},
   "outputs": [],
   "source": []
  }
 ],
 "metadata": {
  "celltoolbar": "Tags",
  "kernelspec": {
   "display_name": "Python 3 (ipykernel)",
   "language": "python",
   "name": "python3"
  },
  "language_info": {
   "codemirror_mode": {
    "name": "ipython",
    "version": 3
   },
   "file_extension": ".py",
   "mimetype": "text/x-python",
   "name": "python",
   "nbconvert_exporter": "python",
   "pygments_lexer": "ipython3",
   "version": "3.10.9"
  }
 },
 "nbformat": 4,
 "nbformat_minor": 5
}
