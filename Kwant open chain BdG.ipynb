{
 "cells": [
  {
   "cell_type": "code",
   "execution_count": 4,
   "id": "9d3267c8",
   "metadata": {},
   "outputs": [],
   "source": [
    "import kwant\n",
    "import numpy as np \n",
    "import matplotlib.pyplot as plt \n",
    "import matplotlib.patches as mpatches\n",
    "import scipy.sparse.linalg as sla\n",
    "from scipy.linalg import eig\n",
    "from tqdm import tqdm\n",
    "import pickle \n",
    "from pfapack import pfaffian as pf\n",
    "from scipy.fft import ifftn\n",
    "import dask.array as da\n",
    "import scipy.integrate as integrate\n",
    "from scipy.integrate import quad"
   ]
  },
  {
   "cell_type": "code",
   "execution_count": 5,
   "id": "a80c0b1d",
   "metadata": {},
   "outputs": [],
   "source": [
    "#Define Hamiltonian, choose random k value, evaluate for A, G and test if PH operator sigmax cross sigmax flips its sign\n",
    "def Na(a,g):\n",
    "    return (4*np.exp(g/2)*(1+3*np.exp(2*g)))/((1+np.exp(g))**(4)*a)\n",
    "\n",
    "def Nb(a,g):\n",
    "    return (4*np.exp(3*g/2)*(3+np.exp(2*g)))/((1+np.exp(g))**(4)*a)\n",
    "\n",
    "\n",
    "def H(k,A,G,eps1,eps2,d):\n",
    "    \n",
    "\n",
    "    N1=((1/np.cosh(G/2))**(4))*(-8*np.cosh(G/2)**(3)-4*np.sinh(G/2)**(2)*np.cos(3*k)+2*(3*np.cosh(G)+1)*np.cos(k))/(8*A) -eps1+d*np.cos(3*k)#checked\n",
    "    N2=(-((1/np.cosh(G/2))**(4))/(4*A))*(4*np.cosh(G/2)**(3)-2*np.sinh(G/2)**(2)*np.cos(3*k)+3*np.cosh(G)*np.cos(k)+np.cos(k)) -eps2-d*np.cos(3*k) #checked\n",
    "    Hm=-np.tanh(G/2)*((1/np.cosh(G/2))**(3)*(np.cosh(G)+4*1j*np.sinh(G/2)*np.sin(k)**(3)+2*np.cos(2*k)-1))/(2*A) -1j*d*np.sin(3*k)#checked\n",
    "    S1=-0.5*np.cosh(G/2)*((1/np.cosh(G/2))**(4))*np.sin(k)*(-np.cosh(G)*np.cos(2*k)+np.cos(2*k)+2)  #checked\n",
    "    S2=np.sqrt(2)*np.sqrt(np.cosh(G)+1)*np.tanh(G/2)*((1/np.cosh(G/2))**(3))*np.sin(k)*np.cos(k)*(1+1j*np.sinh(G/2)*np.sin(k))  #checked\n",
    "    \n",
    "    \n",
    "    \n",
    "    H = np.zeros((4,4), dtype=complex)\n",
    "    H[0,0]=N1      \n",
    "    H[0,1]=Hm      #+1j*d*np.sin(3*k)\n",
    "    H[0,2]=S1\n",
    "    H[0,3]=S2\n",
    "    H[1,0]=Hm.conj()#    -1j*d*np.sin(3*k)\n",
    "    H[1,1]=N2      \n",
    "    H[1,2]=S2.conj()\n",
    "    H[1,3]=-S1\n",
    "    H[2,0]=S1\n",
    "    H[2,1]=S2\n",
    "    H[2,2]=-N1      #-eps1-d*np.cos(3*k)\n",
    "    H[2,3]=-Hm      #-1j*d*np.sin(3*k)\n",
    "    H[3,0]=S2.conj()\n",
    "    H[3,1]=-S1\n",
    "    H[3,2]=-Hm.conj()#          +1j*d*np.sin(3*k)\n",
    "    H[3,3]=-N2        #   -eps2-d*np.cos(3*k)\n",
    "    \n",
    "    return(H)\n",
    "\n",
    "def magical(k,A,G,eps1,eps2,d):\n",
    "    #magic Unitary\n",
    "    U = np.array([[1,1],[1j,-1j]], dtype='complex128')\n",
    "    U = np.kron(U,np.eye(2))\n",
    "    magic = (1/2)*(U@U)\n",
    "    return (magic@H(k,A,G,eps1,eps2,d)@magic.conj().T)[:2, 2:]\n",
    "\n",
    "id=np.array([[1,0],[0,1]])\n",
    "sigma_x=np.array([[0,1],[1,0]])\n",
    "sigma_z=np.array([[1,0],[0,-1]])\n",
    "\n",
    "\n",
    "\n",
    "def complex_quadrature(func, a, b, **kwargs):\n",
    "    def real_func(x):\n",
    "        return np.real(func(x))\n",
    "    def imag_func(x):\n",
    "        return np.imag(func(x))\n",
    "    real_integral = quad(real_func, a, b,limit=200)\n",
    "    imag_integral = quad(imag_func, a, b,limit=200)\n",
    "    return ((real_integral[0] + 1j*imag_integral[0]))\n",
    "\n",
    "def integrand(k, a, g,eps1,eps2,d):\n",
    "    k_res=0.001\n",
    "    inv = (np.linalg.inv(magical(k,a,g,eps1,eps2,d)))\n",
    "    der = (1/(2*k_res))*(magical(k+k_res,a,g,eps1,eps2,d)-magical(k-k_res,a,g,eps1,eps2,d))\n",
    "    temp = inv@der\n",
    "    return np.trace(temp)"
   ]
  },
  {
   "cell_type": "code",
   "execution_count": 6,
   "id": "2c93c6f5",
   "metadata": {},
   "outputs": [],
   "source": [
    "k,A,G,eps1,eps2,d=1,1,1,0,0,0"
   ]
  },
  {
   "cell_type": "code",
   "execution_count": 21,
   "id": "24a08ed5",
   "metadata": {},
   "outputs": [
    {
     "name": "stdout",
     "output_type": "stream",
     "text": [
      "Time reversal C1 is True\n",
      "PH C2 is True\n",
      "Mysterious chiral C3=C2C1 is True\n"
     ]
    }
   ],
   "source": [
    "C1 = np.kron(sigma_z,np.eye(2))\n",
    "C2= np.kron(sigma_x,np.eye(2))\n",
    "C3=C2@C1\n",
    "eps,d=2,2\n",
    "#verify commutation relations \n",
    "#time reversal\n",
    "print('Time reversal C1 is',np.allclose(C1@H(-1,2,1,eps,eps,d).conj()@C1,H(1,2,1,eps,eps,d)))\n",
    "\n",
    "#PH symmetry\n",
    "print('PH C2 is',np.allclose(C2@np.conj(H(0.1,2,1,eps,eps,d))@C2+H(-0.1,2,1,eps,eps,d),0*np.eye(4)))\n",
    "\n",
    "#weird chiral\n",
    "print('Mysterious chiral C3=C2C1 is',np.allclose(C3@H(0.1,2,1,eps,eps,d)@C3,H(0.1,2,1,eps,eps,d)))"
   ]
  },
  {
   "cell_type": "code",
   "execution_count": 27,
   "id": "4df26ccb",
   "metadata": {},
   "outputs": [],
   "source": [
    "sigma_0 = np.array([[1, 0], [0, 1]])\n",
    "sigma_x = np.array([[0, 1], [1, 0]])\n",
    "sigma_y = np.array([[0, -1j], [1j, 0]])\n",
    "sigma_z = np.array([[1, 0], [0, -1]])"
   ]
  },
  {
   "cell_type": "code",
   "execution_count": 26,
   "id": "34b8ac57",
   "metadata": {},
   "outputs": [
    {
     "data": {
      "text/plain": [
       "array([[0.+0.j, 0.+0.j],\n",
       "       [0.+0.j, 0.+0.j]])"
      ]
     },
     "execution_count": 26,
     "metadata": {},
     "output_type": "execute_result"
    }
   ],
   "source": []
  },
  {
   "cell_type": "code",
   "execution_count": 30,
   "id": "6f2d8854",
   "metadata": {},
   "outputs": [
    {
     "ename": "SyntaxError",
     "evalue": "positional argument follows keyword argument (3046716916.py, line 37)",
     "output_type": "error",
     "traceback": [
      "\u001b[0;36m  Cell \u001b[0;32mIn[30], line 37\u001b[0;36m\u001b[0m\n\u001b[0;31m    params_h1 = dict(k,A,G,eps1,eps2,d=1,1,1,0,0,0)\u001b[0m\n\u001b[0m                                                  ^\u001b[0m\n\u001b[0;31mSyntaxError\u001b[0m\u001b[0;31m:\u001b[0m positional argument follows keyword argument\n"
     ]
    }
   ],
   "source": [
    "lat = kwant.lattice.chain(norbs=2)  #2 orbs per site given that we have p-h \n",
    "bulk = kwant.Builder(symmetry=kwant.lattice.TranslationalSymmetry([2]))\n",
    "\n",
    "def onsite(site):\n",
    "    return H(k,A,G,eps1,eps2,d)[:2,2:]\n",
    "\n",
    "def hopping(site1, site2, t1):\n",
    "    return H(k,A,G,eps1,eps2,d)[:2,:2]\n",
    "\n",
    "\n",
    "bulk[lat(0)] = onsite\n",
    "bulk[lat(1)] = onsite\n",
    "bulk[lat(0),lat(1)] = hopping\n",
    "bulk[lat(0),lat(2)] = hopping\n",
    "bulk[lat(0),lat(3)] = hopping\n",
    "bulk[lat(1),lat(3)] = hopping\n",
    "bulk[lat(1),lat(4)] = hopping\n",
    "\n",
    "\n",
    "\n",
    "finite = kwant.Builder()\n",
    "\n",
    "L = 10\n",
    "\n",
    "def shape(site):\n",
    "    pos=site.pos\n",
    "    return 0<=pos[0]<L\n",
    "\n",
    "finite.fill(bulk, shape, start=[0]);\n",
    "\n",
    "finite = finite.finalized()\n",
    "\n",
    "kwant.plot(finite)\n",
    "\n",
    "#######################\n",
    "\n",
    "params_h1 = dict(k,A,G,eps1,eps2,d=1,1,1,0,0,0)\n",
    "ham_1 = finite.hamiltonian_submatrix()\n"
   ]
  }
 ],
 "metadata": {
  "kernelspec": {
   "display_name": "Python 3 (ipykernel)",
   "language": "python",
   "name": "python3"
  },
  "language_info": {
   "codemirror_mode": {
    "name": "ipython",
    "version": 3
   },
   "file_extension": ".py",
   "mimetype": "text/x-python",
   "name": "python",
   "nbconvert_exporter": "python",
   "pygments_lexer": "ipython3",
   "version": "3.10.9"
  }
 },
 "nbformat": 4,
 "nbformat_minor": 5
}
