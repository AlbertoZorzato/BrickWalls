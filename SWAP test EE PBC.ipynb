{
 "cells": [
  {
   "cell_type": "code",
   "execution_count": 2,
   "metadata": {},
   "outputs": [],
   "source": [
    "import numpy as np \n",
    "import matplotlib.pyplot as plt \n",
    "import pickle \n",
    "from qiskit import quantum_info\n",
    "from qiskit import QuantumCircuit, ClassicalRegister, QuantumRegister\n",
    "from qiskit import QuantumCircuit, transpile\n",
    "from qiskit.quantum_info import Operator, DensityMatrix, partial_trace, SparsePauliOp\n",
    "from qiskit.transpiler.preset_passmanagers import generate_preset_pass_manager\n",
    "basis_gates=['ecr', 'id', 'ry', 'rx', 'x']\n",
    "#InteractiveShell.ast_node_interactivity = \"all\""
   ]
  },
  {
   "cell_type": "markdown",
   "metadata": {},
   "source": [
    "#define PBC fixed parity circuit, without global gate\n",
    "#do SWAP\n",
    "    #exact simulation\n",
    "    #Aer simulation (with and without noise)\n",
    "    #real HW?"
   ]
  },
  {
   "cell_type": "code",
   "execution_count": 169,
   "metadata": {},
   "outputs": [],
   "source": [
    "\n",
    "def Shat(A,T,G): \n",
    "    t = np.tanh(T/4 + G/4)\n",
    "    tt = np.tanh(T/4 - G/4)\n",
    "    a=1-t*tt;b=1+t*tt;c=t+tt;d=t-tt\n",
    "    Shatf = np.array([[a,0,0,c],\n",
    "                      [0,b,d,0],\n",
    "                      [0,-d,b,0],\n",
    "                      [-c,0,0,a]],dtype=complex)\n",
    "    \n",
    "    Shatg = np.array([[1,0,0,0],[0,0,1,0],[0,1,0,0],[0,0,0,-1]],dtype=complex)\n",
    "    f = -(1j/4)*A*(2*np.cosh(T/2)+2*np.cosh(G/2))*(1/np.sinh(T/2))*(1/np.cosh(T/2))\n",
    "    Shat = f*Shatf+Shatg\n",
    "    Nalpha = 1+2*A**(2)*(np.cosh(T)/np.sinh(T))*(1/np.sinh(T))+2*A**(2)*np.cosh(G)*(1/np.sinh(T))**(2)\n",
    "    Shat = (-1/np.sqrt(Nalpha))*Shat\n",
    "    return Shat\n",
    "def ShatOd(A,T,G): \n",
    "    t = np.tanh(T/4 + G/4)\n",
    "    tt = np.tanh(T/4 - G/4)\n",
    "    a=1-t*tt;b=1+t*tt;c=t+tt;d=t-tt;\n",
    "    Shatf = np.array([[a,0,0,c],\n",
    "                      [0,b,-d,0],\n",
    "                      [0,d,b,0],\n",
    "                      [-c,0,0,a]],dtype=complex)\n",
    "    Shatg = np.array([[1,0,0,0],[0,0,1,0],[0,1,0,0],[0,0,0,-1]],dtype=complex)\n",
    "    f = -(1j/4)*A*(2*np.cosh(T/2)+2*np.cosh(G/2))*(1/np.sinh(T/2))*(1/np.cosh(T/2))\n",
    "    Shat = f*Shatf+Shatg\n",
    "    Nalpha = 1+2*A**(2)*(np.cosh(T)/np.sinh(T))*(1/np.sinh(T))+2*A**(2)*np.cosh(G)*(1/np.sinh(T))**(2)\n",
    "    Shat = (-1/np.sqrt(Nalpha))*Shat\n",
    "    return Shat\n",
    "def ShatEv(A,T,G): \n",
    "    t = np.tanh(T/4 + G/4)\n",
    "    tt = np.tanh(T/4 - G/4)\n",
    "    a=1-t*tt;b=1+t*tt;c=t+tt;d=t-tt\n",
    "    Shatf = np.array([[a,0,0,-c],\n",
    "                      [0,b,d,0],\n",
    "                      [0,-d,b,0],\n",
    "                      [c,0,0,a]],dtype=complex)\n",
    "    Shatg = np.array([[1,0,0,0],[0,0,1,0],[0,1,0,0],[0,0,0,-1]],dtype=complex)\n",
    "    f = -(1j/4)*A*(2*np.cosh(T/2)+2*np.cosh(G/2))*(1/np.sinh(T/2))*(1/np.cosh(T/2))\n",
    "    Shat = f*Shatf+Shatg\n",
    "    Nalpha = 1+2*A**(2)*(np.cosh(T)/np.sinh(T))*(1/np.sinh(T))+2*A**(2)*np.cosh(G)*(1/np.sinh(T))**(2)\n",
    "    Shat = (-1/np.sqrt(Nalpha))*Shat\n",
    "    return Shat\n",
    "def bwassembler_z(qc,matrix,layers,n):    #CHECKED#\n",
    "    \n",
    "    m=0\n",
    "    while m < layers:\n",
    "        i=0;j=0;    \n",
    "        #even layer\n",
    "        while i < n/2:\n",
    "            qc.unitary(matrix, [2*i,2*i+1])\n",
    "            i+=1;\n",
    "        qc.barrier(range(n)) \n",
    "        #odd layer\n",
    "        while j < n/2:\n",
    "            \n",
    "            if j == (n/2 - 1):\n",
    "                if(n==8):\n",
    "                    qc.unitary(perm8site(matrix),[0,1,2,3,4,5,6,7],label='ZZ')\n",
    "                elif(n==4):\n",
    "                    qc.unitary(perm4site(matrix),[0,1,2,3],label='ZZ')\n",
    "                else:\n",
    "                    raise(KeyboardInterrupt)\n",
    "                \n",
    "            else:\n",
    "                qc.unitary(matrix, [2*j+1,2*j+2])\n",
    "            \n",
    "            j+=1;\n",
    "        qc.barrier(range(n))\n",
    "        \n",
    "        m+=1\n",
    "    \n",
    "    return(qc)\n",
    "def bwassembler_zS(qc,matrix,matrix1,layers,n):    \n",
    "    \n",
    "    m=0\n",
    "    while m < layers:\n",
    "        i=0;j=0;    \n",
    "        #even layer\n",
    "        while i < n/2:\n",
    "            qc.unitary(matrix, [2*i,2*i+1])\n",
    "            i+=1;\n",
    "        qc.barrier(range(n)) \n",
    "        #odd layer\n",
    "        while j < n/2:\n",
    "            \n",
    "            if j == (n/2 - 1):\n",
    "                \n",
    "                qc.unitary(matrix1,[3,0],label='S41Ev')\n",
    "                \n",
    "            else:\n",
    "                qc.unitary(matrix, [2*j+1,2*j+2])\n",
    "            \n",
    "            j+=1;\n",
    "        qc.barrier(range(n))\n",
    "        \n",
    "        m+=1\n",
    "    \n",
    "    return(qc)\n",
    "\n",
    "\n",
    "\n",
    "def perm4site(U):   #CHECKED#\n",
    "    \n",
    "    P = np.array([[1,0,0,0],[0,0,1,0],[0,1,0,0],[0,0,0,-1]])\n",
    "    \n",
    "    P12 = np.kron(P,np.eye(4))\n",
    "    P23 = np.kron(np.eye(2),np.kron(P,np.eye(2)))\n",
    "    P34 = np.kron(np.eye(4),P)\n",
    "    S34 = np.kron(np.eye(4),U)\n",
    "    \n",
    "    return P12@P23@P34@S34@P34@P23@P12\n",
    "def perm8site(U):   #CHECKED#\n",
    "    \n",
    "    P = np.array([[1,0,0,0],[0,0,1,0],[0,1,0,0],[0,0,0,-1]])\n",
    "    \n",
    "    P12 = np.kron(P,np.eye(2**6))\n",
    "    P23 = np.kron(np.eye(2),np.kron(P,np.eye(2**5)))\n",
    "    P34 = np.kron(np.eye(2**2),np.kron(P,np.eye(2**4)))\n",
    "    P45 = np.kron(np.eye(2**3),np.kron(P,np.eye(2**3)))\n",
    "    P56 = np.kron(np.eye(2**4),np.kron(P,np.eye(2**2)))\n",
    "    P67 = np.kron(np.eye(2**5),np.kron(P,np.eye(2**1)))\n",
    "    P78 = np.kron(np.eye(2**6),P)\n",
    "    S78 = np.kron(np.eye(2**6),U)\n",
    "    \n",
    "    return P12@P23@P34@P45@P56@P67@P78@S78@P78@P67@P56@P45@P34@P23@P12 \n",
    "def perm_nsite(U,n):   #CHECKED#\n",
    "    if n < 2:\n",
    "        raise ValueError(\"Number of sites (n) must be at least 2.\")\n",
    "    \n",
    "    # Constructing a sparse array using ijv format\n",
    "    # row  = np.array([0, 1, 2, 3])\n",
    "    # col  = np.array([0, 2, 1, 3])\n",
    "    # data = np.array([1, 1, 1, -1])\n",
    "    #P=sparse.coo_array((data, (row, col)), shape=(4, 4)).toarray()\n",
    "\n",
    "    # Define the permutation matrix P\n",
    "    P = np.array([[1, 0, 0, 0],\n",
    "                    [0, 0, 1, 0],\n",
    "                    [0, 1, 0, 0],\n",
    "                    [0, 0, 0, -1]])\n",
    "    perm_list=[]\n",
    "    # Construct permutation matrices and tensor products\n",
    "    for i in range(0, n - 1):\n",
    "        Pi = np.kron(np.eye(2 ** i), np.kron(P, np.eye(2 ** (n - i - 2))))\n",
    "        perm_list.append(Pi)\n",
    "        \n",
    "    # Append U tensor product\n",
    "    S_last = np.kron(np.eye(2 ** (n - 2)), U)\n",
    "    perm_list.append(S_last)\n",
    "\n",
    "    result = np.eye(2**n)\n",
    "    #print(result, result.shape)\n",
    "    for perm_matrix in perm_list:\n",
    "        result = result @ perm_matrix\n",
    "\n",
    "    perm_list.reverse()\n",
    "\n",
    "    for perm_matrix in perm_list[1:]:\n",
    "        result = result @ perm_matrix    \n",
    "        \n",
    "    return result\n",
    "#check supercharges commutation on 4 sites\n",
    "def x(t):\n",
    "    return np.exp(t/4)\n",
    "def y(g):\n",
    "    return np.exp(g/4)\n",
    "def Qplus4site(t,g):\n",
    "    Ql12 = x(t)*y(g)*X(1,4)+(1/(x(t)*y(g)))*Z(1,4)@X(2,4)\n",
    "    Ql34 = x(t)*y(g)*Z(1,4)@Z(2,4)@X(3,4)+(1/(x(t)*y(g)))*Z(1,4)@Z(2,4)@Z(3,4)@X(4,4)\n",
    "    return Ql12+Ql34\n",
    "def Qminus4site(t,g):\n",
    "    Qr12 = (y(t)/x(g))*Y(1,4)+(x(t)/y(g))*Z(1,4)@Y(2,4)\n",
    "    Qr34 = (y(t)/x(g))*Z(1,4)@Z(2,4)@Y(3,4)+(x(t)/y(g))*Z(1,4)@Z(2,4)@Z(3,4)@Y(4,4)\n",
    "    return Qr12+Qr34\n",
    "#Tensor Paulis on nth site given L sites\n",
    "def X(n,L):\n",
    "    X = np.array([[0,1],[1,0]])\n",
    "    return (np.kron(np.eye(2**(n-1)),np.kron(X,np.eye(2**(L-n)))))\n",
    "def Y(n,L):\n",
    "    Y = np.array([[0,-1j],[1j,0]])\n",
    "    return (np.kron(np.eye(2**(n-1)),np.kron(Y,np.eye(2**(L-n)))))    \n",
    "def Z(n,L):\n",
    "    Z = np.array([[1,0],[0,-1]])\n",
    "    return (np.kron(np.eye(2**(n-1)),np.kron(Z,np.eye(2**(L-n)))))    "
   ]
  },
  {
   "cell_type": "markdown",
   "metadata": {},
   "source": [
    "with Shatf  [[a,0,0,-c],\n",
    "            [0,-b,-d,0],\n",
    "            [0,d,-b,0],\n",
    "            [c,0,0,a]]\n",
    "we get same qualitative behaviour but slightly different  (b,c,d)\n",
    "\n",
    "Shatf = np.array([[a,0,0,-c],\n",
    "                  [0,-b,d,0],\n",
    "                  [0,-d,-b,0],\n",
    "                  [c,0,0,a]],dtype=complex) first layer is the same and then they start diverging (b,c)\n",
    "\n",
    "                  (b,d) doesnt work "
   ]
  },
  {
   "cell_type": "code",
   "execution_count": 124,
   "metadata": {},
   "outputs": [
    {
     "data": {
      "text/plain": [
       "OrderedDict([('rz', 56), ('sx', 40), ('ecr', 8), ('barrier', 2)])"
      ]
     },
     "execution_count": 124,
     "metadata": {},
     "output_type": "execute_result"
    }
   ],
   "source": [
    "qc = QuantumCircuit(4)\n",
    "qc = bwassembler_zS(qc,Shat(1,1,1),ShatEv(1,1,1),1,4)\n",
    "qc = transpile(qc, basis_gates=basis_gates, optimization_level=3)\n",
    "qc.count_ops()"
   ]
  },
  {
   "cell_type": "code",
   "execution_count": 125,
   "metadata": {},
   "outputs": [
    {
     "data": {
      "text/plain": [
       "OrderedDict([('rz', 446),\n",
       "             ('sx', 261),\n",
       "             ('ecr', 103),\n",
       "             ('x', 33),\n",
       "             ('barrier', 2)])"
      ]
     },
     "execution_count": 125,
     "metadata": {},
     "output_type": "execute_result"
    }
   ],
   "source": [
    "qc = QuantumCircuit(4)\n",
    "qc = bwassembler_z(qc,Shat(1,1,1),1,4)\n",
    "qc = transpile(qc, basis_gates=basis_gates, optimization_level=3)\n",
    "qc.count_ops()"
   ]
  },
  {
   "cell_type": "code",
   "execution_count": 172,
   "metadata": {},
   "outputs": [
    {
     "data": {
      "text/plain": [
       "-0.8868188839700739j"
      ]
     },
     "execution_count": 172,
     "metadata": {},
     "output_type": "execute_result"
    }
   ],
   "source": [
    "A,T,G=1,1,1\n",
    "t = np.tanh(T/4 + G/4)\n",
    "tt = np.tanh(T/4 - G/4)\n",
    "f = -(1j/4)*A*(2*np.cosh(T/2)+2*np.cosh(G/2))*(1/np.sinh(T/2))*(1/np.cosh(T/2))\n",
    "a=1-t*tt;b=1+t*tt;c=t+tt;d=t-tt\n"
   ]
  },
  {
   "cell_type": "code",
   "execution_count": 170,
   "metadata": {},
   "outputs": [
    {
     "data": {
      "text/plain": [
       "array([[ 0.        +0.j        ,  0.        +0.j        ,\n",
       "         0.        +0.j        ,  0.        +0.j        ,\n",
       "         0.        +0.j        ,  0.        +0.j        ,\n",
       "         0.        +0.j        ,  0.        +0.j        ,\n",
       "         0.        +0.j        ,  0.        +0.j        ,\n",
       "         0.        +0.j        ,  0.        +0.j        ,\n",
       "         0.        +0.j        ,  0.        +0.j        ,\n",
       "         0.        +0.j        ,  0.        +0.j        ],\n",
       "       [ 0.        +0.j        ,  0.        +0.j        ,\n",
       "         0.        +0.j        ,  0.        +0.j        ,\n",
       "         0.        +0.j        ,  0.        +0.j        ,\n",
       "         0.        +0.j        ,  0.        +0.j        ,\n",
       "         0.        +0.j        ,  0.        +0.j        ,\n",
       "         0.        +0.j        ,  0.        +0.j        ,\n",
       "         0.        +0.j        ,  0.        +0.j        ,\n",
       "         0.        +0.j        ,  0.        +0.j        ],\n",
       "       [ 0.        +0.j        ,  0.        +0.j        ,\n",
       "         0.        +0.j        ,  0.        +0.j        ,\n",
       "         0.        +0.j        ,  0.        +0.j        ,\n",
       "         0.        +0.j        ,  0.        +0.j        ,\n",
       "         0.        +0.j        ,  0.        +0.j        ,\n",
       "         0.        +0.j        ,  0.        -0.75841222j,\n",
       "         0.        +0.j        ,  0.        +0.j        ,\n",
       "         0.        +0.j        ,  0.        +0.j        ],\n",
       "       [ 0.        +0.j        ,  0.        +0.j        ,\n",
       "         0.        +0.j        ,  0.        +0.j        ,\n",
       "         0.        +0.j        ,  0.        +0.j        ,\n",
       "         0.        +0.j        ,  0.        +0.j        ,\n",
       "         0.        +0.j        ,  0.        +0.j        ,\n",
       "        -0.85520532-0.75841222j,  0.        +0.j        ,\n",
       "         0.        +0.j        ,  0.        +0.j        ,\n",
       "         0.        +0.j        ,  0.        +0.j        ],\n",
       "       [ 0.        +0.j        ,  0.        +0.j        ,\n",
       "         0.        +0.j        ,  0.        +0.j        ,\n",
       "         0.        +0.j        ,  0.        +0.j        ,\n",
       "         0.        +0.j        ,  0.        +0.j        ,\n",
       "         0.        +0.j        ,  0.        +0.j        ,\n",
       "         0.        +0.j        ,  0.        +0.j        ,\n",
       "         0.        +0.j        ,  0.        -0.75841222j,\n",
       "         0.        +0.j        ,  0.        +0.j        ],\n",
       "       [ 0.        +0.j        ,  0.        +0.j        ,\n",
       "         0.        +0.j        ,  0.        +0.j        ,\n",
       "         0.        +0.j        ,  0.        +0.j        ,\n",
       "         0.        +0.j        ,  0.        +0.j        ,\n",
       "         0.        +0.j        ,  0.        +0.j        ,\n",
       "         0.        +0.j        ,  0.        +0.j        ,\n",
       "        -0.85520532-0.75841222j,  0.        +0.j        ,\n",
       "         0.        +0.j        ,  0.        +0.j        ],\n",
       "       [ 0.        +0.j        ,  0.        +0.j        ,\n",
       "         0.        +0.j        ,  0.        +0.j        ,\n",
       "         0.        +0.j        ,  0.        +0.j        ,\n",
       "         0.        +0.j        ,  0.        +0.j        ,\n",
       "         0.        +0.j        ,  0.        +0.j        ,\n",
       "         0.        +0.j        ,  0.        +0.j        ,\n",
       "         0.        +0.j        ,  0.        +0.j        ,\n",
       "         0.        +0.j        ,  0.        +0.j        ],\n",
       "       [ 0.        +0.j        ,  0.        +0.j        ,\n",
       "         0.        +0.j        ,  0.        +0.j        ,\n",
       "         0.        +0.j        ,  0.        +0.j        ,\n",
       "         0.        +0.j        ,  0.        +0.j        ,\n",
       "         0.        +0.j        ,  0.        +0.j        ,\n",
       "         0.        +0.j        ,  0.        +0.j        ,\n",
       "         0.        +0.j        ,  0.        +0.j        ,\n",
       "         0.        +0.j        ,  0.        +0.j        ],\n",
       "       [ 0.        +0.j        ,  0.        +0.j        ,\n",
       "         0.        +0.j        ,  0.        +0.j        ,\n",
       "         0.        +0.j        ,  0.        +0.j        ,\n",
       "         0.        +0.j        ,  0.        +0.j        ,\n",
       "         0.        +0.j        ,  0.        +0.j        ,\n",
       "         0.        +0.j        ,  0.        +0.j        ,\n",
       "         0.        +0.j        ,  0.        +0.j        ,\n",
       "         0.        +0.j        ,  0.        +0.j        ],\n",
       "       [ 0.        +0.j        ,  0.        +0.j        ,\n",
       "         0.        +0.j        ,  0.        +0.j        ,\n",
       "         0.        +0.j        ,  0.        +0.j        ,\n",
       "         0.        +0.j        ,  0.        +0.j        ,\n",
       "         0.        +0.j        ,  0.        +0.j        ,\n",
       "         0.        +0.j        ,  0.        +0.j        ,\n",
       "         0.        +0.j        ,  0.        +0.j        ,\n",
       "         0.        +0.j        ,  0.        +0.j        ],\n",
       "       [ 0.        +0.j        ,  0.        +0.j        ,\n",
       "         0.        +0.j        , -0.85520532+0.75841222j,\n",
       "         0.        +0.j        ,  0.        +0.j        ,\n",
       "         0.        +0.j        ,  0.        +0.j        ,\n",
       "         0.        +0.j        ,  0.        +0.j        ,\n",
       "         0.        +0.j        ,  0.        +0.j        ,\n",
       "         0.        +0.j        ,  0.        +0.j        ,\n",
       "         0.        +0.j        ,  0.        +0.j        ],\n",
       "       [ 0.        +0.j        ,  0.        +0.j        ,\n",
       "         0.        +0.75841222j,  0.        +0.j        ,\n",
       "         0.        +0.j        ,  0.        +0.j        ,\n",
       "         0.        +0.j        ,  0.        +0.j        ,\n",
       "         0.        +0.j        ,  0.        +0.j        ,\n",
       "         0.        +0.j        ,  0.        +0.j        ,\n",
       "         0.        +0.j        ,  0.        +0.j        ,\n",
       "         0.        +0.j        ,  0.        +0.j        ],\n",
       "       [ 0.        +0.j        ,  0.        +0.j        ,\n",
       "         0.        +0.j        ,  0.        +0.j        ,\n",
       "         0.        +0.j        , -0.85520532+0.75841222j,\n",
       "         0.        +0.j        ,  0.        +0.j        ,\n",
       "         0.        +0.j        ,  0.        +0.j        ,\n",
       "         0.        +0.j        ,  0.        +0.j        ,\n",
       "         0.        +0.j        ,  0.        +0.j        ,\n",
       "         0.        +0.j        ,  0.        +0.j        ],\n",
       "       [ 0.        +0.j        ,  0.        +0.j        ,\n",
       "         0.        +0.j        ,  0.        +0.j        ,\n",
       "         0.        +0.75841222j,  0.        +0.j        ,\n",
       "         0.        +0.j        ,  0.        +0.j        ,\n",
       "         0.        +0.j        ,  0.        +0.j        ,\n",
       "         0.        +0.j        ,  0.        +0.j        ,\n",
       "         0.        +0.j        ,  0.        +0.j        ,\n",
       "         0.        +0.j        ,  0.        +0.j        ],\n",
       "       [ 0.        +0.j        ,  0.        +0.j        ,\n",
       "         0.        +0.j        ,  0.        +0.j        ,\n",
       "         0.        +0.j        ,  0.        +0.j        ,\n",
       "         0.        +0.j        ,  0.        +0.j        ,\n",
       "         0.        +0.j        ,  0.        +0.j        ,\n",
       "         0.        +0.j        ,  0.        +0.j        ,\n",
       "         0.        +0.j        ,  0.        +0.j        ,\n",
       "         0.        +0.j        ,  0.        +0.j        ],\n",
       "       [ 0.        +0.j        ,  0.        +0.j        ,\n",
       "         0.        +0.j        ,  0.        +0.j        ,\n",
       "         0.        +0.j        ,  0.        +0.j        ,\n",
       "         0.        +0.j        ,  0.        +0.j        ,\n",
       "         0.        +0.j        ,  0.        +0.j        ,\n",
       "         0.        +0.j        ,  0.        +0.j        ,\n",
       "         0.        +0.j        ,  0.        +0.j        ,\n",
       "         0.        +0.j        ,  0.        +0.j        ]])"
      ]
     },
     "execution_count": 170,
     "metadata": {},
     "output_type": "execute_result"
    }
   ],
   "source": [
    "qc = QuantumCircuit(4)\n",
    "qc.unitary(ShatEv(1,1,1),[3,0])\n",
    "oper1=Operator(qc).data\n",
    "\n",
    "c=QuantumCircuit(4)\n",
    "c.unitary(perm4site(Shat(1,1,1)),[0,1,2,3])\n",
    "oper=Operator(c).data\n",
    "oper1-oper"
   ]
  },
  {
   "cell_type": "code",
   "execution_count": 171,
   "metadata": {},
   "outputs": [
    {
     "name": "stdout",
     "output_type": "stream",
     "text": [
      "Coordinates of non-zero elements:\n",
      "(2, 11)\n",
      "(3, 10)\n",
      "(4, 13)\n",
      "(5, 12)\n",
      "(10, 3)\n",
      "(11, 2)\n",
      "(12, 5)\n",
      "(13, 4)\n"
     ]
    }
   ],
   "source": [
    "print_nonzero_coordinates(oper1-oper)"
   ]
  },
  {
   "cell_type": "markdown",
   "metadata": {},
   "source": [
    "Coordinates of non-zero elements supporting even states (for ShatEv having c -> -c as prescribed by Mathematica file):\n",
    " \n",
    "(3, 10)->(4,11) in Mathematica: bbff<->fbfb\n",
    "\n",
    "(5, 12)->(6,13) in Mathematica: bfbf<->ffbb"
   ]
  },
  {
   "cell_type": "code",
   "execution_count": 53,
   "metadata": {},
   "outputs": [],
   "source": [
    "def print_nonzero_coordinates(arr):\n",
    "    # Get the indices of non-zero elements using np.nonzero()\n",
    "    indices = np.nonzero(arr)\n",
    "    \n",
    "    # Zip the row and column indices together\n",
    "    nonzero_indices = list(zip(indices[0], indices[1]))\n",
    "    \n",
    "    # Print the coordinates of non-zero elements\n",
    "    if len(nonzero_indices) > 0:\n",
    "        print(\"Coordinates of non-zero elements:\")\n",
    "        for idx in nonzero_indices:\n",
    "            \n",
    "            print(idx)\n",
    "    else:\n",
    "        print(\"No non-zero elements found in the array.\")\n",
    "\n"
   ]
  },
  {
   "cell_type": "code",
   "execution_count": 526,
   "metadata": {},
   "outputs": [
    {
     "data": {
      "image/png": "[encoded data removed]",
      "text/plain": [
       "<Figure size 287.496x367.889 with 1 Axes>"
      ]
     },
     "execution_count": 526,
     "metadata": {},
     "output_type": "execute_result"
    }
   ],
   "source": [
    "n=4\n",
    "qu = QuantumCircuit(n)\n",
    "qu.unitary(perm_nsite(Shat(1,1,1),n),[j for j in range(n)])\n",
    "#qu = transpile(qu, basis_gates=basis_gates, optimization_level=3)\n",
    "qu.draw(output='mpl')"
   ]
  },
  {
   "cell_type": "code",
   "execution_count": 168,
   "metadata": {},
   "outputs": [
    {
     "data": {
      "text/plain": [
       "False"
      ]
     },
     "execution_count": 168,
     "metadata": {},
     "output_type": "execute_result"
    }
   ],
   "source": [
    "A,T,G=1,1,1\n",
    "qc1 = QuantumCircuit(4)\n",
    "bwassembler_zS(qc1,Shat(A,T,G),ShatEv(A,T,G),1,4)\n",
    "qc2 = QuantumCircuit(4)\n",
    "#bwassembler_zOd(qc2,Shat(A,T,G),1,4)\n",
    "qc3=QuantumCircuit(4)\n",
    "bwassembler_z(qc3,Shat(A,T,G),1,4)\n",
    "#verify commutation with supercharges\n",
    "Qtot=Qplus4site(1,1)+Qminus4site(1,1)\n",
    "Qtot2=Qplus4site(1,1)+Qminus4site(1,1)\n",
    "op1=Operator(qc1).data\n",
    "op2=Operator(qc2).data\n",
    "op3=Operator(qc3).data\n",
    "np.allclose(Qtot@op3-op3@Qtot,np.eye(16)*0)\n",
    "#qc1.draw(output='mpl')"
   ]
  },
  {
   "cell_type": "code",
   "execution_count": 460,
   "metadata": {},
   "outputs": [
    {
     "data": {
      "image/png": "[encoded data removed]",
      "text/plain": [
       "<Figure size 956.385x367.889 with 1 Axes>"
      ]
     },
     "execution_count": 460,
     "metadata": {},
     "output_type": "execute_result"
    }
   ],
   "source": [
    "qc = QuantumCircuit(n)\n",
    "QuantumCircuit.initialize(qc,string)\n",
    "layer=1\n",
    "n=4\n",
    "matrix = Shat(A,theta,G)\n",
    "matrixev = ShatOd(A,theta,G)\n",
    "bwassembler_zS(qc,matrix,matrixev,layer,n)\n",
    "\n",
    "#qc = transpile(qc, basis_gates=basis_gates, optimization_level=3)\n",
    "qc.draw(output='mpl')\n",
    "#qc.count_ops()"
   ]
  },
  {
   "cell_type": "markdown",
   "metadata": {},
   "source": [
    "First we test whether we get same EE spectrum with new matrix given input even parity state |0000>"
   ]
  },
  {
   "cell_type": "code",
   "execution_count": 163,
   "metadata": {},
   "outputs": [
    {
     "name": "stdout",
     "output_type": "stream",
     "text": [
      "[0, 1]\n"
     ]
    }
   ],
   "source": [
    "#BIPARTITION, RE-EE even/odd\n",
    "\n",
    "\n",
    "#Circuit parameters\n",
    "n=4;A=0.25;G=0;\n",
    "\n",
    "#Define arrays\n",
    " \n",
    "thetas= np.arange(1e-10,5,0.05)\n",
    "layers = [1,2]\n",
    "sizes = np.array([4])\n",
    "ent_entropy = np.zeros((len(sizes),len(layers),len(thetas)),dtype=complex)\n",
    "renyiev = np.zeros((len(sizes),len(layers),len(thetas)),dtype=complex)\n",
    "#renyi = np.zeros((len(sizes),len(layers),len(thetas)),dtype=complex)\n",
    "eigvalsrho = np.zeros((len(sizes),len(layers),len(thetas),(2**(n//2))),dtype=complex)\n",
    "counts = np.zeros((len(layers)))\n",
    "\n",
    "basis_gates=['ecr', 'id', 'rz', 'x', 'sx']\n",
    "\n",
    "\n",
    "string = \"0000\"\n",
    "for f,n in enumerate(sizes):\n",
    "    \n",
    "    subsystem = [j for j in range(0,n//2)]\n",
    "    print(subsystem)\n",
    "    \n",
    "    for m,layer in enumerate(layers):\n",
    "        \n",
    "        #print(layer)\n",
    "        \n",
    "        for k,theta in enumerate(thetas):    \n",
    "                \n",
    "             \n",
    "            qc = QuantumCircuit(n)\n",
    "            QuantumCircuit.initialize(qc,string)\n",
    "            \n",
    "            #init with Kareljan's state\n",
    "            #qc.unitary(prodstaten(n), range(0,n))\n",
    "    \n",
    "            \n",
    "            matrix = Shat(A,theta,G)\n",
    "            matrixev = ShatEv(A,theta,G)\n",
    "            bwassembler_zS(qc,matrix,matrixev,layer,n)\n",
    "            #bwassembler_z(qc,matrix,layer,n)\n",
    "            #qc = transpile(qc, basis_gates=basis_gates, optimization_level=1)\n",
    "            \n",
    "            \n",
    "            #######################################################################    \n",
    "            #access density matrix  \n",
    "            rho = DensityMatrix(qc)\n",
    "            \n",
    "            reduced_rho=partial_trace(rho, subsystem)\n",
    "            \n",
    "            #find the eigenvalues of the reduced density matrix\n",
    "            eigenvalues,_ = np.linalg.eig(reduced_rho)\n",
    "           \n",
    "            #compute the entanglement entropy\n",
    "            \n",
    "            order = eigenvalues.argsort()\n",
    "            eigenvalues = eigenvalues[order]\n",
    "            #eigvalsrho[f,m,k,:]= eigenvalues\n",
    "            entanglement_entropy = -np.sum(eigenvalues * np.log(eigenvalues))\n",
    "            renyiev[f,m,k]=-np.log(DensityMatrix.purity(reduced_rho))\n",
    "            #renyi[f,m,k]=-np.log(DensityMatrix.purity(reduced_rho))\n",
    "            ent_entropy[f,m,k]=entanglement_entropy\n",
    "            #print(k,ent_entropy[k])\n",
    "            ######################################################################\n"
   ]
  },
  {
   "cell_type": "code",
   "execution_count": 164,
   "metadata": {},
   "outputs": [
    {
     "name": "stdout",
     "output_type": "stream",
     "text": [
      "[0, 1]\n"
     ]
    }
   ],
   "source": [
    "#BIPARTITION, RE-EE normal\n",
    "\n",
    "\n",
    "#Circuit parameters\n",
    "#n=4;A=0.25;G=0;\n",
    "\n",
    "#Define arrays\n",
    " \n",
    "#thetas= np.arange(1e-10,50,0.05)\n",
    "#layers = [1,2,3,4,5,6]\n",
    "#sizes = np.array([4])\n",
    "ent_entropy = np.zeros((len(sizes),len(layers),len(thetas)),dtype=complex)\n",
    "#renyiev = np.zeros((len(sizes),len(layers),len(thetas)),dtype=complex)\n",
    "renyi = np.zeros((len(sizes),len(layers),len(thetas)),dtype=complex)\n",
    "eigvalsrho = np.zeros((len(sizes),len(layers),len(thetas),(2**(n//2))),dtype=complex)\n",
    "counts = np.zeros((len(layers)))\n",
    "\n",
    "basis_gates=['ecr', 'id', 'rz', 'x', 'sx']\n",
    "\n",
    "\n",
    "\n",
    "for f,n in enumerate(sizes):\n",
    "    \n",
    "    subsystem = [j for j in range(0,n//2)]\n",
    "    print(subsystem)\n",
    "    \n",
    "    for m,layer in enumerate(layers):\n",
    "        \n",
    "        #print(layer)\n",
    "        \n",
    "        for k,theta in enumerate(thetas):    \n",
    "                \n",
    "            \n",
    "            qc = QuantumCircuit(n)\n",
    "            QuantumCircuit.initialize(qc,string)\n",
    "            \n",
    "            #init with Kareljan's state\n",
    "            #qc.unitary(prodstaten(n), range(0,n))\n",
    "    \n",
    "            \n",
    "            matrix = Shat(A,theta,G)\n",
    "            \n",
    "            bwassembler_z(qc,matrix,layer,n)\n",
    "            #qc = transpile(qc, basis_gates=basis_gates, optimization_level=1)\n",
    "            \n",
    "            \n",
    "            #######################################################################    \n",
    "            #access density matrix  \n",
    "            rho = DensityMatrix(qc)\n",
    "            \n",
    "            reduced_rho=partial_trace(rho, subsystem)\n",
    "            \n",
    "            #find the eigenvalues of the reduced density matrix\n",
    "            eigenvalues,_ = np.linalg.eig(reduced_rho)\n",
    "           \n",
    "            #compute the entanglement entropy\n",
    "            \n",
    "            order = eigenvalues.argsort()\n",
    "            eigenvalues = eigenvalues[order]\n",
    "            #eigvalsrho[f,m,k,:]= eigenvalues\n",
    "            entanglement_entropy = -np.sum(eigenvalues * np.log(eigenvalues))\n",
    "            #renyiev[f,m,k]=-np.log(DensityMatrix.purity(reduced_rho))\n",
    "            renyi[f,m,k]=-np.log(DensityMatrix.purity(reduced_rho))\n",
    "            ent_entropy[f,m,k]=entanglement_entropy\n",
    "            #print(k,ent_entropy[k])\n",
    "            ######################################################################\n"
   ]
  },
  {
   "cell_type": "code",
   "execution_count": 165,
   "metadata": {},
   "outputs": [
    {
     "name": "stderr",
     "output_type": "stream",
     "text": [
      "/home/alberto/anaconda3/envs/qusim2/lib/python3.12/site-packages/matplotlib/cbook.py:1699: ComplexWarning: Casting complex values to real discards the imaginary part\n",
      "  return math.isfinite(val)\n",
      "/home/alberto/anaconda3/envs/qusim2/lib/python3.12/site-packages/matplotlib/cbook.py:1345: ComplexWarning: Casting complex values to real discards the imaginary part\n",
      "  return np.asarray(x, float)\n"
     ]
    },
    {
     "data": {
      "text/plain": [
       "<matplotlib.legend.Legend at 0x7f975dc20aa0>"
      ]
     },
     "execution_count": 165,
     "metadata": {},
     "output_type": "execute_result"
    },
    {
     "data": {
      "image/png": "[encoded data removed]",
      "text/plain": [
       "<Figure size 640x480 with 1 Axes>"
      ]
     },
     "metadata": {},
     "output_type": "display_data"
    }
   ],
   "source": [
    "\n",
    "\n",
    "for j,size in enumerate(layers):\n",
    "    color1 = next(color_cycle1)\n",
    "    #plt.plot(thetas,ent_entropy[j,0],'-', c=color1,label='EE N='+str(size))\n",
    "    color2 = next(color_cycle2)\n",
    "    plt.plot(thetas,renyi[0,j],'-', c='green',label='m='+str(size))\n",
    "    plt.plot(thetas,renyiev[0,j],'-', c='blue',label='ev,m='+str(size))\n",
    "    \n",
    "#plt.plot(thetas,eigvalsrho[0,0,:],'-.')\n",
    "\n",
    "\n",
    "#plt.title('PBC, A= '+str(A)+' G='+str(G)+' init 0',**csfont)\n",
    "for j in range(1,3):\n",
    "    plt.axhline(y=j*np.log(2), linestyle='--')\n",
    "\n",
    "plt.xlabel(r'$\\theta$', **csfont)\n",
    "plt.ylabel('RE', **csfont)\n",
    "plt.xlim(0,5)\n",
    "#plt.ylim(0,1.5)\n",
    "plt.legend(loc='upper right')   \n"
   ]
  },
  {
   "cell_type": "code",
   "execution_count": 142,
   "metadata": {},
   "outputs": [],
   "source": [
    "csfont = {'fontname':'Serif'}\n",
    "from itertools import cycle\n",
    "colormap1 = plt.cm.cool\n",
    "color_cycle1 = cycle(colormap1(np.linspace(0, 1, len(layers))))\n",
    "colormap2 = plt.cm.spring\n",
    "color_cycle2 = cycle(colormap2(np.linspace(0, 1, len(sizes))))\n",
    "leng= np.array([2,3,4],dtype=int)"
   ]
  },
  {
   "cell_type": "code",
   "execution_count": null,
   "metadata": {},
   "outputs": [],
   "source": []
  },
  {
   "cell_type": "code",
   "execution_count": null,
   "metadata": {},
   "outputs": [],
   "source": []
  }
 ],
 "metadata": {
  "kernelspec": {
   "display_name": "qusim2",
   "language": "python",
   "name": "python3"
  },
  "language_info": {
   "codemirror_mode": {
    "name": "ipython",
    "version": 3
   },
   "file_extension": ".py",
   "mimetype": "text/x-python",
   "name": "python",
   "nbconvert_exporter": "python",
   "pygments_lexer": "ipython3",
   "version": "3.12.2"
  }
 },
 "nbformat": 4,
 "nbformat_minor": 2
}
