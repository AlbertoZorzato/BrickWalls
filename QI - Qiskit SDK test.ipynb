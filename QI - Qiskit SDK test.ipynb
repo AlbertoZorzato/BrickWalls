{
 "cells": [
  {
   "cell_type": "code",
   "execution_count": 36,
   "id": "f84727d2",
   "metadata": {},
   "outputs": [],
   "source": [
    "from tqdm import tqdm\n",
    "from qiskit import quantum_info\n",
    "from qiskit.quantum_info import DensityMatrix, Statevector, partial_trace\n",
    "from qiskit.visualization import plot_histogram\n",
    "import matplotlib.pyplot as plt\n",
    "import numpy as np\n",
    "#from qiskit_experiments.framework import ParallelExperiment\n",
    "from qiskit_experiments.library import StateTomography\n",
    "from qiskit.providers.aer import AerSimulator\n",
    "from qiskit import Aer, execute\n",
    "from qiskit.providers.fake_provider import FakeParis\n",
    "from numpy.linalg import norm \n",
    "import cvxpy\n",
    "#set noisy simulator backend \n",
    "#backend = AerSimulator.from_backend(FakeParis())\n",
    "from qiskit import QuantumCircuit, transpile\n",
    "from qiskit.quantum_info import Operator\n",
    "from qiskit.transpiler import PassManager\n",
    "from qiskit.transpiler.passes import Unroller\n",
    "from qiskit.visualization import plot_state_city\n",
    "from qiskit.visualization import plot_histogram\n",
    "from qiskit.quantum_info import SparsePauliOp\n",
    "from qiskit_ibm_runtime import Estimator, Session, QiskitRuntimeService, Options, Sampler\n",
    "from qiskit.visualization import array_to_latex\n",
    "basis_gates=['cx', 'id', 'rz', 'x', 'sx']\n",
    "from IPython.core.interactiveshell import InteractiveShell\n",
    "InteractiveShell.ast_node_interactivity = \"all\""
   ]
  },
  {
   "cell_type": "code",
   "execution_count": 3,
   "id": "b12dc80b",
   "metadata": {},
   "outputs": [],
   "source": [
    "def Shat(A,T,G): \n",
    "    \n",
    "    t = np.tanh(T/4 + G/4)\n",
    "    tt = np.tanh(T/4 - G/4)\n",
    "    Shatf = np.array([[1-t*tt,0,0,t+tt],[0,1+t*tt,t-tt,0],[0,-t+tt,1+t*tt,0],[-t-tt,0,0,1-t*tt]],dtype=complex)\n",
    "    Shatg = np.array([[1,0,0,0],[0,0,1,0],[0,1,0,0],[0,0,0,-1]],dtype=complex)\n",
    "    f = -(1j/4)*A*(2*np.cosh(T/2)+2*np.cosh(G/2))*(1/np.sinh(T/2))*(1/np.cosh(T/2))\n",
    "    Shat = f*Shatf+Shatg\n",
    "    Nalpha = 1+2*A**(2)*(np.cosh(T)/np.sinh(T))*(1/np.sinh(T))+2*A**(2)*np.cosh(G)*(1/np.sinh(T))**(2)\n",
    "    #Shat = (-1/np.sqrt(Nalpha))*Shat\n",
    "    return Shat\n",
    "\n",
    "def Nk(T):\n",
    "    return (np.cosh(T/2))/2\n",
    "\n",
    "def K(T):\n",
    "    \n",
    "    K2 = Ur = np.zeros((2,2), dtype=complex)\n",
    "    \n",
    "    coef1 = np.cos(np.pi/4 + 1j*T/2)\n",
    "    coef2 = np.cos(np.pi/4 - 1j*T/2)\n",
    "    \n",
    "    K2[0,0]=coef1\n",
    "    K2[1,1]=coef2\n",
    "    #K2 = 1/np.sqrt(np.cosh(T)/2)*K2\n",
    "    \n",
    "    return K2\n",
    "\n",
    "def Na(A,T,G):\n",
    "    return 1+2*A**(2)*(np.cosh(T)/np.sinh(T))*(1/np.sinh(T))+2*A**(2)*np.cosh(G)*(1/np.sinh(T))**(2)\n",
    "\n",
    "\n"
   ]
  },
  {
   "cell_type": "code",
   "execution_count": 14,
   "id": "e8048ca2",
   "metadata": {},
   "outputs": [
    {
     "data": {
      "text/plain": [
       "True"
      ]
     },
     "execution_count": 14,
     "metadata": {},
     "output_type": "execute_result"
    }
   ],
   "source": [
    "np.allclose(matrix@matrix.conj().T,np.eye(8))"
   ]
  },
  {
   "cell_type": "code",
   "execution_count": 5,
   "id": "fb0fed11",
   "metadata": {},
   "outputs": [],
   "source": [
    "import os \n",
    "from quantuminspire.credentials import get_authentication\n",
    "from quantuminspire.api import QuantumInspireAPI\n",
    "from quantuminspire.qiskit import QI\n",
    "\n",
    "QI_URL = os.getenv('API_URL', 'https://api.quantum-inspire.com/')"
   ]
  },
  {
   "cell_type": "code",
   "execution_count": 6,
   "id": "90da3923",
   "metadata": {},
   "outputs": [],
   "source": [
    "#only if not saved already\n",
    "from quantuminspire.credentials import save_account\n",
    "save_account('1549f0e9cf336b539c2fea0d4f0869ce002d9900') #if token changes change it here too"
   ]
  },
  {
   "cell_type": "code",
   "execution_count": 7,
   "id": "5aa42e74",
   "metadata": {},
   "outputs": [],
   "source": [
    "#we connect to QI, our account is saved in disk, if not just run cell above\n",
    "authentication = get_authentication()\n",
    "QI.set_authentication(authentication, QI_URL)"
   ]
  },
  {
   "cell_type": "code",
   "execution_count": 8,
   "id": "18c87d36",
   "metadata": {},
   "outputs": [
    {
     "data": {
      "text/plain": [
       "[<QuantumInspireBackend('Spin-2')>,\n",
       " <QuantumInspireBackend('Starmon-5')>,\n",
       " <QuantumInspireBackend('QX-34-L')>,\n",
       " <QuantumInspireBackend('QX single-node simulator')>]"
      ]
     },
     "execution_count": 8,
     "metadata": {},
     "output_type": "execute_result"
    }
   ],
   "source": [
    "QI.backends()"
   ]
  },
  {
   "cell_type": "code",
   "execution_count": 10,
   "id": "295630b8",
   "metadata": {},
   "outputs": [],
   "source": [
    "Had = 1/(np.sqrt(2))*np.array([[1,0,0,1],[0,1,1,0],[0,1,-1,0],[1,0,0,-1]], dtype=complex)"
   ]
  },
  {
   "cell_type": "code",
   "execution_count": 11,
   "id": "2342753d",
   "metadata": {
    "scrolled": true
   },
   "outputs": [
    {
     "name": "stdout",
     "output_type": "stream",
     "text": [
      "False False False\n",
      "False False False\n"
     ]
    }
   ],
   "source": [
    "A,G,T=10.118,0,6.0\n",
    "#layer by layer unitarity check \n",
    "layer1 = np.kron(Shat(A,T,G),K(T/2))\n",
    "layer1tilde=np.kron(Had,K(T/2))\n",
    "layer2 = np.kron(K(-T/2),Shat(A,T,0))\n",
    "layer2tilde = np.kron(K(-T/2),Had)\n",
    "layer3 = np.kron(Shat(A,T,-G),K(T/2))\n",
    "print(np.allclose(layer1@layer1.conj().T,np.eye(8)),np.allclose(layer2@layer2.conj().T,np.eye(8)),np.allclose(layer3@layer3.conj().T,np.eye(8)))\n",
    "layer4 = np.kron(K(-T/2),Shat(A,T,-G))\n",
    "layer5 = np.kron(Shat(A,T,0),K(T/2))\n",
    "layer6 = np.kron(K(-T/2),Shat(A,T,G))\n",
    "print(np.allclose(layer4@layer4.conj().T,np.eye(8)),np.allclose(layer5@layer5.conj().T,np.eye(8)),np.allclose(layer6@layer6.conj().T,np.eye(8)))"
   ]
  },
  {
   "cell_type": "code",
   "execution_count": 15,
   "id": "8ff4400c",
   "metadata": {},
   "outputs": [],
   "source": [
    "x=np.exp(T/4);y=np.exp(G/4)\n",
    "X=np.array([[0,1],[1,0]])\n",
    "Y=np.array([[0,-1j],[1j,0]])\n",
    "Z=np.array([[1,0],[0,-1]])\n",
    "Q1plus=np.kron(X,np.eye(4))\n",
    "Q2plus=np.kron(Z,np.kron(X,np.eye(2)))\n",
    "Q3plus=np.kron(Z,np.kron(Z,X))\n",
    "Q1min=np.kron(Y,np.eye(4))\n",
    "Q2min=np.kron(Z,np.kron(Y,np.eye(2)))\n",
    "Q3min=np.kron(Z,np.kron(Z,Y))\n",
    "Qtotbefore1=Q1plus*(x*y)+Q2plus*(1/(x*y))+Q3plus*(x*y) + Q1min*(y/x)+Q2min*(x/y)+Q3min*(y/x)"
   ]
  },
  {
   "cell_type": "code",
   "execution_count": 16,
   "id": "cccc7a80",
   "metadata": {},
   "outputs": [],
   "source": [
    "matrix=layer6@layer5@layer4@layer3@layer2@layer1*(1/(Na(A,T,G)*(Na(A,T,0)*(Na(A,T,-G)*Nk(T)**(3)))))\n",
    "#matrix=layer2@layer1*(1/((Na(A,T,0)*Nk(T))))\n",
    "matrixtilde=layer2tilde@layer1tilde"
   ]
  },
  {
   "cell_type": "code",
   "execution_count": 17,
   "id": "afdadb6b",
   "metadata": {},
   "outputs": [
    {
     "name": "stdout",
     "output_type": "stream",
     "text": [
      "(25.339454515306972-2.5026866669207594e-17j)\n"
     ]
    }
   ],
   "source": [
    "coef=(matrixtilde@matrixtilde.conj().T)[1,1]\n",
    "print(coef)"
   ]
  },
  {
   "cell_type": "code",
   "execution_count": 18,
   "id": "13e6740d",
   "metadata": {},
   "outputs": [
    {
     "name": "stderr",
     "output_type": "stream",
     "text": [
      "/home/alberto/anaconda3/envs/qusim/lib/python3.10/site-packages/qiskit/visualization/circuit/matplotlib.py:266: FutureWarning: The default matplotlib drawer scheme will be changed to \"iqp\" in a following release. To silence this warning, specify the current default explicitly as style=\"clifford\", or the new default as style=\"iqp\".\n",
      "  self._style, def_font_ratio = load_style(self._style)\n"
     ]
    },
    {
     "data": {
      "image/png": "[encoded data removed]",
      "text/plain": [
       "<Figure size 371.107x451.5 with 1 Axes>"
      ]
     },
     "execution_count": 18,
     "metadata": {},
     "output_type": "execute_result"
    }
   ],
   "source": [
    "n=5\n",
    "\n",
    "qc = QuantumCircuit(n)\n",
    "###\n",
    "\n",
    "###\n",
    "l=0\n",
    "layer=1\n",
    "while l<layer:\n",
    "    ##1\n",
    "    qc.barrier(range(n))\n",
    "    #qc.unitary((1/np.sqrt(coef))*matrixtilde,[0,1,2],label='ff')\n",
    "    qc.unitary(matrix,[1,2,3],label='UBW')\n",
    "    #qc.unitary(Shat(A,T,G),[0,1],label='S12 +')\n",
    "    #qc.unitary(K(T/2),[2],label=r'$K(\\theta/2)$')  \n",
    "    ##2\n",
    "    #qc.unitary(K(-T/2),[0],label=r'$K(-\\theta/2)$')\n",
    "    #qc.unitary(Shat(A,T,0),[1,2],label='S23 0')\n",
    "    ##3\n",
    "    #qc.unitary(Shat(A,T,-G),[0,1],label='S12 -')\n",
    "    #qc.unitary(K(T/2),[2],label=r'$K(\\theta/2)$')\n",
    "    ##4\n",
    "    #qc.unitary(K(-T/2),[0],label=r'$K(-\\theta/2)$')\n",
    "    #qc.unitary(Shat(A,T,-G),[1,2],label='S23 -')\n",
    "    ##5\n",
    "    #qc.unitary(Shat(A,T,0),[0,1],label='S12 0')\n",
    "    #qc.unitary(K(T/2),[2],label=r'$K(\\theta/2)$')\n",
    "    ##6\n",
    "    #qc.unitary(K(-T/2),[0],label=r'$K(-\\theta/2)$')\n",
    "    #qc.unitary(Shat(A,T,G),[1,2],label='S23 +')\n",
    "    l=+1\n",
    "    \n",
    "\n",
    "\n",
    "#circ = q0.compose(qc)\n",
    "#circ.barrier(range(n))\n",
    "op=Operator(qc)\n",
    "op=op.data\n",
    "\n",
    "#circ = circ.compose(circ.inverse())\n",
    "qc.draw(output='mpl')"
   ]
  },
  {
   "cell_type": "code",
   "execution_count": 19,
   "id": "3a4736be",
   "metadata": {
    "collapsed": true,
    "jupyter": {
     "outputs_hidden": true
    }
   },
   "outputs": [
    {
     "ename": "ValueError",
     "evalue": "matmul: Input operand 1 has a mismatch in its core dimension 0, with gufunc signature (n?,k),(k,m?)->(n?,m?) (size 32 is different from 8)",
     "output_type": "error",
     "traceback": [
      "\u001b[0;31m---------------------------------------------------------------------------\u001b[0m",
      "\u001b[0;31mValueError\u001b[0m                                Traceback (most recent call last)",
      "Cell \u001b[0;32mIn[19], line 2\u001b[0m\n\u001b[1;32m      1\u001b[0m \u001b[38;5;66;03m#verify fermionic symmetry for UBW or 3 sites - FERMIONIC SYMMETRY NOT SATISFIED\u001b[39;00m\n\u001b[0;32m----> 2\u001b[0m comm \u001b[38;5;241m=\u001b[39m \u001b[43mQtotbefore1\u001b[49m\u001b[38;5;129;43m@op\u001b[39;49m\u001b[38;5;241m-\u001b[39mop\u001b[38;5;129m@Qtotbefore1\u001b[39m\n\u001b[1;32m      3\u001b[0m \u001b[38;5;28mprint\u001b[39m(\u001b[38;5;124m'\u001b[39m\u001b[38;5;124mfermionic symmetry is:\u001b[39m\u001b[38;5;124m'\u001b[39m,np\u001b[38;5;241m.\u001b[39mallclose(comm, \u001b[38;5;241m0\u001b[39m\u001b[38;5;241m*\u001b[39mnp\u001b[38;5;241m.\u001b[39meye(\u001b[38;5;241m8\u001b[39m)))\n",
      "\u001b[0;31mValueError\u001b[0m: matmul: Input operand 1 has a mismatch in its core dimension 0, with gufunc signature (n?,k),(k,m?)->(n?,m?) (size 32 is different from 8)"
     ]
    }
   ],
   "source": [
    "#verify fermionic symmetry for UBW or 3 sites - FERMIONIC SYMMETRY NOT SATISFIED\n",
    "comm = Qtotbefore1@op-op@Qtotbefore1\n",
    "print('fermionic symmetry is:',np.allclose(comm, 0*np.eye(8)))"
   ]
  },
  {
   "cell_type": "code",
   "execution_count": 21,
   "id": "f6745b91",
   "metadata": {
    "collapsed": true,
    "jupyter": {
     "outputs_hidden": true
    }
   },
   "outputs": [
    {
     "ename": "ValueError",
     "evalue": "axes don't match array",
     "output_type": "error",
     "traceback": [
      "\u001b[0;31m---------------------------------------------------------------------------\u001b[0m",
      "\u001b[0;31mValueError\u001b[0m                                Traceback (most recent call last)",
      "Cell \u001b[0;32mIn[21], line 3\u001b[0m\n\u001b[1;32m      1\u001b[0m state \u001b[38;5;241m=\u001b[39m Statevector\u001b[38;5;241m.\u001b[39mfrom_int(\u001b[38;5;241m0\u001b[39m, \u001b[38;5;241m2\u001b[39m\u001b[38;5;241m*\u001b[39m\u001b[38;5;241m*\u001b[39m\u001b[38;5;241m3\u001b[39m)\n\u001b[1;32m      2\u001b[0m \u001b[38;5;66;03m# Evolve the state by the quantum circuit\u001b[39;00m\n\u001b[0;32m----> 3\u001b[0m state \u001b[38;5;241m=\u001b[39m \u001b[43mstate\u001b[49m\u001b[38;5;241;43m.\u001b[39;49m\u001b[43mevolve\u001b[49m\u001b[43m(\u001b[49m\u001b[43mqc\u001b[49m\u001b[43m)\u001b[49m\n\u001b[1;32m      4\u001b[0m \u001b[38;5;66;03m#draw using latex\u001b[39;00m\n\u001b[1;32m      5\u001b[0m state\u001b[38;5;241m.\u001b[39mdraw(\u001b[38;5;124m'\u001b[39m\u001b[38;5;124mlatex\u001b[39m\u001b[38;5;124m'\u001b[39m)\n",
      "File \u001b[0;32m~/anaconda3/envs/qusim/lib/python3.10/site-packages/qiskit/quantum_info/states/statevector.py:392\u001b[0m, in \u001b[0;36mStatevector.evolve\u001b[0;34m(self, other, qargs)\u001b[0m\n\u001b[1;32m    390\u001b[0m     \u001b[38;5;28;01mif\u001b[39;00m \u001b[38;5;28mself\u001b[39m\u001b[38;5;241m.\u001b[39mnum_qubits \u001b[38;5;129;01mis\u001b[39;00m \u001b[38;5;28;01mNone\u001b[39;00m:\n\u001b[1;32m    391\u001b[0m         \u001b[38;5;28;01mraise\u001b[39;00m QiskitError(\u001b[38;5;124m\"\u001b[39m\u001b[38;5;124mCannot apply QuantumCircuit to non-qubit Statevector.\u001b[39m\u001b[38;5;124m\"\u001b[39m)\n\u001b[0;32m--> 392\u001b[0m     \u001b[38;5;28;01mreturn\u001b[39;00m \u001b[38;5;28;43mself\u001b[39;49m\u001b[38;5;241;43m.\u001b[39;49m\u001b[43m_evolve_instruction\u001b[49m\u001b[43m(\u001b[49m\u001b[43mret\u001b[49m\u001b[43m,\u001b[49m\u001b[43m \u001b[49m\u001b[43mother\u001b[49m\u001b[43m,\u001b[49m\u001b[43m \u001b[49m\u001b[43mqargs\u001b[49m\u001b[38;5;241;43m=\u001b[39;49m\u001b[43mqargs\u001b[49m\u001b[43m)\u001b[49m\n\u001b[1;32m    394\u001b[0m \u001b[38;5;66;03m# Evolution by an Operator\u001b[39;00m\n\u001b[1;32m    395\u001b[0m \u001b[38;5;28;01mif\u001b[39;00m \u001b[38;5;129;01mnot\u001b[39;00m \u001b[38;5;28misinstance\u001b[39m(other, Operator):\n",
      "File \u001b[0;32m~/anaconda3/envs/qusim/lib/python3.10/site-packages/qiskit/quantum_info/states/statevector.py:960\u001b[0m, in \u001b[0;36mStatevector._evolve_instruction\u001b[0;34m(statevec, obj, qargs)\u001b[0m\n\u001b[1;32m    958\u001b[0m     \u001b[38;5;28;01melse\u001b[39;00m:\n\u001b[1;32m    959\u001b[0m         new_qargs \u001b[38;5;241m=\u001b[39m [qargs[qubits[tup]] \u001b[38;5;28;01mfor\u001b[39;00m tup \u001b[38;5;129;01min\u001b[39;00m instruction\u001b[38;5;241m.\u001b[39mqubits]\n\u001b[0;32m--> 960\u001b[0m     \u001b[43mStatevector\u001b[49m\u001b[38;5;241;43m.\u001b[39;49m\u001b[43m_evolve_instruction\u001b[49m\u001b[43m(\u001b[49m\u001b[43mstatevec\u001b[49m\u001b[43m,\u001b[49m\u001b[43m \u001b[49m\u001b[43minstruction\u001b[49m\u001b[38;5;241;43m.\u001b[39;49m\u001b[43moperation\u001b[49m\u001b[43m,\u001b[49m\u001b[43m \u001b[49m\u001b[43mqargs\u001b[49m\u001b[38;5;241;43m=\u001b[39;49m\u001b[43mnew_qargs\u001b[49m\u001b[43m)\u001b[49m\n\u001b[1;32m    961\u001b[0m \u001b[38;5;28;01mreturn\u001b[39;00m statevec\n",
      "File \u001b[0;32m~/anaconda3/envs/qusim/lib/python3.10/site-packages/qiskit/quantum_info/states/statevector.py:900\u001b[0m, in \u001b[0;36mStatevector._evolve_instruction\u001b[0;34m(statevec, obj, qargs)\u001b[0m\n\u001b[1;32m    896\u001b[0m mat \u001b[38;5;241m=\u001b[39m Operator\u001b[38;5;241m.\u001b[39m_instruction_to_matrix(obj)\n\u001b[1;32m    897\u001b[0m \u001b[38;5;28;01mif\u001b[39;00m mat \u001b[38;5;129;01mis\u001b[39;00m \u001b[38;5;129;01mnot\u001b[39;00m \u001b[38;5;28;01mNone\u001b[39;00m:\n\u001b[1;32m    898\u001b[0m     \u001b[38;5;66;03m# Perform the composition and inplace update the current state\u001b[39;00m\n\u001b[1;32m    899\u001b[0m     \u001b[38;5;66;03m# of the operator\u001b[39;00m\n\u001b[0;32m--> 900\u001b[0m     \u001b[38;5;28;01mreturn\u001b[39;00m \u001b[43mStatevector\u001b[49m\u001b[38;5;241;43m.\u001b[39;49m\u001b[43m_evolve_operator\u001b[49m\u001b[43m(\u001b[49m\u001b[43mstatevec\u001b[49m\u001b[43m,\u001b[49m\u001b[43m \u001b[49m\u001b[43mOperator\u001b[49m\u001b[43m(\u001b[49m\u001b[43mmat\u001b[49m\u001b[43m)\u001b[49m\u001b[43m,\u001b[49m\u001b[43m \u001b[49m\u001b[43mqargs\u001b[49m\u001b[38;5;241;43m=\u001b[39;49m\u001b[43mqargs\u001b[49m\u001b[43m)\u001b[49m\n\u001b[1;32m    902\u001b[0m \u001b[38;5;66;03m# Special instruction types\u001b[39;00m\n\u001b[1;32m    903\u001b[0m \u001b[38;5;28;01mif\u001b[39;00m \u001b[38;5;28misinstance\u001b[39m(obj, Reset):\n",
      "File \u001b[0;32m~/anaconda3/envs/qusim/lib/python3.10/site-packages/qiskit/quantum_info/states/statevector.py:865\u001b[0m, in \u001b[0;36mStatevector._evolve_operator\u001b[0;34m(statevec, oper, qargs)\u001b[0m\n\u001b[1;32m    862\u001b[0m contract_shape \u001b[38;5;241m=\u001b[39m (contract_dim, statevec\u001b[38;5;241m.\u001b[39m_op_shape\u001b[38;5;241m.\u001b[39mshape[\u001b[38;5;241m0\u001b[39m] \u001b[38;5;241m/\u001b[39m\u001b[38;5;241m/\u001b[39m contract_dim)\n\u001b[1;32m    864\u001b[0m \u001b[38;5;66;03m# Reshape and transpose input array for contraction\u001b[39;00m\n\u001b[0;32m--> 865\u001b[0m tensor \u001b[38;5;241m=\u001b[39m \u001b[43mnp\u001b[49m\u001b[38;5;241;43m.\u001b[39;49m\u001b[43mtranspose\u001b[49m\u001b[43m(\u001b[49m\n\u001b[1;32m    866\u001b[0m \u001b[43m    \u001b[49m\u001b[43mnp\u001b[49m\u001b[38;5;241;43m.\u001b[39;49m\u001b[43mreshape\u001b[49m\u001b[43m(\u001b[49m\u001b[43mstatevec\u001b[49m\u001b[38;5;241;43m.\u001b[39;49m\u001b[43mdata\u001b[49m\u001b[43m,\u001b[49m\u001b[43m \u001b[49m\u001b[43mstatevec\u001b[49m\u001b[38;5;241;43m.\u001b[39;49m\u001b[43m_op_shape\u001b[49m\u001b[38;5;241;43m.\u001b[39;49m\u001b[43mtensor_shape\u001b[49m\u001b[43m)\u001b[49m\u001b[43m,\u001b[49m\n\u001b[1;32m    867\u001b[0m \u001b[43m    \u001b[49m\u001b[43maxes\u001b[49m\u001b[43m,\u001b[49m\n\u001b[1;32m    868\u001b[0m \u001b[43m\u001b[49m\u001b[43m)\u001b[49m\n\u001b[1;32m    869\u001b[0m tensor_shape \u001b[38;5;241m=\u001b[39m tensor\u001b[38;5;241m.\u001b[39mshape\n\u001b[1;32m    871\u001b[0m \u001b[38;5;66;03m# Perform contraction\u001b[39;00m\n",
      "File \u001b[0;32m<__array_function__ internals>:180\u001b[0m, in \u001b[0;36mtranspose\u001b[0;34m(*args, **kwargs)\u001b[0m\n",
      "File \u001b[0;32m~/anaconda3/envs/qusim/lib/python3.10/site-packages/numpy/core/fromnumeric.py:660\u001b[0m, in \u001b[0;36mtranspose\u001b[0;34m(a, axes)\u001b[0m\n\u001b[1;32m    601\u001b[0m \u001b[38;5;129m@array_function_dispatch\u001b[39m(_transpose_dispatcher)\n\u001b[1;32m    602\u001b[0m \u001b[38;5;28;01mdef\u001b[39;00m \u001b[38;5;21mtranspose\u001b[39m(a, axes\u001b[38;5;241m=\u001b[39m\u001b[38;5;28;01mNone\u001b[39;00m):\n\u001b[1;32m    603\u001b[0m \u001b[38;5;250m    \u001b[39m\u001b[38;5;124;03m\"\"\"\u001b[39;00m\n\u001b[1;32m    604\u001b[0m \u001b[38;5;124;03m    Reverse or permute the axes of an array; returns the modified array.\u001b[39;00m\n\u001b[1;32m    605\u001b[0m \n\u001b[0;32m   (...)\u001b[0m\n\u001b[1;32m    658\u001b[0m \n\u001b[1;32m    659\u001b[0m \u001b[38;5;124;03m    \"\"\"\u001b[39;00m\n\u001b[0;32m--> 660\u001b[0m     \u001b[38;5;28;01mreturn\u001b[39;00m \u001b[43m_wrapfunc\u001b[49m\u001b[43m(\u001b[49m\u001b[43ma\u001b[49m\u001b[43m,\u001b[49m\u001b[43m \u001b[49m\u001b[38;5;124;43m'\u001b[39;49m\u001b[38;5;124;43mtranspose\u001b[39;49m\u001b[38;5;124;43m'\u001b[39;49m\u001b[43m,\u001b[49m\u001b[43m \u001b[49m\u001b[43maxes\u001b[49m\u001b[43m)\u001b[49m\n",
      "File \u001b[0;32m~/anaconda3/envs/qusim/lib/python3.10/site-packages/numpy/core/fromnumeric.py:57\u001b[0m, in \u001b[0;36m_wrapfunc\u001b[0;34m(obj, method, *args, **kwds)\u001b[0m\n\u001b[1;32m     54\u001b[0m     \u001b[38;5;28;01mreturn\u001b[39;00m _wrapit(obj, method, \u001b[38;5;241m*\u001b[39margs, \u001b[38;5;241m*\u001b[39m\u001b[38;5;241m*\u001b[39mkwds)\n\u001b[1;32m     56\u001b[0m \u001b[38;5;28;01mtry\u001b[39;00m:\n\u001b[0;32m---> 57\u001b[0m     \u001b[38;5;28;01mreturn\u001b[39;00m \u001b[43mbound\u001b[49m\u001b[43m(\u001b[49m\u001b[38;5;241;43m*\u001b[39;49m\u001b[43margs\u001b[49m\u001b[43m,\u001b[49m\u001b[43m \u001b[49m\u001b[38;5;241;43m*\u001b[39;49m\u001b[38;5;241;43m*\u001b[39;49m\u001b[43mkwds\u001b[49m\u001b[43m)\u001b[49m\n\u001b[1;32m     58\u001b[0m \u001b[38;5;28;01mexcept\u001b[39;00m \u001b[38;5;167;01mTypeError\u001b[39;00m:\n\u001b[1;32m     59\u001b[0m     \u001b[38;5;66;03m# A TypeError occurs if the object does have such a method in its\u001b[39;00m\n\u001b[1;32m     60\u001b[0m     \u001b[38;5;66;03m# class, but its signature is not identical to that of NumPy's. This\u001b[39;00m\n\u001b[0;32m   (...)\u001b[0m\n\u001b[1;32m     64\u001b[0m     \u001b[38;5;66;03m# Call _wrapit from within the except clause to ensure a potential\u001b[39;00m\n\u001b[1;32m     65\u001b[0m     \u001b[38;5;66;03m# exception has a traceback chain.\u001b[39;00m\n\u001b[1;32m     66\u001b[0m     \u001b[38;5;28;01mreturn\u001b[39;00m _wrapit(obj, method, \u001b[38;5;241m*\u001b[39margs, \u001b[38;5;241m*\u001b[39m\u001b[38;5;241m*\u001b[39mkwds)\n",
      "\u001b[0;31mValueError\u001b[0m: axes don't match array"
     ]
    }
   ],
   "source": [
    "state = Statevector.from_int(0, 2**3)\n",
    "# Evolve the state by the quantum circuit\n",
    "state = state.evolve(qc)\n",
    "#draw using latex\n",
    "state.draw('latex')"
   ]
  },
  {
   "cell_type": "code",
   "execution_count": 37,
   "id": "5b151bf4",
   "metadata": {},
   "outputs": [
    {
     "name": "stdout",
     "output_type": "stream",
     "text": [
      "1\n",
      "2\n"
     ]
    }
   ],
   "source": [
    "print(1)\n",
    "print(2)"
   ]
  },
  {
   "cell_type": "code",
   "execution_count": 46,
   "id": "da87e912",
   "metadata": {},
   "outputs": [
    {
     "data": {
      "text/plain": [
       "True"
      ]
     },
     "execution_count": 46,
     "metadata": {},
     "output_type": "execute_result"
    }
   ],
   "source": [
    "#check unitarity circuit\n",
    "np.allclose(op@op.conj().T,np.eye(8))"
   ]
  },
  {
   "cell_type": "code",
   "execution_count": 47,
   "id": "d59039b7",
   "metadata": {},
   "outputs": [
    {
     "name": "stdout",
     "output_type": "stream",
     "text": [
      "[-2.62181744  2.62181744 -0.54430885  2.62181744 -2.62181744 -0.54430885\n",
      "  0.54430885  0.54430885]\n"
     ]
    }
   ],
   "source": [
    "#check eigenvalues for A,G,T=1,1,0.5\n",
    "eigvals,_ = np.linalg.eig(op)\n",
    "args = np.angle(eigvals)\n",
    "print(args)"
   ]
  },
  {
   "cell_type": "code",
   "execution_count": 48,
   "id": "e1ffc7c5",
   "metadata": {},
   "outputs": [],
   "source": [
    "#first we do it with Aer so that we can use Statevector class to extract final amplitudes\n",
    "backend = Aer.get_backend(\"statevector_simulator\")\n",
    "result = execute(qc, backend=backend, shots=1000).result()\n",
    "final=result.get_statevector()"
   ]
  },
  {
   "cell_type": "code",
   "execution_count": 49,
   "id": "ceccd57e",
   "metadata": {},
   "outputs": [
    {
     "name": "stdout",
     "output_type": "stream",
     "text": [
      "(0.49004557506474483-0.09932301568011634j) =a000\n",
      "0j =a001\n",
      "0j =a010\n",
      "(0.04990981387102983+0.49750277424828976j) =a011\n",
      "0j =a100\n",
      "(0.495042500488097+0.04941591945150094j) =a101\n",
      "(0.04990981387103007-0.4999902730102851j) =a110\n",
      "0j =a111\n"
     ]
    }
   ],
   "source": [
    "#final is our post-computation statevector  \n",
    "print(final[0], \"=a000\")\n",
    "print(final[1], \"=a001\")\n",
    "print(final[2], \"=a010\")\n",
    "print(final[3], \"=a011\")\n",
    "print(final[4], \"=a100\")\n",
    "print(final[5], \"=a101\")\n",
    "print(final[6], \"=a110\")\n",
    "print(final[7], \"=a111\")"
   ]
  },
  {
   "cell_type": "code",
   "execution_count": 53,
   "id": "db130016",
   "metadata": {},
   "outputs": [
    {
     "name": "stdout",
     "output_type": "stream",
     "text": [
      "Simulated on Qiskit - Tangle= 0.9999505497010897\n"
     ]
    }
   ],
   "source": [
    "#we compute the tangle \n",
    "a000=final[0]\n",
    "a001=final[1]\n",
    "a010=final[2]\n",
    "a011=final[3]\n",
    "a100=final[4]\n",
    "a101=final[5]\n",
    "a110=final[6]\n",
    "a111=final[7]\n",
    "\n",
    "d1 = a000**(2)*a111**(2)+a001**(2)*a110**(2)+a010**(2)*a101**(2)+a100**(2)*a011**(2)        \n",
    "d2 = a000*a111*a011*a100 + a000*a111*a101*a010 + a000*a111*a110*a001 + a011*a100*a101*a010 + a011*a100*a110*a001 + a101*a010*a110*a001\n",
    "d3 = a000*a110*a101*a011 + a111*a001*a010*a100\n",
    "\n",
    "tau = 4*np.abs(d1-2*d2+4*d3)\n",
    "print(\"Simulated on Qiskit - Tangle=\",tau)"
   ]
  },
  {
   "cell_type": "code",
   "execution_count": 45,
   "id": "045032e7",
   "metadata": {},
   "outputs": [
    {
     "data": {
      "text/plain": [
       "<qiskit.circuit.instructionset.InstructionSet at 0x7f3aafecb3d0>"
      ]
     },
     "execution_count": 45,
     "metadata": {},
     "output_type": "execute_result"
    },
    {
     "data": {
      "text/plain": [
       "<qiskit.circuit.instructionset.InstructionSet at 0x7f3aafeca620>"
      ]
     },
     "execution_count": 45,
     "metadata": {},
     "output_type": "execute_result"
    },
    {
     "data": {
      "text/plain": [
       "<qiskit.circuit.instructionset.InstructionSet at 0x7f3aaf77f670>"
      ]
     },
     "execution_count": 45,
     "metadata": {},
     "output_type": "execute_result"
    }
   ],
   "source": [
    "#then let us do the same thing with sampler and measure \n",
    "A,G,T=10.118,0,6.0\n",
    "#layer by layer unitarity check \n",
    "layer1 = np.kron(Shat(A,T,G),K(T/2))\n",
    "layer2 = np.kron(K(-T/2),Shat(A,T,0))\n",
    "\n",
    "x=np.exp(T/4);y=np.exp(G/4)\n",
    "Qtotbefore1=Q1plus*(x*y)+Q2plus*(1/(x*y))+Q3plus*(x*y) + Q1min*(y/x)+Q2min*(x/y)+Q3min*(y/x)\n",
    "matrix=layer2@layer1*(1/((Na(A,T,0)*Nk(T))))\n",
    "n=5\n",
    "\n",
    "qc = QuantumCircuit(n,3)\n",
    "###\n",
    "\n",
    "###\n",
    "l=0\n",
    "layer=1\n",
    "while l<layer:\n",
    "    ##1\n",
    "    qc.barrier(range(n))\n",
    "    \n",
    "    qc.unitary(matrix,[1,2,3],label='Shat')\n",
    "    l=+1\n",
    "    \n",
    "op=Operator(qc)\n",
    "op=op.data\n",
    "\n",
    "qc.measure([1,2,3],[0,1,2]) \n",
    "qc = transpile(qc, basis_gates=basis_gates, optimization_level=1)"
   ]
  },
  {
   "cell_type": "code",
   "execution_count": 55,
   "id": "29f46ef0",
   "metadata": {},
   "outputs": [
    {
     "name": "stdout",
     "output_type": "stream",
     "text": [
      "fermionic symmetry is: True\n"
     ]
    }
   ],
   "source": [
    "#verify fermionic symmetry for UBW or 3 sites - FERMIONIC SYMMETRY NOT SATISFIED\n",
    "comm = Qtotbefore1@op-op@Qtotbefore1\n",
    "print('fermionic symmetry is:',np.allclose(comm, 0*np.eye(8)))"
   ]
  },
  {
   "cell_type": "code",
   "execution_count": 47,
   "id": "5bf01f90",
   "metadata": {
    "scrolled": true
   },
   "outputs": [
    {
     "name": "stderr",
     "output_type": "stream",
     "text": [
      "\n",
      "KeyboardInterrupt\n",
      "\n"
     ]
    }
   ],
   "source": [
    "shots=16384\n",
    "backend = ['Starmon-5']\n",
    "for back in backend:\n",
    "    qi_backend = QI.get_backend(back)   #QX single-node simulator\n",
    "    j=execute(qc, backend=qi_backend, shots=shots)\n",
    "    result=j.result()\n",
    "    counts = result.get_counts(qc)\n",
    "    probs = {string:count/shots for string,count in counts.items()}\n",
    "    a000 = np.sqrt(probs['000'])\n",
    "    a011 = np.sqrt(probs['011'])\n",
    "    a101 = np.sqrt(probs['101'])\n",
    "    a110 = np.sqrt(probs['110'])\n",
    "    tangle=16*a000*a011*a101*a110\n",
    "    print('Simulated on '+str(qi_backend)+' - Tangle=',tangle)"
   ]
  },
  {
   "cell_type": "code",
   "execution_count": null,
   "id": "3039146c",
   "metadata": {},
   "outputs": [],
   "source": [
    "qc.draw(output='mpl')"
   ]
  },
  {
   "cell_type": "code",
   "execution_count": 437,
   "id": "3e431a19",
   "metadata": {},
   "outputs": [
    {
     "name": "stdout",
     "output_type": "stream",
     "text": [
      "SamplerResult(quasi_dists=[{5: 0.2508125, 0: 0.25128125, 6: 0.25353125, 3: 0.244375}], metadata=[{'shots': 32000, 'circuit_metadata': {}}])     TANGLE= 0.99981293083039\n"
     ]
    }
   ],
   "source": [
    "tangle=16*np.sqrt(result.quasi_dists[0][5])*np.sqrt(result.quasi_dists[0][0])*np.sqrt(result.quasi_dists[0][6])*np.sqrt(result.quasi_dists[0][3])\n",
    "print(result,'    TANGLE=',tangle)"
   ]
  }
 ],
 "metadata": {
  "kernelspec": {
   "display_name": "Python 3 (ipykernel)",
   "language": "python",
   "name": "python3"
  },
  "language_info": {
   "codemirror_mode": {
    "name": "ipython",
    "version": 3
   },
   "file_extension": ".py",
   "mimetype": "text/x-python",
   "name": "python",
   "nbconvert_exporter": "python",
   "pygments_lexer": "ipython3",
   "version": "3.10.6"
  }
 },
 "nbformat": 4,
 "nbformat_minor": 5
}
