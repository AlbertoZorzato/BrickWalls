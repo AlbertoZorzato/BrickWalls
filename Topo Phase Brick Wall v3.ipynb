{
 "cells": [
  {
   "cell_type": "code",
   "execution_count": 221,
   "id": "d8064648",
   "metadata": {},
   "outputs": [],
   "source": [
    "import numpy as np \n",
    "import matplotlib.pyplot as plt \n",
    "import matplotlib.patches as mpatches\n",
    "import scipy.sparse.linalg as sla\n",
    "from scipy.linalg import eig\n",
    "from tqdm import tqdm\n",
    "import pickle \n",
    "from pfapack import pfaffian as pf\n",
    "from scipy.fft import ifftn\n",
    "import dask.array as da\n",
    "import scipy.integrate as integrate\n",
    "from scipy.integrate import quad\n",
    "from matplotlib.colors import ListedColormap\n",
    "from scipy.linalg import expm"
   ]
  },
  {
   "cell_type": "code",
   "execution_count": 197,
   "id": "399e1600",
   "metadata": {},
   "outputs": [],
   "source": [
    "def S2(k):\n",
    "    S2=np.sqrt(2)*np.sqrt(np.cosh(G)+1)*np.tanh(G/2)*((1/np.cosh(G/2))**(3))*np.sin(k)*np.cos(k)*(1+1j*np.sinh(G/2)*np.sin(k)) + eta*np.cos(3*k)  #checked\n",
    "    return S2"
   ]
  },
  {
   "cell_type": "code",
   "execution_count": 199,
   "id": "b8d784e0",
   "metadata": {},
   "outputs": [],
   "source": [
    "def S1(k):   \n",
    "    S1=-0.5*np.cosh(G/2)*((1/np.cosh(G/2))**(4))*np.sin(k)*(-np.cosh(G)*np.cos(2*k)+np.cos(2*k)+2) - eta*np.sin(3*k)\n",
    "    return S1#checked"
   ]
  },
  {
   "cell_type": "code",
   "execution_count": 198,
   "id": "26a3b785",
   "metadata": {},
   "outputs": [
    {
     "data": {
      "text/plain": [
       "True"
      ]
     },
     "execution_count": 198,
     "metadata": {},
     "output_type": "execute_result"
    }
   ],
   "source": [
    "np.allclose(S2(-k).conj(),-S2(k))"
   ]
  },
  {
   "cell_type": "code",
   "execution_count": 272,
   "id": "566fb2b3",
   "metadata": {},
   "outputs": [
    {
     "name": "stdout",
     "output_type": "stream",
     "text": [
      "N1= -0.3333946170528934 N2= -1.4402431508872549 Hm= (0.04660631462290702-0.20013427994951674j) S1= -0.6531897459686514 S2= (0.3304668646647564+0.1449052852546782j)\n"
     ]
    }
   ],
   "source": [
    "#coefficients check\n",
    "\n",
    "k,A,G=1,1,1\n",
    "eps1,eps2,d=0,0,0\n",
    "\n",
    "N1=((1/np.cosh(G/2))**(4))*(-8*np.cosh(G/2)**(3)-4*np.sinh(G/2)**(2)*np.cos(3*k)+2*(3*np.cosh(G)+1)*np.cos(k))/(8*A) -((eps1+eps2)/2)+d*np.cos(3*k)#checked\n",
    "N2=(-((1/np.cosh(G/2))**(4))/(4*A))*(4*np.cosh(G/2)**(3)-2*np.sinh(G/2)**(2)*np.cos(3*k)+3*np.cosh(G)*np.cos(k)+np.cos(k)) -(eps1+eps2)/2-d*np.cos(3*k) #checked\n",
    "Hm=-np.tanh(G/2)*((1/np.cosh(G/2))**(3)*(np.cosh(G)+4*1j*np.sinh(G/2)*np.sin(k)**(3)+2*np.cos(2*k)-1))/(2*A) + (eps1-eps2)/2-1j*d*np.sin(3*k)#checked\n",
    "S1=-0.5*np.cosh(G/2)*((1/np.cosh(G/2))**(4))*np.sin(k)*(-np.cosh(G)*np.cos(2*k)+np.cos(2*k)+2) - eta*np.sin(3*k) #checked\n",
    "S2=np.sqrt(2)*np.sqrt(np.cosh(G)+1)*np.tanh(G/2)*((1/np.cosh(G/2))**(3))*np.sin(k)*np.cos(k)*(1+1j*np.sinh(G/2)*np.sin(k)) + eta*np.cos(3*k)  #checked\n",
    "print(\"N1=\",N1,\"N2=\",N2,\"Hm=\",Hm,\"S1=\",S1,\"S2=\",S2)"
   ]
  },
  {
   "cell_type": "code",
   "execution_count": 298,
   "id": "00c42eea",
   "metadata": {},
   "outputs": [],
   "source": [
    "#Define Hamiltonian, choose random k value, evaluate for A, G and test if PH operator sigmax cross sigmax flips its sign\n",
    "def Na(a,g):\n",
    "    return (4*np.exp(g/2)*(1+3*np.exp(2*g)))/((1+np.exp(g))**(4)*a)\n",
    "\n",
    "def Nb(a,g):\n",
    "    return (4*np.exp(3*g/2)*(3+np.exp(2*g)))/((1+np.exp(g))**(4)*a)\n",
    "\n",
    "\n",
    "def H(k,A,G,eps1,eps2,d,eta):\n",
    "    \n",
    "\n",
    "    N1=((1/np.cosh(G/2))**(4))*(-8*np.cosh(G/2)**(3)-4*np.sinh(G/2)**(2)*np.cos(3*k)+2*(3*np.cosh(G)+1)*np.cos(k))/(8*A) -(eps1+eps2)/2+d*np.cos(3*k)#checked\n",
    "    N2=(-((1/np.cosh(G/2))**(4))/(4*A))*(4*np.cosh(G/2)**(3)-2*np.sinh(G/2)**(2)*np.cos(3*k)+3*np.cosh(G)*np.cos(k)+np.cos(k)) -(eps1+eps2)/2-d*np.cos(3*k) #checked\n",
    "    Hm=-np.tanh(G/2)*((1/np.cosh(G/2))**(3)*(np.cosh(G)+4*1j*np.sinh(G/2)*np.sin(k)**(3)+2*np.cos(2*k)-1))/(2*A) + (eps1-eps2)/2-1j*d*np.sin(3*k)#checked\n",
    "    S1=-0.5*np.cosh(G/2)*((1/np.cosh(G/2))**(4))*np.sin(k)*(-np.cosh(G)*np.cos(2*k)+np.cos(2*k)+2) - eta*np.sin(3*k) #checked\n",
    "    S2=np.sqrt(2)*np.sqrt(np.cosh(G)+1)*np.tanh(G/2)*((1/np.cosh(G/2))**(3))*np.sin(k)*np.cos(k)*(1+1j*np.sinh(G/2)*np.sin(k)) + 1j*eta*np.cos(3*k)  #checked\n",
    "    \n",
    "    \n",
    "    \n",
    "    H = np.zeros((4,4), dtype=complex)\n",
    "    H[0,0]=N1      \n",
    "    H[0,1]=Hm      #+1j*d*np.sin(3*k)\n",
    "    H[0,2]=S1 \n",
    "    H[0,3]=S2 \n",
    "    H[1,0]=Hm.conj()#    -1j*d*np.sin(3*k)\n",
    "    H[1,1]=N2      \n",
    "    H[1,2]=S2.conj()\n",
    "    H[1,3]=-S1\n",
    "    H[2,0]=S1\n",
    "    H[2,1]=S2  #NORMALLY S2\n",
    "    H[2,2]=-N1      #-eps1-d*np.cos(3*k)\n",
    "    H[2,3]=-Hm      #-1j*d*np.sin(3*k)\n",
    "    H[3,0]=S2.conj()  #NORMALLY S2.conj()\n",
    "    H[3,1]=-S1\n",
    "    H[3,2]=-Hm.conj()#          +1j*d*np.sin(3*k)\n",
    "    H[3,3]=-N2        #   -eps2-d*np.cos(3*k)\n",
    "    \n",
    "    return(H)\n",
    "\n",
    "def magical(k,A,G,eps1,eps2,d,eta):\n",
    "    #magic Unitary\n",
    "    U = np.array([[1,1],[1j,-1j]], dtype='complex128')\n",
    "    U = np.kron(U,np.eye(2))\n",
    "    magic = (1/2)*(U@U)\n",
    "    return (magic@H(k,A,G,eps1,eps2,d,eta)@magic.conj().T)[2:,:2]\n",
    "\n",
    "id=np.array([[1,0],[0,1]])\n",
    "sigma_x=np.array([[0,1],[1,0]])\n",
    "sigma_y=np.array([[0,-1j],[1j,0]])\n",
    "sigma_z=np.array([[1,0],[0,-1]])\n",
    "\n",
    "\n",
    "\n",
    "def complex_quadrature(func, a, b, **kwargs):\n",
    "    def real_func(x):\n",
    "        return np.real(func(x))\n",
    "    def imag_func(x):\n",
    "        return np.imag(func(x))\n",
    "    real_integral = quad(real_func, a, b,limit=200)\n",
    "    imag_integral = quad(imag_func, a, b,limit=200)\n",
    "    return ((real_integral[0] + 1j*imag_integral[0]))\n",
    "\n",
    "def integrand(k, a, g,eps1,eps2,d,eta):\n",
    "    k_res=0.0001\n",
    "    inv = (np.linalg.inv(magical(k,a,g,eps1,eps2,d,eta)))\n",
    "    der = (1/(2*k_res))*(magical(k+k_res,a,g,eps1,eps2,d,eta)-magical(k-k_res,a,g,eps1,eps2,d,eta))\n",
    "    temp = inv@der\n",
    "    return np.trace(temp)"
   ]
  },
  {
   "cell_type": "code",
   "execution_count": 289,
   "id": "357f498d",
   "metadata": {},
   "outputs": [
    {
     "name": "stdout",
     "output_type": "stream",
     "text": [
      "[]\n"
     ]
    }
   ],
   "source": [
    "k,A,G,eps1,eps2,d,eta=1,1,1,0,0,0,0\n",
    "eigvals,_=np.linalg.eigh(H(k,A,G,eps1,eps2,d,eta))\n",
    "print(magical(k,A,G,eps1,eps2,d,eta)[:2,2:]-magical(k,A,G,eps1,eps2,d,eta)[2:,:2].conj().T)"
   ]
  },
  {
   "cell_type": "code",
   "execution_count": 290,
   "id": "53d5696a",
   "metadata": {},
   "outputs": [
    {
     "data": {
      "text/plain": [
       "array([[ 0.        +0.j        ,  0.        -0.40026856j,\n",
       "        -1.30637949+0.j        ,  0.66093373+0.j        ],\n",
       "       [ 0.        +0.40026856j,  0.        +0.j        ,\n",
       "         0.66093373+0.j        ,  1.30637949+0.j        ],\n",
       "       [-1.30637949+0.j        ,  0.66093373+0.j        ,\n",
       "         0.        +0.j        ,  0.        +0.40026856j],\n",
       "       [ 0.66093373+0.j        ,  1.30637949+0.j        ,\n",
       "         0.        -0.40026856j,  0.        +0.j        ]])"
      ]
     },
     "execution_count": 290,
     "metadata": {},
     "output_type": "execute_result"
    }
   ],
   "source": [
    "H(k,A,G,eps1,eps2,d,eta)-H(-k,A,G,eps1,eps2,d,eta)"
   ]
  },
  {
   "cell_type": "code",
   "execution_count": 291,
   "id": "4129a60c",
   "metadata": {
    "scrolled": true
   },
   "outputs": [
    {
     "name": "stdout",
     "output_type": "stream",
     "text": [
      "Time reversal C1 is True\n",
      "PH C2 is True\n",
      "Mysterious chiral C3=C2C1 is True\n"
     ]
    }
   ],
   "source": [
    "#SYMMETRIES\n",
    "C1 = 1j*np.kron(sigma_z, np.eye(2))\n",
    "C1bis=np.eye(4)\n",
    "C2= np.kron(sigma_x,np.eye(2))\n",
    "Sub = np.kron(np.eye(2),sigma_z)\n",
    "C3=C2@C1\n",
    "a,g=1,1\n",
    "eps,d,eta=0,0,0\n",
    "#verify commutation relations \n",
    "#time reversal\n",
    "print('Time reversal C1 is',np.allclose(C1@H(1,a,g,eps,-eps,d,eta).conj()@np.linalg.inv(C1),H(-1,a,g,eps,-eps,d,eta)))\n",
    "\n",
    "#PH symmetry\n",
    "print('PH C2 is',np.allclose(C2@np.conj(H(0.1,a,g,eps,-eps,d,eta))@np.linalg.inv(C2),-H(-0.1,a,g,eps,-eps,d,eta)))\n",
    "\n",
    "#Chiral\n",
    "print('Mysterious chiral C3=C2C1 is',np.allclose(C3@H(0.1,a,g,eps,-eps,d,eta)@np.linalg.inv(C3),-H(0.1,a,g,eps,-eps,d,eta)))\n"
   ]
  },
  {
   "cell_type": "code",
   "execution_count": 61,
   "id": "7efb1ff4",
   "metadata": {
    "scrolled": true
   },
   "outputs": [
    {
     "data": {
      "text/plain": [
       "True"
      ]
     },
     "execution_count": 61,
     "metadata": {},
     "output_type": "execute_result"
    }
   ],
   "source": [
    "#hermiticity check\n",
    "eps,d,eta=0,0,0\n",
    "np.allclose(H(1,1,1,eps,eps,d,eta).conj().T-H(1,1,1,eps,eps,d,eta),0*np.eye(4))"
   ]
  },
  {
   "cell_type": "code",
   "execution_count": 62,
   "id": "5ea7dce2",
   "metadata": {},
   "outputs": [
    {
     "data": {
      "text/plain": [
       "False"
      ]
     },
     "execution_count": 62,
     "metadata": {},
     "output_type": "execute_result"
    }
   ],
   "source": [
    "#unitarity check (not expected in BdG basis)\n",
    "np.allclose(H(1,1,1,0,0,0,0)@H(1,1,1,0,0,0,0).conj().T,np.eye(4))"
   ]
  },
  {
   "cell_type": "code",
   "execution_count": 63,
   "id": "d837db5b",
   "metadata": {
    "scrolled": true
   },
   "outputs": [
    {
     "data": {
      "text/plain": [
       "array([[0.+0.j, 0.+0.j, 0.-1.j, 0.+0.j],\n",
       "       [0.+0.j, 0.+0.j, 0.+0.j, 0.-1.j],\n",
       "       [0.+1.j, 0.+0.j, 0.+0.j, 0.+0.j],\n",
       "       [0.+0.j, 0.+1.j, 0.+0.j, 0.+0.j]])"
      ]
     },
     "execution_count": 63,
     "metadata": {},
     "output_type": "execute_result"
    }
   ],
   "source": [
    "#verify if U2@C2@U2=sigma_z\n",
    "U = np.array([[1,1],[1j,-1j]], dtype='complex128')\n",
    "U = np.kron(U,np.eye(2))\n",
    "magic = (1/2)*(U@U)\n",
    "magic@C2@magic.conj().T"
   ]
  },
  {
   "cell_type": "code",
   "execution_count": 342,
   "id": "4053b3e4",
   "metadata": {
    "scrolled": true
   },
   "outputs": [
    {
     "name": "stderr",
     "output_type": "stream",
     "text": [
      "  0%|                                                                                           | 0/305 [00:02<?, ?it/s]\n"
     ]
    },
    {
     "ename": "KeyboardInterrupt",
     "evalue": "",
     "output_type": "error",
     "traceback": [
      "\u001b[0;31m---------------------------------------------------------------------------\u001b[0m",
      "\u001b[0;31mKeyboardInterrupt\u001b[0m                         Traceback (most recent call last)",
      "Cell \u001b[0;32mIn[342], line 20\u001b[0m\n\u001b[1;32m     16\u001b[0m \u001b[38;5;28;01mfor\u001b[39;00m n,d \u001b[38;5;129;01min\u001b[39;00m \u001b[38;5;28menumerate\u001b[39m(d_range):\n\u001b[1;32m     18\u001b[0m     \u001b[38;5;28;01mtry\u001b[39;00m:\n\u001b[1;32m     19\u001b[0m         \u001b[38;5;66;03m# Attempt to evaluate the integral\u001b[39;00m\n\u001b[0;32m---> 20\u001b[0m         v_tot \u001b[38;5;241m=\u001b[39m \u001b[43mcomplex_quadrature\u001b[49m\u001b[43m(\u001b[49m\u001b[38;5;28;43;01mlambda\u001b[39;49;00m\u001b[43m \u001b[49m\u001b[43mk\u001b[49m\u001b[43m:\u001b[49m\u001b[43m \u001b[49m\u001b[43mintegrand\u001b[49m\u001b[43m(\u001b[49m\u001b[43mk\u001b[49m\u001b[43m,\u001b[49m\u001b[43ma\u001b[49m\u001b[43m,\u001b[49m\u001b[43mg\u001b[49m\u001b[43m,\u001b[49m\u001b[43meps\u001b[49m\u001b[43m,\u001b[49m\u001b[38;5;241;43m-\u001b[39;49m\u001b[43meps\u001b[49m\u001b[43m,\u001b[49m\u001b[43md\u001b[49m\u001b[43m,\u001b[49m\u001b[43meta\u001b[49m\u001b[43m)\u001b[49m\u001b[43m,\u001b[49m\u001b[43m \u001b[49m\u001b[38;5;241;43m-\u001b[39;49m\u001b[43mnp\u001b[49m\u001b[38;5;241;43m.\u001b[39;49m\u001b[43mpi\u001b[49m\u001b[38;5;241;43m/\u001b[39;49m\u001b[38;5;241;43m2\u001b[39;49m\u001b[43m,\u001b[49m\u001b[43m \u001b[49m\u001b[43mnp\u001b[49m\u001b[38;5;241;43m.\u001b[39;49m\u001b[43mpi\u001b[49m\u001b[38;5;241;43m/\u001b[39;49m\u001b[38;5;241;43m2\u001b[39;49m\u001b[43m)\u001b[49m\n\u001b[1;32m     22\u001b[0m         \u001b[38;5;66;03m# Normalize the result\u001b[39;00m\n\u001b[1;32m     23\u001b[0m         v_tot \u001b[38;5;241m=\u001b[39m (\u001b[38;5;241m1\u001b[39m \u001b[38;5;241m/\u001b[39m (\u001b[38;5;241m2\u001b[39m \u001b[38;5;241m*\u001b[39m np\u001b[38;5;241m.\u001b[39mpi \u001b[38;5;241m*\u001b[39m \u001b[38;5;241m1\u001b[39mj)) \u001b[38;5;241m*\u001b[39m v_tot\n",
      "Cell \u001b[0;32mIn[298], line 60\u001b[0m, in \u001b[0;36mcomplex_quadrature\u001b[0;34m(func, a, b, **kwargs)\u001b[0m\n\u001b[1;32m     58\u001b[0m     \u001b[38;5;28;01mreturn\u001b[39;00m np\u001b[38;5;241m.\u001b[39mimag(func(x))\n\u001b[1;32m     59\u001b[0m real_integral \u001b[38;5;241m=\u001b[39m quad(real_func, a, b,limit\u001b[38;5;241m=\u001b[39m\u001b[38;5;241m200\u001b[39m)\n\u001b[0;32m---> 60\u001b[0m imag_integral \u001b[38;5;241m=\u001b[39m \u001b[43mquad\u001b[49m\u001b[43m(\u001b[49m\u001b[43mimag_func\u001b[49m\u001b[43m,\u001b[49m\u001b[43m \u001b[49m\u001b[43ma\u001b[49m\u001b[43m,\u001b[49m\u001b[43m \u001b[49m\u001b[43mb\u001b[49m\u001b[43m,\u001b[49m\u001b[43mlimit\u001b[49m\u001b[38;5;241;43m=\u001b[39;49m\u001b[38;5;241;43m200\u001b[39;49m\u001b[43m)\u001b[49m\n\u001b[1;32m     61\u001b[0m \u001b[38;5;28;01mreturn\u001b[39;00m ((real_integral[\u001b[38;5;241m0\u001b[39m] \u001b[38;5;241m+\u001b[39m \u001b[38;5;241m1\u001b[39mj\u001b[38;5;241m*\u001b[39mimag_integral[\u001b[38;5;241m0\u001b[39m]))\n",
      "File \u001b[0;32m~/.local/lib/python3.10/site-packages/scipy/integrate/_quadpack_py.py:463\u001b[0m, in \u001b[0;36mquad\u001b[0;34m(func, a, b, args, full_output, epsabs, epsrel, limit, points, weight, wvar, wopts, maxp1, limlst, complex_func)\u001b[0m\n\u001b[1;32m    460\u001b[0m     \u001b[38;5;28;01mreturn\u001b[39;00m retval\n\u001b[1;32m    462\u001b[0m \u001b[38;5;28;01mif\u001b[39;00m weight \u001b[38;5;129;01mis\u001b[39;00m \u001b[38;5;28;01mNone\u001b[39;00m:\n\u001b[0;32m--> 463\u001b[0m     retval \u001b[38;5;241m=\u001b[39m \u001b[43m_quad\u001b[49m\u001b[43m(\u001b[49m\u001b[43mfunc\u001b[49m\u001b[43m,\u001b[49m\u001b[43m \u001b[49m\u001b[43ma\u001b[49m\u001b[43m,\u001b[49m\u001b[43m \u001b[49m\u001b[43mb\u001b[49m\u001b[43m,\u001b[49m\u001b[43m \u001b[49m\u001b[43margs\u001b[49m\u001b[43m,\u001b[49m\u001b[43m \u001b[49m\u001b[43mfull_output\u001b[49m\u001b[43m,\u001b[49m\u001b[43m \u001b[49m\u001b[43mepsabs\u001b[49m\u001b[43m,\u001b[49m\u001b[43m \u001b[49m\u001b[43mepsrel\u001b[49m\u001b[43m,\u001b[49m\u001b[43m \u001b[49m\u001b[43mlimit\u001b[49m\u001b[43m,\u001b[49m\n\u001b[1;32m    464\u001b[0m \u001b[43m                   \u001b[49m\u001b[43mpoints\u001b[49m\u001b[43m)\u001b[49m\n\u001b[1;32m    465\u001b[0m \u001b[38;5;28;01melse\u001b[39;00m:\n\u001b[1;32m    466\u001b[0m     \u001b[38;5;28;01mif\u001b[39;00m points \u001b[38;5;129;01mis\u001b[39;00m \u001b[38;5;129;01mnot\u001b[39;00m \u001b[38;5;28;01mNone\u001b[39;00m:\n",
      "File \u001b[0;32m~/.local/lib/python3.10/site-packages/scipy/integrate/_quadpack_py.py:575\u001b[0m, in \u001b[0;36m_quad\u001b[0;34m(func, a, b, args, full_output, epsabs, epsrel, limit, points)\u001b[0m\n\u001b[1;32m    573\u001b[0m \u001b[38;5;28;01mif\u001b[39;00m points \u001b[38;5;129;01mis\u001b[39;00m \u001b[38;5;28;01mNone\u001b[39;00m:\n\u001b[1;32m    574\u001b[0m     \u001b[38;5;28;01mif\u001b[39;00m infbounds \u001b[38;5;241m==\u001b[39m \u001b[38;5;241m0\u001b[39m:\n\u001b[0;32m--> 575\u001b[0m         \u001b[38;5;28;01mreturn\u001b[39;00m \u001b[43m_quadpack\u001b[49m\u001b[38;5;241;43m.\u001b[39;49m\u001b[43m_qagse\u001b[49m\u001b[43m(\u001b[49m\u001b[43mfunc\u001b[49m\u001b[43m,\u001b[49m\u001b[43ma\u001b[49m\u001b[43m,\u001b[49m\u001b[43mb\u001b[49m\u001b[43m,\u001b[49m\u001b[43margs\u001b[49m\u001b[43m,\u001b[49m\u001b[43mfull_output\u001b[49m\u001b[43m,\u001b[49m\u001b[43mepsabs\u001b[49m\u001b[43m,\u001b[49m\u001b[43mepsrel\u001b[49m\u001b[43m,\u001b[49m\u001b[43mlimit\u001b[49m\u001b[43m)\u001b[49m\n\u001b[1;32m    576\u001b[0m     \u001b[38;5;28;01melse\u001b[39;00m:\n\u001b[1;32m    577\u001b[0m         \u001b[38;5;28;01mreturn\u001b[39;00m _quadpack\u001b[38;5;241m.\u001b[39m_qagie(func,bound,infbounds,args,full_output,epsabs,epsrel,limit)\n",
      "Cell \u001b[0;32mIn[298], line 58\u001b[0m, in \u001b[0;36mcomplex_quadrature.<locals>.imag_func\u001b[0;34m(x)\u001b[0m\n\u001b[1;32m     57\u001b[0m \u001b[38;5;28;01mdef\u001b[39;00m \u001b[38;5;21mimag_func\u001b[39m(x):\n\u001b[0;32m---> 58\u001b[0m     \u001b[38;5;28;01mreturn\u001b[39;00m np\u001b[38;5;241m.\u001b[39mimag(\u001b[43mfunc\u001b[49m\u001b[43m(\u001b[49m\u001b[43mx\u001b[49m\u001b[43m)\u001b[49m)\n",
      "Cell \u001b[0;32mIn[342], line 20\u001b[0m, in \u001b[0;36m<lambda>\u001b[0;34m(k)\u001b[0m\n\u001b[1;32m     16\u001b[0m \u001b[38;5;28;01mfor\u001b[39;00m n,d \u001b[38;5;129;01min\u001b[39;00m \u001b[38;5;28menumerate\u001b[39m(d_range):\n\u001b[1;32m     18\u001b[0m     \u001b[38;5;28;01mtry\u001b[39;00m:\n\u001b[1;32m     19\u001b[0m         \u001b[38;5;66;03m# Attempt to evaluate the integral\u001b[39;00m\n\u001b[0;32m---> 20\u001b[0m         v_tot \u001b[38;5;241m=\u001b[39m complex_quadrature(\u001b[38;5;28;01mlambda\u001b[39;00m k: \u001b[43mintegrand\u001b[49m\u001b[43m(\u001b[49m\u001b[43mk\u001b[49m\u001b[43m,\u001b[49m\u001b[43ma\u001b[49m\u001b[43m,\u001b[49m\u001b[43mg\u001b[49m\u001b[43m,\u001b[49m\u001b[43meps\u001b[49m\u001b[43m,\u001b[49m\u001b[38;5;241;43m-\u001b[39;49m\u001b[43meps\u001b[49m\u001b[43m,\u001b[49m\u001b[43md\u001b[49m\u001b[43m,\u001b[49m\u001b[43meta\u001b[49m\u001b[43m)\u001b[49m, \u001b[38;5;241m-\u001b[39mnp\u001b[38;5;241m.\u001b[39mpi\u001b[38;5;241m/\u001b[39m\u001b[38;5;241m2\u001b[39m, np\u001b[38;5;241m.\u001b[39mpi\u001b[38;5;241m/\u001b[39m\u001b[38;5;241m2\u001b[39m)\n\u001b[1;32m     22\u001b[0m         \u001b[38;5;66;03m# Normalize the result\u001b[39;00m\n\u001b[1;32m     23\u001b[0m         v_tot \u001b[38;5;241m=\u001b[39m (\u001b[38;5;241m1\u001b[39m \u001b[38;5;241m/\u001b[39m (\u001b[38;5;241m2\u001b[39m \u001b[38;5;241m*\u001b[39m np\u001b[38;5;241m.\u001b[39mpi \u001b[38;5;241m*\u001b[39m \u001b[38;5;241m1\u001b[39mj)) \u001b[38;5;241m*\u001b[39m v_tot\n",
      "Cell \u001b[0;32mIn[298], line 66\u001b[0m, in \u001b[0;36mintegrand\u001b[0;34m(k, a, g, eps1, eps2, d, eta)\u001b[0m\n\u001b[1;32m     64\u001b[0m k_res\u001b[38;5;241m=\u001b[39m\u001b[38;5;241m0.0001\u001b[39m\n\u001b[1;32m     65\u001b[0m inv \u001b[38;5;241m=\u001b[39m (np\u001b[38;5;241m.\u001b[39mlinalg\u001b[38;5;241m.\u001b[39minv(magical(k,a,g,eps1,eps2,d,eta)))\n\u001b[0;32m---> 66\u001b[0m der \u001b[38;5;241m=\u001b[39m (\u001b[38;5;241m1\u001b[39m\u001b[38;5;241m/\u001b[39m(\u001b[38;5;241m2\u001b[39m\u001b[38;5;241m*\u001b[39mk_res))\u001b[38;5;241m*\u001b[39m(magical(k\u001b[38;5;241m+\u001b[39mk_res,a,g,eps1,eps2,d,eta)\u001b[38;5;241m-\u001b[39m\u001b[43mmagical\u001b[49m\u001b[43m(\u001b[49m\u001b[43mk\u001b[49m\u001b[38;5;241;43m-\u001b[39;49m\u001b[43mk_res\u001b[49m\u001b[43m,\u001b[49m\u001b[43ma\u001b[49m\u001b[43m,\u001b[49m\u001b[43mg\u001b[49m\u001b[43m,\u001b[49m\u001b[43meps1\u001b[49m\u001b[43m,\u001b[49m\u001b[43meps2\u001b[49m\u001b[43m,\u001b[49m\u001b[43md\u001b[49m\u001b[43m,\u001b[49m\u001b[43meta\u001b[49m\u001b[43m)\u001b[49m)\n\u001b[1;32m     67\u001b[0m temp \u001b[38;5;241m=\u001b[39m inv\u001b[38;5;129m@der\u001b[39m\n\u001b[1;32m     68\u001b[0m \u001b[38;5;28;01mreturn\u001b[39;00m np\u001b[38;5;241m.\u001b[39mtrace(temp)\n",
      "Cell \u001b[0;32mIn[298], line 45\u001b[0m, in \u001b[0;36mmagical\u001b[0;34m(k, A, G, eps1, eps2, d, eta)\u001b[0m\n\u001b[1;32m     43\u001b[0m U \u001b[38;5;241m=\u001b[39m np\u001b[38;5;241m.\u001b[39mkron(U,np\u001b[38;5;241m.\u001b[39meye(\u001b[38;5;241m2\u001b[39m))\n\u001b[1;32m     44\u001b[0m magic \u001b[38;5;241m=\u001b[39m (\u001b[38;5;241m1\u001b[39m\u001b[38;5;241m/\u001b[39m\u001b[38;5;241m2\u001b[39m)\u001b[38;5;241m*\u001b[39m(U\u001b[38;5;129m@U\u001b[39m)\n\u001b[0;32m---> 45\u001b[0m \u001b[38;5;28;01mreturn\u001b[39;00m (magic\u001b[38;5;129m@H\u001b[39m\u001b[43m(\u001b[49m\u001b[43mk\u001b[49m\u001b[43m,\u001b[49m\u001b[43mA\u001b[49m\u001b[43m,\u001b[49m\u001b[43mG\u001b[49m\u001b[43m,\u001b[49m\u001b[43meps1\u001b[49m\u001b[43m,\u001b[49m\u001b[43meps2\u001b[49m\u001b[43m,\u001b[49m\u001b[43md\u001b[49m\u001b[43m,\u001b[49m\u001b[43meta\u001b[49m\u001b[43m)\u001b[49m\u001b[38;5;129m@magic\u001b[39m\u001b[38;5;241m.\u001b[39mconj()\u001b[38;5;241m.\u001b[39mT)[\u001b[38;5;241m2\u001b[39m:,:\u001b[38;5;241m2\u001b[39m]\n",
      "Cell \u001b[0;32mIn[298], line 15\u001b[0m, in \u001b[0;36mH\u001b[0;34m(k, A, G, eps1, eps2, d, eta)\u001b[0m\n\u001b[1;32m     13\u001b[0m N2\u001b[38;5;241m=\u001b[39m(\u001b[38;5;241m-\u001b[39m((\u001b[38;5;241m1\u001b[39m\u001b[38;5;241m/\u001b[39mnp\u001b[38;5;241m.\u001b[39mcosh(G\u001b[38;5;241m/\u001b[39m\u001b[38;5;241m2\u001b[39m))\u001b[38;5;241m*\u001b[39m\u001b[38;5;241m*\u001b[39m(\u001b[38;5;241m4\u001b[39m))\u001b[38;5;241m/\u001b[39m(\u001b[38;5;241m4\u001b[39m\u001b[38;5;241m*\u001b[39mA))\u001b[38;5;241m*\u001b[39m(\u001b[38;5;241m4\u001b[39m\u001b[38;5;241m*\u001b[39mnp\u001b[38;5;241m.\u001b[39mcosh(G\u001b[38;5;241m/\u001b[39m\u001b[38;5;241m2\u001b[39m)\u001b[38;5;241m*\u001b[39m\u001b[38;5;241m*\u001b[39m(\u001b[38;5;241m3\u001b[39m)\u001b[38;5;241m-\u001b[39m\u001b[38;5;241m2\u001b[39m\u001b[38;5;241m*\u001b[39mnp\u001b[38;5;241m.\u001b[39msinh(G\u001b[38;5;241m/\u001b[39m\u001b[38;5;241m2\u001b[39m)\u001b[38;5;241m*\u001b[39m\u001b[38;5;241m*\u001b[39m(\u001b[38;5;241m2\u001b[39m)\u001b[38;5;241m*\u001b[39mnp\u001b[38;5;241m.\u001b[39mcos(\u001b[38;5;241m3\u001b[39m\u001b[38;5;241m*\u001b[39mk)\u001b[38;5;241m+\u001b[39m\u001b[38;5;241m3\u001b[39m\u001b[38;5;241m*\u001b[39mnp\u001b[38;5;241m.\u001b[39mcosh(G)\u001b[38;5;241m*\u001b[39mnp\u001b[38;5;241m.\u001b[39mcos(k)\u001b[38;5;241m+\u001b[39mnp\u001b[38;5;241m.\u001b[39mcos(k)) \u001b[38;5;241m-\u001b[39m(eps1\u001b[38;5;241m+\u001b[39meps2)\u001b[38;5;241m/\u001b[39m\u001b[38;5;241m2\u001b[39m\u001b[38;5;241m-\u001b[39md\u001b[38;5;241m*\u001b[39mnp\u001b[38;5;241m.\u001b[39mcos(\u001b[38;5;241m3\u001b[39m\u001b[38;5;241m*\u001b[39mk) \u001b[38;5;66;03m#checked\u001b[39;00m\n\u001b[1;32m     14\u001b[0m Hm\u001b[38;5;241m=\u001b[39m\u001b[38;5;241m-\u001b[39mnp\u001b[38;5;241m.\u001b[39mtanh(G\u001b[38;5;241m/\u001b[39m\u001b[38;5;241m2\u001b[39m)\u001b[38;5;241m*\u001b[39m((\u001b[38;5;241m1\u001b[39m\u001b[38;5;241m/\u001b[39mnp\u001b[38;5;241m.\u001b[39mcosh(G\u001b[38;5;241m/\u001b[39m\u001b[38;5;241m2\u001b[39m))\u001b[38;5;241m*\u001b[39m\u001b[38;5;241m*\u001b[39m(\u001b[38;5;241m3\u001b[39m)\u001b[38;5;241m*\u001b[39m(np\u001b[38;5;241m.\u001b[39mcosh(G)\u001b[38;5;241m+\u001b[39m\u001b[38;5;241m4\u001b[39m\u001b[38;5;241m*\u001b[39m\u001b[38;5;241m1\u001b[39mj\u001b[38;5;241m*\u001b[39mnp\u001b[38;5;241m.\u001b[39msinh(G\u001b[38;5;241m/\u001b[39m\u001b[38;5;241m2\u001b[39m)\u001b[38;5;241m*\u001b[39mnp\u001b[38;5;241m.\u001b[39msin(k)\u001b[38;5;241m*\u001b[39m\u001b[38;5;241m*\u001b[39m(\u001b[38;5;241m3\u001b[39m)\u001b[38;5;241m+\u001b[39m\u001b[38;5;241m2\u001b[39m\u001b[38;5;241m*\u001b[39mnp\u001b[38;5;241m.\u001b[39mcos(\u001b[38;5;241m2\u001b[39m\u001b[38;5;241m*\u001b[39mk)\u001b[38;5;241m-\u001b[39m\u001b[38;5;241m1\u001b[39m))\u001b[38;5;241m/\u001b[39m(\u001b[38;5;241m2\u001b[39m\u001b[38;5;241m*\u001b[39mA) \u001b[38;5;241m+\u001b[39m (eps1\u001b[38;5;241m-\u001b[39meps2)\u001b[38;5;241m/\u001b[39m\u001b[38;5;241m2\u001b[39m\u001b[38;5;241m-\u001b[39m\u001b[38;5;241m1\u001b[39mj\u001b[38;5;241m*\u001b[39md\u001b[38;5;241m*\u001b[39mnp\u001b[38;5;241m.\u001b[39msin(\u001b[38;5;241m3\u001b[39m\u001b[38;5;241m*\u001b[39mk)\u001b[38;5;66;03m#checked\u001b[39;00m\n\u001b[0;32m---> 15\u001b[0m S1\u001b[38;5;241m=\u001b[39m\u001b[38;5;241m-\u001b[39m\u001b[38;5;241m0.5\u001b[39m\u001b[38;5;241m*\u001b[39mnp\u001b[38;5;241m.\u001b[39mcosh(G\u001b[38;5;241m/\u001b[39m\u001b[38;5;241m2\u001b[39m)\u001b[38;5;241m*\u001b[39m((\u001b[38;5;241m1\u001b[39m\u001b[38;5;241m/\u001b[39m\u001b[43mnp\u001b[49m\u001b[38;5;241;43m.\u001b[39;49m\u001b[43mcosh\u001b[49m\u001b[43m(\u001b[49m\u001b[43mG\u001b[49m\u001b[38;5;241;43m/\u001b[39;49m\u001b[38;5;241;43m2\u001b[39;49m\u001b[43m)\u001b[49m)\u001b[38;5;241m*\u001b[39m\u001b[38;5;241m*\u001b[39m(\u001b[38;5;241m4\u001b[39m))\u001b[38;5;241m*\u001b[39mnp\u001b[38;5;241m.\u001b[39msin(k)\u001b[38;5;241m*\u001b[39m(\u001b[38;5;241m-\u001b[39mnp\u001b[38;5;241m.\u001b[39mcosh(G)\u001b[38;5;241m*\u001b[39mnp\u001b[38;5;241m.\u001b[39mcos(\u001b[38;5;241m2\u001b[39m\u001b[38;5;241m*\u001b[39mk)\u001b[38;5;241m+\u001b[39mnp\u001b[38;5;241m.\u001b[39mcos(\u001b[38;5;241m2\u001b[39m\u001b[38;5;241m*\u001b[39mk)\u001b[38;5;241m+\u001b[39m\u001b[38;5;241m2\u001b[39m) \u001b[38;5;241m-\u001b[39m eta\u001b[38;5;241m*\u001b[39mnp\u001b[38;5;241m.\u001b[39msin(\u001b[38;5;241m3\u001b[39m\u001b[38;5;241m*\u001b[39mk) \u001b[38;5;66;03m#checked\u001b[39;00m\n\u001b[1;32m     16\u001b[0m S2\u001b[38;5;241m=\u001b[39mnp\u001b[38;5;241m.\u001b[39msqrt(\u001b[38;5;241m2\u001b[39m)\u001b[38;5;241m*\u001b[39mnp\u001b[38;5;241m.\u001b[39msqrt(np\u001b[38;5;241m.\u001b[39mcosh(G)\u001b[38;5;241m+\u001b[39m\u001b[38;5;241m1\u001b[39m)\u001b[38;5;241m*\u001b[39mnp\u001b[38;5;241m.\u001b[39mtanh(G\u001b[38;5;241m/\u001b[39m\u001b[38;5;241m2\u001b[39m)\u001b[38;5;241m*\u001b[39m((\u001b[38;5;241m1\u001b[39m\u001b[38;5;241m/\u001b[39mnp\u001b[38;5;241m.\u001b[39mcosh(G\u001b[38;5;241m/\u001b[39m\u001b[38;5;241m2\u001b[39m))\u001b[38;5;241m*\u001b[39m\u001b[38;5;241m*\u001b[39m(\u001b[38;5;241m3\u001b[39m))\u001b[38;5;241m*\u001b[39mnp\u001b[38;5;241m.\u001b[39msin(k)\u001b[38;5;241m*\u001b[39mnp\u001b[38;5;241m.\u001b[39mcos(k)\u001b[38;5;241m*\u001b[39m(\u001b[38;5;241m1\u001b[39m\u001b[38;5;241m+\u001b[39m\u001b[38;5;241m1\u001b[39mj\u001b[38;5;241m*\u001b[39mnp\u001b[38;5;241m.\u001b[39msinh(G\u001b[38;5;241m/\u001b[39m\u001b[38;5;241m2\u001b[39m)\u001b[38;5;241m*\u001b[39mnp\u001b[38;5;241m.\u001b[39msin(k)) \u001b[38;5;241m+\u001b[39m \u001b[38;5;241m1\u001b[39mj\u001b[38;5;241m*\u001b[39meta\u001b[38;5;241m*\u001b[39mnp\u001b[38;5;241m.\u001b[39mcos(\u001b[38;5;241m3\u001b[39m\u001b[38;5;241m*\u001b[39mk)  \u001b[38;5;66;03m#checked\u001b[39;00m\n\u001b[1;32m     20\u001b[0m H \u001b[38;5;241m=\u001b[39m np\u001b[38;5;241m.\u001b[39mzeros((\u001b[38;5;241m4\u001b[39m,\u001b[38;5;241m4\u001b[39m), dtype\u001b[38;5;241m=\u001b[39m\u001b[38;5;28mcomplex\u001b[39m)\n",
      "\u001b[0;31mKeyboardInterrupt\u001b[0m: "
     ]
    }
   ],
   "source": [
    "#integrator chiral index\n",
    "\n",
    "k_res=0.001\n",
    "par_res=0.002\n",
    "eps_range = np.arange(0.31,-0.3,-par_res)\n",
    "d_range = np.arange(-0.3,0.31,par_res) \n",
    "k_range = np.arange(-np.pi, np.pi, k_res)\n",
    "#trying original formula \n",
    "A2 = np.zeros((len(eps_range),len(d_range)), dtype='c16')\n",
    "\n",
    "\n",
    "eta=0\n",
    "a,g=5,3\n",
    "for m,eps in enumerate(tqdm(eps_range)):\n",
    "    \n",
    "    for n,d in enumerate(d_range):\n",
    "        \n",
    "        try:\n",
    "            # Attempt to evaluate the integral\n",
    "            v_tot = complex_quadrature(lambda k: integrand(k,a,g,eps,-eps,d,eta), -np.pi/2, np.pi/2)\n",
    "\n",
    "            # Normalize the result\n",
    "            v_tot = (1 / (2 * np.pi * 1j)) * v_tot\n",
    "\n",
    "            # Store the result in the matrix\n",
    "            A2[m, n] = v_tot\n",
    "\n",
    "        except Exception as e:\n",
    "            # Handle the exception (e.g., matrix is singular, integral diverges)\n",
    "            print(f\"Integration failed for ({eps}, {d}): {e}\")\n",
    "            \n",
    "            # Assign a specific value to A1[m, n] when integration fails\n",
    "            A2[m, n] = 13  # You can replace np.nan with any other value\n",
    "\n",
    "# #saving data\n",
    "with open('DEF eps vs delta,eps1=eps2,a='+str(a)+'g='+str(g)+'par_res='+str(par_res)+'.pkl', 'wb') as file:\n",
    "        \n",
    "    # A new file will be created\n",
    "    pickle.dump(A2, file)   \n",
    "#    \n",
    "\n"
   ]
  },
  {
   "cell_type": "code",
   "execution_count": 308,
   "id": "942166e7",
   "metadata": {},
   "outputs": [],
   "source": [
    "with open('DEF eps vs delta,eps1=-eps2,a='+str(a)+'g='+str(g)+'par_res='+str(par_res)+'.pkl', 'wb') as file:\n",
    "        \n",
    "    # A new file will be created\n",
    "    pickle.dump(A2, file)   "
   ]
  },
  {
   "cell_type": "code",
   "execution_count": 307,
   "id": "41257bdb",
   "metadata": {
    "scrolled": true
   },
   "outputs": [
    {
     "data": {
      "text/plain": [
       "Text(0, 0.5, '$\\\\epsilon$')"
      ]
     },
     "execution_count": 307,
     "metadata": {},
     "output_type": "execute_result"
    },
    {
     "data": {
      "image/png": "[encoded data removed]",
      "text/plain": [
       "<Figure size 640x480 with 2 Axes>"
      ]
     },
     "metadata": {},
     "output_type": "display_data"
    }
   ],
   "source": [
    "csfont = {'fontname':'Serif'}\n",
    "\n",
    "x,y = d_range,eps_range\n",
    "grid=np.real(A2)\n",
    "\n",
    "# Create a new figure and add a subplot\n",
    "fig, ax = plt.subplots()\n",
    "# Define colors manually\n",
    "colors = ['turquoise','gold','slateblue','peru','silver']  # Add more colors as needed\n",
    "\n",
    "# Create a ListedColormap with the specified colors\n",
    "cmap = ListedColormap(colors)\n",
    "\n",
    "cax= plt.imshow(grid, extent=(x.min(), x.max(), y.min(), y.max()),\n",
    "           interpolation='nearest',cmap=cmap)\n",
    "\n",
    "\n",
    "fig.colorbar(cax)\n",
    "#plt.title('eps1=0.5,eps2=0.5,d=0',**csfont)\n",
    "plt.xlabel(r'$\\delta$',**csfont)\n",
    "h=0.3\n",
    "#plt.ylim(-h,h)\n",
    "#plt.xlim(-h,h)\n",
    "plt.ylabel(r'$\\epsilon$',**csfont)\n"
   ]
  },
  {
   "cell_type": "code",
   "execution_count": 564,
   "id": "e8af8853",
   "metadata": {},
   "outputs": [],
   "source": [
    "#saving data\n",
    "with open('scan eps vs delta final,a='+str(a)+'g='+str(g)+',k_res='+str(k_res)+'.pkl', 'wb') as file:\n",
    "      \n",
    "    # A new file will be created\n",
    "    pickle.dump(A1, file)"
   ]
  },
  {
   "cell_type": "code",
   "execution_count": 341,
   "id": "e951d6b9",
   "metadata": {
    "scrolled": true
   },
   "outputs": [
    {
     "name": "stdout",
     "output_type": "stream",
     "text": [
      "31 31\n"
     ]
    },
    {
     "data": {
      "image/png": "[encoded data removed]",
      "text/plain": [
       "<Figure size 640x480 with 2 Axes>"
      ]
     },
     "metadata": {},
     "output_type": "display_data"
    }
   ],
   "source": [
    "#PLOTTING DEFINITIVE \n",
    "with open('DEF eps vs delta,eps1=-eps2,a=5g=3par_res=0.0025.pkl', 'rb') as file:\n",
    "    fil = pickle.load(file)\n",
    "par_res=0.02\n",
    "eps_range = np.arange(0.31,-0.3,-par_res)\n",
    "d_range = np.arange(-0.3,0.31,par_res) \n",
    "print(len(d_range),len(eps_range))\n",
    "csfont = {'fontname':'Serif'}\n",
    "x,y = d_range, eps_range \n",
    "grid=np.real(np.round(fil))\n",
    "\n",
    "# Create a new figure and add a subplot\n",
    "fig, ax = plt.subplots()\n",
    "\n",
    "# Define colors manually\n",
    "colors = ['slateblue', 'silver','turquoise']  # Add more colors as needed\n",
    "\n",
    "# Create a ListedColormap with the specified colors\n",
    "cmap = ListedColormap(colors)\n",
    "\n",
    "cax= plt.imshow(grid, extent=(x.min(), x.max(), y.min(), y.max()),\n",
    "           interpolation='nearest',cmap=cmap)\n",
    "\n",
    "fig.colorbar(cax)\n",
    "#plt.title('eps1=0.5,eps2=0.5,d=0',**csfont)\n",
    "plt.xlabel(r'$\\delta$',**csfont,size=15)\n",
    "h=0.29\n",
    "#plt.xlim(-h,h)\n",
    "#plt.ylim(-h,h)\n",
    "plt.ylabel(r'$\\epsilon$',**csfont,size=15)\n",
    "plt.savefig(\"/mnt/c/Users/azorzat/OneDrive - UvA/Desktop/Plots Paper/Topo/DEFDEF a=5 g=3.pdf\", bbox_inches='tight')  "
   ]
  },
  {
   "cell_type": "code",
   "execution_count": 335,
   "id": "752f56c1",
   "metadata": {},
   "outputs": [
    {
     "name": "stderr",
     "output_type": "stream",
     "text": [
      "100%|█████████████████████████████████████████████████████████████████████████████████| 244/244 [00:04<00:00, 53.76it/s]\n"
     ]
    }
   ],
   "source": [
    "#gap closing points\n",
    "\n",
    "\n",
    "par_res=0.0025\n",
    "eps_range = np.arange(0.31,-0.3,-par_res)\n",
    "d_range = np.arange(-0.3,0.31,par_res) \n",
    "S = np.zeros((len(eps_range),len(d_range)), dtype='c16')\n",
    "#trying original formula \n",
    "\n",
    "a,g=5,3\n",
    "th=5e-3\n",
    "eta=0\n",
    "\n",
    "for m,eps in enumerate(tqdm(eps_range)):\n",
    "    \n",
    "    for n,d in enumerate(d_range):\n",
    "        \n",
    "        #compute eigenvalues in BZ\n",
    "        eigvals0,_=np.linalg.eigh(H(0,a,g,eps,-eps,d,eta))\n",
    "        eigvalspi,_=np.linalg.eigh(H(np.pi/2,a,g,eps,-eps,d,eta))\n",
    "        order0=np.argsort(eigvals0)\n",
    "       # print(eigvals0[order0][2],eigvals0[order0][1])\n",
    "        if (eigvals0[2])<th:\n",
    "            #print(np.abs(eigvals0[order0][2]+eigvals0[order0][1]))\n",
    "            S[m,n]=1\n",
    "        elif (eigvalspi[2])<th:\n",
    "            #print(np.abs(eigvals0[order0][2]+eigvals0[order0][1]))\n",
    "            S[m,n]=1\n",
    "        else:\n",
    "            continue\n",
    "            \n",
    "        \n",
    " #saving data\n",
    "#with open('DEF eps vs delta,eps1=-eps2,a='+str(a)+'g='+str(g)+'par_res='+str(par_res)+'.pkl', 'wb') as file:\n",
    "#        \n",
    "#    # A new file will be created\n",
    "#    pickle.dump(A1, file)   \n",
    "#    \n",
    "\n"
   ]
  },
  {
   "cell_type": "code",
   "execution_count": 577,
   "id": "840b5a92",
   "metadata": {},
   "outputs": [
    {
     "data": {
      "text/plain": [
       "(array([   0,    1,    2, ..., 1797, 1798, 1799]),\n",
       " array([0, 0, 0, ..., 0, 0, 0]))"
      ]
     },
     "execution_count": 577,
     "metadata": {},
     "output_type": "execute_result"
    }
   ],
   "source": [
    "np.where(S==1)"
   ]
  },
  {
   "cell_type": "code",
   "execution_count": 337,
   "id": "7cfc7303",
   "metadata": {},
   "outputs": [
    {
     "data": {
      "image/png": "[encoded data removed]",
      "text/plain": [
       "<Figure size 640x480 with 1 Axes>"
      ]
     },
     "metadata": {},
     "output_type": "display_data"
    }
   ],
   "source": [
    "x,y =d_range,eps_range\n",
    "grid=S.real\n",
    "\n",
    "# Create a new figure and add a subplot\n",
    "fig, ax = plt.subplots()\n",
    "\n",
    "\n",
    "cax= plt.imshow(grid, extent=(x.min(), x.max(), y.min(), y.max()),\n",
    "           interpolation='none',cmap='cool')\n",
    "\n",
    "plt.xlabel(r'$\\delta$',**csfont,size=15)\n",
    "h=0.5\n",
    "#plt.xlim(-h,h)\n",
    "#plt.ylim(-h,h)\n",
    "plt.ylabel(r'$\\epsilon$',**csfont,size=15)\n",
    "plt.savefig(\"/mnt/c/Users/azorzat/OneDrive - UvA/Desktop/Plots Paper/Topo/DEF gap a=5 g=3.pdf\", bbox_inches='tight')  "
   ]
  },
  {
   "cell_type": "code",
   "execution_count": 329,
   "id": "d5ecc326",
   "metadata": {
    "scrolled": true
   },
   "outputs": [],
   "source": [
    "\n",
    "k_range = np.arange(-np.pi,np.pi,0.001)\n",
    "a,g=5,3\n",
    "eps,d,eta=-0.25,-0.25,0\n",
    "eps_range = np.arange(-2,2,0.1)\n",
    "eigenvalues=np.zeros((len(k_range),4))\n",
    "\n",
    "\n",
    "for i,k in enumerate(k_range):\n",
    "    #print(i,k)\n",
    "    #inverse = np.linalg.inv(H(k,1,1,eps,eps,d))\n",
    "    eigvals,_=np.linalg.eigh(H(k,a,g,eps,-eps,d,eta))\n",
    "    #print(eigvals)\n",
    "    eigenvalues[i,:]=eigvals#[np.argsort(eigvals)]\n",
    "    #eigenvectors[i,:]=eigvecs"
   ]
  },
  {
   "cell_type": "code",
   "execution_count": 330,
   "id": "25bb9b73",
   "metadata": {},
   "outputs": [
    {
     "data": {
      "image/png": "[encoded data removed]",
      "text/plain": [
       "<Figure size 640x480 with 1 Axes>"
      ]
     },
     "metadata": {},
     "output_type": "display_data"
    }
   ],
   "source": [
    "from itertools import cycle\n",
    "colormap1 = plt.cm.cool\n",
    "color_cycle1 = cycle(colormap1(np.linspace(0, 1, len(eps_range))))\n",
    "   \n",
    "color1 = next(color_cycle1)\n",
    "plt.plot(k_range,eigenvalues,c=color1)\n",
    "#plt.plot(k_range,-eigenvalues)\n",
    "h=4\n",
    "#plt.xlim(-np.pi,np.pi)\n",
    "#plt.ylim(-h,h)\n",
    "#print(inverse)"
   ]
  },
  {
   "cell_type": "code",
   "execution_count": null,
   "id": "b0d98850",
   "metadata": {},
   "outputs": [],
   "source": []
  },
  {
   "cell_type": "code",
   "execution_count": 336,
   "id": "de02b620",
   "metadata": {
    "collapsed": true,
    "jupyter": {
     "outputs_hidden": true
    }
   },
   "outputs": [
    {
     "name": "stderr",
     "output_type": "stream",
     "text": [
      " 45%|██████████████████████████████████████▏                                             | 5/11 [00:47<00:57,  9.52s/it]/tmp/ipykernel_3890/1003602808.py:12: RuntimeWarning: divide by zero encountered in double_scalars\n",
      "  N1=((1/np.cosh(G/2))**(4))*(-8*np.cosh(G/2)**(3)-4*np.sinh(G/2)**(2)*np.cos(3*k)+2*(3*np.cosh(G)+1)*np.cos(k))/(8*A) -eps1+d*np.cos(3*k)#checked\n",
      "/tmp/ipykernel_3890/1003602808.py:13: RuntimeWarning: divide by zero encountered in double_scalars\n",
      "  N2=(-((1/np.cosh(G/2))**(4))/(4*A))*(4*np.cosh(G/2)**(3)-2*np.sinh(G/2)**(2)*np.cos(3*k)+3*np.cosh(G)*np.cos(k)+np.cos(k)) -eps2-d*np.cos(3*k) #checked\n",
      "/tmp/ipykernel_3890/1003602808.py:14: RuntimeWarning: divide by zero encountered in cdouble_scalars\n",
      "  Hm=-np.tanh(G/2)*((1/np.cosh(G/2))**(3)*(np.cosh(G)+4*1j*np.sinh(G/2)*np.sin(k)**(3)+2*np.cos(2*k)-1))/(2*A) +1j*d*np.sin(3*k)#checked\n",
      "/tmp/ipykernel_3890/3085801860.py:22: RuntimeWarning: invalid value encountered in subtract\n",
      "  der = (1/(2*k_res))*(H(k+k_res,a,g,eps,eps,d,eta)-H(k-k_res,a,g,eps,eps,d,eta))\n",
      "/tmp/ipykernel_3890/3085801860.py:22: RuntimeWarning: invalid value encountered in multiply\n",
      "  der = (1/(2*k_res))*(H(k+k_res,a,g,eps,eps,d,eta)-H(k-k_res,a,g,eps,eps,d,eta))\n",
      "/tmp/ipykernel_3890/1003602808.py:13: RuntimeWarning: invalid value encountered in double_scalars\n",
      "  N2=(-((1/np.cosh(G/2))**(4))/(4*A))*(4*np.cosh(G/2)**(3)-2*np.sinh(G/2)**(2)*np.cos(3*k)+3*np.cosh(G)*np.cos(k)+np.cos(k)) -eps2-d*np.cos(3*k) #checked\n",
      "/tmp/ipykernel_3890/1003602808.py:14: RuntimeWarning: invalid value encountered in cdouble_scalars\n",
      "  Hm=-np.tanh(G/2)*((1/np.cosh(G/2))**(3)*(np.cosh(G)+4*1j*np.sinh(G/2)*np.sin(k)**(3)+2*np.cos(2*k)-1))/(2*A) +1j*d*np.sin(3*k)#checked\n",
      "100%|███████████████████████████████████████████████████████████████████████████████████| 11/11 [01:46<00:00,  9.65s/it]\n"
     ]
    }
   ],
   "source": [
    "#ph index Riemann            \n",
    "k_res=0.001\n",
    "par_res=0.12\n",
    "eps_range = np.arange(-0.6,0.7,par_res)\n",
    "d_range = np.arange(-0.6,0.9,par_res) \n",
    "k_range = np.arange(-np.pi, np.pi, k_res)\n",
    "\n",
    "eps,d,eta=0,0,0\n",
    "#trying original formula \n",
    "A4 = np.zeros((len(eps_range),len(d_range)), dtype='c16')\n",
    "\n",
    "for m,a in enumerate(tqdm(eps_range)):\n",
    "    \n",
    "    for n,g in enumerate(d_range):\n",
    "        \n",
    "        v=np.zeros(len(k_range),dtype='c16')\n",
    "        \n",
    "        for i,k in enumerate(k_range):\n",
    "            \n",
    "            \n",
    "            inv = (np.linalg.inv(H(k,a,g,eps,eps,d,eta)))\n",
    "            der = (1/(2*k_res))*(H(k+k_res,a,g,eps,eps,d,eta)-H(k-k_res,a,g,eps,eps,d,eta))\n",
    "            temp = C2@inv@der\n",
    "            v[i]= np.trace(temp)\n",
    "           \n",
    "        \n",
    "        v_tot=(k_res)*(1/(4*np.pi*1j))*np.sum(v,axis=0)  \n",
    "        \n",
    "    A4[m,n]=v_tot"
   ]
  },
  {
   "cell_type": "code",
   "execution_count": 332,
   "id": "746def71",
   "metadata": {},
   "outputs": [
    {
     "name": "stderr",
     "output_type": "stream",
     "text": [
      "100%|███████████████████████████████████████████████████████████████████████████████████| 26/26 [00:08<00:00,  3.16it/s]\n"
     ]
    }
   ],
   "source": [
    "#ph index integrator\n",
    "def integrand_ph(k,a,g,eps1,eps2,d,eta):\n",
    "    inv = (np.linalg.inv(H(k,a,g,eps1,eps2,d,eta)))\n",
    "    der = (1/(2*k_res))*(H(k+k_res,a,g,eps1,eps2,d,eta)-H(k-k_res,a,g,eps1,eps2,d,eta))\n",
    "    temp = C2@inv@der\n",
    "    return np.trace(temp)\n",
    "     \n",
    "k_res=0.001\n",
    "par_res=0.05\n",
    "eps_range = np.arange(-0.6,0.7,par_res)\n",
    "d_range = np.arange(-0.6,0.9,par_res) \n",
    "k_range = np.arange(-np.pi, np.pi, k_res)\n",
    "\n",
    "eps,d,eta=0,0,0\n",
    "#trying original formula \n",
    "A3 = np.zeros((len(eps_range),len(d_range)), dtype='c16')\n",
    "\n",
    "for m,a in enumerate(tqdm(eps_range)):\n",
    "    \n",
    "    for n,g in enumerate(d_range):\n",
    "\n",
    "        try:\n",
    "            # Attempt to evaluate the integral\n",
    "            v_tot = complex_quadrature(lambda k: integrand_ph(k,a,g,eps,eps,d,eta), -np.pi, np.pi)\n",
    "\n",
    "            # Normalize the result\n",
    "            v_tot = (1 / (2 * np.pi * 1j)) * v_tot\n",
    "\n",
    "            # Store the re   sult in the matrix\n",
    "            A3[m, n] = v_tot\n",
    "\n",
    "        except Exception as e:\n",
    "            # Handle the exception (e.g., matrix is singular, integral diverges)\n",
    "            print(f\"Integration failed for ({eps}, {d}): {e}\")\n",
    "            \n",
    "            # Assign a specific value to A1[m, n] when integration fails\n",
    "            A3[m, n] = 13  # You can replace np.nan with any other value\n",
    "           "
   ]
  },
  {
   "cell_type": "code",
   "execution_count": 320,
   "id": "21a5e710",
   "metadata": {},
   "outputs": [
    {
     "name": "stderr",
     "output_type": "stream",
     "text": [
      "100%|█████████████████████████████████████████████████████████████████████████████████████| 9/9 [01:34<00:00, 10.45s/it]\n"
     ]
    }
   ],
   "source": [
    "#chiral index Riemann\n",
    "k_res=0.001\n",
    "eps_range = np.arange(-0.5,0.5,0.12)\n",
    "d_range = np.arange(-0.5,0.5,0.12) \n",
    "k_range = np.arange(-np.pi, np.pi, k_res)\n",
    "\n",
    "#trying original formula \n",
    "A1 = np.zeros((len(eps_range),len(d_range)), dtype='c16')\n",
    "eps,d,eta=0,0,0\n",
    "for m,a in enumerate(tqdm(eps_range)):\n",
    "    \n",
    "    for n,g in enumerate(d_range):\n",
    "        \n",
    "        v=np.zeros(len(k_range),dtype='c16')\n",
    "\n",
    "        for i,k in enumerate(k_range):\n",
    "            \n",
    "            \n",
    "            inv = (np.linalg.inv(magical(k,a,g,eps,eps,d,eta)))\n",
    "            der = (1/(2*k_res))*(magical(k+k_res,a,g,eps,eps,d,eta)-magical(k-k_res,a,g,eps,eps,d,eta))\n",
    "            temp = inv@der\n",
    "            v[i]= np.trace(temp)\n",
    "           \n",
    "        v_tot=(k_res)*(1/(2*np.pi*1j))*np.sum(v,axis=0)  \n",
    "   \n",
    "        A1[m,n]=v_tot\n",
    "    \n",
    "\n"
   ]
  },
  {
   "cell_type": "code",
   "execution_count": 249,
   "id": "0db37355",
   "metadata": {},
   "outputs": [],
   "source": [
    "#rotation business\n",
    "k,a,g,eps1,eps2,d,eta=1,1,1,0,0,0,0\n",
    "#H(k,A,G,eps1,eps2,d,eta)\n",
    "\n",
    "\n",
    "U =expm(-1j*(np.pi/4)*np.kron(sigma_y,id))\n",
    "G=np.diag([np.sqrt(1j),np.sqrt(1j),-np.sqrt(-1j),-np.sqrt(-1j)])"
   ]
  },
  {
   "cell_type": "code",
   "execution_count": 254,
   "id": "5319eb5f",
   "metadata": {
    "scrolled": true
   },
   "outputs": [
    {
     "data": {
      "text/plain": [
       "True"
      ]
     },
     "execution_count": 254,
     "metadata": {},
     "output_type": "execute_result"
    }
   ],
   "source": [
    "np.allclose((U@G)@H(k,a,g,eps1,eps2,d,eta)@(U@G).conj().T,(magic)@H(k,a,g,eps1,eps2,d,eta)@(magic).conj().T)"
   ]
  },
  {
   "cell_type": "code",
   "execution_count": 268,
   "id": "a5ddd739",
   "metadata": {},
   "outputs": [
    {
     "data": {
      "text/plain": [
       "True"
      ]
     },
     "execution_count": 268,
     "metadata": {},
     "output_type": "execute_result"
    }
   ],
   "source": [
    "np.allclose(U@G, magic)"
   ]
  },
  {
   "cell_type": "code",
   "execution_count": 255,
   "id": "049af910",
   "metadata": {},
   "outputs": [
    {
     "data": {
      "text/plain": [
       "array([[-5.55111512e-17+2.77555756e-17j,  5.55111512e-17-4.16333634e-17j,\n",
       "        -3.33394617e-01+6.53189746e-01j,  1.91511600e-01-5.30601145e-01j],\n",
       "       [ 1.38777878e-17+3.46944695e-17j, -2.22044605e-16+0.00000000e+00j,\n",
       "        -9.82989706e-02-1.30332585e-01j, -1.44024315e+00-6.53189746e-01j],\n",
       "       [-3.33394617e-01-6.53189746e-01j, -9.82989706e-02+1.30332585e-01j,\n",
       "         5.55111512e-17+0.00000000e+00j, -2.77555756e-17+4.85722573e-17j],\n",
       "       [ 1.91511600e-01+5.30601145e-01j, -1.44024315e+00+6.53189746e-01j,\n",
       "        -5.55111512e-17-5.55111512e-17j,  2.77555756e-16+0.00000000e+00j]])"
      ]
     },
     "execution_count": 255,
     "metadata": {},
     "output_type": "execute_result"
    }
   ],
   "source": [
    "(U@G)@H(k,a,g,eps1,eps2,d,eta)@(U@G).conj().T"
   ]
  },
  {
   "cell_type": "code",
   "execution_count": 257,
   "id": "32017e27",
   "metadata": {},
   "outputs": [
    {
     "data": {
      "text/plain": [
       "True"
      ]
     },
     "execution_count": 257,
     "metadata": {},
     "output_type": "execute_result"
    }
   ],
   "source": [
    "np.allclose((U@G).conj().T,   G.conj().T@U.conj().T)"
   ]
  },
  {
   "cell_type": "code",
   "execution_count": 258,
   "id": "f201d413",
   "metadata": {},
   "outputs": [
    {
     "data": {
      "text/plain": [
       "True"
      ]
     },
     "execution_count": 258,
     "metadata": {},
     "output_type": "execute_result"
    }
   ],
   "source": [
    "np.allclose(G.conj().T@U@G@H(k,a,g,eps1,eps2,d,eta)@G.conj().T@U.conj().T@G,G.conj().T@magical(k,a,g,eps1,eps2,d,eta)@G)"
   ]
  },
  {
   "cell_type": "code",
   "execution_count": 259,
   "id": "ceaf3d07",
   "metadata": {},
   "outputs": [],
   "source": [
    "Y=G.conj().T@U@G"
   ]
  },
  {
   "cell_type": "code",
   "execution_count": 260,
   "id": "7647af54",
   "metadata": {},
   "outputs": [
    {
     "data": {
      "text/plain": [
       "True"
      ]
     },
     "execution_count": 260,
     "metadata": {},
     "output_type": "execute_result"
    }
   ],
   "source": [
    "np.allclose(Y@H(k,a,g,eps1,eps2,d,eta)@Y.conj().T,G.conj().T@magical(k,a,g,eps1,eps2,d,eta)@G)"
   ]
  },
  {
   "cell_type": "code",
   "execution_count": 267,
   "id": "4f8d81a8",
   "metadata": {},
   "outputs": [
    {
     "data": {
      "text/plain": [
       "True"
      ]
     },
     "execution_count": 267,
     "metadata": {},
     "output_type": "execute_result"
    }
   ],
   "source": [
    "np.allclose(sigma_z@sigma_y,-1j*sigma_x)"
   ]
  },
  {
   "cell_type": "code",
   "execution_count": 266,
   "id": "d51c333c",
   "metadata": {},
   "outputs": [
    {
     "data": {
      "text/plain": [
       "array([[0.+0.j, 0.-1.j],\n",
       "       [0.-1.j, 0.+0.j]])"
      ]
     },
     "execution_count": 266,
     "metadata": {},
     "output_type": "execute_result"
    }
   ],
   "source": [
    "sigma_z@sigma_y"
   ]
  },
  {
   "cell_type": "code",
   "execution_count": 271,
   "id": "3dc0c55f",
   "metadata": {},
   "outputs": [
    {
     "data": {
      "text/plain": [
       "False"
      ]
     },
     "execution_count": 271,
     "metadata": {},
     "output_type": "execute_result"
    }
   ],
   "source": [
    "np.allclose(np.linalg.inv(magical(k,a,g,eps1,eps2,d,eta)),magical(k,a,g,eps1,eps2,d,eta).conj().T)"
   ]
  },
  {
   "cell_type": "code",
   "execution_count": null,
   "id": "112b1556",
   "metadata": {},
   "outputs": [],
   "source": []
  }
 ],
 "metadata": {
  "kernelspec": {
   "display_name": "Python 3 (ipykernel)",
   "language": "python",
   "name": "python3"
  },
  "language_info": {
   "codemirror_mode": {
    "name": "ipython",
    "version": 3
   },
   "file_extension": ".py",
   "mimetype": "text/x-python",
   "name": "python",
   "nbconvert_exporter": "python",
   "pygments_lexer": "ipython3",
   "version": "3.10.6"
  }
 },
 "nbformat": 4,
 "nbformat_minor": 5
}
