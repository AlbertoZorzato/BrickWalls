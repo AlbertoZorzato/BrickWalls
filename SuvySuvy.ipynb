{
 "cells": [
  {
   "cell_type": "code",
   "execution_count": 1,
   "id": "850a1398-4d67-479d-987b-38a37de11020",
   "metadata": {},
   "outputs": [],
   "source": [
    "#from tqdm import tqdm\n",
    "from qiskit import quantum_info\n",
    "from qiskit import QuantumCircuit, ClassicalRegister, QuantumRegister\n",
    "import matplotlib.pyplot as plt\n",
    "import numpy as np\n",
    "from qiskit import QuantumCircuit, transpile\n",
    "from qiskit.quantum_info import Operator\n",
    "from qiskit.quantum_info import SparsePauliOp\n",
    "from qiskit.circuit import Parameter\n",
    "from qiskit_ibm_runtime import Estimator, Session, QiskitRuntimeService, Options, Sampler\n",
    "from qiskit.transpiler.preset_passmanagers import generate_preset_pass_manager\n"
   ]
  },
  {
   "cell_type": "code",
   "execution_count": null,
   "id": "73912e41-38cd-4652-92bc-b04705cb0935",
   "metadata": {},
   "outputs": [],
   "source": [
    "def Suvy():"
   ]
  },
  {
   "cell_type": "code",
   "execution_count": null,
   "id": "22385184-27b8-4706-a22c-403ae698eb14",
   "metadata": {},
   "outputs": [],
   "source": []
  }
 ],
 "metadata": {
  "kernelspec": {
   "display_name": "Python 3 (ipykernel)",
   "language": "python",
   "name": "python3"
  },
  "language_info": {
   "codemirror_mode": {
    "name": "ipython",
    "version": 3
   },
   "file_extension": ".py",
   "mimetype": "text/x-python",
   "name": "python",
   "nbconvert_exporter": "python",
   "pygments_lexer": "ipython3",
   "version": "3.10.6"
  }
 },
 "nbformat": 4,
 "nbformat_minor": 5
}
