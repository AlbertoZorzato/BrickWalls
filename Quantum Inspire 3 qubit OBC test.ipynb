{
 "cells": [
  {
   "cell_type": "code",
   "execution_count": 15,
   "id": "bdfc90f3",
   "metadata": {},
   "outputs": [],
   "source": [
    "import openql as ql\n",
    "import qxelarator"
   ]
  },
  {
   "cell_type": "code",
   "execution_count": 3,
   "id": "d638636b",
   "metadata": {},
   "outputs": [],
   "source": [
    "ql.initialize()"
   ]
  },
  {
   "cell_type": "code",
   "execution_count": 4,
   "id": "9cee7c08",
   "metadata": {},
   "outputs": [],
   "source": [
    "ql.set_option('output_dir', 'output') #sets output directory for compiled files\n",
    "ql.set_option('log_level', 'LOG_INFO') #sets verbosity of log messages (if not you don't get error messages)"
   ]
  },
  {
   "cell_type": "code",
   "execution_count": 7,
   "id": "25eef2cb",
   "metadata": {},
   "outputs": [
    {
     "name": "stderr",
     "output_type": "stream",
     "text": [
      "[OPENQL] /__w/OpenQL/OpenQL/src/ql/ir/compat/platform.cc:591 Warning: 'resources' section is not specified in the hardware config file; assuming that there are none\n",
      "[OPENQL] /__w/OpenQL/OpenQL/src/ql/ir/compat/platform.cc:599 Warning: 'topology' section is not specified in the hardware config file; a fully-connected topology will be generated\n",
      "[OPENQL] /__w/OpenQL/OpenQL/src/ql/ir/compat/platform.cc:619 Warning: instruction 'measure' redefined: the old definition will be overwritten!\n",
      "[OPENQL] /__w/OpenQL/OpenQL/src/ql/ir/compat/platform.cc:619 Warning: instruction 'measure_x' redefined: the old definition will be overwritten!\n",
      "[OPENQL] /__w/OpenQL/OpenQL/src/ql/ir/compat/platform.cc:619 Warning: instruction 'measure_y' redefined: the old definition will be overwritten!\n",
      "[OPENQL] /__w/OpenQL/OpenQL/src/ql/ir/compat/platform.cc:619 Warning: instruction 'measure_z' redefined: the old definition will be overwritten!\n"
     ]
    }
   ],
   "source": [
    "platform = ql.Platform('my_platform', 'none')  #create platform object, specify architecture to compile for (none for now)"
   ]
  },
  {
   "cell_type": "code",
   "execution_count": 8,
   "id": "fe8e2e2d",
   "metadata": {},
   "outputs": [],
   "source": [
    "nqubits = 3\n",
    "program = ql.Program('my_program', platform, nqubits)  #create program and kernel, specify platform\n",
    "kernel = ql.Kernel('my_kernel', platform, nqubits)"
   ]
  },
  {
   "cell_type": "code",
   "execution_count": 11,
   "id": "e102fa81",
   "metadata": {},
   "outputs": [],
   "source": [
    "for i in range(nqubits):    #once a kernel is created we can add instructions to it \n",
    "    kernel.prepz(i)\n",
    "\n",
    "kernel.x(0)                   #many gates have shortcuts, if not you use gate() method\n",
    "kernel.hadamard(1)\n",
    "kernel.cz(2, 0)\n",
    "kernel.measure(0)\n",
    "kernel.measure(1)"
   ]
  },
  {
   "cell_type": "code",
   "execution_count": 12,
   "id": "e4f8ad3b",
   "metadata": {},
   "outputs": [],
   "source": [
    "program.add_kernel(kernel)    #when I'm done adding gates to kernel I can add kernel to program"
   ]
  },
  {
   "cell_type": "code",
   "execution_count": 13,
   "id": "e3ca3da6",
   "metadata": {},
   "outputs": [
    {
     "name": "stdout",
     "output_type": "stream",
     "text": [
      "[OPENQL] /__w/OpenQL/OpenQL/src/ql/api/program.cc:167 Info: compiling my_program ...\n",
      "[OPENQL] /__w/OpenQL/OpenQL/src/ql/pmgr/pass_types/base.cc:1036 Info: starting pass \"initialqasmwriter\" of type \"io.cqasm.Report\"...\n",
      "[OPENQL] /__w/OpenQL/OpenQL/src/ql/pmgr/pass_types/base.cc:1038 Info: completed pass \"initialqasmwriter\"; return value is 0\n",
      "[OPENQL] /__w/OpenQL/OpenQL/src/ql/pmgr/pass_types/base.cc:1036 Info: starting pass \"prescheduler\" of type \"sch.ListSchedule\"...\n",
      "[OPENQL] /__w/OpenQL/OpenQL/src/ql/pmgr/pass_types/base.cc:1038 Info: completed pass \"prescheduler\"; return value is 0\n",
      "[OPENQL] /__w/OpenQL/OpenQL/src/ql/pmgr/pass_types/base.cc:1036 Info: starting pass \"scheduledqasmwriter\" of type \"io.cqasm.Report\"...\n",
      "[OPENQL] /__w/OpenQL/OpenQL/src/ql/pmgr/pass_types/base.cc:1038 Info: completed pass \"scheduledqasmwriter\"; return value is 0\n"
     ]
    }
   ],
   "source": [
    "program.compile()            #finally we can compile the program and we're ready to run"
   ]
  },
  {
   "cell_type": "code",
   "execution_count": 42,
   "id": "eacb00b5",
   "metadata": {},
   "outputs": [
    {
     "data": {
      "text/plain": [
       "Quantum simulation error: Cannot parse and analyze file output/my_program.qasm:\n",
       "Error at output/my_program.qasm:4:1..30: failed to resolve pragma\n",
       "Error at output/my_program.qasm:8:12..13: failed to resolve q\n",
       "Error at output/my_program.qasm:9:12..13: failed to resolve q\n",
       "Error at output/my_program.qasm:10:12..13: failed to resolve q\n",
       "Error at output/my_program.qasm:11:7..8: failed to resolve q\n",
       "Error at output/my_program.qasm:12:12..13: failed to resolve q\n",
       "Error at output/my_program.qasm:13:12..13: failed to resolve q\n",
       "Error at output/my_program.qasm:14:12..13: failed to resolve q\n",
       "Error at output/my_program.qasm:15:7..8: failed to resolve q\n",
       "Error at output/my_program.qasm:16:8..9: failed to resolve q\n",
       "Error at output/my_program.qasm:17:13..14: failed to resolve q\n",
       "Error at output/my_program.qasm:18:13..14: failed to resolve q\n",
       "Error at output/my_program.qasm:19:12..13: failed to resolve q\n",
       "Error at output/my_program.qasm:20:12..13: failed to resolve q\n",
       "Error at output/my_program.qasm:21:12..13: failed to resolve q\n",
       "Error at output/my_program.qasm:22:7..8: failed to resolve q\n",
       "Error at output/my_program.qasm:23:7..8: failed to resolve q\n",
       "Error at output/my_program.qasm:24:8..9: failed to resolve q\n",
       "Error at output/my_program.qasm:25:13..14: failed to resolve q\n",
       "Error at output/my_program.qasm:26:13..14: failed to resolve q"
      ]
     },
     "execution_count": 42,
     "metadata": {},
     "output_type": "execute_result"
    }
   ],
   "source": [
    "\n",
    "#set the qasm file to be executed\n",
    "qxelarator.execute_file(\"output/my_program.qasm\")\n",
    "\n",
    "#why cannot parse? the file is an automatically generated cQasm file, it should work"
   ]
  },
  {
   "cell_type": "code",
   "execution_count": 43,
   "id": "4a1767e7",
   "metadata": {},
   "outputs": [],
   "source": [
    "#try other way\n",
    "qx= qxelarator.QX()\n",
    "# set the qasm to be executed\n",
    "qx.set('output/my_program.qasm')\n",
    "\n",
    "json_string = qx.execute(1)"
   ]
  },
  {
   "cell_type": "code",
   "execution_count": 47,
   "id": "f45a8fca",
   "metadata": {},
   "outputs": [
    {
     "data": {
      "text/plain": [
       "'No circuit successfully loaded, call set(...) first'"
      ]
     },
     "execution_count": 47,
     "metadata": {},
     "output_type": "execute_result"
    }
   ],
   "source": [
    "json_string"
   ]
  }
 ],
 "metadata": {
  "kernelspec": {
   "display_name": "Python 3 (ipykernel)",
   "language": "python",
   "name": "python3"
  },
  "language_info": {
   "codemirror_mode": {
    "name": "ipython",
    "version": 3
   },
   "file_extension": ".py",
   "mimetype": "text/x-python",
   "name": "python",
   "nbconvert_exporter": "python",
   "pygments_lexer": "ipython3",
   "version": "3.10.9"
  }
 },
 "nbformat": 4,
 "nbformat_minor": 5
}
