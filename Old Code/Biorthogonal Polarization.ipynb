{
 "cells": [
  {
   "cell_type": "code",
   "execution_count": null,
   "metadata": {},
   "outputs": [],
   "source": [
    "import kwant\n",
    "import numpy as np \n",
    "import matplotlib.pyplot as plt \n",
    "from scipy.linalg import eig\n",
    "import qsymm\n",
    "\n",
    "sigma = np.array([[[0, 1], [1, 0]],\n",
    "                  [[0, 1j], [-1j, 0]],\n",
    "                  [[1, 0], [0, -1]],\n",
    "                  [[1, 0],[0, 1]]])\n",
    "\n",
    "\n",
    "lat_h = kwant.lattice.chain(norbs=1)\n",
    "bulk_h = kwant.Builder(symmetry=kwant.lattice.TranslationalSymmetry([2]))\n",
    "\n",
    "lat_a = kwant.lattice.chain(norbs=1)\n",
    "bulk_a = kwant.Builder(symmetry=kwant.lattice.TranslationalSymmetry([2]))\n",
    "\n",
    "def onsite_h(site):\n",
    "    return 0\n",
    "\n",
    "def hopping_hintra(site1, site2, t1):\n",
    "    return t1\n",
    "\n",
    "def hopping_hinter(site1, site2, t2):\n",
    "    return t2\n",
    "\n",
    "bulk_h[lat_h(0)] = onsite_h\n",
    "bulk_h[lat_h(1)] = onsite_h\n",
    "bulk_h[lat_h(0),lat_h(1)] = hopping_hintra\n",
    "bulk_h[lat_h(1),lat_h(2)] = hopping_hinter\n",
    "\n",
    "def onsite_a(site):\n",
    "    return 0 \n",
    "\n",
    "def hopping_aintra(site1, site2, v1):\n",
    "    return 1j*v1\n",
    "\n",
    "bulk_a[lat_a(0)] = onsite_a\n",
    "bulk_a[lat_a(1)] = onsite_a\n",
    "bulk_a[lat_a(0),lat_a(1)] = hopping_aintra\n",
    "bulk_a[lat_a(1),lat_a(2)] = 0\n",
    "\n",
    "finite_h = kwant.Builder()\n",
    "finite_a = kwant.Builder()\n",
    "\n",
    "L = 150\n",
    "\n",
    "def shape(site):\n",
    "    pos=site.pos\n",
    "    return -L/2<pos[0]<=L/2\n",
    "\n",
    "finite_h.fill(bulk_h, shape, start=[0]);\n",
    "finite_a.fill(bulk_a, shape, start=[0]);\n",
    "\n",
    "finite_h = finite_h.finalized()\n",
    "finite_a = finite_a.finalized()\n",
    "\n",
    "pol = []\n",
    "\n",
    "x = np.diag([s.pos[0] for s in finite_h.sites])\n",
    "x = x*(1/L)\n",
    "\n",
    "ts = np.arange(0.5, 1.5, 0.01)\n",
    "\n",
    "for t1 in ts: \n",
    "    \n",
    "    aux = t1\n",
    "\n",
    "    params_h = dict(t1=aux, t2=1)\n",
    "    ham_h = finite_h.hamiltonian_submatrix(params = params_h)\n",
    "\n",
    "    params_a = dict(v1=3)\n",
    "    ham_a = finite_a.hamiltonian_submatrix(params = params_a)\n",
    "\n",
    "    ham_tot = ham_h + 1j*ham_a  \n",
    "    \n",
    "    evals, evecsL, evecsR = eig(ham_tot, left=True, right=True) \n",
    "    #evalsR, evecsR = eig(ham_tot, left=False, right=True)\n",
    "    \n",
    "    \n",
    "    evecsR2=(1/np.diag(evecsL.conj().T@evecsR))*evecsR\n",
    "    \n",
    "    P = 1 - evecsL.conj().T@x@evecsR2\n",
    "    \n",
    "    K = np.diag(P)\n",
    "    \n",
    "    plt.scatter(t1*np.ones(K.shape), K.real)\n",
    "\n",
    "    "
   ]
  },
  {
   "cell_type": "code",
   "execution_count": null,
   "metadata": {
    "scrolled": true
   },
   "outputs": [],
   "source": [
    "print(evecsL[:,34].conj().T@evecsR[:,34])"
   ]
  },
  {
   "cell_type": "code",
   "execution_count": null,
   "metadata": {},
   "outputs": [],
   "source": [
    "evecsR2=(1/np.diag(evecsL.conj().T@evecsR))*evecsR"
   ]
  },
  {
   "cell_type": "code",
   "execution_count": null,
   "metadata": {},
   "outputs": [],
   "source": [
    "print(evecsL[:,34].conj().T@evecsR2[:,34])"
   ]
  },
  {
   "cell_type": "code",
   "execution_count": 2,
   "metadata": {},
   "outputs": [],
   "source": [
    "import qsymm\n",
    "import numpy as np\n",
    "\n",
    "qsymm.__version__\n",
    "qsymm??"
   ]
  },
  {
   "cell_type": "code",
   "execution_count": 3,
   "metadata": {},
   "outputs": [
    {
     "data": {
      "text/latex": [
       "$1$"
      ],
      "text/plain": [
       "1"
      ]
     },
     "execution_count": 3,
     "metadata": {},
     "output_type": "execute_result"
    }
   ],
   "source": [
    "qsymm.groups.PointGroupElement(R=np.eye(2), transpose=True)"
   ]
  },
  {
   "cell_type": "code",
   "execution_count": 6,
   "metadata": {},
   "outputs": [],
   "source": [
    "from importlib.util import module_from_spec, spec_from_file_location"
   ]
  },
  {
   "cell_type": "code",
   "execution_count": null,
   "metadata": {},
   "outputs": [],
   "source": []
  }
 ],
 "metadata": {
  "kernelspec": {
   "display_name": "Python 3 (ipykernel)",
   "language": "python",
   "name": "python3"
  },
  "language_info": {
   "codemirror_mode": {
    "name": "ipython",
    "version": 3
   },
   "file_extension": ".py",
   "mimetype": "text/x-python",
   "name": "python",
   "nbconvert_exporter": "python",
   "pygments_lexer": "ipython3",
   "version": "3.9.7"
  }
 },
 "nbformat": 4,
 "nbformat_minor": 2
}
