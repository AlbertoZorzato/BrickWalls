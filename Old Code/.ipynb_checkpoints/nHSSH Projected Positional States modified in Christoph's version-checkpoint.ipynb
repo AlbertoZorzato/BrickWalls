{
 "cells": [
  {
   "cell_type": "code",
   "execution_count": 1,
   "metadata": {},
   "outputs": [],
   "source": [
    "\n",
    "import kwant\n",
    "import numpy as np \n",
    "import matplotlib.pyplot as plt \n",
    "import matplotlib.patches as mpatches\n",
    "import scipy.sparse.linalg as sla\n",
    "from scipy.linalg import eig\n",
    "import scipy   \n",
    "from itertools import cycle\n",
    "import matplotlib.cm as cm\n",
    "from matplotlib.gridspec import GridSpec\n",
    "import matplotlib.colors as colors\n",
    "import matplotlib as mpl\n",
    "import sys, os \n"
   ]
  },
  {
   "cell_type": "code",
   "execution_count": 2,
   "metadata": {},
   "outputs": [],
   "source": [
    "import numpy as np\n",
    "from scipy.linalg import eig\n",
    "import matplotlib.pyplot as plt\n",
    "import scipy.sparse.linalg as sla\n",
    "import scipy\n",
    "\n",
    "\n",
    "def H(size,t1,t2,d,D,y,PBC=False,broken_cell = False):\n",
    "\n",
    "    U = np.array([[1j*D,t1+d],[t1-d,-1j*D]])    \n",
    "    sigmax = np.array([[0,1],[1,0]])\n",
    "    Tm = np.array([[0,0],[t2,0]])\n",
    "\n",
    "    diagonal = np.eye(size)\n",
    "    off_diagonal_p = np.eye(size, k = 1)\n",
    "    off_diagonal_m = np.eye(size, k = -1)\n",
    "    hamiltonian = np.kron(diagonal, U)+ np.kron(off_diagonal_m, Tm.conj().T) + np.kron(off_diagonal_p,Tm) \n",
    "    \n",
    "    #disorder = np.kron(np.diag(np.random.normal(0,y,(size,))),sigmax)\n",
    "    \n",
    "    #hamiltonian+=disorder        THIS TRIGGERS DISORDERING IN ALL HOPPINGS \n",
    "    \n",
    "    \n",
    "    if PBC==True:\n",
    "        if broken_cell == True:\n",
    "            print('broken_cell == True requires open system here')\n",
    "            exit()\n",
    "        boundary_p = np.eye(size, k = size-1)\n",
    "        boundary_m = np.eye(size, k = -(size-1))\n",
    "        boundary_terms = np.kron(boundary_p,Tm.conj().T)+ np.kron(boundary_m,Tm)\n",
    "        hamiltonian = hamiltonian + boundary_terms\n",
    "    elif broken_cell == True:\n",
    "        hop_vec = np.zeros(2*size)\n",
    "        hop_vec[-1] = np.conj(t2)\n",
    "        hamiltonian = np.append(hamiltonian,[hop_vec],axis=0)\n",
    "        hop_vec_T = np.zeros(2*size+1)\n",
    "        hop_vec_T[-2]= t2\n",
    "        hamiltonian = np.append(hamiltonian,np.array([hop_vec_T]).T,axis=1)\n",
    "    return hamiltonian"
   ]
  },
  {
   "cell_type": "code",
   "execution_count": 14,
   "metadata": {},
   "outputs": [
    {
     "ename": "ValueError",
     "evalue": "matmul: Input operand 1 has a mismatch in its core dimension 0, with gufunc signature (n?,k),(k,m?)->(n?,m?) (size 20 is different from 21)",
     "output_type": "error",
     "traceback": [
      "\u001b[0;31m---------------------------------------------------------------------------\u001b[0m",
      "\u001b[0;31mValueError\u001b[0m                                Traceback (most recent call last)",
      "\u001b[0;32m/var/folders/vh/1xsbnb8j4d174y_4lc524p940000gn/T/ipykernel_25318/2785745062.py\u001b[0m in \u001b[0;36m<module>\u001b[0;34m\u001b[0m\n\u001b[1;32m     26\u001b[0m \u001b[0;31m#print(x)\u001b[0m\u001b[0;34m\u001b[0m\u001b[0;34m\u001b[0m\u001b[0m\n\u001b[1;32m     27\u001b[0m \u001b[0;34m\u001b[0m\u001b[0m\n\u001b[0;32m---> 28\u001b[0;31m \u001b[0mX1\u001b[0m \u001b[0;34m=\u001b[0m \u001b[0mP1\u001b[0m\u001b[0;34m@\u001b[0m\u001b[0mx\u001b[0m\u001b[0;34m@\u001b[0m\u001b[0mP1\u001b[0m\u001b[0;34m\u001b[0m\u001b[0;34m\u001b[0m\u001b[0m\n\u001b[0m\u001b[1;32m     29\u001b[0m \u001b[0;34m\u001b[0m\u001b[0m\n\u001b[1;32m     30\u001b[0m \u001b[0mevals1\u001b[0m\u001b[0;34m,\u001b[0m \u001b[0mevecs1\u001b[0m \u001b[0;34m=\u001b[0m \u001b[0mnp\u001b[0m\u001b[0;34m.\u001b[0m\u001b[0mlinalg\u001b[0m\u001b[0;34m.\u001b[0m\u001b[0meig\u001b[0m\u001b[0;34m(\u001b[0m\u001b[0mX1\u001b[0m\u001b[0;34m)\u001b[0m\u001b[0;34m\u001b[0m\u001b[0;34m\u001b[0m\u001b[0m\n",
      "\u001b[0;31mValueError\u001b[0m: matmul: Input operand 1 has a mismatch in its core dimension 0, with gufunc signature (n?,k),(k,m?)->(n?,m?) (size 20 is different from 21)"
     ]
    }
   ],
   "source": [
    "size = 10\n",
    "\n",
    "hamiltonian1 = H(size,100,1,0.1,0,0,broken_cell=True)\n",
    "#v0 = np.zeros((2*L + 1,), dtype=complex)\n",
    "#v0[2*L] = 1\n",
    "\n",
    "\n",
    "\n",
    "eigvals1, eigvecL1, eigvecR1 = eig(hamiltonian1, left=True, right=True)    #the reason of the problem might be here, \n",
    "# maybe the \"doubled\" definiton of hamiltonian1 is wrong for our sake????\n",
    "\n",
    "\n",
    "norm1 = np.diag(eigvecL1.conj().T @ eigvecR1)\n",
    "\n",
    "eigvecR1 = eigvecR1/norm1\n",
    "\n",
    "P1 = np.zeros((21,21))\n",
    "\n",
    "\n",
    "P1 = (eigvecL1) @ np.diag(eigvals1 < 0.1) @ eigvecR1.conj().T\n",
    "\n",
    "position = np.arange(0,size,1)\n",
    "x = np.kron(np.array((np.diag(position)), dtype=complex),np.eye(2))   #HERE I CHANGED W NP.KRON!!!!!!!!!!!!\n",
    "#print(x.shape)\n",
    "#print(P1.shape)\n",
    "#print(x)\n",
    "\n",
    "X1 = P1@x@P1\n",
    "\n",
    "evals1, evecs1 = np.linalg.eig(X1)\n",
    "print(X1.shape)\n",
    "print(evals1.shape)\n",
    "\n",
    "evals1 = evals1[evals1 > 0]\n",
    "\n",
    "order1 = np.argsort(evals1)\n",
    "\n",
    "np.allclose(eigvecL1.T.conj() @ eigvecR1, np.eye(evecs1.shape[0]))"
   ]
  },
  {
   "cell_type": "code",
   "execution_count": 15,
   "metadata": {},
   "outputs": [
    {
     "data": {
      "text/plain": [
       "True"
      ]
     },
     "execution_count": 15,
     "metadata": {},
     "output_type": "execute_result"
    }
   ],
   "source": [
    "\n",
    "\n",
    "\n",
    "hamiltonian2 = H(size,1,100,0.1,0,0)\n",
    "\n",
    "eigvals2, eigvecL2, eigvecR2 = eig(hamiltonian2, left=True, right=True)\n",
    "\n",
    "\n",
    "norm2 = np.diag(eigvecL2.conj().T @ eigvecR2)\n",
    "\n",
    "eigvecR2 = eigvecR2/norm2\n",
    "P2 = np.zeros((size,size))\n",
    "P2 = (eigvecL2) @ np.diag(eigvals2 < 0.1) @ eigvecR2.conj().T\n",
    "\n",
    "X2 = P2@x@P2\n",
    "evals2, evecs2 = np.linalg.eig(X2)\n",
    "evals2 = evals2[evals2 > 0]\n",
    "order2 = np.argsort(evals2)\n",
    "\n",
    "\n",
    "np.allclose(eigvecL2.T.conj() @ eigvecR2, np.eye(evecs2.shape[0]))\n"
   ]
  },
  {
   "cell_type": "code",
   "execution_count": 16,
   "metadata": {
    "scrolled": true
   },
   "outputs": [
    {
     "name": "stdout",
     "output_type": "stream",
     "text": [
      "10\n"
     ]
    },
    {
     "data": {
      "image/png": "[encoded data removed]",
      "text/plain": [
       "<Figure size 432x288 with 1 Axes>"
      ]
     },
     "metadata": {
      "needs_background": "light"
     },
     "output_type": "display_data"
    }
   ],
   "source": [
    "import array as arr\n",
    "posizioni = arr.array('i', [0,1,2,3,4,5,6,7,8,9])\n",
    "print(len(posizioni))\n",
    "plt.scatter(evals1[order1], np.zeros((len(evals1), )), c = 'b')\n",
    "    \n",
    "plt.scatter(evals2[order2], np.zeros((len(evals2), )), c = 'r')    \n",
    "\n",
    "y = np.zeros(10)\n",
    "for i in range(10):\n",
    "    y[i] = 0.0005\n",
    "\n",
    "plt.scatter([s for s in posizioni], y, c = 'y')\n",
    "\n",
    "red_patch = mpatches.Patch(color='red', label='t2>>t1')\n",
    "blue_patch = mpatches.Patch(color='blue', label='t1>>t2')\n",
    "yellow_patch = mpatches.Patch(color='yellow', label = 'sites')\n",
    "\n",
    "plt.legend(handles=[blue_patch, red_patch, yellow_patch])\n",
    "\n",
    "plt.show()\n"
   ]
  },
  {
   "cell_type": "code",
   "execution_count": 12,
   "metadata": {
    "scrolled": false
   },
   "outputs": [],
   "source": [
    "\n",
    "########T1>>T2\n",
    "#f=0.1\n",
    "ev = []\n",
    "colors = iter(cm.plasma(np.linspace(0, 1, 50)))\n",
    "for aux in np.linspace(0,np.pi/2,50):\n",
    "    params_h1 = dict(t1=np.sin(aux), t2=np.cos(aux))\n",
    "    ham_h1 = finite_h.hamiltonian_submatrix(params = params_h1)\n",
    "    params_a1 = dict(v1=0.1)\n",
    "    ham_a1 = finite_a.hamiltonian_submatrix(params = params_a1)\n",
    "    hamiltonian1 = ham_h1 + 1j*ham_a1  \n",
    "    eigvals1, eigvecL1, eigvecR1 = eig(hamiltonian1, left=True, right=True)\n",
    "    order = np.argsort(eigvals1.real)                                        \n",
    "    #ev.append(eigvals1[order])\n",
    "\n",
    "    col = next(colors)\n",
    "    for e in eigvals1[order]:\n",
    "        plt.plot(e.real, e.imag, 'x', c=col)\n",
    "        plt.xlabel('Re(E)')\n",
    "        plt.ylabel('Im(E)')\n",
    "        #plt.title('d='+str(f))\n",
    "    plt.savefig(\"/Users/albertozorzato/Desktop/Plots/Spectrum\"+str(i)+\".png\")     \n",
    "    #f=round(f+0.1,1) this would be for incrementing v1\n",
    "    i=i+1\n",
    "    plt.close\n"
   ]
  },
  {
   "cell_type": "code",
   "execution_count": 9,
   "metadata": {},
   "outputs": [
    {
     "data": {
      "image/png": "[encoded data removed]",
      "text/plain": [
       "<Figure size 432x288 with 1 Axes>"
      ]
     },
     "metadata": {
      "needs_background": "light"
     },
     "output_type": "display_data"
    }
   ],
   "source": [
    "##########THIS IS FOR THE SETTING IN WHICH T2>>>>T1\n",
    "\n",
    "ev = []\n",
    "colors = iter(cm.plasma(np.linspace(0, 1, 50)))\n",
    "for aux in np.linspace(0,np.pi/2,10):\n",
    "    params_h2 = dict(t1=np.cos(aux), t2=np.sin(aux))\n",
    "    ham_h2 = finite_h.hamiltonian_submatrix(params = params_h2)\n",
    "    params_a1 = dict(v1=0.1)\n",
    "    ham_a2 = finite_a.hamiltonian_submatrix(params = params_a2)\n",
    "    hamiltonian2 = ham_h2 + 1j*ham_a2  \n",
    "    eigvals2, eigvecL2, eigvecR2 = eig(hamiltonian2, left=True, right=True)\n",
    "    order = np.argsort(eigvals2.real)                                        \n",
    "\n",
    "\n",
    "    col = next(colors)\n",
    "    for e in eigvals2[order]:\n",
    "        plt.plot(e.real, e.imag, '.', c = col)\n",
    "        plt.xlabel('Re(E)')\n",
    "        plt.ylabel('Im(E)')\n",
    "\n",
    "        "
   ]
  },
  {
   "cell_type": "code",
   "execution_count": 10,
   "metadata": {},
   "outputs": [
    {
     "name": "stdout",
     "output_type": "stream",
     "text": [
      "CPU times: user 13.5 s, sys: 465 ms, total: 14 s\n",
      "Wall time: 11.4 s\n"
     ]
    }
   ],
   "source": [
    "\n",
    "%%time\n",
    "#############THIS IS FOR PLOTTING SEQUENCES###################\n",
    "\n",
    "\n",
    "i=0\n",
    "for aux in np.linspace(0,np.pi/2,50):    \n",
    "    params_h1 = dict(t1=np.sin(aux), t2=np.cos(aux))\n",
    "    ham_h1 = finite_h.hamiltonian_submatrix(params = params_h1)\n",
    "    params_a1 = dict(v1=0.1)\n",
    "    ham_a1 = finite_a.hamiltonian_submatrix(params = params_a1)\n",
    "    hamiltonian1 = ham_h1 + 1j*ham_a1  \n",
    "    eigvals1, eigvecL1, eigvecR1 = eig(hamiltonian1, left=True, right=True)\n",
    "    order = np.argsort(eigvals1.real)    \n",
    "    \n",
    "    for e in eigvals1[order]:\n",
    "        fig = plt.plot(e.real, e.imag, 'x', c='red')\n",
    "        plt.title('0<=t1<=2, t2=1, d=0.1')\n",
    "        plt.xlabel('Re(E)')\n",
    "        plt.ylabel('Im(E)')\n",
    "        plt.ylim(-1,1) \n",
    "    plt.savefig(\"/Users/albertozorzato/Desktop/Plots/Porcodio\"+str(i)+\".png\") \n",
    "    i = i+1\n",
    "    plt.close()    \n",
    "    \n",
    "    \n",
    "    "
   ]
  },
  {
   "cell_type": "code",
   "execution_count": 11,
   "metadata": {},
   "outputs": [
    {
     "ename": "AttributeError",
     "evalue": "'iterator' object has no attribute 'LinearSegmentedColormap'",
     "output_type": "error",
     "traceback": [
      "\u001b[0;31m---------------------------------------------------------------------------\u001b[0m",
      "\u001b[0;31mAttributeError\u001b[0m                            Traceback (most recent call last)",
      "\u001b[0;32m<ipython-input-11-702b139774fa>\u001b[0m in \u001b[0;36m<module>\u001b[0;34m\u001b[0m\n\u001b[1;32m     49\u001b[0m \u001b[0;34m\u001b[0m\u001b[0m\n\u001b[1;32m     50\u001b[0m \u001b[0mcmap\u001b[0m\u001b[0;34m=\u001b[0m\u001b[0mplt\u001b[0m\u001b[0;34m.\u001b[0m\u001b[0mget_cmap\u001b[0m\u001b[0;34m(\u001b[0m\u001b[0;34m'hsv'\u001b[0m\u001b[0;34m)\u001b[0m\u001b[0;34m\u001b[0m\u001b[0;34m\u001b[0m\u001b[0m\n\u001b[0;32m---> 51\u001b[0;31m \u001b[0mnew_cmap\u001b[0m \u001b[0;34m=\u001b[0m \u001b[0mtruncate_colormap\u001b[0m\u001b[0;34m(\u001b[0m\u001b[0mcmap\u001b[0m\u001b[0;34m,\u001b[0m \u001b[0mminval\u001b[0m\u001b[0;34m=\u001b[0m\u001b[0mcolor_min\u001b[0m\u001b[0;34m,\u001b[0m \u001b[0mmaxval\u001b[0m\u001b[0;34m=\u001b[0m\u001b[0mcolor_max\u001b[0m\u001b[0;34m,\u001b[0m \u001b[0mn\u001b[0m\u001b[0;34m=\u001b[0m\u001b[0;36m100\u001b[0m\u001b[0;34m)\u001b[0m\u001b[0;34m\u001b[0m\u001b[0;34m\u001b[0m\u001b[0m\n\u001b[0m\u001b[1;32m     52\u001b[0m \u001b[0mnorm\u001b[0m \u001b[0;34m=\u001b[0m \u001b[0mmpl\u001b[0m\u001b[0;34m.\u001b[0m\u001b[0mcolors\u001b[0m\u001b[0;34m.\u001b[0m\u001b[0mNormalize\u001b[0m\u001b[0;34m(\u001b[0m\u001b[0mvmin\u001b[0m\u001b[0;34m=\u001b[0m\u001b[0mplot_list\u001b[0m\u001b[0;34m[\u001b[0m\u001b[0;36m0\u001b[0m\u001b[0;34m]\u001b[0m\u001b[0;34m,\u001b[0m \u001b[0mvmax\u001b[0m\u001b[0;34m=\u001b[0m\u001b[0mplot_list\u001b[0m\u001b[0;34m[\u001b[0m\u001b[0;34m-\u001b[0m\u001b[0;36m1\u001b[0m\u001b[0;34m]\u001b[0m\u001b[0;34m)\u001b[0m\u001b[0;34m\u001b[0m\u001b[0;34m\u001b[0m\u001b[0m\n\u001b[1;32m     53\u001b[0m \u001b[0;34m\u001b[0m\u001b[0m\n",
      "\u001b[0;32m<ipython-input-11-702b139774fa>\u001b[0m in \u001b[0;36mtruncate_colormap\u001b[0;34m(cmap, minval, maxval, n)\u001b[0m\n\u001b[1;32m     21\u001b[0m \u001b[0;34m\u001b[0m\u001b[0m\n\u001b[1;32m     22\u001b[0m \u001b[0;32mdef\u001b[0m \u001b[0mtruncate_colormap\u001b[0m\u001b[0;34m(\u001b[0m\u001b[0mcmap\u001b[0m\u001b[0;34m,\u001b[0m \u001b[0mminval\u001b[0m\u001b[0;34m=\u001b[0m\u001b[0;36m0.0\u001b[0m\u001b[0;34m,\u001b[0m \u001b[0mmaxval\u001b[0m\u001b[0;34m=\u001b[0m\u001b[0;36m1.0\u001b[0m\u001b[0;34m,\u001b[0m \u001b[0mn\u001b[0m\u001b[0;34m=\u001b[0m\u001b[0;36m100\u001b[0m\u001b[0;34m)\u001b[0m\u001b[0;34m:\u001b[0m\u001b[0;34m\u001b[0m\u001b[0;34m\u001b[0m\u001b[0m\n\u001b[0;32m---> 23\u001b[0;31m     new_cmap = colors.LinearSegmentedColormap.from_list(\n\u001b[0m\u001b[1;32m     24\u001b[0m         \u001b[0;34m'trunc({n},{a:.2f},{b:.2f})'\u001b[0m\u001b[0;34m.\u001b[0m\u001b[0mformat\u001b[0m\u001b[0;34m(\u001b[0m\u001b[0mn\u001b[0m\u001b[0;34m=\u001b[0m\u001b[0mcmap\u001b[0m\u001b[0;34m.\u001b[0m\u001b[0mname\u001b[0m\u001b[0;34m,\u001b[0m \u001b[0ma\u001b[0m\u001b[0;34m=\u001b[0m\u001b[0mminval\u001b[0m\u001b[0;34m,\u001b[0m \u001b[0mb\u001b[0m\u001b[0;34m=\u001b[0m\u001b[0mmaxval\u001b[0m\u001b[0;34m)\u001b[0m\u001b[0;34m,\u001b[0m\u001b[0;34m\u001b[0m\u001b[0;34m\u001b[0m\u001b[0m\n\u001b[1;32m     25\u001b[0m         cmap(np.linspace(minval, maxval, n)))\n",
      "\u001b[0;31mAttributeError\u001b[0m: 'iterator' object has no attribute 'LinearSegmentedColormap'"
     ]
    }
   ],
   "source": [
    "######PLOTTING TRICKS BY CHRISTOPH#######\n",
    "\n",
    "mpl.use('Qt5Agg')\n",
    "os.environ[\"PATH\"] += ':/usr/local/texlive/2015/bin/x86_64-darwin'\n",
    "plt.rc('text', usetex=True)\n",
    "plt.rc('font', family='serif')\n",
    "plt.tick_params(labelsize=20)\n",
    "\n",
    "\n",
    "SMALL_SIZE = 16\n",
    "\n",
    "plt.rc('font', size=SMALL_SIZE)          # controls default text sizes\n",
    "plt.rc('axes', titlesize=SMALL_SIZE)     # fontsize of the axes title\n",
    "plt.rc('axes', labelsize=SMALL_SIZE)    # fontsize of the x and y labels\n",
    "plt.rc('xtick', labelsize=SMALL_SIZE)    # fontsize of the tick labels\n",
    "plt.rc('ytick', labelsize=SMALL_SIZE)    # fontsize of the tick labels\n",
    "plt.rc('legend', fontsize=SMALL_SIZE)    # legend fontsize\n",
    "plt.rc('figure', titlesize=SMALL_SIZE)\n",
    "\n",
    "\n",
    "\n",
    "def truncate_colormap(cmap, minval=0.0, maxval=1.0, n=100):\n",
    "    new_cmap = colors.LinearSegmentedColormap.from_list(\n",
    "        'trunc({n},{a:.2f},{b:.2f})'.format(n=cmap.name, a=minval, b=maxval),\n",
    "        cmap(np.linspace(minval, maxval, n)))\n",
    "    return new_cmap\n",
    "\n",
    "def color(r):\n",
    "\treturn plt.cm.hsv(r)\n",
    "\n",
    "plot_list = np.arange(0.0,0.7,0.05)\n",
    "\n",
    "fig= plt.figure()\n",
    "gs = GridSpec(1, 2, figure=fig,wspace=0.05,width_ratios=[16, 1])\n",
    "fig.set_figheight(5)\n",
    "fig.set_figwidth(6.3)\n",
    "\n",
    "color_min=0.7\n",
    "color_max=1.0\n",
    "\n",
    "r_l=np.linspace(color_min,color_max,num=len(plot_list))\n",
    "\n",
    "ax1 = fig.add_subplot(gs[0])\n",
    "ax1_2=fig.add_subplot(gs[1])\n",
    "\n",
    "\n",
    "cmap=plt.get_cmap('hsv')\n",
    "new_cmap = truncate_colormap(cmap, minval=color_min, maxval=color_max, n=100)\n",
    "norm = mpl.colors.Normalize(vmin=plot_list[0], vmax=plot_list[-1])\n",
    "\n",
    "cb1 = mpl.colorbar.ColorbarBase(ax1_2, cmap=new_cmap,norm=norm,orientation='vertical')\n",
    "cb1.set_label('$ t_1 $',rotation=0,fontsize=16,labelpad=-5,y=1.0)\n",
    "\n",
    "for aux in np.linspace(0,np.pi/2,50):    \n",
    "    params_h1 = dict(t1=np.sin(aux), t2=np.cos(aux))\n",
    "    ham_h1 = finite_h.hamiltonian_submatrix(params = params_h1)\n",
    "    params_a1 = dict(v1=0.1)\n",
    "    ham_a1 = finite_a.hamiltonian_submatrix(params = params_a1)\n",
    "    hamiltonian1 = ham_h1 + 1j*ham_a1  \n",
    "    eigs, eigvecL1, eigvecR1 = eig(hamiltonian1, left=True, right=True)\n",
    "    order = np.argsort(eigs.real)  \n",
    "    for e in eigs[order]:\n",
    "        ax1.plot(eigs.real,eigs.imag,'.',color=color(r_l[j]))\n",
    "    \n",
    "    ax1.set_xlabel('$ \\\\mathrm{Re}(E) $')\n",
    "    ax1.set_ylabel('$ \\\\mathrm{Im}(E) $')\n",
    "        \n",
    "plt.show()\n",
    "\n"
   ]
  },
  {
   "cell_type": "code",
   "execution_count": null,
   "metadata": {},
   "outputs": [],
   "source": []
  }
 ],
 "metadata": {
  "kernelspec": {
   "display_name": "Python 3 (ipykernel)",
   "language": "python",
   "name": "python3"
  },
  "language_info": {
   "codemirror_mode": {
    "name": "ipython",
    "version": 3
   },
   "file_extension": ".py",
   "mimetype": "text/x-python",
   "name": "python",
   "nbconvert_exporter": "python",
   "pygments_lexer": "ipython3",
   "version": "3.10.9"
  }
 },
 "nbformat": 4,
 "nbformat_minor": 2
}
