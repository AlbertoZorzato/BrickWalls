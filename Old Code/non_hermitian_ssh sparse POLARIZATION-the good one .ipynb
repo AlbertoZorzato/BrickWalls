{
 "cells": [
  {
   "cell_type": "code",
   "execution_count": 2,
   "metadata": {},
   "outputs": [],
   "source": [
    "import numpy as np\n",
    "from scipy.linalg import eig\n",
    "import matplotlib.pyplot as plt\n",
    "import scipy.sparse.linalg as sla\n",
    "import scipy\n",
    "import scipy.sparse.linalg as sla\n",
    "from scipy.sparse import identity\n",
    "import kwant.linalg.mumps as mumps\n",
    "\n",
    "def H(size,t1,t2,d,D,y,PBC=False,broken_cell = False):\n",
    "\n",
    "    #this way of noise is not good because of course we're pasting the same random value every time at beginning\n",
    "\n",
    "    U = np.array([[0,t1+d],[t1-d,0]])\n",
    "    sigmax = np.array([[0,1],[1,0]])\n",
    "    Tm = np.array([[0,0],[t2,0]])\n",
    "\n",
    "    diagonal = np.eye(size)\n",
    "    off_diagonal_p = np.eye(size, k = 1)\n",
    "    off_diagonal_m = np.eye(size, k = -1)\n",
    "    hamiltonian = np.kron(diagonal, U)+ np.kron(off_diagonal_m, Tm.conj().T) + np.kron(off_diagonal_p,Tm) \n",
    "    \n",
    "    disorder = np.kron(np.diag(np.random.normal(0,y,(size,))),sigmax)\n",
    "    \n",
    "    #hamiltonian+=disorder        THIS TRIGGERS DISORDERING IN ALL HOPPINGS \n",
    "    \n",
    "    \n",
    "    if PBC==True:\n",
    "        if broken_cell == True:\n",
    "            print('broken_cell == True requires open system here')\n",
    "            exit()\n",
    "        boundary_p = np.eye(size, k = size-1)\n",
    "        boundary_m = np.eye(size, k = -(size-1))\n",
    "        boundary_terms = np.kron(boundary_p,Tm.conj().T)+ np.kron(boundary_m,Tm)\n",
    "        hamiltonian = hamiltonian + boundary_terms\n",
    "    elif broken_cell == True:\n",
    "        hop_vec = np.zeros(2*size)\n",
    "        hop_vec[-1] = np.conj(t2)\n",
    "        hamiltonian = np.append(hamiltonian,[hop_vec],axis=0)\n",
    "        hop_vec_T = np.zeros(2*size+1)\n",
    "        hop_vec_T[-2]= t2\n",
    "        hamiltonian = np.append(hamiltonian,np.array([hop_vec_T]).T,axis=1)\n",
    "    return hamiltonian"
   ]
  },
  {
   "cell_type": "code",
   "execution_count": 4,
   "metadata": {
    "scrolled": true
   },
   "outputs": [
    {
     "data": {
      "image/png": "[encoded data removed]",
      "text/plain": [
       "<Figure size 432x288 with 1 Axes>"
      ]
     },
     "metadata": {
      "needs_background": "light"
     },
     "output_type": "display_data"
    }
   ],
   "source": [
    "#plot spectrum of the chain\n",
    "for k in np.arange(0,2,0.1):\n",
    "\th = H(50,1,k,0,0,0,PBC=True,broken_cell=False)\n",
    "\n",
    "\teigs, eigvec = np.linalg.eig(h)\n",
    "\t#if k==0:\n",
    "\t#\tprint(eigvec[:,50])\n",
    "\n",
    "\tplt.scatter(np.ones(eigs.shape)*k,eigs)\n",
    "plt.show()"
   ]
  },
  {
   "cell_type": "code",
   "execution_count": 3,
   "metadata": {},
   "outputs": [],
   "source": [
    "# get left and right eigenvectors in the non-Hermitian case\n",
    "\n",
    "t1=1.0\n",
    "t2=1.5\n",
    "d=0.1\n",
    "D=0.1\n",
    "size=100\n",
    "y=0.5\n",
    "\n",
    "hamiltonian = H(size,t1,t2,d,D,y,PBC=True)\n",
    "\n",
    "eigvals, eigvecL, eigvecR = eig(hamiltonian,left=True,right=True)\n",
    "\n",
    "norm = np.diag(eigvecL.conj().T @ eigvecR ) \n",
    "eigvecR = eigvecR/norm\n"
   ]
  },
  {
   "cell_type": "code",
   "execution_count": 4,
   "metadata": {},
   "outputs": [
    {
     "name": "stdout",
     "output_type": "stream",
     "text": [
      "(201, 201)\n",
      "[[  0.+0.j   0.+0.j   0.+0.j ...   0.+0.j   0.+0.j   0.+0.j]\n",
      " [  0.+0.j   0.+0.j   0.+0.j ...   0.+0.j   0.+0.j   0.+0.j]\n",
      " [  0.+0.j   0.+0.j   1.+0.j ...   0.+0.j   0.+0.j   0.+0.j]\n",
      " ...\n",
      " [  0.+0.j   0.+0.j   0.+0.j ...  99.+0.j   0.+0.j   0.+0.j]\n",
      " [  0.+0.j   0.+0.j   0.+0.j ...   0.+0.j  99.+0.j   0.+0.j]\n",
      " [  0.+0.j   0.+0.j   0.+0.j ...   0.+0.j   0.+0.j 100.+0.j]]\n"
     ]
    }
   ],
   "source": [
    "#position operator \n",
    "x = np.arange(0,size,1)\n",
    "position_op = np.array(np.kron( np.diag(x) , np.eye(2)), dtype=complex)\n",
    "\n",
    "# for broken cell\n",
    "add_vec = np.zeros((len(position_op)+1,1))\n",
    "add_vec[-1] = (size) \n",
    "position_op = np.append(np.append(position_op,np.zeros((1,len(position_op))), axis=0), add_vec,axis=1)\n",
    "print(position_op.shape)\n",
    "print(position_op)"
   ]
  },
  {
   "cell_type": "code",
   "execution_count": 5,
   "metadata": {},
   "outputs": [],
   "source": [
    "\n",
    "\n",
    "\n",
    "def sparse_diag(matrix, k, sigma, **kwargs):\n",
    "    \n",
    "    class LuInv(sla.LinearOperator):\n",
    "        def __init__(self, A):\n",
    "            inst = mumps.MUMPSContext()\n",
    "            inst.analyze(A, ordering='pord')\n",
    "            inst.factor(A)\n",
    "            self.solve = inst.solve\n",
    "            sla.LinearOperator.__init__(self, A.dtype, A.shape)\n",
    "\n",
    "        def _matvec(self, x):\n",
    "            return self.solve(x.astype(self.dtype))\n",
    "\n",
    "    opinv = LuInv(matrix - sigma * identity(matrix.shape[0]))\n",
    "    return sla.eigs(matrix, k, sigma=sigma, OPinv=opinv, **kwargs)"
   ]
  },
  {
   "cell_type": "code",
   "execution_count": 7,
   "metadata": {},
   "outputs": [
    {
     "name": "stdout",
     "output_type": "stream",
     "text": [
      "CPU times: user 7.52 s, sys: 247 ms, total: 7.77 s\n",
      "Wall time: 3.93 s\n"
     ]
    },
    {
     "name": "stderr",
     "output_type": "stream",
     "text": [
      "/Users/albertozorzato/anaconda3/lib/python3.7/site-packages/numpy/core/_asarray.py:85: ComplexWarning: Casting complex values to real discards the imaginary part\n",
      "  return array(a, dtype, copy=False, order=order)\n"
     ]
    },
    {
     "data": {
      "text/plain": [
       "<function matplotlib.pyplot.show(*args, **kw)>"
      ]
     },
     "execution_count": 7,
     "metadata": {},
     "output_type": "execute_result"
    },
    {
     "data": {
      "image/png": "[encoded data removed]",
      "text/plain": [
       "<Figure size 432x288 with 1 Axes>"
      ]
     },
     "metadata": {
      "needs_background": "light"
     },
     "output_type": "display_data"
    }
   ],
   "source": [
    "%%time\n",
    "#polarization as function of t1\n",
    "t2_range = np.arange(0,2,0.01)\n",
    "exp_pos = np.zeros(len(t2_range), dtype=complex)\n",
    "\n",
    "\n",
    "\n",
    "\n",
    "\n",
    "for tind,t2 in enumerate(t2_range):\n",
    "    hamiltonian = scipy.sparse.csr_matrix(H(size,t1,t2,d,D,y,PBC=False,broken_cell=True), dtype=complex)\n",
    "    v0 = np.zeros((2*size + 1,), dtype=complex)\n",
    "    v0[2*size] = 1\n",
    "\n",
    "    eigvals, eigvecR = sparse_diag(hamiltonian, k=1, sigma=1e-3, v0=v0)\n",
    "#     print(eigvals, eigvecR)\n",
    "    eigvals, eigvecL = sparse_diag(hamiltonian.T.conj(), k=1, sigma=1e-3, v0=v0)\n",
    "#     print(eigvals, eigvecL)\n",
    "    #note: eigvals are sorted in a strange way. uncomment the next line to so whats going on\n",
    "    #print(eigvals)\n",
    "\n",
    "    norm = np.diag(eigvecL.conj().T @ eigvecR )\n",
    "#     print('norm = ', norm)\n",
    "    eigvecR = eigvecR/norm\n",
    "    \n",
    "\n",
    "    ind = 0\n",
    "#     print(ind)\n",
    "#     print(eigvals, eigvecL.shape, eigvecR.shape)\n",
    "    exp_pos[tind] = eigvecL[:,ind].conj() @ position_op @ eigvecR[:,ind]\n",
    "    \n",
    "plt.rcParams[\"font.family\"] = \"serif\"\n",
    "plt.plot(t2_range, exp_pos/size,'x', c = 'g')\n",
    "#plt.title('Finite chain (L='+str(size)+') Bergholtz Polarization ('+r'$i*\\sigma_z$'+')')\n",
    "plt.title('Finite chain (L='+str(size)+') Bergholtz Polarization')\n",
    "plt.ylabel('P')\n",
    "plt.xlabel('|t1/t2|')\n",
    "plt.ylim([-0.1,1.2])\n",
    "plt.show\n",
    "#plt.savefig(\"/Users/albertozorzato/Desktop/plt/Finite chain, N=\"+str(size)+\" sin(k).png\", dpi = 300)\n",
    "#plt.close"
   ]
  },
  {
   "cell_type": "code",
   "execution_count": null,
   "metadata": {},
   "outputs": [],
   "source": []
  }
 ],
 "metadata": {
  "kernelspec": {
   "display_name": "Python 3 (ipykernel)",
   "language": "python",
   "name": "python3"
  },
  "language_info": {
   "codemirror_mode": {
    "name": "ipython",
    "version": 3
   },
   "file_extension": ".py",
   "mimetype": "text/x-python",
   "name": "python",
   "nbconvert_exporter": "python",
   "pygments_lexer": "ipython3",
   "version": "3.10.9"
  }
 },
 "nbformat": 4,
 "nbformat_minor": 4
}
