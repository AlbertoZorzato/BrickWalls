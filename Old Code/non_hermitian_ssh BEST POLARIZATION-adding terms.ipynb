{
 "cells": [
  {
   "cell_type": "code",
   "execution_count": 11,
   "metadata": {},
   "outputs": [],
   "source": [
    "import numpy as np\n",
    "from scipy.linalg import eig\n",
    "import matplotlib.pyplot as plt\n",
    "import scipy.sparse.linalg as sla\n",
    "import scipy\n",
    "\n",
    "def H(size,t1,t2,d,D,PBC=False,broken_cell = False):\n",
    "\n",
    "\n",
    "\tU = np.array([[0,t1+d+1j*D],[t1-d+1j*D,0]])\n",
    "\tTm = np.array([[0,0],[t2,0]])\n",
    "\n",
    "\tdiagonal = np.eye(size)\n",
    "\toff_diagonal_p = np.eye(size, k = 1)\n",
    "\toff_diagonal_m = np.eye(size, k = -1)\n",
    "\n",
    "\thamiltonian = np.kron(diagonal, U)+ np.kron(off_diagonal_m, Tm.conj().T) + np.kron(off_diagonal_p,Tm) \n",
    "\n",
    "\n",
    "\tif PBC==True:\n",
    "\t\tif broken_cell == True:\n",
    "\t\t\tprint('broken_cell == True requires open system here')\n",
    "\t\t\texit()\n",
    "\t\tboundary_p = np.eye(size, k = size-1)\n",
    "\t\tboundary_m = np.eye(size, k = -(size-1))\n",
    "\n",
    "\t\tboundary_terms = np.kron(boundary_p,Tm.conj().T)+ np.kron(boundary_m,Tm)\n",
    "\n",
    "\t\thamiltonian = hamiltonian + boundary_terms\n",
    "\n",
    "\telif broken_cell == True:\n",
    "\t\thop_vec = np.zeros(2*size)\n",
    "\t\thop_vec[-1] = np.conj(t2)\n",
    "\t\thamiltonian = np.append(hamiltonian,[hop_vec],axis=0)\n",
    "\n",
    "\t\thop_vec_T = np.zeros(2*size+1)\n",
    "\t\thop_vec_T[-2]= t2\n",
    "\t\thamiltonian = np.append(hamiltonian,np.array([hop_vec_T]).T,axis=1)\n",
    "\n",
    "\treturn hamiltonian"
   ]
  },
  {
   "cell_type": "code",
   "execution_count": 12,
   "metadata": {},
   "outputs": [
    {
     "name": "stdout",
     "output_type": "stream",
     "text": [
      "[0.        +0.j 0.        +0.j 0.        +0.j 0.        +0.j\n",
      " 0.        +0.j 0.        +0.j 0.        +0.j 0.        +0.j\n",
      " 0.        +0.j 0.        +0.j 0.        +0.j 0.        +0.j\n",
      " 0.        +0.j 0.        +0.j 0.        +0.j 0.        +0.j\n",
      " 0.        +0.j 0.        +0.j 0.        +0.j 0.        +0.j\n",
      " 0.        +0.j 0.        +0.j 0.        +0.j 0.        +0.j\n",
      " 0.70710678+0.j 0.70710678+0.j 0.        +0.j 0.        +0.j\n",
      " 0.        +0.j 0.        +0.j 0.        +0.j 0.        +0.j\n",
      " 0.        +0.j 0.        +0.j 0.        +0.j 0.        +0.j\n",
      " 0.        +0.j 0.        +0.j 0.        +0.j 0.        +0.j\n",
      " 0.        +0.j 0.        +0.j 0.        +0.j 0.        +0.j\n",
      " 0.        +0.j 0.        +0.j 0.        +0.j 0.        +0.j\n",
      " 0.        +0.j 0.        +0.j 0.        +0.j 0.        +0.j\n",
      " 0.        +0.j 0.        +0.j 0.        +0.j 0.        +0.j\n",
      " 0.        +0.j 0.        +0.j 0.        +0.j 0.        +0.j\n",
      " 0.        +0.j 0.        +0.j 0.        +0.j 0.        +0.j\n",
      " 0.        +0.j 0.        +0.j 0.        +0.j 0.        +0.j\n",
      " 0.        +0.j 0.        +0.j 0.        +0.j 0.        +0.j\n",
      " 0.        +0.j 0.        +0.j 0.        +0.j 0.        +0.j\n",
      " 0.        +0.j 0.        +0.j 0.        +0.j 0.        +0.j\n",
      " 0.        +0.j 0.        +0.j 0.        +0.j 0.        +0.j\n",
      " 0.        +0.j 0.        +0.j 0.        +0.j 0.        +0.j\n",
      " 0.        +0.j 0.        +0.j 0.        +0.j 0.        +0.j\n",
      " 0.        +0.j 0.        +0.j 0.        +0.j 0.        +0.j\n",
      " 0.        +0.j 0.        +0.j 0.        +0.j 0.        +0.j]\n"
     ]
    },
    {
     "data": {
      "image/png": "[encoded data removed]",
      "text/plain": [
       "<Figure size 432x288 with 1 Axes>"
      ]
     },
     "metadata": {
      "needs_background": "light"
     },
     "output_type": "display_data"
    }
   ],
   "source": [
    "#plot spectrum of the chain\n",
    "for k in np.arange(0,2,0.1):\n",
    "\th = H(50,1,k,0,0,broken_cell=False)\n",
    "\n",
    "\teigs, eigvec = np.linalg.eigh(h)\n",
    "\tif k==0:\n",
    "\t\tprint(eigvec[:,50])\n",
    "\n",
    "\tplt.scatter(np.ones(eigs.shape)*k,eigs)\n",
    "plt.show()"
   ]
  },
  {
   "cell_type": "code",
   "execution_count": 13,
   "metadata": {},
   "outputs": [],
   "source": [
    "# get left and right eigenvectors in the non-Hermitian case\n",
    "\n",
    "t1=1.0\n",
    "t2=1.5\n",
    "d=0.3\n",
    "D=0.1\n",
    "size=200\n",
    "\n",
    "hamiltonian = H(size,t1,t2,d,D,PBC=True)\n",
    "\n",
    "eigvals, eigvecL, eigvecR = eig(hamiltonian,left=True,right=True)\n",
    "\n",
    "norm = np.diag(eigvecL.conj().T @ eigvecR ) \n",
    "eigvecR = eigvecR/norm\n"
   ]
  },
  {
   "cell_type": "code",
   "execution_count": 14,
   "metadata": {},
   "outputs": [
    {
     "name": "stdout",
     "output_type": "stream",
     "text": [
      "(401, 401)\n",
      "[[  0.+0.j   0.+0.j   0.+0.j ...   0.+0.j   0.+0.j   0.+0.j]\n",
      " [  0.+0.j   0.+0.j   0.+0.j ...   0.+0.j   0.+0.j   0.+0.j]\n",
      " [  0.+0.j   0.+0.j   1.+0.j ...   0.+0.j   0.+0.j   0.+0.j]\n",
      " ...\n",
      " [  0.+0.j   0.+0.j   0.+0.j ... 199.+0.j   0.+0.j   0.+0.j]\n",
      " [  0.+0.j   0.+0.j   0.+0.j ...   0.+0.j 199.+0.j   0.+0.j]\n",
      " [  0.+0.j   0.+0.j   0.+0.j ...   0.+0.j   0.+0.j 200.+0.j]]\n"
     ]
    }
   ],
   "source": [
    "#position operator \n",
    "x = np.arange(0,size,1)\n",
    "position_op = np.array(np.kron( np.diag(x) , np.eye(2)), dtype=complex)\n",
    "\n",
    "# for broken cell\n",
    "add_vec = np.zeros((len(position_op)+1,1))\n",
    "add_vec[-1] = (size) \n",
    "position_op = np.append(np.append(position_op,np.zeros((1,len(position_op))), axis=0), add_vec,axis=1)\n",
    "print(position_op.shape)\n",
    "print(position_op)"
   ]
  },
  {
   "cell_type": "code",
   "execution_count": 15,
   "metadata": {},
   "outputs": [
    {
     "data": {
      "text/plain": [
       "(-0.2, 1.2)"
      ]
     },
     "execution_count": 15,
     "metadata": {},
     "output_type": "execute_result"
    },
    {
     "data": {
      "image/png": "[encoded data removed]",
      "text/plain": [
       "<Figure size 432x288 with 1 Axes>"
      ]
     },
     "metadata": {
      "needs_background": "light"
     },
     "output_type": "display_data"
    }
   ],
   "source": [
    "#polarization as function of t1\n",
    "t_range = np.arange(0,2,0.01)\n",
    "exp_pos = np.zeros(len(t_range), dtype=complex)\n",
    "\n",
    "\n",
    "\n",
    "\n",
    "\n",
    "for tind,t in enumerate(t_range):\n",
    "    hamiltonian = scipy.sparse.csr_matrix(H(size,t1,t,d,D,PBC=False,broken_cell=True), dtype=complex)\n",
    "    v0 = np.zeros((2*size + 1,), dtype=complex)\n",
    "    v0[2*size] = 1\n",
    "\n",
    "    eigvals, eigvecR = sla.eigs(hamiltonian, k=1, sigma=1e-3, v0=v0)\n",
    "#     print(eigvals, eigvecR)\n",
    "    eigvals, eigvecL = sla.eigs(hamiltonian.T.conj(), k=1, sigma=1e-3, v0=v0)\n",
    "#     print(eigvals, eigvecL)\n",
    "    #note: eigvals are sorted in a strange way. uncomment the next line to so whats going on\n",
    "    #print(eigvals)\n",
    "\n",
    "    norm = np.diag(eigvecL.conj().T @ eigvecR )\n",
    "#     print('norm = ', norm)\n",
    "    eigvecR = eigvecR/norm\n",
    "    \n",
    "\n",
    "    ind = 0\n",
    "#     print(ind)\n",
    "#     print(eigvals, eigvecL.shape, eigvecR.shape)\n",
    "    exp_pos[tind] = eigvecL[:,ind].conj() @ position_op @ eigvecR[:,ind]\n",
    "\n",
    "plt.plot(t_range, exp_pos/size,'x', c = 'r')\n",
    "plt.title('Finite chain (L=200) Polarization, D = '+str(D))\n",
    "plt.ylabel('P')\n",
    "plt.xlabel('t1/t2')\n",
    "plt.ylim([-0.2,1.2])\n"
   ]
  },
  {
   "cell_type": "code",
   "execution_count": null,
   "metadata": {},
   "outputs": [],
   "source": []
  },
  {
   "cell_type": "code",
   "execution_count": null,
   "metadata": {},
   "outputs": [],
   "source": []
  }
 ],
 "metadata": {
  "kernelspec": {
   "display_name": "Python 3 (ipykernel)",
   "language": "python",
   "name": "python3"
  },
  "language_info": {
   "codemirror_mode": {
    "name": "ipython",
    "version": 3
   },
   "file_extension": ".py",
   "mimetype": "text/x-python",
   "name": "python",
   "nbconvert_exporter": "python",
   "pygments_lexer": "ipython3",
   "version": "3.9.7"
  }
 },
 "nbformat": 4,
 "nbformat_minor": 4
}
