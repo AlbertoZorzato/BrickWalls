{
 "cells": [
  {
   "cell_type": "code",
   "execution_count": 14,
   "metadata": {},
   "outputs": [],
   "source": [
    "%matplotlib inline \n",
    "import numpy as np \n",
    "import matplotlib.pyplot as plt \n",
    "import matplotlib.patches as mpatches\n",
    "from scipy.linalg import eig\n",
    "import qsymm"
   ]
  },
  {
   "cell_type": "code",
   "execution_count": 15,
   "metadata": {},
   "outputs": [],
   "source": [
    "def eig_biort(h):\n",
    "    eigvals, eigvecL, eigvecR = eig(h, left=True, right=True)\n",
    "\n",
    "    norm = eigvecL.conj().T @ eigvecR\n",
    "    eigvecR = eigvecR @ np.linalg.inv(norm)\n",
    "    assert np.allclose(eigvecL.conj().T @ eigvecR, np.eye(h.shape[0]), atol=1e-5), (np.round(eigvecL.conj().T @ eigvecR, 2), np.round(eigvals))\n",
    "    assert np.allclose(h @ eigvecR, eigvals * eigvecR, atol=1e-5)\n",
    "    assert np.allclose(h.T.conj() @ eigvecL, eigvals.conj() * eigvecL, atol=1e-5)\n",
    "    return eigvals, eigvecL, eigvecR"
   ]
  },
  {
   "cell_type": "code",
   "execution_count": 16,
   "metadata": {},
   "outputs": [],
   "source": [
    "def wils(t1, t2, d, ky, Nk=100, EF=0, flux=1,T=0,P=0,C=0):\n",
    "    \n",
    "    R = []\n",
    "    \n",
    "    gap = np.inf\n",
    "    \n",
    "    for kx in np.linspace(-np.pi,np.pi, Nk): \n",
    "\n",
    "        h0 = np.array([[0, t1+d, 0, t1-d],[t1-d, 0, flux * (t1+d), 0],[0, flux * (t1-d), 0, t1+d],[t1+d, 0, t1-d, 0]])\n",
    "        h1x = np.exp(1j*kx)*np.array([[0.5*(T-P),0,0,C*(-0.5-0.5*1j)],[t2,0.5*(T-P),C*(-0.5-0.5*1j),0],[0,C*(0.5+0.5*1j),0.5*(T-P),t2],[C*(0.5+0.5*1j),0,0,0.5*(T-P)]])\n",
    "        h2x = np.exp(-1j*kx)*np.array([[0.5*(T+P),t2,0,C*(0.5-0.5*1j)],[0,0.5*(T+P),C*(-0.5-0.5*1j),0],[0,C*(-0.5+0.5*1j),0.5*(T+P),0],[C*(-0.5+0.5*1j),0,t2,0.5*(T+P)]])\n",
    "        h1y = np.exp(1j*ky)*np.array([[0.5*(T-P),0,0,t2+C*(-0.5-0.5*1j)],[0,0.5*(T-P),flux *t2+C*(-0.5-0.5*1j),0],[0,C*(0.5+0.5*1j),0.5*(T-P),0],[C*(0.5+0.5*1j),0,0,0.5*(T-P)]])\n",
    "        h2y = np.exp(-1j*ky)*np.array([[0.5*(T+P),0,0,C*(0.5-0.5*1j)],[0,0.5*(T+P),C*(-0.5-0.5*1j),0],[0,flux*t2+C*(-0.5+0.5*1j),0.5*(T+P),0],[t2+C*(-0.5+0.5*1j),0,0,0.5*(T+P)]])\n",
    "        \n",
    "        h = h0 + h1x + h2x + h1y + h2y \n",
    "\n",
    "        evals, evecsL, evecsR = eig_biort(h) \n",
    "        temp = (evecsR) @ np.diag(evals.real < EF) @ evecsL.conj().T  #projection onto occupied subspace\n",
    "        \n",
    "        R.append(temp)\n",
    "        \n",
    "        \n",
    "\n",
    "    w = np.eye(4)\n",
    "    for p in R:\n",
    "        w = p @ w\n",
    "\n",
    "    u, s, vh = np.linalg.svd(w)\n",
    "    w = (u * np.round(s, 1)) @ vh\n",
    "\n",
    "\n",
    "    return w\n"
   ]
  },
  {
   "cell_type": "code",
   "execution_count": 17,
   "metadata": {},
   "outputs": [
    {
     "name": "stdout",
     "output_type": "stream",
     "text": [
      "[9.98548311e-01 1.05147804e-16 9.98548311e-01 3.81515622e-17] [-0.10815689 -0.08620053  0.10815689  0.31534253]\n",
      "[[ 0.388-0.275j  0.176+0.j    -0.102+0.11j  -0.439-0.002j]\n",
      " [ 0.196+0.j     0.388+0.275j  0.039+0.488j -0.102+0.11j ]\n",
      " [ 0.102+0.11j   0.439-0.002j  0.388+0.275j  0.176-0.j   ]\n",
      " [-0.039+0.488j  0.102+0.11j   0.196-0.j     0.388-0.275j]]\n",
      "[[-0.489-0.453j  0.688+0.j     0.17 -0.j    -0.142-0.157j]\n",
      " [-0.131-0.122j -0.347-0.j     0.703+0.j     0.673+0.j   ]\n",
      " [ 0.17 +0.j    -0.   +0.j     0.489-0.453j -0.418+0.504j]\n",
      " [ 0.703+0.j     0.467-0.433j  0.131-0.122j  0.016-0.272j]]\n"
     ]
    }
   ],
   "source": [
    "w0 = wils(0.5,1.5,0.1, 1000, flux=-1, EF=0,T=0,P=0,C=0)\n",
    "\n",
    "eigvals, eigvec = eig(w0)\n",
    "\n",
    "print(np.abs(eigvals), np.angle(eigvals) / (2*np.pi))\n",
    "print(np.round(w0, 3))\n",
    "print(np.round(eigvec, 3))"
   ]
  },
  {
   "cell_type": "code",
   "execution_count": 18,
   "metadata": {},
   "outputs": [],
   "source": [
    "def nest_wils(t1, t2, d, Nk1, Nk2, EF=0,WEF=0, flux=-1,T=0,P=0,C=0):\n",
    "    \n",
    "    J = []\n",
    "    K = []\n",
    "    for ky in np.linspace(-np.pi,np.pi, Nk2): \n",
    "        \n",
    "        w0 = wils(t1, t2, d, ky, Nk=Nk1, EF=EF, flux=flux, T=T, P=P, C=C)\n",
    "        \n",
    "        evals_w, evecsL_w, evecsR_w = eig_biort(w0) \n",
    "        #temp = (evecsR_w) @ np.diag(np.angle(evals_w) < WEF) @ evecsL_w.conj().T \n",
    "    \n",
    "        evecsL_w, _ = np.linalg.qr(evecsL_w)\n",
    "        evecsR_w, _ = np.linalg.qr(evecsR_w)\n",
    "        \n",
    "        assert np.allclose(evecsL_w @ evecsL_w.T.conj(), np.eye(4))\n",
    "        assert np.allclose(evecsR_w @ evecsR_w.T.conj(), np.eye(4))\n",
    "        \n",
    "        temp = (evecsL_w) @ np.diag(np.angle(evals_w) < WEF) @ np.diag(np.abs(evals_w) > 0.99) @ evecsL_w.conj().T \n",
    "#         print(temp)\n",
    "#         assert np.sum(np.angle(evals_w) < WEF) == 1\n",
    "        J.append(evals_w)\n",
    "        K.append(temp)\n",
    "        #print(temp.shape)\n",
    "        \n",
    "    w1 = np.eye(4)\n",
    "    for k in K:\n",
    "        assert np.allclose(k @ k, k)\n",
    "        w1 = k @ w1\n",
    "#         print(max(np.abs(eig(k)[0])), max(np.abs(eig(w1)[0])))\n",
    "        \n",
    "    evals_k, evecsL_k, evecsR_k = eig_biort(K[0])\n",
    "    evecsL_k, _ = np.linalg.qr(evecsL_k)\n",
    "    evecsR_k, _ = np.linalg.qr(evecsR_k)\n",
    "    \n",
    "    assert np.allclose(evecsL_k @ evecsL_k.T.conj(), np.eye(4))\n",
    "    assert np.allclose(evecsR_k @ evecsR_k.T.conj(), np.eye(4))\n",
    "    \n",
    "    ind = np.where(np.angle(evals_k) < WEF)[0] #\n",
    "    w2 = evecsR_k[:, ind].conj().T @ w1 @ evecsL_k[:, ind]    \n",
    "    return np.asarray(J), w2"
   ]
  },
  {
   "cell_type": "code",
   "execution_count": 19,
   "metadata": {},
   "outputs": [],
   "source": [
    "J, w2 = nest_wils(0.5,1.5,0.1,Nk1=100, Nk2=200, EF=0, WEF=0, flux=-1,T=0,P=0, C=0)"
   ]
  },
  {
   "cell_type": "code",
   "execution_count": 27,
   "metadata": {},
   "outputs": [
    {
     "name": "stdout",
     "output_type": "stream",
     "text": [
      "[[-9.70164008e-01+8.24023730e-02j  5.01850081e-17+3.06016063e-17j\n",
      "   3.55916468e-16-1.44144679e-16j]\n",
      " [-7.22328871e-16-2.49037971e-16j  1.93629026e-17-2.01263176e-18j\n",
      "  -8.18572584e-18-6.65521717e-18j]\n",
      " [ 3.71687246e-16+1.74914814e-16j  5.74749415e-18+2.73652048e-18j\n",
      "   1.54039719e-18-1.98176238e-18j]]\n"
     ]
    },
    {
     "data": {
      "image/png": "[encoded data removed]",
      "text/plain": [
       "<Figure size 432x288 with 1 Axes>"
      ]
     },
     "metadata": {
      "needs_background": "light"
     },
     "output_type": "display_data"
    }
   ],
   "source": [
    "print(w2)\n",
    "plt.rcParams[\"font.family\"] = \"serif\"\n",
    "plt.plot(np.linspace(-np.pi,np.pi, 200), (np.angle(np.reshape(J[np.abs(J) > 0.9], (J.shape[0], -1)))/(2*np.pi)),'.', c='forestgreen')\n",
    "#plt.title(\"Wannier bands - \"+r'$\\mathcal{W}_{x,\\bf{k}}$')\n",
    "plt.xlabel(r'$k_y$')\n",
    "plt.ylabel(r'$2\\pi \\nu^{\\pm}_x(k_y)$')\n",
    "#plt.ylim(-0.59,0.59)\n",
    "plt.xlim(-np.pi,np.pi)\n",
    "plt.savefig(\"/Users/albertozorzato/Desktop/Wannier bands pres.pdf\", bbox_inches='tight')    "
   ]
  },
  {
   "cell_type": "code",
   "execution_count": 4,
   "metadata": {},
   "outputs": [],
   "source": [
    "#bulk spectrum \n",
    "Nk=80\n",
    "j = np.linspace(-np.pi,np.pi,Nk)\n",
    "Ev = np.zeros((j.shape[0],j.shape[0],4), dtype=complex)\n",
    "def eigenspectrum(t1,t2,d,flux=-1,T=0,P=0,C=0):\n",
    "    for indy,ky in enumerate(np.linspace(-np.pi,np.pi, Nk)):\n",
    "        for indx, kx in enumerate(np.linspace(-np.pi,np.pi, Nk)): \n",
    "            h0 = np.array([[0, t1+d, 0, t1-d],[t1-d, 0, flux * (t1+d), 0],[0, flux * (t1-d), 0, t1+d],[t1+d, 0, t1-d, 0]])\n",
    "            h1x = np.exp(1j*kx)*np.array([[0.5*(T-P),0,0,C*(-0.5-0.5*1j)],[t2,0.5*(T-P),C*(-0.5-0.5*1j),0],[0,C*(0.5+0.5*1j),0.5*(T-P),t2],[C*(0.5+0.5*1j),0,0,0.5*(T-P)]])\n",
    "            h2x = np.exp(-1j*kx)*np.array([[0.5*(T+P),t2,0,C*(0.5-0.5*1j)],[0,0.5*(T+P),C*(-0.5-0.5*1j),0],[0,C*(-0.5+0.5*1j),0.5*(T+P),0],[C*(-0.5+0.5*1j),0,t2,0.5*(T+P)]])\n",
    "            h1y = np.exp(1j*ky)*np.array([[0.5*(T-P),0,0,t2+C*(-0.5-0.5*1j)],[0,0.5*(T-P),flux *t2+C*(-0.5-0.5*1j),0],[0,C*(0.5+0.5*1j),0.5*(T-P),0],[C*(0.5+0.5*1j),0,0,0.5*(T-P)]])\n",
    "            h2y = np.exp(-1j*ky)*np.array([[0.5*(T+P),0,0,C*(0.5-0.5*1j)],[0,0.5*(T+P),C*(-0.5-0.5*1j),0],[0,flux*t2+C*(-0.5+0.5*1j),0.5*(T+P),0],[t2+C*(-0.5+0.5*1j),0,0,0.5*(T+P)]])\n",
    "            h = h0 + h1x + h2x + h1y + h2y\n",
    "            evals,_,_=eig_biort(h)\n",
    "            Ev[indy,indx,:]=evals\n",
    "            Ev[indy,indx,:]=Ev[indy,indx,np.argsort(evals.real)]\n",
    "    return Ev    \n",
    "   "
   ]
  },
  {
   "cell_type": "code",
   "execution_count": 9,
   "metadata": {},
   "outputs": [],
   "source": [
    "Ev = eigenspectrum(1.7,1.5,0.1,-1,T=0,P=0,C=0)"
   ]
  },
  {
   "cell_type": "code",
   "execution_count": 12,
   "metadata": {
    "scrolled": false
   },
   "outputs": [
    {
     "name": "stdout",
     "output_type": "stream",
     "text": [
      "(80, 80)\n",
      "(80, 80)\n"
     ]
    },
    {
     "name": "stderr",
     "output_type": "stream",
     "text": [
      "/Users/albertozorzato/anaconda3/envs/sim/lib/python3.9/site-packages/mpl_toolkits/mplot3d/axes3d.py:1712: ComplexWarning: Casting complex values to real discards the imaginary part\n",
      "  v1[poly_i, :] = ps[i1, :] - ps[i2, :]\n",
      "/Users/albertozorzato/anaconda3/envs/sim/lib/python3.9/site-packages/mpl_toolkits/mplot3d/axes3d.py:1713: ComplexWarning: Casting complex values to real discards the imaginary part\n",
      "  v2[poly_i, :] = ps[i2, :] - ps[i3, :]\n"
     ]
    },
    {
     "data": {
      "text/plain": [
       "Text(0.5, 0, 'E')"
      ]
     },
     "execution_count": 12,
     "metadata": {},
     "output_type": "execute_result"
    },
    {
     "data": {
      "image/png": "[encoded data removed]",
      "text/plain": [
       "<Figure size 432x288 with 1 Axes>"
      ]
     },
     "metadata": {
      "needs_background": "light"
     },
     "output_type": "display_data"
    }
   ],
   "source": [
    "import matplotlib.pyplot as plt\n",
    "from mpl_toolkits.mplot3d import axes3d  \n",
    "from mpl_toolkits import mplot3d\n",
    "\n",
    "\n",
    "fig = plt.figure()\n",
    "#fig, ax = plt.subplots(subplot_kw={\"projection\": \"3d\"})\n",
    "ax = fig.add_subplot(111, projection ='3d')\n",
    "x = j\n",
    "y = j\n",
    "x,y = np.meshgrid(x,y)\n",
    "A = []\n",
    "B = []\n",
    "C = []\n",
    "X = np.linspace(-np.pi, np.pi, Nk)\n",
    "Y = np.linspace(-np.pi, np.pi, Nk)\n",
    "X, Y = np.meshgrid(X, Y, indexing='ij')\n",
    "#for i, X in enumerate(X):\n",
    "#    for j, Y in enumerate(Y):\n",
    "#        Z[i,j] = Ev[i,,2]\n",
    "\n",
    "print(X.shape)\n",
    "print(Y.shape)\n",
    "for i in range(3):\n",
    "    Z = Ev[:,:,i]\n",
    "    ax.plot_surface(X, Y, Z)\n",
    "plt.xlabel(r'$k_x$') \n",
    "plt.ylabel(r'$k_y$')\n",
    "ax.set_zlabel('E')\n",
    "\n",
    "#plt.savefig(\"/Users/albertozorzato/Desktop/3D SSH spectrum_1.pdf\", bbox_inches='tight')    \n",
    "\n",
    "          "
   ]
  },
  {
   "cell_type": "code",
   "execution_count": 13,
   "metadata": {},
   "outputs": [
    {
     "name": "stderr",
     "output_type": "stream",
     "text": [
      "/Users/albertozorzato/anaconda3/envs/sim/lib/python3.9/site-packages/sympy/__init__.py:672: SymPyDeprecationWarning: \n",
      "\n",
      "importing sympy.matrices.matrices with 'from sympy import *' has been\n",
      "deprecated since SymPy 1.6. Use import sympy.matrices.matrices\n",
      "instead. See https://github.com/sympy/sympy/issues/18245 for more\n",
      "info.\n",
      "\n",
      "  self.Warn(\n"
     ]
    },
    {
     "data": {
      "text/latex": [
       "$1\\\\ \\mathcal{C}\\\\ \\mathcal{T}\\\\ \\mathcal{P}$"
      ],
      "text/plain": [
       "[1, C, T, P]"
      ]
     },
     "execution_count": 13,
     "metadata": {},
     "output_type": "execute_result"
    }
   ],
   "source": [
    "ssh=qsymm.Model('(t1+2*t2*cos(k_x))*kron(eye(2),sigma_x)-(t1+2*t2*cos(k_y))*kron(sigma_y,sigma_y)+delta*1j*(kron(sigma_y,sigma_x)-kron(eye(2),sigma_y))', momenta=('k_x', 'k_y'))\n",
    "ssh.tosympy()\n",
    "pg,cg=qsymm.symmetries(ssh)\n",
    "pg"
   ]
  },
  {
   "cell_type": "code",
   "execution_count": null,
   "metadata": {},
   "outputs": [],
   "source": [
    "p = qsymm.PointGroupElement(R =-np.eye(2),transpose=True, conjugate = True, antisymmetry=True)\n",
    "candidates = qsymm.groups.generate_group([p])\n",
    "print(p)\n",
    "qsymm.symmetries(ssh)\n"
   ]
  },
  {
   "cell_type": "code",
   "execution_count": null,
   "metadata": {},
   "outputs": [],
   "source": [
    "breaker = qsymm.Model('sigma_x*(1j*t1+2*cos(k_x)*t2)', momenta=('k_x'))\n",
    "breaker.tosympy()"
   ]
  },
  {
   "cell_type": "code",
   "execution_count": null,
   "metadata": {},
   "outputs": [],
   "source": [
    "\n",
    "pg,cg=qsymm.symmetries(breaker)\n",
    "pg"
   ]
  },
  {
   "cell_type": "code",
   "execution_count": null,
   "metadata": {},
   "outputs": [],
   "source": [
    "f = qsymm.PointGroupElement(R =np.eye(2),transpose=False, conjugate = False, antisymmetry=True)\n",
    "candidates = qsymm.groups.generate_group([f])\n",
    "print(f)\n",
    "qsymm.symmetries(breaker)\n"
   ]
  },
  {
   "cell_type": "code",
   "execution_count": 10,
   "metadata": {},
   "outputs": [],
   "source": [
    "T=0\n",
    "P=0\n",
    "C=0\n",
    "flux = -1\n",
    "t1=0.5\n",
    "t2=1.5\n",
    "d=0.1\n",
    "C4= np.array([[0,0,0,1],[1,0,0,0],[0,-1,0,0],[0,0,1,0]])"
   ]
  },
  {
   "cell_type": "code",
   "execution_count": 11,
   "metadata": {},
   "outputs": [],
   "source": [
    "#GAMMA\n",
    "kx=0\n",
    "ky=0\n",
    "\n",
    "h0 = np.array([[0, t1+d, 0, t1-d],[t1-d, 0, flux * (t1+d), 0],[0, flux * (t1-d), 0, t1+d],[t1+d, 0, t1-d, 0]])\n",
    "h1x = np.exp(1j*kx)*np.array([[0.5*(T-P),0,0,C*(-0.5-0.5*1j)],[t2,0.5*(T-P),C*(-0.5-0.5*1j),0],[0,C*(0.5+0.5*1j),0.5*(T-P),t2],[C*(0.5+0.5*1j),0,0,0.5*(T-P)]])\n",
    "h2x = np.exp(-1j*kx)*np.array([[0.5*(T+P),t2,0,C*(0.5-0.5*1j)],[0,0.5*(T+P),C*(-0.5-0.5*1j),0],[0,C*(-0.5+0.5*1j),0.5*(T+P),0],[C*(-0.5+0.5*1j),0,t2,0.5*(T+P)]])\n",
    "h1y = np.exp(1j*ky)*np.array([[0.5*(T-P),0,0,t2+C*(-0.5-0.5*1j)],[0,0.5*(T-P),flux *t2+C*(-0.5-0.5*1j),0],[0,C*(0.5+0.5*1j),0.5*(T-P),0],[C*(0.5+0.5*1j),0,0,0.5*(T-P)]])\n",
    "h2y = np.exp(-1j*ky)*np.array([[0.5*(T+P),0,0,C*(0.5-0.5*1j)],[0,0.5*(T+P),C*(-0.5-0.5*1j),0],[0,flux*t2+C*(-0.5+0.5*1j),0.5*(T+P),0],[t2+C*(-0.5+0.5*1j),0,0,0.5*(T+P)]])\n",
    "h = h0 + h1x + h2x + h1y + h2y \n",
    "evals,evecsL,evecsR = eig_biort(h)\n",
    "evecsL = evecsL[:,evals.real<0]\n",
    "evecsR = evecsR[:,evals.real<0]\n",
    "Ug = np.zeros((2,2), dtype= complex)\n",
    "for n in range(len(evecsL[0])):\n",
    "    for m in range(len(evecsL[0])): \n",
    "        \n",
    "        Ug[m,n]=evecsL.conj().T[m,:]@C4@evecsR[:,n]\n",
    "                  \n",
    "evG,_,_=eig_biort(Ug)"
   ]
  },
  {
   "cell_type": "code",
   "execution_count": 12,
   "metadata": {},
   "outputs": [],
   "source": [
    "#X\n",
    "kx=np.pi\n",
    "ky=0\n",
    "\n",
    "\n",
    "h0 = np.array([[0, t1+d, 0, t1-d],[t1-d, 0, flux * (t1+d), 0],[0, flux * (t1-d), 0, t1+d],[t1+d, 0, t1-d, 0]])\n",
    "h1x = np.exp(1j*kx)*np.array([[0.5*(T-P),0,0,C*(-0.5-0.5*1j)],[t2,0.5*(T-P),C*(-0.5-0.5*1j),0],[0,C*(0.5+0.5*1j),0.5*(T-P),t2],[C*(0.5+0.5*1j),0,0,0.5*(T-P)]])\n",
    "h2x = np.exp(-1j*kx)*np.array([[0.5*(T+P),t2,0,C*(0.5-0.5*1j)],[0,0.5*(T+P),C*(-0.5-0.5*1j),0],[0,C*(-0.5+0.5*1j),0.5*(T+P),0],[C*(-0.5+0.5*1j),0,t2,0.5*(T+P)]])\n",
    "h1y = np.exp(1j*ky)*np.array([[0.5*(T-P),0,0,t2+C*(-0.5-0.5*1j)],[0,0.5*(T-P),flux *t2+C*(-0.5-0.5*1j),0],[0,C*(0.5+0.5*1j),0.5*(T-P),0],[C*(0.5+0.5*1j),0,0,0.5*(T-P)]])\n",
    "h2y = np.exp(-1j*ky)*np.array([[0.5*(T+P),0,0,C*(0.5-0.5*1j)],[0,0.5*(T+P),C*(-0.5-0.5*1j),0],[0,flux*t2+C*(-0.5+0.5*1j),0.5*(T+P),0],[t2+C*(-0.5+0.5*1j),0,0,0.5*(T+P)]])\n",
    "h = h0 + h1x + h2x + h1y + h2y \n",
    "evals,evecsL,evecsR = eig_biort(h)\n",
    "evecsL = evecsL[:,evals.real<0]\n",
    "evecsR = evecsR[:,evals.real<0]\n",
    "Ux = np.zeros((2,2), dtype= complex)\n",
    "\n",
    "for n in range(len(evecsL[0])):\n",
    "    for m in range(len(evecsL[0])): \n",
    "        Ux[m,n]=evecsL.conj().T[m,:]@C4@C4@evecsR[:,n]  \n",
    "        \n",
    "evX,_,_=eig_biort(Ux)\n"
   ]
  },
  {
   "cell_type": "code",
   "execution_count": 13,
   "metadata": {},
   "outputs": [],
   "source": [
    "#M\n",
    "kx=np.pi\n",
    "ky=np.pi\n",
    "\n",
    "\n",
    "h0 = np.array([[0, t1+d, 0, t1-d],[t1-d, 0, flux * (t1+d), 0],[0, flux * (t1-d), 0, t1+d],[t1+d, 0, t1-d, 0]])\n",
    "h1x = np.exp(1j*kx)*np.array([[0.5*(T-P),0,0,C*(-0.5-0.5*1j)],[t2,0.5*(T-P),C*(-0.5-0.5*1j),0],[0,C*(0.5+0.5*1j),0.5*(T-P),t2],[C*(0.5+0.5*1j),0,0,0.5*(T-P)]])\n",
    "h2x = np.exp(-1j*kx)*np.array([[0.5*(T+P),t2,0,C*(0.5-0.5*1j)],[0,0.5*(T+P),C*(-0.5-0.5*1j),0],[0,C*(-0.5+0.5*1j),0.5*(T+P),0],[C*(-0.5+0.5*1j),0,t2,0.5*(T+P)]])\n",
    "h1y = np.exp(1j*ky)*np.array([[0.5*(T-P),0,0,t2+C*(-0.5-0.5*1j)],[0,0.5*(T-P),flux *t2+C*(-0.5-0.5*1j),0],[0,C*(0.5+0.5*1j),0.5*(T-P),0],[C*(0.5+0.5*1j),0,0,0.5*(T-P)]])\n",
    "h2y = np.exp(-1j*ky)*np.array([[0.5*(T+P),0,0,C*(0.5-0.5*1j)],[0,0.5*(T+P),C*(-0.5-0.5*1j),0],[0,flux*t2+C*(-0.5+0.5*1j),0.5*(T+P),0],[t2+C*(-0.5+0.5*1j),0,0,0.5*(T+P)]])\n",
    "h = h0 + h1x + h2x + h1y + h2y \n",
    "#assert np.allclose(h, h.T.conj())\n",
    "#evals,evecsL= np.linalg.eigh(h)\n",
    "evals,evecsL,evecsR = eig_biort(h)\n",
    "evecsL = evecsL[:,evals.real<0]\n",
    "evecsR = evecsR[:,evals.real<0]\n",
    "\n",
    "C4_inv = np.linalg.inv(C4)\n",
    "Um = np.zeros((2,2), dtype= complex)\n",
    "for n in range(len(evecsL[0])):\n",
    "    for m in range(len(evecsL[0])): \n",
    "        Um[m,n]=evecsL.conj().T[m,:]@C4@evecsR[:,n]\n",
    "          \n",
    "evM,_,_=eig_biort(Um)\n"
   ]
  },
  {
   "cell_type": "code",
   "execution_count": 9,
   "metadata": {},
   "outputs": [
    {
     "name": "stdout",
     "output_type": "stream",
     "text": [
      "[-0.70710678-0.70710678j -0.70710678+0.70710678j]\n",
      "[-0.70710678+0.70710678j -0.70710678-0.70710678j]\n",
      "[0.00000000e+00-1.j 1.11022302e-16+1.j]\n"
     ]
    }
   ],
   "source": [
    "print(evG)\n",
    "print(evM)\n",
    "print(evX)"
   ]
  },
  {
   "cell_type": "code",
   "execution_count": 14,
   "metadata": {},
   "outputs": [
    {
     "name": "stdout",
     "output_type": "stream",
     "text": [
      "[-0.70710678-0.70710678j -0.70710678+0.70710678j]\n",
      "[0.70710678+0.70710678j 0.70710678-0.70710678j]\n",
      "[ 0.00000000e+00-1.j -1.11022302e-16+1.j]\n"
     ]
    }
   ],
   "source": [
    "print(evG)\n",
    "print(evM)\n",
    "print(evX)"
   ]
  },
  {
   "cell_type": "code",
   "execution_count": null,
   "metadata": {},
   "outputs": [],
   "source": [
    "#from the above we see the set of symmetry eigenvalues change and this must be accompanied by a gap-closing \n",
    "#so that signals the difference between the two phases; can't really do a product because that would indicate\n",
    "#chern number but in this case it's trivial\n"
   ]
  },
  {
   "cell_type": "code",
   "execution_count": null,
   "metadata": {
    "scrolled": true
   },
   "outputs": [],
   "source": [
    "import matplotlib.pyplot as plt\n",
    "plt.axes()\n",
    "plt.rcParams[\"font.family\"] = \"serif\"\n",
    "rectangle = plt.Rectangle((-1.5,-1.5), np.pi, np.pi, fc='wheat',ec=\"forestgreen\")\n",
    "plt.gca().add_patch(rectangle)\n",
    "plt.axis('scaled')\n",
    "ax = plt.gca()\n",
    "frame1 = plt.gca()\n",
    "ax.spines['top'].set_color('none')\n",
    "ax.spines['bottom'].set_position('center')\n",
    "ax.spines['left'].set_position('center')\n",
    "ax.spines['right'].set_color('none')\n",
    "ax.spines['top'].set_visible(True)\n",
    "ax.spines['right'].set_visible(True)\n",
    "frame1.axes.get_xaxis().set_ticks([])\n",
    "frame1.axes.get_yaxis().set_ticks([])\n",
    "ax.set_xlabel(r'$k_x$', size=14, labelpad=-8, x=1.07)\n",
    "ax.set_ylabel(r'$k_y$', size=14, labelpad=-2, y=1.02, rotation=0)\n",
    "arrow_fmt = dict(markersize=4, color='black', clip_on=False)\n",
    "arrow_fmt1 = dict(markersize=4, color='forestgreen', clip_on=False)\n",
    "ax.plot((1), (0.07), marker='>', transform=ax.get_yaxis_transform(), **arrow_fmt)\n",
    "#ax.plot((0.94), (1.01), marker='>', transform=ax.get_yaxis_transform(), **arrow_fmt1)\n",
    "ax.plot((0.07), (1), marker='^', transform=ax.get_xaxis_transform(), **arrow_fmt)\n",
    "#plt.arrow(-1.5,1,3.15,0,shape='right',capstyle='round', color='forestgreen')\n",
    "plt.plot(1.64,1.64, 'o', c='b')\n",
    "plt.text(1.71,1.71, 'M', size = 'xx-large')\n",
    "plt.plot(0.07,0.07, 'o', c='b')\n",
    "plt.plot(1.64,0.07, 'o', c='b')\n",
    "plt.text(1.35,0.2, 'X', size = 'xx-large')\n",
    "plt.text(0.2,0.2, r'$\\Gamma$', size = 'xx-large')\n",
    "#plt.text(0.5,1.1, r'$\\mathcal{W}_{x, \\bf{k}}$', size = 'xx-large', color='forestgreen')\n",
    "#plt.plot(-1.5,1.01, '.', c='forestgreen' )\n",
    "#plt.text(-1.4,1.1, r'$\\bf{k}$', c='forestgreen', size='large')\n",
    "\n",
    "\n",
    "#plt.savefig(\"/Users/albertozorzato/Desktop/plt/HighSymmPoints.pdf\", bbox_inches='tight')"
   ]
  },
  {
   "cell_type": "code",
   "execution_count": 6,
   "metadata": {},
   "outputs": [
    {
     "data": {
      "image/png": "[encoded data removed]",
      "text/plain": [
       "<Figure size 432x288 with 1 Axes>"
      ]
     },
     "metadata": {
      "needs_background": "light"
     },
     "output_type": "display_data"
    }
   ],
   "source": [
    "import matplotlib.pyplot as plt\n",
    "Nk=100\n",
    "t=1\n",
    "E=[]\n",
    "for kx in np.linspace(-np.pi,np.pi, Nk): \n",
    "        #h0 = np.array([[0,0],[0,0]])\n",
    "        eigvals = -2*t*np.cos(kx)\n",
    "        E.append(eigvals)\n",
    "E = np.asarray(E)\n",
    "plt.rcParams[\"font.family\"] = \"serif\"\n",
    "plt.xlabel(r'$k$')\n",
    "plt.ylabel(r'$\\epsilon_{k}$')\n",
    "plt.plot(np.linspace(-np.pi,np.pi, Nk),E,'-',c='m', linewidth=4)\n",
    "plt.savefig(\"/Users/albertozorzato/Desktop/AAAA.pdf\", bbox_inches='tight')"
   ]
  },
  {
   "cell_type": "code",
   "execution_count": null,
   "metadata": {},
   "outputs": [],
   "source": []
  }
 ],
 "metadata": {
  "kernelspec": {
   "display_name": "Python 3 (ipykernel)",
   "language": "python",
   "name": "python3"
  },
  "language_info": {
   "codemirror_mode": {
    "name": "ipython",
    "version": 3
   },
   "file_extension": ".py",
   "mimetype": "text/x-python",
   "name": "python",
   "nbconvert_exporter": "python",
   "pygments_lexer": "ipython3",
   "version": "3.10.9"
  }
 },
 "nbformat": 4,
 "nbformat_minor": 4
}
