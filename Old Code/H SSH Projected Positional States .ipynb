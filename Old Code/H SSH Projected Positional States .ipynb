{
 "cells": [
  {
   "cell_type": "code",
   "execution_count": 2,
   "metadata": {},
   "outputs": [
    {
     "data": {
      "image/png": "[encoded data removed]",
      "text/plain": [
       "<Figure size 432x288 with 1 Axes>"
      ]
     },
     "metadata": {
      "needs_background": "light"
     },
     "output_type": "display_data"
    },
    {
     "data": {
      "image/png": "[encoded data removed]",
      "text/plain": [
       "<Figure size 432x288 with 1 Axes>"
      ]
     },
     "metadata": {
      "needs_background": "light"
     },
     "output_type": "display_data"
    }
   ],
   "source": [
    "import kwant\n",
    "import numpy as np \n",
    "import matplotlib.pyplot as plt \n",
    "import matplotlib.patches as mpatches\n",
    "import scipy.sparse.linalg as sla\n",
    "from scipy.linalg import eig\n",
    "import scipy\n",
    "\n",
    "lat = kwant.lattice.chain(norbs=1)\n",
    "bulk = kwant.Builder(symmetry=kwant.lattice.TranslationalSymmetry([2]))\n",
    "\n",
    "def onsite(site):\n",
    "    return 0 \n",
    "\n",
    "def hopping_intra(site1, site2, t1):\n",
    "    return t1\n",
    "\n",
    "def hopping_inter(site1, site2, t2):\n",
    "    return t2\n",
    "\n",
    "bulk[lat(0)] = onsite\n",
    "bulk[lat(1)] = onsite\n",
    "bulk[lat(0),lat(1)] = hopping_intra\n",
    "bulk[lat(1),lat(2)] = hopping_inter\n",
    "\n",
    "finite = kwant.Builder()\n",
    "\n",
    "L = 20\n",
    "\n",
    "def shape(site):\n",
    "    pos=site.pos\n",
    "    return 0<=pos[0]<L\n",
    "\n",
    "finite.fill(bulk, shape, start=[0]);\n",
    "\n",
    "finite = finite.finalized()\n",
    "\n",
    "kwant.plot(finite)\n",
    "\n",
    "#######################\n",
    "\n",
    "params_1 = dict(t1=100, t2=1)\n",
    "\n",
    "ham_1 = finite.hamiltonian_submatrix(params = params_1)\n",
    "\n",
    "evals_1, evecs_1 = np.linalg.eigh(ham_1)\n",
    "evecs_1, _ = np.linalg.qr(evecs_1)\n",
    "P1 = np.zeros((20,20))\n",
    "\n",
    "P1 = (evecs_1) @ np.diag(evals_1 < 0) @ evecs_1.conj().T\n",
    "\n",
    "x = np.diag([s.pos[0] for s in finite.sites])\n",
    "\n",
    "X1 = P1@x@P1\n",
    "\n",
    "evals1, evecs1 = np.linalg.eigh(X1)\n",
    "evecs1, _ = np.linalg.qr(evecs1)\n",
    "evals1 = evals1[evals1 > 0]\n",
    "\n",
    "order1 = np.argsort(evals1)\n",
    "\n",
    "######################\n",
    "\n",
    "params_2 = dict(t1=1, t2=100)\n",
    "\n",
    "ham_2 = finite.hamiltonian_submatrix(params = params_2)\n",
    "\n",
    "evals_2, evecs_2 = np.linalg.eigh(ham_2)\n",
    "evecs_2, _ = np.linalg.qr(evecs_2)\n",
    "P2 = np.zeros((20,20))\n",
    "\n",
    "P2 = (evecs_2) @ np.diag(evals_2 < 0) @ evecs_2.conj().T\n",
    "\n",
    "X2 = P2@x@P2\n",
    "\n",
    "\n",
    "\n",
    "evals2, evecs2 = np.linalg.eigh(X2)\n",
    "evecs2, _ = np.linalg.qr(evecs2)\n",
    "evals2 = evals2[evals2 > 0]\n",
    "\n",
    "order2 = np.argsort(evals2)\n",
    "\n",
    "#####################\n",
    "\n",
    "\n",
    "np.allclose(evecs2.T.conj() @ evecs2, np.eye(evecs2.shape[0]))\n",
    "\n",
    "\n",
    "plt.scatter(evals1[order1], np.zeros((len(evals1), )), c = 'b')\n",
    "    \n",
    "plt.scatter(evals2[order2], np.zeros((len(evals2), )), c = 'r')    \n",
    "\n",
    "y = np.zeros(20)\n",
    "for i in range(20):\n",
    "    y[i] = 0.0005\n",
    "\n",
    "plt.scatter([s.pos[0] for s in finite.sites], y, c = 'y')\n",
    "\n",
    "red_patch = mpatches.Patch(color='red', label='t2>>t1')\n",
    "blue_patch = mpatches.Patch(color='blue', label='t1>>t2')\n",
    "yellow_patch = mpatches.Patch(color='yellow', label = 'sites')\n",
    "\n",
    "\n",
    "plt.legend(handles=[blue_patch, red_patch, yellow_patch])\n",
    "\n",
    "\n",
    "\n",
    "plt.show()"
   ]
  },
  {
   "cell_type": "code",
   "execution_count": null,
   "metadata": {},
   "outputs": [],
   "source": []
  },
  {
   "cell_type": "code",
   "execution_count": null,
   "metadata": {},
   "outputs": [],
   "source": []
  }
 ],
 "metadata": {
  "kernelspec": {
   "display_name": "Python 3",
   "language": "python",
   "name": "python3"
  },
  "language_info": {
   "codemirror_mode": {
    "name": "ipython",
    "version": 3
   },
   "file_extension": ".py",
   "mimetype": "text/x-python",
   "name": "python",
   "nbconvert_exporter": "python",
   "pygments_lexer": "ipython3",
   "version": "3.7.4"
  }
 },
 "nbformat": 4,
 "nbformat_minor": 2
}
