{
 "cells": [
  {
   "cell_type": "code",
   "execution_count": null,
   "metadata": {},
   "outputs": [],
   "source": [
    "#%matplotlib inline\n",
    "import kwant\n",
    "import numpy as np \n",
    "import matplotlib.pyplot as plt \n",
    "import matplotlib.patches as mpatches\n",
    "from scipy.linalg import eig\n",
    "import pickle"
   ]
  },
  {
   "cell_type": "code",
   "execution_count": 2,
   "metadata": {},
   "outputs": [],
   "source": [
    "def eig_biort(h):\n",
    "    eigvals, eigvecL, eigvecR = eig(h, left=True, right=True)\n",
    "\n",
    "    norm = eigvecL.conj().T @ eigvecR\n",
    "    eigvecR = eigvecR @ np.linalg.inv(norm)\n",
    "    try:\n",
    "        assert np.allclose(eigvecL.conj().T @ eigvecR, np.eye(h.shape[0]), atol=1e-5), (np.round(eigvecL.conj().T @ eigvecR, 2), np.round(eigvals))\n",
    "        assert np.allclose(h @ eigvecR, eigvals * eigvecR, atol=1e-5)\n",
    "        assert np.allclose(h.T.conj() @ eigvecL, eigvals.conj() * eigvecL, atol=1e-5)\n",
    "    except AssertionError:\n",
    "        print('Assertion Error')\n",
    "    return eigvals, eigvecL, eigvecR\n"
   ]
  },
  {
   "cell_type": "code",
   "execution_count": 3,
   "metadata": {},
   "outputs": [],
   "source": [
    "lat = kwant.lattice.square(norbs=1)\n",
    "bulk = kwant.Builder(symmetry=kwant.lattice.TranslationalSymmetry([2,0],[0,2]))\n",
    "\n",
    "lat_a = kwant.lattice.square(norbs=1)\n",
    "bulk_a = kwant.Builder(symmetry=kwant.lattice.TranslationalSymmetry([2,0],[0,2]))"
   ]
  },
  {
   "cell_type": "code",
   "execution_count": 4,
   "metadata": {},
   "outputs": [],
   "source": [
    "#def hopping1_h(site1, site2, t1, t1_dis, seed):\n",
    "#    return t1 + t1_dis * kwant.digest.gauss(str((site1, site2)), seed)\n",
    "\n",
    "\n",
    "def onsite(site):\n",
    "    return 0\n",
    "\n",
    "def hopping_intra(site1, site2, t1):\n",
    "    return t1 \n",
    "\n",
    "def hopping_intrarev(site1, site2, t1):\n",
    "    return -t1\n",
    "\n",
    "def hopping_inter(site1, site2, t2):\n",
    "    return t2\n",
    "\n",
    "def hopping_interrev(site1, site2, t2):\n",
    "    return -t2\n",
    "\n",
    "bulk[lat(0,0)] = onsite\n",
    "bulk[lat(0,1)] = onsite\n",
    "bulk[lat(1,1)] = onsite\n",
    "bulk[lat(1,0)] = onsite\n",
    "bulk[lat(0,0),lat(0,1)] = hopping_intra\n",
    "bulk[lat(0,1),lat(1,1)] = hopping_intra\n",
    "bulk[lat(1,1),lat(1,0)] = hopping_intrarev\n",
    "bulk[lat(1,0),lat(0,0)] = hopping_intra\n",
    "bulk[lat(0,1),lat(0,2)] = hopping_inter\n",
    "bulk[lat(1,0),lat(2,0)] = hopping_inter\n",
    "bulk[lat(1,1),lat(1,2)] = hopping_interrev\n",
    "bulk[lat(1,1),lat(2,1)] = hopping_inter"
   ]
  },
  {
   "cell_type": "code",
   "execution_count": 5,
   "metadata": {},
   "outputs": [],
   "source": [
    "def onsite_a(site,m):\n",
    "    return 0\n",
    "##def onsite_arev(site,m):\n",
    "#    return -m\n",
    "#\n",
    "def hopping_intra_a(site1, site2, v1):\n",
    "    return 1j*v1\n",
    "\n",
    "def hopping_inter_a(site1, site2, v1):\n",
    "    return 0\n",
    "\n",
    "def hopping_intra_arev(site1, site2, v1):\n",
    "    return -1j*v1\n",
    "\n",
    "\n",
    "bulk_a[lat_a(0,0)] = onsite_a\n",
    "bulk_a[lat_a(0,1)] = onsite_a\n",
    "bulk_a[lat_a(1,1)] = onsite_a\n",
    "bulk_a[lat_a(1,0)] = onsite_a\n",
    "bulk_a[lat_a(0,0),lat_a(0,1)] = hopping_intra_a\n",
    "bulk_a[lat_a(0,1),lat_a(1,1)] = hopping_intra_a\n",
    "bulk_a[lat_a(1,1),lat_a(1,0)] = hopping_intra_arev\n",
    "bulk_a[lat_a(1,0),lat_a(0,0)] = hopping_intra_a\n",
    "bulk_a[lat_a(0,1),lat_a(0,2)] = hopping_inter_a\n",
    "bulk_a[lat_a(1,0),lat_a(2,0)] = hopping_inter_a\n",
    "bulk_a[lat_a(1,1),lat_a(1,2)] = hopping_inter_a\n",
    "bulk_a[lat_a(1,1),lat_a(2,1)] = hopping_inter_a"
   ]
  },
  {
   "cell_type": "code",
   "execution_count": 9,
   "metadata": {},
   "outputs": [],
   "source": [
    "finite_h = kwant.Builder()\n",
    "finite_a = kwant.Builder()\n",
    "\n",
    "L = 10 #ALWAYS CHOOSE ODD NUMBER TO HAVE UNIT CELLS IN EVERY CORNER \n",
    "\n",
    "def shape(site):\n",
    "    x, y = site.pos\n",
    "    return  -L< x <=L and  -L< y <=L\n",
    "\n",
    "\n",
    "finite_h.fill(bulk, shape, start=[0,0]);\n",
    "finite_a.fill(bulk_a, shape, start=[0,0]);\n",
    "\n",
    "finite_h = finite_h.finalized()\n",
    "finite_a = finite_a.finalized()\n",
    "\n"
   ]
  },
  {
   "cell_type": "code",
   "execution_count": null,
   "metadata": {},
   "outputs": [],
   "source": [
    "import kwant\n",
    "from kwant import wraparound\n",
    "import numpy as np\n",
    "import scipy.linalg as la\n",
    "import matplotlib\n",
    "matplotlib.use('agg')\n",
    "import matplotlib.pyplot as plt\n",
    "#fig = plt.figure()\n",
    "#ax = plt.subplot()\n",
    "kwant.plot(finite_a)\n",
    "#plt.savefig('/Users/albertozorzato/Desktop/plt/Lattice.pdf')"
   ]
  },
  {
   "cell_type": "code",
   "execution_count": null,
   "metadata": {},
   "outputs": [],
   "source": [
    "seeds = np.arange(0,5,1)\n",
    "S = []\n",
    "for seed in seeds:\n",
    "    params_h1 = dict(t1=0.5, t_c=0, t1_dis=0, t2_dis=0, seed = seed, t2=1.5)\n",
    "    ham_h1 = finite_h.hamiltonian_submatrix(params = params_h1)\n",
    "    params_a1 = dict(v1=0.5, m=0)\n",
    "    ham_a1 = finite_a.hamiltonian_submatrix(params = params_a1)\n",
    "    ssh = ham_h1 \n",
    "    evals, evecsL, evecsR = eig_biort(ssh)\n",
    "    density = kwant.operator.Density(finite_h)\n",
    "    evecsL = evecsL[:,abs(evals.real)<0.05]\n",
    "    print(evecsL.shape)\n",
    "    order = np.argsort(evals.real)\n",
    "    S.append(evals[order])\n",
    "S = np.asarray(S)\n",
    "S = np.mean(S, axis=0)\n",
    "\n",
    "#plt.rcParams[\"font.family\"] = \"serif\"\n",
    "#plt.plot(evals.real[order], 'x', c='m')\n",
    "#plt.xlabel('Eigenvalues')\n",
    "#plt.ylabel('Re(E)')\n",
    "\n",
    "#plt.xlim((590,610))\n",
    "#plt.ylim((-0.9,0.9))\n",
    "\n",
    "density0=density(evecsL[:,0])\n",
    "density1=density(evecsL[:,1])\n",
    "density2=density(evecsL[:,2])\n",
    "density3=density(evecsL[:,3])\n",
    "\n",
    "den = density0+density1+density2+density3\n",
    "#fig = plt.figure()\n",
    "#ax = plt.subplot()\n",
    "kwant.plotter.density(finite_h, den, vmin=0, vmax=1)\n",
    "#plt.savefig('/Users/albertozorzato/Desktop/plt/clean.pdf', bbox_inches='tight' )\n",
    "\n",
    "#with open('density_t+.pickle', 'wb') as f:\n",
    "#    pickle.dump(plot, f)"
   ]
  },
  {
   "cell_type": "code",
   "execution_count": null,
   "metadata": {},
   "outputs": [],
   "source": [
    "plt.plot(evals[np.argsort(evals.real)],'x')\n",
    "plt.rc('font', family='serif')\n",
    "plt.xlabel('Eigenvalues')\n",
    "plt.ylabel('Re(E)')\n",
    "#plt.xlim((590,610))\n",
    "#plt.ylim((-0.4,0.4))"
   ]
  },
  {
   "cell_type": "code",
   "execution_count": 11,
   "metadata": {},
   "outputs": [],
   "source": [
    "Ev = [] \n",
    "ts= np.arange(0, 2, 0.1)\n",
    "for t1 in ts:\n",
    "    aux = t1\n",
    "    params_h = dict(t1=aux, t2=1)\n",
    "    ham_h = finite_h.hamiltonian_submatrix(params = params_h)\n",
    "    params_a = dict(v1=0.4,m=0)\n",
    "    ham_a = finite_a.hamiltonian_submatrix(params = params_a)\n",
    "    hamiltonian = ham_h +1j*ham_a\n",
    "    evals, evecsL, evecsR  = eig_biort(hamiltonian)\n",
    "    order = np.argsort(evals.real)                                        \n",
    "    Ev.append(evals[order])   \n",
    "    \n",
    "   "
   ]
  },
  {
   "cell_type": "code",
   "execution_count": 12,
   "metadata": {},
   "outputs": [
    {
     "name": "stderr",
     "output_type": "stream",
     "text": [
      "/Users/albertozorzato/anaconda3/envs/sim/lib/python3.9/site-packages/matplotlib/cbook/__init__.py:1289: ComplexWarning: Casting complex values to real discards the imaginary part\n",
      "  return np.asarray(x, float)\n"
     ]
    },
    {
     "data": {
      "text/plain": [
       "Text(0, 0.5, 'E')"
      ]
     },
     "execution_count": 12,
     "metadata": {},
     "output_type": "execute_result"
    },
    {
     "data": {
      "image/png": "[encoded data removed]",
      "text/plain": [
       "<Figure size 432x288 with 1 Axes>"
      ]
     },
     "metadata": {
      "needs_background": "light"
     },
     "output_type": "display_data"
    }
   ],
   "source": [
    "Ev = np.asarray(Ev)\n",
    "plt.plot(ts, Ev, linewidth=1.5,c='forestgreen')\n",
    "plt.title(\"2D nH-SSH open system - 11x11 unit cells\")\n",
    "plt.xlabel('t1/t2')\n",
    "plt.ylabel('E')\n",
    "#plt.savefig(\"/Users/albertozorzato/Desktop/plt/2D SSH spectrum.pdf\", bbox_inches='tight')"
   ]
  },
  {
   "cell_type": "code",
   "execution_count": null,
   "metadata": {},
   "outputs": [],
   "source": []
  },
  {
   "cell_type": "code",
   "execution_count": null,
   "metadata": {},
   "outputs": [],
   "source": []
  }
 ],
 "metadata": {
  "kernelspec": {
   "display_name": "Python 3 (ipykernel)",
   "language": "python",
   "name": "python3"
  },
  "language_info": {
   "codemirror_mode": {
    "name": "ipython",
    "version": 3
   },
   "file_extension": ".py",
   "mimetype": "text/x-python",
   "name": "python",
   "nbconvert_exporter": "python",
   "pygments_lexer": "ipython3",
   "version": "3.10.9"
  }
 },
 "nbformat": 4,
 "nbformat_minor": 4
}
