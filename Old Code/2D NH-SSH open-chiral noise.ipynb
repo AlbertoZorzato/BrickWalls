{
 "cells": [
  {
   "cell_type": "code",
   "execution_count": 1,
   "metadata": {},
   "outputs": [],
   "source": [
    "%matplotlib inline\n",
    "import kwant\n",
    "import numpy as np \n",
    "import matplotlib.pyplot as plt \n",
    "import matplotlib.patches as mpatches\n",
    "from scipy.linalg import eig\n",
    "import pickle\n"
   ]
  },
  {
   "cell_type": "code",
   "execution_count": 2,
   "metadata": {},
   "outputs": [],
   "source": [
    "def eig_biort(h):\n",
    "    eigvals, eigvecL, eigvecR = eig(h, left=True, right=True)\n",
    "\n",
    "    norm = eigvecL.conj().T @ eigvecR\n",
    "    eigvecR = eigvecR @ np.linalg.inv(norm)\n",
    "    try:\n",
    "        assert np.allclose(eigvecL.conj().T @ eigvecR, np.eye(h.shape[0]), atol=1e-5), (np.round(eigvecL.conj().T @ eigvecR, 2), np.round(eigvals))\n",
    "        assert np.allclose(h @ eigvecR, eigvals * eigvecR, atol=1e-5)\n",
    "        assert np.allclose(h.T.conj() @ eigvecL, eigvals.conj() * eigvecL, atol=1e-5)\n",
    "    except AssertionError:\n",
    "        print('Assertion Error')\n",
    "    return eigvals, eigvecL, eigvecR\n"
   ]
  },
  {
   "cell_type": "code",
   "execution_count": 3,
   "metadata": {},
   "outputs": [],
   "source": [
    "def H(size,t1,t2,d,y,seed):\n",
    "    \n",
    "    U = np.array([[0,t1-d,0,t1+d],[t1+d,0,-t1+d,0],[0,-t1-d,0,t1-d],[t1-d,0,t1+d,0]])\n",
    "    Tm= np.array([[0,0,0,t2],[t2,0,-t2,0],[0,0,0,t2],[0,0,0,0]])\n",
    "    diagonal = np.eye(size)\n",
    "    off_diagonal_p = np.eye(size ,k = 1)\n",
    "    off_diagonal_m = np.eye(size,k = -1)\n",
    "    np.random.seed(seed)\n",
    "    rand_disorder=np.random.normal(0,y,size=4*size)\n",
    "    chiral_disorder=np.zeros((4*size,4*size), float)\n",
    "    np.fill_diagonal(chiral_disorder,rand_disorder)\n",
    "    \n",
    "    hamiltonian = (np.kron(diagonal, U) + np.kron(off_diagonal_p,Tm) + np.kron(off_diagonal_m,Tm.conj().T) \n",
    "                 +chiral_disorder)\n",
    "    return hamiltonian     \n",
    "              "
   ]
  },
  {
   "cell_type": "code",
   "execution_count": 7,
   "metadata": {},
   "outputs": [
    {
     "name": "stderr",
     "output_type": "stream",
     "text": [
      "/Users/albertozorzato/anaconda3/envs/sim/lib/python3.9/site-packages/matplotlib/cbook/__init__.py:1289: ComplexWarning: Casting complex values to real discards the imaginary part\n",
      "  return np.asarray(x, float)\n"
     ]
    },
    {
     "data": {
      "text/plain": [
       "[<matplotlib.lines.Line2D at 0x7fed1834a6d0>]"
      ]
     },
     "execution_count": 7,
     "metadata": {},
     "output_type": "execute_result"
    },
    {
     "data": {
      "image/png": "[encoded data removed]",
      "text/plain": [
       "<Figure size 432x288 with 1 Axes>"
      ]
     },
     "metadata": {
      "needs_background": "light"
     },
     "output_type": "display_data"
    }
   ],
   "source": [
    "ham = H(20,1,2,0.1,0.1,3)\n",
    "evals,evecsL,evecsR = eig_biort(ham)\n",
    "order = np.argsort(evals.real)\n",
    "plt.plot(evals[order],'.')"
   ]
  },
  {
   "cell_type": "code",
   "execution_count": 8,
   "metadata": {},
   "outputs": [
    {
     "name": "stderr",
     "output_type": "stream",
     "text": [
      "/Users/albertozorzato/anaconda3/envs/sim/lib/python3.9/site-packages/matplotlib/cbook/__init__.py:1289: ComplexWarning: Casting complex values to real discards the imaginary part\n",
      "  return np.asarray(x, float)\n"
     ]
    },
    {
     "data": {
      "text/plain": [
       "[<matplotlib.lines.Line2D at 0x7fed185ffeb0>]"
      ]
     },
     "execution_count": 8,
     "metadata": {},
     "output_type": "execute_result"
    },
    {
     "data": {
      "image/png": "[encoded data removed]",
      "text/plain": [
       "<Figure size 432x288 with 1 Axes>"
      ]
     },
     "metadata": {
      "needs_background": "light"
     },
     "output_type": "display_data"
    }
   ],
   "source": [
    "#mean over different seed realizations \n",
    "S = []\n",
    "seeds = np.arange(0,30,1)\n",
    "for seed in seeds:\n",
    "    ham = H(40,0.5,1.5,0.1,0.1,seed)\n",
    "    evals,evecsL,evecsR = eig_biort(ham)\n",
    "    order = np.argsort(evals.real)\n",
    "    S.append(evals[order])\n",
    "S = np.asarray(S)\n",
    "S = np.mean(S, axis=0)    \n",
    "plt.plot(S,'.')\n",
    "#plt.ylim((-0.5,0.5))"
   ]
  },
  {
   "cell_type": "code",
   "execution_count": null,
   "metadata": {},
   "outputs": [],
   "source": []
  },
  {
   "cell_type": "code",
   "execution_count": null,
   "metadata": {},
   "outputs": [],
   "source": []
  }
 ],
 "metadata": {
  "kernelspec": {
   "display_name": "Python 3 (ipykernel)",
   "language": "python",
   "name": "python3"
  },
  "language_info": {
   "codemirror_mode": {
    "name": "ipython",
    "version": 3
   },
   "file_extension": ".py",
   "mimetype": "text/x-python",
   "name": "python",
   "nbconvert_exporter": "python",
   "pygments_lexer": "ipython3",
   "version": "3.9.7"
  }
 },
 "nbformat": 4,
 "nbformat_minor": 4
}
