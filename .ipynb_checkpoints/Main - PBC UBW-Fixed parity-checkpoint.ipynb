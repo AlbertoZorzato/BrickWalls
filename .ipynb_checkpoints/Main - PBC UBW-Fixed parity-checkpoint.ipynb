{
 "cells": [
  {
   "cell_type": "code",
   "execution_count": 1,
   "id": "3c8c7fc2",
   "metadata": {},
   "outputs": [],
   "source": [
    "from tqdm import tqdm\n",
    "from qiskit import quantum_info\n",
    "from qiskit.quantum_info import DensityMatrix, Statevector, partial_trace\n",
    "from qiskit.visualization import plot_histogram\n",
    "import matplotlib.pyplot as plt\n",
    "import numpy as np\n",
    "#from qiskit_experiments.framework import ParallelExperiment\n",
    "from qiskit_experiments.library import StateTomography\n",
    "from qiskit.providers.aer import AerSimulator\n",
    "from qiskit.providers.fake_provider import FakeParis\n",
    "from numpy.linalg import norm \n",
    "import cvxpy\n",
    "#set noisy simulator backend \n",
    "backend = AerSimulator.from_backend(FakeParis())\n",
    "from qiskit import QuantumCircuit, transpile\n",
    "from qiskit.quantum_info import Operator\n",
    "from qiskit.transpiler import PassManager\n",
    "from qiskit.transpiler.passes import Unroller\n",
    "#visualization\n",
    "from qiskit.visualization import plot_state_city\n",
    "from qiskit.visualization import plot_histogram\n",
    "from qiskit import QuantumCircuit\n",
    "from qiskit.quantum_info import SparsePauliOp\n",
    "from qiskit.circuit import Parameter\n",
    "from qiskit.primitives import Estimator"
   ]
  },
  {
   "cell_type": "code",
   "execution_count": 2,
   "id": "1ad5483c",
   "metadata": {},
   "outputs": [],
   "source": [
    "#define unitary\n",
    "def U(A,T,G):\n",
    "    U = np.zeros((4,4), dtype=complex)\n",
    "    \n",
    "    U[0,0]=(-1+2*1j*A*np.cosh(G/2)*(1/np.sinh(T)))/np.sqrt((1+2*A**(2)*(1/np.tanh(T))*(1/np.sinh(T)))+2*A**(2)*np.cosh(G)*(1/np.sinh(T))**2)\n",
    "    \n",
    "    U[0,3]=(1j*A*(1/np.cosh(T/2)))/np.sqrt((1+2*A**(2)*(1/np.tanh(T))*(1/np.sinh(T)))+2*A**(2)*np.cosh(G)*(1/np.sinh(T))**2)\n",
    "    \n",
    "    U[1,1]=(1j*A*(1/np.sinh(T/2)))/np.sqrt((1+2*A**(2)*(1/np.tanh(T))*(1/np.sinh(T)))+2*A**(2)*np.cosh(G)*(1/np.sinh(T))**2)\n",
    "    \n",
    "    U[1,2]=(-1+2*1j*A*(1/np.sinh(T))*np.sinh(G/2))/np.sqrt((1+2*A**(2)*(1/np.tanh(T))*(1/np.sinh(T)))+2*A**(2)*np.cosh(G)*(1/np.sinh(T))**2)\n",
    "    \n",
    "    U[2,1]=(-1-2*1j*A*(1/np.sinh(T))*np.sinh(G/2))/np.sqrt((1+2*A**(2)*(1/np.tanh(T))*(1/np.sinh(T)))+2*A**(2)*np.cosh(G)*(1/np.sinh(T))**2)\n",
    "    \n",
    "    U[2,2]=(1j*A*(1/np.sinh(T/2)))/np.sqrt((1+2*A**(2)*(1/np.tanh(T))*(1/np.sinh(T)))+2*A**(2)*np.cosh(G)*(1/np.sinh(T))**2)\n",
    "    \n",
    "    U[3,0]=-(1j*A*(1/np.cosh(T/2)))/np.sqrt((1+2*A**(2)*(1/np.tanh(T))*(1/np.sinh(T)))+2*A**(2)*np.cosh(G)*(1/np.sinh(T))**2)\n",
    "    \n",
    "    U[3,3]=(1+2*1j*A*np.cosh(G/2)*(1/np.sinh(T)))/np.sqrt((1+2*A**(2)*(1/np.tanh(T))*(1/np.sinh(T)))+2*A**(2)*np.cosh(G)*(1/np.sinh(T))**2)\n",
    "    \n",
    "    return(U)\n",
    "\n",
    "def Ureal(A,T,G):  #NUMERICALLY CHECKED, CORRECT#\n",
    "    \n",
    "    Ur = np.zeros((4,4), dtype=complex)\n",
    "    \n",
    "    coef1=np.sqrt(1+A**(2)*(4*np.cosh(G/2)**(2)*(1/np.sinh(T)**(2))+(1/np.cosh(T/2)**2)))\n",
    "    \n",
    "    coef2=np.sqrt(2*A**(2)*(np.cosh(G)+np.cosh(T))+np.sinh(T)**2)\n",
    "    \n",
    "    \n",
    "    Ur[0,0]=(1j+2*A*np.cosh(G/2)*(1/np.sinh(T)))/coef1\n",
    "    \n",
    "    Ur[0,3]=(2*A*np.sinh(T/2))/coef2\n",
    "    \n",
    "    Ur[1,1]=(2*A*np.cosh(T/2))/coef2\n",
    "    \n",
    "    Ur[1,2]=(1j + 2*A*(1/np.sinh(T))*np.sinh(G/2))/coef1\n",
    "    \n",
    "    Ur[2,1]=(1j - 2*A*(1/np.sinh(T))*np.sinh(G/2))/coef1\n",
    "    \n",
    "    Ur[2,2]=(2*A*np.cosh(T/2))/coef2\n",
    "    \n",
    "    Ur[3,0]=-(2*A*np.sinh(T/2))/coef2\n",
    "    \n",
    "    Ur[3,3]=(-1j+2*A*np.cosh(G/2)*(1/np.sinh(T)))/coef1\n",
    "    \n",
    "    return(Ur)\n",
    "\n",
    "\n",
    "def bwassembler_z(qc,matrix,layers,n):    #CHECKED#\n",
    "    \n",
    "    m=0\n",
    "    while m < layers:\n",
    "        i=0;j=0;    \n",
    "        #even layer\n",
    "        while i < n/2:\n",
    "            qc.unitary(matrix, [2*i,2*i+1])\n",
    "            i+=1;\n",
    "        qc.barrier(range(n)) \n",
    "        #odd layer\n",
    "        while j < n/2:\n",
    "            \n",
    "            if j == (n/2 - 1):\n",
    "                \n",
    "                qc.unitary(perm4site(matrix),[0,1,2,3],label='ZZ')\n",
    "                \n",
    "            else:\n",
    "                qc.unitary(matrix, [2*j+1,2*j+2])\n",
    "            \n",
    "            j+=1;\n",
    "        qc.barrier(range(n))\n",
    "        \n",
    "        m+=1\n",
    "    \n",
    "    return(qc)\n",
    "\n",
    "\n",
    "def perm4site(U):   #CHECKED#\n",
    "    \n",
    "    P = np.array([[1,0,0,0],[0,0,1,0],[0,1,0,0],[0,0,0,-1]])\n",
    "    \n",
    "    P12 = np.kron(P,np.eye(4))\n",
    "    P23 = np.kron(np.eye(2),np.kron(P,np.eye(2)))\n",
    "    P34 = np.kron(np.eye(4),P)\n",
    "    S34 = np.kron(np.eye(4),U)\n",
    "    \n",
    "    return P12@P23@P34@S34@P34@P23@P12\n",
    "       \n",
    "    \n",
    "def prodstaten(n):   #CHECKED#\n",
    "    \n",
    "    X = np.array([[0,1],[1,0]])\n",
    "    X0 = np.zeros((n,2**n,2**n),dtype = complex)\n",
    "    \n",
    "    for i in range(0,n):   \n",
    "        X0[i]=np.kron(np.kron(np.eye(2**i),X),np.eye(2**(n-i-1)))\n",
    "    operator = np.eye(2**n)\n",
    "    for i in range(0,n//2):\n",
    "        operator = (X0[2*i]-1j*X0[2*i+1])@operator\n",
    "    return (1/np.sqrt(2**(n//2)))*operator\n",
    "\n"
   ]
  },
  {
   "cell_type": "code",
   "execution_count": 3,
   "id": "f69cff67",
   "metadata": {},
   "outputs": [],
   "source": [
    "dispcolors = {'cx':('#426299', '#000000'),\n",
    "            'cswap':('#705399', '#000000'),\n",
    "              'cp':('#CFFF8B', '#000000')}"
   ]
  },
  {
   "cell_type": "code",
   "execution_count": 4,
   "id": "0912b394",
   "metadata": {},
   "outputs": [
    {
     "name": "stdout",
     "output_type": "stream",
     "text": [
      "Commutations for Ur:  True True\n",
      "Commutations for U:  True True\n"
     ]
    }
   ],
   "source": [
    "#check supercharge commutations \n",
    "def Q(T,G):\n",
    "    X = np.array([[0,1],[1,0]])\n",
    "    Y = np.array([[0,-1j],[1j,0]])\n",
    "    Z = np.array([[1,0],[0,-1]])\n",
    "    Id = np.array([[1,0],[0,1]])\n",
    "    Q = np.exp(-(G+T)/4)*np.kron(X,Id)+np.exp((T+G)/4)*np.kron(Z,X)\n",
    "    return Q\n",
    "\n",
    "def Qbar(T,G):\n",
    "    X = np.array([[0,1],[1,0]])\n",
    "    Y = np.array([[0,-1j],[1j,0]])\n",
    "    Z = np.array([[1,0],[0,-1]])\n",
    "    Id = np.array([[1,0],[0,1]])\n",
    "    Qbar = np.exp((T-G)/4)*np.kron(Y,Id)+np.exp(-(T-G)/4)*np.kron(Z,Y)\n",
    "\n",
    "    return Qbar\n",
    "\n",
    "A,T,G=3,3,3\n",
    "\n",
    "print('Commutations for Ur: ',np.allclose(Q(T,G)@Ureal(A,T,G)-Ureal(A,T,G)@Q(-T,-G),0*np.eye(4)),\n",
    "np.allclose(Qbar(T,G)@Ureal(A,T,G)-Ureal(A,T,G)@Qbar(-T,-G),0*np.eye(4)))\n",
    "\n",
    "print('Commutations for U: ',np.allclose(Q(T,G)@U(A,T,G)-U(A,T,G)@Q(-T,-G),0*np.eye(4)),\n",
    "np.allclose(Qbar(T,G)@U(A,T,G)-U(A,T,G)@Qbar(-T,-G),0*np.eye(4)))"
   ]
  },
  {
   "cell_type": "code",
   "execution_count": 5,
   "id": "a2a178e9",
   "metadata": {
    "scrolled": false
   },
   "outputs": [
    {
     "name": "stdout",
     "output_type": "stream",
     "text": [
      "Unitarity of U:  True ||| Unitarity of Ur:  True\n"
     ]
    }
   ],
   "source": [
    "#unitarity checks\n",
    "mat=U(1,1,0)\n",
    "uni = mat.conj().T@mat\n",
    "mat1=Ureal(1,1,0)\n",
    "uni1 = mat1.conj().T@mat1\n",
    "print('Unitarity of U: ',np.allclose(np.eye(4),uni,atol=1e-15),'||| Unitarity of Ur: ',np.allclose(np.eye(4),uni1,atol=1e-15))"
   ]
  },
  {
   "cell_type": "code",
   "execution_count": 16,
   "id": "4ebb3ef8",
   "metadata": {
    "scrolled": true
   },
   "outputs": [
    {
     "name": "stdout",
     "output_type": "stream",
     "text": [
      "[0, 1]\n"
     ]
    },
    {
     "name": "stderr",
     "output_type": "stream",
     "text": [
      "0it [00:00, ?it/s]/tmp/ipykernel_327/2751819307.py:59: RuntimeWarning: divide by zero encountered in log\n",
      "  entanglement_entropy = -np.sum(eigenvalues * np.log(eigenvalues))\n",
      "/tmp/ipykernel_327/2751819307.py:59: RuntimeWarning: invalid value encountered in multiply\n",
      "  entanglement_entropy = -np.sum(eigenvalues * np.log(eigenvalues))\n",
      "350it [00:51,  6.74it/s]"
     ]
    },
    {
     "name": "stdout",
     "output_type": "stream",
     "text": [
      "OrderedDict([('rz', 283), ('sx', 173), ('cx', 103), ('reset', 4), ('x', 4), ('barrier', 2)])\n"
     ]
    },
    {
     "name": "stderr",
     "output_type": "stream",
     "text": [
      "\n"
     ]
    }
   ],
   "source": [
    "#BIPARTITION, varying layers per datapoint\n",
    "\n",
    "\n",
    "#Circuit parameters\n",
    "n=4;A=0.15;G=0;\n",
    "\n",
    "#Define arrays\n",
    " \n",
    "thetas= np.arange(1e-10,17.5,0.05)\n",
    "layers = [1]\n",
    "sizes = np.array([4])\n",
    "ent_entropy = np.zeros((len(sizes),len(layers),len(thetas)),dtype=complex)\n",
    "renyi = np.zeros((len(sizes),len(layers),len(thetas)),dtype=complex)\n",
    "eigvalsrho = np.zeros((len(sizes),len(layers),len(thetas),(2**(n//2))),dtype=complex)\n",
    "counts = np.zeros((len(layers)))\n",
    "\n",
    "basis_gates=['cx', 'id', 'rz', 'x', 'sx']\n",
    "\n",
    "\n",
    "\n",
    "for f,n in enumerate(sizes):\n",
    "    \n",
    "    subsystem = [j for j in range(0,n//2)]\n",
    "    print(subsystem)\n",
    "    \n",
    "    for m,layer in enumerate(layers):\n",
    "        \n",
    "        #print(layer)\n",
    "        \n",
    "        for k,theta in tqdm(enumerate(thetas)):    \n",
    "                \n",
    "            string = \"0\" * (n)\n",
    "            qc = QuantumCircuit(n)\n",
    "            QuantumCircuit.initialize(qc,string)\n",
    "            \n",
    "            #init with Kareljan's state\n",
    "            #qc.unitary(prodstaten(n), range(0,n))\n",
    "    \n",
    "            \n",
    "            matrix = Ureal(A,theta,G)\n",
    "            bwassembler_z(qc,matrix,layer,n)\n",
    "            qc = transpile(qc, basis_gates=basis_gates, optimization_level=1)\n",
    "            \n",
    "            \n",
    "            #######################################################################    \n",
    "            #access density matrix  \n",
    "            rho = DensityMatrix(qc)\n",
    "            \n",
    "            reduced_rho=partial_trace(rho, subsystem)\n",
    "            \n",
    "            #find the eigenvalues of the reduced density matrix\n",
    "            eigenvalues,_ = np.linalg.eig(reduced_rho)\n",
    "           \n",
    "            #compute the entanglement entropy\n",
    "            \n",
    "            order = eigenvalues.argsort()\n",
    "            eigenvalues = eigenvalues[order]\n",
    "            #eigvalsrho[f,m,k,:]= eigenvalues\n",
    "            entanglement_entropy = -np.sum(eigenvalues * np.log(eigenvalues))\n",
    "            renyi[f,m,k]=-np.log(DensityMatrix.purity(reduced_rho))\n",
    "            ent_entropy[f,m,k]=entanglement_entropy\n",
    "            #print(k,ent_entropy[k])\n",
    "            ######################################################################\n",
    "    print(qc.count_ops())"
   ]
  },
  {
   "cell_type": "markdown",
   "id": "7c0b8928",
   "metadata": {},
   "source": [
    "amplitude of bw eigenstates per theta plot\n",
    "\n",
    "\n",
    "we are apparently generating equal superpositions of bell pairs \n",
    "\n",
    "arg(allzerostate) winds as many times as dips in the abs(allzerostate), telling how many oscillations we will see in EE spectrum \n",
    "\n",
    "0011 and 1100 \n",
    "\n",
    "0110 and 1001\n",
    "\n",
    "\n",
    "large and small alpha limits and point out buildup is given by 4 states dominating dynamics \n",
    "\n",
    "equation showing 4 states dominate dynamics \n",
    "\n"
   ]
  },
  {
   "cell_type": "markdown",
   "id": "2a3eb51b",
   "metadata": {},
   "source": [
    "One can compute Renyi entropies for quenches from the all zero initial state under the evolution dictated by UBW. The unitary can be applied n times per theta, and one can observe how the associated renyi entropy will exhibit n maxima. By direct inspection one can notice that this dynamical behaviour is ruled by only 4 states. Following the arrow of time from the start of the quench, one notices that the amplitude 0000, which is initially set to one, dips n times, and every dip is associated to an increase in the (equal) amplitudes of pairs (0011,1100) and (0110,1001). The fact that this states exhibit different behaviour under PBC can be understood by the lack of translational symmetry dictated by the odd-even layer staggering."
   ]
  },
  {
   "cell_type": "code",
   "execution_count": 12,
   "id": "0f932383",
   "metadata": {},
   "outputs": [
    {
     "data": {
      "text/plain": [
       "<matplotlib.legend.Legend at 0x7f3bbc138ee0>"
      ]
     },
     "execution_count": 12,
     "metadata": {},
     "output_type": "execute_result"
    },
    {
     "data": {
      "image/png": "[encoded data removed]",
      "text/plain": [
       "<Figure size 640x480 with 1 Axes>"
      ]
     },
     "metadata": {},
     "output_type": "display_data"
    }
   ],
   "source": [
    "csfont = {'fontname':'Serif'}\n",
    "from itertools import cycle\n",
    "colormap1 = plt.cm.cool\n",
    "color_cycle1 = cycle(colormap1(np.linspace(0, 1, len(layers))))\n",
    "colormap2 = plt.cm.spring\n",
    "color_cycle2 = cycle(colormap2(np.linspace(0, 1, len(sizes))))\n",
    "leng= np.array([2,3,4],dtype=int)\n",
    "\n",
    "for j,size in enumerate(layers):\n",
    "    color1 = next(color_cycle1)\n",
    "    #plt.plot(thetas,ent_entropy[j,0],'-', c=color1,label='EE N='+str(size))\n",
    "    color2 = next(color_cycle2)\n",
    "    plt.plot(thetas,renyi[0,j],'-', c=color1,label='m='+str(size))\n",
    "    \n",
    "#plt.plot(thetas,eigvalsrho[0,0,:],'-.')\n",
    "\n",
    "\n",
    "#plt.title('PBC, A= '+str(A)+' G='+str(G)+' init 0',**csfont)\n",
    "for j in range(1,3):\n",
    "    plt.axhline(y=j*np.log(2), linestyle='--')\n",
    "\n",
    "plt.xlabel(r'$\\theta$', **csfont)\n",
    "plt.ylabel('RE', **csfont)\n",
    "plt.xlim(0,10)\n",
    "#plt.ylim(0,1.5)\n",
    "plt.legend(loc='upper right')   \n",
    "#plt.savefig(\"/mnt/c/Users/azorzat/OneDrive - UvA/Desktop/Plots Paper/PBC diff layers a=0.15 g=0.pdf\", bbox_inches='tight')  "
   ]
  },
  {
   "cell_type": "code",
   "execution_count": 48,
   "id": "cb822105",
   "metadata": {},
   "outputs": [
    {
     "name": "stdout",
     "output_type": "stream",
     "text": [
      "[9.84937238e-01 7.50280441e-03 7.50280441e-03 5.71529554e-05]\n"
     ]
    }
   ],
   "source": [
    "\n",
    "    string = \"0\" * (n)\n",
    "    qc = QuantumCircuit(n)\n",
    "    QuantumCircuit.initialize(qc,string)\n",
    "    #init with Kareljan's state\n",
    "    #qc.unitary(prodstaten(n), range(0,n))\n",
    "    matrix = Ureal(0.1,1,0)\n",
    "    bwassembler_z(qc,matrix,1,n)\n",
    "    #qc = transpile(qc, basis_gates=basis_gates, optimization_level=1)\n",
    "    #######################################################################    \n",
    "    #access density matrix  \n",
    "    rho = DensityMatrix(qc)\n",
    "    reduced_rho=partial_trace(rho, subsystem)\n",
    "    _,s,_=np.linalg.svd(reduced_rho)\n",
    "    print(s)"
   ]
  },
  {
   "cell_type": "code",
   "execution_count": 36,
   "id": "e71a8aa8",
   "metadata": {},
   "outputs": [
    {
     "name": "stdout",
     "output_type": "stream",
     "text": [
      "For f(x) > 25, the corresponding x values are: [3, 5]\n"
     ]
    }
   ],
   "source": [
    "def find_x_for_fx_above_threshold(x_values, fx_values, threshold):\n",
    "    result_x_list = [x for x, fx in zip(x_values, fx_values) if fx > threshold]\n",
    "    return result_x_list\n",
    "\n",
    "# Example usage:\n",
    "x_values = [1, 2, 3, 4, 5]\n",
    "fx_values = [10, 20, 30, 20, 40]\n",
    "\n",
    "threshold_value = 25\n",
    "result_x_above_threshold = find_x_for_fx_above_threshold(x_values, fx_values, threshold_value)\n",
    "\n",
    "if result_x_above_threshold:\n",
    "    print(f\"For f(x) > {threshold_value}, the corresponding x values are: {result_x_above_threshold}\")\n",
    "else:\n",
    "    print(f\"No x values found where f(x) > {threshold_value}.\")\n"
   ]
  },
  {
   "cell_type": "code",
   "execution_count": 41,
   "id": "73baceaa",
   "metadata": {},
   "outputs": [
    {
     "data": {
      "text/plain": [
       "[1.74001,\n",
       " 1.75001,\n",
       " 1.76001,\n",
       " 1.77001,\n",
       " 1.78001,\n",
       " 10.55001,\n",
       " 10.56001,\n",
       " 10.57001,\n",
       " 10.58001,\n",
       " 10.59001,\n",
       " 10.60001,\n",
       " 10.610009999999999,\n",
       " 10.62001,\n",
       " 10.63001,\n",
       " 10.64001,\n",
       " 10.65001]"
      ]
     },
     "execution_count": 41,
     "metadata": {},
     "output_type": "execute_result"
    }
   ],
   "source": [
    "find_x_for_fx_above_threshold(thetas, renyi[0,0], 1.384)"
   ]
  },
  {
   "cell_type": "code",
   "execution_count": 57,
   "id": "1b5daa67",
   "metadata": {
    "collapsed": true
   },
   "outputs": [
    {
     "name": "stderr",
     "output_type": "stream",
     "text": [
      "238it [00:01, 159.47it/s]\n"
     ]
    },
    {
     "ename": "KeyboardInterrupt",
     "evalue": "",
     "output_type": "error",
     "traceback": [
      "\u001b[0;31m---------------------------------------------------------------------------\u001b[0m",
      "\u001b[0;31mKeyboardInterrupt\u001b[0m                         Traceback (most recent call last)",
      "Cell \u001b[0;32mIn[57], line 32\u001b[0m\n\u001b[1;32m     26\u001b[0m bwassembler_z(qc,matrix,layer,n)\n\u001b[1;32m     30\u001b[0m \u001b[38;5;66;03m######################################################################    \u001b[39;00m\n\u001b[1;32m     31\u001b[0m \u001b[38;5;66;03m#access density matrix  \u001b[39;00m\n\u001b[0;32m---> 32\u001b[0m rho \u001b[38;5;241m=\u001b[39m \u001b[43mDensityMatrix\u001b[49m\u001b[43m(\u001b[49m\u001b[43mqc\u001b[49m\u001b[43m)\u001b[49m\n\u001b[1;32m     33\u001b[0m reduced_rho\u001b[38;5;241m=\u001b[39mpartial_trace(rho, subsystem)\n\u001b[1;32m     35\u001b[0m \u001b[38;5;66;03m#find the eigenvalues of the reduced density matrix\u001b[39;00m\n",
      "File \u001b[0;32m~/anaconda3/envs/qusim/lib/python3.10/site-packages/qiskit/quantum_info/states/densitymatrix.py:84\u001b[0m, in \u001b[0;36mDensityMatrix.__init__\u001b[0;34m(self, data, dims)\u001b[0m\n\u001b[1;32m     80\u001b[0m     \u001b[38;5;28mself\u001b[39m\u001b[38;5;241m.\u001b[39m_data \u001b[38;5;241m=\u001b[39m np\u001b[38;5;241m.\u001b[39masarray(data, dtype\u001b[38;5;241m=\u001b[39m\u001b[38;5;28mcomplex\u001b[39m)\n\u001b[1;32m     81\u001b[0m \u001b[38;5;28;01melif\u001b[39;00m \u001b[38;5;28misinstance\u001b[39m(data, (QuantumCircuit, Instruction)):\n\u001b[1;32m     82\u001b[0m     \u001b[38;5;66;03m# If the data is a circuit or an instruction use the classmethod\u001b[39;00m\n\u001b[1;32m     83\u001b[0m     \u001b[38;5;66;03m# to construct the DensityMatrix object\u001b[39;00m\n\u001b[0;32m---> 84\u001b[0m     \u001b[38;5;28mself\u001b[39m\u001b[38;5;241m.\u001b[39m_data \u001b[38;5;241m=\u001b[39m \u001b[43mDensityMatrix\u001b[49m\u001b[38;5;241;43m.\u001b[39;49m\u001b[43mfrom_instruction\u001b[49m\u001b[43m(\u001b[49m\u001b[43mdata\u001b[49m\u001b[43m)\u001b[49m\u001b[38;5;241m.\u001b[39m_data\n\u001b[1;32m     85\u001b[0m \u001b[38;5;28;01melif\u001b[39;00m \u001b[38;5;28mhasattr\u001b[39m(data, \u001b[38;5;124m\"\u001b[39m\u001b[38;5;124mto_operator\u001b[39m\u001b[38;5;124m\"\u001b[39m):\n\u001b[1;32m     86\u001b[0m     \u001b[38;5;66;03m# If the data object has a 'to_operator' attribute this is given\u001b[39;00m\n\u001b[1;32m     87\u001b[0m     \u001b[38;5;66;03m# higher preference than the 'to_matrix' method for initializing\u001b[39;00m\n\u001b[1;32m     88\u001b[0m     \u001b[38;5;66;03m# an Operator object.\u001b[39;00m\n\u001b[1;32m     89\u001b[0m     op \u001b[38;5;241m=\u001b[39m data\u001b[38;5;241m.\u001b[39mto_operator()\n",
      "File \u001b[0;32m~/anaconda3/envs/qusim/lib/python3.10/site-packages/qiskit/quantum_info/states/densitymatrix.py:628\u001b[0m, in \u001b[0;36mDensityMatrix.from_instruction\u001b[0;34m(cls, instruction)\u001b[0m\n\u001b[1;32m    626\u001b[0m init[\u001b[38;5;241m0\u001b[39m, \u001b[38;5;241m0\u001b[39m] \u001b[38;5;241m=\u001b[39m \u001b[38;5;241m1\u001b[39m\n\u001b[1;32m    627\u001b[0m vec \u001b[38;5;241m=\u001b[39m DensityMatrix(init, dims\u001b[38;5;241m=\u001b[39mnum_qubits \u001b[38;5;241m*\u001b[39m (\u001b[38;5;241m2\u001b[39m,))\n\u001b[0;32m--> 628\u001b[0m \u001b[43mvec\u001b[49m\u001b[38;5;241;43m.\u001b[39;49m\u001b[43m_append_instruction\u001b[49m\u001b[43m(\u001b[49m\u001b[43minstruction\u001b[49m\u001b[43m)\u001b[49m\n\u001b[1;32m    629\u001b[0m \u001b[38;5;28;01mreturn\u001b[39;00m vec\n",
      "File \u001b[0;32m~/anaconda3/envs/qusim/lib/python3.10/site-packages/qiskit/quantum_info/states/densitymatrix.py:789\u001b[0m, in \u001b[0;36mDensityMatrix._append_instruction\u001b[0;34m(self, other, qargs)\u001b[0m\n\u001b[1;32m    787\u001b[0m \u001b[38;5;28;01melse\u001b[39;00m:\n\u001b[1;32m    788\u001b[0m     new_qargs \u001b[38;5;241m=\u001b[39m [qargs[qubit_indices[tup]] \u001b[38;5;28;01mfor\u001b[39;00m tup \u001b[38;5;129;01min\u001b[39;00m instruction\u001b[38;5;241m.\u001b[39mqubits]\n\u001b[0;32m--> 789\u001b[0m \u001b[38;5;28;43mself\u001b[39;49m\u001b[38;5;241;43m.\u001b[39;49m\u001b[43m_append_instruction\u001b[49m\u001b[43m(\u001b[49m\u001b[43minstruction\u001b[49m\u001b[38;5;241;43m.\u001b[39;49m\u001b[43moperation\u001b[49m\u001b[43m,\u001b[49m\u001b[43m \u001b[49m\u001b[43mqargs\u001b[49m\u001b[38;5;241;43m=\u001b[39;49m\u001b[43mnew_qargs\u001b[49m\u001b[43m)\u001b[49m\n",
      "File \u001b[0;32m~/anaconda3/envs/qusim/lib/python3.10/site-packages/qiskit/quantum_info/states/densitymatrix.py:751\u001b[0m, in \u001b[0;36mDensityMatrix._append_instruction\u001b[0;34m(self, other, qargs)\u001b[0m\n\u001b[1;32m    749\u001b[0m mat \u001b[38;5;241m=\u001b[39m Operator\u001b[38;5;241m.\u001b[39m_instruction_to_matrix(other)\n\u001b[1;32m    750\u001b[0m \u001b[38;5;28;01mif\u001b[39;00m mat \u001b[38;5;129;01mis\u001b[39;00m \u001b[38;5;129;01mnot\u001b[39;00m \u001b[38;5;28;01mNone\u001b[39;00m:\n\u001b[0;32m--> 751\u001b[0m     \u001b[38;5;28mself\u001b[39m\u001b[38;5;241m.\u001b[39m_data \u001b[38;5;241m=\u001b[39m \u001b[38;5;28;43mself\u001b[39;49m\u001b[38;5;241;43m.\u001b[39;49m\u001b[43m_evolve_operator\u001b[49m\u001b[43m(\u001b[49m\u001b[43mOperator\u001b[49m\u001b[43m(\u001b[49m\u001b[43mmat\u001b[49m\u001b[43m)\u001b[49m\u001b[43m,\u001b[49m\u001b[43m \u001b[49m\u001b[43mqargs\u001b[49m\u001b[38;5;241;43m=\u001b[39;49m\u001b[43mqargs\u001b[49m\u001b[43m)\u001b[49m\u001b[38;5;241m.\u001b[39mdata\n\u001b[1;32m    752\u001b[0m     \u001b[38;5;28;01mreturn\u001b[39;00m\n\u001b[1;32m    754\u001b[0m \u001b[38;5;66;03m# Special instruction types\u001b[39;00m\n",
      "File \u001b[0;32m~/anaconda3/envs/qusim/lib/python3.10/site-packages/qiskit/quantum_info/states/densitymatrix.py:733\u001b[0m, in \u001b[0;36mDensityMatrix._evolve_operator\u001b[0;34m(self, other, qargs)\u001b[0m\n\u001b[1;32m    731\u001b[0m \u001b[38;5;66;03m# Left multiple by mat\u001b[39;00m\n\u001b[1;32m    732\u001b[0m mat \u001b[38;5;241m=\u001b[39m np\u001b[38;5;241m.\u001b[39mreshape(other\u001b[38;5;241m.\u001b[39mdata, other\u001b[38;5;241m.\u001b[39m_op_shape\u001b[38;5;241m.\u001b[39mtensor_shape)\n\u001b[0;32m--> 733\u001b[0m tensor \u001b[38;5;241m=\u001b[39m \u001b[43mOperator\u001b[49m\u001b[38;5;241;43m.\u001b[39;49m\u001b[43m_einsum_matmul\u001b[49m\u001b[43m(\u001b[49m\u001b[43mtensor\u001b[49m\u001b[43m,\u001b[49m\u001b[43m \u001b[49m\u001b[43mmat\u001b[49m\u001b[43m,\u001b[49m\u001b[43m \u001b[49m\u001b[43mindices\u001b[49m\u001b[43m)\u001b[49m\n\u001b[1;32m    734\u001b[0m \u001b[38;5;66;03m# Right multiply by mat ** dagger\u001b[39;00m\n\u001b[1;32m    735\u001b[0m adj \u001b[38;5;241m=\u001b[39m other\u001b[38;5;241m.\u001b[39madjoint()\n",
      "File \u001b[0;32m~/anaconda3/envs/qusim/lib/python3.10/site-packages/qiskit/quantum_info/operators/operator.py:618\u001b[0m, in \u001b[0;36mOperator._einsum_matmul\u001b[0;34m(cls, tensor, mat, indices, shift, right_mul)\u001b[0m\n\u001b[1;32m    616\u001b[0m \u001b[38;5;28;01melse\u001b[39;00m:\n\u001b[1;32m    617\u001b[0m     indices_mat \u001b[38;5;241m=\u001b[39m mat_free \u001b[38;5;241m+\u001b[39m mat_contract\n\u001b[0;32m--> 618\u001b[0m \u001b[38;5;28;01mreturn\u001b[39;00m \u001b[43mnp\u001b[49m\u001b[38;5;241;43m.\u001b[39;49m\u001b[43meinsum\u001b[49m\u001b[43m(\u001b[49m\u001b[43mtensor\u001b[49m\u001b[43m,\u001b[49m\u001b[43m \u001b[49m\u001b[43mindices_tensor\u001b[49m\u001b[43m,\u001b[49m\u001b[43m \u001b[49m\u001b[43mmat\u001b[49m\u001b[43m,\u001b[49m\u001b[43m \u001b[49m\u001b[43mindices_mat\u001b[49m\u001b[43m)\u001b[49m\n",
      "File \u001b[0;32m<__array_function__ internals>:200\u001b[0m, in \u001b[0;36meinsum\u001b[0;34m(*args, **kwargs)\u001b[0m\n",
      "File \u001b[0;32m~/.local/lib/python3.10/site-packages/numpy/core/einsumfunc.py:1371\u001b[0m, in \u001b[0;36meinsum\u001b[0;34m(out, optimize, *operands, **kwargs)\u001b[0m\n\u001b[1;32m   1369\u001b[0m     \u001b[38;5;28;01mif\u001b[39;00m specified_out:\n\u001b[1;32m   1370\u001b[0m         kwargs[\u001b[38;5;124m'\u001b[39m\u001b[38;5;124mout\u001b[39m\u001b[38;5;124m'\u001b[39m] \u001b[38;5;241m=\u001b[39m out\n\u001b[0;32m-> 1371\u001b[0m     \u001b[38;5;28;01mreturn\u001b[39;00m \u001b[43mc_einsum\u001b[49m\u001b[43m(\u001b[49m\u001b[38;5;241;43m*\u001b[39;49m\u001b[43moperands\u001b[49m\u001b[43m,\u001b[49m\u001b[43m \u001b[49m\u001b[38;5;241;43m*\u001b[39;49m\u001b[38;5;241;43m*\u001b[39;49m\u001b[43mkwargs\u001b[49m\u001b[43m)\u001b[49m\n\u001b[1;32m   1373\u001b[0m \u001b[38;5;66;03m# Check the kwargs to avoid a more cryptic error later, without having to\u001b[39;00m\n\u001b[1;32m   1374\u001b[0m \u001b[38;5;66;03m# repeat default values here\u001b[39;00m\n\u001b[1;32m   1375\u001b[0m valid_einsum_kwargs \u001b[38;5;241m=\u001b[39m [\u001b[38;5;124m'\u001b[39m\u001b[38;5;124mdtype\u001b[39m\u001b[38;5;124m'\u001b[39m, \u001b[38;5;124m'\u001b[39m\u001b[38;5;124morder\u001b[39m\u001b[38;5;124m'\u001b[39m, \u001b[38;5;124m'\u001b[39m\u001b[38;5;124mcasting\u001b[39m\u001b[38;5;124m'\u001b[39m]\n",
      "\u001b[0;31mKeyboardInterrupt\u001b[0m: "
     ]
    }
   ],
   "source": [
    "#BIPARTITION, TROTTERIZATION\n",
    "\n",
    "\n",
    "#Circuit parameters\n",
    "n=4;\n",
    "A=1;G=0;\n",
    "theta0=0.1\n",
    "\n",
    "thetas= np.arange(0.0001,100,0.1)    \n",
    "ent_entropy = np.zeros((len(thetas)), dtype=complex)\n",
    "renyi = np.zeros((len(thetas)), dtype=complex)\n",
    "subsystem = [j for j in range(0,n//2)]\n",
    "eigvalsrho = np.zeros((len(thetas),n),dtype=complex)\n",
    "layer = 10\n",
    "\n",
    "for k,theta in tqdm(enumerate(thetas)):\n",
    "    \n",
    "    string = \"0\" * (n)\n",
    "    qc = QuantumCircuit(n)\n",
    "    QuantumCircuit.initialize(qc,string)\n",
    "    #init with Kareljan's state\n",
    "    #qc.unitary(prodstaten(n), range(0,n))\n",
    "     #round(theta/theta0)\n",
    "    #print('layer=',layer,'theta=',theta)\n",
    "    matrix = Ureal(A,theta/layer,G)\n",
    "    bwassembler_z(qc,matrix,layer,n)\n",
    "   \n",
    "\n",
    "    \n",
    "    ######################################################################    \n",
    "    #access density matrix  \n",
    "    rho = DensityMatrix(qc)\n",
    "    reduced_rho=partial_trace(rho, subsystem)\n",
    "    \n",
    "    #find the eigenvalues of the reduced density matrix\n",
    "    eigenvalues, _ = np.linalg.eig(reduced_rho)\n",
    "    order = eigenvalues.argsort()\n",
    "    eigenvalues = eigenvalues[order]\n",
    "    eigvalsrho[k,:]= eigenvalues\n",
    "    #compute the entanglement entropy\n",
    "    entanglement_entropy = -np.sum(eigenvalues * np.log(eigenvalues))\n",
    "    renyi[k]=-np.log(DensityMatrix.purity(reduced_rho))\n",
    "    ent_entropy[k]=entanglement_entropy\n",
    "    #print(k,ent_entropy[k])\n",
    "    ######################################################################\n",
    "        "
   ]
  },
  {
   "cell_type": "code",
   "execution_count": null,
   "id": "a3ddd057",
   "metadata": {},
   "outputs": [],
   "source": [
    "#from itertools import cycle\n",
    "#colormap1 = plt.cm.cool\n",
    "#color_cycle1 = cycle(colormap1(np.linspace(0, 1, len(steps))))\n",
    "#colormap2 = plt.cm.spring\n",
    "#color_cycle2 = cycle(colormap2(np.linspace(0, 1, len(steps))))\n",
    "#leng= np.array([2,3,4],dtype=int)\n",
    "\n",
    "\n",
    "#for j,step in enumerate(steps):\n",
    "#    print(j)\n",
    "#    color1 = next(color_cycle1)\n",
    "#    plt.plot( ent_entropy[j],'-o', c=color1,label='EE 4, Trotter step ='+str(step))\n",
    "#    color2 = next(color_cycle2)\n",
    "#    #plt.plot(thetas, renyi[j],'-x', c=color2,label='RE 4, step ='+str(step))\n",
    "plt.plot(thetas,ent_entropy,'-o', c=color1)   \n",
    "#plt.plot(thetas,eigvalsrho,'-.', c='m')    \n",
    "plt.title('EE N='+str(n)+', A='+str(A)+' G='+str(G)+ r'  $[U(\\frac{\\theta}{n})]^n$')\n",
    "plt.axhline(y=2*np.log(2), linestyle='--')\n",
    "plt.axhline(y=np.log(2), linestyle='--')\n",
    "plt.axhline(y=3*np.log(2), linestyle='--')\n",
    "plt.axhline(y=4*np.log(2), linestyle='--')\n",
    "#plt.axhline(y=0, linestyle='-.')\n",
    "plt.xlabel(r'$\\theta$')\n",
    "plt.ylabel(\"EE\")\n",
    "#plt.xlim(0,1)\n",
    "plt.ylim(0,1.5)\n",
    "plt.legend()   "
   ]
  },
  {
   "cell_type": "code",
   "execution_count": null,
   "id": "25829be6",
   "metadata": {},
   "outputs": [],
   "source": [
    "#saving data\n",
    "with open('tau='+str(tau)+' h='+str(h)+' J='+str(J)+' n='+str(n)+' init: '+str(string), 'wb') as file:\n",
    "      \n",
    "    # A new file will be created\n",
    "    pickle.dump(ent_entropy, file)"
   ]
  },
  {
   "cell_type": "code",
   "execution_count": null,
   "id": "23d038f7",
   "metadata": {},
   "outputs": [],
   "source": [
    "#loading data\n",
    "with open('tau='+str(tau)+' h='+str(h)+' J='+str(J)+' n=10', 'rb') as file:\n",
    "    loaded_data = pickle.load(file)"
   ]
  },
  {
   "cell_type": "code",
   "execution_count": null,
   "id": "a4a58d7f",
   "metadata": {
    "scrolled": false
   },
   "outputs": [],
   "source": [
    "qc = QuantumCircuit(4)\n",
    "matrix=U(7,1.3,-1)\n",
    "bwassembler_z(qc,matrix,1,4)\n",
    "#qc = transpile(qc, basis_gates=basis_gates, optimization_level=2)\n",
    "qc.draw(output='mpl',style={'displaycolor':dispcolors}, filename='my_circuit.pdf')\n",
    "#we can save ourselves by KjS trick which requires knowledge of the initial state"
   ]
  },
  {
   "cell_type": "code",
   "execution_count": null,
   "id": "2704c16f",
   "metadata": {},
   "outputs": [],
   "source": [
    "qc = QuantumCircuit(4)\n",
    "matrix=U(1,1,1)\n",
    "bwassembler_z(qc,matrix,1,4)\n",
    "\n",
    "rho = DensityMatrix.from_instruction(qc)\n",
    "rho1 = DensityMatrix(qc)\n",
    "reduced_rho=partial_trace(rho, subsystem)\n",
    "print(reduced_rho)"
   ]
  },
  {
   "cell_type": "code",
   "execution_count": null,
   "id": "4e30954a",
   "metadata": {},
   "outputs": [],
   "source": [
    "reduced_rho=partial_trace(rho, qargs=subsystem)\n",
    "\n",
    "#find the eigenvalues of the reduced density matrix\n",
    "eigenvalues,_ = np.linalg.eig(reduced_rho)\n",
    "       \n",
    "#find the eigenvalues of the reduced density matrix\n",
    "eigenvalues, _ = np.linalg.eig(reduced_rho)\n",
    "order = eigenvalues.argsort()\n",
    "eigenvalues = eigenvalues[order]\n",
    "\n",
    "##compute the entanglement entropy\n",
    "\n",
    "#qc = transpile(qc, basis_gates=basis_gates, optimization_level=1)\n",
    "#qc.draw(output='mpl',style={'displaycolor':dispcolors}, filename='my_circuit.pdf')\n",
    "print(reduced_rho)"
   ]
  },
  {
   "cell_type": "code",
   "execution_count": null,
   "id": "5eee2fc7",
   "metadata": {},
   "outputs": [],
   "source": [
    "from qiskit.quantum_info import Statevector\n",
    "\n",
    "# Set the initial state of the simulator to the ground state using from_int\n",
    "state = Statevector.from_int(0, 2**n)\n",
    "\n",
    "# Evolve the state by the quantum circuit\n",
    "state = state.evolve(qc)\n",
    "state = state.evolve(qc.inverse())\n",
    "\n",
    "#draw using latex\n",
    "state.draw('latex')\n",
    "\n",
    "#Alternative way of representing in latex\n",
    "#array_to_latex(state)\n",
    "\n"
   ]
  },
  {
   "cell_type": "code",
   "execution_count": null,
   "id": "eae64444",
   "metadata": {},
   "outputs": [],
   "source": [
    "#BIPARTITION, varying layers per datapoint - ZZ update\n",
    "\n",
    "\n",
    "#Circuit parameters\n",
    "n=4;A=1;G=1;\n",
    "\n",
    "#Define arrays\n",
    " \n",
    "thetas= np.arange(1e-5,20,0.1)\n",
    "layers = [1,2,5]\n",
    "ent_entropy = np.zeros((len(layers),len(thetas)),dtype=complex)\n",
    "renyi = np.zeros((len(layers),len(thetas)),dtype=complex)\n",
    "eigvalsrho = np.zeros((len(layers),len(thetas),(2**(n//2))),dtype=complex)\n",
    "subsystem = [j for j in range(0,n//2)]\n",
    "basis_gates=['cx', 'id', 'rz', 'x', 'sx']\n",
    "print(subsystem)\n",
    "\n",
    "for m,layer in enumerate(layers):\n",
    "    print(layer)\n",
    "    for k,theta in tqdm(enumerate(thetas)):    \n",
    "        \n",
    "        string = \"0\" * (n)\n",
    "        qc = QuantumCircuit(n)\n",
    "        #QuantumCircuit.initialize(qc,string)\n",
    "        \n",
    "        #init with Kareljan's state\n",
    "        qc.unitary(prodstaten(n), range(0,n))\n",
    "\n",
    "        #print('theta=',T)\n",
    "        #print('layers=',layer)\n",
    "        #matrix = U(A,theta,G)\n",
    "        #try other matrix\n",
    "        matrix = U(A,theta,G)\n",
    "        bwassembler_z(qc,matrix,layer,n)\n",
    "        #qc = transpile(qc, basis_gates=basis_gates, optimization_level=1)\n",
    "        \n",
    "        \n",
    "        #######################################################################    \n",
    "        #access density matrix  \n",
    "        rho = DensityMatrix(qc)\n",
    "        reduced_rho=partial_trace(rho, subsystem)\n",
    "        \n",
    "        #find the eigenvalues of the reduced density matrix\n",
    "        eigenvalues,_ = np.linalg.eig(reduced_rho)\n",
    "       #\n",
    "        #compute the entanglement entropy\n",
    "        \n",
    "        order = eigenvalues.argsort()\n",
    "        eigenvalues = eigenvalues[order]\n",
    "        eigvalsrho[m,k,:]= eigenvalues\n",
    "        entanglement_entropy = -np.sum(eigenvalues * np.log(eigenvalues))\n",
    "        renyi[m,k]=-np.log(DensityMatrix.purity(reduced_rho))\n",
    "        ent_entropy[m,k]=entanglement_entropy\n",
    "        #print(k,ent_entropy[k])\n",
    "        ######################################################################\n",
    "            "
   ]
  },
  {
   "cell_type": "code",
   "execution_count": null,
   "id": "86511c16",
   "metadata": {},
   "outputs": [],
   "source": [
    "qc = QuantumCircuit(4)\n",
    "matrix=U(7,2.7,-1)\n",
    "bwassembler_z(qc,matrix,2,4)\n",
    "rho = DensityMatrix(qc)\n",
    "rhoa = partial_trace(rho, [0,1])\n",
    "eigenvalues,_ = np.linalg.eig(rhoa)\n",
    "entanglement_entropy = -np.sum(eigenvalues * np.log(eigenvalues))"
   ]
  },
  {
   "cell_type": "code",
   "execution_count": null,
   "id": "7f1304ba",
   "metadata": {},
   "outputs": [],
   "source": [
    "print(entanglement_entropy)"
   ]
  },
  {
   "cell_type": "code",
   "execution_count": null,
   "id": "badad7bd",
   "metadata": {},
   "outputs": [],
   "source": [
    "BW = op.data"
   ]
  },
  {
   "cell_type": "code",
   "execution_count": null,
   "id": "863e6d4e",
   "metadata": {},
   "outputs": [],
   "source": [
    "print(Ureal(7,1.3,-1))"
   ]
  },
  {
   "cell_type": "code",
   "execution_count": null,
   "id": "bca230b4",
   "metadata": {},
   "outputs": [],
   "source": []
  }
 ],
 "metadata": {
  "kernelspec": {
   "display_name": "Python 3 (ipykernel)",
   "language": "python",
   "name": "python3"
  },
  "language_info": {
   "codemirror_mode": {
    "name": "ipython",
    "version": 3
   },
   "file_extension": ".py",
   "mimetype": "text/x-python",
   "name": "python",
   "nbconvert_exporter": "python",
   "pygments_lexer": "ipython3",
   "version": "3.10.9"
  }
 },
 "nbformat": 4,
 "nbformat_minor": 5
}
