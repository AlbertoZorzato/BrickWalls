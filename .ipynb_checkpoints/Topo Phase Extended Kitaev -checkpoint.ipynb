{
 "cells": [
  {
   "cell_type": "code",
   "execution_count": 1,
   "id": "b5e9adeb",
   "metadata": {},
   "outputs": [],
   "source": [
    "import numpy as np \n",
    "import matplotlib.pyplot as plt \n",
    "import matplotlib.patches as mpatches\n",
    "import matplotlib.colors as colors\n",
    "import scipy.sparse.linalg as sla\n",
    "from scipy.linalg import eig\n",
    "from tqdm import tqdm\n",
    "import pickle \n"
   ]
  },
  {
   "cell_type": "code",
   "execution_count": 92,
   "id": "d5d45bf3",
   "metadata": {
    "slideshow": {
     "slide_type": "-"
    }
   },
   "outputs": [],
   "source": [
    "#define z and w \n",
    "\n",
    "def z(k,t,e,t3):\n",
    "    z=-t*(1+e)-t*(1-e)*np.exp(-1j*k)+t3*np.exp(1j*k)\n",
    "    return(z)\n",
    "#removed d3 dependence because it's fixed to 0\n",
    "def w(k,d,e):\n",
    "    w=-d*(1+e)+d*(1-e)*np.exp(-1j*k)\n",
    "    return(w)"
   ]
  },
  {
   "cell_type": "code",
   "execution_count": 93,
   "id": "393f16cb",
   "metadata": {},
   "outputs": [],
   "source": [
    "#Define Hamiltonian\n",
    "\n",
    "def H(k,t,e,t3,d,m):\n",
    "    \n",
    "    \n",
    "    H = np.zeros((4,4), dtype=complex)\n",
    "    H[0,0]=-m\n",
    "    H[0,1]=z(k,t,e,t3)\n",
    "    H[0,2]=0\n",
    "    H[0,3]=w(k,d,e)\n",
    "    H[1,0]=np.conj(z(k,t,e,t3))\n",
    "    H[1,1]=-m\n",
    "    H[1,2]=-np.conj(w(k,d,e))\n",
    "    H[1,3]=0\n",
    "    H[2,0]=0\n",
    "    H[2,1]=-w(k,d,e)\n",
    "    H[2,2]=m\n",
    "    H[2,3]=-z(k,t,e,t3)\n",
    "    H[3,0]=np.conj(w(k,d,e))\n",
    "    H[3,1]=0\n",
    "    H[3,2]=-np.conj(z(k,t,e,t3))\n",
    "    H[3,3]=m\n",
    "    \n",
    "    return(H)"
   ]
  },
  {
   "cell_type": "code",
   "execution_count": 4,
   "id": "ee317f76",
   "metadata": {},
   "outputs": [
    {
     "name": "stdout",
     "output_type": "stream",
     "text": [
      "[[0 0 1 0]\n",
      " [0 0 0 1]\n",
      " [1 0 0 0]\n",
      " [0 1 0 0]]\n"
     ]
    }
   ],
   "source": [
    "#symmetry operator\n",
    "id=np.array([[1,0],[0,1]])\n",
    "sigma_x=np.array([[0,1],[1,0]])\n",
    "\n",
    "C2= np.kron(sigma_x,id)\n",
    "print(C2)"
   ]
  },
  {
   "cell_type": "code",
   "execution_count": 5,
   "id": "417d9e57",
   "metadata": {},
   "outputs": [
    {
     "data": {
      "text/plain": [
       "array([[0.+0.j, 0.+0.j, 0.+0.j, 0.+0.j],\n",
       "       [0.+0.j, 0.+0.j, 0.+0.j, 0.+0.j],\n",
       "       [0.+0.j, 0.+0.j, 0.+0.j, 0.+0.j],\n",
       "       [0.+0.j, 0.+0.j, 0.+0.j, 0.+0.j]])"
      ]
     },
     "execution_count": 5,
     "metadata": {},
     "output_type": "execute_result"
    }
   ],
   "source": [
    "#check commutation, we discover that differently from what they say in paper it's actually sigma_x\\bigo\\id\n",
    "C2@np.conj(H(1,1,1,1,1,1))@C2+H(-1,1,1,1,1,1)"
   ]
  },
  {
   "cell_type": "code",
   "execution_count": 98,
   "id": "c121a643",
   "metadata": {},
   "outputs": [
    {
     "name": "stderr",
     "output_type": "stream",
     "text": [
      "  0%|                                                                                            | 0/20 [00:00<?, ?it/s]\n"
     ]
    },
    {
     "ename": "NameError",
     "evalue": "name 'a' is not defined",
     "output_type": "error",
     "traceback": [
      "\u001b[0;31m---------------------------------------------------------------------------\u001b[0m",
      "\u001b[0;31mNameError\u001b[0m                                 Traceback (most recent call last)",
      "Cell \u001b[0;32mIn[98], line 25\u001b[0m\n\u001b[1;32m     22\u001b[0m \u001b[38;5;28;01mfor\u001b[39;00m i,k \u001b[38;5;129;01min\u001b[39;00m \u001b[38;5;28menumerate\u001b[39m(k_range):\n\u001b[1;32m     24\u001b[0m     \u001b[38;5;28;01mif\u001b[39;00m np\u001b[38;5;241m.\u001b[39mlinalg\u001b[38;5;241m.\u001b[39mcond(H(k,\u001b[38;5;241m1\u001b[39m,e,t3,\u001b[38;5;241m0.2\u001b[39m,\u001b[38;5;241m0\u001b[39m))\u001b[38;5;241m>\u001b[39mth:\n\u001b[0;32m---> 25\u001b[0m         \u001b[38;5;28mprint\u001b[39m(np\u001b[38;5;241m.\u001b[39mlinalg\u001b[38;5;241m.\u001b[39mcond(H(k,\u001b[38;5;241m1\u001b[39m,e,t3,\u001b[38;5;241m0.2\u001b[39m,\u001b[38;5;241m0\u001b[39m)),\u001b[43ma\u001b[49m,g)\n\u001b[1;32m     26\u001b[0m     \u001b[38;5;28;01melse\u001b[39;00m:\n\u001b[1;32m     27\u001b[0m         \u001b[38;5;28;01mcontinue\u001b[39;00m \n",
      "\u001b[0;31mNameError\u001b[0m: name 'a' is not defined"
     ]
    }
   ],
   "source": [
    "#WORKING ONE \n",
    "\n",
    "\n",
    "#original formula on H(k,t,e,t3,d,m), looping over e and t3\n",
    "\n",
    "#parameters definition H(k,1,e,t3,0.2,0)\n",
    "par_res=0.1\n",
    "k_res=0.001\n",
    "e_range = np.arange(-.99, 0.99, par_res)\n",
    "t_range = np.arange(-3, 3, par_res)\n",
    "k_range = np.arange(-np.pi, np.pi, k_res)\n",
    "\n",
    "\n",
    "A_kit = np.zeros((len(e_range),len(t_range)), dtype='c16')\n",
    "\n",
    "for m,e in enumerate(tqdm(e_range)):\n",
    "    \n",
    "    for n,t3 in enumerate(t_range):\n",
    "        \n",
    "        v=np.zeros(len(k_range),dtype='c16')\n",
    "        \n",
    "        for i,k in enumerate(k_range):\n",
    "            \n",
    "            \n",
    "            inv = (np.linalg.inv(H(k,1,e,t3,0.2,0)))\n",
    "            der = (1/(k_res))*(H(k+(k_res/2),1,e,t3,0.2,0)-H(k-(k_res/2),1,e,t3,0.2,0))\n",
    "            temp = (C2@inv@der)\n",
    "            v[i]= np.trace(temp)\n",
    "           \n",
    "        v_tot=(k_res)*(1/(4*np.pi*1j))*np.sum(v,axis=0) \n",
    "   \n",
    "        A_kit[m,n]=v_tot"
   ]
  },
  {
   "cell_type": "code",
   "execution_count": 42,
   "id": "10f22633",
   "metadata": {},
   "outputs": [
    {
     "name": "stdout",
     "output_type": "stream",
     "text": [
      "1.8975528211567236\n"
     ]
    }
   ],
   "source": [
    "singular_values = np.linalg.svd(H(1,1,0.2,1,0.2,0), compute_uv=False)\n",
    "\n",
    "# The operator norm is the largest singular value\n",
    "operator_norm = max(singular_values)\n",
    "print(operator_norm)"
   ]
  },
  {
   "cell_type": "code",
   "execution_count": 57,
   "id": "b7937fe5",
   "metadata": {},
   "outputs": [
    {
     "name": "stderr",
     "output_type": "stream",
     "text": [
      "100%|███████████████████████████████████████████████████████████████████████████████████| 10/10 [01:44<00:00, 10.41s/it]\n"
     ]
    }
   ],
   "source": [
    "par_res=0.2\n",
    "k_res=0.001\n",
    "e_range = np.arange(-.99, 0.99, par_res)\n",
    "t_range = np.arange(-3, 3, par_res)\n",
    "k_range = np.arange(-np.pi, np.pi, k_res)\n",
    "B = np.zeros((len(e_range),len(t_range)), dtype='c16')\n",
    "\n",
    "\n",
    "for m,e in enumerate(tqdm(e_range)):\n",
    "    \n",
    "    for n,t3 in enumerate(t_range):\n",
    "        \n",
    "        v=np.zeros(len(k_range),dtype='c16')\n",
    "        \n",
    "        for i,k in enumerate(k_range):\n",
    "            \n",
    "            der1=H(k+k_res,1,e,t3,0.2,0)\n",
    "            der2=H(k-k_res,1,e,t3,0.2,0)\n",
    "            der3=H(k+2*k_res,1,e,t3,0.2,0)\n",
    "            der4=H(k-2*k_res,1,e,t3,0.2,0)\n",
    "            der =(1/(k_res*12))*(-der3+8*der1-8*der2+der4) \n",
    "                \n",
    "            temp = (C2@inv@der)\n",
    "            v[i]= np.trace(temp)\n",
    "            \n",
    "            \n",
    "            #numerical derivative above might be the problem due to singularities \n",
    "            #tried new derivative method with error of order k_res**5\n",
    "           \n",
    "        v_tot=(-1/(2*np.pi*1j))*np.sum(v,axis=0) \n",
    "   \n",
    "        B[m,n]=v_tot"
   ]
  },
  {
   "cell_type": "code",
   "execution_count": 86,
   "id": "cfee7f6a",
   "metadata": {},
   "outputs": [
    {
     "name": "stdout",
     "output_type": "stream",
     "text": [
      "(10, 30) [ 2.0026061 +0.j  0.97362788+0.j  0.99914123+0.j  0.99966904+0.j\n",
      "  0.99982512+0.j -0.99968798-0.j -1.00006817-0.j -1.00004551-0.j\n",
      " -1.00003062-0.j -1.00002026-0.j]\n"
     ]
    }
   ],
   "source": [
    "#check A\n",
    "F = A_kit[A_kit.real>1e-10]\n",
    "print(np.shape(A_kit),A_kit[:,25])"
   ]
  },
  {
   "cell_type": "code",
   "execution_count": 88,
   "id": "f19ecb8b",
   "metadata": {},
   "outputs": [
    {
     "data": {
      "text/plain": [
       "Text(0.5, 0, '$\\\\frac{t_{3}}{t}$')"
      ]
     },
     "execution_count": 88,
     "metadata": {},
     "output_type": "execute_result"
    },
    {
     "data": {
      "image/png": "[encoded data removed]",
      "text/plain": [
       "<Figure size 640x480 with 2 Axes>"
      ]
     },
     "metadata": {},
     "output_type": "display_data"
    }
   ],
   "source": [
    "#boxplot, resolution is bad and parameter resolution is not good also \n",
    "x,y = t_range,e_range          #Transposed for easier unpacking\n",
    "grid=np.real(np.flipud(A_kit))\n",
    "\n",
    "# Create a new figure and add a subplot\n",
    "fig, ax = plt.subplots()\n",
    "\n",
    "\n",
    "cax= plt.imshow(grid, extent=(x.min(), x.max(), y.min(), y.max()), aspect='auto',\n",
    "           interpolation='nearest',cmap='tab10')\n",
    "#,vmin=,vmax=\n",
    "fig.colorbar(cax)\n",
    "#pixel_plot = plt.imshow(\n",
    "#  np.real(data), cmap='twilight', interpolation='none')\n",
    "plt.ylabel(r'$\\eta$')  \n",
    "plt.xlabel(r'$\\frac{t_{3}}{t}$')\n",
    "\n",
    "  "
   ]
  },
  {
   "cell_type": "code",
   "execution_count": 90,
   "id": "98260687",
   "metadata": {},
   "outputs": [
    {
     "name": "stderr",
     "output_type": "stream",
     "text": [
      "  0%|                                                                                        | 0/628319 [00:00<?, ?it/s]\n"
     ]
    },
    {
     "ename": "TypeError",
     "evalue": "'numpy.ndarray' object is not callable",
     "output_type": "error",
     "traceback": [
      "\u001b[0;31m---------------------------------------------------------------------------\u001b[0m",
      "\u001b[0;31mTypeError\u001b[0m                                 Traceback (most recent call last)",
      "Cell \u001b[0;32mIn[90], line 14\u001b[0m\n\u001b[1;32m     11\u001b[0m v\u001b[38;5;241m=\u001b[39mnp\u001b[38;5;241m.\u001b[39mzeros(\u001b[38;5;28mlen\u001b[39m(k_range),dtype\u001b[38;5;241m=\u001b[39m\u001b[38;5;124m'\u001b[39m\u001b[38;5;124mc16\u001b[39m\u001b[38;5;124m'\u001b[39m)\n\u001b[1;32m     13\u001b[0m \u001b[38;5;28;01mfor\u001b[39;00m i,k \u001b[38;5;129;01min\u001b[39;00m \u001b[38;5;28menumerate\u001b[39m(tqdm(k_range)):\n\u001b[0;32m---> 14\u001b[0m     _,w[i]\u001b[38;5;241m=\u001b[39m np\u001b[38;5;241m.\u001b[39mlinalg\u001b[38;5;241m.\u001b[39mslogdet(\u001b[43mH\u001b[49m\u001b[43m(\u001b[49m\u001b[43mk\u001b[49m\u001b[38;5;241;43m+\u001b[39;49m\u001b[43mk_res\u001b[49m\u001b[43m,\u001b[49m\u001b[38;5;241;43m1\u001b[39;49m\u001b[43m,\u001b[49m\u001b[43me\u001b[49m\u001b[43m,\u001b[49m\u001b[43mt3\u001b[49m\u001b[43m,\u001b[49m\u001b[38;5;241;43m0.2\u001b[39;49m\u001b[43m,\u001b[49m\u001b[38;5;241;43m0\u001b[39;49m\u001b[43m)\u001b[49m)\n\u001b[1;32m     15\u001b[0m     _,der1[i]\u001b[38;5;241m=\u001b[39m(np\u001b[38;5;241m.\u001b[39mlinalg\u001b[38;5;241m.\u001b[39mslogdet( H(k\u001b[38;5;241m+\u001b[39mk_res,\u001b[38;5;241m1\u001b[39m,e,t3,\u001b[38;5;241m0.2\u001b[39m,\u001b[38;5;241m0\u001b[39m)))\n\u001b[1;32m     16\u001b[0m     _,der2[i]\u001b[38;5;241m=\u001b[39m(np\u001b[38;5;241m.\u001b[39mlinalg\u001b[38;5;241m.\u001b[39mslogdet( H(k\u001b[38;5;241m-\u001b[39mk_res,\u001b[38;5;241m1\u001b[39m,e,t3,\u001b[38;5;241m0.2\u001b[39m,\u001b[38;5;241m0\u001b[39m)))\n",
      "Cell \u001b[0;32mIn[3], line 10\u001b[0m, in \u001b[0;36mH\u001b[0;34m(k, t, e, t3, d, m)\u001b[0m\n\u001b[1;32m      8\u001b[0m H[\u001b[38;5;241m0\u001b[39m,\u001b[38;5;241m1\u001b[39m]\u001b[38;5;241m=\u001b[39mz(k,t,e,t3)\n\u001b[1;32m      9\u001b[0m H[\u001b[38;5;241m0\u001b[39m,\u001b[38;5;241m2\u001b[39m]\u001b[38;5;241m=\u001b[39m\u001b[38;5;241m0\u001b[39m\n\u001b[0;32m---> 10\u001b[0m H[\u001b[38;5;241m0\u001b[39m,\u001b[38;5;241m3\u001b[39m]\u001b[38;5;241m=\u001b[39m\u001b[43mw\u001b[49m\u001b[43m(\u001b[49m\u001b[43mk\u001b[49m\u001b[43m,\u001b[49m\u001b[43md\u001b[49m\u001b[43m,\u001b[49m\u001b[43me\u001b[49m\u001b[43m)\u001b[49m\n\u001b[1;32m     11\u001b[0m H[\u001b[38;5;241m1\u001b[39m,\u001b[38;5;241m0\u001b[39m]\u001b[38;5;241m=\u001b[39mnp\u001b[38;5;241m.\u001b[39mconj(z(k,t,e,t3))\n\u001b[1;32m     12\u001b[0m H[\u001b[38;5;241m1\u001b[39m,\u001b[38;5;241m1\u001b[39m]\u001b[38;5;241m=\u001b[39m\u001b[38;5;241m-\u001b[39mm\n",
      "\u001b[0;31mTypeError\u001b[0m: 'numpy.ndarray' object is not callable"
     ]
    }
   ],
   "source": [
    "#profile of ln(det(H(k))) and its derivative in BZ\n",
    "k_res=0.00001\n",
    "k_range = np.arange(-np.pi, np.pi, k_res)\n",
    "e=0\n",
    "t3=0\n",
    "der1=np.zeros(len(k_range),dtype='c16')\n",
    "der2=np.zeros(len(k_range),dtype='c16')\n",
    "der3=np.zeros(len(k_range),dtype='c16')\n",
    "der4=np.zeros(len(k_range),dtype='c16')\n",
    "w=np.zeros(len(k_range),dtype='c16')\n",
    "v=np.zeros(len(k_range),dtype='c16')\n",
    "\n",
    "for i,k in enumerate(tqdm(k_range)):\n",
    "    _,w[i]= np.linalg.slogdet(H(k+k_res,1,e,t3,0.2,0))\n",
    "    _,der1[i]=(np.linalg.slogdet( H(k+k_res,1,e,t3,0.2,0)))\n",
    "    _,der2[i]=(np.linalg.slogdet( H(k-k_res,1,e,t3,0.2,0)))\n",
    "    _,der3[i]=(np.linalg.slogdet( H(k+2*k_res,1,e,t3,0.2,0)))\n",
    "    _,der4[i]=(np.linalg.slogdet( H(k-2*k_res,1,e,t3,0.2,0)))\n",
    "            \n",
    "            \n",
    "    v[i]=(1/(k_res*12))*(-der3[i]+8*der1[i]-8*der2[i]+der4[i]) \n",
    "       \n",
    "plt.plot(k_range,w)\n",
    "plt.plot(k_range,v)"
   ]
  },
  {
   "cell_type": "code",
   "execution_count": 82,
   "id": "12cc47f6",
   "metadata": {},
   "outputs": [
    {
     "data": {
      "text/plain": [
       "Text(0.5, 0, '$\\\\frac{t_{3}}{t}$')"
      ]
     },
     "execution_count": 82,
     "metadata": {},
     "output_type": "execute_result"
    },
    {
     "data": {
      "image/png": "[encoded data removed]",
      "text/plain": [
       "<Figure size 640x480 with 2 Axes>"
      ]
     },
     "metadata": {},
     "output_type": "display_data"
    }
   ],
   "source": [
    "#boxplot, resolution is bad and parameter resolution is not good also \n",
    "x,y = t_range,e_range          #Transposed for easier unpacking\n",
    "grid=np.real(np.flipud(loaded_data))\n",
    "\n",
    "# Create a new figure and add a subplot\n",
    "fig, ax = plt.subplots()\n",
    "\n",
    "\n",
    "cax= plt.imshow(grid, extent=(x.min(), x.max(), y.min(), y.max()), aspect='auto',\n",
    "           interpolation='nearest',cmap='tab10')\n",
    "#,vmin=,vmax=\n",
    "fig.colorbar(cax)\n",
    "#pixel_plot = plt.imshow(\n",
    "#  np.real(data), cmap='twilight', interpolation='none')\n",
    "plt.ylabel(r'$\\eta$')  \n",
    "plt.xlabel(r'$\\frac{t_{3}}{t}$')\n",
    "\n",
    "  "
   ]
  },
  {
   "cell_type": "code",
   "execution_count": 89,
   "id": "dcfa08b0",
   "metadata": {},
   "outputs": [],
   "source": [
    "#saving data\n",
    "with open('A_Kitaev_normalmethod_k_res='+str(k_res)+' par_res='+str(par_res)+'.pkl', 'wb') as file:\n",
    "      \n",
    "    # A new file will be created\n",
    "    pickle.dump(A_kit, file)"
   ]
  },
  {
   "cell_type": "code",
   "execution_count": 81,
   "id": "942f90a4",
   "metadata": {},
   "outputs": [],
   "source": [
    "#loading data\n",
    "with open('A_Kitaev_normalmethod_k_res=0.001 par_res=0.2.pkl', 'rb') as file:\n",
    "    loaded_data = pickle.load(file)\n"
   ]
  },
  {
   "cell_type": "code",
   "execution_count": null,
   "id": "85f3f46b",
   "metadata": {},
   "outputs": [],
   "source": [
    "#condition number for H \n",
    "np.linalg.cond(H())"
   ]
  }
 ],
 "metadata": {
  "celltoolbar": "Tags",
  "kernelspec": {
   "display_name": "Python 3 (ipykernel)",
   "language": "python",
   "name": "python3"
  },
  "language_info": {
   "codemirror_mode": {
    "name": "ipython",
    "version": 3
   },
   "file_extension": ".py",
   "mimetype": "text/x-python",
   "name": "python",
   "nbconvert_exporter": "python",
   "pygments_lexer": "ipython3",
   "version": "3.10.9"
  }
 },
 "nbformat": 4,
 "nbformat_minor": 5
}
