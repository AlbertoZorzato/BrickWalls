{
 "cells": [
  {
   "cell_type": "code",
   "execution_count": 1,
   "id": "be4e7c99",
   "metadata": {},
   "outputs": [],
   "source": [
    "from tqdm import tqdm\n",
    "from qiskit import quantum_info\n",
    "import matplotlib.pyplot as plt\n",
    "import numpy as np\n",
    "from qiskit.providers.aer import AerSimulator\n",
    "from qiskit import Aer, execute\n",
    "from qiskit.providers.fake_provider import FakeParis\n",
    "from qiskit import QuantumCircuit, transpile\n",
    "from qiskit.quantum_info import Operator\n",
    "from qiskit.quantum_info import SparsePauliOp\n",
    "from qiskit.circuit import Parameter\n",
    "from qiskit.primitives import Estimator\n",
    "from qiskit_ibm_runtime import Estimator, Session, QiskitRuntimeService, Options, Sampler\n",
    "from scipy import *\n",
    "basis_gates=['cx', 'id', 'rz', 'x', 'sx']"
   ]
  },
  {
   "cell_type": "code",
   "execution_count": null,
   "id": "5566f271",
   "metadata": {},
   "outputs": [],
   "source": [
    "def nu0(a, g):\n",
    "       return ((1/np.cosh(g/2))**(4)*((a**(2) + 4)*np.cosh(g)+a**(2) + 2))/(2*a**2)\n",
    "   \n",
    "\n",
    "\n",
    "\n",
    " \n",
    "def nu1(a, g): \n",
    "    return ((1/np.cosh(g/2))**(4))/(a**2)-2/(np.cosh(g)+1)\n",
    "    \n",
    "\n",
    "\n",
    "\n",
    "\n",
    "def mu0(a, g): \n",
    "    \n",
    "    return (((1/np.cosh(g/2))**(4))/((a**(4))*(np.cosh(g)+1)))*(8*(a**(2)+2)*np.cosh(g)-((a**(2)*(1/np.cosh(g/2))**(8))/(64))*(433-1688*np.cosh(g)+372*np.cosh(2*g)-168*np.cosh(3*g)+8*np.sqrt(2)*np.sqrt(np.cosh(g)+1)*(59*np.cosh(g/2)+33*np.cosh(3*g/2)+3*np.cosh(5*g/2)+np.cosh(7*g/2))+27*np.cosh(4*g)))\n",
    "    \n",
    "\n",
    "def mu1(a, g):\n",
    "    \n",
    "    return -(((1/np.cosh(g/2))**(14))/(128*a**(4)))*(-1024*np.cosh(g/2)**(8)+513*np.sqrt(2)*(a**2)*np.cosh(g/2)*np.sqrt(np.cosh(g)+1)*(a**2)*(-1405+610*np.cosh(g)-877*np.cosh(2*g)+157*np.cosh(3*g)-22*np.cosh(4*g)+np.sqrt(2)*np.sqrt(np.cosh(g)+1)*(193*np.cosh(3*g/2)+60*np.cosh(5*g/2)+np.cosh(7*g/2)+np.cosh(9*g/2))+np.cosh(5*g)))\n"
   ]
  }
 ],
 "metadata": {
  "kernelspec": {
   "display_name": "Python 3 (ipykernel)",
   "language": "python",
   "name": "python3"
  },
  "language_info": {
   "codemirror_mode": {
    "name": "ipython",
    "version": 3
   },
   "file_extension": ".py",
   "mimetype": "text/x-python",
   "name": "python",
   "nbconvert_exporter": "python",
   "pygments_lexer": "ipython3",
   "version": "3.10.9"
  }
 },
 "nbformat": 4,
 "nbformat_minor": 5
}
