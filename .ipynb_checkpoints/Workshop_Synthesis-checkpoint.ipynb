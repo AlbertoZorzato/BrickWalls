{
 "cells": [
  {
   "cell_type": "markdown",
   "id": "eae98892-58da-44d3-8366-668176fdd416",
   "metadata": {},
   "source": [
    "# Workshop: Synthesis"
   ]
  },
  {
   "cell_type": "markdown",
   "id": "73269893-ab7f-412c-bd32-1480da4ab664",
   "metadata": {},
   "source": [
    "In this workshop we will get to know the classiq platform and the advantages in designing algorithms in a functional way. Along the notebook there are code examples. Try to play with the different parameters and see the difference in the resulting circuits. The [User Guide](https://docs.classiq.io/latest/user-guide/) will be helpful. Enjoy."
   ]
  },
  {
   "cell_type": "markdown",
   "id": "004e4655",
   "metadata": {},
   "source": [
    "# Load helper functions"
   ]
  },
  {
   "cell_type": "code",
   "execution_count": null,
   "id": "6ec4328e",
   "metadata": {
    "tags": []
   },
   "outputs": [],
   "source": [
    "import matplotlib.pyplot as plt\n",
    "\n",
    "\n",
    "def print_results(result):\n",
    "    result_items = result.items()\n",
    "    x = [int(single_res[0], 2) for single_res in result_items]\n",
    "    y = [single_res[1] for single_res in result_items]\n",
    "    x_tics = [single_res[0] for single_res in result_items]\n",
    "    plt.xticks(x, labels=x_tics, rotation=60)\n",
    "    # plt.xticks(x,labels=x)\n",
    "    plt.bar(x, y, width=15)\n",
    "\n",
    "\n",
    "def str2num(str):\n",
    "    return int(str[::-1], 2)\n",
    "\n",
    "\n",
    "def parse_arithmetic_results(result, arithmetic_fun: str):\n",
    "    # using int(bits, 2) to convert the results into a decimal number.\n",
    "    # before that we convert the order of the bits.\n",
    "    if arithmetic_fun == \"Adder\":\n",
    "        for tupple in result.keys():\n",
    "            print(str2num(tupple[0]), \"+\", str2num(tupple[1]), \"=\", str2num(tupple[2]))\n",
    "    elif arithmetic_fun == \"Multiplier\":\n",
    "        for tupple in result.keys():\n",
    "            print(str2num(tupple[0]), \"*\", str2num(tupple[1]), \"=\", str2num(tupple[2]))\n",
    "    else:\n",
    "        raise TypeError(\"arithmetic_fun can be only Multiplier or Adder\")"
   ]
  },
  {
   "cell_type": "markdown",
   "id": "7f285e79",
   "metadata": {},
   "source": [
    "## Load the libraries"
   ]
  },
  {
   "cell_type": "code",
   "execution_count": null,
   "id": "c6b8b152",
   "metadata": {},
   "outputs": [],
   "source": [
    "pip install classiq\n"
   ]
  },
  {
   "cell_type": "code",
   "execution_count": null,
   "id": "010b7aae-35ad-4cae-ad86-7f678050f258",
   "metadata": {
    "tags": []
   },
   "outputs": [],
   "source": [
    "import classiq\n",
    "from classiq import Model, RegisterUserInput, execute, show, synthesize, GeneratedCircuit, OptimizationParameter, Constraints\n",
    "from classiq.builtin_functions import Adder, StatePreparation\n",
    "from classiq.builtin_functions.state_preparation import PMF\n",
    "from classiq.execution import ExecutionDetails, ExecutionPreferences"
   ]
  },
  {
   "cell_type": "markdown",
   "id": "d16c4aef-3888-4d53-aea9-0d5fb352a277",
   "metadata": {},
   "source": [
    "# Basic models"
   ]
  },
  {
   "cell_type": "markdown",
   "id": "f10f59df",
   "metadata": {},
   "source": [
    "## State preparation"
   ]
  },
  {
   "cell_type": "markdown",
   "id": "2ebfa2f9",
   "metadata": {},
   "source": [
    "First we will prepare a register of 2 qubits in a desired state"
   ]
  },
  {
   "cell_type": "code",
   "execution_count": null,
   "id": "2b8a554f",
   "metadata": {
    "tags": []
   },
   "outputs": [],
   "source": [
    "model = Model()\n",
    "\n",
    "probs = [0.4, 0.05, 0.2, 0.05, 0.3, 0.0, 0.0, 0.0]\n",
    "sp_params = StatePreparation(\n",
    "    probabilities=probs, error_metric={\"L2\": {\"upper_bound\": 0.01}}\n",
    ")\n",
    "\n",
    "sp1_out = model.StatePreparation(params=sp_params)\n",
    "\n",
    "qprog = synthesize(model.get_model())\n",
    "show(qprog)"
   ]
  },
  {
   "cell_type": "markdown",
   "id": "5d555a60",
   "metadata": {},
   "source": [
    "## Do it yourself\n",
    "\n",
    "Create a circuit which has the following properties:\n",
    "\n",
    "- These amplitudes: [-0.540061731, -0.38575837, -0.23145502, -0.07715167,  0.07715167,\n",
    "    0.23145502,  0.385758371,  0.540061731]\n",
    "- Error Metic L2 of 0.1\n",
    "- Documentation: [Docs](https://docs.classiq.io/latest/user-guide/function-library/builtin-functions/state-preparation/state-preparation/#example-3-amplitudes-preparation)\n",
    "- See the generated circuit\n",
    "\n",
    "<details>\n",
    "<summary> answer</summary>\n",
    "<code>\n",
    "    amp = [-0.540061731, -0.38575837, -0.23145502, -0.07715167,  0.07715167,\n",
    "        0.23145502,  0.385758371,  0.540061731]\n",
    "    params = StatePreparation(\n",
    "            amplitudes=amp,\n",
    "            error_metric={\"L2\": {\"upper_bound\": 0.1}},\n",
    "        )\n",
    "\n",
    "    model = Model()\n",
    "    model.StatePreparation(params)\n",
    "    qprog = synthesize(model.get_model())\n",
    "    show(qprog)\n",
    "</code>\n",
    "\n",
    "</details>"
   ]
  },
  {
   "cell_type": "code",
   "execution_count": null,
   "id": "93916b46",
   "metadata": {
    "tags": []
   },
   "outputs": [],
   "source": [
    "# Your code here"
   ]
  },
  {
   "cell_type": "markdown",
   "id": "caa9ffdf-4c16-4287-8193-cc0cdfbcf32b",
   "metadata": {},
   "source": [
    "## Arithmetic Functions"
   ]
  },
  {
   "cell_type": "markdown",
   "id": "177e2e71-7783-442a-b58e-02a464e39b7e",
   "metadata": {},
   "source": [
    "Arithmetic functions are the basic building block of any computations. In quantum computing, they are essential for building oracles which are contained in many quantum algorithms, such as the Grover search algorithm.\n",
    "\n",
    "However, it is not straightforward how to implement arithmetic functions on qubits. In Classiq's platform, it is possible only to declare the arithmetic function you want to use and construct your computation without going into the gate level.\n",
    "\n",
    "In this tutorial, we will first generate two bell states:"
   ]
  },
  {
   "cell_type": "markdown",
   "id": "dd1dcb6d",
   "metadata": {},
   "source": [
    "$$\\ket{\\psi^{(00)}} = \\frac{1}{\\sqrt{2}}(\\ket{0} + \\ket{3})$$\n",
    "$$\\ket{\\psi^{(01)}} = \\frac{1}{\\sqrt{2}}(\\ket{1} + \\ket{2})$$"
   ]
  },
  {
   "cell_type": "markdown",
   "id": "d007266b-2991-4047-bb86-0ef4f1e3f00a",
   "metadata": {},
   "source": [
    "First, let's create the two bell states using the StatePreparation function to declare the probabilities."
   ]
  },
  {
   "cell_type": "code",
   "execution_count": null,
   "id": "f44cd46d-1716-43f1-b382-9c1f6d5c577f",
   "metadata": {
    "tags": []
   },
   "outputs": [],
   "source": [
    "probs1 = [0.5, 0, 0, 0.5]\n",
    "sp1_params = StatePreparation(\n",
    "    probabilities=probs1, error_metric={\"L2\": {\"upper_bound\": 0.01}}\n",
    ")\n",
    "\n",
    "probs2 = [0, 0.5, 0.5, 0]\n",
    "sp2_params = StatePreparation(\n",
    "    probabilities=probs2, error_metric={\"L2\": {\"upper_bound\": 0.01}}\n",
    ")"
   ]
  },
  {
   "cell_type": "markdown",
   "id": "b57cfc3a-e735-447a-99d6-62712714c57b",
   "metadata": {},
   "source": [
    "The implementation of the quantum computation is in the `ModelDesigner` object, and then we first put into it the state preparation.\n"
   ]
  },
  {
   "cell_type": "code",
   "execution_count": null,
   "id": "edfb4a2b-1c0e-477a-970d-a24fdece4210",
   "metadata": {
    "tags": []
   },
   "outputs": [],
   "source": [
    "model = Model()\n",
    "\n",
    "sp1_out = model.StatePreparation(params=sp1_params)\n",
    "sp2_out = model.StatePreparation(params=sp2_params)"
   ]
  },
  {
   "cell_type": "markdown",
   "id": "717d1927",
   "metadata": {},
   "source": [
    "The Adder parameters can define the registers. For example, which qubits create the state preparations and which qubits contain the output results. It is possible to use the same qubits for both the state preparation and the output qubits, thus reducing the number of qubits, but it is not shown here for simplicity."
   ]
  },
  {
   "cell_type": "code",
   "execution_count": null,
   "id": "41fce427",
   "metadata": {
    "tags": []
   },
   "outputs": [],
   "source": [
    "adder_params = Adder(\n",
    "    left_arg=RegisterUserInput(size=2),\n",
    "    right_arg=RegisterUserInput(size=2),\n",
    "    output_size=3,\n",
    ")\n",
    "\n",
    "adder_out = model.Adder(\n",
    "    adder_params, in_wires={\"left_arg\": sp1_out[\"OUT\"], \"right_arg\": sp2_out[\"OUT\"]}\n",
    ")"
   ]
  },
  {
   "cell_type": "markdown",
   "id": "1b2e8e96-bc37-4beb-8fd2-044315a10a94",
   "metadata": {},
   "source": [
    "We also add a sampling operation to the model and output registers:"
   ]
  },
  {
   "cell_type": "code",
   "execution_count": null,
   "id": "85dcac76-f7d5-4585-9687-21293934583b",
   "metadata": {
    "tags": []
   },
   "outputs": [],
   "source": [
    "model.sample()\n",
    "model.set_outputs(\n",
    "    {\"a\": adder_out[\"left_arg\"], \"b\": adder_out[\"right_arg\"], \"sum\": adder_out[\"sum\"]}\n",
    ")"
   ]
  },
  {
   "cell_type": "markdown",
   "id": "973843c9-bac3-4122-af86-b37c162b2a4e",
   "metadata": {},
   "source": [
    "After we added the `StatePreparation`s and the `Adder` objects to the `ModelDesigner` object, we can synthesize the circuit and see the gate implementation."
   ]
  },
  {
   "cell_type": "code",
   "execution_count": null,
   "id": "9226aa13-10ea-4af4-8707-a91a7ece6e38",
   "metadata": {
    "tags": []
   },
   "outputs": [],
   "source": [
    "qprog = synthesize(model.get_model())\n",
    "show(qprog)"
   ]
  },
  {
   "cell_type": "markdown",
   "id": "8a62827f-60ee-4458-9066-149c24b91cdd",
   "metadata": {},
   "source": [
    "Let's run the quantum circuit localy see the results."
   ]
  },
  {
   "cell_type": "code",
   "execution_count": null,
   "id": "52565f0c-5dbd-4d02-ab98-77a1208cd0a3",
   "metadata": {
    "tags": []
   },
   "outputs": [],
   "source": [
    "res = execute(qprog).result()\n",
    "res = res[0].value\n",
    "\n",
    "print_results(res.counts)"
   ]
  },
  {
   "cell_type": "markdown",
   "id": "1ac21683",
   "metadata": {},
   "source": [
    "Here we want to saperate the information into the different registers, the two prepared states in superposition and the output in the left most register."
   ]
  },
  {
   "cell_type": "code",
   "execution_count": null,
   "id": "83ecad6f",
   "metadata": {
    "tags": []
   },
   "outputs": [],
   "source": [
    "results = ExecutionDetails.parse_obj(res)\n",
    "\n",
    "output_results = results.counts_of_multiple_outputs([\"a\", \"b\", \"sum\"])\n",
    "\n",
    "parse_arithmetic_results(output_results, \"Adder\")"
   ]
  },
  {
   "cell_type": "markdown",
   "id": "c6b27db4",
   "metadata": {},
   "source": [
    "### Execute on cuQuantum\n",
    "\n",
    "We will leverage the cuQuantum framework to execute larger scale quantum programs"
   ]
  },
  {
   "cell_type": "code",
   "execution_count": null,
   "id": "a609f1d6",
   "metadata": {},
   "outputs": [],
   "source": [
    "# Grab the generated circuit\n",
    "generated_circuit = GeneratedCircuit.parse_raw(qprog)\n",
    "\n",
    "#store the reseult in a local file\n",
    "generated_circuit.save_results(filename=\"adder.json\")"
   ]
  },
  {
   "cell_type": "code",
   "execution_count": null,
   "id": "0e839b8e",
   "metadata": {
    "vscode": {
     "languageId": "shellscript"
    }
   },
   "outputs": [],
   "source": [
    "# Execute the circuit on the cluster\n",
    "./JHS_notebooks/run_circuit_on_cuquantum adder.json"
   ]
  },
  {
   "cell_type": "markdown",
   "id": "466b81b8",
   "metadata": {
    "tags": []
   },
   "source": [
    "## Do it your self\n",
    "\n",
    "We have just added multiple number together, using the same method let's now also multiply things together.\n",
    "Please calculate at least 2 * 1.\n",
    "\n",
    "Steps:\n",
    "1. Prepare two superposition which encodes the input numbers\n",
    "2. Use the `Multiplier` function to multiply the two numbers together\n",
    "3. Synthesize the circuite\n",
    "4. Execute the circuit with cuQuantum\n",
    "\n",
    "Docs to `Multiplier` can be found [here](https://docs.classiq.io/latest/user-guide/function-library/builtin-functions/arithmetic/multiplication/)\n",
    "\n",
    "<details>\n",
    "<summary> answer </summary>\n",
    "<code>\n",
    "\n",
    "    probs1 = [0.5, 0, 0.5, 0]\n",
    "    sp1_params = StatePreparation(\n",
    "        probabilities=probs1, error_metric={\"L2\": {\"upper_bound\": 0.01}}\n",
    "    )\n",
    "\n",
    "    probs2 = [0, 0.5, 0.5, 0]\n",
    "    sp2_params = StatePreparation(\n",
    "        probabilities=probs2, error_metric={\"L2\": {\"upper_bound\": 0.01}}\n",
    "    )\n",
    "\n",
    "    model = Model()\n",
    "\n",
    "    sp1_out = model.StatePreparation(params=sp1_params)\n",
    "    sp2_out = model.StatePreparation(params=sp2_params)\n",
    "\n",
    "    multiplier_params = Multiplier(\n",
    "        left_arg=RegisterUserInput(size=2),\n",
    "        right_arg=RegisterUserInput(size=2),\n",
    "        output_size=4,\n",
    "    )\n",
    "\n",
    "    multiplier_out = model.Multiplier(\n",
    "        multiplier_params,\n",
    "        in_wires={\"left_arg\": sp1_out[\"OUT\"], \"right_arg\": sp2_out[\"OUT\"]},\n",
    "    )\n",
    "\n",
    "    model.sample()\n",
    "    model.set_outputs(\n",
    "        {\"a\": multiplier_out[\"left_arg\"], \"b\": multiplier_out[\"right_arg\"], \"product\": multiplier_out[\"product\"]}\n",
    "    )\n",
    "\n",
    "    qprog = synthesize(model.get_model())\n",
    "\n",
    "    res = execute(qprog).result()\n",
    "\n",
    "    results = ExecutionDetails.parse_obj(res[0].value)\n",
    "\n",
    "    output_results_multiplier = results.counts_of_multiple_outputs([\"a\", \"b\", \"product\"])\n",
    "\n",
    "    parse_arithmetic_results(output_results_multiplier, \"Multiplier\")\n",
    "</code>\n",
    "\n",
    "</detials>\n"
   ]
  },
  {
   "cell_type": "code",
   "execution_count": null,
   "id": "bcceb006",
   "metadata": {
    "tags": []
   },
   "outputs": [],
   "source": [
    "from classiq import Preferences\n",
    "from classiq.builtin_functions import Multiplier\n",
    "\n",
    "# Your code here"
   ]
  },
  {
   "cell_type": "markdown",
   "id": "d34cd875-c615-46eb-b2d3-4091dc0f5678",
   "metadata": {},
   "source": [
    "## Arithmetic Expressions: complex search space\n",
    "The arithmetic expression are decomposed of smaller functional blocks, and their search space is huge. See all [arithmetic expressions](https://docs.classiq.io/latest/user-guide/function-library/builtin-functions/arithmetic/arithmetic-expression/)."
   ]
  },
  {
   "cell_type": "code",
   "execution_count": null,
   "id": "157dc644",
   "metadata": {},
   "outputs": [],
   "source": [
    "from classiq import (\n",
    "    Model,\n",
    "    RegisterUserInput,\n",
    "    construct_grover_model,\n",
    "    execute,\n",
    "    set_constraints,\n",
    "    show,\n",
    "    synthesize,\n",
    ")\n",
    "from classiq.builtin_functions import ArithmeticOracle, GroverOperator, StatePreparation\n",
    "from classiq.execution import ExecutionDetails\n",
    "\n",
    "\n",
    "def uniform_sp_params(num_qubits: int):\n",
    "    single_prob = 1.0 / (2**num_qubits)\n",
    "    probs_lst = [single_prob] * (2**num_qubits)\n",
    "    sp_params = StatePreparation(\n",
    "        probabilities=probs_lst, error_metric={\"L2\": {\"upper_bound\": 0.01}}\n",
    "    )\n",
    "    return sp_params"
   ]
  },
  {
   "cell_type": "code",
   "execution_count": null,
   "id": "83beac1e",
   "metadata": {},
   "outputs": [],
   "source": [
    "# create the oracle\n",
    "oracle_params = ArithmeticOracle(\n",
    "    expression=\"a + b == 7 and a & b == 0\",\n",
    "    definitions=dict(\n",
    "        a=RegisterUserInput(size=4), b=RegisterUserInput(size=4, is_signed=True)\n",
    "    ),\n",
    "    uncomputation_method=\"naive\",\n",
    "    qubit_count=18,\n",
    ")\n",
    "# wrap it into grover, including diffuser\n",
    "grover_params = GroverOperator(oracle_params=oracle_params)\n",
    "\n",
    "model = Model()\n",
    "model.sample()\n",
    "# initialize with uniform superposition\n",
    "sp1_out1 = model.StatePreparation(\n",
    "    params=uniform_sp_params(oracle_params.definitions[\"a\"].size)\n",
    ")\n",
    "sp1_out2 = model.StatePreparation(\n",
    "    params=uniform_sp_params(oracle_params.definitions[\"b\"].size)\n",
    ")\n",
    "# wiring the StatePreparation into \"a\" and \"b\" registers\n",
    "out_wires = model.GroverOperator(\n",
    "    params=grover_params, in_wires={\"a\": sp1_out1[\"OUT\"], \"b\": sp1_out2[\"OUT\"]}\n",
    ")\n",
    "# measuring only regiters \"a\" and \"b\"\n",
    "model.set_outputs(out_wires)\n",
    "\n",
    "constraints = Constraints(max_width=22)\n",
    "serialized_model = set_constraints(model.get_model(), constraints)\n",
    "qprog = synthesize(serialized_model)\n",
    "\n",
    "show(qprog)"
   ]
  },
  {
   "cell_type": "markdown",
   "id": "6487ba26",
   "metadata": {},
   "source": [
    "#### making an optimizing circuit by requiring less qubits\n",
    "##### See: uncomputation_method=\"optimized\"\n",
    "You can see the difference in different optimization strategies of the entire circuit."
   ]
  },
  {
   "cell_type": "code",
   "execution_count": null,
   "id": "43590d1f",
   "metadata": {},
   "outputs": [],
   "source": [
    "# create the oracle\n",
    "oracle_params = ArithmeticOracle(\n",
    "    expression=\"a + b == 7 and a & b == 0\",\n",
    "    definitions=dict(\n",
    "        a=RegisterUserInput(size=4), b=RegisterUserInput(size=4, is_signed=True)\n",
    "    ),\n",
    "    uncomputation_method=\"optimized\",\n",
    "    qubit_count=18,\n",
    ")\n",
    "# wrap it into grover, including diffuser\n",
    "grover_params = GroverOperator(oracle_params=oracle_params)\n",
    "\n",
    "model = Model()\n",
    "model.sample()\n",
    "# initialize with uniform superposition\n",
    "sp1_out1 = model.StatePreparation(\n",
    "    params=uniform_sp_params(oracle_params.definitions[\"a\"].size)\n",
    ")\n",
    "sp1_out2 = model.StatePreparation(\n",
    "    params=uniform_sp_params(oracle_params.definitions[\"b\"].size)\n",
    ")\n",
    "# wiring the StatePreparation into \"a\" and \"b\" registers\n",
    "out_wires = model.GroverOperator(\n",
    "    params=grover_params, in_wires={\"a\": sp1_out1[\"OUT\"], \"b\": sp1_out2[\"OUT\"]}\n",
    ")\n",
    "\n",
    "model.set_outputs(out_wires)\n",
    "\n",
    "constraints = Constraints(max_width=18)\n",
    "serialized_model = set_constraints(model.get_model(), constraints)\n",
    "qprog = synthesize(serialized_model)\n",
    "\n",
    "show(qprog)"
   ]
  },
  {
   "cell_type": "code",
   "execution_count": null,
   "id": "8b6d2916",
   "metadata": {},
   "outputs": [],
   "source": [
    "# executing and taking out 'a' and 'b' register results\n",
    "results = execute(qprog).result()\n",
    "sample_results = results[0].value\n",
    "register_res = sample_results.counts_of_multiple_outputs((\"a\", \"b\"))"
   ]
  },
  {
   "cell_type": "code",
   "execution_count": null,
   "id": "13126eb5",
   "metadata": {},
   "outputs": [],
   "source": [
    "sorted_res = sorted(register_res.items(), key=lambda item: item[1], reverse=True)\n",
    "\n",
    "sorted_res[0][0]"
   ]
  },
  {
   "cell_type": "code",
   "execution_count": null,
   "id": "7a7a4984",
   "metadata": {},
   "outputs": [],
   "source": [
    "def det_sign(binary_string: str) -> int:\n",
    "    if binary_string[0] == \"1\":\n",
    "        return -1\n",
    "    else:\n",
    "        return 1\n",
    "\n",
    "\n",
    "def res_interpret(reg1, reg2, is_signed1=False, is_signed2=False) -> tuple:\n",
    "    fliped1, fliped2 = reg1[::-1], reg2[::-1]\n",
    "    reg1_to_int = det_sign(fliped1) * int(fliped1, 2) if is_signed1 else int(fliped1, 2)\n",
    "    reg2_to_int = det_sign(fliped1) * int(fliped2, 2) if is_signed1 else int(fliped2, 2)\n",
    "\n",
    "    return reg1_to_int, reg2_to_int"
   ]
  },
  {
   "cell_type": "code",
   "execution_count": null,
   "id": "68e8744c",
   "metadata": {},
   "outputs": [],
   "source": [
    "ref_results = res_interpret(sorted_res[0][0][0], sorted_res[0][0][1], is_signed2=True)\n",
    "dict(zip((\"a\", \"b\"), ref_results))"
   ]
  },
  {
   "cell_type": "code",
   "execution_count": null,
   "id": "d353d5f4",
   "metadata": {},
   "outputs": [],
   "source": [
    "# Execute on cuQuantum\n",
    "\n",
    "# Grab the generated circuit\n",
    "generated_circuit = GeneratedCircuit.parse_raw(qprog)\n",
    "\n",
    "#store the reseult in a local file\n",
    "generated_circuit.save_results(filename=\"grover.json\")"
   ]
  },
  {
   "cell_type": "code",
   "execution_count": null,
   "id": "c1342c56",
   "metadata": {
    "vscode": {
     "languageId": "shellscript"
    }
   },
   "outputs": [],
   "source": [
    "# Execute the circuit on the cluster\n",
    "./JHS_notebooks/run_circuit_on_cuquantum grover.json"
   ]
  },
  {
   "cell_type": "markdown",
   "id": "b3951ba3",
   "metadata": {},
   "source": [
    "Now using a simpler option "
   ]
  },
  {
   "cell_type": "code",
   "execution_count": null,
   "id": "1408d4d9",
   "metadata": {},
   "outputs": [],
   "source": [
    "uncomputation_method = \"optimized\"\n",
    "\n",
    "model = construct_grover_model(\n",
    "    definitions=[\n",
    "        (\"a\", RegisterUserInput(size=4)),\n",
    "        (\"b\", RegisterUserInput(size=4, is_signed=True)),\n",
    "    ],\n",
    "    expression=\"a + b == 7 and a & b == 0\",\n",
    "    num_reps=1,\n",
    "    uncomputation_method=uncomputation_method,\n",
    ")\n",
    "# constraints = Constraints(\n",
    "#     max_width=22,\n",
    "#     optimization_parameter=OptimizationParameter.DEPTH\n",
    "# )\n",
    "# serialized_model = set_constraints(model, constraints)\n",
    "qprog = synthesize(model)\n",
    "\n",
    "show(qprog)"
   ]
  },
  {
   "cell_type": "code",
   "execution_count": null,
   "id": "f6be4d96",
   "metadata": {},
   "outputs": [],
   "source": [
    "results = execute(qprog).result()\n",
    "sample_results = results[0].value\n",
    "register_res = sample_results.counts_of_multiple_outputs((\"a\", \"b\"))\n",
    "sorted_res = sorted(register_res.items(), key=lambda item: item[1], reverse=True)\n",
    "ref_results = res_interpret(sorted_res[0][0][0], sorted_res[0][0][1], is_signed2=True)\n",
    "dict(zip((\"a\", \"b\"), ref_results))"
   ]
  },
  {
   "cell_type": "markdown",
   "id": "92a4d42c-8071-4d30-bf9a-0a8eadc25c16",
   "metadata": {},
   "source": [
    "## Do it yourself\n",
    "\n",
    "We want to find possible dimentions of a 3d trapezoid with a total volume of 20. This is the formula to get the volume of a trapezoid:\n",
    "\n",
    "$$volume = \\frac{b+B}{2} * height * length$$\n",
    "<img src=\"https://uploads-cdn.omnicalculator.com/images/trapezoidal%20prism%20volume/trapezoidal%20prism%20volume_01a.png\" alt=\"Drawing\" style=\"max-height: 350px;\"/>"
   ]
  },
  {
   "cell_type": "code",
   "execution_count": null,
   "id": "3d3571ec",
   "metadata": {},
   "outputs": [],
   "source": [
    "#Your code here\n"
   ]
  },
  {
   "cell_type": "markdown",
   "id": "ca48eb29",
   "metadata": {},
   "source": [
    "<details>\n",
    "<summary> answer</summary>\n",
    "<code>\n",
    "    def res_interpret_4(reg1, reg2, reg3, reg4, is_signed1=False, is_signed2=False, is_signed3=False, is_signed4=False) -> tuple:\n",
    "        fliped1, fliped2, fliped3, fliped4 = reg1[::-1], reg2[::-1], reg3[::-1], reg4[::-1]\n",
    "        reg1_to_int = det_sign(fliped1) * int(fliped1, 2) if is_signed1 else int(fliped1, 2)\n",
    "        reg2_to_int = det_sign(fliped1) * int(fliped2, 2) if is_signed2 else int(fliped2, 2)\n",
    "        reg3_to_int = det_sign(fliped1) * int(fliped3, 2) if is_signed3 else int(fliped3, 2)\n",
    "        reg4_to_int = det_sign(fliped1) * int(fliped4, 2) if is_signed4 else int(fliped4, 2)\n",
    "\n",
    "        return reg1_to_int, reg2_to_int, reg3_to_int, reg4_to_int\n",
    "\n",
    "    uncomputation_method = \"optimized\"\n",
    "\n",
    "    model = construct_grover_model(\n",
    "        definitions=[\n",
    "            (\"b\", RegisterUserInput(size=2)),\n",
    "            (\"B\", RegisterUserInput(size=2)),\n",
    "            (\"height\", RegisterUserInput(size=2)),\n",
    "            (\"length\", RegisterUserInput(size=2)),\n",
    "        ],\n",
    "        expression=\"((b + B)*0.5)*height*length == 15\",\n",
    "        num_reps=5,\n",
    "        uncomputation_method=uncomputation_method,\n",
    "    )\n",
    "    constraints = Constraints(\n",
    "        max_width=24,\n",
    "        optimization_parameter=OptimizationParameter.DEPTH\n",
    "    )\n",
    "    serialized_model = set_constraints(model, constraints)\n",
    "    qprog = synthesize(serialized_model)\n",
    "\n",
    "    show(qprog)\n",
    "\n",
    "    results = execute(qprog).result()\n",
    "    sample_results = results[0].value\n",
    "\n",
    "    register_res = sample_results.counts_of_multiple_outputs((\"b\", \"B\", \"height\", \"length\"))\n",
    "    sorted_res = sorted(register_res.items(), key=lambda item: item[1], reverse=True)\n",
    "    ref_results = res_interpret_4(sorted_res[0][0][0], sorted_res[0][0][1],sorted_res[0][0][2],sorted_res[0][0][3])\n",
    "    dict(zip((\"b\", \"B\", \"height\", \"length\"), ref_results))\n",
    "    print(f\"Trapezoid volume {((ref_results[0]+ref_results[1])/2)*ref_results[2]*ref_results[3]}\")\n",
    "</code>\n",
    "\n",
    "</details>"
   ]
  },
  {
   "cell_type": "markdown",
   "id": "264527c0-d99c-4f4e-b45a-daa3c7836586",
   "metadata": {
    "tags": []
   },
   "source": [
    "# Defining Constraints and optimization parameters"
   ]
  },
  {
   "cell_type": "markdown",
   "id": "5678cb8b-25b9-45f3-97fd-b388095390c9",
   "metadata": {},
   "source": [
    "The core of classiq platform is the synthesis engine:\n",
    "1. It can consider huge number of different implementatiosn and choose the best one according to specified constraints in the circuit level, the number of qubit, and different hardware connectivities and native hardware gates.\n",
    "2. It can also optimize over the circuit depth, the number of specific gates, and the number of qubits - width of the circuit. For more information.\n",
    "\n",
    "See [link](https://docs.classiq.io/latest/user-guide/synthesis/constraints/)."
   ]
  },
  {
   "cell_type": "markdown",
   "id": "7e930cbd-543a-4fe8-91d5-da002975e6b9",
   "metadata": {},
   "source": [
    "#### define a simple model"
   ]
  },
  {
   "cell_type": "code",
   "execution_count": null,
   "id": "97e879a4",
   "metadata": {
    "tags": []
   },
   "outputs": [],
   "source": [
    "def print_Mcx_charectaristics(circuit, num_ctrl_qubits):\n",
    "    print(\"number of auxiliary qubits: \", circuit.data.width - (num_ctrl_qubits + 1))\n",
    "\n",
    "\n",
    "def print_circuit_characteristics(circuit):\n",
    "    print(\n",
    "        \"Number of qubits: {}, total depth: {}, number of CX gates {}\".format(\n",
    "            circuit.data.width,\n",
    "            circuit.transpiled_circuit.depth,\n",
    "            circuit.transpiled_circuit.count_ops.get(\"cx\"),\n",
    "        )\n",
    "    )"
   ]
  },
  {
   "cell_type": "code",
   "execution_count": null,
   "id": "82dfb656-751c-4505-89f7-b2a5dc57fe2c",
   "metadata": {
    "tags": []
   },
   "outputs": [],
   "source": [
    "from classiq import (\n",
    "    Constraints,\n",
    "    GeneratedCircuit,\n",
    "    Model,\n",
    "    OptimizationParameter,\n",
    "    set_constraints,\n",
    "    set_preferences,\n",
    ")\n",
    "from classiq.builtin_functions import Mcx, StatePreparation\n",
    "from classiq.builtin_functions.state_preparation import (\n",
    "    PMF,\n",
    "    GaussianMixture,\n",
    "    GaussianMoments,\n",
    ")\n",
    "\n",
    "number_control_qubits = 12\n",
    "\n",
    "mcx_params = Mcx(num_ctrl_qubits=number_control_qubits)\n",
    "\n",
    "model = Model()\n",
    "model.Mcx(params=mcx_params)"
   ]
  },
  {
   "cell_type": "code",
   "execution_count": null,
   "id": "9bfb9bfa-4881-4291-aab6-105a6dfafcb0",
   "metadata": {
    "tags": []
   },
   "outputs": [],
   "source": [
    "qprog = synthesize(model.get_model())\n",
    "show(qprog)"
   ]
  },
  {
   "cell_type": "code",
   "execution_count": null,
   "id": "2afd3fdc",
   "metadata": {
    "tags": []
   },
   "outputs": [],
   "source": [
    "circuit = GeneratedCircuit.from_qprog(qprog)\n",
    "print_circuit_characteristics(circuit)\n",
    "print(\"number of auxiliary qubits: \", circuit.data.width - (number_control_qubits + 1))"
   ]
  },
  {
   "cell_type": "markdown",
   "id": "5a7eefab-2b93-45ca-82d8-97985d0e9df7",
   "metadata": {},
   "source": [
    "#### setting constraints"
   ]
  },
  {
   "cell_type": "code",
   "execution_count": null,
   "id": "67cdc5ce-b417-40cc-afcf-a2124ea8f665",
   "metadata": {
    "tags": []
   },
   "outputs": [],
   "source": [
    "aux_qbits = 2\n",
    "\n",
    "constraints = Constraints(\n",
    "    max_width=number_control_qubits + 1 + aux_qbits,\n",
    "    optimization_parameter=OptimizationParameter.DEPTH,\n",
    ")\n",
    "\n",
    "serialized_model = set_constraints(model.get_model(), constraints)\n",
    "qprog = synthesize(serialized_model)\n",
    "\n",
    "show(qprog)"
   ]
  },
  {
   "cell_type": "code",
   "execution_count": null,
   "id": "ca10f8c6-ad84-4d11-8cda-0b80b71ed206",
   "metadata": {
    "tags": []
   },
   "outputs": [],
   "source": [
    "circuit = GeneratedCircuit.from_qprog(qprog)\n",
    "print_circuit_characteristics(circuit)\n",
    "print(\"number of auxiliary qubits: \", circuit.data.width - (number_control_qubits + 1))"
   ]
  },
  {
   "cell_type": "code",
   "execution_count": null,
   "id": "75cdfa03",
   "metadata": {
    "tags": []
   },
   "outputs": [],
   "source": [
    "aux_qbits = 3\n",
    "constraints = Constraints(\n",
    "    max_width=number_control_qubits + 1 + aux_qbits,\n",
    "    optimization_parameter=OptimizationParameter.DEPTH,\n",
    ")\n",
    "\n",
    "serialized_model = set_constraints(model.get_model(), constraints)\n",
    "qprog = synthesize(serialized_model)\n",
    "\n",
    "show(qprog)"
   ]
  },
  {
   "cell_type": "code",
   "execution_count": null,
   "id": "8ee40431",
   "metadata": {
    "tags": []
   },
   "outputs": [],
   "source": [
    "circuit = GeneratedCircuit.from_qprog(qprog)\n",
    "print_circuit_characteristics(circuit)\n",
    "print(\"number of auxiliary qubits: \", circuit.data.width - (number_control_qubits + 1))"
   ]
  },
  {
   "cell_type": "markdown",
   "id": "948a8fda-d0d1-4038-bebe-ea160952d01c",
   "metadata": {},
   "source": [
    "#### Optimizing under constraints"
   ]
  },
  {
   "cell_type": "markdown",
   "id": "02bb13c2-b456-4d29-bdce-0ee24dc031da",
   "metadata": {},
   "source": [
    "Before executing - try to think if you have a better solution for this model, with the same width."
   ]
  },
  {
   "cell_type": "code",
   "execution_count": null,
   "id": "84237e78-c6f6-4b16-9bb7-e6e1a68fdc9e",
   "metadata": {
    "tags": []
   },
   "outputs": [],
   "source": [
    "from classiq import OptimizationParameter\n",
    "\n",
    "constraints = Constraints(\n",
    "    max_width=20,\n",
    "    optimization_parameter=\"depth\",\n",
    ")\n",
    "\n",
    "serialized_model = set_constraints(model.get_model(), constraints)\n",
    "qprog = synthesize(serialized_model)\n",
    "\n",
    "show(qprog)"
   ]
  },
  {
   "cell_type": "code",
   "execution_count": null,
   "id": "19217ba8-58c3-4a5f-9e61-881889a72ddd",
   "metadata": {},
   "outputs": [],
   "source": [
    "circuit = GeneratedCircuit.from_qprog(qprog)\n",
    "print_circuit_characteristics(circuit)\n",
    "print(\"number of auxiliary qubits: \", circuit.data.width - (number_control_qubits + 1))"
   ]
  },
  {
   "cell_type": "markdown",
   "id": "6a002126",
   "metadata": {},
   "source": [
    "## Do it yourself"
   ]
  },
  {
   "cell_type": "markdown",
   "id": "d7375637",
   "metadata": {},
   "source": [
    "Create a 7 multi-control qubits circuits, use 0,1 and 3 auxiliary qubits with 3 different circuits.\n",
    "Optimize on the depth of the circuit and compare the properties (cx gates, depth) of the synthesized circuits.\n",
    "\n",
    "<details>\n",
    "<summary> answer </summary>\n",
    "<code>\n",
    "\n",
    "    number_control_qubits = 7\n",
    "\n",
    "    mcx_params = Mcx(num_ctrl_qubits = number_control_qubits)\n",
    "\n",
    "    model = Model()\n",
    "    model.Mcx(params=mcx_params)\n",
    "\n",
    "    for num_aux_qbits in [0,1,3]:\n",
    "\n",
    "        constraints = Constraints(max_width=number_control_qubits + 1 + num_aux_qbits,\n",
    "                                  optimization_parameter=OptimizationParameter.DEPTH)\n",
    "\n",
    "        serialized_model = set_constraints(model.get_model(), constraints)\n",
    "        qprog = synthesize(serialized_model)\n",
    "\n",
    "        show(qprog)\n",
    "\n",
    "        circuit = GeneratedCircuit.from_qprog(qprog)\n",
    "\n",
    "        print_circuit_characteristics(circuit)\n",
    "        print('number of auxiliary qubits: ', circuit.data.width - (number_control_qubits+ 1))\n",
    "</code>"
   ]
  },
  {
   "cell_type": "code",
   "execution_count": null,
   "id": "2001f6e9",
   "metadata": {
    "tags": []
   },
   "outputs": [],
   "source": [
    "from classiq import Constraints, Model, OptimizationParameter\n",
    "from classiq.builtin_functions import Mcx, StatePreparation\n",
    "from classiq.builtin_functions.state_preparation import (\n",
    "    PMF,\n",
    "    GaussianMixture,\n",
    "    GaussianMoments,\n",
    ")\n",
    "\n",
    "number_control_qubits = 7\n",
    "\n",
    "# your code\n",
    "\n",
    "for num_aux_qbits in [0, 1, 3]:\n",
    "    # your code\n",
    "\n",
    "    print_circuit_characteristics(circuit)\n",
    "    print(\n",
    "        \"number of auxiliary qubits: \", circuit.data.width - (number_control_qubits + 1)\n",
    "    )"
   ]
  },
  {
   "cell_type": "markdown",
   "id": "dbe42a98",
   "metadata": {},
   "source": [
    "Synthesise the same circuit, maxize the number of CX gates to 66, see [constraints](https://docs.classiq.io/latest/user-guide/synthesis/constraints/)\n",
    "\n",
    "<details>\n",
    "<summary> answer </summary>\n",
    "<code>\n",
    "\n",
    "    constraints = Constraints(\n",
    "    max_gate_count={\n",
    "            TranspilerBasisGates.CX : 66\n",
    "        }\n",
    "    )\n",
    "\n",
    "    serialized_model = set_constraints(model.get_model(), constraints)\n",
    "\n",
    "    qprog = synthesize(serialized_model)\n",
    "\n",
    "    show(qprog)\n",
    "\n",
    "    circuit = GeneratedCircuit.from_qprog(qprog)\n",
    "\n",
    "</code>"
   ]
  },
  {
   "cell_type": "code",
   "execution_count": null,
   "id": "207b716a",
   "metadata": {
    "tags": []
   },
   "outputs": [],
   "source": [
    "from classiq import TranspilerBasisGates\n",
    "from classiq.model import Constraints\n",
    "\n",
    "# Your code here"
   ]
  },
  {
   "cell_type": "code",
   "execution_count": null,
   "id": "4c11976c",
   "metadata": {
    "tags": []
   },
   "outputs": [],
   "source": [
    "print_circuit_characteristics(circuit)\n",
    "print(\"number of auxiliary qubits: \", circuit.data.width - (number_control_qubits + 1))"
   ]
  },
  {
   "cell_type": "markdown",
   "id": "f1272c33-a5fe-40c1-8f98-096ba8910afe",
   "metadata": {},
   "source": [
    "# Built-in Functions"
   ]
  },
  {
   "cell_type": "markdown",
   "id": "2dc94516-6d0a-4a01-ae66-043ea107e87d",
   "metadata": {},
   "source": [
    "Here we will see the flexibility of implementation of different functions, according to the function definition and contraints."
   ]
  },
  {
   "cell_type": "markdown",
   "id": "8275b24c-b5e4-4f34-aada-326a68383549",
   "metadata": {},
   "source": [
    "## StatePreparation: adjust approximation level"
   ]
  },
  {
   "cell_type": "code",
   "execution_count": null,
   "id": "9bb5a141-30f6-491b-906f-a34c92fcc8a8",
   "metadata": {
    "tags": []
   },
   "outputs": [],
   "source": [
    "from classiq import Constraints, Model, Preferences\n",
    "from classiq.builtin_functions import StatePreparation\n",
    "from classiq.builtin_functions.state_preparation import GaussianMixture, GaussianMoments\n",
    "from classiq.execution import ExecutionPreferences\n",
    "\n",
    "NUM_SHOTS = 50000\n",
    "\n",
    "\n",
    "def create_state_preparation(max_error, num_qubits):\n",
    "    params = StatePreparation(\n",
    "        probabilities=GaussianMixture(\n",
    "            gaussian_moment_list=(\n",
    "                GaussianMoments(mu=1, sigma=1),\n",
    "                GaussianMoments(mu=3, sigma=1),\n",
    "                GaussianMoments(mu=-3, sigma=1),\n",
    "            ),\n",
    "            num_qubits=num_qubits,\n",
    "        ),\n",
    "        error_metric={\"LOSS_OF_FIDELITY\": {\"upper_bound\": max_error}},\n",
    "    )\n",
    "\n",
    "    model = Model()\n",
    "    model.StatePreparation(params)\n",
    "\n",
    "    model.sample()\n",
    "\n",
    "    model.execution_preferences = ExecutionPreferences(num_shots=NUM_SHOTS)\n",
    "\n",
    "    quantum_program = synthesize(model.get_model())\n",
    "    return (quantum_program, params)"
   ]
  },
  {
   "cell_type": "markdown",
   "id": "0c906e75-9d0d-4ba4-9844-8132559265f8",
   "metadata": {},
   "source": [
    "We will create 2 models that have different approximation levels. Try to change also the error metric and see what happens."
   ]
  },
  {
   "cell_type": "code",
   "execution_count": null,
   "id": "4122633f-3c80-45a9-b860-41077fe8883a",
   "metadata": {
    "tags": []
   },
   "outputs": [],
   "source": [
    "NUM_QUBITS = 7\n",
    "ERROR1 = 0.08\n",
    "quantum_program, params = create_state_preparation(ERROR1, num_qubits=NUM_QUBITS)\n",
    "show(quantum_program)"
   ]
  },
  {
   "cell_type": "code",
   "execution_count": null,
   "id": "462219f1-0a45-4ba3-ab64-a624862ef180",
   "metadata": {
    "tags": []
   },
   "outputs": [],
   "source": [
    "ERROR2 = 0.001\n",
    "quantum_program2, params = create_state_preparation(ERROR2, num_qubits=NUM_QUBITS)\n",
    "show(quantum_program2)"
   ]
  },
  {
   "cell_type": "markdown",
   "id": "d92e772c-fb51-40c5-bb83-8dcd196070a2",
   "metadata": {},
   "source": [
    "Execute the circuits"
   ]
  },
  {
   "cell_type": "code",
   "execution_count": null,
   "id": "8d29cf41-d581-4ab2-83f7-6d1791f698a3",
   "metadata": {
    "tags": []
   },
   "outputs": [],
   "source": [
    "from classiq import execute\n",
    "from classiq.execution import ExecutionDetails\n",
    "\n",
    "res1 = execute(quantum_program).result()\n",
    "res2 = execute(quantum_program2).result()\n",
    "\n",
    "res1 = res1[0].value\n",
    "res2 = res2[0].value"
   ]
  },
  {
   "cell_type": "markdown",
   "id": "faffd589-2c04-4662-9c3b-075532a209cb",
   "metadata": {},
   "source": [
    "Plot the results"
   ]
  },
  {
   "cell_type": "code",
   "execution_count": null,
   "id": "21fc4d3a-dbfa-411c-bac9-718cbb3811b2",
   "metadata": {
    "tags": []
   },
   "outputs": [],
   "source": [
    "import numpy as np\n",
    "import scipy\n",
    "\n",
    "moments = params.probabilities.gaussian_moment_list\n",
    "\n",
    "_stds_around_mean_to_include = 5\n",
    "lower = min(\n",
    "    moment.mu - _stds_around_mean_to_include * moment.sigma for moment in moments\n",
    ")\n",
    "upper = max(\n",
    "    moment.mu + _stds_around_mean_to_include * moment.sigma for moment in moments\n",
    ")\n",
    "num_of_bins = 2**NUM_QUBITS\n",
    "sample_points = np.linspace(lower, upper, num_of_bins + 1)\n",
    "\n",
    "\n",
    "def single_gaussian(x: np.ndarray, mu: float, sigma: float) -> np.ndarray:\n",
    "    cdf = scipy.stats.norm.cdf(x, loc=mu, scale=sigma)\n",
    "    return cdf[1:] - cdf[0:-1]\n",
    "\n",
    "\n",
    "non_normalized_pmf = np.sum(\n",
    "    [single_gaussian(sample_points, moment.mu, moment.sigma) for moment in moments],\n",
    "    axis=0,\n",
    ")\n",
    "real_probs = non_normalized_pmf / np.sum(non_normalized_pmf)"
   ]
  },
  {
   "cell_type": "code",
   "execution_count": null,
   "id": "e1a1b1fd-2539-46ec-bd2e-6be0d59074ee",
   "metadata": {
    "tags": []
   },
   "outputs": [],
   "source": [
    "from matplotlib import pyplot as plt\n",
    "\n",
    "sorted_counts = dict(sorted(res1.counts.items()))\n",
    "bit_strings, counts = sorted_counts.keys(), sorted_counts.values()\n",
    "# test = bit_strings[::-1]\n",
    "\n",
    "sorted_counts2 = dict(sorted(res2.counts.items()))\n",
    "bit_strings2, counts2 = sorted_counts2.keys(), sorted_counts2.values()\n",
    "\n",
    "plt.title(\"Gaussian Mixtures graph\")\n",
    "plt.xlabel(\"State\")\n",
    "plt.ylabel(\"Measurement Probability [%]\")\n",
    "\n",
    "plt.scatter(\n",
    "    [int(bit_str[::-1], 2) for bit_str in bit_strings],\n",
    "    [count / NUM_SHOTS for count in counts],\n",
    "    label=f\"error <= {ERROR1}\",\n",
    ")\n",
    "plt.scatter(\n",
    "    [int(bit_str[::-1], 2) for bit_str in bit_strings2],\n",
    "    [count / NUM_SHOTS for count in counts2],\n",
    "    label=f\"error <= {ERROR2}\",\n",
    ")\n",
    "plt.plot(np.arange(num_of_bins), real_probs, label=\"real probabilities\")\n",
    "\n",
    "plt.legend()\n",
    "plt.show()"
   ]
  },
  {
   "cell_type": "markdown",
   "id": "3f004536-5248-46da-948c-0000d0ddfea9",
   "metadata": {},
   "source": [
    "## Test it yourself\n",
    "\n",
    "Can you see any difference between the 2 distributions? Try to change the number of shots and the error and see ther differences. For example use 50.000 shots"
   ]
  },
  {
   "cell_type": "markdown",
   "id": "bbd86566-18f0-4017-a833-fb132a3d07cc",
   "metadata": {
    "tags": []
   },
   "source": [
    "### Do it yourself"
   ]
  },
  {
   "cell_type": "markdown",
   "id": "53dcd5ab-7e46-4686-b950-9141d4c520a6",
   "metadata": {
    "jp-MarkdownHeadingCollapsed": true,
    "tags": []
   },
   "source": [
    "You will now create and execute a circuit that will solve a SAT problem.\n",
    "\n",
    "The problem is a Secret Santa problem these are the rules:\n",
    "you will have 3 players, they all put their name on a piece of paper. All pieces of paper go into a large bowl and are shuffled.\n",
    "Then each person will pick a piece of paper, if someone has their own name everything will start over.\n",
    "In the end everyone has someone else's name and we can start the secret santa night.\n",
    "Can you solve this problem using the `Arithmetic` function that we have just seen?\n",
    "\n",
    "Below there are various hints that can help you, click on them to expand.\n",
    "\n",
    "\n",
    "You can look at the problem like this:\n",
    "\n",
    "|Player|Ali|Berta|Charley|\n",
    "|---|---|---|---|\n",
    "|Ali|-|x1|x2|\n",
    "|Berta|x3|-|x4|\n",
    "|Charley|x5|x6|-|\n",
    "\n",
    "Steps how to solve:\n",
    "1. Create a SAT expression for this problem\n",
    "2. Load the SAT expression in a `Arithmetic` function\n",
    "3. Execute the function and see the result\n",
    "\n",
    "\n",
    "<details>\n",
    "<summary>SAT definition</summary>\n",
    "In this case the problem that you want to satisfy means that in each row you can have only one variable can have the value 1 the other variable has to have the value 0. In SAT term this is a XOR. In a Python formula this can be written  as follows <code>((x1) ^ (x2))</code>.\n",
    "Next, you do not only want each row in it self to only have one 1 value, all other rows and collums need to do the same. In python you can write this as <code>((x1) ^ (x2)) and ((x3) ^ (x4))</code> if you want the first to rows to both only have a single 1 value\n",
    "</details>\n",
    "\n",
    "<details>\n",
    "<summary>SAT solution</summary>\n",
    "This is the right formula <code>((x1) ^ (x2)) and ((x3) ^ (x4)) and ((x5) ^ (x6)) and ((x3) ^ (x5)) and ((x1) ^ (x6)) and ((x2) ^ (x4))</code>\n",
    "</details>\n",
    "\n",
    "\n",
    "<details>\n",
    "<summary>Classiq approach</summary>\n",
    "With Classiq we can solve this problem with the Arithmetic engine.\n",
    "</details>\n",
    "\n",
    "<details>\n",
    "<summary>Classiq Oracle creation</summary>\n",
    "\n",
    "     formula = \"(((x1) ^ (x2)) and ((x3) ^ (x4)) and ((x5) ^ (x6)) and ((x3) ^ (x5)) and ((x1) ^ (x6)) and ((x2) ^ (x4)))\"\n",
    "\n",
    "\n",
    "    register_size = RegisterUserInput(size=1)\n",
    "\n",
    "    model = construct_grover_model(\n",
    "        expression=formula,\n",
    "        definitions=[\n",
    "            (\"x1\", register_size),\n",
    "            (\"x2\", register_size),\n",
    "            (\"x3\", register_size),\n",
    "            (\"x4\", register_size),\n",
    "            (\"x5\", register_size),\n",
    "            (\"x6\", register_size),\n",
    "    ],\n",
    "        uncomputation_method=\"optimized\",  \n",
    "        num_reps=1,\n",
    "   )\n",
    "\n",
    "\n",
    "</details>\n",
    "\n",
    "\n",
    "<details>\n",
    "<summary>Classiq Circuit synthesis</summary>\n",
    "\n",
    "    qprog = synthesize(model)\n",
    "    show(qprog)\n",
    "\n",
    "</details>\n",
    "\n",
    "<details>\n",
    "<summary>Classiq Circuit execution and find results</summary>\n",
    "\n",
    "    result = execute(qprog).result()\n",
    "    res = result[0].value\n",
    "    registers = (\"x1\", \"x2\", \"x3\",\"x4\", \"x5\", \"x6\")\n",
    "    res_by_regs = res.counts_of_multiple_outputs(registers)\n",
    "    most_common_res = max(res_by_regs, key=res_by_regs.get)\n",
    "    dict(zip(registers, most_common_res))\n",
    "\n",
    "</details>"
   ]
  },
  {
   "cell_type": "code",
   "execution_count": null,
   "id": "07482840-7ada-4f8f-a338-37d99bcd8b0e",
   "metadata": {},
   "outputs": [],
   "source": [
    "from classiq import (\n",
    "    Model,\n",
    "    RegisterUserInput,\n",
    "    construct_grover_model,\n",
    "    execute,\n",
    "    set_constraints,\n",
    "    show,\n",
    "    synthesize,\n",
    ")\n",
    "from classiq.builtin_functions import ArithmeticOracle, GroverOperator, StatePreparation\n",
    "from classiq.execution import ExecutionDetails\n",
    "\n",
    "# your code here"
   ]
  },
  {
   "cell_type": "markdown",
   "id": "2748ba3f-8efd-4ab1-ab92-10f9c023a562",
   "metadata": {},
   "source": [
    "## Do it yourself\n",
    "Can you change the model to only use 9 qubits?"
   ]
  },
  {
   "cell_type": "markdown",
   "id": "becd2b62",
   "metadata": {},
   "source": [
    "# Option pricing\n",
    "\n",
    "An option is the possibility to buy (call) or sell (put) an item (or share) at a known price - the strike price (K), where the option has a maturity price (S).\n",
    "The payoff function to describe for example a European call option will be:\n",
    "\n",
    "$f(S)=\\\n",
    "\\Bigg\\{\\begin{array}{lr}\n",
    "    0, & \\text{when } K\\geq S\\\\\n",
    "    S - K, & \\text{when } K < S\\end{array}\n",
    "$\n",
    "\n",
    "The maturity price is unknown. Therefore, it is expressed by a price distribution function, which may be any type of a distribution function.\n",
    "For example a log-normal distribution: $\\mathcal{ln}(S)\\sim~\\mathcal{N}(\\mu,\\sigma)$,\n",
    "where $\\mathcal{N}(\\mu,\\sigma)$ is the standard normal distribution with mean equal to $\\mu$ and sdt equal to $\\sigma$ .\n",
    "\n",
    "To estimate the average option price using a quantum computer, one needs to:\n",
    "\n",
    "- Load the distribution, that is, discretize the distribution using $2^n$ points (n is the number of qubits) and truncate it.\n",
    "\n",
    "- Implement the payoff function that is equal to zero if $S\\leq{K}$ and increases linearly otherwise.\n",
    "  The linear part is approximated in order to be loaded properly using $R_y$ rotations.\n",
    "\n",
    "- Evaluate the expected payoff using amplitude estimation\n",
    "\n",
    "#### The probability distribution\n",
    "\n",
    "We build a discrete version of the log normal probability with $2^n$ points, when $\\mu$ is equal to `mu`, $\\sigma$ is equal to `sigma` and $n$ is equal to `num_qubits`."
   ]
  },
  {
   "cell_type": "code",
   "execution_count": null,
   "id": "fae461b1",
   "metadata": {},
   "outputs": [],
   "source": [
    "from classiq.applications.finance import log_normal_model_input, model_input\n",
    "\n",
    "num_qubits = 5\n",
    "mu = 0.7\n",
    "sigma = 0.13\n",
    "\n",
    "log_normal_model = log_normal_model_input.LogNormalModelInput(\n",
    "    num_qubits=num_qubits, mu=mu, sigma=sigma\n",
    ")"
   ]
  },
  {
   "cell_type": "markdown",
   "id": "c304dc7e",
   "metadata": {},
   "source": [
    "##### The option pricing function\n",
    "We use `FinanceFunctionInput`, to build the European call option function, when $K$ equal to `threshold`."
   ]
  },
  {
   "cell_type": "code",
   "execution_count": null,
   "id": "11b68f5f",
   "metadata": {},
   "outputs": [],
   "source": [
    "from classiq.applications.finance import function_input\n",
    "\n",
    "threshold = 1.9\n",
    "\n",
    "condition = function_input.FunctionCondition(threshold=threshold, larger=True)\n",
    "finance_function = function_input.FinanceFunctionInput(\n",
    "    f=\"european call option\",\n",
    "    condition=condition,\n",
    ")"
   ]
  },
  {
   "cell_type": "markdown",
   "id": "67e90866",
   "metadata": {},
   "source": [
    "#### Creating the model and synthesizing\n",
    "The `Finance` operator loads the distribution and then implements the payoff function, which is plugged into the **amplitude estimation algorithm (using phase estimation).** We need to define the number of qubits used by the phase estimation algorithm which will set the accuracy of the calculation."
   ]
  },
  {
   "cell_type": "code",
   "execution_count": null,
   "id": "b9b28b4c",
   "metadata": {},
   "outputs": [],
   "source": [
    "from classiq import (\n",
    "    Constraints,\n",
    "    GeneratedCircuit,\n",
    "    construct_finance_model,\n",
    "    execute,\n",
    "    show,\n",
    "    synthesize,\n",
    ")\n",
    "from classiq.synthesis import set_constraints\n",
    "\n",
    "model = construct_finance_model(\n",
    "    finance_model_input=log_normal_model,\n",
    "    finance_function_input=finance_function,\n",
    "    phase_port_size=2,\n",
    ")\n",
    "\n",
    "model = set_constraints(model, constraints=Constraints(max_width=20))\n",
    "qprog = synthesize(model)\n",
    "show(qprog)"
   ]
  },
  {
   "cell_type": "markdown",
   "id": "3be6cb8a",
   "metadata": {},
   "source": [
    "Lastly, we can execute the resulting circuit and printing out the result estimation of the options price :"
   ]
  },
  {
   "cell_type": "code",
   "execution_count": null,
   "id": "e543555d",
   "metadata": {},
   "outputs": [],
   "source": [
    "results = execute(qprog).result()\n",
    "print(results[1].name, \":\", results[1].value)"
   ]
  },
  {
   "cell_type": "markdown",
   "id": "629dcff1-b230-4648-a59f-fa9ccd6055ae",
   "metadata": {
    "tags": []
   },
   "source": [
    "# Synthesis vs Transpilation, HW-aware Synthesis"
   ]
  },
  {
   "cell_type": "markdown",
   "id": "a20f98e9-65ea-4094-a1f9-1f8b0eeddb6f",
   "metadata": {},
   "source": [
    "The next example will show the strength of synthesis in comparison to transpilation. We show that with a simple inplace quantum Adder:"
   ]
  },
  {
   "cell_type": "code",
   "execution_count": null,
   "id": "b878d23e-dcb0-4c3b-a98f-5ba8d6050da7",
   "metadata": {
    "tags": []
   },
   "outputs": [],
   "source": [
    "from classiq import Analyzer, Constraints, Model, Preferences, RegisterUserInput\n",
    "from classiq.builtin_functions import Adder\n",
    "\n",
    "params = Adder(\n",
    "    left_arg=RegisterUserInput(size=5),\n",
    "    right_arg=RegisterUserInput(size=5),\n",
    "    inplace_arg=\"left\",\n",
    ")\n",
    "\n",
    "# Synthesize for IBM hardware\n",
    "model = Model(\n",
    "    preferences=Preferences(\n",
    "        backend_service_provider=\"IBM Quantum\",\n",
    "        backend_name=\"tokyo\",\n",
    "        random_seed=-1,\n",
    "    ),\n",
    "    constraints=Constraints(optimization_parameter=\"depth\"),\n",
    ")\n",
    "\n",
    "model.Adder(params)\n",
    "qprog_tokyo = synthesize(model.get_model())\n",
    "circuit_tokyo = GeneratedCircuit.from_qprog(qprog_tokyo)"
   ]
  },
  {
   "cell_type": "code",
   "execution_count": null,
   "id": "eb6b8b16-2537-4a26-9a95-bb38fb9b1a36",
   "metadata": {
    "tags": []
   },
   "outputs": [],
   "source": [
    "circuit_tokyo.show()"
   ]
  },
  {
   "cell_type": "markdown",
   "id": "f1889c75-887a-438c-8c28-09eb62e667dd",
   "metadata": {},
   "source": [
    "Take the chosen synthesis output and transpile it to different hardwares."
   ]
  },
  {
   "cell_type": "code",
   "execution_count": null,
   "id": "5a430315-ee5d-41bd-9f75-1d126d089e5d",
   "metadata": {
    "tags": []
   },
   "outputs": [],
   "source": [
    "analyzer_tokyo = Analyzer(circuit_tokyo)\n",
    "analyzer_tokyo.plot_hardware_comparison_table(\n",
    "    providers=[\"Azure Quantum\", \"IBM Quantum\"]\n",
    ")"
   ]
  },
  {
   "cell_type": "markdown",
   "id": "fb1c27f4-e989-48e3-ad22-23d8e64b47ba",
   "metadata": {},
   "source": [
    "Now synthesize again, for Ionq hardware"
   ]
  },
  {
   "cell_type": "code",
   "execution_count": null,
   "id": "7c62d796-b66a-40e7-89ac-d754a0cbe66f",
   "metadata": {
    "tags": []
   },
   "outputs": [],
   "source": [
    "params = Adder(\n",
    "    left_arg=RegisterUserInput(size=5),\n",
    "    right_arg=RegisterUserInput(size=5),\n",
    "    inplace_arg=\"left\",\n",
    ")\n",
    "\n",
    "# Synthesize for IBM hardware\n",
    "model = Model(\n",
    "    preferences=Preferences(\n",
    "        backend_service_provider=\"Azure Quantum\",\n",
    "        backend_name=\"ionq\",\n",
    "        random_seed=-1,\n",
    "    ),\n",
    "    constraints=Constraints(optimization_parameter=\"depth\"),\n",
    ")\n",
    "\n",
    "model.Adder(params)\n",
    "qprog_ionq = synthesize(model.get_model())\n",
    "circuit_ionq = GeneratedCircuit.from_qprog(qprog_ionq)"
   ]
  },
  {
   "cell_type": "code",
   "execution_count": null,
   "id": "c90225ad",
   "metadata": {
    "tags": []
   },
   "outputs": [],
   "source": [
    "circuit_ionq.show()"
   ]
  },
  {
   "cell_type": "markdown",
   "id": "df3271ec-2b2e-446f-9168-809fe8372e42",
   "metadata": {},
   "source": [
    "A different function implementation was chosen, yielding different transpiled circuits measures:"
   ]
  },
  {
   "cell_type": "code",
   "execution_count": null,
   "id": "afe0c8a4-550e-40f8-bf2c-78851dc4743b",
   "metadata": {
    "tags": []
   },
   "outputs": [],
   "source": [
    "analyzer_ionq = Analyzer(circuit_ionq)\n",
    "analyzer_ionq.plot_hardware_comparison_table(providers=[\"Azure Quantum\", \"IBM Quantum\"])"
   ]
  },
  {
   "cell_type": "markdown",
   "id": "cccfe990",
   "metadata": {},
   "source": [
    "## Execute on IBM backend\n",
    "\n"
   ]
  },
  {
   "cell_type": "code",
   "execution_count": null,
   "id": "540273a3",
   "metadata": {},
   "outputs": [],
   "source": [
    "# Create the same circuit to calulate 2 * 3\n",
    "from classiq.builtin_functions import StatePreparation\n",
    "\n",
    "probs1 = [0.5, 0, 0, 0.5]\n",
    "sp1_params = StatePreparation(\n",
    "    probabilities=probs1, error_metric={\"L2\": {\"upper_bound\": 0.01}}\n",
    ")\n",
    "\n",
    "probs2 = [0, 0.5, 0.5, 0]\n",
    "sp2_params = StatePreparation(\n",
    "    probabilities=probs2, error_metric={\"L2\": {\"upper_bound\": 0.01}}\n",
    ")\n",
    "\n",
    "model = Model(constraints=Constraints(optimization_parameter=\"depth\"))\n",
    "\n",
    "sp1_out = model.StatePreparation(params=sp1_params)\n",
    "sp2_out = model.StatePreparation(params=sp2_params)\n",
    "\n",
    "multiplier_params = Multiplier(\n",
    "    left_arg=RegisterUserInput(size=2),\n",
    "    right_arg=RegisterUserInput(size=2),\n",
    "    output_size=3,\n",
    ")\n",
    "\n",
    "adder_out = model.Multiplier(\n",
    "    multiplier_params,\n",
    "    in_wires={\"left_arg\": sp1_out[\"OUT\"], \"right_arg\": sp2_out[\"OUT\"]},\n",
    ")\n",
    "\n",
    "model.sample()\n",
    "\n",
    "qprog = synthesize(model.get_model())\n",
    "\n",
    "show(qprog)"
   ]
  },
  {
   "cell_type": "code",
   "execution_count": null,
   "id": "09f57ca9",
   "metadata": {
    "tags": []
   },
   "outputs": [],
   "source": [
    "from classiq import set_quantum_program_execution_preferences\n",
    "from classiq.execution import IBMBackendPreferences, IBMBackendProvider\n",
    "\n",
    "# ibm_provider = IBMBackendProvider(hub=\"ibm-q\", group=\"open\", Project=\"Main\")\n",
    "# preferences = IBMBackendPreferences(\n",
    "#     backend_name=\"ibmq_qasm_simulator\",\n",
    "#     access_token=\"PLEASE INSERT ACCESS TOKEN\",\n",
    "#     provider=ibm_provider,\n",
    "# )\n",
    "# qprog = set_quantum_program_execution_preferences(qprog, preferences)\n",
    "\n",
    "# res = execute(qprog).result()\n",
    "# res = res[0].value\n",
    "# print(res.counts)"
   ]
  },
  {
   "cell_type": "markdown",
   "id": "eed65963",
   "metadata": {},
   "source": [
    "### Result\n",
    "\n",
    "<details>\n",
    "<summary> Historgram </summary>\n",
    "<img src=\"data:image/png;base64,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\n",
    "\" />\n",
    "\n",
    "\n",
    "</details>"
   ]
  },
  {
   "cell_type": "markdown",
   "id": "0d24509c-4c49-40d2-a325-d39472233ae4",
   "metadata": {
    "tags": []
   },
   "source": [
    "# User defined functions"
   ]
  },
  {
   "cell_type": "markdown",
   "id": "722c8900-39f1-460c-9d4f-4d9ff99dbebe",
   "metadata": {
    "tags": []
   },
   "source": [
    "#### define multiple implementations for a given function"
   ]
  },
  {
   "cell_type": "markdown",
   "id": "12e7142c-c9e4-40a1-8583-643478c007a7",
   "metadata": {},
   "source": [
    "In the following example we define qiskit adders as custom function for the platform."
   ]
  },
  {
   "cell_type": "markdown",
   "id": "4b5cf6c1-21de-4f09-a863-3d4e1cbe2be4",
   "metadata": {},
   "source": [
    "See the `ZeroQReg` and `AuxReg`, which informs the synthesis engine about the special purpose of these qubits"
   ]
  },
  {
   "cell_type": "code",
   "execution_count": null,
   "id": "b8af0895-229e-4a89-9eb2-2a5533803abf",
   "metadata": {
    "tags": []
   },
   "outputs": [],
   "source": [
    "from typing import Tuple\n",
    "\n",
    "from qiskit.circuit.library import (\n",
    "    CDKMRippleCarryAdder,\n",
    "    DraperQFTAdder,\n",
    "    VBERippleCarryAdder,\n",
    ")\n",
    "\n",
    "from classiq import (\n",
    "    QASM_INTRO,\n",
    "    AuxQReg,\n",
    "    FunctionLibrary,\n",
    "    QuantumFunction,\n",
    "    QuantumFunctionFactory,\n",
    "    ZeroQReg,\n",
    "    qfunc,\n",
    ")\n",
    "\n",
    "\n",
    "class MyAdder(QuantumFunctionFactory):\n",
    "    def __init__(self, reg_size: int, *args, **kwargs) -> None:\n",
    "        self.reg_size = reg_size\n",
    "        super().__init__(*args, **kwargs)\n",
    "\n",
    "    @property\n",
    "    def definition(self) -> QuantumFunction:\n",
    "        @qfunc\n",
    "        def cdkm_adder(\n",
    "            left_arg: QReg[self.reg_size],\n",
    "            right_arg: QReg[self.reg_size],\n",
    "            carry: ZeroQReg[1],\n",
    "            aux: AuxQReg[1],\n",
    "        ) -> Tuple[QReg[self.reg_size], QReg[self.reg_size], QReg[1], AuxQReg[1]]:\n",
    "            return CDKMRippleCarryAdder(self.reg_size, \"half\").qasm()\n",
    "\n",
    "        @cdkm_adder.add_implementation\n",
    "        def qft_adder(\n",
    "            left_arg: QReg[self.reg_size],\n",
    "            right_arg: QReg[self.reg_size],\n",
    "            carry: ZeroQReg[1],\n",
    "        ) -> Tuple[QReg[self.reg_size], QReg[self.reg_size], QReg[1]]:\n",
    "            return DraperQFTAdder(self.reg_size, \"half\").decompose(reps=2).qasm()\n",
    "\n",
    "        @cdkm_adder.add_implementation\n",
    "        def vbe_adder(\n",
    "            left_arg: QReg[self.reg_size],\n",
    "            right_arg: QReg[self.reg_size],\n",
    "            carry: ZeroQReg[1],\n",
    "            aux: AuxQReg[self.reg_size - 1],\n",
    "        ) -> Tuple[\n",
    "            QReg[self.reg_size],\n",
    "            QReg[self.reg_size],\n",
    "            QReg[1],\n",
    "            AuxQReg[self.reg_size - 1],\n",
    "        ]:\n",
    "            return VBERippleCarryAdder(self.reg_size, \"half\").qasm()\n",
    "\n",
    "        return cdkm_adder"
   ]
  },
  {
   "cell_type": "markdown",
   "id": "27af3d21-9c43-4309-a17d-3449f452a680",
   "metadata": {},
   "source": [
    "We define a model of controlled adder that it's output is wired to a second adder"
   ]
  },
  {
   "cell_type": "code",
   "execution_count": null,
   "id": "221f13e1-5063-438d-bfb8-ccadb075b31a",
   "metadata": {
    "tags": []
   },
   "outputs": [],
   "source": [
    "from classiq import (\n",
    "    Constraints,\n",
    "    ControlState,\n",
    "    Model,\n",
    "    Preferences,\n",
    "    QReg,\n",
    "    RegisterUserInput,\n",
    ")\n",
    "\n",
    "\n",
    "def create_custum_controlled_adder(num_qubits, num_controls, qubits_limit):\n",
    "    constraints = Constraints(optimization_parameter=\"depth\", max_width=qubits_limit)\n",
    "\n",
    "    model = Model(constraints=constraints)\n",
    "\n",
    "    function_library = FunctionLibrary(MyAdder)\n",
    "    model.include_library(library=function_library)\n",
    "\n",
    "    control_state = ControlState(num_ctrl_qubits=num_controls)\n",
    "\n",
    "    # Call controlled adder\n",
    "    qreg_result = QReg(num_qubits)\n",
    "    qreg_result_carry = QReg(1)\n",
    "    adder_outputs = model.MyAdder(num_qubits)(\n",
    "        control_states=control_state,\n",
    "        out_wires={\"right_arg\": qreg_result, \"carry\": qreg_result_carry},\n",
    "    )\n",
    "\n",
    "    # Call 2n adder\n",
    "    adder_result = QReg.concat(qreg_result, qreg_result_carry)\n",
    "    model.MyAdder(num_qubits + 1)(in_wires={\"right_arg\": adder_result})\n",
    "\n",
    "    return synthesize(model.get_model())"
   ]
  },
  {
   "cell_type": "markdown",
   "id": "9d6c2099-c9ee-455a-a876-57bcd0c58f91",
   "metadata": {},
   "source": [
    "#### the engine will search for implementations based on the constraints and optimization"
   ]
  },
  {
   "cell_type": "code",
   "execution_count": null,
   "id": "6ed4c761-796e-4315-8e16-f6f2a6eee19f",
   "metadata": {
    "tags": []
   },
   "outputs": [],
   "source": [
    "qprog = create_custum_controlled_adder(num_qubits=2, num_controls=2, qubits_limit=13)\n",
    "show(qprog)"
   ]
  },
  {
   "cell_type": "markdown",
   "id": "791c86a5-2025-4334-8dde-a936d09948b1",
   "metadata": {},
   "source": [
    "Can you find parameters (num_qubits, num_controls, qubits_limit) such that different adder implementation is chosen? You can also change the HW it is synthesized to\n"
   ]
  }
 ],
 "metadata": {
  "kernelspec": {
   "display_name": "Python 3 (ipykernel)",
   "language": "python",
   "name": "python3"
  },
  "language_info": {
   "codemirror_mode": {
    "name": "ipython",
    "version": 3
   },
   "file_extension": ".py",
   "mimetype": "text/x-python",
   "name": "python",
   "nbconvert_exporter": "python",
   "pygments_lexer": "ipython3",
   "version": "3.10.10"
  },
  "vscode": {
   "interpreter": {
    "hash": "b0fa6594d8f4cbf19f97940f81e996739fb7646882a419484c72d19e05852a7e"
   }
  }
 },
 "nbformat": 4,
 "nbformat_minor": 5
}
