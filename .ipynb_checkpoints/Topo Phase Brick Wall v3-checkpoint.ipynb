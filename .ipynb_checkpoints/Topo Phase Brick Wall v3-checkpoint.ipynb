{
 "cells": [
  {
   "cell_type": "code",
   "execution_count": 154,
   "id": "d8064648",
   "metadata": {},
   "outputs": [],
   "source": [
    "import numpy as np \n",
    "import matplotlib.pyplot as plt \n",
    "import matplotlib.patches as mpatches\n",
    "import scipy.sparse.linalg as sla\n",
    "from scipy.linalg import eig\n",
    "from tqdm import tqdm\n",
    "import pickle \n",
    "from pfapack import pfaffian as pf\n",
    "from scipy.fft import ifftn\n",
    "import dask.array as da\n",
    "import scipy.integrate as integrate\n",
    "from scipy.integrate import quad"
   ]
  },
  {
   "cell_type": "code",
   "execution_count": 155,
   "id": "085c7989",
   "metadata": {},
   "outputs": [
    {
     "ename": "IndentationError",
     "evalue": "unexpected indent (2760039508.py, line 9)",
     "output_type": "error",
     "traceback": [
      "\u001b[0;36m  Cell \u001b[0;32mIn[155], line 9\u001b[0;36m\u001b[0m\n\u001b[0;31m    N1=((1/np.cosh(G/2))**(4))*(-8*np.cosh(G/2)**(3)-4*np.sinh(G/2)**(2)*np.cos(3*k)+2*(3*np.cosh(G)+1)*np.cos(k))/(8*A) #checked\u001b[0m\n\u001b[0m    ^\u001b[0m\n\u001b[0;31mIndentationError\u001b[0m\u001b[0;31m:\u001b[0m unexpected indent\n"
     ]
    }
   ],
   "source": [
    "#first of all write real space one and get MLWF through PxP method \n",
    "#after that write BdG and understand how to compute topo invariant from there\n",
    "#can we do Wilson loops? Wilson loops are extracted by the Bloch wavefunctions of the model (eigenfunctions in k space)\n",
    "#we can't because this is BdG hamiltonian and apparently you have to use winding or chern (not existing in 1D) so \n",
    "#basically winding seems to be only way\n",
    "\n",
    "\n",
    "#saving old H for safety\n",
    "    N1=((1/np.cosh(G/2))**(4))*(-8*np.cosh(G/2)**(3)-4*np.sinh(G/2)**(2)*np.cos(3*k)+2*(3*np.cosh(G)+1)*np.cos(k))/(8*A) #checked\n",
    "    N2=(-((1/np.cosh(G/2))**(4))/(4*A))*(4*np.cosh(G/2)**(3)-2*np.sinh(G/2)**(2)*np.cos(3*k)+3*np.cosh(G)*np.cos(k)+np.cos(k)) #checked\n",
    "    Hm=-np.tanh(G/2)*((1/np.cosh(G/2))**(3)*(np.cosh(G)+4*1j*np.sinh(G/2)*np.sin(k)**(3)+2*np.cos(2*k)-1))/(2*A) #checked\n",
    "    S1=-0.5*np.cosh(G/2)*((1/np.cosh(G/2))**(4))*np.sin(k)*(-np.cosh(G)*np.cos(2*k)+np.cos(2*k)+2)  #checked\n",
    "    S2=np.sqrt(2)*np.sqrt(np.cosh(G)+1)*np.tanh(G/2)*((1/np.cosh(G/2))**(3))*np.sin(k)*np.cos(k)*(1+1j*np.sinh(G/2)*np.sin(k))  #checked\n",
    "    \n",
    "    \n",
    "    \n",
    "    H = np.zeros((4,4), dtype=complex)\n",
    "    H[0,0]=N1      +eps1+d*np.cos(3*k)\n",
    "    H[0,1]=Hm      +1j*d*np.sin(3*k)\n",
    "    H[0,2]=S1\n",
    "    H[0,3]=S2\n",
    "    H[1,0]=Hm.conj()    +1j*d*np.sin(3*k)\n",
    "    H[1,1]=N2      +eps2+d*np.cos(3*k)\n",
    "    H[1,2]=S2.conj()\n",
    "    H[1,3]=-S1\n",
    "    H[2,0]=S1\n",
    "    H[2,1]=S2\n",
    "    H[2,2]=-N1      -eps1-d*np.cos(3*k)\n",
    "    H[2,3]=-Hm      -1j*d*np.sin(3*k)\n",
    "    H[3,0]=S2.conj()\n",
    "    H[3,1]=-S1\n",
    "    H[3,2]=-Hm.conj()          -1j*d*np.sin(3*k)\n",
    "    H[3,3]=-N2           -eps2-d*np.cos(3*k)\n",
    "    \n",
    "    return(H)"
   ]
  },
  {
   "cell_type": "code",
   "execution_count": 3,
   "id": "566fb2b3",
   "metadata": {},
   "outputs": [
    {
     "name": "stdout",
     "output_type": "stream",
     "text": [
      "N1= -0.1519034536588329 N2= -2.1141155179225284 Hm= (-0.07548147470329514-0.004818490239785586j) S1= -0.48293317722216567 S2= (0.11149663092729029+0.0073661077120277954j)\n"
     ]
    }
   ],
   "source": [
    "k,A,G=np.pi/6,0.875,0.2635\n",
    "\n",
    "\n",
    "N1=((1/np.cosh(G/2))**(4))*(-8*np.cosh(G/2)**(3)-4*np.sinh(G/2)**(2)*np.cos(3*k)+2*(3*np.cosh(G)+1)*np.cos(k))/(8*A) #checked\n",
    "N2=(-((1/np.cosh(G/2))**(4))/(4*A))*(4*np.cosh(G/2)**(3)-2*np.sinh(G/2)**(2)*np.cos(3*k)+3*np.cosh(G)*np.cos(k)+np.cos(k)) #checked\n",
    "Hm=-np.tanh(G/2)*((1/np.cosh(G/2))**(3)*(np.cosh(G)+4*1j*np.sinh(G/2)*np.sin(k)**(3)+2*np.cos(2*k)-1))/(2*A) #checked\n",
    "S1=-0.5*np.cosh(G/2)*((1/np.cosh(G/2))**(4))*np.sin(k)*(-np.cosh(G)*np.cos(2*k)+np.cos(2*k)+2)  #checked\n",
    "S2=np.sqrt(2)*np.sqrt(np.cosh(G)+1)*np.tanh(G/2)*((1/np.cosh(G/2))**(3))*np.sin(k)*np.cos(k)*(1+1j*np.sinh(G/2)*np.sin(k))  #checked\n",
    "\n",
    "\n",
    "\n",
    "\n",
    "\n",
    "print(\"N1=\",N1,\"N2=\",N2,\"Hm=\",Hm,\"S1=\",S1,\"S2=\",S2)"
   ]
  },
  {
   "cell_type": "code",
   "execution_count": 4,
   "id": "f0a891be",
   "metadata": {},
   "outputs": [
    {
     "ename": "NameError",
     "evalue": "name 'Na' is not defined",
     "output_type": "error",
     "traceback": [
      "\u001b[0;31m---------------------------------------------------------------------------\u001b[0m",
      "\u001b[0;31mNameError\u001b[0m                                 Traceback (most recent call last)",
      "Cell \u001b[0;32mIn[4], line 1\u001b[0m\n\u001b[0;32m----> 1\u001b[0m (\u001b[43mNa\u001b[49m(a,g) \u001b[38;5;241m+\u001b[39m Nb(a,g) \u001b[38;5;241m+\u001b[39m eps1 \u001b[38;5;241m+\u001b[39m eps2)\u001b[38;5;241m*\u001b[39mnp\u001b[38;5;241m.\u001b[39meye(\u001b[38;5;241m4\u001b[39m)\n",
      "\u001b[0;31mNameError\u001b[0m: name 'Na' is not defined"
     ]
    }
   ],
   "source": [
    "(Na(a,g) + Nb(a,g) + eps1 + eps2)*np.eye(4)"
   ]
  },
  {
   "cell_type": "code",
   "execution_count": 5,
   "id": "a48991e9",
   "metadata": {},
   "outputs": [
    {
     "data": {
      "text/plain": [
       "array([[2., 0., 0., 0.],\n",
       "       [0., 2., 0., 0.],\n",
       "       [0., 0., 2., 0.],\n",
       "       [0., 0., 0., 2.]])"
      ]
     },
     "execution_count": 5,
     "metadata": {},
     "output_type": "execute_result"
    }
   ],
   "source": [
    "eps1,eps2=1,1\n",
    "(eps1 + eps2)*np.eye(4)"
   ]
  },
  {
   "cell_type": "code",
   "execution_count": 40,
   "id": "00c42eea",
   "metadata": {},
   "outputs": [],
   "source": [
    "#Define Hamiltonian, choose random k value, evaluate for A, G and test if PH operator sigmax cross sigmax flips its sign\n",
    "def Na(a,g):\n",
    "    return (4*np.exp(g/2)*(1+3*np.exp(2*g)))/((1+np.exp(g))**(4)*a)\n",
    "\n",
    "def Nb(a,g):\n",
    "    return (4*np.exp(3*g/2)*(3+np.exp(2*g)))/((1+np.exp(g))**(4)*a)\n",
    "\n",
    "\n",
    "def H(k,A,G,eps1,eps2,d):\n",
    "    \n",
    "\n",
    "    N1=((1/np.cosh(G/2))**(4))*(-8*np.cosh(G/2)**(3)-4*np.sinh(G/2)**(2)*np.cos(3*k)+2*(3*np.cosh(G)+1)*np.cos(k))/(8*A) -eps1+d*np.cos(3*k)#checked\n",
    "    N2=(-((1/np.cosh(G/2))**(4))/(4*A))*(4*np.cosh(G/2)**(3)-2*np.sinh(G/2)**(2)*np.cos(3*k)+3*np.cosh(G)*np.cos(k)+np.cos(k)) -eps2-d*np.cos(3*k) #checked\n",
    "    Hm=-np.tanh(G/2)*((1/np.cosh(G/2))**(3)*(np.cosh(G)+4*1j*np.sinh(G/2)*np.sin(k)**(3)+2*np.cos(2*k)-1))/(2*A) -1j*d*np.sin(3*k)#checked\n",
    "    S1=-0.5*np.cosh(G/2)*((1/np.cosh(G/2))**(4))*np.sin(k)*(-np.cosh(G)*np.cos(2*k)+np.cos(2*k)+2)  #checked\n",
    "    S2=np.sqrt(2)*np.sqrt(np.cosh(G)+1)*np.tanh(G/2)*((1/np.cosh(G/2))**(3))*np.sin(k)*np.cos(k)*(1+1j*np.sinh(G/2)*np.sin(k))  #checked\n",
    "    \n",
    "    \n",
    "    \n",
    "    H = np.zeros((4,4), dtype=complex)\n",
    "    H[0,0]=N1      \n",
    "    H[0,1]=Hm      #+1j*d*np.sin(3*k)\n",
    "    H[0,2]=S1\n",
    "    H[0,3]=S2\n",
    "    H[1,0]=Hm.conj()#    -1j*d*np.sin(3*k)\n",
    "    H[1,1]=N2      \n",
    "    H[1,2]=S2.conj()\n",
    "    H[1,3]=-S1\n",
    "    H[2,0]=S1\n",
    "    H[2,1]=S2\n",
    "    H[2,2]=-N1      #-eps1-d*np.cos(3*k)\n",
    "    H[2,3]=-Hm      #-1j*d*np.sin(3*k)\n",
    "    H[3,0]=S2.conj()\n",
    "    H[3,1]=-S1\n",
    "    H[3,2]=-Hm.conj()#          +1j*d*np.sin(3*k)\n",
    "    H[3,3]=-N2        #   -eps2-d*np.cos(3*k)\n",
    "    \n",
    "    return(H)\n",
    "\n",
    "def magical(k,A,G,eps1,eps2,d):\n",
    "    #magic Unitary\n",
    "    U = np.array([[1,1],[1j,-1j]], dtype='complex128')\n",
    "    U = np.kron(U,np.eye(2))\n",
    "    magic = (1/2)*(U@U)\n",
    "    return (magic@H(k,A,G,eps1,eps2,d)@magic.conj().T)[:2, 2:]\n",
    "\n",
    "id=np.array([[1,0],[0,1]])\n",
    "sigma_x=np.array([[0,1],[1,0]])\n",
    "sigma_z=np.array([[1,0],[0,-1]])\n",
    "\n",
    "\n",
    "\n",
    "def complex_quadrature(func, a, b, **kwargs):\n",
    "    def real_func(x):\n",
    "        return np.real(func(x))\n",
    "    def imag_func(x):\n",
    "        return np.imag(func(x))\n",
    "    real_integral = quad(real_func, a, b,limit=200)\n",
    "    imag_integral = quad(imag_func, a, b,limit=200)\n",
    "    return ((real_integral[0] + 1j*imag_integral[0]))\n",
    "\n",
    "def integrand(k, a, g,eps1,eps2,d):\n",
    "    k_res=0.001\n",
    "    inv = (np.linalg.inv(magical(k,a,g,eps1,eps2,d)))\n",
    "    der = (1/(2*k_res))*(magical(k+k_res,a,g,eps1,eps2,d)-magical(k-k_res,a,g,eps1,eps2,d))\n",
    "    temp = inv@der\n",
    "    return np.trace(temp)"
   ]
  },
  {
   "cell_type": "code",
   "execution_count": 11,
   "id": "d3419e96",
   "metadata": {},
   "outputs": [
    {
     "name": "stdout",
     "output_type": "stream",
     "text": [
      "-1.3464898969819459 -5.515110765607379 (0.08060645126060295-1.1331213879500972j) -0.6118989305671946 (0.33240133441813613+0.1906866839174626j)\n"
     ]
    }
   ],
   "source": [
    "N1=((1/np.cosh(G/2))**(4))*(-8*np.cosh(G/2)**(3)-4*np.sinh(G/2)**(2)*np.cos(3*k)+2*(3*np.cosh(G)+1)*np.cos(k))/(8*A) #checked\n",
    "N2=(-((1/np.cosh(G/2))**(4))/(4*A))*(4*np.cosh(G/2)**(3)-2*np.sinh(G/2)**(2)*np.cos(3*k)+3*np.cosh(G)*np.cos(k)+np.cos(k)) #checked\n",
    "Hm=-np.tanh(G/2)*((1/np.cosh(G/2))**(3)*(np.cosh(G)+4*1j*np.sinh(G/2)*np.sin(k)**(3)+2*np.cos(2*k)-1))/(2*A) #checked\n",
    "S1=-0.5*np.cosh(G/2)*((1/np.cosh(G/2))**(4))*np.sin(k)*(-np.cosh(G)*np.cos(2*k)+np.cos(2*k)+2)  #checked\n",
    "S2=np.sqrt(2)*np.sqrt(np.cosh(G)+1)*np.tanh(G/2)*((1/np.cosh(G/2))**(3))*np.sin(k)*np.cos(k)*(1+1j*np.sinh(G/2)*np.sin(k))  #checked\n",
    "A,G,k=1,1,0\n",
    "print(N1,N2,Hm,S1,S2)"
   ]
  },
  {
   "cell_type": "code",
   "execution_count": 12,
   "id": "ce551d79",
   "metadata": {},
   "outputs": [
    {
     "name": "stdout",
     "output_type": "stream",
     "text": [
      "[[-1.3464899 +0.61189893j  0.27129314-1.46552272j]\n",
      " [-0.11008023+0.80072005j -5.51511077-0.61189893j]]\n"
     ]
    }
   ],
   "source": [
    "k,G,A=np.pi/3,1.2432,0.243\n",
    "print(magical(k,A,G,0,0,0))"
   ]
  },
  {
   "cell_type": "code",
   "execution_count": 13,
   "id": "4129a60c",
   "metadata": {
    "scrolled": true
   },
   "outputs": [
    {
     "name": "stdout",
     "output_type": "stream",
     "text": [
      "Time reversal C1 is True\n",
      "PH C2 is True\n",
      "Mysterious chiral C3=C2C1 is True\n"
     ]
    }
   ],
   "source": [
    "C1 = np.kron(sigma_z,np.eye(2))\n",
    "C2= np.kron(sigma_x,np.eye(2))\n",
    "C3=C2@C1\n",
    "eps,d=2,2\n",
    "#verify commutation relations \n",
    "#time reversal\n",
    "print('Time reversal C1 is',np.allclose(C1@H(-1,2,1,eps,eps,d).conj()@C1,H(1,2,1,eps,eps,d)))\n",
    "\n",
    "#PH symmetry\n",
    "print('PH C2 is',np.allclose(C2@np.conj(H(0.1,2,1,eps,eps,d))@C2+H(-0.1,2,1,eps,eps,d),0*np.eye(4)))\n",
    "\n",
    "#weird chiral\n",
    "print('Mysterious chiral C3=C2C1 is',np.allclose(C3@H(0.1,2,1,eps,eps,d)@C3,H(0.1,2,1,eps,eps,d)))"
   ]
  },
  {
   "cell_type": "code",
   "execution_count": 14,
   "id": "7efb1ff4",
   "metadata": {
    "scrolled": true
   },
   "outputs": [
    {
     "data": {
      "text/plain": [
       "True"
      ]
     },
     "execution_count": 14,
     "metadata": {},
     "output_type": "execute_result"
    }
   ],
   "source": [
    "#hermiticity check\n",
    "eps,d=1,1\n",
    "np.allclose(H(1,1,1,eps,eps,d).conj().T-H(1,1,1,eps,eps,d),0*np.eye(4))"
   ]
  },
  {
   "cell_type": "code",
   "execution_count": 15,
   "id": "5ea7dce2",
   "metadata": {},
   "outputs": [
    {
     "data": {
      "text/plain": [
       "False"
      ]
     },
     "execution_count": 15,
     "metadata": {},
     "output_type": "execute_result"
    }
   ],
   "source": [
    "#unitarity check (not expected in BdG basis)\n",
    "np.allclose(H(1,1,1,0,0,0)@H(1,1,1,0,0,0).conj().T,np.eye(4))"
   ]
  },
  {
   "cell_type": "code",
   "execution_count": 16,
   "id": "d837db5b",
   "metadata": {
    "scrolled": true
   },
   "outputs": [
    {
     "data": {
      "text/plain": [
       "array([[0.+0.j, 0.+0.j, 0.-1.j, 0.+0.j],\n",
       "       [0.+0.j, 0.+0.j, 0.+0.j, 0.-1.j],\n",
       "       [0.+1.j, 0.+0.j, 0.+0.j, 0.+0.j],\n",
       "       [0.+0.j, 0.+1.j, 0.+0.j, 0.+0.j]])"
      ]
     },
     "execution_count": 16,
     "metadata": {},
     "output_type": "execute_result"
    }
   ],
   "source": [
    "#verify if U2@C2@U2=sigma_z\n",
    "U = np.array([[1,1],[1j,-1j]], dtype='complex128')\n",
    "U = np.kron(U,np.eye(2))\n",
    "magic = (1/2)*(U@U)\n",
    "magic@C2@magic.conj().T"
   ]
  },
  {
   "cell_type": "code",
   "execution_count": 796,
   "id": "21a5e710",
   "metadata": {},
   "outputs": [
    {
     "name": "stderr",
     "output_type": "stream",
     "text": [
      "100%|███████████████████████████████████████████████████████████████████████████████████| 10/10 [01:10<00:00,  7.03s/it]\n"
     ]
    }
   ],
   "source": [
    "#chiral index\n",
    "k_res=0.001\n",
    "eps_range = np.arange(-0.5,0.5,0.1)\n",
    "d_range = np.arange(-0.5,0.5,0.1) \n",
    "k_range = np.arange(-np.pi, np.pi, k_res)\n",
    "\n",
    "#trying original formula \n",
    "A1 = np.zeros((len(eps_range),len(d_range)), dtype='c16')\n",
    "a,g=1,1\n",
    "for m,eps in enumerate(tqdm(eps_range)):\n",
    "    \n",
    "    for n,d in enumerate(d_range):\n",
    "        \n",
    "        v=np.zeros(len(k_range),dtype='c16')\n",
    "\n",
    "        for i,k in enumerate(k_range):\n",
    "            \n",
    "            \n",
    "            inv = (np.linalg.inv(magical(k,a,g,eps,eps,d)))\n",
    "            der = (1/(2*k_res))*(magical(k+k_res,a,g,eps,eps,d)-magical(k-k_res,a,g,eps,eps,d))\n",
    "            temp = inv@der\n",
    "            v[i]= np.trace(temp)\n",
    "           \n",
    "        v_tot=(k_res)*(1/(2*np.pi*1j))*np.sum(v,axis=0)  \n",
    "   \n",
    "        A1[m,n]=v_tot\n",
    "    \n",
    "\n"
   ]
  },
  {
   "cell_type": "code",
   "execution_count": 797,
   "id": "41257bdb",
   "metadata": {},
   "outputs": [
    {
     "data": {
      "text/plain": [
       "Text(0, 0.5, '$\\\\delta$')"
      ]
     },
     "execution_count": 797,
     "metadata": {},
     "output_type": "execute_result"
    },
    {
     "data": {
      "image/png": "[encoded data removed]",
      "text/plain": [
       "<Figure size 640x480 with 2 Axes>"
      ]
     },
     "metadata": {},
     "output_type": "display_data"
    }
   ],
   "source": [
    "csfont = {'fontname':'Serif'}\n",
    "x,y = eps_range, d_range \n",
    "grid=np.real(np.flipud(A1))\n",
    "\n",
    "# Create a new figure and add a subplot\n",
    "fig, ax = plt.subplots()\n",
    "\n",
    "\n",
    "cax= plt.imshow(grid, extent=(x.min(), x.max(), y.min(), y.max()),\n",
    "           interpolation='none',cmap='tab10')\n",
    "\n",
    "fig.colorbar(cax)\n",
    "#plt.title('eps1=0.5,eps2=0.5,d=0',**csfont)\n",
    "plt.xlabel(r'$\\epsilon$',**csfont)\n",
    "#plt.ylim(-1.5,1.5)\n",
    "plt.ylabel(r'$\\delta$',**csfont)\n"
   ]
  },
  {
   "cell_type": "code",
   "execution_count": 712,
   "id": "34c43a6e",
   "metadata": {},
   "outputs": [
    {
     "name": "stdout",
     "output_type": "stream",
     "text": [
      "(0.9999999801848299+0j)\n"
     ]
    }
   ],
   "source": [
    "eps,d=0,0\n",
    "a,g=1,1\n",
    "    \n",
    "v_tot=complex_quadrature(lambda k: integrand(k,a,g,eps,eps,d),-np.pi,np.pi)\n",
    "v_tot = (1/(2*np.pi*1j))*v_tot\n",
    "   \n",
    "print(v_tot)  "
   ]
  },
  {
   "cell_type": "code",
   "execution_count": 156,
   "id": "3da1f399",
   "metadata": {},
   "outputs": [],
   "source": [
    "A1[50,50] =0 #77064083944.6119-10004053335.21335j"
   ]
  },
  {
   "cell_type": "code",
   "execution_count": 367,
   "id": "e8af8853",
   "metadata": {},
   "outputs": [],
   "source": [
    "#saving data\n",
    "with open('scan eps vs delta final,a='+str(a)+'g='+str(g)+',k_res='+str(k_res)+'.pkl', 'wb') as file:\n",
    "      \n",
    "    # A new file will be created\n",
    "    pickle.dump(A1, file)"
   ]
  },
  {
   "cell_type": "code",
   "execution_count": 339,
   "id": "bb446bff",
   "metadata": {},
   "outputs": [],
   "source": []
  },
  {
   "cell_type": "code",
   "execution_count": 271,
   "id": "6bbecd94",
   "metadata": {},
   "outputs": [
    {
     "data": {
      "text/plain": [
       "(0.999999823664872+0j)"
      ]
     },
     "execution_count": 271,
     "metadata": {},
     "output_type": "execute_result"
    }
   ],
   "source": [
    "a,g,eps1,eps2,d=1,1,0,0,-0.2\n",
    "(1/(2*np.pi*1j))*complex_quadrature(lambda k: integrand(k,a,g,eps1,eps2,d),-np.pi,np.pi)"
   ]
  },
  {
   "cell_type": "code",
   "execution_count": null,
   "id": "4053b3e4",
   "metadata": {},
   "outputs": [
    {
     "name": "stderr",
     "output_type": "stream",
     "text": [
      "  0%|                                                                                           | 0/440 [00:00<?, ?it/s]/tmp/ipykernel_732/2681109019.py:59: IntegrationWarning: The occurrence of roundoff error is detected, which prevents \n",
      "  the requested tolerance from being achieved.  The error may be \n",
      "  underestimated.\n",
      "  imag_integral = quad(imag_func, a, b,limit=200)\n",
      " 48%|████████████████████████████████████                                        | 209/440 [18:23:11<3:16:19, 50.99s/it]"
     ]
    }
   ],
   "source": [
    "# trying integrator\n",
    "\n",
    "#chiral index\n",
    "k_res=0.001\n",
    "par_res=0.0025\n",
    "eps_range = np.arange(-0.5,0.6,par_res)\n",
    "d_range = np.arange(-0.5,0.6,par_res) \n",
    "k_range = np.arange(-np.pi, np.pi, k_res)\n",
    "a_range=np.array([1])\n",
    "#trying original formula \n",
    "A1 = np.zeros((len(eps_range),len(d_range)), dtype='c16')\n",
    "\n",
    "g=1\n",
    "\n",
    "for i,a in enumerate(a_range):\n",
    "    \n",
    "    for m,eps in enumerate(tqdm(eps_range)):\n",
    "        \n",
    "        for n,d in enumerate(d_range):\n",
    "            \n",
    "            try:\n",
    "                # Attempt to evaluate the integral\n",
    "                v_tot = complex_quadrature(lambda k: integrand(k, a, g, eps, -eps, d), -np.pi, np.pi)\n",
    "    \n",
    "                # Normalize the result\n",
    "                v_tot = (1 / (2 * np.pi * 1j)) * v_tot\n",
    "    \n",
    "                # Store the result in the matrix\n",
    "                A1[m, n] = v_tot\n",
    "    \n",
    "            except Exception as e:\n",
    "                # Handle the exception (e.g., matrix is singular, integral diverges)\n",
    "                print(f\"Integration failed for ({eps}, {d}): {e}\")\n",
    "                \n",
    "                # Assign a specific value to A1[m, n] when integration fails\n",
    "                A1[m, n] = 10  # You can replace np.nan with any other value\n",
    "\n",
    "\n",
    "    \n",
    "     #saving data\n",
    "    with open('DEF eps vs delta,eps1=-eps2,a='+str(a)+'g='+str(g)+'par_res='+str(par_res)+'.pkl', 'wb') as file:\n",
    "            \n",
    "        # A new file will be created\n",
    "        pickle.dump(A1, file)   \n",
    "        \n",
    "    \n",
    "\n"
   ]
  },
  {
   "cell_type": "code",
   "execution_count": 181,
   "id": "e951d6b9",
   "metadata": {
    "scrolled": true
   },
   "outputs": [
    {
     "data": {
      "text/plain": [
       "Text(0, 0.5, '$\\\\epsilon$')"
      ]
     },
     "execution_count": 181,
     "metadata": {},
     "output_type": "execute_result"
    },
    {
     "data": {
      "image/png": "[encoded data removed]",
      "text/plain": [
       "<Figure size 640x480 with 2 Axes>"
      ]
     },
     "metadata": {},
     "output_type": "display_data"
    }
   ],
   "source": [
    "with open('DEF eps vs delta,a=5g=1e-10par_res=0.0025.pkl', 'rb') as file:\n",
    "    fil = pickle.load(file)\n",
    "\n",
    "\n",
    "csfont = {'fontname':'Serif'}\n",
    "x,y = eps_range, d_range \n",
    "grid=np.real(np.flipud(A1))\n",
    "\n",
    "# Create a new figure and add a subplot\n",
    "fig, ax = plt.subplots()\n",
    "\n",
    "\n",
    "cax= plt.imshow(grid, extent=(x.min(), x.max(), y.min(), y.max()),\n",
    "           interpolation='none',cmap='Dark2')\n",
    "\n",
    "fig.colorbar(cax)\n",
    "#plt.title('eps1=0.5,eps2=0.5,d=0',**csfont)\n",
    "plt.xlabel(r'$\\delta$',**csfont,size=15)\n",
    "plt.ylim(-0.5,0.5)\n",
    "plt.xlim(-0.5,0.5)\n",
    "plt.ylabel(r'$\\epsilon$',**csfont,size=15)\n",
    "#plt.savefig(\"/mnt/c/Users/azorzat/OneDrive - UvA/Desktop/Plots Paper/SUPERFINAL topo plot a=5 g=0.pdf\", bbox_inches='tight')  "
   ]
  },
  {
   "cell_type": "code",
   "execution_count": 148,
   "id": "34a91b05",
   "metadata": {},
   "outputs": [
    {
     "data": {
      "text/plain": [
       "array([-1.99999837-0.j, -1.99999837-0.j, -1.99999837-0.j, ...,\n",
       "       -1.99999837-0.j, -1.99999837-0.j, -1.99999837-0.j])"
      ]
     },
     "execution_count": 148,
     "metadata": {},
     "output_type": "execute_result"
    }
   ],
   "source": [
    "fil[fil<-1.6]"
   ]
  },
  {
   "cell_type": "code",
   "execution_count": 82,
   "id": "78417432",
   "metadata": {},
   "outputs": [],
   "source": [
    "np.flipud(fil)[394,0]=2.000001672673836+0j"
   ]
  },
  {
   "cell_type": "code",
   "execution_count": 737,
   "id": "55b4a3d1",
   "metadata": {},
   "outputs": [
    {
     "name": "stdout",
     "output_type": "stream",
     "text": [
      "(1.4999995686669565+0j)\n"
     ]
    }
   ],
   "source": [
    "a,g,eps,d=1,1,0.1,0.1\n",
    "v_tot=complex_quadrature(lambda k: integrand(k,a,g,eps,eps,d),-np.pi,np.pi)\n",
    "\n",
    "v_tot = (1/(2*np.pi*1j))*v_tot\n",
    "print(v_tot)"
   ]
  },
  {
   "cell_type": "code",
   "execution_count": 153,
   "id": "25bb9b73",
   "metadata": {},
   "outputs": [
    {
     "data": {
      "text/plain": [
       "[<matplotlib.lines.Line2D at 0x7fd1d3343cd0>,\n",
       " <matplotlib.lines.Line2D at 0x7fd1d3343d00>,\n",
       " <matplotlib.lines.Line2D at 0x7fd1d3343d30>,\n",
       " <matplotlib.lines.Line2D at 0x7fd1d3343e20>]"
      ]
     },
     "execution_count": 153,
     "metadata": {},
     "output_type": "execute_result"
    },
    {
     "data": {
      "image/png": "[encoded data removed]",
      "text/plain": [
       "<Figure size 640x480 with 1 Axes>"
      ]
     },
     "metadata": {},
     "output_type": "display_data"
    }
   ],
   "source": [
    "eigenvalues=np.zeros((len(k_range),4))\n",
    "eps,d=-0.2,-0.2\n",
    "for i,k in enumerate(k_range):\n",
    "    #print(i,k)\n",
    "    #inverse = np.linalg.inv(H(k,1,1,eps,eps,d))\n",
    "    eigvals,_=np.linalg.eigh(H(k,1,1e-10,eps,eps,d))\n",
    "    #print(eigvals)\n",
    "    eigenvalues[i,:]=eigvals#[np.argsort(eigvals)]\n",
    "    #eigenvectors[i,:]=eigvecs\n",
    "plt.plot(k_range,eigenvalues,c='b')\n",
    "#plt.plot(k_range,-eigenvalues)\n",
    "#plt.xlim(-0.1,0.1)\n",
    "#plt.ylim(-0.1,0.1)\n",
    "#print(inverse)"
   ]
  },
  {
   "cell_type": "code",
   "execution_count": 823,
   "id": "adb34c08",
   "metadata": {},
   "outputs": [
    {
     "ename": "TypeError",
     "evalue": "'<' not supported between instances of 'builtin_function_or_method' and 'float'",
     "output_type": "error",
     "traceback": [
      "\u001b[0;31m---------------------------------------------------------------------------\u001b[0m",
      "\u001b[0;31mTypeError\u001b[0m                                 Traceback (most recent call last)",
      "File \u001b[0;32m<timed exec>:21\u001b[0m\n",
      "\u001b[0;31mTypeError\u001b[0m: '<' not supported between instances of 'builtin_function_or_method' and 'float'"
     ]
    }
   ],
   "source": [
    "%%time\n",
    "#plot spectrum of H BdG\n",
    "\n",
    "\n",
    "\n",
    "from itertools import cycle\n",
    "from matplotlib.colors import Normalize\n",
    "csfont = {'fontname':'Serif'}\n",
    "colormap1 = plt.cm.cool\n",
    "k_range = np.arange(-np.pi,np.pi,0.001)\n",
    "delta_range=np.arange(0.3,0.5,0.01)\n",
    "eigenvalues=np.zeros((len(delta_range),len(k_range),4))\n",
    "color_cycle1 = cycle(colormap1(np.linspace(0, 1, len(delta_range))))\n",
    "eps=0.4\n",
    "th=1e-5\n",
    "for j,d in enumerate(delta_range):\n",
    "    for i,k in enumerate(k_range):\n",
    "        #print(i,k)\n",
    "        eigvals,_=np.linalg.eigh(H(k,1,1,eps,eps,d))\n",
    "        #print(eigvals)\n",
    "        eigenvalues[j,i,:]=eigvals#[np.argsort(eigvals)]\n",
    "        if (eigvals.any<th):\n",
    "            print(j,i)         #implement fn to s;pot when eigvals are 0\n",
    "        #eigenvectors[i,:]=eigvecs\n",
    "for j in range(len(delta_range)):\n",
    "    color1=next(color_cycle1)\n",
    "    #print(j)\n",
    "    plt.plot(k_range, eigenvalues[j],c=color1)\n",
    "    #plt.plot(k_range, -eigenvalues[j],c='g')\n",
    "#plt.xlim(-0.1,0.1)\n",
    "#plt.ylim(-0.1,0.1)"
   ]
  },
  {
   "cell_type": "code",
   "execution_count": 41,
   "id": "a827068d",
   "metadata": {},
   "outputs": [],
   "source": [
    "eps,d=0.3,0.1\n",
    "eigvals,_=np.linalg.eigh(H(1,1,1,eps,eps,d))"
   ]
  },
  {
   "cell_type": "code",
   "execution_count": 42,
   "id": "6a126d11",
   "metadata": {
    "scrolled": true
   },
   "outputs": [
    {
     "name": "stdout",
     "output_type": "stream",
     "text": [
      "[-1.86792952 -0.97508684  0.97508684  1.86792952]\n"
     ]
    }
   ],
   "source": [
    "print(eigvals)"
   ]
  },
  {
   "cell_type": "code",
   "execution_count": 674,
   "id": "ce9c83ee",
   "metadata": {},
   "outputs": [
    {
     "name": "stdout",
     "output_type": "stream",
     "text": [
      "element 00= (-0.33239386671293797+0j)\n",
      "element 01= (0.04660631462290702-0.18602227914353003j)\n",
      "element 02= (-0.6531897459686514+0j)\n",
      "element 03= (0.3304668646647564+0.1449052852546782j)\n",
      "element 10= (0.04660631462290702+0.18602227914353003j)\n",
      "element 11= (-1.4392424005472992+0j)\n",
      "element 12= (0.3304668646647564-0.1449052852546782j)\n",
      "element 13= (0.6531897459686514+0j)\n",
      "element 20= (-0.6531897459686514+0j)\n",
      "element 21= (0.3304668646647564+0.1449052852546782j)\n",
      "element 22= (0.33239386671293797+0j)\n",
      "element 23= (-0.04660631462290702+0.18602227914353003j)\n",
      "element 30= (0.3304668646647564-0.1449052852546782j)\n",
      "element 31= (0.6531897459686514+0j)\n",
      "element 32= (-0.04660631462290702-0.18602227914353003j)\n",
      "element 33= (1.4392424005472992+0j)\n"
     ]
    }
   ],
   "source": [
    "eps,d=0.3,0.1\n",
    "for i in range(4):\n",
    "    for j in range(4):\n",
    "        print('element '+str(i)+str(j)+'=',H(1,1,1,eps,eps,d)[i][j])"
   ]
  },
  {
   "cell_type": "code",
   "execution_count": null,
   "id": "b0d98850",
   "metadata": {},
   "outputs": [],
   "source": []
  }
 ],
 "metadata": {
  "kernelspec": {
   "display_name": "Python 3 (ipykernel)",
   "language": "python",
   "name": "python3"
  },
  "language_info": {
   "codemirror_mode": {
    "name": "ipython",
    "version": 3
   },
   "file_extension": ".py",
   "mimetype": "text/x-python",
   "name": "python",
   "nbconvert_exporter": "python",
   "pygments_lexer": "ipython3",
   "version": "3.10.9"
  }
 },
 "nbformat": 4,
 "nbformat_minor": 5
}
