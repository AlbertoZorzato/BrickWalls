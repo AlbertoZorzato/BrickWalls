{
 "cells": [
  {
   "cell_type": "code",
   "execution_count": 14,
   "id": "3c8c7fc2",
   "metadata": {},
   "outputs": [],
   "source": [
    "from tqdm import tqdm\n",
    "from qiskit import quantum_info\n",
    "from qiskit.quantum_info import DensityMatrix, Statevector, partial_trace\n",
    "from qiskit.visualization import plot_histogram\n",
    "import matplotlib.pyplot as plt\n",
    "import numpy as np\n",
    "#from qiskit_experiments.framework import ParallelExperiment\n",
    "from qiskit_experiments.library import StateTomography\n",
    "from qiskit.providers.aer import AerSimulator\n",
    "from qiskit.providers.fake_provider import FakeParis\n",
    "from numpy.linalg import norm \n",
    "import cvxpy\n",
    "#set noisy simulator backend \n",
    "#backend = AerSimulator.from_backend(FakeParis())\n",
    "from qiskit import QuantumCircuit, transpile\n",
    "from qiskit.quantum_info import Operator\n",
    "from qiskit.transpiler import PassManager\n",
    "from qiskit.transpiler.passes import Unroller\n",
    "#visualization\n",
    "from qiskit.visualization import plot_state_city\n",
    "from qiskit.visualization import plot_histogram\n",
    "from qiskit import QuantumCircuit\n",
    "from qiskit.quantum_info import SparsePauliOp\n",
    "from qiskit.circuit import Parameter\n",
    "from qiskit.primitives import Estimator\n",
    "from qiskit_ibm_runtime import Estimator, Session, QiskitRuntimeService, Options, Sampler\n",
    "from qiskit.visualization import array_to_latex\n"
   ]
  },
  {
   "cell_type": "code",
   "execution_count": 27,
   "id": "c3c930c7",
   "metadata": {},
   "outputs": [],
   "source": [
    "#define unitary\n",
    "def U(A,T,G):\n",
    "    U = np.zeros((4,4), dtype=complex)\n",
    "    \n",
    "    U[0,0]=(-1+2*1j*A*np.cosh(G/2)*(1/np.sinh(T)))/np.sqrt((1+2*A**(2)*(1/np.tanh(T))*(1/np.sinh(T)))+2*A**(2)*np.cosh(G)*(1/np.sinh(T))**2)\n",
    "    \n",
    "    U[0,3]=(1j*A*(1/np.cosh(T/2)))/np.sqrt((1+2*A**(2)*(1/np.tanh(T))*(1/np.sinh(T)))+2*A**(2)*np.cosh(G)*(1/np.sinh(T))**2)\n",
    "    \n",
    "    U[1,1]=(1j*A*(1/np.sinh(T/2)))/np.sqrt((1+2*A**(2)*(1/np.tanh(T))*(1/np.sinh(T)))+2*A**(2)*np.cosh(G)*(1/np.sinh(T))**2)\n",
    "    \n",
    "    U[1,2]=(-1+2*1j*A*(1/np.sinh(T))*np.sinh(G/2))/np.sqrt((1+2*A**(2)*(1/np.tanh(T))*(1/np.sinh(T)))+2*A**(2)*np.cosh(G)*(1/np.sinh(T))**2)\n",
    "    \n",
    "    U[2,1]=(-1-2*1j*A*(1/np.sinh(T))*np.sinh(G/2))/np.sqrt((1+2*A**(2)*(1/np.tanh(T))*(1/np.sinh(T)))+2*A**(2)*np.cosh(G)*(1/np.sinh(T))**2)\n",
    "    \n",
    "    U[2,2]=(1j*A*(1/np.sinh(T/2)))/np.sqrt((1+2*A**(2)*(1/np.tanh(T))*(1/np.sinh(T)))+2*A**(2)*np.cosh(G)*(1/np.sinh(T))**2)\n",
    "    \n",
    "    U[3,0]=-(1j*A*(1/np.cosh(T/2)))/np.sqrt((1+2*A**(2)*(1/np.tanh(T))*(1/np.sinh(T)))+2*A**(2)*np.cosh(G)*(1/np.sinh(T))**2)\n",
    "    \n",
    "    U[3,3]=(1+2*1j*A*np.cosh(G/2)*(1/np.sinh(T)))/np.sqrt((1+2*A**(2)*(1/np.tanh(T))*(1/np.sinh(T)))+2*A**(2)*np.cosh(G)*(1/np.sinh(T))**2)\n",
    "    \n",
    "    return(U)\n",
    "\n",
    "def Ureal(A,T,G):  #NUMERICALLY CHECKED, CORRECT#\n",
    "    \n",
    "    Ur = np.zeros((4,4), dtype=complex)\n",
    "    \n",
    "    coef1=np.sqrt(1+A**(2)*(4*np.cosh(G/2)**(2)*(1/np.sinh(T)**(2))+(1/np.cosh(T/2)**2)))\n",
    "    \n",
    "    coef2=np.sqrt(2*A**(2)*(np.cosh(G)+np.cosh(T))+np.sinh(T)**2)\n",
    "    \n",
    "    \n",
    "    Ur[0,0]=(1j+2*A*np.cosh(G/2)*(1/np.sinh(T)))/coef1\n",
    "    \n",
    "    Ur[0,3]=(2*A*np.sinh(T/2))/coef2\n",
    "    \n",
    "    Ur[1,1]=(2*A*np.cosh(T/2))/coef2\n",
    "    \n",
    "    Ur[1,2]=(1j + 2*A*(1/np.sinh(T))*np.sinh(G/2))/coef1\n",
    "    \n",
    "    Ur[2,1]=(1j - 2*A*(1/np.sinh(T))*np.sinh(G/2))/coef1\n",
    "    \n",
    "    Ur[2,2]=(2*A*np.cosh(T/2))/coef2\n",
    "    \n",
    "    Ur[3,0]=-(2*A*np.sinh(T/2))/coef2\n",
    "    \n",
    "    Ur[3,3]=(-1j+2*A*np.cosh(G/2)*(1/np.sinh(T)))/coef1\n",
    "    \n",
    "    return(Ur)\n",
    "\n",
    "def bwassembler(qc,matrix,layers,n):\n",
    "    \n",
    "    m=0\n",
    "    while m < layers:\n",
    "        i=0;j=0;    \n",
    "        #even layer\n",
    "        while i < n/2:\n",
    "            qc.unitary(matrix, [2*i,2*i+1])\n",
    "            i+=1;\n",
    "        qc.barrier(range(n))\n",
    "        #odd layer\n",
    "        while j < n/2:\n",
    "            \n",
    "            if j == (n/2 - 1):\n",
    "                qc.unitary(matrix,[2*j+1,0])\n",
    "                \n",
    "            else:\n",
    "                qc.unitary(matrix, [2*j+1,2*j+2])\n",
    "            \n",
    "            j+=1;\n",
    "        qc.barrier(range(n))\n",
    "        \n",
    "        m+=1\n",
    "    \n",
    "    return(qc)\n",
    "\n",
    "def bwassembler_z(qc,matrix,layers,n):    #CHECKED#\n",
    "    \n",
    "    m=0\n",
    "    while m < layers:\n",
    "        i=0;j=0;    \n",
    "        #even layer\n",
    "        while i < n/2:\n",
    "            qc.unitary(matrix, [2*i,2*i+1])\n",
    "            i+=1;\n",
    "        qc.barrier(range(n)) \n",
    "        #odd layer\n",
    "        while j < n/2:\n",
    "            \n",
    "            if j == (n/2 - 1):\n",
    "                \n",
    "                qc.unitary(perm4site(matrix),[0,1,2,3],label='ZZ')\n",
    "                \n",
    "            else:\n",
    "                qc.unitary(matrix, [2*j+1,2*j+2])\n",
    "            \n",
    "            j+=1;\n",
    "        qc.barrier(range(n))\n",
    "        \n",
    "        m+=1\n",
    "    \n",
    "    return(qc)\n",
    "\n",
    "\n",
    "def perm4site(U):   #CHECKED#\n",
    "    \n",
    "    P = np.array([[1,0,0,0],[0,0,1,0],[0,1,0,0],[0,0,0,-1]])\n",
    "    \n",
    "    P12 = np.kron(P,np.eye(4))\n",
    "    P23 = np.kron(np.eye(2),np.kron(P,np.eye(2)))\n",
    "    P34 = np.kron(np.eye(4),P)\n",
    "    S34 = np.kron(np.eye(4),U)\n",
    "    \n",
    "    return P12@P23@P34@S34@P34@P23@P12\n",
    "       \n",
    "    \n",
    "def prodstaten(n):   #CHECKED#\n",
    "    \n",
    "    X = np.array([[0,1],[1,0]])\n",
    "    X0 = np.zeros((n,2**n,2**n),dtype = complex)\n",
    "    \n",
    "    for i in range(0,n):   \n",
    "        X0[i]=np.kron(np.kron(np.eye(2**i),X),np.eye(2**(n-i-1)))\n",
    "    operator = np.eye(2**n)\n",
    "    for i in range(0,n//2):\n",
    "        operator = (X0[2*i]-1j*X0[2*i+1])@operator\n",
    "    return (1/np.sqrt(2**(n//2)))*operator\n",
    "\n",
    "def ry(T):\n",
    "    return np.array([[np.cos(T/2),-np.sin(T/2)],[np.sin(T/2),np.cos(T/2)]])\n",
    "\n",
    "\n",
    "Z = np.array([[1,0],[0,-1]]);\n"
   ]
  },
  {
   "cell_type": "code",
   "execution_count": 25,
   "id": "e3382c88",
   "metadata": {},
   "outputs": [
    {
     "data": {
      "text/plain": [
       "(16, 16)"
      ]
     },
     "execution_count": 25,
     "metadata": {},
     "output_type": "execute_result"
    }
   ],
   "source": [
    "\n",
    "temp=np.kron(Z,np.kron(Z,np.kron(ry(np.pi/2),np.eye(2))))  \n",
    "temp.shape"
   ]
  },
  {
   "cell_type": "code",
   "execution_count": 34,
   "id": "1ad5483c",
   "metadata": {},
   "outputs": [],
   "source": [
    "#OTOC\n",
    "#PLUS PART\n",
    "\n",
    "\n",
    "def circ_plus(n,A,T,G,step,layers,pos):\n",
    "    matrix = Ureal(A,T/step,G)\n",
    "    q0 = QuantumCircuit(n)\n",
    "    qc = QuantumCircuit(n)\n",
    "    qcc = QuantumCircuit(n)\n",
    "    circ = QuantumCircuit(n)\n",
    "    \n",
    "    #Zstring as pietro suggested\n",
    "    #temp=np.kron(Z,np.kron(Z,np.kron(ry(np.pi/2),np.eye(2))))  \n",
    "    #q0.unitary(temp,[0,1,2,3])\n",
    "    \n",
    "    #V_i perturbation pi/2\n",
    "    q0.ry((np.pi/2),2,label='V_plus')\n",
    "    qc.barrier(range(n))\n",
    "    #fwd evolution\n",
    "    matrix = Ureal(1,1,1)\n",
    "    bwassembler_z(qc,matrix,layers,n)\n",
    "    qcc.z(pos)\n",
    "    qc.barrier(range(n))\n",
    "    circ=qc.compose(qcc)\n",
    "    circ=circ.compose(qc.inverse())\n",
    "    q0 = q0.compose(circ)\n",
    "    \n",
    "    return q0\n",
    "\n",
    "\n",
    "\n",
    "#OTOC\n",
    "#MINUS PART\n",
    "\n",
    "\n",
    "def circ_minus(n,A,T,G,step,layers,pos):\n",
    "    \n",
    "    matrix = Ureal(A,T/step,G)\n",
    "    q0 = QuantumCircuit(n)\n",
    "    qc = QuantumCircuit(n)\n",
    "    qcc = QuantumCircuit(n)\n",
    "    circ = QuantumCircuit(n)\n",
    "    \n",
    "    #perturbation with Z string\n",
    "    #Zstring as pietro suggested\n",
    "    #temp=np.kron(Z,np.kron(Z,np.kron(ry(-np.pi/2),np.eye(2))))  \n",
    "    #q0.unitary(temp,[0,1,2,3])\n",
    "    \n",
    "    #V_i perturbation -pi/2\n",
    "    q0.ry((-np.pi/2),2,label='V_minus')\n",
    "    qc.barrier(range(n))\n",
    "    #fwd evolution\n",
    "    matrix = Ureal(1,1,1)\n",
    "    bwassembler_z(qc,matrix,layers,n)\n",
    "    qcc.z(pos)\n",
    "    qc.barrier(range(n))\n",
    "    circ=qc.compose(qcc)\n",
    "    circ=circ.compose(qc.inverse())\n",
    "    q0 = q0.compose(circ)\n",
    "    \n",
    "    return q0\n",
    "\n",
    "\n",
    "\n",
    "\n",
    "\n",
    "\n",
    "def bwassembler_z(qc,matrix,layers,n):    #CHECKED#\n",
    "    \n",
    "    m=0\n",
    "    while m < layers:\n",
    "        i=0;j=0;    \n",
    "        #even layer\n",
    "        while i < n/2:\n",
    "            qc.unitary(matrix, [2*i,2*i+1])\n",
    "            i+=1;\n",
    "        qc.barrier(range(n)) \n",
    "        #odd layer\n",
    "        while j < n/2:\n",
    "            \n",
    "            if j == (n/2 - 1):\n",
    "                \n",
    "                qc.unitary(perm4site(matrix),[0,1,2,3],label='ZZ')\n",
    "                \n",
    "            else:\n",
    "                qc.unitary(matrix, [2*j+1,2*j+2])\n",
    "            \n",
    "            j+=1;\n",
    "        qc.barrier(range(n))\n",
    "        \n",
    "        m+=1\n",
    "    \n",
    "    return(qc)\n",
    "\n",
    "\n",
    "\n",
    "#define reversed BW\n",
    "def revbwassembler_z(qc,matrix,layers,n):\n",
    "    matrix=matrix.conj().T\n",
    "    m=0\n",
    "    while m < layers:\n",
    "        i=0;j=0;    \n",
    "        \n",
    "        #odd layer\n",
    "        while j < n/2:\n",
    "            \n",
    "            if j == (n/2 - 1):\n",
    "                qc.unitary(perm4site(matrix),[0,1,2,3],label='ZZ')\n",
    "            else:\n",
    "                qc.unitary(matrix, [2*j+1,2*j+2])\n",
    "            \n",
    "            j+=1;\n",
    "        qc.barrier(range(n))\n",
    "        \n",
    "        #even layer\n",
    "        while i < n/2:\n",
    "            qc.unitary(matrix, [2*i,2*i+1])\n",
    "            i+=1;\n",
    "        qc.barrier(range(n))\n",
    "        \n",
    "        \n",
    "        m+=1\n",
    "    qc.barrier(range(n))\n",
    "    return(qc)\n",
    "\n",
    "#define operators to measure\n",
    "def generate_pauli(n, j):\n",
    "    if n <= 0 or j < 0 or  j >= n:\n",
    "        raise ValueError(\"Invalid input values\")\n",
    "    \n",
    "    pauli_str = \"I\" * n  # Initialize with n identity operators\n",
    "    # Set the Z at position i and j\n",
    "    pauli_str_list = list(pauli_str)\n",
    "    pauli_str_list[j] = \"X\"\n",
    "    pauli_str = \"\".join(pauli_str_list)\n",
    "    op = SparsePauliOp(pauli_str, coeffs=[1])\n",
    "    \n",
    "    return op\n",
    "\n",
    "def prodstaten(n):\n",
    "    \n",
    "    X = np.array([[0,1],[1,0]])\n",
    "    X0 = np.zeros((n,2**n,2**n),dtype = complex)\n",
    "    \n",
    "    for i in range(0,n):   \n",
    "        X0[i]=np.kron(np.kron(np.eye(2**i),X),np.eye(2**(n-i-1)))\n",
    "    operator = np.eye(2**n)\n",
    "    for i in range(0,n//2):\n",
    "        operator = (X0[2*i]-1j*X0[2*i+1])@operator\n",
    "    return (1/np.sqrt(2**(n//2)))*operator\n",
    "    \n",
    "def bell_pair1(qc, a, b):\n",
    "    \n",
    "    qc.h(a) # Put qubit a into state |+> or |-> using hadamard gate\n",
    "    qc.cx(a,b) # CNOT with a as control and b as target\n",
    "    \n",
    "def bell_pair4(qc,a,b):\n",
    "    \n",
    "    qc.h(a)\n",
    "    qc.x(b)\n",
    "    qc.z(a)\n",
    "    qc.z(b)\n",
    "    qc.cx(a,b)\n",
    "    \n",
    "\n",
    "def perm4site(U):\n",
    "    \n",
    "    P = np.array([[1,0,0,0],[0,0,1,0],[0,1,0,0],[0,0,0,-1]])\n",
    "    \n",
    "    P12 = np.kron(P,np.eye(4))\n",
    "    P23 = np.kron(np.eye(2),np.kron(P,np.eye(2)))\n",
    "    P34 = np.kron(np.eye(4),P)\n",
    "    \n",
    "    S34 = np.kron(np.eye(4),U)\n",
    "    \n",
    "    return P12@P23@P34@S34@P34@P23@P12"
   ]
  },
  {
   "cell_type": "code",
   "execution_count": 35,
   "id": "e173722f",
   "metadata": {},
   "outputs": [],
   "source": [
    "dispcolors = {'cx':('#426299', '#000000'),\n",
    "              'cswap':('#705399', '#000000'),\n",
    "              'cp':('#CFFF8B', '#000000')}\n",
    "#qc.draw(output='mpl',style={'displaycolor':dispcolors}, filename='my_circuit.pdf')"
   ]
  },
  {
   "cell_type": "code",
   "execution_count": 7,
   "id": "e77b09f6",
   "metadata": {},
   "outputs": [],
   "source": [
    "#sqrt(iSWAP)\n",
    "sqiswap = np.array( [\n",
    "    [1, 0, 0, 0],\n",
    "    [0, 1/np.sqrt(2), 1j/np.sqrt(2), 0],\n",
    "    [0, 1j/np.sqrt(2), 1/np.sqrt(2), 0],\n",
    "    [0, 0, 0, 1] ])"
   ]
  },
  {
   "cell_type": "code",
   "execution_count": 5,
   "id": "a128e4c7",
   "metadata": {},
   "outputs": [],
   "source": [
    "# Save an IBM Quantum account.\n",
    "QiskitRuntimeService.save_account(channel=\"ibm_quantum\", token=\"b58a80862cd6d4e3f8618d0fb10c85a7415315bcf55dd407e498ce33bdd4709623e266b4fdee952700733135cd2fa847c7bffa65966a4efb0aa2ae6a4ad7b583\", overwrite=True)"
   ]
  },
  {
   "cell_type": "code",
   "execution_count": 32,
   "id": "cbeb273e",
   "metadata": {
    "scrolled": true
   },
   "outputs": [
    {
     "name": "stderr",
     "output_type": "stream",
     "text": [
      "  0%|                                                                                             | 0/4 [00:00<?, ?it/s]\n",
      "0it [00:00, ?it/s]\u001b[A\n",
      "1it [00:07,  7.40s/it]\u001b[A\n",
      "2it [00:16,  8.55s/it]\u001b[A\n",
      "3it [00:24,  8.12s/it]\u001b[A\n",
      "4it [00:32,  8.01s/it]\u001b[A\n",
      "5it [00:40,  8.02s/it]\u001b[A\n",
      " 25%|█████████████████████▎                                                               | 1/4 [00:40<02:00, 40.09s/it]\n",
      "0it [00:00, ?it/s]\u001b[A\n",
      "1it [00:07,  7.39s/it]\u001b[A\n",
      "2it [00:14,  7.26s/it]\u001b[A\n",
      "3it [00:22,  7.49s/it]\u001b[A\n",
      "4it [00:30,  7.72s/it]\u001b[A\n",
      "5it [00:37,  7.55s/it]\u001b[A\n",
      " 50%|██████████████████████████████████████████▌                                          | 2/4 [01:17<01:17, 38.70s/it]\n",
      "0it [00:00, ?it/s]\u001b[A\n",
      "1it [00:07,  7.05s/it]\u001b[A\n",
      "2it [00:14,  7.36s/it]\u001b[A\n",
      "3it [00:22,  7.50s/it]\u001b[A\n",
      "4it [00:29,  7.41s/it]\u001b[A\n",
      "5it [00:37,  7.42s/it]\u001b[A\n",
      " 75%|███████████████████████████████████████████████████████████████▊                     | 3/4 [01:54<00:37, 37.96s/it]\n",
      "0it [00:00, ?it/s]\u001b[A\n",
      "1it [00:08,  8.86s/it]\u001b[A\n",
      "2it [00:16,  8.29s/it]\u001b[A\n",
      "3it [00:24,  7.99s/it]\u001b[A\n",
      "4it [00:36,  9.73s/it]\u001b[A\n",
      "5it [00:45,  9.08s/it]\u001b[A\n",
      "100%|█████████████████████████████████████████████████████████████████████████████████████| 4/4 [02:40<00:00, 40.08s/it]\n"
     ]
    }
   ],
   "source": [
    "#MAIN (TROTTER)\n",
    "\n",
    "#parameters\n",
    "n,A,T,G,step=4,3,1,1,1\n",
    "time=5\n",
    "layer = 10\n",
    "times = np.array([0,1,2,3,4])\n",
    "thetas= np.arange(0.0001,0.5,0.1)\n",
    "C = np.zeros((n,len(thetas)),dtype=float)\n",
    "\n",
    "#specify the credentials when initializing QiskitRuntimeService, if they are not previously saved\n",
    "service = QiskitRuntimeService(channel=\"ibm_quantum\")\n",
    "backend = service.backend(\"ibmq_qasm_simulator\")\n",
    "\n",
    "#settings job execution\n",
    "options = Options()\n",
    "options.execution.shots = 500\n",
    "options.optimization_level = 1  # optimization\n",
    "options.resilience_level = 1  # mitigation\n",
    "\n",
    "for i in tqdm(range(0,n)):\n",
    "    for k,theta in tqdm(enumerate(thetas)):\n",
    "        trans_plus=circ_plus(n,A,theta/layer,G,step,layer,i)\n",
    "        trans_minus=circ_minus(n,A,theta/layer,G,step,layer,i)\n",
    "        \n",
    "        \n",
    "        #generate operator to measure\n",
    "        op=generate_pauli(n,n//2)\n",
    "        #runtime plus\n",
    "        with Session(service=service, backend=backend) as session:\n",
    "            estimator_sim = Estimator(session=session, options=options)\n",
    "            job_sim = estimator_sim.run(circuits=[trans_plus], observables=[op])\n",
    "            values_plus = job_sim.result().values\n",
    "        #runtime minus\n",
    "        with Session(service=service, backend=backend) as session:\n",
    "            estimator_sim = Estimator(session=session, options=options)\n",
    "            job_sim = estimator_sim.run(circuits=[trans_minus], observables=[op])\n",
    "            values_minus = job_sim.result().values\n",
    "        Corr = 2 + values_minus - values_plus\n",
    "        C[i,k]=Corr"
   ]
  },
  {
   "cell_type": "code",
   "execution_count": 33,
   "id": "d23305ab",
   "metadata": {},
   "outputs": [
    {
     "data": {
      "text/plain": [
       "<matplotlib.colorbar.Colorbar at 0x7f58a311d7b0>"
      ]
     },
     "execution_count": 33,
     "metadata": {},
     "output_type": "execute_result"
    },
    {
     "data": {
      "image/png": "[encoded data removed]",
      "text/plain": [
       "<Figure size 640x480 with 2 Axes>"
      ]
     },
     "metadata": {},
     "output_type": "display_data"
    }
   ],
   "source": [
    "Cnew=np.flipud(np.transpose(C))\n",
    "plt.imshow(Cnew)\n",
    "plt.xlabel('Sites')\n",
    "plt.ylabel('Time')\n",
    "plt.title('A='+str(A)+' T='+str(T)+' G='+str(G)+' size='+str(n)+' init=0 step='+str(step))\n",
    "plt.colorbar()\n"
   ]
  },
  {
   "cell_type": "code",
   "execution_count": 81,
   "id": "52fa3280",
   "metadata": {
    "scrolled": true
   },
   "outputs": [
    {
     "name": "stderr",
     "output_type": "stream",
     "text": [
      "\n",
      "KeyboardInterrupt\n",
      "\n"
     ]
    }
   ],
   "source": [
    "#MAIN 2 THE ONE THAT IS GONNA WORK (THETA SWEEP)\n",
    "#theta0*layers=t\n",
    "#parameters\n",
    "n,A,G,step=6,1,0,1\n",
    "times = [j for j in range(1,5)]\n",
    "\n",
    "thetas= np.arange(0,3,0.1)\n",
    "C = np.zeros((n,len(thetas)),dtype=float)\n",
    "\n",
    "\n",
    "#specify the credentials when initializing QiskitRuntimeService, if they are not previously saved\n",
    "service = QiskitRuntimeService(channel=\"ibm_quantum\")\n",
    "backend = service.backend(\"simulator_statevector\")\n",
    "\n",
    "#settings job execution\n",
    "options = Options()\n",
    "options.execution.shots = 4000\n",
    "options.optimization_level = 1  # optimization\n",
    "options.resilience_level = 1  # mitigation\n",
    "\n",
    "for i in tqdm(range(0,n)):\n",
    "    for k,theta in enumerate(tqdm(thetas)):\n",
    "        \n",
    "        trans_plus=circ_plus(n,A,theta,G,step,1,i)\n",
    "        trans_minus=circ_minus(n,A,theta,G,step,1,i)\n",
    "        \n",
    "        \n",
    "        #generate operator to measure\n",
    "        op=generate_pauli(n,n//2)\n",
    "        #runtime plus\n",
    "        with Session(service=service, backend=backend) as session:\n",
    "            estimator_sim = Estimator(session=session, options=options)\n",
    "            job_sim = estimator_sim.run(circuits=[trans_plus], observables=[op])\n",
    "            values_plus = job_sim.result().values\n",
    "        #runtime minus\n",
    "        with Session(service=service, backend=backend) as session:\n",
    "            estimator_sim = Estimator(session=session, options=options)\n",
    "            job_sim = estimator_sim.run(circuits=[trans_minus], observables=[op])\n",
    "            values_minus = job_sim.result().values\n",
    "        Corr = 2 + values_minus - values_plus\n",
    "        C[i,k]=Corr"
   ]
  },
  {
   "cell_type": "code",
   "execution_count": null,
   "id": "c8422cc0",
   "metadata": {},
   "outputs": [],
   "source": [
    "Cnew=np.flipud(np.transpose(C))\n",
    "plt.imshow(Cnew)\n",
    "plt.xlabel('Sites')\n",
    "plt.ylabel('Time')\n",
    "#plt.title('A='+str(A)+' T='+str(T)+' G='+str(G)+' size='+str(n)+' init='+str(init)+' step='+str(step))\n",
    "plt.colorbar()"
   ]
  },
  {
   "cell_type": "code",
   "execution_count": 286,
   "id": "8e8e058d",
   "metadata": {
    "collapsed": true
   },
   "outputs": [
    {
     "data": {
      "text/plain": [
       "<matplotlib.colorbar.Colorbar at 0x7f8714e66380>"
      ]
     },
     "execution_count": 286,
     "metadata": {},
     "output_type": "execute_result"
    },
    {
     "data": {
      "image/png": "[encoded data removed]",
      "text/plain": [
       "<Figure size 640x480 with 2 Axes>"
      ]
     },
     "metadata": {},
     "output_type": "display_data"
    }
   ],
   "source": [
    "Cnew=np.flipud(np.transpose(C))\n",
    "plt.imshow(Cnew)\n",
    "plt.xlabel('Sites')\n",
    "plt.ylabel('Time')\n",
    "plt.title('A='+str(A)+' T='+str(T)+' G='+str(G)+' size='+str(n)+' init='+str(init)+' step='+str(step))\n",
    "plt.colorbar()"
   ]
  },
  {
   "cell_type": "code",
   "execution_count": 83,
   "id": "e7b00f99",
   "metadata": {},
   "outputs": [
    {
     "data": {
      "text/plain": [
       "SparsePauliOp(['XIIII'],\n",
       "              coeffs=[10.+0.j])"
      ]
     },
     "execution_count": 83,
     "metadata": {},
     "output_type": "execute_result"
    }
   ],
   "source": [
    "generate_pauli(5,0)"
   ]
  },
  {
   "cell_type": "code",
   "execution_count": null,
   "id": "e0e2a617",
   "metadata": {},
   "outputs": [],
   "source": [
    "#saving data\n",
    "with open('tau='+str(tau)+' h='+str(h)+' J='+str(J)+' n='+str(n)+' init: '+str(string), 'wb') as file:\n",
    "      \n",
    "    # A new file will be created\n",
    "    pickle.dump(ent_entropy, file)"
   ]
  },
  {
   "cell_type": "code",
   "execution_count": null,
   "id": "8e5ad723",
   "metadata": {},
   "outputs": [],
   "source": [
    "#loading data\n",
    "with open('tau='+str(tau)+' h='+str(h)+' J='+str(J)+' n=10', 'rb') as file:\n",
    "    loaded_data = pickle.load(file)"
   ]
  },
  {
   "cell_type": "markdown",
   "id": "0a847435",
   "metadata": {},
   "source": [
    "## Reversibility of circuit test"
   ]
  },
  {
   "cell_type": "code",
   "execution_count": 73,
   "id": "d4df117c",
   "metadata": {},
   "outputs": [
    {
     "ename": "NameError",
     "evalue": "name 'dispcolors' is not defined",
     "output_type": "error",
     "traceback": [
      "\u001b[0;31m---------------------------------------------------------------------------\u001b[0m",
      "\u001b[0;31mNameError\u001b[0m                                 Traceback (most recent call last)",
      "Cell \u001b[0;32mIn[73], line 7\u001b[0m\n\u001b[1;32m      5\u001b[0m string \u001b[38;5;241m=\u001b[39m \u001b[38;5;124m\"\u001b[39m\u001b[38;5;124m1110\u001b[39m\u001b[38;5;124m\"\u001b[39m \n\u001b[1;32m      6\u001b[0m QuantumCircuit\u001b[38;5;241m.\u001b[39minitialize(qc,string)\n\u001b[0;32m----> 7\u001b[0m qc\u001b[38;5;241m.\u001b[39mdraw(output\u001b[38;5;241m=\u001b[39m\u001b[38;5;124m'\u001b[39m\u001b[38;5;124mmpl\u001b[39m\u001b[38;5;124m'\u001b[39m,style\u001b[38;5;241m=\u001b[39m{\u001b[38;5;124m'\u001b[39m\u001b[38;5;124mdisplaycolor\u001b[39m\u001b[38;5;124m'\u001b[39m:\u001b[43mdispcolors\u001b[49m}, filename\u001b[38;5;241m=\u001b[39m\u001b[38;5;124m'\u001b[39m\u001b[38;5;124mmy_circuit.pdf\u001b[39m\u001b[38;5;124m'\u001b[39m)\n",
      "\u001b[0;31mNameError\u001b[0m: name 'dispcolors' is not defined"
     ]
    }
   ],
   "source": [
    "n=4\n",
    "layers=1\n",
    "matrix=U(1,1,1)\n",
    "qc=QuantumCircuit(n)\n",
    "string = \"1110\" \n",
    "QuantumCircuit.initialize(qc,string)\n",
    "qc.draw(output='mpl',style={'displaycolor':dispcolors}, filename='my_circuit.pdf')\n"
   ]
  },
  {
   "cell_type": "code",
   "execution_count": 149,
   "id": "7416dc88",
   "metadata": {},
   "outputs": [
    {
     "data": {
      "text/latex": [
       "$$\n",
       "\n",
       "\\begin{bmatrix}\n",
       "0 & 0 & 0 & 0 & \\cdots & 0 & 0 & 0  \\\\\n",
       " \\end{bmatrix}\n",
       "$$"
      ],
      "text/plain": [
       "<IPython.core.display.Latex object>"
      ]
     },
     "execution_count": 149,
     "metadata": {},
     "output_type": "execute_result"
    }
   ],
   "source": []
  },
  {
   "cell_type": "markdown",
   "id": "e5363c2b",
   "metadata": {},
   "source": [
    "# # Debug circuit "
   ]
  },
  {
   "cell_type": "code",
   "execution_count": 31,
   "id": "56f4aa83",
   "metadata": {},
   "outputs": [
    {
     "data": {
      "image/png": "[encoded data removed]",
      "text/plain": [
       "<Figure size 1959.72x367.889 with 1 Axes>"
      ]
     },
     "execution_count": 31,
     "metadata": {},
     "output_type": "execute_result"
    }
   ],
   "source": [
    "n,A,T,G,step,layers,pos=4,1,1,1,1,1,2\n",
    "q0=circ_minus(n,A,T,G,step,layers,pos)\n",
    "q0.draw(output='mpl',style={'displaycolor':dispcolors}, filename='my_circuit.pdf')    "
   ]
  },
  {
   "cell_type": "code",
   "execution_count": 87,
   "id": "d331bd20",
   "metadata": {},
   "outputs": [
    {
     "data": {
      "text/latex": [
       "$$- \\frac{1}{2} |0101\\rangle- \\frac{i}{2} |0110\\rangle- \\frac{i}{2} |1001\\rangle+\\frac{1}{2} |1010\\rangle$$"
      ],
      "text/plain": [
       "<IPython.core.display.Latex object>"
      ]
     },
     "execution_count": 87,
     "metadata": {},
     "output_type": "execute_result"
    }
   ],
   "source": [
    "qc = QuantumCircuit(4)\n",
    "# Set the initial state of the simulator to the ground state using from_int\n",
    "state = Statevector.from_int(0, 2**4)\n",
    "\n",
    "# Evolve the state by the quantum circuit\n",
    "state = state.evolve(prodstaten(4))\n",
    "\n",
    "\n",
    "#draw using latex\n",
    "state.draw('latex')"
   ]
  },
  {
   "cell_type": "code",
   "execution_count": 92,
   "id": "ec2e4e77",
   "metadata": {},
   "outputs": [],
   "source": [
    "mat1 = Operator(bwassembler_z(qc,matrix,1,4))"
   ]
  },
  {
   "cell_type": "code",
   "execution_count": 93,
   "id": "9d1a8d10",
   "metadata": {},
   "outputs": [],
   "source": [
    "mat2 = Operator(revbwassembler_z(qc,matrix,1,4))"
   ]
  },
  {
   "cell_type": "code",
   "execution_count": 94,
   "id": "5875f496",
   "metadata": {},
   "outputs": [],
   "source": [
    "mat1=mat1.data\n",
    "mat2=mat2.data"
   ]
  },
  {
   "cell_type": "code",
   "execution_count": 95,
   "id": "400398ea",
   "metadata": {},
   "outputs": [
    {
     "name": "stdout",
     "output_type": "stream",
     "text": [
      "[[-4.12883506e-01-8.08592174e-01j  0.00000000e+00+0.00000000e+00j\n",
      "   0.00000000e+00+0.00000000e+00j -1.07160052e-02-1.39627887e-01j\n",
      "   0.00000000e+00+0.00000000e+00j -9.66707623e-18+7.85682431e-18j\n",
      "   4.88290800e-02+2.53896975e-01j  0.00000000e+00+0.00000000e+00j\n",
      "   0.00000000e+00+0.00000000e+00j -4.88290800e-02-2.53896975e-01j\n",
      "   2.37110117e-17+2.74293430e-17j  0.00000000e+00+0.00000000e+00j\n",
      "  -1.07160052e-02-1.39627887e-01j  0.00000000e+00+0.00000000e+00j\n",
      "   0.00000000e+00+0.00000000e+00j -4.35406083e-17+5.28057061e-02j]\n",
      " [ 0.00000000e+00+0.00000000e+00j -1.42521109e-01+5.82285966e-01j\n",
      "   2.29504477e-02-1.63814997e-01j  0.00000000e+00+0.00000000e+00j\n",
      "  -8.19645215e-02-1.45783812e-01j  0.00000000e+00+0.00000000e+00j\n",
      "   0.00000000e+00+0.00000000e+00j  8.21407049e-02-1.73588659e-01j\n",
      "  -1.51803238e-01-6.87754469e-01j  0.00000000e+00+0.00000000e+00j\n",
      "   0.00000000e+00+0.00000000e+00j -1.17429578e-17-6.39261658e-02j\n",
      "   0.00000000e+00+0.00000000e+00j -4.40276301e-02+1.20782953e-01j\n",
      "  -1.87610536e-17+1.78195254e-01j  0.00000000e+00+0.00000000e+00j]\n",
      " [ 0.00000000e+00+0.00000000e+00j -1.51803238e-01-6.87754469e-01j\n",
      "   7.09562056e-02+9.76977796e-02j  0.00000000e+00+0.00000000e+00j\n",
      "   2.29504477e-02-1.63814997e-01j  0.00000000e+00+0.00000000e+00j\n",
      "   0.00000000e+00+0.00000000e+00j  3.47545316e-17+1.78195254e-01j\n",
      "  -4.14532006e-01-4.48245348e-01j  0.00000000e+00+0.00000000e+00j\n",
      "   0.00000000e+00+0.00000000e+00j -4.40276301e-02-1.20782953e-01j\n",
      "   0.00000000e+00+0.00000000e+00j -7.73151175e-17-6.39261658e-02j\n",
      "   8.21407049e-02+1.73588659e-01j  0.00000000e+00+0.00000000e+00j]\n",
      " [-4.88290800e-02-2.53896975e-01j  0.00000000e+00+0.00000000e+00j\n",
      "   0.00000000e+00+0.00000000e+00j -3.44402237e-02-5.22123755e-17j\n",
      "   0.00000000e+00+0.00000000e+00j -4.91343567e-02+1.97442517e-01j\n",
      "   1.44900475e-17+3.38166779e-02j  0.00000000e+00+0.00000000e+00j\n",
      "   0.00000000e+00+0.00000000e+00j  2.87893812e-17+8.75557731e-01j\n",
      "  -4.91343567e-02-1.97442517e-01j  0.00000000e+00+0.00000000e+00j\n",
      "  -1.20737701e-01+2.22477468e-17j  0.00000000e+00+0.00000000e+00j\n",
      "   0.00000000e+00+0.00000000e+00j  4.88290800e-02-2.53896975e-01j]\n",
      " [ 0.00000000e+00+0.00000000e+00j -8.19645215e-02-1.45783812e-01j\n",
      "  -1.51803238e-01-6.87754469e-01j  0.00000000e+00+0.00000000e+00j\n",
      "  -1.42521109e-01+5.82285966e-01j  0.00000000e+00+0.00000000e+00j\n",
      "   0.00000000e+00+0.00000000e+00j -4.40276301e-02+1.20782953e-01j\n",
      "   2.29504477e-02-1.63814997e-01j  0.00000000e+00+0.00000000e+00j\n",
      "   0.00000000e+00+0.00000000e+00j -2.12461742e-17+1.78195254e-01j\n",
      "   0.00000000e+00+0.00000000e+00j  8.21407049e-02-1.73588659e-01j\n",
      "  -5.36803052e-17-6.39261658e-02j  0.00000000e+00+0.00000000e+00j]\n",
      " [-2.84449194e-17+3.12318244e-17j  0.00000000e+00+0.00000000e+00j\n",
      "   0.00000000e+00+0.00000000e+00j -2.23888043e-01+4.39563936e-01j\n",
      "   0.00000000e+00+0.00000000e+00j  3.38634147e-01-2.03308286e-01j\n",
      "  -4.91343567e-02+1.97442517e-01j  0.00000000e+00+0.00000000e+00j\n",
      "   0.00000000e+00+0.00000000e+00j -4.91343567e-02+1.97442517e-01j\n",
      "  -6.00232202e-17+5.23939472e-01j  0.00000000e+00+0.00000000e+00j\n",
      "   2.23888043e-01-4.39563936e-01j  0.00000000e+00+0.00000000e+00j\n",
      "   0.00000000e+00+0.00000000e+00j -8.73683975e-17-1.71476813e-17j]\n",
      " [ 1.07160052e-02+1.39627887e-01j  0.00000000e+00+0.00000000e+00j\n",
      "   0.00000000e+00+0.00000000e+00j  5.10098246e-17-5.42928501e-01j\n",
      "   0.00000000e+00+0.00000000e+00j -2.23888043e-01+4.39563936e-01j\n",
      "  -3.44402237e-02-6.59680046e-17j  0.00000000e+00+0.00000000e+00j\n",
      "   0.00000000e+00+0.00000000e+00j  1.20737701e-01+7.87851809e-18j\n",
      "   2.23888043e-01+4.39563936e-01j  0.00000000e+00+0.00000000e+00j\n",
      "   6.59421271e-17-4.04423965e-01j  0.00000000e+00+0.00000000e+00j\n",
      "   0.00000000e+00+0.00000000e+00j  1.07160052e-02-1.39627887e-01j]\n",
      " [ 0.00000000e+00+0.00000000e+00j  4.40276301e-02-1.20782953e-01j\n",
      "  -7.43513661e-18-1.78195254e-01j  0.00000000e+00+0.00000000e+00j\n",
      "  -8.21407049e-02+1.73588659e-01j  0.00000000e+00+0.00000000e+00j\n",
      "   0.00000000e+00+0.00000000e+00j  7.09562056e-02-9.76977796e-02j\n",
      "  -2.75171448e-17+6.39261658e-02j  0.00000000e+00+0.00000000e+00j\n",
      "   0.00000000e+00+0.00000000e+00j  1.51803238e-01-6.87754469e-01j\n",
      "   0.00000000e+00+0.00000000e+00j -4.14532006e-01+4.48245348e-01j\n",
      "  -2.29504477e-02-1.63814997e-01j  0.00000000e+00+0.00000000e+00j]\n",
      " [ 0.00000000e+00+0.00000000e+00j  2.29504477e-02-1.63814997e-01j\n",
      "  -4.14532006e-01-4.48245348e-01j  0.00000000e+00+0.00000000e+00j\n",
      "  -1.51803238e-01-6.87754469e-01j  0.00000000e+00+0.00000000e+00j\n",
      "   0.00000000e+00+0.00000000e+00j -2.00648624e-17-6.39261658e-02j\n",
      "   7.09562056e-02+9.76977796e-02j  0.00000000e+00+0.00000000e+00j\n",
      "   0.00000000e+00+0.00000000e+00j  8.21407049e-02+1.73588659e-01j\n",
      "   0.00000000e+00+0.00000000e+00j -4.37839601e-18+1.78195254e-01j\n",
      "  -4.40276301e-02-1.20782953e-01j  0.00000000e+00+0.00000000e+00j]\n",
      " [-1.07160052e-02-1.39627887e-01j  0.00000000e+00+0.00000000e+00j\n",
      "   0.00000000e+00+0.00000000e+00j  6.54721064e-17+4.04423965e-01j\n",
      "   0.00000000e+00+0.00000000e+00j -2.23888043e-01+4.39563936e-01j\n",
      "   1.20737701e-01+7.23927587e-18j  0.00000000e+00+0.00000000e+00j\n",
      "   0.00000000e+00+0.00000000e+00j -3.44402237e-02+7.16668923e-17j\n",
      "   2.23888043e-01+4.39563936e-01j  0.00000000e+00+0.00000000e+00j\n",
      "   5.40092508e-17+5.42928501e-01j  0.00000000e+00+0.00000000e+00j\n",
      "   0.00000000e+00+0.00000000e+00j -1.07160052e-02+1.39627887e-01j]\n",
      " [-9.55075199e-17+2.08972449e-17j  0.00000000e+00+0.00000000e+00j\n",
      "   0.00000000e+00+0.00000000e+00j -2.23888043e-01-4.39563936e-01j\n",
      "   0.00000000e+00+0.00000000e+00j -7.34754870e-17-5.23939472e-01j\n",
      "   4.91343567e-02+1.97442517e-01j  0.00000000e+00+0.00000000e+00j\n",
      "   0.00000000e+00+0.00000000e+00j  4.91343567e-02+1.97442517e-01j\n",
      "   3.38634147e-01+2.03308286e-01j  0.00000000e+00+0.00000000e+00j\n",
      "   2.23888043e-01+4.39563936e-01j  0.00000000e+00+0.00000000e+00j\n",
      "   0.00000000e+00+0.00000000e+00j -2.03171292e-17-1.94693210e-17j]\n",
      " [ 0.00000000e+00+0.00000000e+00j -5.52550499e-17+6.39261658e-02j\n",
      "  -8.21407049e-02-1.73588659e-01j  0.00000000e+00+0.00000000e+00j\n",
      "  -1.48353444e-17-1.78195254e-01j  0.00000000e+00+0.00000000e+00j\n",
      "   0.00000000e+00+0.00000000e+00j -2.29504477e-02-1.63814997e-01j\n",
      "   4.40276301e-02+1.20782953e-01j  0.00000000e+00+0.00000000e+00j\n",
      "   0.00000000e+00+0.00000000e+00j -1.42521109e-01-5.82285966e-01j\n",
      "   0.00000000e+00+0.00000000e+00j  1.51803238e-01-6.87754469e-01j\n",
      "  -8.19645215e-02+1.45783812e-01j  0.00000000e+00+0.00000000e+00j]\n",
      " [-4.88290800e-02-2.53896975e-01j  0.00000000e+00+0.00000000e+00j\n",
      "   0.00000000e+00+0.00000000e+00j -1.20737701e-01-3.68203318e-18j\n",
      "   0.00000000e+00+0.00000000e+00j  4.91343567e-02-1.97442517e-01j\n",
      "   3.16238764e-17-8.75557731e-01j  0.00000000e+00+0.00000000e+00j\n",
      "   0.00000000e+00+0.00000000e+00j  2.93564595e-17-3.38166779e-02j\n",
      "   4.91343567e-02+1.97442517e-01j  0.00000000e+00+0.00000000e+00j\n",
      "  -3.44402237e-02+6.14623599e-17j  0.00000000e+00+0.00000000e+00j\n",
      "   0.00000000e+00+0.00000000e+00j  4.88290800e-02-2.53896975e-01j]\n",
      " [ 0.00000000e+00+0.00000000e+00j -8.21407049e-02+1.73588659e-01j\n",
      "  -8.06646416e-17+6.39261658e-02j  0.00000000e+00+0.00000000e+00j\n",
      "   4.40276301e-02-1.20782953e-01j  0.00000000e+00+0.00000000e+00j\n",
      "   0.00000000e+00+0.00000000e+00j -4.14532006e-01+4.48245348e-01j\n",
      "   4.16333634e-17-1.78195254e-01j  0.00000000e+00+0.00000000e+00j\n",
      "   0.00000000e+00+0.00000000e+00j -2.29504477e-02-1.63814997e-01j\n",
      "   0.00000000e+00+0.00000000e+00j  7.09562056e-02-9.76977796e-02j\n",
      "   1.51803238e-01-6.87754469e-01j  0.00000000e+00+0.00000000e+00j]\n",
      " [ 0.00000000e+00+0.00000000e+00j -1.47451495e-17-1.78195254e-01j\n",
      "   4.40276301e-02+1.20782953e-01j  0.00000000e+00+0.00000000e+00j\n",
      "   0.00000000e+00+6.39261658e-02j  0.00000000e+00+0.00000000e+00j\n",
      "   0.00000000e+00+0.00000000e+00j  1.51803238e-01-6.87754469e-01j\n",
      "  -8.21407049e-02-1.73588659e-01j  0.00000000e+00+0.00000000e+00j\n",
      "   0.00000000e+00+0.00000000e+00j -8.19645215e-02+1.45783812e-01j\n",
      "   0.00000000e+00+0.00000000e+00j -2.29504477e-02-1.63814997e-01j\n",
      "  -1.42521109e-01-5.82285966e-01j  0.00000000e+00+0.00000000e+00j]\n",
      " [-4.85722573e-17-5.28057061e-02j  0.00000000e+00+0.00000000e+00j\n",
      "   0.00000000e+00+0.00000000e+00j  1.07160052e-02-1.39627887e-01j\n",
      "   0.00000000e+00+0.00000000e+00j  2.29816324e-17-1.90444129e-17j\n",
      "   4.88290800e-02-2.53896975e-01j  0.00000000e+00+0.00000000e+00j\n",
      "   0.00000000e+00+0.00000000e+00j -4.88290800e-02+2.53896975e-01j\n",
      "  -1.19137237e-17+1.86238956e-19j  0.00000000e+00+0.00000000e+00j\n",
      "   1.07160052e-02-1.39627887e-01j  0.00000000e+00+0.00000000e+00j\n",
      "   0.00000000e+00+0.00000000e+00j -4.12883506e-01+8.08592174e-01j]]\n"
     ]
    }
   ],
   "source": [
    "print(mat1@mat2)"
   ]
  },
  {
   "cell_type": "code",
   "execution_count": 103,
   "id": "82e617b2",
   "metadata": {},
   "outputs": [
    {
     "data": {
      "image/png": "[encoded data removed]",
      "text/plain": [
       "<Figure size 1959.72x367.889 with 1 Axes>"
      ]
     },
     "execution_count": 103,
     "metadata": {},
     "output_type": "execute_result"
    }
   ],
   "source": [
    "qc = QuantumCircuit(4)\n",
    "qc=circ_minus(4,1,1,1,1,1,2)\n",
    "qc.draw(output='mpl',style={'displaycolor':dispcolors}, filename='my_circuit.pdf')    "
   ]
  },
  {
   "cell_type": "code",
   "execution_count": null,
   "id": "447098ac",
   "metadata": {},
   "outputs": [],
   "source": []
  }
 ],
 "metadata": {
  "kernelspec": {
   "display_name": "Python 3 (ipykernel)",
   "language": "python",
   "name": "python3"
  },
  "language_info": {
   "codemirror_mode": {
    "name": "ipython",
    "version": 3
   },
   "file_extension": ".py",
   "mimetype": "text/x-python",
   "name": "python",
   "nbconvert_exporter": "python",
   "pygments_lexer": "ipython3",
   "version": "3.10.9"
  }
 },
 "nbformat": 4,
 "nbformat_minor": 5
}
