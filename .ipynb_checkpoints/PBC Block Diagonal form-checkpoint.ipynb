{
 "cells": [
  {
   "cell_type": "code",
   "execution_count": 1,
   "id": "3c8c7fc2",
   "metadata": {},
   "outputs": [],
   "source": [
    "from tqdm import tqdm\n",
    "from qiskit import quantum_info\n",
    "from qiskit.quantum_info import DensityMatrix, Statevector, partial_trace\n",
    "from qiskit.visualization import plot_histogram\n",
    "import matplotlib.pyplot as plt\n",
    "import numpy as np\n",
    "#from qiskit_experiments.framework import ParallelExperiment\n",
    "from qiskit_experiments.library import StateTomography\n",
    "from qiskit.providers.aer import AerSimulator\n",
    "from qiskit.providers.fake_provider import FakeParis\n",
    "from numpy.linalg import norm \n",
    "import cvxpy\n",
    "#set noisy simulator backend \n",
    "backend = AerSimulator.from_backend(FakeParis())\n",
    "from qiskit import QuantumCircuit, transpile\n",
    "from qiskit.quantum_info import Operator\n",
    "from qiskit.transpiler import PassManager\n",
    "from qiskit.transpiler.passes import Unroller\n",
    "#visualization\n",
    "from qiskit.visualization import plot_state_city\n",
    "from qiskit.visualization import plot_histogram\n",
    "from qiskit import QuantumCircuit\n",
    "from qiskit.quantum_info import SparsePauliOp\n",
    "from qiskit.circuit import Parameter\n",
    "from qiskit.primitives import Estimator\n",
    "from scipy.linalg import expm"
   ]
  },
  {
   "cell_type": "code",
   "execution_count": 31,
   "id": "bca230b4",
   "metadata": {},
   "outputs": [],
   "source": [
    "def Phi(A,T,G):\n",
    "    \n",
    "    return -(1/2)*1j*np.log((-1-2*1j*A*(1/np.sinh(T))*np.sinh(G/2))/(-1+2*1j*A*(1/np.sinh(T))*np.sinh(G/2)))\n",
    "\n",
    "def A12(A,T,G):\n",
    "    \n",
    "    return (1/2)*1j*(np.log(A*(1/np.sinh(T/2))-(1j*2*A*(1/np.sinh(T))*np.sinh(G/2))*np.sqrt(-1+((1)/(0.5-1j*A*(1/np.sinh(T))*np.sinh(G/2))))/(np.sqrt(1+2*A**(2)*(np.cosh(G)+np.cosh(T))*(1/np.sinh(T))**2)))-np.log(A*(1/np.sinh(T/2))+(1j*2*A*(1/np.sinh(T))*np.sinh(G/2))*np.sqrt(-1+((1)/(0.5-1j*A*(1/np.sinh(T))*np.sinh(G/2))))/(np.sqrt(1+2*A**(2)*(np.cosh(G)+np.cosh(T))*(1/np.sinh(T))**2))))\n",
    "\n",
    "def A11(A,T,G):\n",
    "    return (np.sqrt(2)*np.arccos((2*A*np.cosh(G/2)*(1/np.sinh(T)))/(np.sqrt(1+2*A**(2)*(np.cosh(G)+np.cosh(T))*(1/np.sinh(T))**(2))))*np.cosh(T/2))/(np.sqrt(1+2*A**(2)+np.cosh(T)))\n",
    "\n",
    "def B12(A,T,G):\n",
    "    return (np.sqrt(2)*A*np.arccos((2*A*np.cosh(G/2)*(1/np.sinh(T)))/(np.sqrt(1+2*A**(2)*(np.cosh(G)+np.cosh(T))*(1/np.sinh(T))**(2))))/(np.sqrt(1+2*A**(2)+np.cosh(T))))\n",
    "\n",
    "\n",
    "\n",
    "\n",
    "def H(k,A,T,G):\n",
    "    \n",
    "    H=np.zeros((4,4),dtype=complex)\n",
    "            \n",
    "    phi = Phi(A,T,G)\n",
    "    a11 = A11(A,T,G)\n",
    "    a12 = A12(A,T,G)\n",
    "    b12 = B12(A,T,G)\n",
    "            \n",
    "    H[0,0]=-a11+a12*np.cos(k-phi)\n",
    "    H[0,1]=-1j*a12*np.sin(k-phi)\n",
    "    H[0,2]=b12*np.cos(k)\n",
    "    H[0,3]=1j*b12*np.sin(k)\n",
    "    \n",
    "    H[1,0]=1j*a12*np.sin(k-phi)\n",
    "    H[1,1]=-a11-a12*np.cos(k-phi)\n",
    "    H[1,2]=1j*b12*np.sin(k)\n",
    "    H[1,3]=b12*np.cos(k)    \n",
    "\n",
    "    H[2,0]=-b12*np.cos(k)\n",
    "    H[2,1]=1j*b12*np.sin(k)\n",
    "    H[2,2]=a11+a12*np.cos(k+phi)\n",
    "    H[2,3]=1j*a12*np.sin(k+phi)\n",
    "    \n",
    "    H[3,0]=1j*b12*np.sin(k)\n",
    "    H[3,1]=-b12*np.cos(k)    \n",
    "    H[3,2]=-1j*a12*np.sin(k+phi)\n",
    "    H[3,3]=a11-a12*np.cos(k+phi)\n",
    "    \n",
    "    return(H)\n",
    "    \n",
    "def Hprime(k,A,T,G):\n",
    "    \n",
    "    H=np.zeros((4,4),dtype=complex)\n",
    "    \n",
    "    phi = Phi(A,T,G)\n",
    "    a11 = A11(A,T,G)\n",
    "    a12 = A12(A,T,G)\n",
    "    b12 = B12(A,T,G)\n",
    "    \n",
    "    H[0,0]=-a11+a12*np.cos(k-phi)\n",
    "    H[0,1]=1j*a12*np.sin(k-phi)\n",
    "    H[0,2]=-b12*np.cos(k)\n",
    "    H[0,3]=1j*b12*np.sin(k)\n",
    "    \n",
    "    H[1,0]=-1j*a12*np.sin(k-phi)\n",
    "    H[1,1]=-a11-a12*np.cos(k-phi)\n",
    "    H[1,2]=1j*b12*np.sin(k)\n",
    "    H[1,3]=-b12*np.cos(k)    \n",
    "\n",
    "    H[2,0]=b12*np.cos(k)\n",
    "    H[2,1]=1j*b12*np.sin(k)\n",
    "    H[2,2]=a11+a12*np.cos(k+phi)\n",
    "    H[2,3]=-1j*a12*np.sin(k+phi)\n",
    "    \n",
    "    H[3,0]=1j*b12*np.sin(k)\n",
    "    H[3,1]=b12*np.cos(k)    \n",
    "    H[3,2]=1j*a12*np.sin(k+phi)\n",
    "    H[3,3]=a11-a12*np.cos(k+phi)\n",
    "    \n",
    "    return(H)    \n",
    "    \n",
    "def Uf(k,A,T,G):\n",
    "    return expm(1j*Hodd(k,A,T,G))@expm(1j*Heven(k,A,T,G))"
   ]
  },
  {
   "cell_type": "code",
   "execution_count": 56,
   "id": "209832f6",
   "metadata": {
    "scrolled": true
   },
   "outputs": [
    {
     "name": "stderr",
     "output_type": "stream",
     "text": [
      "/tmp/ipykernel_184/547686535.py:3: RuntimeWarning: divide by zero encountered in scalar divide\n",
      "  return -(1/2)*1j*np.log(1-((4*A)/(2*A+1j*(1/np.sinh(G/2))*np.sinh(T))))\n",
      "/tmp/ipykernel_184/547686535.py:7: RuntimeWarning: divide by zero encountered in scalar divide\n",
      "  return (-1j*np.arctanh(((1j+2*A*(1/np.sinh(T))*np.sinh(G/2))*np.sinh(T/2)*np.sqrt(1-(4*A)/(2*A+1j*(1/np.sinh(G/2))*np.sinh(T))))/(A)))\n"
     ]
    },
    {
     "ename": "LinAlgError",
     "evalue": "Eigenvalues did not converge",
     "output_type": "error",
     "traceback": [
      "\u001b[0;31m---------------------------------------------------------------------------\u001b[0m",
      "\u001b[0;31mLinAlgError\u001b[0m                               Traceback (most recent call last)",
      "Cell \u001b[0;32mIn[56], line 7\u001b[0m\n\u001b[1;32m      5\u001b[0m \u001b[38;5;28mlist\u001b[39m\u001b[38;5;241m=\u001b[39mnp\u001b[38;5;241m.\u001b[39mzeros((\u001b[38;5;28mlen\u001b[39m(k_range),\u001b[38;5;241m4\u001b[39m))\n\u001b[1;32m      6\u001b[0m \u001b[38;5;28;01mfor\u001b[39;00m i,k \u001b[38;5;129;01min\u001b[39;00m \u001b[38;5;28menumerate\u001b[39m(k_range):\n\u001b[0;32m----> 7\u001b[0m     eigvals,_\u001b[38;5;241m=\u001b[39m\u001b[43mnp\u001b[49m\u001b[38;5;241;43m.\u001b[39;49m\u001b[43mlinalg\u001b[49m\u001b[38;5;241;43m.\u001b[39;49m\u001b[43meigh\u001b[49m\u001b[43m(\u001b[49m\u001b[43m(\u001b[49m\u001b[43mnp\u001b[49m\u001b[38;5;241;43m.\u001b[39;49m\u001b[43mlinalg\u001b[49m\u001b[38;5;241;43m.\u001b[39;49m\u001b[43minv\u001b[49m\u001b[43m(\u001b[49m\u001b[43mUf\u001b[49m\u001b[43m(\u001b[49m\u001b[43mk\u001b[49m\u001b[43m,\u001b[49m\u001b[43mA\u001b[49m\u001b[43m,\u001b[49m\u001b[43mT\u001b[49m\u001b[43m,\u001b[49m\u001b[43mG\u001b[49m\u001b[43m)\u001b[49m\u001b[43m)\u001b[49m\u001b[38;5;129;43m@Uf\u001b[39;49m\u001b[43m(\u001b[49m\u001b[43mk\u001b[49m\u001b[38;5;241;43m+\u001b[39;49m\u001b[43mdelta\u001b[49m\u001b[43m,\u001b[49m\u001b[43mA\u001b[49m\u001b[43m,\u001b[49m\u001b[43mT\u001b[49m\u001b[43m,\u001b[49m\u001b[43mG\u001b[49m\u001b[43m)\u001b[49m\u001b[38;5;241;43m-\u001b[39;49m\u001b[43mnp\u001b[49m\u001b[38;5;241;43m.\u001b[39;49m\u001b[43meye\u001b[49m\u001b[43m(\u001b[49m\u001b[38;5;241;43m4\u001b[39;49m\u001b[43m)\u001b[49m\u001b[43m)\u001b[49m\u001b[38;5;241;43m*\u001b[39;49m\u001b[43m(\u001b[49m\u001b[38;5;241;43m1\u001b[39;49m\u001b[38;5;241;43m/\u001b[39;49m\u001b[43mdelta\u001b[49m\u001b[43m)\u001b[49m\u001b[43m)\u001b[49m\n\u001b[1;32m      8\u001b[0m     \u001b[38;5;28mlist\u001b[39m[i]\u001b[38;5;241m=\u001b[39mnp\u001b[38;5;241m.\u001b[39mangle(eigvals)\n",
      "File \u001b[0;32m<__array_function__ internals>:200\u001b[0m, in \u001b[0;36meigh\u001b[0;34m(*args, **kwargs)\u001b[0m\n",
      "File \u001b[0;32m~/.local/lib/python3.10/site-packages/numpy/linalg/linalg.py:1451\u001b[0m, in \u001b[0;36meigh\u001b[0;34m(a, UPLO)\u001b[0m\n\u001b[1;32m   1448\u001b[0m     gufunc \u001b[38;5;241m=\u001b[39m _umath_linalg\u001b[38;5;241m.\u001b[39meigh_up\n\u001b[1;32m   1450\u001b[0m signature \u001b[38;5;241m=\u001b[39m \u001b[38;5;124m'\u001b[39m\u001b[38;5;124mD->dD\u001b[39m\u001b[38;5;124m'\u001b[39m \u001b[38;5;28;01mif\u001b[39;00m isComplexType(t) \u001b[38;5;28;01melse\u001b[39;00m \u001b[38;5;124m'\u001b[39m\u001b[38;5;124md->dd\u001b[39m\u001b[38;5;124m'\u001b[39m\n\u001b[0;32m-> 1451\u001b[0m w, vt \u001b[38;5;241m=\u001b[39m \u001b[43mgufunc\u001b[49m\u001b[43m(\u001b[49m\u001b[43ma\u001b[49m\u001b[43m,\u001b[49m\u001b[43m \u001b[49m\u001b[43msignature\u001b[49m\u001b[38;5;241;43m=\u001b[39;49m\u001b[43msignature\u001b[49m\u001b[43m,\u001b[49m\u001b[43m \u001b[49m\u001b[43mextobj\u001b[49m\u001b[38;5;241;43m=\u001b[39;49m\u001b[43mextobj\u001b[49m\u001b[43m)\u001b[49m\n\u001b[1;32m   1452\u001b[0m w \u001b[38;5;241m=\u001b[39m w\u001b[38;5;241m.\u001b[39mastype(_realType(result_t), copy\u001b[38;5;241m=\u001b[39m\u001b[38;5;28;01mFalse\u001b[39;00m)\n\u001b[1;32m   1453\u001b[0m vt \u001b[38;5;241m=\u001b[39m vt\u001b[38;5;241m.\u001b[39mastype(result_t, copy\u001b[38;5;241m=\u001b[39m\u001b[38;5;28;01mFalse\u001b[39;00m)\n",
      "File \u001b[0;32m~/.local/lib/python3.10/site-packages/numpy/linalg/linalg.py:95\u001b[0m, in \u001b[0;36m_raise_linalgerror_eigenvalues_nonconvergence\u001b[0;34m(err, flag)\u001b[0m\n\u001b[1;32m     94\u001b[0m \u001b[38;5;28;01mdef\u001b[39;00m \u001b[38;5;21m_raise_linalgerror_eigenvalues_nonconvergence\u001b[39m(err, flag):\n\u001b[0;32m---> 95\u001b[0m     \u001b[38;5;28;01mraise\u001b[39;00m LinAlgError(\u001b[38;5;124m\"\u001b[39m\u001b[38;5;124mEigenvalues did not converge\u001b[39m\u001b[38;5;124m\"\u001b[39m)\n",
      "\u001b[0;31mLinAlgError\u001b[0m: Eigenvalues did not converge"
     ]
    }
   ],
   "source": [
    "A,T,G=2,0.1,0\n",
    "\n",
    "delta=0.001\n",
    "k_range=np.arange(-np.pi,np.pi,0.01)\n",
    "list=np.zeros((len(k_range),4))\n",
    "for i,k in enumerate(k_range):\n",
    "    eigvals,_=np.linalg.eigh((np.linalg.inv(Uf(k,A,T,G))@Uf(k+delta,A,T,G)-np.eye(4))*(1/delta))\n",
    "    list[i]=np.angle(eigvals)"
   ]
  },
  {
   "cell_type": "code",
   "execution_count": 57,
   "id": "ea45731c",
   "metadata": {},
   "outputs": [
    {
     "data": {
      "text/plain": [
       "[<matplotlib.lines.Line2D at 0x7f94f6fdd270>,\n",
       " <matplotlib.lines.Line2D at 0x7f94f6fdd330>,\n",
       " <matplotlib.lines.Line2D at 0x7f94f6fdd420>,\n",
       " <matplotlib.lines.Line2D at 0x7f94f6fdd510>]"
      ]
     },
     "execution_count": 57,
     "metadata": {},
     "output_type": "execute_result"
    },
    {
     "data": {
      "image/png": "[encoded data removed]",
      "text/plain": [
       "<Figure size 640x480 with 1 Axes>"
      ]
     },
     "metadata": {},
     "output_type": "display_data"
    }
   ],
   "source": [
    "plt.plot(k_range,list,'.')"
   ]
  },
  {
   "cell_type": "code",
   "execution_count": null,
   "id": "4430b532",
   "metadata": {},
   "outputs": [],
   "source": []
  }
 ],
 "metadata": {
  "kernelspec": {
   "display_name": "Python 3 (ipykernel)",
   "language": "python",
   "name": "python3"
  },
  "language_info": {
   "codemirror_mode": {
    "name": "ipython",
    "version": 3
   },
   "file_extension": ".py",
   "mimetype": "text/x-python",
   "name": "python",
   "nbconvert_exporter": "python",
   "pygments_lexer": "ipython3",
   "version": "3.10.9"
  }
 },
 "nbformat": 4,
 "nbformat_minor": 5
}
