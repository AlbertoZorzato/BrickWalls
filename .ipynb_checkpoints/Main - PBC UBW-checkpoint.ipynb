{
 "cells": [
  {
   "cell_type": "code",
   "execution_count": 2,
   "id": "3c8c7fc2",
   "metadata": {},
   "outputs": [],
   "source": [
    "from tqdm import tqdm\n",
    "from qiskit import quantum_info\n",
    "from qiskit.quantum_info import DensityMatrix, Statevector, partial_trace\n",
    "from qiskit.visualization import plot_histogram\n",
    "import matplotlib.pyplot as plt\n",
    "import numpy as np\n",
    "#from qiskit_experiments.framework import ParallelExperiment\n",
    "from qiskit_experiments.library import StateTomography\n",
    "from qiskit.providers.aer import AerSimulator\n",
    "from qiskit.providers.fake_provider import FakeParis\n",
    "from numpy.linalg import norm \n",
    "import cvxpy\n",
    "#set noisy simulator backend \n",
    "backend = AerSimulator.from_backend(FakeParis())\n",
    "from qiskit import QuantumCircuit, transpile\n",
    "from qiskit.quantum_info import Operator\n",
    "from qiskit.transpiler import PassManager\n",
    "from qiskit.transpiler.passes import Unroller\n",
    "#visualization\n",
    "from qiskit.visualization import plot_state_city\n",
    "from qiskit.visualization import plot_histogram\n",
    "from qiskit import QuantumCircuit\n",
    "from qiskit.quantum_info import SparsePauliOp\n",
    "from qiskit.circuit import Parameter\n",
    "from qiskit.primitives import Estimator"
   ]
  },
  {
   "cell_type": "code",
   "execution_count": 1121,
   "id": "1ad5483c",
   "metadata": {},
   "outputs": [],
   "source": [
    "#define unitary\n",
    "def U(A,T,G):\n",
    "    U = np.zeros((4,4), dtype=complex)\n",
    "    \n",
    "    U[0,0]=(-1+2*1j*A*np.cosh(G/2)*(1/np.sinh(T)))/np.sqrt((1+2*A**(2)*(1/np.tanh(T))*(1/np.sinh(T)))+2*A**(2)*np.cosh(G)*(1/np.sinh(T))**2)\n",
    "    \n",
    "    U[0,3]=(1j*A*(1/np.cosh(T/2)))/np.sqrt((1+2*A**(2)*(1/np.tanh(T))*(1/np.sinh(T)))+2*A**(2)*np.cosh(G)*(1/np.sinh(T))**2)\n",
    "    \n",
    "    U[1,1]=(1j*A*(1/np.sinh(T/2)))/np.sqrt((1+2*A**(2)*(1/np.tanh(T))*(1/np.sinh(T)))+2*A**(2)*np.cosh(G)*(1/np.sinh(T))**2)\n",
    "    \n",
    "    U[1,2]=(-1+2*1j*A*(1/np.sinh(T))*np.sinh(G/2))/np.sqrt((1+2*A**(2)*(1/np.tanh(T))*(1/np.sinh(T)))+2*A**(2)*np.cosh(G)*(1/np.sinh(T))**2)\n",
    "    \n",
    "    U[2,1]=(-1-2*1j*A*(1/np.sinh(T))*np.sinh(G/2))/np.sqrt((1+2*A**(2)*(1/np.tanh(T))*(1/np.sinh(T)))+2*A**(2)*np.cosh(G)*(1/np.sinh(T))**2)\n",
    "    \n",
    "    U[2,2]=(1j*A*(1/np.sinh(T/2)))/np.sqrt((1+2*A**(2)*(1/np.tanh(T))*(1/np.sinh(T)))+2*A**(2)*np.cosh(G)*(1/np.sinh(T))**2)\n",
    "    \n",
    "    U[3,0]=-(1j*A*(1/np.cosh(T/2)))/np.sqrt((1+2*A**(2)*(1/np.tanh(T))*(1/np.sinh(T)))+2*A**(2)*np.cosh(G)*(1/np.sinh(T))**2)\n",
    "    \n",
    "    U[3,3]=(1+2*1j*A*np.cosh(G/2)*(1/np.sinh(T)))/np.sqrt((1+2*A**(2)*(1/np.tanh(T))*(1/np.sinh(T)))+2*A**(2)*np.cosh(G)*(1/np.sinh(T))**2)\n",
    "    \n",
    "    return(U)\n",
    "\n",
    "def Ureal(A,T,G):\n",
    "    \n",
    "    Ur = np.zeros((4,4), dtype=complex)\n",
    "    \n",
    "    coef1=np.sqrt(1+A**(2)*(4*np.cosh(G/2)**(2)*(1/np.sinh(T)**2)+(1/np.cosh(T/2)**2)))\n",
    "    \n",
    "    coef2=np.sqrt(2*A**(2)*(np.cosh(G)+np.cosh(T))+np.sinh(T)**2)\n",
    "    \n",
    "    \n",
    "    Ur[0,0]=(1j+2*A*np.cosh(G/2)*(1/np.sinh(T)))/coef1\n",
    "    \n",
    "    Ur[0,3]=(2*A*np.sinh(T/2))/coef2\n",
    "    \n",
    "    Ur[1,1]=(2*A*np.cosh(T/2))/coef2\n",
    "    \n",
    "    Ur[1,2]=(1j + 2*A*(1/np.sinh(T))*np.sinh(G/2))/coef1\n",
    "    \n",
    "    Ur[2,1]=(1j - 2*A*(1/np.sinh(T))*np.sinh(G/2))/coef1\n",
    "    \n",
    "    Ur[2,2]=(2*A*np.cosh(T/2))/coef2\n",
    "    \n",
    "    Ur[3,0]=-(2*A*np.sinh(T/2))/coef2\n",
    "    \n",
    "    Ur[3,3]=(-1j+2*A*np.cosh(G/2)*(1/np.sinh(T)))/coef1\n",
    "    \n",
    "    return(Ur)\n",
    "\n",
    "def bwassembler(qc,matrix,layers,n):\n",
    "    \n",
    "    m=0\n",
    "    while m < layers:\n",
    "        i=0;j=0;    \n",
    "        #even layer\n",
    "        while i < n/2:\n",
    "            qc.unitary(matrix, [2*i,2*i+1])\n",
    "            i+=1;\n",
    "        qc.barrier(range(n))\n",
    "        #odd layer\n",
    "        while j < n/2:\n",
    "            \n",
    "            if j == (n/2 - 1):\n",
    "                qc.unitary(matrix,[2*j+1,0])\n",
    "                \n",
    "            else:\n",
    "                qc.unitary(matrix, [2*j+1,2*j+2])\n",
    "            \n",
    "            j+=1;\n",
    "        qc.barrier(range(n))\n",
    "        \n",
    "        m+=1\n",
    "    \n",
    "    return(qc)\n",
    "\n",
    "def bwassembler_z(qc,matrix,layers,n):\n",
    "    Z = np.array([[1,0],[0,-1]])\n",
    "    m=0\n",
    "    while m < layers:\n",
    "        i=0;j=0;    \n",
    "        #even layer\n",
    "        while i < n/2:\n",
    "            qc.unitary(matrix, [2*i,2*i+1])\n",
    "            i+=1;\n",
    "        qc.barrier(range(n))\n",
    "        #odd layer\n",
    "        while j < n/2:\n",
    "            \n",
    "            if j == (n/2 - 1):\n",
    "                \n",
    "                qc.unitary(perm4site(matrix),[0,1,2,3],label='ZZ')\n",
    "                \n",
    "            else:\n",
    "                qc.unitary(matrix, [2*j+1,2*j+2])\n",
    "            \n",
    "            j+=1;\n",
    "        qc.barrier(range(n))\n",
    "        \n",
    "        m+=1\n",
    "    \n",
    "    return(qc)\n",
    "\n",
    "\n",
    "def perm4site(U):\n",
    "    \n",
    "    P = np.array([[1,0,0,0],[0,0,1,0],[0,1,0,0],[0,0,0,-1]])\n",
    "    \n",
    "    P12 = np.kron(P,np.eye(4))\n",
    "    P23 = np.kron(np.eye(2),np.kron(P,np.eye(2)))\n",
    "    P34 = np.kron(np.eye(4),P)\n",
    "    \n",
    "    S34 = np.kron(np.eye(4),U)\n",
    "    \n",
    "    return P12@P23@P34@S34@P34@P23@P12\n",
    "       \n",
    "    \n",
    "def prodstaten(n):\n",
    "    \n",
    "    X = np.array([[0,1],[1,0]])\n",
    "    X0 = np.zeros((n,2**n,2**n),dtype = complex)\n",
    "    \n",
    "    for i in range(0,n):   \n",
    "        X0[i]=np.kron(np.kron(np.eye(2**i),X),np.eye(2**(n-i-1)))\n",
    "    operator = np.eye(2**n)\n",
    "    for i in range(0,n//2):\n",
    "        operator = (X0[2*i]+1j*X0[2*i+1])@operator\n",
    "    return (1/np.sqrt(2**(n//2)))*operator\n",
    "\n"
   ]
  },
  {
   "cell_type": "code",
   "execution_count": 1120,
   "id": "cfaebb83",
   "metadata": {},
   "outputs": [
    {
     "name": "stdout",
     "output_type": "stream",
     "text": [
      "(16, 16)\n"
     ]
    }
   ],
   "source": [
    "matrix = U(1,1,1)\n",
    "Z = np.array([[1,0],[0,-1]])\n",
    "print(perm4site(matrix).shape)"
   ]
  },
  {
   "cell_type": "code",
   "execution_count": 988,
   "id": "93107c1c",
   "metadata": {},
   "outputs": [],
   "source": [
    "dispcolors = {'cx':('#426299', '#000000'),\n",
    "            'cswap':('#705399', '#000000'),\n",
    "              'cp':('#CFFF8B', '#000000')}"
   ]
  },
  {
   "cell_type": "code",
   "execution_count": 1004,
   "id": "0649837e",
   "metadata": {},
   "outputs": [
    {
     "name": "stdout",
     "output_type": "stream",
     "text": [
      "True True\n",
      "True True\n"
     ]
    }
   ],
   "source": [
    "#check supercharge commutations \n",
    "def Q(T,G):\n",
    "    X = np.array([[0,1],[1,0]])\n",
    "    Y = np.array([[0,-1j],[1j,0]])\n",
    "    Z = np.array([[1,0],[0,-1]])\n",
    "    Id = np.array([[1,0],[0,1]])\n",
    "    Q = np.exp(-(G+T)/4)*np.kron(X,Id)+np.exp((T+G)/4)*np.kron(Z,X)\n",
    "    return Q\n",
    "\n",
    "def Qbar(T,G):\n",
    "    X = np.array([[0,1],[1,0]])\n",
    "    Y = np.array([[0,-1j],[1j,0]])\n",
    "    Z = np.array([[1,0],[0,-1]])\n",
    "    Id = np.array([[1,0],[0,1]])\n",
    "    Qbar = np.exp((T-G)/4)*np.kron(Y,Id)+np.exp(-(T-G)/4)*np.kron(Z,Y)\n",
    "\n",
    "    return Qbar\n",
    "\n",
    "A,T,G=3,3,3\n",
    "\n",
    "print(np.allclose(Q(T,G)@Ureal(A,T,G)-Ureal(A,T,G)@Q(-T,-G),0*np.eye(4)),\n",
    "np.allclose(Qbar(T,G)@Ureal(A,T,G)-Ureal(A,T,G)@Qbar(-T,-G),0*np.eye(4)))\n",
    "\n",
    "print(np.allclose(Q(T,G)@U(A,T,G)-U(A,T,G)@Q(-T,-G),0*np.eye(4)),\n",
    "np.allclose(Qbar(T,G)@U(A,T,G)-U(A,T,G)@Qbar(-T,-G),0*np.eye(4)))"
   ]
  },
  {
   "cell_type": "code",
   "execution_count": 1005,
   "id": "e8b83a1d",
   "metadata": {},
   "outputs": [
    {
     "data": {
      "text/plain": [
       "True"
      ]
     },
     "execution_count": 1005,
     "metadata": {},
     "output_type": "execute_result"
    }
   ],
   "source": [
    "np.allclose(1j*Ureal(1,1,0),U(1,1,0))\n",
    "#print(Ureal(1,1,1)-U(1,1,1))"
   ]
  },
  {
   "cell_type": "code",
   "execution_count": null,
   "id": "1fc1c99e",
   "metadata": {
    "scrolled": true
   },
   "outputs": [],
   "source": [
    "print(0*np.eye(4))"
   ]
  },
  {
   "cell_type": "code",
   "execution_count": 800,
   "id": "a2a178e9",
   "metadata": {
    "scrolled": false
   },
   "outputs": [
    {
     "name": "stdout",
     "output_type": "stream",
     "text": [
      "True True\n"
     ]
    }
   ],
   "source": [
    "#unitarity checks\n",
    "mat=U(1,1,0)\n",
    "uni = mat.conj().T@mat\n",
    "mat1=Ureal(1,1,0)\n",
    "uni1 = mat1.conj().T@mat1\n",
    "print(np.allclose(np.eye(4),uni,atol=1e-15),np.allclose(np.eye(4),uni1,atol=1e-15))"
   ]
  },
  {
   "cell_type": "code",
   "execution_count": 1129,
   "id": "4ebb3ef8",
   "metadata": {},
   "outputs": [
    {
     "name": "stdout",
     "output_type": "stream",
     "text": [
      "[0, 1]\n",
      "2\n"
     ]
    },
    {
     "name": "stderr",
     "output_type": "stream",
     "text": [
      "200it [00:00, 451.37it/s]\n"
     ]
    },
    {
     "name": "stdout",
     "output_type": "stream",
     "text": [
      "5\n"
     ]
    },
    {
     "name": "stderr",
     "output_type": "stream",
     "text": [
      "200it [00:00, 267.31it/s]\n"
     ]
    }
   ],
   "source": [
    "#BIPARTITION, varying layers per datapoint\n",
    "\n",
    "\n",
    "#Circuit parameters\n",
    "n=4;A=1;G=0;\n",
    "\n",
    "#Define arrays\n",
    " \n",
    "thetas= np.arange(1e-5,10,0.05)\n",
    "layers = [2,5]\n",
    "ent_entropy = np.zeros((len(layers),len(thetas)),dtype=complex)\n",
    "renyi = np.zeros((len(layers),len(thetas)),dtype=complex)\n",
    "eigvalsrho = np.zeros((len(layers),len(thetas),(2**(n//2))),dtype=complex)\n",
    "subsystem = [j for j in range(0,n//2)]\n",
    "basis_gates=['cx', 'id', 'rz', 'x', 'sx']\n",
    "print(subsystem)\n",
    "\n",
    "for m,layer in enumerate(layers):\n",
    "    print(layer)\n",
    "    for k,theta in tqdm(enumerate(thetas)):    \n",
    "        \n",
    "        string = \"0\" * (n)\n",
    "        qc = QuantumCircuit(n)\n",
    "        QuantumCircuit.initialize(qc,string)\n",
    "        \n",
    "        #init with Kareljan's state\n",
    "        #qc.unitary(prodstaten(n), range(0,n))\n",
    "\n",
    "        #print('theta=',T)\n",
    "        #print('layers=',layer)\n",
    "        #matrix = U(A,theta,G)\n",
    "        #try other matrix\n",
    "        matrix = Ureal(A,theta,G)\n",
    "        bwassembler_z(qc,matrix,layer,n)\n",
    "        #qc = transpile(qc, basis_gates=basis_gates, optimization_level=1)\n",
    "        \n",
    "        \n",
    "        #######################################################################    \n",
    "        #access density matrix  \n",
    "        rho = DensityMatrix(qc)\n",
    "        reduced_rho=partial_trace(rho, subsystem)\n",
    "        \n",
    "        #find the eigenvalues of the reduced density matrix\n",
    "        eigenvalues,_ = np.linalg.eig(reduced_rho)\n",
    "       \n",
    "        #compute the entanglement entropy\n",
    "        \n",
    "        order = eigenvalues.argsort()\n",
    "        eigenvalues = eigenvalues[order]\n",
    "        eigvalsrho[m,k,:]= eigenvalues\n",
    "        entanglement_entropy = -np.sum(eigenvalues * np.log(eigenvalues))\n",
    "        renyi[m,k]=-np.log(DensityMatrix.purity(reduced_rho))\n",
    "        ent_entropy[m,k]=entanglement_entropy\n",
    "        #print(k,ent_entropy[k])\n",
    "        ######################################################################\n",
    "            "
   ]
  },
  {
   "cell_type": "code",
   "execution_count": 1128,
   "id": "a57a4bda",
   "metadata": {},
   "outputs": [
    {
     "data": {
      "text/plain": [
       "<matplotlib.legend.Legend at 0x7fd40c3d97e0>"
      ]
     },
     "execution_count": 1128,
     "metadata": {},
     "output_type": "execute_result"
    },
    {
     "data": {
      "image/png": "[encoded data removed]",
      "text/plain": [
       "<Figure size 640x480 with 1 Axes>"
      ]
     },
     "metadata": {},
     "output_type": "display_data"
    }
   ],
   "source": [
    "from itertools import cycle\n",
    "colormap1 = plt.cm.cool\n",
    "color_cycle1 = cycle(colormap1(np.linspace(0, 1, len(layers))))\n",
    "colormap2 = plt.cm.spring\n",
    "color_cycle2 = cycle(colormap2(np.linspace(0, 1, len(layers))))\n",
    "leng= np.array([2,3,4],dtype=int)\n",
    "\n",
    "for j,layer in enumerate(layers):\n",
    "    color1 = next(color_cycle1)\n",
    "    plt.plot(thetas,ent_entropy[j]+j*np.log(2),'-.', c=color1,label='EE layers='+str(layer))\n",
    "    color2 = next(color_cycle2)\n",
    "    #plt.plot(thetas,renyi[j],'-.', c=color2,label='RE A='+str(layer))\n",
    "    \n",
    "    \n",
    "#plt.plot(thetas,eigvalsrho[0,:],'-,')\n",
    "\n",
    "\n",
    "plt.title('EE N='+str(n)+', A= '+str(A)+' G='+str(G)+' init 0')\n",
    "for j in range(1,5):\n",
    "    plt.axhline(y=j*np.log(2), linestyle='--')\n",
    "\n",
    "plt.xlabel(r'$\\theta$')\n",
    "#plt.xlim(-0.2,200)\n",
    "#plt.ylim(0,0.4)\n",
    "plt.legend()   \n"
   ]
  },
  {
   "cell_type": "code",
   "execution_count": 1124,
   "id": "0ba422b2",
   "metadata": {},
   "outputs": [
    {
     "name": "stderr",
     "output_type": "stream",
     "text": [
      "0it [00:00, ?it/s]/tmp/ipykernel_2939/2148590890.py:42: RuntimeWarning: divide by zero encountered in log\n",
      "  entanglement_entropy = -np.sum(eigenvalues * np.log(eigenvalues))\n",
      "/tmp/ipykernel_2939/2148590890.py:42: RuntimeWarning: invalid value encountered in multiply\n",
      "  entanglement_entropy = -np.sum(eigenvalues * np.log(eigenvalues))\n",
      "100it [00:02, 43.95it/s]\n"
     ]
    }
   ],
   "source": [
    "#BIPARTITION, TROTTERIZATION\n",
    "\n",
    "\n",
    "#Circuit parameters\n",
    "n=4\n",
    "\n",
    "\n",
    "#SPECIFY PARAMETERS\n",
    "A=1;G=0;\n",
    "theta0=0.1\n",
    "\n",
    "thetas= np.arange(0.0001,10,0.1)    \n",
    "ent_entropy = np.zeros((len(thetas)), dtype=complex)\n",
    "renyi = np.zeros((len(thetas)), dtype=complex)\n",
    "subsystem = [j for j in range(0,n//2)]\n",
    "eigvalsrho = np.zeros((len(thetas),n),dtype=complex)\n",
    "for k,theta in tqdm(enumerate(thetas)):\n",
    "    \n",
    "    string = \"0\" * (n)\n",
    "    qc = QuantumCircuit(n)\n",
    "    QuantumCircuit.initialize(qc,string)\n",
    "    #init with Kareljan's state\n",
    "    #qc.unitary(prodstaten(n), range(0,n))\n",
    "    layer = round(theta/theta0)\n",
    "    #print('layer=',layer,'theta=',theta)\n",
    "    matrix = Ureal(A,theta0,G)\n",
    "    bwassembler_z(qc,matrix,layer,n)\n",
    "   \n",
    "\n",
    "    \n",
    "    ######################################################################    \n",
    "    #access density matrix  \n",
    "    rho = DensityMatrix(qc)\n",
    "    reduced_rho=partial_trace(rho, subsystem)\n",
    "    \n",
    "    #find the eigenvalues of the reduced density matrix\n",
    "    eigenvalues, _ = np.linalg.eig(reduced_rho)\n",
    "    order = eigenvalues.argsort()\n",
    "    eigenvalues = eigenvalues[order]\n",
    "    eigvalsrho[k,:]= eigenvalues\n",
    "    #compute the entanglement entropy\n",
    "    entanglement_entropy = -np.sum(eigenvalues * np.log(eigenvalues))\n",
    "    renyi[k]=-np.log(DensityMatrix.purity(reduced_rho))\n",
    "    ent_entropy[k]=entanglement_entropy\n",
    "    #print(k,ent_entropy[k])\n",
    "    ######################################################################\n",
    "        "
   ]
  },
  {
   "cell_type": "code",
   "execution_count": 1117,
   "id": "04bb8190",
   "metadata": {},
   "outputs": [
    {
     "name": "stderr",
     "output_type": "stream",
     "text": [
      "No artists with labels found to put in legend.  Note that artists whose label start with an underscore are ignored when legend() is called with no argument.\n"
     ]
    },
    {
     "data": {
      "text/plain": [
       "<matplotlib.legend.Legend at 0x7fd40c740f70>"
      ]
     },
     "execution_count": 1117,
     "metadata": {},
     "output_type": "execute_result"
    },
    {
     "data": {
      "image/png": "[encoded data removed]",
      "text/plain": [
       "<Figure size 640x480 with 1 Axes>"
      ]
     },
     "metadata": {},
     "output_type": "display_data"
    }
   ],
   "source": [
    "from itertools import cycle\n",
    "colormap1 = plt.cm.cool\n",
    "color_cycle1 = cycle(colormap1(np.linspace(0, 1, len(steps))))\n",
    "colormap2 = plt.cm.spring\n",
    "color_cycle2 = cycle(colormap2(np.linspace(0, 1, len(steps))))\n",
    "leng= np.array([2,3,4],dtype=int)\n",
    "\n",
    "\n",
    "#for j,step in enumerate(steps):\n",
    "#    print(j)\n",
    "#    color1 = next(color_cycle1)\n",
    "#    plt.plot( ent_entropy[j],'-o', c=color1,label='EE 4, Trotter step ='+str(step))\n",
    "#    color2 = next(color_cycle2)\n",
    "#    #plt.plot(thetas, renyi[j],'-x', c=color2,label='RE 4, step ='+str(step))\n",
    "plt.plot(thetas,ent_entropy,'-o', c=color1)   \n",
    "plt.plot(thetas,eigvalsrho,'-.', c='m')    \n",
    "plt.title('EE N='+str(n)+', A='+str(A)+' G='+str(G)+ r'  $[U(\\frac{\\theta}{n})]^n$')\n",
    "plt.axhline(y=2*np.log(2), linestyle='--')\n",
    "plt.axhline(y=np.log(2), linestyle='--')\n",
    "plt.axhline(y=3*np.log(2), linestyle='--')\n",
    "plt.axhline(y=4*np.log(2), linestyle='--')\n",
    "#plt.axhline(y=0, linestyle='-.')\n",
    "plt.xlabel(r'$\\theta$')\n",
    "plt.ylabel(\"EE\")\n",
    "#plt.xlim(0,1)\n",
    "plt.ylim(0,1.5)\n",
    "plt.legend()   "
   ]
  },
  {
   "cell_type": "code",
   "execution_count": null,
   "id": "25829be6",
   "metadata": {},
   "outputs": [],
   "source": [
    "#saving data\n",
    "with open('tau='+str(tau)+' h='+str(h)+' J='+str(J)+' n='+str(n)+' init: '+str(string), 'wb') as file:\n",
    "      \n",
    "    # A new file will be created\n",
    "    pickle.dump(ent_entropy, file)"
   ]
  },
  {
   "cell_type": "code",
   "execution_count": null,
   "id": "23d038f7",
   "metadata": {},
   "outputs": [],
   "source": [
    "#loading data\n",
    "with open('tau='+str(tau)+' h='+str(h)+' J='+str(J)+' n=10', 'rb') as file:\n",
    "    loaded_data = pickle.load(file)"
   ]
  },
  {
   "cell_type": "code",
   "execution_count": 1118,
   "id": "b7f19591",
   "metadata": {
    "scrolled": false
   },
   "outputs": [
    {
     "data": {
      "image/png": "[encoded data removed]",
      "text/plain": [
       "<Figure size 705.552x367.889 with 1 Axes>"
      ]
     },
     "execution_count": 1118,
     "metadata": {},
     "output_type": "execute_result"
    }
   ],
   "source": [
    "qc = QuantumCircuit(4)\n",
    "matrix=U(1,1,1)\n",
    "bwassembler_z(qc,matrix,1,4)\n",
    "qc.draw(output='mpl',style={'displaycolor':dispcolors}, filename='my_circuit.pdf')\n"
   ]
  },
  {
   "cell_type": "markdown",
   "id": "6a4eec93",
   "metadata": {},
   "source": [
    "qc = QuantumCircuit(4)\n",
    "matrix=U(1,1,1)\n",
    "bwassembler(qc,matrix,3,4)\n",
    "qc.draw(output='mpl',style={'displaycolor':dispcolors}, filename='my_circuit.pdf')"
   ]
  },
  {
   "cell_type": "code",
   "execution_count": 351,
   "id": "5eee2fc7",
   "metadata": {},
   "outputs": [
    {
     "data": {
      "text/latex": [
       "$$- \\frac{1}{2} |0101\\rangle+\\frac{i}{2} |0110\\rangle+\\frac{i}{2} |1001\\rangle+\\frac{1}{2} |1010\\rangle$$"
      ],
      "text/plain": [
       "<IPython.core.display.Latex object>"
      ]
     },
     "execution_count": 351,
     "metadata": {},
     "output_type": "execute_result"
    }
   ],
   "source": [
    "from qiskit.quantum_info import Statevector\n",
    "\n",
    "# Set the initial state of the simulator to the ground state using from_int\n",
    "state = Statevector.from_int(0, 2**n)\n",
    "\n",
    "# Evolve the state by the quantum circuit\n",
    "state = state.evolve(qc)\n",
    "\n",
    "#draw using latex\n",
    "state.draw('latex')\n",
    "\n",
    "#Alternative way of representing in latex\n",
    "#array_to_latex(state)\n",
    "\n"
   ]
  },
  {
   "cell_type": "code",
   "execution_count": null,
   "id": "18ad390f",
   "metadata": {},
   "outputs": [],
   "source": []
  },
  {
   "cell_type": "code",
   "execution_count": 917,
   "id": "b000453f",
   "metadata": {},
   "outputs": [
    {
     "name": "stdout",
     "output_type": "stream",
     "text": [
      "[0, 1]\n",
      "1\n"
     ]
    },
    {
     "name": "stderr",
     "output_type": "stream",
     "text": [
      "200it [00:00, 889.61it/s]\n"
     ]
    },
    {
     "name": "stdout",
     "output_type": "stream",
     "text": [
      "2\n"
     ]
    },
    {
     "name": "stderr",
     "output_type": "stream",
     "text": [
      "200it [00:00, 657.58it/s]\n"
     ]
    },
    {
     "name": "stdout",
     "output_type": "stream",
     "text": [
      "5\n"
     ]
    },
    {
     "name": "stderr",
     "output_type": "stream",
     "text": [
      "200it [00:00, 346.09it/s]\n"
     ]
    }
   ],
   "source": [
    "#BIPARTITION, varying layers per datapoint - ZZ update\n",
    "\n",
    "\n",
    "#Circuit parameters\n",
    "n=4;A=1;G=1;\n",
    "\n",
    "#Define arrays\n",
    " \n",
    "thetas= np.arange(1e-5,20,0.1)\n",
    "layers = [1,2,5]\n",
    "ent_entropy = np.zeros((len(layers),len(thetas)),dtype=complex)\n",
    "renyi = np.zeros((len(layers),len(thetas)),dtype=complex)\n",
    "eigvalsrho = np.zeros((len(layers),len(thetas),(2**(n//2))),dtype=complex)\n",
    "subsystem = [j for j in range(0,n//2)]\n",
    "basis_gates=['cx', 'id', 'rz', 'x', 'sx']\n",
    "print(subsystem)\n",
    "\n",
    "for m,layer in enumerate(layers):\n",
    "    print(layer)\n",
    "    for k,theta in tqdm(enumerate(thetas)):    \n",
    "        \n",
    "        string = \"0\" * (n)\n",
    "        qc = QuantumCircuit(n)\n",
    "        #QuantumCircuit.initialize(qc,string)\n",
    "        \n",
    "        #init with Kareljan's state\n",
    "        qc.unitary(prodstaten(n), range(0,n))\n",
    "\n",
    "        #print('theta=',T)\n",
    "        #print('layers=',layer)\n",
    "        #matrix = U(A,theta,G)\n",
    "        #try other matrix\n",
    "        matrix = U(A,theta,G)\n",
    "        bwassembler_z(qc,matrix,layer,n)\n",
    "        #qc = transpile(qc, basis_gates=basis_gates, optimization_level=1)\n",
    "        \n",
    "        \n",
    "        #######################################################################    \n",
    "        #access density matrix  \n",
    "        rho = DensityMatrix(qc)\n",
    "        reduced_rho=partial_trace(rho, subsystem)\n",
    "        \n",
    "        #find the eigenvalues of the reduced density matrix\n",
    "        eigenvalues,_ = np.linalg.eig(reduced_rho)\n",
    "       #\n",
    "        #compute the entanglement entropy\n",
    "        \n",
    "        order = eigenvalues.argsort()\n",
    "        eigenvalues = eigenvalues[order]\n",
    "        eigvalsrho[m,k,:]= eigenvalues\n",
    "        entanglement_entropy = -np.sum(eigenvalues * np.log(eigenvalues))\n",
    "        renyi[m,k]=-np.log(DensityMatrix.purity(reduced_rho))\n",
    "        ent_entropy[m,k]=entanglement_entropy\n",
    "        #print(k,ent_entropy[k])\n",
    "        ######################################################################\n",
    "            "
   ]
  }
 ],
 "metadata": {
  "kernelspec": {
   "display_name": "Python 3 (ipykernel)",
   "language": "python",
   "name": "python3"
  },
  "language_info": {
   "codemirror_mode": {
    "name": "ipython",
    "version": 3
   },
   "file_extension": ".py",
   "mimetype": "text/x-python",
   "name": "python",
   "nbconvert_exporter": "python",
   "pygments_lexer": "ipython3",
   "version": "3.10.9"
  }
 },
 "nbformat": 4,
 "nbformat_minor": 5
}
