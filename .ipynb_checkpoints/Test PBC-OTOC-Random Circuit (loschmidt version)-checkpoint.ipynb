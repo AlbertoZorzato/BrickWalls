{
 "cells": [
  {
   "cell_type": "code",
   "execution_count": 2,
   "id": "3c8c7fc2",
   "metadata": {},
   "outputs": [],
   "source": [
    "from tqdm import tqdm\n",
    "from qiskit import quantum_info\n",
    "from qiskit.quantum_info import DensityMatrix, Statevector, partial_trace\n",
    "from qiskit.visualization import plot_histogram\n",
    "import matplotlib.pyplot as plt\n",
    "import numpy as np\n",
    "#from qiskit_experiments.framework import ParallelExperiment\n",
    "from qiskit_experiments.library import StateTomography\n",
    "from qiskit.providers.aer import AerSimulator\n",
    "from qiskit.providers.fake_provider import FakeParis\n",
    "from numpy.linalg import norm \n",
    "import cvxpy\n",
    "#set noisy simulator backend \n",
    "#backend = AerSimulator.from_backend(FakeParis())\n",
    "from qiskit import QuantumCircuit, transpile\n",
    "from qiskit.quantum_info import Operator\n",
    "from qiskit.transpiler import PassManager\n",
    "from qiskit.transpiler.passes import Unroller\n",
    "#visualization\n",
    "from qiskit.visualization import plot_state_city\n",
    "from qiskit.visualization import plot_histogram\n",
    "from qiskit import QuantumCircuit\n",
    "from qiskit.quantum_info import SparsePauliOp\n",
    "from qiskit.circuit import Parameter\n",
    "from qiskit.primitives import Estimator\n",
    "from qiskit_ibm_runtime import Estimator, Session, QiskitRuntimeService, Options, Sampler\n",
    "from qiskit.visualization import array_to_latex\n"
   ]
  },
  {
   "cell_type": "code",
   "execution_count": 5,
   "id": "68a852ad",
   "metadata": {},
   "outputs": [
    {
     "data": {
      "text/plain": [
       "True"
      ]
     },
     "execution_count": 5,
     "metadata": {},
     "output_type": "execute_result"
    }
   ],
   "source": [
    "mat=U(1,1,1)\n",
    "uni = mat.conj().T@mat\n",
    "np.allclose(np.eye(4),uni,atol=1e-15)"
   ]
  },
  {
   "cell_type": "code",
   "execution_count": 6,
   "id": "e173722f",
   "metadata": {},
   "outputs": [],
   "source": [
    "dispcolors = {'cx':('#426299', '#000000'),\n",
    "              'cswap':('#705399', '#000000'),\n",
    "              'cp':('#CFFF8B', '#000000')}\n",
    "qc.draw(output='mpl',style={'displaycolor':dispcolors}, filename='my_circuit.pdf')"
   ]
  },
  {
   "cell_type": "code",
   "execution_count": 7,
   "id": "e77b09f6",
   "metadata": {},
   "outputs": [],
   "source": [
    "#sqrt(iSWAP)\n",
    "sqiswap = np.array( [\n",
    "    [1, 0, 0, 0],\n",
    "    [0, 1/np.sqrt(2), 1j/np.sqrt(2), 0],\n",
    "    [0, 1j/np.sqrt(2), 1/np.sqrt(2), 0],\n",
    "    [0, 0, 0, 1] ])"
   ]
  },
  {
   "cell_type": "code",
   "execution_count": 8,
   "id": "a128e4c7",
   "metadata": {},
   "outputs": [],
   "source": [
    "# Save an IBM Quantum account.\n",
    "QiskitRuntimeService.save_account(channel=\"ibm_quantum\", token=\"b58a80862cd6d4e3f8618d0fb10c85a7415315bcf55dd407e498ce33bdd4709623e266b4fdee952700733135cd2fa847c7bffa65966a4efb0aa2ae6a4ad7b583\", overwrite=True)"
   ]
  },
  {
   "cell_type": "code",
   "execution_count": null,
   "id": "cbeb273e",
   "metadata": {},
   "outputs": [],
   "source": [
    "#MAIN (TROTTER)\n",
    "\n",
    "#parameters\n",
    "n,A,T,G,step=6,1,1,0,10\n",
    "time=4\n",
    "layers = np.array([j for j in range(1,time)])\n",
    "C = np.zeros((n,len(layers)),dtype=float)\n",
    "init='000000'\n",
    "\n",
    "\n",
    "#specify the credentials when initializing QiskitRuntimeService, if they are not previously saved\n",
    "service = QiskitRuntimeService(channel=\"ibm_quantum\")\n",
    "backend = service.backend(\"ibmq_qasm_simulator\")\n",
    "\n",
    "#settings job execution\n",
    "options = Options()\n",
    "options.execution.shots = 1000\n",
    "options.optimization_level = 1  # optimization\n",
    "options.resilience_level = 1  # mitigation\n",
    "\n",
    "for i in tqdm(range(0,n)):\n",
    "    for k,j in enumerate(tqdm(layers)):\n",
    "        trans_plus=circ_plus(n,A,T,G,step,j,i,init)\n",
    "        trans_minus=circ_minus(n,A,T,G,step,j,i,init)\n",
    "        \n",
    "        \n",
    "        #generate operator to measure\n",
    "        op=generate_pauli(n,n//2)\n",
    "        #runtime plus\n",
    "        with Session(service=service, backend=backend) as session:\n",
    "            estimator_sim = Estimator(session=session, options=options)\n",
    "            job_sim = estimator_sim.run(circuits=[trans_plus], observables=[op])\n",
    "            values_plus = job_sim.result().values\n",
    "        #runtime minus\n",
    "        with Session(service=service, backend=backend) as session:\n",
    "            estimator_sim = Estimator(session=session, options=options)\n",
    "            job_sim = estimator_sim.run(circuits=[trans_minus], observables=[op])\n",
    "            values_minus = job_sim.result().values\n",
    "        Corr = 2 + values_minus - values_plus\n",
    "        C[i,k]=Corr"
   ]
  },
  {
   "cell_type": "code",
   "execution_count": null,
   "id": "a2be2c0e",
   "metadata": {},
   "outputs": [],
   "source": [
    "#MAIN (TROTTER) RANDOM CIRC\n",
    "\n",
    "#parameters\n",
    "n,A,T,G,step=6,1,1,0,10\n",
    "time=4\n",
    "layers = np.array([j for j in range(1,time)])\n",
    "C = np.zeros((n,len(layers)),dtype=float)\n",
    "init='000000'\n",
    "\n",
    "\n",
    "#specify the credentials when initializing QiskitRuntimeService, if they are not previously saved\n",
    "service = QiskitRuntimeService(channel=\"ibm_quantum\")\n",
    "backend = service.backend(\"ibmq_qasm_simulator\")\n",
    "\n",
    "#settings job execution\n",
    "options = Options()\n",
    "options.execution.shots = 1000\n",
    "options.optimization_level = 1  # optimization\n",
    "options.resilience_level = 1  # mitigation\n",
    "\n",
    "for i in tqdm(range(0,n)):\n",
    "    for k,j in enumerate(tqdm(layers)):\n",
    "        trans_plus=circ_plus(n,A,T,G,step,j,i,init)\n",
    "        trans_minus=circ_minus(n,A,T,G,step,j,i,init)\n",
    "        \n",
    "        \n",
    "        #generate operator to measure\n",
    "        op=generate_pauli(n,n//2)\n",
    "        #runtime plus\n",
    "        with Session(service=service, backend=backend) as session:\n",
    "            estimator_sim = Estimator(session=session, options=options)\n",
    "            job_sim = estimator_sim.run(circuits=[trans_plus], observables=[op])\n",
    "            values_plus = job_sim.result().values\n",
    "        #runtime minus\n",
    "        with Session(service=service, backend=backend) as session:\n",
    "            estimator_sim = Estimator(session=session, options=options)\n",
    "            job_sim = estimator_sim.run(circuits=[trans_minus], observables=[op])\n",
    "            values_minus = job_sim.result().values\n",
    "        Corr = 2 + values_minus - values_plus\n",
    "        C[i,k]=Corr"
   ]
  },
  {
   "cell_type": "code",
   "execution_count": 39,
   "id": "4c7f27a6",
   "metadata": {},
   "outputs": [
    {
     "data": {
      "image/png": "[encoded data removed]",
      "text/plain": [
       "<Figure size 640x480 with 2 Axes>"
      ]
     },
     "metadata": {},
     "output_type": "display_data"
    }
   ],
   "source": [
    "Cnew=np.flipud(np.transpose(C))\n",
    "plt.imshow(Cnew)\n",
    "plt.xlabel('Sites')\n",
    "plt.ylabel('Time')\n",
    "#plt.title('A='+str(A)+' T='+str(T)+' G='+str(G)+' size='+str(n)+' init='+str(init)+' step='+str(step))\n",
    "plt.colorbar()\n"
   ]
  },
  {
   "cell_type": "code",
   "execution_count": 41,
   "id": "52fa3280",
   "metadata": {
    "scrolled": true
   },
   "outputs": [
    {
     "name": "stderr",
     "output_type": "stream",
     "text": [
      "  0%|                                                                                             | 0/6 [00:00<?, ?it/s]\n",
      "  0%|                                                                                            | 0/20 [00:00<?, ?it/s]\u001b[A\n",
      "  5%|████▏                                                                               | 1/20 [00:07<02:18,  7.29s/it]\u001b[A\n",
      " 10%|████████▍                                                                           | 2/20 [00:15<02:21,  7.87s/it]\u001b[A\n",
      " 15%|████████████▌                                                                       | 3/20 [00:23<02:13,  7.83s/it]\u001b[A\n",
      " 20%|████████████████▊                                                                   | 4/20 [00:31<02:05,  7.86s/it]\u001b[A\n",
      " 25%|█████████████████████                                                               | 5/20 [00:38<01:56,  7.76s/it]\u001b[A\n",
      " 30%|█████████████████████████▏                                                          | 6/20 [00:46<01:50,  7.87s/it]\u001b[A\n",
      " 35%|█████████████████████████████▍                                                      | 7/20 [00:54<01:41,  7.79s/it]\u001b[A\n",
      " 40%|█████████████████████████████████▌                                                  | 8/20 [01:03<01:36,  8.01s/it]\u001b[A\n",
      " 45%|█████████████████████████████████████▊                                              | 9/20 [01:11<01:28,  8.04s/it]\u001b[A\n",
      " 50%|█████████████████████████████████████████▌                                         | 10/20 [01:22<01:30,  9.05s/it]\u001b[A\n",
      " 55%|█████████████████████████████████████████████▋                                     | 11/20 [01:32<01:23,  9.30s/it]\u001b[A\n",
      " 60%|█████████████████████████████████████████████████▊                                 | 12/20 [01:45<01:23, 10.40s/it]\u001b[A\n",
      " 65%|█████████████████████████████████████████████████████▉                             | 13/20 [01:54<01:09,  9.97s/it]\u001b[A\n",
      " 70%|██████████████████████████████████████████████████████████                         | 14/20 [02:02<00:57,  9.54s/it]\u001b[A\n",
      " 75%|██████████████████████████████████████████████████████████████▎                    | 15/20 [02:14<00:50, 10.13s/it]\u001b[A\n",
      " 80%|██████████████████████████████████████████████████████████████████▍                | 16/20 [02:25<00:41, 10.49s/it]\u001b[A\n",
      " 85%|██████████████████████████████████████████████████████████████████████▌            | 17/20 [02:35<00:31, 10.44s/it]\u001b[A\n",
      " 90%|██████████████████████████████████████████████████████████████████████████▋        | 18/20 [02:46<00:20, 10.34s/it]\u001b[A\n",
      " 95%|██████████████████████████████████████████████████████████████████████████████▊    | 19/20 [02:55<00:10, 10.04s/it]\u001b[A\n",
      "100%|███████████████████████████████████████████████████████████████████████████████████| 20/20 [03:04<00:00,  9.23s/it]\u001b[A\n",
      " 17%|██████████████                                                                      | 1/6 [03:04<15:22, 184.53s/it]\n",
      "  0%|                                                                                            | 0/20 [00:00<?, ?it/s]\u001b[A\n",
      "  5%|████▏                                                                               | 1/20 [00:08<02:43,  8.58s/it]\u001b[A\n",
      " 10%|████████▍                                                                           | 2/20 [00:21<03:20, 11.13s/it]\u001b[A\n",
      " 15%|████████████▌                                                                       | 3/20 [00:30<02:52, 10.15s/it]\u001b[A\n",
      " 20%|████████████████▊                                                                   | 4/20 [00:41<02:44, 10.30s/it]\u001b[A\n",
      " 25%|█████████████████████                                                               | 5/20 [00:49<02:22,  9.48s/it]\u001b[A\n",
      " 30%|█████████████████████████▏                                                          | 6/20 [01:04<02:41, 11.57s/it]\u001b[A\n",
      " 35%|█████████████████████████████▍                                                      | 7/20 [01:17<02:37, 12.10s/it]\u001b[A\n",
      " 40%|█████████████████████████████████▌                                                  | 8/20 [01:27<02:14, 11.20s/it]\u001b[A\n",
      " 45%|█████████████████████████████████████▊                                              | 9/20 [01:36<01:55, 10.51s/it]\u001b[A\n",
      " 50%|█████████████████████████████████████████▌                                         | 10/20 [01:45<01:42, 10.20s/it]\u001b[A\n",
      " 55%|█████████████████████████████████████████████▋                                     | 11/20 [01:57<01:35, 10.57s/it]\u001b[A\n",
      " 60%|█████████████████████████████████████████████████▊                                 | 12/20 [02:05<01:19,  9.99s/it]\u001b[A\n",
      " 65%|█████████████████████████████████████████████████████▉                             | 13/20 [02:14<01:07,  9.63s/it]\u001b[A\n",
      " 70%|██████████████████████████████████████████████████████████                         | 14/20 [02:26<01:01, 10.23s/it]\u001b[A\n",
      " 75%|██████████████████████████████████████████████████████████████▎                    | 15/20 [02:34<00:48,  9.78s/it]\u001b[A\n",
      " 80%|██████████████████████████████████████████████████████████████████▍                | 16/20 [02:43<00:38,  9.56s/it]\u001b[A\n",
      " 85%|██████████████████████████████████████████████████████████████████████▌            | 17/20 [02:59<00:34, 11.41s/it]\u001b[A\n",
      " 90%|██████████████████████████████████████████████████████████████████████████▋        | 18/20 [03:09<00:21, 10.86s/it]\u001b[A\n",
      " 95%|██████████████████████████████████████████████████████████████████████████████▊    | 19/20 [03:20<00:10, 10.89s/it]\u001b[A\n",
      "100%|███████████████████████████████████████████████████████████████████████████████████| 20/20 [03:29<00:00, 10.46s/it]\u001b[A\n",
      " 33%|████████████████████████████                                                        | 2/6 [06:33<13:16, 199.08s/it]\n",
      "  0%|                                                                                            | 0/20 [00:00<?, ?it/s]\u001b[A\n",
      "  5%|████▏                                                                               | 1/20 [00:09<03:08,  9.95s/it]\u001b[A\n",
      " 10%|████████▍                                                                           | 2/20 [00:21<03:15, 10.85s/it]\u001b[A\n",
      " 15%|████████████▌                                                                       | 3/20 [00:30<02:48,  9.92s/it]\u001b[A\n",
      " 20%|████████████████▊                                                                   | 4/20 [00:39<02:33,  9.56s/it]\u001b[A\n",
      " 25%|█████████████████████                                                               | 5/20 [00:47<02:14,  8.97s/it]\u001b[A\n",
      " 30%|█████████████████████████▏                                                          | 6/20 [00:56<02:08,  9.15s/it]\u001b[A\n",
      " 35%|█████████████████████████████▍                                                      | 7/20 [01:07<02:06,  9.76s/it]\u001b[A\n",
      " 40%|█████████████████████████████████▌                                                  | 8/20 [01:18<02:00, 10.07s/it]\u001b[A\n",
      " 45%|█████████████████████████████████████▊                                              | 9/20 [01:29<01:54, 10.39s/it]\u001b[A\n",
      " 50%|█████████████████████████████████████████▌                                         | 10/20 [01:39<01:44, 10.41s/it]\u001b[A\n",
      " 55%|█████████████████████████████████████████████▋                                     | 11/20 [02:03<02:10, 14.55s/it]\u001b[A\n",
      " 60%|█████████████████████████████████████████████████▊                                 | 12/20 [02:12<01:41, 12.73s/it]\u001b[A\n",
      " 65%|█████████████████████████████████████████████████████▉                             | 13/20 [02:36<01:52, 16.07s/it]\u001b[A\n",
      " 70%|██████████████████████████████████████████████████████████                         | 14/20 [02:45<01:23, 13.88s/it]\u001b[A\n",
      " 75%|██████████████████████████████████████████████████████████████▎                    | 15/20 [02:53<01:00, 12.20s/it]\u001b[A\n",
      " 80%|██████████████████████████████████████████████████████████████████▍                | 16/20 [03:02<00:44, 11.21s/it]\u001b[A\n",
      " 85%|██████████████████████████████████████████████████████████████████████▌            | 17/20 [03:10<00:31, 10.40s/it]\u001b[A\n",
      " 90%|██████████████████████████████████████████████████████████████████████████▋        | 18/20 [03:19<00:19,  9.93s/it]\u001b[A\n",
      " 95%|██████████████████████████████████████████████████████████████████████████████▊    | 19/20 [03:26<00:09,  9.16s/it]\u001b[A\n",
      "100%|███████████████████████████████████████████████████████████████████████████████████| 20/20 [03:34<00:00, 10.75s/it]\u001b[A\n"
     ]
    },
    {
     "name": "stderr",
     "output_type": "stream",
     "text": [
      " 50%|██████████████████████████████████████████                                          | 3/6 [10:08<10:19, 206.35s/it]\n",
      "  0%|                                                                                            | 0/20 [00:00<?, ?it/s]\u001b[A\n",
      "  5%|████▏                                                                               | 1/20 [00:07<02:13,  7.04s/it]\u001b[A\n",
      " 10%|████████▍                                                                           | 2/20 [00:14<02:12,  7.38s/it]\u001b[A\n",
      " 15%|████████████▌                                                                       | 3/20 [00:23<02:15,  7.99s/it]\u001b[A\n",
      " 20%|████████████████▊                                                                   | 4/20 [00:33<02:20,  8.81s/it]\u001b[A\n",
      " 25%|█████████████████████                                                               | 5/20 [00:41<02:05,  8.39s/it]\u001b[A\n",
      " 30%|█████████████████████████▏                                                          | 6/20 [00:48<01:53,  8.11s/it]\u001b[A\n",
      " 35%|█████████████████████████████▍                                                      | 7/20 [00:56<01:45,  8.08s/it]\u001b[A\n",
      " 40%|█████████████████████████████████▌                                                  | 8/20 [01:05<01:39,  8.26s/it]\u001b[A\n",
      " 45%|█████████████████████████████████████▊                                              | 9/20 [01:21<01:57, 10.71s/it]\u001b[A\n",
      " 50%|█████████████████████████████████████████▌                                         | 10/20 [01:32<01:47, 10.76s/it]\u001b[A\n",
      " 55%|█████████████████████████████████████████████▋                                     | 11/20 [01:43<01:37, 10.88s/it]\u001b[A\n",
      " 60%|█████████████████████████████████████████████████▊                                 | 12/20 [02:31<02:58, 22.25s/it]\u001b[A\n",
      " 65%|█████████████████████████████████████████████████████▉                             | 13/20 [03:09<03:07, 26.85s/it]\u001b[A\n",
      " 70%|██████████████████████████████████████████████████████████                         | 14/20 [03:24<02:20, 23.37s/it]\u001b[A\n",
      " 75%|██████████████████████████████████████████████████████████████▎                    | 15/20 [03:35<01:38, 19.68s/it]\u001b[A\n",
      " 80%|██████████████████████████████████████████████████████████████████▍                | 16/20 [03:45<01:06, 16.62s/it]\u001b[A\n",
      " 85%|██████████████████████████████████████████████████████████████████████▌            | 17/20 [03:53<00:42, 14.01s/it]\u001b[A\n",
      " 90%|██████████████████████████████████████████████████████████████████████████▋        | 18/20 [04:03<00:25, 12.80s/it]\u001b[A\n",
      " 95%|██████████████████████████████████████████████████████████████████████████████▊    | 19/20 [04:10<00:11, 11.21s/it]\u001b[A\n",
      "100%|███████████████████████████████████████████████████████████████████████████████████| 20/20 [04:20<00:00, 13.01s/it]\u001b[A\n",
      " 67%|████████████████████████████████████████████████████████                            | 4/6 [14:28<07:35, 227.60s/it]\n",
      "  0%|                                                                                            | 0/20 [00:00<?, ?it/s]\u001b[A\n",
      "  5%|████▏                                                                               | 1/20 [00:08<02:42,  8.53s/it]\u001b[A\n",
      " 10%|████████▍                                                                           | 2/20 [00:16<02:25,  8.07s/it]\u001b[A\n",
      " 15%|████████████▌                                                                       | 3/20 [00:24<02:17,  8.10s/it]\u001b[A\n",
      " 20%|████████████████▊                                                                   | 4/20 [00:32<02:06,  7.91s/it]\u001b[A\n",
      " 25%|█████████████████████                                                               | 5/20 [00:39<01:56,  7.79s/it]\u001b[A\n",
      " 30%|█████████████████████████▏                                                          | 6/20 [00:47<01:50,  7.87s/it]\u001b[A\n",
      " 35%|█████████████████████████████▍                                                      | 7/20 [00:55<01:40,  7.76s/it]\u001b[A\n",
      " 40%|█████████████████████████████████▌                                                  | 8/20 [01:04<01:37,  8.11s/it]\u001b[A\n",
      " 45%|█████████████████████████████████████▊                                              | 9/20 [01:12<01:30,  8.23s/it]\u001b[A\n",
      " 50%|█████████████████████████████████████████▌                                         | 10/20 [01:21<01:23,  8.34s/it]\u001b[A\n",
      " 55%|█████████████████████████████████████████████▋                                     | 11/20 [01:29<01:14,  8.28s/it]\u001b[A\n",
      " 60%|█████████████████████████████████████████████████▊                                 | 12/20 [01:37<01:06,  8.31s/it]\u001b[A\n",
      " 65%|█████████████████████████████████████████████████████▉                             | 13/20 [01:54<01:15, 10.81s/it]\u001b[A\n",
      " 70%|██████████████████████████████████████████████████████████                         | 14/20 [02:03<01:01, 10.31s/it]\u001b[A\n",
      " 75%|██████████████████████████████████████████████████████████████▎                    | 15/20 [02:15<00:54, 10.90s/it]\u001b[A\n",
      " 80%|██████████████████████████████████████████████████████████████████▍                | 16/20 [02:38<00:57, 14.37s/it]\u001b[A\n",
      " 85%|██████████████████████████████████████████████████████████████████████▌            | 17/20 [02:48<00:39, 13.24s/it]\u001b[A\n",
      " 90%|██████████████████████████████████████████████████████████████████████████▋        | 18/20 [02:59<00:24, 12.44s/it]\u001b[A\n",
      " 95%|██████████████████████████████████████████████████████████████████████████████▊    | 19/20 [03:08<00:11, 11.39s/it]\u001b[A\n",
      "100%|███████████████████████████████████████████████████████████████████████████████████| 20/20 [03:19<00:00,  9.96s/it]\u001b[A\n",
      " 83%|██████████████████████████████████████████████████████████████████████              | 5/6 [17:48<03:37, 217.34s/it]\n",
      "  0%|                                                                                            | 0/20 [00:00<?, ?it/s]\u001b[A\n",
      "  5%|████▏                                                                               | 1/20 [00:10<03:19, 10.53s/it]\u001b[A\n",
      " 10%|████████▍                                                                           | 2/20 [00:18<02:40,  8.94s/it]\u001b[A\n",
      " 15%|████████████▌                                                                       | 3/20 [00:26<02:26,  8.61s/it]\u001b[A\n",
      " 20%|████████████████▊                                                                   | 4/20 [00:34<02:10,  8.18s/it]\u001b[A\n",
      " 25%|█████████████████████                                                               | 5/20 [00:44<02:12,  8.82s/it]\u001b[A\n",
      " 30%|█████████████████████████▏                                                          | 6/20 [00:52<01:59,  8.55s/it]\u001b[A\n",
      " 35%|█████████████████████████████▍                                                      | 7/20 [01:00<01:51,  8.60s/it]\u001b[A\n",
      " 40%|█████████████████████████████████▌                                                  | 8/20 [01:08<01:39,  8.32s/it]\u001b[A\n",
      " 45%|█████████████████████████████████████▊                                              | 9/20 [01:17<01:32,  8.41s/it]\u001b[A\n",
      " 50%|█████████████████████████████████████████▌                                         | 10/20 [01:24<01:20,  8.04s/it]\u001b[A\n",
      " 55%|█████████████████████████████████████████████▋                                     | 11/20 [01:32<01:11,  8.00s/it]\u001b[A\n",
      " 60%|█████████████████████████████████████████████████▊                                 | 12/20 [01:40<01:03,  7.93s/it]\u001b[A\n",
      " 65%|█████████████████████████████████████████████████████▉                             | 13/20 [01:48<00:55,  7.97s/it]\u001b[A\n",
      " 70%|██████████████████████████████████████████████████████████                         | 14/20 [02:04<01:02, 10.40s/it]\u001b[A\n",
      " 75%|██████████████████████████████████████████████████████████████▎                    | 15/20 [02:14<00:51, 10.34s/it]\u001b[A\n",
      " 80%|██████████████████████████████████████████████████████████████████▍                | 16/20 [02:25<00:42, 10.67s/it]\u001b[A\n",
      " 85%|██████████████████████████████████████████████████████████████████████▌            | 17/20 [02:36<00:31, 10.60s/it]\u001b[A\n",
      " 90%|██████████████████████████████████████████████████████████████████████████▋        | 18/20 [02:46<00:20, 10.40s/it]\u001b[A\n",
      " 95%|██████████████████████████████████████████████████████████████████████████████▊    | 19/20 [03:11<00:14, 14.92s/it]\u001b[A\n",
      "100%|███████████████████████████████████████████████████████████████████████████████████| 20/20 [03:42<00:00, 11.12s/it]\u001b[A\n"
     ]
    },
    {
     "name": "stderr",
     "output_type": "stream",
     "text": [
      "100%|████████████████████████████████████████████████████████████████████████████████████| 6/6 [21:30<00:00, 215.07s/it]\n"
     ]
    }
   ],
   "source": [
    "#MAIN 2 THE ONE THAT IS GONNA WORK (THETA SWEEP)\n",
    "#theta0*layers=t\n",
    "#parameters\n",
    "n,A,T,G,step=6,1,1,0,1\n",
    "times = [j for j in range(1,5)]\n",
    "theta0=0.01\n",
    "thetas= np.arange(0.001,2,0.1)\n",
    "C = np.zeros((n,len(thetas)),dtype=float)\n",
    "init='000000'\n",
    "\n",
    "#specify the credentials when initializing QiskitRuntimeService, if they are not previously saved\n",
    "service = QiskitRuntimeService(channel=\"ibm_quantum\")\n",
    "backend = service.backend(\"simulator_statevector\")\n",
    "\n",
    "#settings job execution\n",
    "options = Options()\n",
    "options.execution.shots = 1000\n",
    "options.optimization_level = 1  # optimization\n",
    "options.resilience_level = 1  # mitigation\n",
    "\n",
    "for i in tqdm(range(0,n)):\n",
    "    for k,t in enumerate(tqdm(thetas)):\n",
    "        #layers=round(t/theta0)\n",
    "        trans_plus=circ_plus(n,A,theta0,G,step,1,i,init)\n",
    "        trans_minus=circ_minus(n,A,theta0,G,step,1,i,init)\n",
    "        \n",
    "        \n",
    "        #generate operator to measure\n",
    "        op=generate_pauli(n,n//2)\n",
    "        #runtime plus\n",
    "        with Session(service=service, backend=backend) as session:\n",
    "            estimator_sim = Estimator(session=session, options=options)\n",
    "            job_sim = estimator_sim.run(circuits=[trans_plus], observables=[op])\n",
    "            values_plus = job_sim.result().values\n",
    "        #runtime minus\n",
    "        with Session(service=service, backend=backend) as session:\n",
    "            estimator_sim = Estimator(session=session, options=options)\n",
    "            job_sim = estimator_sim.run(circuits=[trans_minus], observables=[op])\n",
    "            values_minus = job_sim.result().values\n",
    "        Corr = 2 + values_minus - values_plus\n",
    "        C[i,k]=Corr"
   ]
  },
  {
   "cell_type": "code",
   "execution_count": 42,
   "id": "c8422cc0",
   "metadata": {},
   "outputs": [
    {
     "data": {
      "text/plain": [
       "<matplotlib.colorbar.Colorbar at 0x7f315e9a3b80>"
      ]
     },
     "execution_count": 42,
     "metadata": {},
     "output_type": "execute_result"
    },
    {
     "data": {
      "image/png": "[encoded data removed]",
      "text/plain": [
       "<Figure size 640x480 with 2 Axes>"
      ]
     },
     "metadata": {},
     "output_type": "display_data"
    }
   ],
   "source": [
    "Cnew=np.flipud(np.transpose(C))\n",
    "plt.imshow(Cnew)\n",
    "plt.xlabel('Sites')\n",
    "plt.ylabel('Time')\n",
    "#plt.title('A='+str(A)+' T='+str(T)+' G='+str(G)+' size='+str(n)+' init='+str(init)+' step='+str(step))\n",
    "plt.colorbar()"
   ]
  },
  {
   "cell_type": "code",
   "execution_count": 286,
   "id": "8e8e058d",
   "metadata": {
    "collapsed": true
   },
   "outputs": [
    {
     "data": {
      "text/plain": [
       "<matplotlib.colorbar.Colorbar at 0x7f8714e66380>"
      ]
     },
     "execution_count": 286,
     "metadata": {},
     "output_type": "execute_result"
    },
    {
     "data": {
      "image/png": "[encoded data removed]",
      "text/plain": [
       "<Figure size 640x480 with 2 Axes>"
      ]
     },
     "metadata": {},
     "output_type": "display_data"
    }
   ],
   "source": [
    "Cnew=np.flipud(np.transpose(C))\n",
    "plt.imshow(Cnew)\n",
    "plt.xlabel('Sites')\n",
    "plt.ylabel('Time')\n",
    "plt.title('A='+str(A)+' T='+str(T)+' G='+str(G)+' size='+str(n)+' init='+str(init)+' step='+str(step))\n",
    "plt.colorbar()"
   ]
  },
  {
   "cell_type": "code",
   "execution_count": 10,
   "id": "ccd24499",
   "metadata": {},
   "outputs": [
    {
     "data": {
      "text/plain": [
       "SparsePauliOp(['ZIIII'],\n",
       "              coeffs=[0.1+0.j])"
      ]
     },
     "execution_count": 10,
     "metadata": {},
     "output_type": "execute_result"
    }
   ],
   "source": [
    "generate_pauli(5,0)"
   ]
  },
  {
   "cell_type": "code",
   "execution_count": null,
   "id": "e0e2a617",
   "metadata": {},
   "outputs": [],
   "source": [
    "#saving data\n",
    "with open('tau='+str(tau)+' h='+str(h)+' J='+str(J)+' n='+str(n)+' init: '+str(string), 'wb') as file:\n",
    "      \n",
    "    # A new file will be created\n",
    "    pickle.dump(ent_entropy, file)"
   ]
  },
  {
   "cell_type": "code",
   "execution_count": null,
   "id": "8e5ad723",
   "metadata": {},
   "outputs": [],
   "source": [
    "#loading data\n",
    "with open('tau='+str(tau)+' h='+str(h)+' J='+str(J)+' n=10', 'rb') as file:\n",
    "    loaded_data = pickle.load(file)"
   ]
  },
  {
   "cell_type": "code",
   "execution_count": 36,
   "id": "1ad5483c",
   "metadata": {},
   "outputs": [],
   "source": [
    "#OTOC\n",
    "#PLUS PART\n",
    "\n",
    "\n",
    "def circ_plus(n,A,T,G,step,layers,pos,init):\n",
    "    matrix = U(A,T/step,G)\n",
    "    qcp=QuantumCircuit(n)\n",
    "    #init\n",
    "    string = init\n",
    "    QuantumCircuit.initialize(qcp,string)\n",
    "    \n",
    "    #init in prodstate\n",
    "    #qcp.unitary(prodstaten(n), range(0,n))\n",
    "    \n",
    "    \n",
    "    #V_i perturbation +pi/2\n",
    "    qcp.ry((np.pi/2),n//2,label='V_plus')\n",
    "    #fwd evolution\n",
    "    qcp.barrier(range(n))\n",
    "    qcp.barrier(range(n))\n",
    "    bwassembler(qcp,matrix,layers,n)\n",
    "    #W_j perturbation\n",
    "    qcp.z(pos)\n",
    "    #backwards evolution\n",
    "    qcp.barrier(range(n))\n",
    "    qcp.barrier(range(n))\n",
    "    revbwassembler(qcp,matrix,layers,n)\n",
    "    #transpiling\n",
    "    basis_gates=['cx', 'id', 'rz', 'x', 'sx']\n",
    "    qcp=transpile(qcp, basis_gates=basis_gates, optimization_level=1)\n",
    "    \n",
    "    return qcp\n",
    "def circ_plus_rand(n,step,layers,pos,init):\n",
    "    matrix = U(A,T/step,G)\n",
    "    qcp=QuantumCircuit(n)\n",
    "    #init\n",
    "    string = init\n",
    "    QuantumCircuit.initialize(qcp,string)\n",
    "    \n",
    "    #init in prodstate\n",
    "    #qcp.unitary(prodstaten(n), range(0,n))\n",
    "    \n",
    "    \n",
    "    #V_i perturbation +pi/2\n",
    "    qcp.ry((np.pi/2),n//2,label='V_plus')\n",
    "    #fwd evolution\n",
    "    qcp.barrier(range(n))\n",
    "    qcp.barrier(range(n))\n",
    "    bwassembler(qcp,matrix,layers,n)\n",
    "    #W_j perturbation\n",
    "    qcp.z(pos)\n",
    "    #backwards evolution\n",
    "    qcp.barrier(range(n))\n",
    "    qcp.barrier(range(n))\n",
    "    revbwassembler(qcp,matrix,layers,n)\n",
    "    #transpiling\n",
    "    basis_gates=['cx', 'id', 'rz', 'x', 'sx']\n",
    "    qcp=transpile(qcp, basis_gates=basis_gates, optimization_level=1)\n",
    "    \n",
    "    return qcp\n",
    "\n",
    "#RAND CIRC PRIMITIVE\n",
    "#random fwd evolution\n",
    "qc.barrier(range(n+1))\n",
    "qc.barrier(range(n+1))\n",
    "randbwassembler(qc,1,4)\n",
    "#W_j perturbation\n",
    "qc.z(i)\n",
    "#backwards evolution\n",
    "qc.barrier(range(n+1))\n",
    "qc.barrier(range(n+1))\n",
    "qc = qc.compose(qc.inverse())\n",
    "\n",
    "#OTOC\n",
    "#MINUS PART\n",
    "\n",
    "\n",
    "def circ_minus(n,A,T,G,step,layers,pos,init):\n",
    "    matrix = U(A,T/step,G)\n",
    "    qcm=QuantumCircuit(n)\n",
    "    #init\n",
    "    string = init\n",
    "    QuantumCircuit.initialize(qcm,string)\n",
    "    \n",
    "    \n",
    "    #init in prodstate\n",
    "    #qcm.unitary(prodstaten(n), range(0,n))\n",
    "     \n",
    "    \n",
    "    #V_i perturbation -pi/2\n",
    "    qcm.ry((-np.pi/2),n//2,label='V_minus')\n",
    "    #fwd evolution\n",
    "    qcm.barrier(range(n))\n",
    "    qcm.barrier(range(n))\n",
    "    bwassembler(qcm,matrix,layers,n)\n",
    "    #W_j perturbation\n",
    "    qcm.z(pos)\n",
    "    #backwards evolution\n",
    "    qcm.barrier(range(n))\n",
    "    qcm.barrier(range(n))\n",
    "    revbwassembler(qcm,matrix,layers,n)\n",
    "    #transpiling \n",
    "    basis_gates=['cx', 'id', 'rz', 'x', 'sx']\n",
    "    qcm=transpile(qcm, basis_gates=basis_gates, optimization_level=1)\n",
    "    \n",
    "    return qcm\n",
    "def circ_minus_rand(n,step,layers,pos,init):\n",
    "    matrix = U(A,T/step,G)\n",
    "    qcm=QuantumCircuit(n)\n",
    "    #init\n",
    "    string = init\n",
    "    QuantumCircuit.initialize(qcm,string)\n",
    "    \n",
    "    \n",
    "    #init in prodstate\n",
    "    #qcm.unitary(prodstaten(n), range(0,n))\n",
    "     \n",
    "    \n",
    "    #V_i perturbation -pi/2\n",
    "    qcm.ry((-np.pi/2),n//2,label='V_minus')\n",
    "    #fwd evolution\n",
    "    qcm.barrier(range(n))\n",
    "    qcm.barrier(range(n))\n",
    "    bwassembler(qcm,matrix,layers,n)\n",
    "    #W_j perturbation\n",
    "    qcm.z(pos)\n",
    "    #backwards evolution\n",
    "    qcm.barrier(range(n))\n",
    "    qcm.barrier(range(n))\n",
    "    revbwassembler(qcm,matrix,layers,n)\n",
    "    #transpiling \n",
    "    basis_gates=['cx', 'id', 'rz', 'x', 'sx']\n",
    "    qcm=transpile(qcm, basis_gates=basis_gates, optimization_level=1)\n",
    "    \n",
    "    return qcm\n",
    "\n",
    "#define unitary\n",
    "def U(A,T,G):\n",
    "    U = np.zeros((4,4), dtype=complex)\n",
    "    \n",
    "    U[0,0]=(-1+2*1j*A*np.cosh(G/2)*(1/np.sinh(T)))/np.sqrt((1+2*A**(2)*(1/np.tanh(T))*(1/np.sinh(T)))+2*A**(2)*np.cosh(G)*(1/np.sinh(T))**2)\n",
    "    \n",
    "    U[0,3]=(1j*A*(1/np.cosh(T/2)))/np.sqrt((1+2*A**(2)*(1/np.tanh(T))*(1/np.sinh(T)))+2*A**(2)*np.cosh(G)*(1/np.sinh(T))**2)\n",
    "    \n",
    "    U[1,1]=(1j*A*(1/np.sinh(T/2)))/np.sqrt((1+2*A**(2)*(1/np.tanh(T))*(1/np.sinh(T)))+2*A**(2)*np.cosh(G)*(1/np.sinh(T))**2)\n",
    "    \n",
    "    U[1,2]=(-1+2*1j*A*(1/np.sinh(T))*np.sinh(G/2))/np.sqrt((1+2*A**(2)*(1/np.tanh(T))*(1/np.sinh(T)))+2*A**(2)*np.cosh(G)*(1/np.sinh(T))**2)\n",
    "    \n",
    "    U[2,1]=(-1-2*1j*A*(1/np.sinh(T))*np.sinh(G/2))/np.sqrt((1+2*A**(2)*(1/np.tanh(T))*(1/np.sinh(T)))+2*A**(2)*np.cosh(G)*(1/np.sinh(T))**2)\n",
    "    \n",
    "    U[2,2]=(1j*A*(1/np.sinh(T/2)))/np.sqrt((1+2*A**(2)*(1/np.tanh(T))*(1/np.sinh(T)))+2*A**(2)*np.cosh(G)*(1/np.sinh(T))**2)\n",
    "    \n",
    "    U[3,0]=-(1j*A*(1/np.cosh(T/2)))/np.sqrt((1+2*A**(2)*(1/np.tanh(T))*(1/np.sinh(T)))+2*A**(2)*np.cosh(G)*(1/np.sinh(T))**2)\n",
    "    \n",
    "    U[3,3]=(1+2*1j*A*np.cosh(G/2)*(1/np.sinh(T)))/np.sqrt((1+2*A**(2)*(1/np.tanh(T))*(1/np.sinh(T)))+2*A**(2)*np.cosh(G)*(1/np.sinh(T))**2)\n",
    "    \n",
    "    return(U)\n",
    "\n",
    "#define BW\n",
    "def bwassembler(qc,matrix,layers,n):\n",
    "    \n",
    "    m=0\n",
    "    while m < layers:\n",
    "        i=0;j=0;    \n",
    "        #even layer\n",
    "        while i < n/2:\n",
    "            qc.unitary(matrix, [2*i,2*i+1])\n",
    "            i+=1;\n",
    "        qc.barrier(range(n))\n",
    "        \n",
    "        \n",
    "        #odd layer\n",
    "        while j < n/2:\n",
    "            \n",
    "            if j == (n/2 - 1):\n",
    "                qc.unitary(matrix,[2*j+1,0])\n",
    "            else:\n",
    "                qc.unitary(matrix, [2*j+1,2*j+2])\n",
    "            \n",
    "            j+=1;\n",
    "        qc.barrier(range(n))\n",
    "        \n",
    "        \n",
    "        m+=1\n",
    "    qc.barrier(range(n))\n",
    "    return(qc)\n",
    "\n",
    "#define reversed BW\n",
    "def revbwassembler(qc,matrix,layers,n):\n",
    "    matrix=matrix.conj().T\n",
    "    m=0\n",
    "    while m < layers:\n",
    "        i=0;j=0;    \n",
    "        \n",
    "        #odd layer\n",
    "        while j < n/2:\n",
    "            \n",
    "            if j == (n/2 - 1):\n",
    "                qc.unitary(matrix,[2*j+1,0])\n",
    "            else:\n",
    "                qc.unitary(matrix, [2*j+1,2*j+2])\n",
    "            \n",
    "            j+=1;\n",
    "        qc.barrier(range(n))\n",
    "        \n",
    "        #even layer\n",
    "        while i < n/2:\n",
    "            qc.unitary(matrix, [2*i,2*i+1])\n",
    "            i+=1;\n",
    "        qc.barrier(range(n))\n",
    "        \n",
    "        \n",
    "        m+=1\n",
    "    qc.barrier(range(n))\n",
    "    return(qc)\n",
    "\n",
    "#define operators to measure\n",
    "def generate_pauli(n, j):\n",
    "    if n <= 0 or j < 0 or  j >= n:\n",
    "        raise ValueError(\"Invalid input values\")\n",
    "    \n",
    "    pauli_str = \"I\" * n  # Initialize with n identity operators\n",
    "    # Set the Z at position i and j\n",
    "    pauli_str_list = list(pauli_str)\n",
    "    pauli_str_list[j] = \"X\"\n",
    "    pauli_str = \"\".join(pauli_str_list)\n",
    "    op = SparsePauliOp(pauli_str, coeffs=[1])\n",
    "    \n",
    "    return op\n",
    "\n",
    "def prodstaten(n):\n",
    "    \n",
    "    X = np.array([[0,1],[1,0]])\n",
    "    X0 = np.zeros((n,2**n,2**n),dtype = complex)\n",
    "    \n",
    "    for i in range(0,n):   \n",
    "        X0[i]=np.kron(np.kron(np.eye(2**i),X),np.eye(2**(n-i-1)))\n",
    "    operator = np.eye(2**n)\n",
    "    for i in range(0,n//2):\n",
    "        operator = (X0[2*i]+1j*X0[2*i+1])@operator\n",
    "    return (1/np.sqrt(2**(n//2)))*operator\n",
    "    \n",
    "def bell_pair1(qc, a, b):\n",
    "    \n",
    "    qc.h(a) # Put qubit a into state |+> or |-> using hadamard gate\n",
    "    qc.cx(a,b) # CNOT with a as control and b as target\n",
    "    \n",
    "def bell_pair4(qc,a,b):\n",
    "    \n",
    "    qc.h(a)\n",
    "    qc.x(b)\n",
    "    qc.z(a)\n",
    "    qc.z(b)\n",
    "    qc.cx(a,b)"
   ]
  },
  {
   "cell_type": "markdown",
   "id": "0a847435",
   "metadata": {},
   "source": [
    "## Reversibility of circuit test"
   ]
  },
  {
   "cell_type": "code",
   "execution_count": 108,
   "id": "d4df117c",
   "metadata": {
    "collapsed": true
   },
   "outputs": [
    {
     "data": {
      "image/png": "[encoded data removed]",
      "text/plain": [
       "<Figure size 287.496x367.889 with 1 Axes>"
      ]
     },
     "execution_count": 108,
     "metadata": {},
     "output_type": "execute_result"
    }
   ],
   "source": [
    "n=4\n",
    "layers=1\n",
    "matrix=U(1,1,1)\n",
    "qc=QuantumCircuit(n)\n",
    "string = \"1110\" \n",
    "QuantumCircuit.initialize(qc,string)\n",
    "qc.draw(output='mpl',style={'displaycolor':dispcolors}, filename='my_circuit.pdf')\n"
   ]
  },
  {
   "cell_type": "code",
   "execution_count": 109,
   "id": "9b7a62d1",
   "metadata": {
    "collapsed": true
   },
   "outputs": [
    {
     "data": {
      "image/png": "[encoded data removed]",
      "text/plain": [
       "<Figure size 1040x367.889 with 1 Axes>"
      ]
     },
     "execution_count": 109,
     "metadata": {},
     "output_type": "execute_result"
    }
   ],
   "source": [
    "qc.compose(bwassembler(qc,matrix,layers,n))\n",
    "qc.draw(output='mpl',style={'displaycolor':dispcolors}, filename='my_circuit.pdf')\n"
   ]
  },
  {
   "cell_type": "code",
   "execution_count": null,
   "id": "de93ebe1",
   "metadata": {},
   "outputs": [],
   "source": [
    "qc.compose(revbwassembler(qc,matrix,layers,n))\n",
    "qc.draw(out"
   ]
  },
  {
   "cell_type": "code",
   "execution_count": 110,
   "id": "e0ecffa0",
   "metadata": {
    "collapsed": true
   },
   "outputs": [
    {
     "data": {
      "image/png": "[encoded data removed]",
      "text/plain": [
       "<Figure size 1792.5x367.889 with 1 Axes>"
      ]
     },
     "execution_count": 110,
     "metadata": {},
     "output_type": "execute_result"
    }
   ],
   "source": [
    "qc.compose(revbwassembler(qc,matrix,layers,n))\n",
    "qc.draw(output='mpl',style={'displaycolor':dispcolors}, filename='my_circuit.pdf')"
   ]
  },
  {
   "cell_type": "code",
   "execution_count": 149,
   "id": "7416dc88",
   "metadata": {},
   "outputs": [
    {
     "data": {
      "text/latex": [
       "$$\n",
       "\n",
       "\\begin{bmatrix}\n",
       "0 & 0 & 0 & 0 & \\cdots & 0 & 0 & 0  \\\\\n",
       " \\end{bmatrix}\n",
       "$$"
      ],
      "text/plain": [
       "<IPython.core.display.Latex object>"
      ]
     },
     "execution_count": 149,
     "metadata": {},
     "output_type": "execute_result"
    }
   ],
   "source": []
  },
  {
   "cell_type": "code",
   "execution_count": 231,
   "id": "56f4aa83",
   "metadata": {},
   "outputs": [
    {
     "data": {
      "text/plain": [
       "SparsePauliOp(['IZII'],\n",
       "              coeffs=[1.+0.j])"
      ]
     },
     "execution_count": 231,
     "metadata": {},
     "output_type": "execute_result"
    }
   ],
   "source": []
  },
  {
   "cell_type": "code",
   "execution_count": null,
   "id": "d331bd20",
   "metadata": {},
   "outputs": [],
   "source": []
  }
 ],
 "metadata": {
  "kernelspec": {
   "display_name": "Python 3 (ipykernel)",
   "language": "python",
   "name": "python3"
  },
  "language_info": {
   "codemirror_mode": {
    "name": "ipython",
    "version": 3
   },
   "file_extension": ".py",
   "mimetype": "text/x-python",
   "name": "python",
   "nbconvert_exporter": "python",
   "pygments_lexer": "ipython3",
   "version": "3.10.9"
  }
 },
 "nbformat": 4,
 "nbformat_minor": 5
}
