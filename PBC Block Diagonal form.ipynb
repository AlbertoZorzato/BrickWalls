{
 "cells": [
  {
   "cell_type": "code",
   "execution_count": 1,
   "id": "3c8c7fc2",
   "metadata": {},
   "outputs": [],
   "source": [
    "from tqdm import tqdm\n",
    "from qiskit import quantum_info\n",
    "from qiskit.quantum_info import DensityMatrix, Statevector, partial_trace\n",
    "from qiskit.visualization import plot_histogram\n",
    "import matplotlib.pyplot as plt\n",
    "import numpy as np\n",
    "#from qiskit_experiments.framework import ParallelExperiment\n",
    "from qiskit_experiments.library import StateTomography\n",
    "from qiskit.providers.aer import AerSimulator\n",
    "from qiskit.providers.fake_provider import FakeParis\n",
    "from numpy.linalg import norm \n",
    "import cvxpy\n",
    "#set noisy simulator backend \n",
    "backend = AerSimulator.from_backend(FakeParis())\n",
    "from qiskit import QuantumCircuit, transpile\n",
    "from qiskit.quantum_info import Operator\n",
    "from qiskit.transpiler import PassManager\n",
    "from qiskit.transpiler.passes import Unroller\n",
    "#visualization\n",
    "from qiskit.visualization import plot_state_city\n",
    "from qiskit.visualization import plot_histogram\n",
    "from qiskit import QuantumCircuit\n",
    "from qiskit.quantum_info import SparsePauliOp\n",
    "from qiskit.circuit import Parameter\n",
    "from qiskit.primitives import Estimator\n",
    "from scipy.linalg import expm"
   ]
  },
  {
   "cell_type": "code",
   "execution_count": 2,
   "id": "bca230b4",
   "metadata": {},
   "outputs": [],
   "source": [
    "def Phi(A,T,G):\n",
    "    \n",
    "    return -(1/2)*1j*np.log((-1-2*1j*A*(1/np.sinh(T))*np.sinh(G/2))/(-1+2*1j*A*(1/np.sinh(T))*np.sinh(G/2)))\n",
    "\n",
    "def A12(A,T,G):\n",
    "    \n",
    "    return (1/2)*1j*(np.log((A*(1/np.sinh(T/2))-(1j+2*A*(1/np.sinh(T))*np.sinh(G/2))*np.sqrt(-1+((1)/(0.5-1j*A*(1/np.sinh(T))*np.sinh(G/2)))))/(np.sqrt(1+2*A**(2)*(np.cosh(G)+np.cosh(T))*(1/np.sinh(T))**(2))))-np.log((A*(1/np.sinh(T/2))+(1j+2*A*(1/np.sinh(T))*np.sinh(G/2))*np.sqrt(-1+((1)/(0.5-1j*A*(1/np.sinh(T))*np.sinh(G/2)))))/(np.sqrt(1+2*A**(2)*(np.cosh(G)+np.cosh(T))*(1/np.sinh(T))**2))))\n",
    "\n",
    "def A11(A,T,G):\n",
    "    return -np.arccos((2*A*np.cosh(G/2)*(1/np.sinh(T)))/(np.sqrt(1+2*A**(2)*(np.cosh(G)+np.cosh(T))*(1/np.sinh(T))**(2))))/(np.sqrt(1+A**(2)*(1/np.cosh(T/2)**(2))))\n",
    "\n",
    "def B12(A,T,G):\n",
    "    return (-1j*A*np.arccos((2*A*np.cosh(G/2)*(1/np.sinh(T)))/(np.sqrt(1+2*A**(2)*(np.cosh(G)+np.cosh(T))*(1/np.sinh(T))**(2))))*(1/np.cosh(T/2)))/(np.sqrt(1+A**(2)*(1/np.cosh(T/2)**(2))))\n",
    "\n",
    "\n",
    "\n",
    "\n",
    "def H(k,A,T,G,t):\n",
    "    \n",
    "    H=np.zeros((4,4),dtype=complex)\n",
    "            \n",
    "    phi = Phi(A,T,G)\n",
    "    a11 = A11(A,T,G)\n",
    "    a12 = t*A12(A,T,G)\n",
    "    b12 = B12(A,T,G)\n",
    "            \n",
    "    H[0,0]=-a11+a12*np.cos(k-phi)\n",
    "    H[0,1]=-1j*a12*np.sin(k-phi)\n",
    "    H[0,2]=b12*np.cos(k)\n",
    "    H[0,3]=1j*b12*np.sin(k)\n",
    "    \n",
    "    H[1,0]=1j*a12*np.sin(k-phi)\n",
    "    H[1,1]=-a11-a12*np.cos(k-phi)\n",
    "    H[1,2]=1j*b12*np.sin(k)\n",
    "    H[1,3]=b12*np.cos(k)    \n",
    "\n",
    "    H[2,0]=-b12*np.cos(k)\n",
    "    H[2,1]=1j*b12*np.sin(k)\n",
    "    H[2,2]=a11+a12*np.cos(k+phi)\n",
    "    H[2,3]=1j*a12*np.sin(k+phi)\n",
    "    \n",
    "    H[3,0]=1j*b12*np.sin(k)\n",
    "    H[3,1]=-b12*np.cos(k)    \n",
    "    H[3,2]=-1j*a12*np.sin(k+phi)\n",
    "    H[3,3]=a11-a12*np.cos(k+phi)\n",
    "    \n",
    "    return(H)\n",
    "    \n",
    "def Hprime(k,A,T,G,t):\n",
    "    \n",
    "    H=np.zeros((4,4),dtype=complex)\n",
    "    \n",
    "    phi = Phi(A,T,G)\n",
    "    a11 = A11(A,T,G)\n",
    "    a12 = t*A12(A,T,G)\n",
    "    b12 = B12(A,T,G)\n",
    "    \n",
    "    H[0,0]=-a11+a12*np.cos(k-phi)\n",
    "    H[0,1]=1j*a12*np.sin(k-phi)\n",
    "    H[0,2]=-b12*np.cos(k)\n",
    "    H[0,3]=1j*b12*np.sin(k)\n",
    "    \n",
    "    H[1,0]=-1j*a12*np.sin(k-phi)\n",
    "    H[1,1]=-a11-a12*np.cos(k-phi)\n",
    "    H[1,2]=1j*b12*np.sin(k)\n",
    "    H[1,3]=-b12*np.cos(k)    \n",
    "\n",
    "    H[2,0]=b12*np.cos(k)\n",
    "    H[2,1]=1j*b12*np.sin(k)\n",
    "    H[2,2]=a11+a12*np.cos(k+phi)\n",
    "    H[2,3]=-1j*a12*np.sin(k+phi)\n",
    "    \n",
    "    H[3,0]=1j*b12*np.sin(k)\n",
    "    H[3,1]=b12*np.cos(k)    \n",
    "    H[3,2]=1j*a12*np.sin(k+phi)\n",
    "    H[3,3]=a11-a12*np.cos(k+phi)\n",
    "    \n",
    "    return(H)    \n",
    "    \n",
    "def Uf(k,A,T,G,t):\n",
    "    return expm(1j*Hprime(k,A,T,G,t))@expm(1j*H(k,A,T,G,t))"
   ]
  },
  {
   "cell_type": "code",
   "execution_count": 3,
   "id": "e6e6d9bf",
   "metadata": {},
   "outputs": [],
   "source": [
    "#Phi(1,2,1) #correct \n",
    "#B12(1,2,1) #correct \n",
    "#A12(1,2,1) #correct \n",
    "#A11(1,2,1) #correct "
   ]
  },
  {
   "cell_type": "code",
   "execution_count": 4,
   "id": "f88be271",
   "metadata": {},
   "outputs": [
    {
     "data": {
      "text/plain": [
       "array([[-0.77357083+0.03748843j, -0.40898414-0.36036794j,\n",
       "        -0.31669714+0.01341273j,  0.03780373+0.03381722j],\n",
       "       [-0.40898414-0.36036794j,  0.2407261 +0.4069908j ,\n",
       "         0.20880833+0.64832153j,  0.07787154-0.09638806j],\n",
       "       [-0.31669714+0.01341273j,  0.20880833+0.64832153j,\n",
       "        -0.26926142-0.5446701j , -0.22673019+0.12258666j],\n",
       "       [ 0.03780373+0.03381722j,  0.07787154-0.09638806j,\n",
       "        -0.22673019+0.12258666j, -0.65638549-0.69627341j]])"
      ]
     },
     "execution_count": 4,
     "metadata": {},
     "output_type": "execute_result"
    }
   ],
   "source": [
    "#numerical check of Uf A=1 T=2 G=1 k=1\n",
    "\n",
    "Uf(1,1,2,1,1)"
   ]
  },
  {
   "cell_type": "code",
   "execution_count": 61,
   "id": "209832f6",
   "metadata": {
    "scrolled": false
   },
   "outputs": [
    {
     "name": "stderr",
     "output_type": "stream",
     "text": [
      "312it [00:00, 2442.50it/s]\n",
      "312it [00:00, 2755.80it/s]\n"
     ]
    }
   ],
   "source": [
    "A,G,T=1,1,1.3\n",
    "t=0.9\n",
    "delta=0.001\n",
    "k_range=np.arange(0.007,np.pi/2-0.005,0.005)\n",
    "k_range1=np.arange(-0.007,-np.pi/2+0.005,-0.005)\n",
    "lista1=np.zeros((len(k_range),4),dtype=complex)\n",
    "lista2=np.zeros((len(k_range),4),dtype=complex)\n",
    "lista3=np.zeros((len(k_range1),4),dtype=complex)\n",
    "lista4=np.zeros((len(k_range1),4),dtype=complex)\n",
    "for i,k in tqdm(enumerate(k_range)):\n",
    "    #print(i,k)\n",
    "    eigvals1,_=np.linalg.eig(np.exp(np.pi*1j/1000)*Uf(k,A,T,G,t))\n",
    "    eigvals2,_=np.linalg.eig(np.exp(-np.pi*1j/1000)*Uf(k,A,T,G,t))\n",
    "    order1 = np.argsort(eigvals1)\n",
    "    order2 = np.argsort(eigvals2)\n",
    "    eigvals1 = eigvals1[order1]\n",
    "    eigvals2 = eigvals2[order2]\n",
    "    args1 = np.angle(eigvals1)\n",
    "    args2 = np.angle(eigvals2)\n",
    "    \n",
    "    lista1[i]=args1\n",
    "    lista2[i]=args2\n",
    "                \n",
    "for i,k in tqdm(enumerate(k_range1)):\n",
    "    #print(i,k)\n",
    "    eigvals1,_=np.linalg.eig(np.exp(np.pi*1j/1000)*Uf(k,A,T,G,t))\n",
    "    eigvals2,_=np.linalg.eig(np.exp(-np.pi*1j/1000)*Uf(k,A,T,G,t))\n",
    "    order1 = np.argsort(eigvals1)\n",
    "    order2 = np.argsort(eigvals2)\n",
    "    eigvals1 = eigvals1[order1]\n",
    "    eigvals2 = eigvals2[order2]\n",
    "    args1 = np.angle(eigvals1)\n",
    "    args2 = np.angle(eigvals2)\n",
    "    \n",
    "    lista3[i]=args1\n",
    "    lista4[i]=args2"
   ]
  },
  {
   "cell_type": "code",
   "execution_count": 63,
   "id": "ea45731c",
   "metadata": {},
   "outputs": [
    {
     "data": {
      "image/png": "[encoded data removed]",
      "text/plain": [
       "<Figure size 640x480 with 1 Axes>"
      ]
     },
     "metadata": {},
     "output_type": "display_data"
    }
   ],
   "source": [
    "csfont = {'fontname':'Serif'}\n",
    "#for i in range(4):\n",
    "#    plt.scatter(k_range,lista1[:,i],c='magenta')\n",
    "#    plt.scatter(k_range,-lista2[:,i],c='magenta')\n",
    "plt.plot(k_range,lista1,c='magenta')\n",
    "plt.plot(k_range,-lista2,c='magenta')\n",
    "plt.plot(k_range1,lista3,c='magenta')\n",
    "plt.plot(k_range1,-lista4,c='magenta')\n",
    "plt.xlabel(r'$k$',**csfont, size='15')\n",
    "plt.ylabel(r'$\\epsilon_{i}^k$',**csfont, size='15')\n",
    "#plt.title(r\"$\\alpha=$\"+str(A)+r\"$, \\gamma=$\"+str(G)+r\"$, \\theta=0$, t=1\",**csfont, size = 15)\n",
    "#plt.savefig(\"/mnt/c/Users/azorzat/OneDrive - UvA/Desktop/Plots Paper/Dispersion Uf A=\"+str(A)+\"G=\"+str(G)+\"T=\"+str(T)+\", ta=\"+str(t)+\".pdf\", bbox_inches='tight')  "
   ]
  },
  {
   "cell_type": "code",
   "execution_count": null,
   "id": "4430b532",
   "metadata": {},
   "outputs": [],
   "source": []
  }
 ],
 "metadata": {
  "kernelspec": {
   "display_name": "Python 3 (ipykernel)",
   "language": "python",
   "name": "python3"
  },
  "language_info": {
   "codemirror_mode": {
    "name": "ipython",
    "version": 3
   },
   "file_extension": ".py",
   "mimetype": "text/x-python",
   "name": "python",
   "nbconvert_exporter": "python",
   "pygments_lexer": "ipython3",
   "version": "3.10.9"
  }
 },
 "nbformat": 4,
 "nbformat_minor": 5
}
