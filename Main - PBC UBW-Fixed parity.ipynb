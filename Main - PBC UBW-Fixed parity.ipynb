{
 "cells": [
  {
   "cell_type": "code",
   "execution_count": null,
   "id": "3c8c7fc2",
   "metadata": {},
   "outputs": [
    {
     "ename": "ImportError",
     "evalue": "cannot import name 'FakeBackendV2' from 'qiskit.providers.fake_provider' (/home/alberto/.local/lib/python3.10/site-packages/qiskit/providers/fake_provider/__init__.py)",
     "output_type": "error",
     "traceback": [
      "\u001b[0;31m---------------------------------------------------------------------------\u001b[0m",
      "\u001b[0;31mImportError\u001b[0m                               Traceback (most recent call last)",
      "Cell \u001b[0;32mIn[6], line 7\u001b[0m\n\u001b[1;32m      5\u001b[0m \u001b[38;5;28;01mimport\u001b[39;00m \u001b[38;5;21;01mnumpy\u001b[39;00m \u001b[38;5;28;01mas\u001b[39;00m \u001b[38;5;21;01mnp\u001b[39;00m\n\u001b[1;32m      6\u001b[0m \u001b[38;5;66;03m#from qiskit_experiments.framework import ParallelExperiment\u001b[39;00m\n\u001b[0;32m----> 7\u001b[0m \u001b[38;5;28;01mfrom\u001b[39;00m \u001b[38;5;21;01mqiskit_experiments\u001b[39;00m\u001b[38;5;21;01m.\u001b[39;00m\u001b[38;5;21;01mlibrary\u001b[39;00m \u001b[38;5;28;01mimport\u001b[39;00m StateTomography\n\u001b[1;32m      8\u001b[0m \u001b[38;5;28;01mfrom\u001b[39;00m \u001b[38;5;21;01mqiskit\u001b[39;00m\u001b[38;5;21;01m.\u001b[39;00m\u001b[38;5;21;01mproviders\u001b[39;00m\u001b[38;5;21;01m.\u001b[39;00m\u001b[38;5;21;01maer\u001b[39;00m \u001b[38;5;28;01mimport\u001b[39;00m AerSimulator\n\u001b[1;32m      9\u001b[0m \u001b[38;5;28;01mfrom\u001b[39;00m \u001b[38;5;21;01mqiskit\u001b[39;00m\u001b[38;5;21;01m.\u001b[39;00m\u001b[38;5;21;01mproviders\u001b[39;00m\u001b[38;5;21;01m.\u001b[39;00m\u001b[38;5;21;01mfake_provider\u001b[39;00m \u001b[38;5;28;01mimport\u001b[39;00m FakeParis\n",
      "File \u001b[0;32m~/.local/lib/python3.10/site-packages/qiskit_experiments/__init__.py:67\u001b[0m\n\u001b[1;32m     64\u001b[0m \u001b[38;5;28;01mfrom\u001b[39;00m \u001b[38;5;21;01m.\u001b[39;00m\u001b[38;5;21;01mversion\u001b[39;00m \u001b[38;5;28;01mimport\u001b[39;00m __version__\n\u001b[1;32m     66\u001b[0m \u001b[38;5;66;03m# Modules\u001b[39;00m\n\u001b[0;32m---> 67\u001b[0m \u001b[38;5;28;01mfrom\u001b[39;00m \u001b[38;5;21;01m.\u001b[39;00m \u001b[38;5;28;01mimport\u001b[39;00m framework\n\u001b[1;32m     68\u001b[0m \u001b[38;5;28;01mfrom\u001b[39;00m \u001b[38;5;21;01m.\u001b[39;00m \u001b[38;5;28;01mimport\u001b[39;00m library\n\u001b[1;32m     69\u001b[0m \u001b[38;5;28;01mfrom\u001b[39;00m \u001b[38;5;21;01m.\u001b[39;00m \u001b[38;5;28;01mimport\u001b[39;00m curve_analysis\n",
      "File \u001b[0;32m~/.local/lib/python3.10/site-packages/qiskit_experiments/framework/__init__.py:256\u001b[0m\n\u001b[1;32m     13\u001b[0m \u001b[38;5;124;03m\"\"\"\u001b[39;00m\n\u001b[1;32m     14\u001b[0m \u001b[38;5;124;03m==========================================================\u001b[39;00m\n\u001b[1;32m     15\u001b[0m \u001b[38;5;124;03mExperiment Framework (:mod:`qiskit_experiments.framework`)\u001b[39;00m\n\u001b[0;32m   (...)\u001b[0m\n\u001b[1;32m    253\u001b[0m \u001b[38;5;124;03m.. _create-experiment:\u001b[39;00m\n\u001b[1;32m    254\u001b[0m \u001b[38;5;124;03m\"\"\"\u001b[39;00m\n\u001b[1;32m    255\u001b[0m \u001b[38;5;28;01mfrom\u001b[39;00m \u001b[38;5;21;01mqiskit\u001b[39;00m\u001b[38;5;21;01m.\u001b[39;00m\u001b[38;5;21;01mproviders\u001b[39;00m\u001b[38;5;21;01m.\u001b[39;00m\u001b[38;5;21;01moptions\u001b[39;00m \u001b[38;5;28;01mimport\u001b[39;00m Options\n\u001b[0;32m--> 256\u001b[0m \u001b[38;5;28;01mfrom\u001b[39;00m \u001b[38;5;21;01mqiskit_experiments\u001b[39;00m\u001b[38;5;21;01m.\u001b[39;00m\u001b[38;5;21;01mframework\u001b[39;00m\u001b[38;5;21;01m.\u001b[39;00m\u001b[38;5;21;01mbackend_data\u001b[39;00m \u001b[38;5;28;01mimport\u001b[39;00m BackendData\n\u001b[1;32m    257\u001b[0m \u001b[38;5;28;01mfrom\u001b[39;00m \u001b[38;5;21;01mqiskit_experiments\u001b[39;00m\u001b[38;5;21;01m.\u001b[39;00m\u001b[38;5;21;01mframework\u001b[39;00m\u001b[38;5;21;01m.\u001b[39;00m\u001b[38;5;21;01manalysis_result\u001b[39;00m \u001b[38;5;28;01mimport\u001b[39;00m AnalysisResult\n\u001b[1;32m    258\u001b[0m \u001b[38;5;28;01mfrom\u001b[39;00m \u001b[38;5;21;01mqiskit_experiments\u001b[39;00m\u001b[38;5;21;01m.\u001b[39;00m\u001b[38;5;21;01mframework\u001b[39;00m\u001b[38;5;21;01m.\u001b[39;00m\u001b[38;5;21;01mexperiment_data\u001b[39;00m \u001b[38;5;28;01mimport\u001b[39;00m (\n\u001b[1;32m    259\u001b[0m     ExperimentStatus,\n\u001b[1;32m    260\u001b[0m     AnalysisStatus,\n\u001b[1;32m    261\u001b[0m     FigureData,\n\u001b[1;32m    262\u001b[0m )\n",
      "File \u001b[0;32m~/.local/lib/python3.10/site-packages/qiskit_experiments/framework/backend_data.py:20\u001b[0m\n\u001b[1;32m     18\u001b[0m \u001b[38;5;28;01mfrom\u001b[39;00m \u001b[38;5;21;01mqiskit\u001b[39;00m\u001b[38;5;21;01m.\u001b[39;00m\u001b[38;5;21;01mproviders\u001b[39;00m\u001b[38;5;21;01m.\u001b[39;00m\u001b[38;5;21;01mmodels\u001b[39;00m \u001b[38;5;28;01mimport\u001b[39;00m PulseBackendConfiguration\n\u001b[1;32m     19\u001b[0m \u001b[38;5;28;01mfrom\u001b[39;00m \u001b[38;5;21;01mqiskit\u001b[39;00m\u001b[38;5;21;01m.\u001b[39;00m\u001b[38;5;21;01mproviders\u001b[39;00m \u001b[38;5;28;01mimport\u001b[39;00m BackendV1, BackendV2\n\u001b[0;32m---> 20\u001b[0m \u001b[38;5;28;01mfrom\u001b[39;00m \u001b[38;5;21;01mqiskit\u001b[39;00m\u001b[38;5;21;01m.\u001b[39;00m\u001b[38;5;21;01mproviders\u001b[39;00m\u001b[38;5;21;01m.\u001b[39;00m\u001b[38;5;21;01mfake_provider\u001b[39;00m \u001b[38;5;28;01mimport\u001b[39;00m fake_backend, FakeBackendV2, FakeBackend\n\u001b[1;32m     23\u001b[0m \u001b[38;5;28;01mclass\u001b[39;00m \u001b[38;5;21;01mBackendData\u001b[39;00m:\n\u001b[1;32m     24\u001b[0m \u001b[38;5;250m    \u001b[39m\u001b[38;5;124;03m\"\"\"Class for providing joint interface for accessing backend data\"\"\"\u001b[39;00m\n",
      "\u001b[0;31mImportError\u001b[0m: cannot import name 'FakeBackendV2' from 'qiskit.providers.fake_provider' (/home/alberto/.local/lib/python3.10/site-packages/qiskit/providers/fake_provider/__init__.py)"
     ]
    }
   ],
   "source": [
    "\n",
    "from qiskit import quantum_info\n",
    "from qiskit.quantum_info import DensityMatrix, Statevector, partial_trace\n",
    "from qiskit.visualization import plot_histogram\n",
    "import matplotlib.pyplot as plt\n",
    "import numpy as np\n",
    "#from qiskit_experiments.framework import ParallelExperiment\n",
    "\n",
    "from qiskit.providers.aer import AerSimulator\n",
    "\n",
    "from numpy.linalg import norm \n",
    "import cvxpy\n",
    "#set noisy simulator backend \n",
    "\n",
    "from qiskit import QuantumCircuit, transpile\n",
    "from qiskit.quantum_info import Operator\n",
    "from qiskit.transpiler import PassManager\n",
    "from qiskit.transpiler.passes import Unroller\n",
    "#visualization\n",
    "from qiskit.visualization import plot_state_city\n",
    "from qiskit.visualization import plot_histogram\n",
    "from qiskit import QuantumCircuit\n",
    "from qiskit.quantum_info import SparsePauliOp\n",
    "from qiskit.circuit import Parameter\n",
    "from qiskit.primitives import Estimator"
   ]
  },
  {
   "cell_type": "code",
   "execution_count": null,
   "id": "1ad5483c",
   "metadata": {},
   "outputs": [],
   "source": [
    "#define unitary\n",
    "\n",
    "def Ureal(A,T,G):  #NUMERICALLY CHECKED, CORRECT#\n",
    "    \n",
    "    Ur = np.zeros((4,4), dtype=complex)\n",
    "    \n",
    "    coef1=np.sqrt(1+A**(2)*(4*np.cosh(G/2)**(2)*(1/np.sinh(T)**(2))+(1/np.cosh(T/2)**2)))\n",
    "    \n",
    "    coef2=np.sqrt(2*A**(2)*(np.cosh(G)+np.cosh(T))+np.sinh(T)**2)\n",
    "    \n",
    "    \n",
    "    Ur[0,0]=(1j+2*A*np.cosh(G/2)*(1/np.sinh(T)))/coef1\n",
    "    \n",
    "    Ur[0,3]=(2*A*np.sinh(T/2))/coef2\n",
    "    \n",
    "    Ur[1,1]=(2*A*np.cosh(T/2))/coef2\n",
    "    \n",
    "    Ur[1,2]=(1j + 2*A*(1/np.sinh(T))*np.sinh(G/2))/coef1\n",
    "    \n",
    "    Ur[2,1]=(1j - 2*A*(1/np.sinh(T))*np.sinh(G/2))/coef1\n",
    "    \n",
    "    Ur[2,2]=(2*A*np.cosh(T/2))/coef2\n",
    "    \n",
    "    Ur[3,0]=-(2*A*np.sinh(T/2))/coef2\n",
    "    \n",
    "    Ur[3,3]=(-1j+2*A*np.cosh(G/2)*(1/np.sinh(T)))/coef1\n",
    "    \n",
    "    return(Ur)\n",
    "\n",
    "\n",
    "\n",
    "def UrealEv(A,T,G): \n",
    "    \n",
    "    Ur = np.zeros((4,4), dtype=complex)\n",
    "    \n",
    "    coef1=np.sqrt(1+A**(2)*(4*np.cosh(G/2)**(2)*(1/np.sinh(T)**(2))+(1/np.cosh(T/2)**2)))\n",
    "    \n",
    "    coef2=np.sqrt(2*A**(2)*(np.cosh(G)+np.cosh(T))+np.sinh(T)**2)\n",
    "    \n",
    "    #even sector\n",
    "    Ur[0,0]=(1j+2*A*np.cosh(G/2)*(1/np.sinh(T)))/coef1\n",
    "    Ur[0,3]=-(2*A*np.sinh(T/2))/coef2\n",
    "    Ur[3,0]=(2*A*np.sinh(T/2))/coef2\n",
    "    Ur[3,3]=(-1j+2*A*np.cosh(G/2)*(1/np.sinh(T)))/coef1\n",
    "    \n",
    "    #odd sector\n",
    "    Ur[1,1]=(2*A*np.cosh(T/2))/coef2\n",
    "    Ur[1,2]=(1j + 2*A*(1/np.sinh(T))*np.sinh(G/2))/coef1\n",
    "    Ur[2,1]=(1j - 2*A*(1/np.sinh(T))*np.sinh(G/2))/coef1\n",
    "    Ur[2,2]=(2*A*np.cosh(T/2))/coef2\n",
    "\n",
    "    return(Ur)\n",
    "\n",
    "def bwassembler_z(qc,matrix,layers,n):    #CHECKED#\n",
    "    \n",
    "    m=0\n",
    "    while m < layers:\n",
    "        i=0;j=0;    \n",
    "        #even layer\n",
    "        while i < n/2:\n",
    "            qc.unitary(matrix, [2*i,2*i+1])\n",
    "            i+=1;\n",
    "        qc.barrier(range(n)) \n",
    "        #odd layer\n",
    "        while j < n/2:\n",
    "            \n",
    "            if j == (n/2 - 1):\n",
    "                \n",
    "                qc.unitary(perm4site(matrix),[0,1,2,3],label='ZZ')\n",
    "                \n",
    "            else:\n",
    "                qc.unitary(matrix, [2*j+1,2*j+2])\n",
    "            \n",
    "            j+=1;\n",
    "        qc.barrier(range(n))\n",
    "        \n",
    "        m+=1\n",
    "    \n",
    "    return(qc)\n",
    "\n",
    "def bwassembler_zEv(qc,matrix1,matrix2,layers,n):    #CHECKED#\n",
    "    \n",
    "    m=0\n",
    "    while m < layers:\n",
    "        i=0;j=0;    \n",
    "        #even layer\n",
    "        while i < n/2:\n",
    "            qc.unitary(matrix1, [2*i,2*i+1])\n",
    "            i+=1;\n",
    "        qc.barrier(range(n)) \n",
    "        #odd layer\n",
    "        while j < n/2:\n",
    "            \n",
    "            if j == (n/2 - 1):\n",
    "                \n",
    "                qc.unitary(matrix2,[n-1,0],label='ZZ')\n",
    "                \n",
    "            else:\n",
    "                qc.unitary(matrix1, [2*j+1,2*j+2])\n",
    "            \n",
    "            j+=1;\n",
    "        qc.barrier(range(n))\n",
    "        \n",
    "        m+=1\n",
    "    \n",
    "    return(qc)\n",
    "\n",
    "def perm4site(U):   #CHECKED#\n",
    "    \n",
    "    P = np.array([[1,0,0,0],[0,0,1,0],[0,1,0,0],[0,0,0,-1]])\n",
    "    \n",
    "    P12 = np.kron(P,np.eye(4))\n",
    "    P23 = np.kron(np.eye(2),np.kron(P,np.eye(2)))\n",
    "    P34 = np.kron(np.eye(4),P)\n",
    "    S34 = np.kron(np.eye(4),U)\n",
    "    \n",
    "    return P12@P23@P34@S34@P34@P23@P12\n",
    "       \n",
    "    \n",
    "def prodstaten(n):   #CHECKED#\n",
    "    \n",
    "    X = np.array([[0,1],[1,0]])\n",
    "    X0 = np.zeros((n,2**n,2**n),dtype = complex)\n",
    "    \n",
    "    for i in range(0,n):   \n",
    "        X0[i]=np.kron(np.kron(np.eye(2**i),X),np.eye(2**(n-i-1)))\n",
    "    operator = np.eye(2**n)\n",
    "    for i in range(0,n//2):\n",
    "        operator = (X0[2*i]-1j*X0[2*i+1])@operator\n",
    "    return (1/np.sqrt(2**(n//2)))*operator\n",
    "\n"
   ]
  },
  {
   "cell_type": "code",
   "execution_count": 7,
   "id": "f69cff67",
   "metadata": {},
   "outputs": [],
   "source": [
    "dispcolors = {'cx':('#426299', '#000000'),\n",
    "            'cswap':('#705399', '#000000'),\n",
    "              'cp':('#CFFF8B', '#000000')}"
   ]
  },
  {
   "cell_type": "code",
   "execution_count": 11,
   "id": "0912b394",
   "metadata": {},
   "outputs": [
    {
     "name": "stdout",
     "output_type": "stream",
     "text": [
      "Commutations for Ur:  True True\n",
      "Commutations for Ur:  False False\n"
     ]
    }
   ],
   "source": [
    "#check supercharge commutations \n",
    "def Q(T,G):\n",
    "    X = np.array([[0,1],[1,0]])\n",
    "    Y = np.array([[0,-1j],[1j,0]])\n",
    "    Z = np.array([[1,0],[0,-1]])\n",
    "    Id = np.array([[1,0],[0,1]])\n",
    "    Q = np.exp(-(G+T)/4)*np.kron(X,Id)+np.exp((T+G)/4)*np.kron(Z,X)\n",
    "    return Q\n",
    "\n",
    "def Qbar(T,G):\n",
    "    X = np.array([[0,1],[1,0]])\n",
    "    Y = np.array([[0,-1j],[1j,0]])\n",
    "    Z = np.array([[1,0],[0,-1]])\n",
    "    Id = np.array([[1,0],[0,1]])\n",
    "    Qbar = np.exp((T-G)/4)*np.kron(Y,Id)+np.exp(-(T-G)/4)*np.kron(Z,Y)\n",
    "\n",
    "    return Qbar\n",
    "\n",
    "A,T,G=3,3,3\n",
    "\n",
    "print('Commutations for Ur: ',np.allclose(Q(T,G)@Ureal(A,T,G)-Ureal(A,T,G)@Q(-T,-G),0*np.eye(4)),\n",
    "np.allclose(Qbar(T,G)@Ureal(A,T,G)-Ureal(A,T,G)@Qbar(-T,-G),0*np.eye(4)))\n",
    "\n",
    "print('Commutations for Ur: ',np.allclose(Q(T,G)@UrealEv(A,T,G)-UrealEv(A,T,G)@Q(-T,-G),0*np.eye(4)),\n",
    "np.allclose(Qbar(T,G)@UrealEv(A,T,G)-UrealEv(A,T,G)@Qbar(-T,-G),0*np.eye(4)))\n"
   ]
  },
  {
   "cell_type": "code",
   "execution_count": 172,
   "id": "a2a178e9",
   "metadata": {},
   "outputs": [
    {
     "ename": "NameError",
     "evalue": "name 'U' is not defined",
     "output_type": "error",
     "traceback": [
      "\u001b[0;31m---------------------------------------------------------------------------\u001b[0m",
      "\u001b[0;31mNameError\u001b[0m                                 Traceback (most recent call last)",
      "Cell \u001b[0;32mIn[172], line 2\u001b[0m\n\u001b[1;32m      1\u001b[0m \u001b[38;5;66;03m#unitarity checks\u001b[39;00m\n\u001b[0;32m----> 2\u001b[0m mat\u001b[38;5;241m=\u001b[39m\u001b[43mU\u001b[49m(\u001b[38;5;241m1\u001b[39m,\u001b[38;5;241m1\u001b[39m,\u001b[38;5;241m0\u001b[39m)\n\u001b[1;32m      3\u001b[0m uni \u001b[38;5;241m=\u001b[39m mat\u001b[38;5;241m.\u001b[39mconj()\u001b[38;5;241m.\u001b[39mT\u001b[38;5;129m@mat\u001b[39m\n\u001b[1;32m      4\u001b[0m mat1\u001b[38;5;241m=\u001b[39mUreal(\u001b[38;5;241m1\u001b[39m,\u001b[38;5;241m1\u001b[39m,\u001b[38;5;241m0\u001b[39m)\n",
      "\u001b[0;31mNameError\u001b[0m: name 'U' is not defined"
     ]
    }
   ],
   "source": [
    "#unitarity checks\n",
    "mat=U(1,1,0)\n",
    "uni = mat.conj().T@mat\n",
    "mat1=Ureal(1,1,0)\n",
    "uni1 = mat1.conj().T@mat1\n",
    "print('Unitarity of U: ',np.allclose(np.eye(4),uni,atol=1e-15),'||| Unitarity of Ur: ',np.allclose(np.eye(4),uni1,atol=1e-15))"
   ]
  },
  {
   "cell_type": "code",
   "execution_count": 186,
   "id": "4375456d",
   "metadata": {},
   "outputs": [
    {
     "data": {
      "image/png": "[encoded data removed]",
      "text/plain": [
       "<Figure size 705.552x367.889 with 1 Axes>"
      ]
     },
     "execution_count": 186,
     "metadata": {},
     "output_type": "execute_result"
    }
   ],
   "source": [
    "#modified unitary\n",
    "n=4\n",
    "a,t,g=1,1,1\n",
    "qc = QuantumCircuit(n)\n",
    "matrix1 = Ureal(a,t,g)\n",
    "matrix2 = UrealEv(a,t,g)\n",
    "bwassembler_zEv(qc,matrix1,matrix2,1,n)\n",
    "op = Operator(qc)\n",
    "op=op.data\n",
    "qc.draw(output='mpl')"
   ]
  },
  {
   "cell_type": "code",
   "execution_count": 179,
   "id": "2723b4ce",
   "metadata": {},
   "outputs": [
    {
     "data": {
      "image/png": "[encoded data removed]",
      "text/plain": [
       "<Figure size 705.552x367.889 with 1 Axes>"
      ]
     },
     "execution_count": 179,
     "metadata": {},
     "output_type": "execute_result"
    }
   ],
   "source": [
    "#normal unitary\n",
    "n=4\n",
    "a,t,g=1,1,1\n",
    "qc = QuantumCircuit(n)\n",
    "matrix = Ureal(a,t,g)\n",
    "bwassembler_z(qc,matrix,1,n)\n",
    "op1 = Operator(qc)\n",
    "op1=op1.data\n",
    "qc.draw(output='mpl')"
   ]
  },
  {
   "cell_type": "code",
   "execution_count": 175,
   "id": "28e599a2",
   "metadata": {},
   "outputs": [],
   "source": [
    "#check supercharges commutation on 4 sites\n",
    "#first trivial case, op1, we should have [QL,op1]=0\n",
    "def x(t):\n",
    "    return np.exp(t/4)\n",
    "def y(g):\n",
    "    return np.exp(g/4)\n",
    "def Qplus(t,g):\n",
    "    Ql12 = x(t)*y(g)*X(1,4)+(1/(x(t)*y(g)))*Z(1,4)@X(2,4)\n",
    "    Ql34 = x(t)*y(g)*Z(1,4)@Z(2,4)@X(3,4)+(1/(x(t)*y(g)))*Z(1,4)@Z(2,4)@Z(3,4)@X(4,4)\n",
    "    return Ql12+Ql34\n",
    "def Qminus(t,g):\n",
    "    Qr12 = (y(g)/x(g))*Y(1,4)+(x(t)/y(g))*Z(1,4)@Y(2,4)\n",
    "    Qr34 = (y(g)/x(g))*Z(1,4)@Z(2,4)@Y(3,4)+(x(g)/y(g))*Z(1,4)@Z(2,4)@Z(3,4)@Y(4,4)\n",
    "    return Qr12+Qr34\n",
    "def X(n,L):\n",
    "    X = np.array([[0,1],[1,0]])\n",
    "    return (np.kron(np.eye(2**(n-1)),np.kron(X,np.eye(2**(L-n)))))\n",
    "def Y(n,L):\n",
    "    Y = np.array([[0,-1j],[1j,0]])\n",
    "    return (np.kron(np.eye(2**(n-1)),np.kron(Y,np.eye(2**(L-n)))))    \n",
    "def Z(n,L):\n",
    "    Z = np.array([[1,0],[0,-1]])\n",
    "    return (np.kron(np.eye(2**(n-1)),np.kron(Z,np.eye(2**(L-n)))))    "
   ]
  },
  {
   "cell_type": "code",
   "execution_count": 188,
   "id": "930f2d8f",
   "metadata": {},
   "outputs": [
    {
     "name": "stdout",
     "output_type": "stream",
     "text": [
      "Qplus is True , Qmin is True\n"
     ]
    }
   ],
   "source": [
    "#normal unitary\n",
    "print('Qplus is',np.allclose(op1@Qplus(t,g),Qplus(t,g)@op1),', Qmin is',np.allclose(op1@Qminus(t,g),Qminus(t,g)@op1)) "
   ]
  },
  {
   "cell_type": "code",
   "execution_count": 187,
   "id": "7d9fc73d",
   "metadata": {},
   "outputs": [
    {
     "name": "stdout",
     "output_type": "stream",
     "text": [
      "Qplus is False , Qmin is False\n"
     ]
    }
   ],
   "source": [
    "#modified unitary\n",
    "print('Qplus is',np.allclose(op@Qplus(t,g),Qplus(t,g)@op),', Qmin is',np.allclose(op@Qminus(t,g),Qminus(t,g)@op)) "
   ]
  },
  {
   "cell_type": "code",
   "execution_count": 159,
   "id": "409088db",
   "metadata": {},
   "outputs": [],
   "source": [
    "qc1 = QuantumCircuit(4)\n",
    "qc1.unitary(perm4site(matrix),[0,1,2,3],label='ZZ')\n",
    "oper1 = Operator(qc1)\n",
    "oper1 = oper1.data"
   ]
  },
  {
   "cell_type": "code",
   "execution_count": 139,
   "id": "1c872d61",
   "metadata": {},
   "outputs": [],
   "source": [
    "qc2 = QuantumCircuit(4)\n",
    "matrix2 = UrealEv(a,t,g)\n",
    "qc2.unitary(matrix2,[3,0])\n",
    "oper2 = Operator(qc2)\n",
    "oper2 = oper2.data"
   ]
  },
  {
   "cell_type": "code",
   "execution_count": 149,
   "id": "92c30004",
   "metadata": {},
   "outputs": [
    {
     "data": {
      "text/plain": [
       "False"
      ]
     },
     "execution_count": 149,
     "metadata": {},
     "output_type": "execute_result"
    }
   ],
   "source": [
    "a,t,g=1,1,1\n",
    "Q41plus = (1/(x(t)*y(g)))*Z(1,4)@Z(2,4)@Z(3,4)@X(4,4)+(x(t)*y(g))*X(1,4)\n",
    "matrix = Ureal(a,t,g)\n",
    "np.allclose(Q41plus@perm4site(matrix),perm4site(matrix)@Q41plus)"
   ]
  }
 ],
 "metadata": {
  "kernelspec": {
   "display_name": "Python 3 (ipykernel)",
   "language": "python",
   "name": "python3"
  },
  "language_info": {
   "codemirror_mode": {
    "name": "ipython",
    "version": 3
   },
   "file_extension": ".py",
   "mimetype": "text/x-python",
   "name": "python",
   "nbconvert_exporter": "python",
   "pygments_lexer": "ipython3",
   "version": "3.10.6"
  }
 },
 "nbformat": 4,
 "nbformat_minor": 5
}
