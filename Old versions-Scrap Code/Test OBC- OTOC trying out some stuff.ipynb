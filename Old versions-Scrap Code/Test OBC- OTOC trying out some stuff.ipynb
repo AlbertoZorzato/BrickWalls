{
 "cells": [
  {
   "cell_type": "code",
   "execution_count": 1,
   "id": "3c8c7fc2",
   "metadata": {},
   "outputs": [],
   "source": [
    "from tqdm import tqdm\n",
    "from qiskit import quantum_info\n",
    "from qiskit.quantum_info import DensityMatrix, Statevector, partial_trace\n",
    "from qiskit.visualization import plot_histogram\n",
    "import matplotlib.pyplot as plt\n",
    "import numpy as np\n",
    "#from qiskit_experiments.framework import ParallelExperiment\n",
    "from qiskit_experiments.library import StateTomography\n",
    "from qiskit.providers.aer import AerSimulator\n",
    "from qiskit.providers.fake_provider import FakeParis\n",
    "from numpy.linalg import norm \n",
    "import cvxpy\n",
    "#set noisy simulator backend \n",
    "#backend = AerSimulator.from_backend(FakeParis())\n",
    "from qiskit import QuantumCircuit, transpile\n",
    "from qiskit.quantum_info import Operator\n",
    "from qiskit.transpiler import PassManager\n",
    "from qiskit.transpiler.passes import Unroller\n",
    "#visualization\n",
    "from qiskit.visualization import plot_state_city\n",
    "from qiskit.visualization import plot_histogram\n",
    "from qiskit import QuantumCircuit\n",
    "from qiskit.quantum_info import SparsePauliOp\n",
    "from qiskit.circuit import Parameter\n",
    "from qiskit.primitives import Estimator\n",
    "from qiskit_ibm_runtime import Estimator, Session, QiskitRuntimeService, Options, Sampler\n",
    "from qiskit.visualization import array_to_latex\n"
   ]
  },
  {
   "cell_type": "code",
   "execution_count": 14,
   "id": "c3c930c7",
   "metadata": {},
   "outputs": [],
   "source": [
    "#define unitary\n",
    "def U(A,T,G):\n",
    "    U = np.zeros((4,4), dtype=complex)\n",
    "    \n",
    "    U[0,0]=(-1+2*1j*A*np.cosh(G/2)*(1/np.sinh(T)))/np.sqrt((1+2*A**(2)*(1/np.tanh(T))*(1/np.sinh(T)))+2*A**(2)*np.cosh(G)*(1/np.sinh(T))**2)\n",
    "    \n",
    "    U[0,3]=(1j*A*(1/np.cosh(T/2)))/np.sqrt((1+2*A**(2)*(1/np.tanh(T))*(1/np.sinh(T)))+2*A**(2)*np.cosh(G)*(1/np.sinh(T))**2)\n",
    "    \n",
    "    U[1,1]=(1j*A*(1/np.sinh(T/2)))/np.sqrt((1+2*A**(2)*(1/np.tanh(T))*(1/np.sinh(T)))+2*A**(2)*np.cosh(G)*(1/np.sinh(T))**2)\n",
    "    \n",
    "    U[1,2]=(-1+2*1j*A*(1/np.sinh(T))*np.sinh(G/2))/np.sqrt((1+2*A**(2)*(1/np.tanh(T))*(1/np.sinh(T)))+2*A**(2)*np.cosh(G)*(1/np.sinh(T))**2)\n",
    "    \n",
    "    U[2,1]=(-1-2*1j*A*(1/np.sinh(T))*np.sinh(G/2))/np.sqrt((1+2*A**(2)*(1/np.tanh(T))*(1/np.sinh(T)))+2*A**(2)*np.cosh(G)*(1/np.sinh(T))**2)\n",
    "    \n",
    "    U[2,2]=(1j*A*(1/np.sinh(T/2)))/np.sqrt((1+2*A**(2)*(1/np.tanh(T))*(1/np.sinh(T)))+2*A**(2)*np.cosh(G)*(1/np.sinh(T))**2)\n",
    "    \n",
    "    U[3,0]=-(1j*A*(1/np.cosh(T/2)))/np.sqrt((1+2*A**(2)*(1/np.tanh(T))*(1/np.sinh(T)))+2*A**(2)*np.cosh(G)*(1/np.sinh(T))**2)\n",
    "    \n",
    "    U[3,3]=(1+2*1j*A*np.cosh(G/2)*(1/np.sinh(T)))/np.sqrt((1+2*A**(2)*(1/np.tanh(T))*(1/np.sinh(T)))+2*A**(2)*np.cosh(G)*(1/np.sinh(T))**2)\n",
    "    \n",
    "    return(U)\n",
    "\n",
    "def Ureal(A,T,G):  #NUMERICALLY CHECKED, CORRECT#\n",
    "    \n",
    "    Ur = np.zeros((4,4), dtype=complex)\n",
    "    \n",
    "    coef1=np.sqrt(1+A**(2)*(4*np.cosh(G/2)**(2)*(1/np.sinh(T)**(2))+(1/np.cosh(T/2)**2)))\n",
    "    \n",
    "    coef2=np.sqrt(2*A**(2)*(np.cosh(G)+np.cosh(T))+np.sinh(T)**2)\n",
    "    \n",
    "    \n",
    "    Ur[0,0]=(1j+2*A*np.cosh(G/2)*(1/np.sinh(T)))/coef1\n",
    "    \n",
    "    Ur[0,3]=(2*A*np.sinh(T/2))/coef2\n",
    "    \n",
    "    Ur[1,1]=(2*A*np.cosh(T/2))/coef2\n",
    "    \n",
    "    Ur[1,2]=(1j + 2*A*(1/np.sinh(T))*np.sinh(G/2))/coef1\n",
    "    \n",
    "    Ur[2,1]=(1j - 2*A*(1/np.sinh(T))*np.sinh(G/2))/coef1\n",
    "    \n",
    "    Ur[2,2]=(2*A*np.cosh(T/2))/coef2\n",
    "    \n",
    "    Ur[3,0]=-(2*A*np.sinh(T/2))/coef2\n",
    "    \n",
    "    Ur[3,3]=(-1j+2*A*np.cosh(G/2)*(1/np.sinh(T)))/coef1\n",
    "    \n",
    "    return(Ur)\n",
    "\n",
    "\n",
    "\n",
    "def Shat(A,T,G): \n",
    "    \n",
    "    t = np.tanh(T/4 + G/4)\n",
    "    tt = np.tanh(T/4 - G/4)\n",
    "    Shatf = np.array([[1-t*tt,0,0,t+tt],[0,1+t*tt,t-tt,0],[0,-t+tt,1+t*tt,0],[-t-tt,0,0,1-t*tt]],dtype=complex)\n",
    "    Shatg = np.array([[1,0,0,0],[0,0,1,0],[0,1,0,0],[0,0,0,-1]],dtype=complex)\n",
    "    f = -(1j/4)*A*(2*np.cosh(T/2)+2*np.cosh(G/2))*(1/np.sinh(T/2))*(1/np.cosh(T/2))\n",
    "    Shat = f*Shatf+Shatg\n",
    "    Nalpha = 1+2*A**(2)*(np.cosh(T)/np.sinh(T))*(1/np.sinh(T))+2*A**(2)*np.cosh(G)*(1/np.sinh(T))**(2)\n",
    "    Shat = (-1/np.sqrt(Nalpha))*Shat\n",
    "    return Shat\n",
    "\n",
    "\n",
    "\n",
    "def perm4site(U):   #CHECKED#\n",
    "    \n",
    "    P = np.array([[1,0,0,0],[0,0,1,0],[0,1,0,0],[0,0,0,-1]])\n",
    "    \n",
    "    P12 = np.kron(P,np.eye(4))\n",
    "    P23 = np.kron(np.eye(2),np.kron(P,np.eye(2)))\n",
    "    P34 = np.kron(np.eye(4),P)\n",
    "    S34 = np.kron(np.eye(4),U)\n",
    "    \n",
    "    return P12@P23@P34@S34@P34@P23@P12\n",
    "       \n",
    "    \n",
    "def prodstaten(n):   #CHECKED#\n",
    "    \n",
    "    X = np.array([[0,1],[1,0]])\n",
    "    X0 = np.zeros((n,2**n,2**n),dtype = complex)\n",
    "    \n",
    "    for i in range(0,n):   \n",
    "        X0[i]=np.kron(np.kron(np.eye(2**i),X),np.eye(2**(n-i-1)))\n",
    "    operator = np.eye(2**n)\n",
    "    for i in range(0,n//2):\n",
    "        operator = (X0[2*i]-1j*X0[2*i+1])@operator\n",
    "    return (1/np.sqrt(2**(n//2)))*operator\n",
    "\n",
    "def ry(T):\n",
    "    return np.array([[np.cos(T/2),-np.sin(T/2)],[np.sin(T/2),np.cos(T/2)]])\n",
    "\n",
    "\n",
    "Z = np.array([[1,0],[0,-1]]);\n"
   ]
  },
  {
   "cell_type": "code",
   "execution_count": 41,
   "id": "1ad5483c",
   "metadata": {},
   "outputs": [],
   "source": [
    "#OTOC\n",
    "#PLUS PART\n",
    "\n",
    "\n",
    "def circ_plus(n,A,T,G,layers,pos):\n",
    "    matrix = Ureal(A,T/step,G)\n",
    "    q0 = QuantumCircuit(n)\n",
    "    qc = QuantumCircuit(n)\n",
    "    qcc = QuantumCircuit(n)\n",
    "    circ = QuantumCircuit(n)\n",
    "\n",
    "    #Zstring as pietro suggested\n",
    "    #temp=np.kron(Z,np.kron(Z,np.kron(ry(np.pi/2),np.eye(2))))  \n",
    "    #q0.unitary(temp,[0,1,2,3])\n",
    "    \n",
    "    #V_i perturbation pi/2\n",
    "    q0.ry((np.pi/2),0,label='V_plus')\n",
    "    qc.barrier(range(n))\n",
    "    #fwd evolution\n",
    "    matrix = Ureal(1,1,1)\n",
    "    obcbwassembler_z(qc,matrix,layers,n)\n",
    "    qcc.z(pos)\n",
    "    qc.barrier(range(n))\n",
    "    circ=qc.compose(qcc)\n",
    "    circ=circ.compose(qc.inverse())\n",
    "    q0 = q0.compose(circ)\n",
    "    \n",
    "    return q0\n",
    "\n",
    "\n",
    "\n",
    "#OTOC\n",
    "#MINUS PART\n",
    "\n",
    "\n",
    "def circ_minus(n,A,T,G,layers,pos):\n",
    "    \n",
    "    matrix = Ureal(A,T/step,G)\n",
    "    q0 = QuantumCircuit(n)\n",
    "    qc = QuantumCircuit(n)\n",
    "    qcc = QuantumCircuit(n)\n",
    "    circ = QuantumCircuit(n)\n",
    " \n",
    "    #perturbation with Z string\n",
    "    #Zstring as pietro suggested\n",
    "    #temp=np.kron(Z,np.kron(Z,np.kron(ry(-np.pi/2),np.eye(2))))  \n",
    "    #q0.unitary(temp,[0,1,2,3])\n",
    "    \n",
    "    #V_i perturbation -pi/2\n",
    "    q0.ry((-np.pi/2),0,label='V_minus')\n",
    "    qc.barrier(range(n))\n",
    "    #fwd evolution\n",
    "    matrix = Ureal(1,1,1)\n",
    "    obcbwassembler_z(qc,matrix,layers,n)\n",
    "    qcc.z(pos)\n",
    "    qc.barrier(range(n))\n",
    "    circ=qc.compose(qcc)\n",
    "    circ=circ.compose(qc.inverse())\n",
    "    q0 = q0.compose(circ)\n",
    "    \n",
    "    return q0\n",
    "\n",
    "\n",
    "\n",
    "\n",
    "\n",
    "\n",
    "def obcbwassembler_z(qc,matrix,layers,n):    \n",
    "    \n",
    "    l=0\n",
    "    \n",
    "    while l<layers:\n",
    "        qc.unitary(Shat(A,T,G),[0,1],label='S12')\n",
    "        qc.unitary(Shat(A,T,G),[2,3],label='S34')\n",
    "        qc.unitary(K(-T/2),[0],label=r'$K(-\\theta/2)$')\n",
    "        qc.unitary(Shat(A,T,G),[1,2],label='S23')\n",
    "        qc.unitary(K(T/2),[3],label=r'$K(\\theta/2)$')\n",
    "        \n",
    "        qc.unitary(Shat(A,T,0),[0,1],label='S12')\n",
    "        qc.unitary(Shat(A,T,0),[2,3],label='S34')\n",
    "        qc.unitary(K(-T/2),[0],label=r'$K(-\\theta/2)$')\n",
    "        qc.unitary(Shat(A,T,-G),[1,2],label='S23')\n",
    "        qc.unitary(K(T/2),[3],label=r'$K(\\theta/2)$')\n",
    "        \n",
    "        qc.unitary(Shat(A,T,-G),[0,1],label='S12')\n",
    "        qc.unitary(Shat(A,T,-G),[2,3],label='S34')\n",
    "        qc.unitary(K(-T/2),[0],label=r'$K(-\\theta/2)$')\n",
    "        qc.unitary(Shat(A,T,-G),[1,2],label='S23')\n",
    "        qc.unitary(K(T/2),[3],label=r'$K(\\theta/2)$')\n",
    "        \n",
    "        qc.unitary(Shat(A,T,0),[0,1],label='S12')\n",
    "        qc.unitary(Shat(A,T,0),[2,3],label='S34')\n",
    "        qc.unitary(K(-T/2),[0],label=r'$K(-\\theta/2)$')\n",
    "        qc.unitary(Shat(A,T,G),[1,2],label='S23')\n",
    "        qc.unitary(K(T/2),[3],label=r'$K(\\theta/2)$')\n",
    "        qc.barrier(range(4))\n",
    "        l+=1\n",
    "    \n",
    "    return(qc)\n",
    "\n",
    "def K(T):\n",
    "    \n",
    "    K2 = Ur = np.zeros((2,2), dtype=complex)\n",
    "    \n",
    "    coef1 = np.cos(np.pi/4 + 1j*T/2)\n",
    "    coef2 = np.cos(np.pi/4 - 1j*T/2)\n",
    "    \n",
    "    K2[0,0]=coef1\n",
    "    K2[1,1]=coef2\n",
    "    K2 = 1/np.sqrt(np.cosh(T)/2)*K2\n",
    "    \n",
    "    return K2\n",
    "\n",
    "\n",
    "\n",
    "#define operators to measure\n",
    "def generate_pauli(n, j):\n",
    "    if n <= 0 or j < 0 or  j >= n:\n",
    "        raise ValueError(\"Invalid input values\")\n",
    "    \n",
    "    pauli_str = \"I\" * n  # Initialize with n identity operators\n",
    "    # Set the Z at position i and j\n",
    "    pauli_str_list = list(pauli_str)\n",
    "    pauli_str_list[j] = \"X\"\n",
    "    pauli_str = \"\".join(pauli_str_list)\n",
    "    op = SparsePauliOp(pauli_str, coeffs=[1])\n",
    "    \n",
    "    return op\n",
    "\n",
    "def prodstaten(n):\n",
    "    \n",
    "    X = np.array([[0,1],[1,0]])\n",
    "    X0 = np.zeros((n,2**n,2**n),dtype = complex)\n",
    "    \n",
    "    for i in range(0,n):   \n",
    "        X0[i]=np.kron(np.kron(np.eye(2**i),X),np.eye(2**(n-i-1)))\n",
    "    operator = np.eye(2**n)\n",
    "    for i in range(0,n//2):\n",
    "        operator = (X0[2*i]-1j*X0[2*i+1])@operator\n",
    "    return (1/np.sqrt(2**(n//2)))*operator\n",
    "    \n",
    "def bell_pair1(qc, a, b):\n",
    "    \n",
    "    qc.h(a) # Put qubit a into state |+> or |-> using hadamard gate\n",
    "    qc.cx(a,b) # CNOT with a as control and b as target\n",
    "    \n",
    "def bell_pair4(qc,a,b):\n",
    "    \n",
    "    qc.h(a)\n",
    "    qc.x(b)\n",
    "    qc.z(a)\n",
    "    qc.z(b)\n",
    "    qc.cx(a,b)\n",
    "    \n",
    "\n",
    "def perm4site(U):\n",
    "    \n",
    "    P = np.array([[1,0,0,0],[0,0,1,0],[0,1,0,0],[0,0,0,-1]])\n",
    "    \n",
    "    P12 = np.kron(P,np.eye(4))\n",
    "    P23 = np.kron(np.eye(2),np.kron(P,np.eye(2)))\n",
    "    P34 = np.kron(np.eye(4),P)\n",
    "    \n",
    "    S34 = np.kron(np.eye(4),U)\n",
    "    \n",
    "    return P12@P23@P34@S34@P34@P23@P12"
   ]
  },
  {
   "cell_type": "code",
   "execution_count": 22,
   "id": "e173722f",
   "metadata": {},
   "outputs": [],
   "source": [
    "dispcolors = {'cx':('#426299', '#000000'),\n",
    "              'cswap':('#705399', '#000000'),\n",
    "              'cp':('#CFFF8B', '#000000')}\n",
    "#qc.draw(output='mpl',style={'displaycolor':dispcolors}, filename='my_circuit.pdf')"
   ]
  },
  {
   "cell_type": "code",
   "execution_count": 7,
   "id": "e77b09f6",
   "metadata": {},
   "outputs": [],
   "source": [
    "#sqrt(iSWAP)\n",
    "sqiswap = np.array( [\n",
    "    [1, 0, 0, 0],\n",
    "    [0, 1/np.sqrt(2), 1j/np.sqrt(2), 0],\n",
    "    [0, 1j/np.sqrt(2), 1/np.sqrt(2), 0],\n",
    "    [0, 0, 0, 1] ])"
   ]
  },
  {
   "cell_type": "code",
   "execution_count": 5,
   "id": "a128e4c7",
   "metadata": {},
   "outputs": [],
   "source": [
    "# Save an IBM Quantum account.\n",
    "QiskitRuntimeService.save_account(channel=\"ibm_quantum\", token=\"b58a80862cd6d4e3f8618d0fb10c85a7415315bcf55dd407e498ce33bdd4709623e266b4fdee952700733135cd2fa847c7bffa65966a4efb0aa2ae6a4ad7b583\", overwrite=True)"
   ]
  },
  {
   "cell_type": "code",
   "execution_count": 39,
   "id": "cbeb273e",
   "metadata": {
    "scrolled": true
   },
   "outputs": [
    {
     "name": "stderr",
     "output_type": "stream",
     "text": [
      "  0%|                                                                                             | 0/4 [00:00<?, ?it/s]\n",
      "0it [00:00, ?it/s]\u001b[A\n",
      "1it [00:07,  7.39s/it]\u001b[A\n",
      "2it [00:15,  7.56s/it]\u001b[A\n",
      "3it [00:21,  7.15s/it]\u001b[A\n",
      "4it [00:29,  7.25s/it]\u001b[A\n",
      "5it [00:36,  7.28s/it]\u001b[A\n",
      " 25%|█████████████████████▎                                                               | 1/4 [00:36<01:49, 36.38s/it]\n",
      "0it [00:00, ?it/s]\u001b[A\n",
      "1it [00:06,  6.65s/it]\u001b[A\n",
      "2it [00:13,  6.71s/it]\u001b[A\n",
      "3it [00:20,  7.00s/it]\u001b[A\n",
      "4it [00:28,  7.18s/it]\u001b[A\n",
      "5it [00:35,  7.07s/it]\u001b[A\n",
      " 50%|██████████████████████████████████████████▌                                          | 2/4 [01:11<01:11, 35.78s/it]\n",
      "0it [00:00, ?it/s]\u001b[A\n",
      "1it [00:07,  7.47s/it]\u001b[A\n",
      "2it [00:14,  7.33s/it]\u001b[A\n",
      "3it [00:21,  6.95s/it]\u001b[A\n",
      "4it [00:28,  7.24s/it]\u001b[A\n",
      "5it [00:36,  7.26s/it]\u001b[A\n",
      " 75%|███████████████████████████████████████████████████████████████▊                     | 3/4 [01:48<00:36, 36.03s/it]\n",
      "0it [00:00, ?it/s]\u001b[A\n",
      "1it [00:07,  7.24s/it]\u001b[A\n",
      "2it [00:14,  7.22s/it]\u001b[A\n",
      "3it [00:22,  7.43s/it]\u001b[A\n",
      "4it [00:28,  7.18s/it]\u001b[A\n",
      "5it [00:36,  7.30s/it]\u001b[A\n",
      "100%|█████████████████████████████████████████████████████████████████████████████████████| 4/4 [02:24<00:00, 36.14s/it]\n"
     ]
    }
   ],
   "source": [
    "#MAIN (TROTTER)\n",
    "\n",
    "#parameters\n",
    "n,A,T,G=4,1,1,0\n",
    "time=5\n",
    "layer = 1\n",
    "times = np.array([0,1,2,3,4])\n",
    "thetas= np.arange(0.0001,5,1)\n",
    "C = np.zeros((n,len(thetas)),dtype=float)\n",
    "\n",
    "#specify the credentials when initializing QiskitRuntimeService, if they are not previously saved\n",
    "service = QiskitRuntimeService(channel=\"ibm_quantum\")\n",
    "backend = service.backend(\"ibmq_qasm_simulator\")\n",
    "\n",
    "#settings job execution\n",
    "options = Options()\n",
    "options.execution.shots = 2000\n",
    "options.optimization_level = 1  # optimization\n",
    "options.resilience_level = 1  # mitigation\n",
    "\n",
    "for i in tqdm(range(0,n)):\n",
    "    for k,theta in tqdm(enumerate(thetas)):\n",
    "        #print(i,k)\n",
    "        trans_plus=circ_plus(n,A,theta/layer,G,layer,i)\n",
    "        trans_minus=circ_minus(n,A,theta/layer,G,layer,i)\n",
    "        \n",
    "        \n",
    "        #generate operator to measure\n",
    "        op=generate_pauli(n,0)\n",
    "        #runtime plus\n",
    "        with Session(service=service, backend=backend) as session:\n",
    "            estimator_sim = Estimator(session=session, options=options)\n",
    "            job_sim = estimator_sim.run(circuits=[trans_plus], observables=[op])\n",
    "            values_plus = job_sim.result().values\n",
    "        #runtime minus\n",
    "        with Session(service=service, backend=backend) as session:\n",
    "            estimator_sim = Estimator(session=session, options=options)\n",
    "            job_sim = estimator_sim.run(circuits=[trans_minus], observables=[op])\n",
    "            values_minus = job_sim.result().values\n",
    "        Corr = 2 + values_minus - values_plus\n",
    "        C[i,k]=Corr"
   ]
  },
  {
   "cell_type": "code",
   "execution_count": 40,
   "id": "d23305ab",
   "metadata": {},
   "outputs": [
    {
     "data": {
      "text/plain": [
       "<matplotlib.colorbar.Colorbar at 0x7ff02b808be0>"
      ]
     },
     "execution_count": 40,
     "metadata": {},
     "output_type": "execute_result"
    },
    {
     "data": {
      "image/png": "[encoded data removed]",
      "text/plain": [
       "<Figure size 640x480 with 2 Axes>"
      ]
     },
     "metadata": {},
     "output_type": "display_data"
    }
   ],
   "source": [
    "Cnew=np.flipud(np.transpose(C))\n",
    "plt.imshow(Cnew)\n",
    "plt.xlabel('Sites')\n",
    "plt.ylabel('Time')\n",
    "plt.title('A='+str(A)+' T='+str(T)+' G='+str(G)+' size='+str(n)+' init=0 step='+str(step))\n",
    "plt.colorbar()\n"
   ]
  },
  {
   "cell_type": "code",
   "execution_count": 81,
   "id": "52fa3280",
   "metadata": {
    "scrolled": true
   },
   "outputs": [
    {
     "name": "stderr",
     "output_type": "stream",
     "text": [
      "\n",
      "KeyboardInterrupt\n",
      "\n"
     ]
    }
   ],
   "source": [
    "#MAIN 2 THE ONE THAT IS GONNA WORK (THETA SWEEP)\n",
    "#theta0*layers=t\n",
    "#parameters\n",
    "n,A,G,step=6,1,0,1\n",
    "times = [j for j in range(1,5)]\n",
    "\n",
    "thetas= np.arange(0,3,0.1)\n",
    "C = np.zeros((n,len(thetas)),dtype=float)\n",
    "\n",
    "\n",
    "#specify the credentials when initializing QiskitRuntimeService, if they are not previously saved\n",
    "service = QiskitRuntimeService(channel=\"ibm_quantum\")\n",
    "backend = service.backend(\"simulator_statevector\")\n",
    "\n",
    "#settings job execution\n",
    "options = Options()\n",
    "options.execution.shots = 4000\n",
    "options.optimization_level = 1  # optimization\n",
    "options.resilience_level = 1  # mitigation\n",
    "\n",
    "for i in tqdm(range(0,n)):\n",
    "    for k,theta in enumerate(tqdm(thetas)):\n",
    "        \n",
    "        trans_plus=circ_plus(n,A,theta,G,step,1,i)\n",
    "        trans_minus=circ_minus(n,A,theta,G,step,1,i)\n",
    "        \n",
    "        \n",
    "        #generate operator to measure\n",
    "        op=generate_pauli(n,n//2)\n",
    "        #runtime plus\n",
    "        with Session(service=service, backend=backend) as session:\n",
    "            estimator_sim = Estimator(session=session, options=options)\n",
    "            job_sim = estimator_sim.run(circuits=[trans_plus], observables=[op])\n",
    "            values_plus = job_sim.result().values\n",
    "        #runtime minus\n",
    "        with Session(service=service, backend=backend) as session:\n",
    "            estimator_sim = Estimator(session=session, options=options)\n",
    "            job_sim = estimator_sim.run(circuits=[trans_minus], observables=[op])\n",
    "            values_minus = job_sim.result().values\n",
    "        Corr = 2 + values_minus - values_plus\n",
    "        C[i,k]=Corr"
   ]
  },
  {
   "cell_type": "code",
   "execution_count": null,
   "id": "c8422cc0",
   "metadata": {},
   "outputs": [],
   "source": [
    "Cnew=np.flipud(np.transpose(C))\n",
    "plt.imshow(Cnew)\n",
    "plt.xlabel('Sites')\n",
    "plt.ylabel('Time')\n",
    "#plt.title('A='+str(A)+' T='+str(T)+' G='+str(G)+' size='+str(n)+' init='+str(init)+' step='+str(step))\n",
    "plt.colorbar()"
   ]
  },
  {
   "cell_type": "code",
   "execution_count": 286,
   "id": "8e8e058d",
   "metadata": {
    "collapsed": true
   },
   "outputs": [
    {
     "data": {
      "text/plain": [
       "<matplotlib.colorbar.Colorbar at 0x7f8714e66380>"
      ]
     },
     "execution_count": 286,
     "metadata": {},
     "output_type": "execute_result"
    },
    {
     "data": {
      "image/png": "[encoded data removed]",
      "text/plain": [
       "<Figure size 640x480 with 2 Axes>"
      ]
     },
     "metadata": {},
     "output_type": "display_data"
    }
   ],
   "source": [
    "Cnew=np.flipud(np.transpose(C))\n",
    "plt.imshow(Cnew)\n",
    "plt.xlabel('Sites')\n",
    "plt.ylabel('Time')\n",
    "plt.title('A='+str(A)+' T='+str(T)+' G='+str(G)+' size='+str(n)+' init='+str(init)+' step='+str(step))\n",
    "plt.colorbar()"
   ]
  },
  {
   "cell_type": "code",
   "execution_count": 83,
   "id": "e7b00f99",
   "metadata": {},
   "outputs": [
    {
     "data": {
      "text/plain": [
       "SparsePauliOp(['XIIII'],\n",
       "              coeffs=[10.+0.j])"
      ]
     },
     "execution_count": 83,
     "metadata": {},
     "output_type": "execute_result"
    }
   ],
   "source": [
    "generate_pauli(5,0)"
   ]
  },
  {
   "cell_type": "code",
   "execution_count": null,
   "id": "e0e2a617",
   "metadata": {},
   "outputs": [],
   "source": [
    "#saving data\n",
    "with open('tau='+str(tau)+' h='+str(h)+' J='+str(J)+' n='+str(n)+' init: '+str(string), 'wb') as file:\n",
    "      \n",
    "    # A new file will be created\n",
    "    pickle.dump(ent_entropy, file)"
   ]
  },
  {
   "cell_type": "code",
   "execution_count": null,
   "id": "8e5ad723",
   "metadata": {},
   "outputs": [],
   "source": [
    "#loading data\n",
    "with open('tau='+str(tau)+' h='+str(h)+' J='+str(J)+' n=10', 'rb') as file:\n",
    "    loaded_data = pickle.load(file)"
   ]
  },
  {
   "cell_type": "markdown",
   "id": "1574f8bf",
   "metadata": {},
   "source": [
    "# DEBUG"
   ]
  },
  {
   "cell_type": "code",
   "execution_count": 32,
   "id": "8bad1a83",
   "metadata": {},
   "outputs": [
    {
     "data": {
      "image/png": "[encoded data removed]",
      "text/plain": [
       "<Figure size 2210.55x785.944 with 1 Axes>"
      ]
     },
     "execution_count": 32,
     "metadata": {},
     "output_type": "execute_result"
    }
   ],
   "source": [
    "n,A,T,G,step,layers,pos=4,1,1,1,1,1,0\n",
    "q0=circ_plus(n,A,T,G,layers,pos)\n",
    "q0.draw(output='mpl',style={'displaycolor':dispcolors}, filename='my_circuit.pdf')    "
   ]
  },
  {
   "cell_type": "code",
   "execution_count": null,
   "id": "21fcd56b",
   "metadata": {},
   "outputs": [],
   "source": []
  }
 ],
 "metadata": {
  "kernelspec": {
   "display_name": "Python 3 (ipykernel)",
   "language": "python",
   "name": "python3"
  },
  "language_info": {
   "codemirror_mode": {
    "name": "ipython",
    "version": 3
   },
   "file_extension": ".py",
   "mimetype": "text/x-python",
   "name": "python",
   "nbconvert_exporter": "python",
   "pygments_lexer": "ipython3",
   "version": "3.10.9"
  }
 },
 "nbformat": 4,
 "nbformat_minor": 5
}
