{
 "cells": [
  {
   "cell_type": "code",
   "execution_count": 339,
   "id": "d60df3c5",
   "metadata": {},
   "outputs": [],
   "source": [
    "from tqdm import tqdm\n",
    "from qiskit import quantum_info\n",
    "from qiskit.quantum_info import DensityMatrix, Statevector\n",
    "from qiskit.visualization import plot_histogram\n",
    "import matplotlib.pyplot as plt\n",
    "import numpy as np\n",
    "#from qiskit_experiments.framework import ParallelExperiment\n",
    "from qiskit_experiments.library import StateTomography\n",
    "from qiskit.providers.aer import AerSimulator\n",
    "from qiskit.providers.fake_provider import FakeParis\n",
    "from numpy.linalg import norm \n",
    "import cvxpy\n",
    "#set noisy simulator backend \n",
    "backend = AerSimulator.from_backend(FakeParis())\n",
    "from qiskit import QuantumCircuit, transpile\n",
    "from qiskit.quantum_info import Operator\n",
    "from qiskit.transpiler import PassManager\n",
    "from qiskit.transpiler.passes import Unroller\n",
    "#visualization\n",
    "from qiskit.visualization import plot_state_city\n",
    "from qiskit.visualization import plot_histogram\n",
    "from qiskit import QuantumCircuit\n",
    "from qiskit.quantum_info import SparsePauliOp\n",
    "from qiskit.circuit import Parameter\n",
    "from qiskit.primitives import Estimator\n",
    "from qiskit.quantum_info import SparsePauliOp\n",
    "from qiskit.opflow import CircuitStateFn, PauliSumOp"
   ]
  },
  {
   "cell_type": "code",
   "execution_count": 337,
   "id": "a9f1c745",
   "metadata": {},
   "outputs": [],
   "source": [
    "# Step 1: Define operator\n",
    "\n",
    "n=10\n",
    "h=1\n",
    "J=10\n",
    "tau=0.1\n",
    "m=0\n",
    "layers=1\n",
    "\n",
    "# Step 2: Define quantum state\n",
    "qc = QuantumCircuit(n)\n",
    "QuantumCircuit.initialize(qc,'0000000000',[0,1,2,3,4,5,6,7,8,9])\n",
    "while m<layers:\n",
    "    for i in range(n):\n",
    "        qc.rx(tau*h,i)\n",
    "    for j in range(n//2):\n",
    "        qc.rzz(tau*J, 2*j,2*j+1)\n",
    "    for j in range(n//2):\n",
    "        if j == (n/2 - 1):\n",
    "                break\n",
    "        qc.rzz(tau*J, 2*j+1,2*j+2)\n",
    "    qc.barrier(range(n))\n",
    "    m+=1\n",
    "\n",
    "estimator = Estimator() \n",
    "basis_gates=['cx', 'id', 'rz', 'x', 'sx']\n",
    "qcc=transpile(qc, basis_gates=basis_gates, optimization_level=3)"
   ]
  },
  {
   "cell_type": "code",
   "execution_count": 341,
   "id": "596be134",
   "metadata": {
    "scrolled": true
   },
   "outputs": [],
   "source": [
    "dispcolors = {'cx':('#426299', '#000000'),\n",
    "              'cswap':('#705399', '#000000'),\n",
    "              'cp':('#CFFF8B', '#000000')}\n",
    "\n",
    "qc.draw(output='mpl',style={'displaycolor':dispcolors}, filename='my_circuit.pdf')\n",
    "\n",
    "options = Options(optimization_level=3)\n",
    "options.execution.shots = 1024 \n",
    "backend = AerSimulator.from_backend(FakeParis())\n",
    "estimator = Estimator()"
   ]
  },
  {
   "cell_type": "code",
   "execution_count": 342,
   "id": "f0048ae9",
   "metadata": {},
   "outputs": [
    {
     "ename": "ValueError",
     "evalue": "The number of qubits of the 0-th circuit (10) does not match the number of qubits of the 0-th observable (6).",
     "output_type": "error",
     "traceback": [
      "\u001b[0;31m---------------------------------------------------------------------------\u001b[0m",
      "\u001b[0;31mValueError\u001b[0m                                Traceback (most recent call last)",
      "Cell \u001b[0;32mIn[342], line 8\u001b[0m\n\u001b[1;32m      4\u001b[0m op3 \u001b[38;5;241m=\u001b[39m SparsePauliOp(\u001b[38;5;124m\"\u001b[39m\u001b[38;5;124mIIIIZZ\u001b[39m\u001b[38;5;124m\"\u001b[39m,coeffs\u001b[38;5;241m=\u001b[39m[\u001b[38;5;241m1\u001b[39m])\n\u001b[1;32m      7\u001b[0m \u001b[38;5;66;03m# for shot-based simulation:\u001b[39;00m\n\u001b[0;32m----> 8\u001b[0m expectation_value_1 \u001b[38;5;241m=\u001b[39m \u001b[43mestimator\u001b[49m\u001b[38;5;241;43m.\u001b[39;49m\u001b[43mrun\u001b[49m\u001b[43m(\u001b[49m\u001b[43mqcc\u001b[49m\u001b[43m,\u001b[49m\u001b[43m \u001b[49m\u001b[43mop1\u001b[49m\u001b[43m,\u001b[49m\u001b[43m \u001b[49m\u001b[43mshots\u001b[49m\u001b[38;5;241;43m=\u001b[39;49m\u001b[38;5;241;43m8000\u001b[39;49m\u001b[43m)\u001b[49m\u001b[38;5;241m.\u001b[39mresult()\u001b[38;5;241m.\u001b[39mvalues\n\u001b[1;32m      9\u001b[0m expectation_value_3 \u001b[38;5;241m=\u001b[39m estimator\u001b[38;5;241m.\u001b[39mrun(qcc, op2, shots\u001b[38;5;241m=\u001b[39m\u001b[38;5;241m8000\u001b[39m)\u001b[38;5;241m.\u001b[39mresult()\u001b[38;5;241m.\u001b[39mvalues\n\u001b[1;32m     10\u001b[0m expectation_value_6 \u001b[38;5;241m=\u001b[39m estimator\u001b[38;5;241m.\u001b[39mrun(qcc, op3, shots\u001b[38;5;241m=\u001b[39m\u001b[38;5;241m8000\u001b[39m)\u001b[38;5;241m.\u001b[39mresult()\u001b[38;5;241m.\u001b[39mvalues\n",
      "File \u001b[0;32m~/anaconda3/envs/qusim/lib/python3.10/site-packages/qiskit/primitives/base/base_estimator.py:182\u001b[0m, in \u001b[0;36mBaseEstimator.run\u001b[0;34m(self, circuits, observables, parameter_values, **run_options)\u001b[0m\n\u001b[1;32m    180\u001b[0m \u001b[38;5;66;03m# Cross-validation\u001b[39;00m\n\u001b[1;32m    181\u001b[0m \u001b[38;5;28mself\u001b[39m\u001b[38;5;241m.\u001b[39m_cross_validate_circuits_parameter_values(circuits, parameter_values)\n\u001b[0;32m--> 182\u001b[0m \u001b[38;5;28;43mself\u001b[39;49m\u001b[38;5;241;43m.\u001b[39;49m\u001b[43m_cross_validate_circuits_observables\u001b[49m\u001b[43m(\u001b[49m\u001b[43mcircuits\u001b[49m\u001b[43m,\u001b[49m\u001b[43m \u001b[49m\u001b[43mobservables\u001b[49m\u001b[43m)\u001b[49m\n\u001b[1;32m    184\u001b[0m \u001b[38;5;66;03m# Options\u001b[39;00m\n\u001b[1;32m    185\u001b[0m run_opts \u001b[38;5;241m=\u001b[39m copy(\u001b[38;5;28mself\u001b[39m\u001b[38;5;241m.\u001b[39moptions)\n",
      "File \u001b[0;32m~/anaconda3/envs/qusim/lib/python3.10/site-packages/qiskit/primitives/base/base_estimator.py:226\u001b[0m, in \u001b[0;36mBaseEstimator._cross_validate_circuits_observables\u001b[0;34m(circuits, observables)\u001b[0m\n\u001b[1;32m    224\u001b[0m \u001b[38;5;28;01mfor\u001b[39;00m i, (circuit, observable) \u001b[38;5;129;01min\u001b[39;00m \u001b[38;5;28menumerate\u001b[39m(\u001b[38;5;28mzip\u001b[39m(circuits, observables)):\n\u001b[1;32m    225\u001b[0m     \u001b[38;5;28;01mif\u001b[39;00m circuit\u001b[38;5;241m.\u001b[39mnum_qubits \u001b[38;5;241m!=\u001b[39m observable\u001b[38;5;241m.\u001b[39mnum_qubits:\n\u001b[0;32m--> 226\u001b[0m         \u001b[38;5;28;01mraise\u001b[39;00m \u001b[38;5;167;01mValueError\u001b[39;00m(\n\u001b[1;32m    227\u001b[0m             \u001b[38;5;124mf\u001b[39m\u001b[38;5;124m\"\u001b[39m\u001b[38;5;124mThe number of qubits of the \u001b[39m\u001b[38;5;132;01m{\u001b[39;00mi\u001b[38;5;132;01m}\u001b[39;00m\u001b[38;5;124m-th circuit (\u001b[39m\u001b[38;5;132;01m{\u001b[39;00mcircuit\u001b[38;5;241m.\u001b[39mnum_qubits\u001b[38;5;132;01m}\u001b[39;00m\u001b[38;5;124m) does \u001b[39m\u001b[38;5;124m\"\u001b[39m\n\u001b[1;32m    228\u001b[0m             \u001b[38;5;124mf\u001b[39m\u001b[38;5;124m\"\u001b[39m\u001b[38;5;124mnot match the number of qubits of the \u001b[39m\u001b[38;5;132;01m{\u001b[39;00mi\u001b[38;5;132;01m}\u001b[39;00m\u001b[38;5;124m-th observable \u001b[39m\u001b[38;5;124m\"\u001b[39m\n\u001b[1;32m    229\u001b[0m             \u001b[38;5;124mf\u001b[39m\u001b[38;5;124m\"\u001b[39m\u001b[38;5;124m(\u001b[39m\u001b[38;5;132;01m{\u001b[39;00mobservable\u001b[38;5;241m.\u001b[39mnum_qubits\u001b[38;5;132;01m}\u001b[39;00m\u001b[38;5;124m).\u001b[39m\u001b[38;5;124m\"\u001b[39m\n\u001b[1;32m    230\u001b[0m         )\n",
      "\u001b[0;31mValueError\u001b[0m: The number of qubits of the 0-th circuit (10) does not match the number of qubits of the 0-th observable (6)."
     ]
    }
   ],
   "source": [
    "\n",
    "#observable = SparsePauliOp([\"II\", \"XX\", \"YY\", \"ZZ\"], coeffs=[1, 1, -1, 1])\n",
    "op1 = SparsePauliOp(\"ZZIIII\",coeffs=[1])\n",
    "op2 = SparsePauliOp(\"IZZIII\",coeffs=[1])\n",
    "op3 = SparsePauliOp(\"IIIIZZ\",coeffs=[1])\n",
    "\n",
    "\n",
    "# for shot-based simulation:\n",
    "expectation_value_1 = estimator.run(qcc, op1, shots=8000).result().values\n",
    "expectation_value_3 = estimator.run(qcc, op2, shots=8000).result().values\n",
    "expectation_value_6 = estimator.run(qcc, op3, shots=8000).result().values\n",
    "\n",
    "print(\"expectation pos 1: \", expectation_value_1)\n",
    "print(\"expectation pos 3: \", expectation_value_3)\n",
    "print(\"expectation pos 6: \", expectation_value_6)\n"
   ]
  },
  {
   "cell_type": "code",
   "execution_count": 343,
   "id": "5027136c",
   "metadata": {},
   "outputs": [
    {
     "name": "stdout",
     "output_type": "stream",
     "text": [
      "expectation sigma_i*sigma_j:  [0.98966433]\n",
      "expectation sigma_i:  [0.99555485]\n",
      "expectation sigma_j:  [0.99449899]\n",
      "C_ij:  [-0.00041397]\n"
     ]
    }
   ],
   "source": [
    "estimator = Estimator() \n",
    "#observable = SparsePauliOp([\"II\", \"XX\", \"YY\", \"ZZ\"], coeffs=[1, 1, -1, 1])\n",
    "op1 = SparsePauliOp(\"ZZIIIIIIII\",coeffs=[1])\n",
    "op2 = SparsePauliOp(\"ZIIIIIIIII\",coeffs=[1])\n",
    "op3 = SparsePauliOp(\"IZIIIIIIII\",coeffs=[1])\n",
    "\n",
    "dist=1\n",
    "# for shot-based simulation:\n",
    "expectation_value_ij = estimator.run(qcc, op1, shots=8000).result().values\n",
    "expectation_value_i = estimator.run(qcc, op2, shots=8000).result().values\n",
    "expectation_value_j = estimator.run(qcc, op3, shots=8000).result().values\n",
    "corr_ij1 = expectation_value_ij - expectation_value_i*expectation_value_j\n",
    "print(\"expectation sigma_i*sigma_j: \", expectation_value_ij)\n",
    "print(\"expectation sigma_i: \", expectation_value_i)\n",
    "print(\"expectation sigma_j: \", expectation_value_j)\n",
    "print(\"C_ij: \", corr_ij1)\n",
    "#print(\"scaling 1/r^(1/4)\", 1/dist**(1/4))"
   ]
  },
  {
   "cell_type": "code",
   "execution_count": 344,
   "id": "20ec8123",
   "metadata": {},
   "outputs": [
    {
     "name": "stdout",
     "output_type": "stream",
     "text": [
      "expectation sigma_i*sigma_j:  [0.98733958]\n",
      "expectation sigma_i:  [0.99624458]\n",
      "expectation sigma_j:  [0.99389075]\n",
      "C_ij:  [-0.00281869]\n"
     ]
    }
   ],
   "source": [
    "op1 = SparsePauliOp(\"ZIZIIIIIII\",coeffs=[1])\n",
    "op2 = SparsePauliOp(\"ZIIIIIIIII\",coeffs=[1])\n",
    "op3 = SparsePauliOp(\"IIZIIIIIII\",coeffs=[1])\n",
    "\n",
    "dist=2\n",
    "# for shot-based simulation:\n",
    "expectation_value_ij = estimator.run(qcc, op1, shots=8000).result().values\n",
    "expectation_value_i = estimator.run(qcc, op2, shots=8000).result().values\n",
    "expectation_value_j = estimator.run(qcc, op3, shots=8000).result().values\n",
    "corr_ij2 = expectation_value_ij - expectation_value_i*expectation_value_j\n",
    "print(\"expectation sigma_i*sigma_j: \", expectation_value_ij)\n",
    "print(\"expectation sigma_i: \", expectation_value_i)\n",
    "print(\"expectation sigma_j: \", expectation_value_j)\n",
    "print(\"C_ij: \", corr_ij2)\n",
    "#print(\"scaling 1/r^(1/4)\", 1/dist**(1/4))"
   ]
  },
  {
   "cell_type": "code",
   "execution_count": 345,
   "id": "50170bc5",
   "metadata": {},
   "outputs": [
    {
     "name": "stdout",
     "output_type": "stream",
     "text": [
      "expectation sigma_i*sigma_j:  [0.98940291]\n",
      "expectation sigma_i:  [0.9967716]\n",
      "expectation sigma_j:  [0.99593703]\n",
      "C_ij:  [-0.00331883]\n"
     ]
    }
   ],
   "source": [
    "op1 = SparsePauliOp(\"ZIIZIIIIII\",coeffs=[1])\n",
    "op2 = SparsePauliOp(\"ZIIIIIIIII\",coeffs=[1])\n",
    "op3 = SparsePauliOp(\"IIIZIIIIII\",coeffs=[1])\n",
    "\n",
    "dist=3\n",
    "# for shot-based simulation:\n",
    "expectation_value_ij = estimator.run(qcc, op1, shots=8000).result().values\n",
    "expectation_value_i = estimator.run(qcc, op2, shots=8000).result().values\n",
    "expectation_value_j = estimator.run(qcc, op3, shots=8000).result().values\n",
    "corr_ij3 = expectation_value_ij - expectation_value_i*expectation_value_j\n",
    "print(\"expectation sigma_i*sigma_j: \", expectation_value_ij)\n",
    "print(\"expectation sigma_i: \", expectation_value_i)\n",
    "print(\"expectation sigma_j: \", expectation_value_j)\n",
    "print(\"C_ij: \", corr_ij3)\n",
    "#print(\"scaling 1/r^(1/4)\", 1/dist**(1/4))"
   ]
  },
  {
   "cell_type": "code",
   "execution_count": 346,
   "id": "dd5596f0",
   "metadata": {},
   "outputs": [
    {
     "name": "stdout",
     "output_type": "stream",
     "text": [
      "expectation sigma_i*sigma_j:  [0.98791818]\n",
      "expectation sigma_i:  [0.99386446]\n",
      "expectation sigma_j:  [0.99416861]\n",
      "C_ij:  [-0.00015068]\n"
     ]
    }
   ],
   "source": [
    "op1 = SparsePauliOp(\"ZIIIZIIIII\",coeffs=[1])\n",
    "op2 = SparsePauliOp(\"ZIIIIIIIII\",coeffs=[1])\n",
    "op3 = SparsePauliOp(\"IIIIZIIIII\",coeffs=[1])\n",
    "\n",
    "dist=4\n",
    "# for shot-based simulation:\n",
    "expectation_value_ij = estimator.run(qcc, op1, shots=8000).result().values\n",
    "expectation_value_i = estimator.run(qcc, op2, shots=8000).result().values\n",
    "expectation_value_j = estimator.run(qcc, op3, shots=8000).result().values\n",
    "corr_ij4 = expectation_value_ij - expectation_value_i*expectation_value_j\n",
    "print(\"expectation sigma_i*sigma_j: \", expectation_value_ij)\n",
    "print(\"expectation sigma_i: \", expectation_value_i)\n",
    "print(\"expectation sigma_j: \", expectation_value_j)\n",
    "print(\"C_ij: \", corr_ij4)\n",
    "#print(\"scaling 1/r^(1/4)\", 1/dist**(1/4))"
   ]
  },
  {
   "cell_type": "code",
   "execution_count": 347,
   "id": "4eb09f06",
   "metadata": {},
   "outputs": [
    {
     "name": "stdout",
     "output_type": "stream",
     "text": [
      "expectation sigma_i*sigma_j:  [0.99187954]\n",
      "expectation sigma_i:  [0.99603257]\n",
      "expectation sigma_j:  [0.99623932]\n",
      "C_ij:  [-0.00040727]\n"
     ]
    }
   ],
   "source": [
    "op1 = SparsePauliOp(\"ZIIIIZIIII\",coeffs=[1])\n",
    "op2 = SparsePauliOp(\"ZIIIIIIIII\",coeffs=[1])\n",
    "op3 = SparsePauliOp(\"IIIIIZIIII\",coeffs=[1])\n",
    "\n",
    "dist=5\n",
    "# for shot-based simulation:\n",
    "expectation_value_ij = estimator.run(qcc, op1, shots=8000).result().values\n",
    "expectation_value_i = estimator.run(qcc, op2, shots=8000).result().values\n",
    "expectation_value_j = estimator.run(qcc, op3, shots=8000).result().values\n",
    "corr_ij5 = expectation_value_ij - expectation_value_i*expectation_value_j\n",
    "print(\"expectation sigma_i*sigma_j: \", expectation_value_ij)\n",
    "print(\"expectation sigma_i: \", expectation_value_i)\n",
    "print(\"expectation sigma_j: \", expectation_value_j)\n",
    "print(\"C_ij: \", corr_ij5)\n",
    "#print(\"scaling 1/r^(1/4)\", 1/dist**(1/4))"
   ]
  },
  {
   "cell_type": "code",
   "execution_count": 348,
   "id": "401f8551",
   "metadata": {},
   "outputs": [
    {
     "name": "stdout",
     "output_type": "stream",
     "text": [
      "expectation sigma_i*sigma_j:  [0.98936094]\n",
      "expectation sigma_i:  [0.99422506]\n",
      "expectation sigma_j:  [0.99318064]\n",
      "C_ij:  [0.00191586]\n"
     ]
    }
   ],
   "source": [
    "op1 = SparsePauliOp(\"ZIIIIIZIII\",coeffs=[1])\n",
    "op2 = SparsePauliOp(\"ZIIIIIIIII\",coeffs=[1])\n",
    "op3 = SparsePauliOp(\"IIIIIIZIII\",coeffs=[1])\n",
    "\n",
    "dist=6\n",
    "# for shot-based simulation:\n",
    "expectation_value_ij = estimator.run(qcc, op1, shots=8000).result().values\n",
    "expectation_value_i = estimator.run(qcc, op2, shots=8000).result().values\n",
    "expectation_value_j = estimator.run(qcc, op3, shots=8000).result().values\n",
    "corr_ij6 = expectation_value_ij - expectation_value_i*expectation_value_j\n",
    "print(\"expectation sigma_i*sigma_j: \", expectation_value_ij)\n",
    "print(\"expectation sigma_i: \", expectation_value_i)\n",
    "print(\"expectation sigma_j: \", expectation_value_j)\n",
    "print(\"C_ij: \", corr_ij6)\n",
    "#print(\"scaling 1/r^(1/4)\", 1/dist**(1/4))"
   ]
  },
  {
   "cell_type": "code",
   "execution_count": 349,
   "id": "6648946e",
   "metadata": {},
   "outputs": [
    {
     "name": "stdout",
     "output_type": "stream",
     "text": [
      "expectation sigma_i*sigma_j:  [0.99047308]\n",
      "expectation sigma_i:  [0.99389663]\n",
      "expectation sigma_j:  [0.99326564]\n",
      "C_ij:  [0.0032697]\n"
     ]
    }
   ],
   "source": [
    "op1 = SparsePauliOp(\"ZIIIIIIZII\",coeffs=[1])\n",
    "op2 = SparsePauliOp(\"ZIIIIIIIII\",coeffs=[1])\n",
    "op3 = SparsePauliOp(\"IIIIIIIZII\",coeffs=[1])\n",
    "\n",
    "dist=7\n",
    "# for shot-based simulation:\n",
    "expectation_value_ij = estimator.run(qcc, op1, shots=8000).result().values\n",
    "expectation_value_i = estimator.run(qcc, op2, shots=8000).result().values\n",
    "expectation_value_j = estimator.run(qcc, op3, shots=8000).result().values\n",
    "corr_ij7 = expectation_value_ij - expectation_value_i*expectation_value_j\n",
    "print(\"expectation sigma_i*sigma_j: \", expectation_value_ij)\n",
    "print(\"expectation sigma_i: \", expectation_value_i)\n",
    "print(\"expectation sigma_j: \", expectation_value_j)\n",
    "print(\"C_ij: \", corr_ij7)\n",
    "#print(\"scaling 1/r^(1/4)\", 1/dist**(1/4))"
   ]
  },
  {
   "cell_type": "code",
   "execution_count": 350,
   "id": "52e15e1f",
   "metadata": {},
   "outputs": [
    {
     "name": "stdout",
     "output_type": "stream",
     "text": [
      "expectation sigma_i*sigma_j:  [0.99136676]\n",
      "expectation sigma_i:  [0.99549797]\n",
      "expectation sigma_j:  [0.99383858]\n",
      "C_ij:  [0.00200248]\n"
     ]
    }
   ],
   "source": [
    "op1 = SparsePauliOp(\"ZIIIIIIIZI\",coeffs=[1])\n",
    "op2 = SparsePauliOp(\"ZIIIIIIIII\",coeffs=[1])\n",
    "op3 = SparsePauliOp(\"IIIIIIIIZI\",coeffs=[1])\n",
    "\n",
    "dist=8\n",
    "# for shot-based simulation:\n",
    "expectation_value_ij = estimator.run(qcc, op1, shots=8000).result().values\n",
    "expectation_value_i = estimator.run(qcc, op2, shots=8000).result().values\n",
    "expectation_value_j = estimator.run(qcc, op3, shots=8000).result().values\n",
    "corr_ij8 = expectation_value_ij - expectation_value_i*expectation_value_j\n",
    "print(\"expectation sigma_i*sigma_j: \", expectation_value_ij)\n",
    "print(\"expectation sigma_i: \", expectation_value_i)\n",
    "print(\"expectation sigma_j: \", expectation_value_j)\n",
    "print(\"C_ij: \", corr_ij8)\n",
    "#print(\"scaling 1/r^(1/4)\", 1/dist**(1/4))"
   ]
  },
  {
   "cell_type": "code",
   "execution_count": 351,
   "id": "6baece9e",
   "metadata": {},
   "outputs": [
    {
     "name": "stdout",
     "output_type": "stream",
     "text": [
      "expectation sigma_i*sigma_j:  [0.99088441]\n",
      "expectation sigma_i:  [0.99555605]\n",
      "expectation sigma_j:  [0.99496722]\n",
      "C_ij:  [0.00033878]\n"
     ]
    }
   ],
   "source": [
    "op1 = SparsePauliOp(\"ZIIIIIIIIZ\",coeffs=[1])\n",
    "op2 = SparsePauliOp(\"ZIIIIIIIII\",coeffs=[1])\n",
    "op3 = SparsePauliOp(\"IIIIIIIIIZ\",coeffs=[1])\n",
    "\n",
    "dist=9\n",
    "# for shot-based simulation:\n",
    "expectation_value_ij = estimator.run(qcc, op1, shots=8000).result().values\n",
    "expectation_value_i = estimator.run(qcc, op2, shots=8000).result().values\n",
    "expectation_value_j = estimator.run(qcc, op3, shots=8000).result().values\n",
    "corr_ij9 = expectation_value_ij - expectation_value_i*expectation_value_j\n",
    "print(\"expectation sigma_i*sigma_j: \", expectation_value_ij)\n",
    "print(\"expectation sigma_i: \", expectation_value_i)\n",
    "print(\"expectation sigma_j: \", expectation_value_j)\n",
    "print(\"C_ij: \", corr_ij9)\n",
    "#print(\"scaling 1/r^(1/4)\", 1/dist**(1/4))"
   ]
  },
  {
   "cell_type": "code",
   "execution_count": 352,
   "id": "ffb173d0",
   "metadata": {},
   "outputs": [],
   "source": [
    "corr_ij_dict = {}\n",
    "for f in range(1, n):\n",
    "    corr_ij_dict[f] = globals().get(f\"corr_ij{f}\")\n",
    "\n",
    "# Convert the dictionary values to a NumPy array\n",
    "correlations = np.array(list(corr_ij_dict.values()))\n",
    "distances=np.array([i for i in range(1,n)], dtype=float)"
   ]
  },
  {
   "cell_type": "code",
   "execution_count": 353,
   "id": "e9ed8537",
   "metadata": {},
   "outputs": [
    {
     "data": {
      "text/plain": [
       "[<matplotlib.lines.Line2D at 0x7fa175d64430>]"
      ]
     },
     "execution_count": 353,
     "metadata": {},
     "output_type": "execute_result"
    },
    {
     "data": {
      "image/png": "[encoded data removed]",
      "text/plain": [
       "<Figure size 640x480 with 1 Axes>"
      ]
     },
     "metadata": {},
     "output_type": "display_data"
    }
   ],
   "source": [
    "plt.plot(distances, correlations)"
   ]
  },
  {
   "cell_type": "code",
   "execution_count": 302,
   "id": "7e52eabe",
   "metadata": {
    "scrolled": true
   },
   "outputs": [
    {
     "ename": "ValueError",
     "evalue": "object too deep for desired array",
     "output_type": "error",
     "traceback": [
      "\u001b[0;31m---------------------------------------------------------------------------\u001b[0m",
      "\u001b[0;31mValueError\u001b[0m                                Traceback (most recent call last)",
      "\u001b[0;31mValueError\u001b[0m: object too deep for desired array"
     ]
    },
    {
     "ename": "error",
     "evalue": "Result from function call is not a proper array of floats.",
     "output_type": "error",
     "traceback": [
      "\u001b[0;31m---------------------------------------------------------------------------\u001b[0m",
      "\u001b[0;31merror\u001b[0m                                     Traceback (most recent call last)",
      "Cell \u001b[0;32mIn[302], line 7\u001b[0m\n\u001b[1;32m      4\u001b[0m \u001b[38;5;28;01mdef\u001b[39;00m \u001b[38;5;21mmy_curve_function\u001b[39m(x, a, b):\n\u001b[1;32m      5\u001b[0m     \u001b[38;5;28;01mreturn\u001b[39;00m a\u001b[38;5;241m*\u001b[39mx\u001b[38;5;241m*\u001b[39m\u001b[38;5;241m*\u001b[39m\u001b[38;5;241m2\u001b[39m\u001b[38;5;241m+\u001b[39mb\u001b[38;5;241m*\u001b[39mx\n\u001b[0;32m----> 7\u001b[0m params, covariance \u001b[38;5;241m=\u001b[39m \u001b[43mcurve_fit\u001b[49m\u001b[43m(\u001b[49m\u001b[43mmy_curve_function\u001b[49m\u001b[43m,\u001b[49m\u001b[43m \u001b[49m\u001b[43mdistances\u001b[49m\u001b[43m,\u001b[49m\u001b[43m \u001b[49m\u001b[43mcorrelations\u001b[49m\u001b[43m)\u001b[49m\n",
      "File \u001b[0;32m~/.local/lib/python3.10/site-packages/scipy/optimize/_minpack_py.py:859\u001b[0m, in \u001b[0;36mcurve_fit\u001b[0;34m(f, xdata, ydata, p0, sigma, absolute_sigma, check_finite, bounds, method, jac, full_output, **kwargs)\u001b[0m\n\u001b[1;32m    856\u001b[0m \u001b[38;5;28;01mif\u001b[39;00m ydata\u001b[38;5;241m.\u001b[39msize \u001b[38;5;241m!=\u001b[39m \u001b[38;5;241m1\u001b[39m \u001b[38;5;129;01mand\u001b[39;00m n \u001b[38;5;241m>\u001b[39m ydata\u001b[38;5;241m.\u001b[39msize:\n\u001b[1;32m    857\u001b[0m     \u001b[38;5;28;01mraise\u001b[39;00m \u001b[38;5;167;01mTypeError\u001b[39;00m(\u001b[38;5;124mf\u001b[39m\u001b[38;5;124m\"\u001b[39m\u001b[38;5;124mThe number of func parameters=\u001b[39m\u001b[38;5;132;01m{\u001b[39;00mn\u001b[38;5;132;01m}\u001b[39;00m\u001b[38;5;124m must not\u001b[39m\u001b[38;5;124m\"\u001b[39m\n\u001b[1;32m    858\u001b[0m                     \u001b[38;5;124mf\u001b[39m\u001b[38;5;124m\"\u001b[39m\u001b[38;5;124m exceed the number of data points=\u001b[39m\u001b[38;5;132;01m{\u001b[39;00mydata\u001b[38;5;241m.\u001b[39msize\u001b[38;5;132;01m}\u001b[39;00m\u001b[38;5;124m\"\u001b[39m)\n\u001b[0;32m--> 859\u001b[0m res \u001b[38;5;241m=\u001b[39m \u001b[43mleastsq\u001b[49m\u001b[43m(\u001b[49m\u001b[43mfunc\u001b[49m\u001b[43m,\u001b[49m\u001b[43m \u001b[49m\u001b[43mp0\u001b[49m\u001b[43m,\u001b[49m\u001b[43m \u001b[49m\u001b[43mDfun\u001b[49m\u001b[38;5;241;43m=\u001b[39;49m\u001b[43mjac\u001b[49m\u001b[43m,\u001b[49m\u001b[43m \u001b[49m\u001b[43mfull_output\u001b[49m\u001b[38;5;241;43m=\u001b[39;49m\u001b[38;5;241;43m1\u001b[39;49m\u001b[43m,\u001b[49m\u001b[43m \u001b[49m\u001b[38;5;241;43m*\u001b[39;49m\u001b[38;5;241;43m*\u001b[39;49m\u001b[43mkwargs\u001b[49m\u001b[43m)\u001b[49m\n\u001b[1;32m    860\u001b[0m popt, pcov, infodict, errmsg, ier \u001b[38;5;241m=\u001b[39m res\n\u001b[1;32m    861\u001b[0m ysize \u001b[38;5;241m=\u001b[39m \u001b[38;5;28mlen\u001b[39m(infodict[\u001b[38;5;124m'\u001b[39m\u001b[38;5;124mfvec\u001b[39m\u001b[38;5;124m'\u001b[39m])\n",
      "File \u001b[0;32m~/.local/lib/python3.10/site-packages/scipy/optimize/_minpack_py.py:426\u001b[0m, in \u001b[0;36mleastsq\u001b[0;34m(func, x0, args, Dfun, full_output, col_deriv, ftol, xtol, gtol, maxfev, epsfcn, factor, diag)\u001b[0m\n\u001b[1;32m    424\u001b[0m     \u001b[38;5;28;01mif\u001b[39;00m maxfev \u001b[38;5;241m==\u001b[39m \u001b[38;5;241m0\u001b[39m:\n\u001b[1;32m    425\u001b[0m         maxfev \u001b[38;5;241m=\u001b[39m \u001b[38;5;241m200\u001b[39m\u001b[38;5;241m*\u001b[39m(n \u001b[38;5;241m+\u001b[39m \u001b[38;5;241m1\u001b[39m)\n\u001b[0;32m--> 426\u001b[0m     retval \u001b[38;5;241m=\u001b[39m \u001b[43m_minpack\u001b[49m\u001b[38;5;241;43m.\u001b[39;49m\u001b[43m_lmdif\u001b[49m\u001b[43m(\u001b[49m\u001b[43mfunc\u001b[49m\u001b[43m,\u001b[49m\u001b[43m \u001b[49m\u001b[43mx0\u001b[49m\u001b[43m,\u001b[49m\u001b[43m \u001b[49m\u001b[43margs\u001b[49m\u001b[43m,\u001b[49m\u001b[43m \u001b[49m\u001b[43mfull_output\u001b[49m\u001b[43m,\u001b[49m\u001b[43m \u001b[49m\u001b[43mftol\u001b[49m\u001b[43m,\u001b[49m\u001b[43m \u001b[49m\u001b[43mxtol\u001b[49m\u001b[43m,\u001b[49m\n\u001b[1;32m    427\u001b[0m \u001b[43m                             \u001b[49m\u001b[43mgtol\u001b[49m\u001b[43m,\u001b[49m\u001b[43m \u001b[49m\u001b[43mmaxfev\u001b[49m\u001b[43m,\u001b[49m\u001b[43m \u001b[49m\u001b[43mepsfcn\u001b[49m\u001b[43m,\u001b[49m\u001b[43m \u001b[49m\u001b[43mfactor\u001b[49m\u001b[43m,\u001b[49m\u001b[43m \u001b[49m\u001b[43mdiag\u001b[49m\u001b[43m)\u001b[49m\n\u001b[1;32m    428\u001b[0m \u001b[38;5;28;01melse\u001b[39;00m:\n\u001b[1;32m    429\u001b[0m     \u001b[38;5;28;01mif\u001b[39;00m col_deriv:\n",
      "\u001b[0;31merror\u001b[0m: Result from function call is not a proper array of floats."
     ]
    }
   ],
   "source": [
    "from scipy.optimize import curve_fit\n",
    "\n",
    "\n",
    "def my_curve_function(x, a, b):\n",
    "    return a*x**2+b*x\n",
    "\n",
    "params, covariance = curve_fit(my_curve_function, distances, correlations)"
   ]
  },
  {
   "cell_type": "code",
   "execution_count": 293,
   "id": "c7b993e3",
   "metadata": {},
   "outputs": [
    {
     "name": "stdout",
     "output_type": "stream",
     "text": [
      "[1.         0.25       0.11111111 0.0625     0.04       0.02777778\n",
      " 0.02040816 0.015625   0.01234568]\n"
     ]
    }
   ],
   "source": [
    "print(my_curve_function(distances, 2))"
   ]
  },
  {
   "cell_type": "code",
   "execution_count": 354,
   "id": "36c9e06a",
   "metadata": {},
   "outputs": [
    {
     "data": {
      "image/png": "[encoded data removed]",
      "text/plain": [
       "<Figure size 640x480 with 1 Axes>"
      ]
     },
     "metadata": {},
     "output_type": "display_data"
    }
   ],
   "source": [
    "plt.scatter(x, y, label='Data')\n",
    "#plt.plot(x, fitted_curve, label='Fitted Curve', color='red')\n",
    "plt.legend()\n",
    "plt.xlabel('X-axis')\n",
    "plt.ylabel('Y-axis')\n",
    "plt.show()"
   ]
  },
  {
   "cell_type": "code",
   "execution_count": 287,
   "id": "60fc5463",
   "metadata": {},
   "outputs": [
    {
     "data": {
      "text/plain": [
       "array([1., 2., 3., 4., 5., 6., 7., 8., 9.])"
      ]
     },
     "execution_count": 287,
     "metadata": {},
     "output_type": "execute_result"
    }
   ],
   "source": [
    "distances"
   ]
  },
  {
   "cell_type": "code",
   "execution_count": 296,
   "id": "be31c078",
   "metadata": {},
   "outputs": [
    {
     "name": "stdout",
     "output_type": "stream",
     "text": [
      "float64\n"
     ]
    }
   ],
   "source": [
    "print(correlations.dtype)"
   ]
  },
  {
   "cell_type": "code",
   "execution_count": null,
   "id": "8c88ae99",
   "metadata": {},
   "outputs": [],
   "source": []
  }
 ],
 "metadata": {
  "kernelspec": {
   "display_name": "Python 3 (ipykernel)",
   "language": "python",
   "name": "python3"
  },
  "language_info": {
   "codemirror_mode": {
    "name": "ipython",
    "version": 3
   },
   "file_extension": ".py",
   "mimetype": "text/x-python",
   "name": "python",
   "nbconvert_exporter": "python",
   "pygments_lexer": "ipython3",
   "version": "3.10.9"
  }
 },
 "nbformat": 4,
 "nbformat_minor": 5
}
