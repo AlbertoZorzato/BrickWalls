{
 "cells": [
  {
   "cell_type": "code",
   "execution_count": 152,
   "id": "3c8c7fc2",
   "metadata": {},
   "outputs": [],
   "source": [
    "from tqdm import tqdm\n",
    "from qiskit import quantum_info\n",
    "from qiskit.quantum_info import DensityMatrix, Statevector, partial_trace\n",
    "from qiskit.visualization import plot_histogram\n",
    "import matplotlib.pyplot as plt\n",
    "import numpy as np\n",
    "#from qiskit_experiments.framework import ParallelExperiment\n",
    "from qiskit_experiments.library import StateTomography\n",
    "from qiskit.providers.aer import AerSimulator\n",
    "from qiskit.providers.fake_provider import FakeParis\n",
    "from numpy.linalg import norm \n",
    "import cvxpy\n",
    "#set noisy simulator backend \n",
    "#backend = AerSimulator.from_backend(FakeParis())\n",
    "from qiskit import QuantumCircuit, transpile\n",
    "from qiskit.quantum_info import Operator\n",
    "from qiskit.transpiler import PassManager\n",
    "from qiskit.transpiler.passes import Unroller\n",
    "#visualization\n",
    "from qiskit.visualization import plot_state_city\n",
    "from qiskit.visualization import plot_histogram\n",
    "from qiskit import QuantumCircuit\n",
    "from qiskit.quantum_info import SparsePauliOp\n",
    "from qiskit.circuit import Parameter\n",
    "from qiskit.primitives import Estimator\n",
    "from qiskit_ibm_runtime import Estimator, Session, QiskitRuntimeService, Options, Sampler\n",
    "from qiskit.visualization import array_to_latex\n",
    "from qiskit.extensions import UnitaryGate\n",
    "from qiskit.circuit.random import random_circuit"
   ]
  },
  {
   "cell_type": "code",
   "execution_count": 170,
   "id": "68a852ad",
   "metadata": {},
   "outputs": [
    {
     "data": {
      "text/plain": [
       "True"
      ]
     },
     "execution_count": 170,
     "metadata": {},
     "output_type": "execute_result"
    }
   ],
   "source": [
    "mat=U(1,1,1)\n",
    "uni = mat.conj().T@mat\n",
    "np.allclose(np.eye(4),uni,atol=1e-16)"
   ]
  },
  {
   "cell_type": "code",
   "execution_count": 5,
   "id": "e173722f",
   "metadata": {},
   "outputs": [],
   "source": [
    "dispcolors = {'cx':('#426299', '#000000'),\n",
    "              'cswap':('#705399', '#000000'),\n",
    "              'cp':('#CFFF8B', '#000000')}"
   ]
  },
  {
   "cell_type": "code",
   "execution_count": 200,
   "id": "a128e4c7",
   "metadata": {},
   "outputs": [],
   "source": [
    "# Save an IBM Quantum account.\n",
    "QiskitRuntimeService.save_account(channel=\"ibm_quantum\", token=\"b58a80862cd6d4e3f8618d0fb10c85a7415315bcf55dd407e498ce33bdd4709623e266b4fdee952700733135cd2fa847c7bffa65966a4efb0aa2ae6a4ad7b583\", overwrite=True)"
   ]
  },
  {
   "cell_type": "code",
   "execution_count": 198,
   "id": "cbeb273e",
   "metadata": {
    "scrolled": false
   },
   "outputs": [
    {
     "name": "stderr",
     "output_type": "stream",
     "text": [
      "  0%|                                                                                             | 0/6 [00:00<?, ?it/s]\n",
      "  0%|                                                                                             | 0/3 [00:00<?, ?it/s]\u001b[A\n",
      " 33%|████████████████████████████▎                                                        | 1/3 [00:04<00:08,  4.33s/it]\u001b[A\n",
      " 67%|████████████████████████████████████████████████████████▋                            | 2/3 [00:08<00:04,  4.24s/it]\u001b[A\n",
      "100%|█████████████████████████████████████████████████████████████████████████████████████| 3/3 [00:12<00:00,  4.19s/it]\u001b[A\n",
      " 17%|██████████████▏                                                                      | 1/6 [00:12<01:02, 12.58s/it]\n",
      "  0%|                                                                                             | 0/3 [00:00<?, ?it/s]\u001b[A\n",
      " 33%|████████████████████████████▎                                                        | 1/3 [00:04<00:08,  4.14s/it]\u001b[A\n",
      " 67%|████████████████████████████████████████████████████████▋                            | 2/3 [00:08<00:04,  4.18s/it]\u001b[A\n",
      "100%|█████████████████████████████████████████████████████████████████████████████████████| 3/3 [00:12<00:00,  4.12s/it]\u001b[A\n",
      " 33%|████████████████████████████▎                                                        | 2/6 [00:24<00:49, 12.44s/it]\n",
      "  0%|                                                                                             | 0/3 [00:00<?, ?it/s]\u001b[A\n",
      " 33%|████████████████████████████▎                                                        | 1/3 [00:03<00:07,  3.87s/it]\u001b[A\n",
      " 67%|████████████████████████████████████████████████████████▋                            | 2/3 [00:08<00:04,  4.03s/it]\u001b[A\n",
      "100%|█████████████████████████████████████████████████████████████████████████████████████| 3/3 [00:11<00:00,  3.99s/it]\u001b[A\n",
      " 50%|██████████████████████████████████████████▌                                          | 3/6 [00:36<00:36, 12.23s/it]\n",
      "  0%|                                                                                             | 0/3 [00:00<?, ?it/s]\u001b[A\n",
      " 33%|████████████████████████████▎                                                        | 1/3 [00:06<00:13,  6.78s/it]\u001b[A\n",
      " 50%|██████████████████████████████████████████▌                                          | 3/6 [00:43<00:43, 14.56s/it]\n"
     ]
    },
    {
     "ename": "KeyboardInterrupt",
     "evalue": "",
     "output_type": "error",
     "traceback": [
      "\u001b[0;31m---------------------------------------------------------------------------\u001b[0m",
      "\u001b[0;31mKeyboardInterrupt\u001b[0m                         Traceback (most recent call last)",
      "Cell \u001b[0;32mIn[198], line 52\u001b[0m\n\u001b[1;32m     50\u001b[0m     estimator_sim \u001b[38;5;241m=\u001b[39m Estimator(session\u001b[38;5;241m=\u001b[39msession, options\u001b[38;5;241m=\u001b[39moptions)\n\u001b[1;32m     51\u001b[0m     job_sim \u001b[38;5;241m=\u001b[39m estimator_sim\u001b[38;5;241m.\u001b[39mrun(circuits\u001b[38;5;241m=\u001b[39m[qc], observables\u001b[38;5;241m=\u001b[39m[op])\n\u001b[0;32m---> 52\u001b[0m     values \u001b[38;5;241m=\u001b[39m \u001b[43mjob_sim\u001b[49m\u001b[38;5;241;43m.\u001b[39;49m\u001b[43mresult\u001b[49m\u001b[43m(\u001b[49m\u001b[43m)\u001b[49m\u001b[38;5;241m.\u001b[39mvalues\n\u001b[1;32m     54\u001b[0m C[i\u001b[38;5;241m-\u001b[39m\u001b[38;5;241m1\u001b[39m,k]\u001b[38;5;241m=\u001b[39mvalues\n",
      "File \u001b[0;32m~/anaconda3/envs/qusim/lib/python3.10/site-packages/qiskit_ibm_runtime/runtime_job.py:217\u001b[0m, in \u001b[0;36mRuntimeJob.result\u001b[0;34m(self, timeout, decoder)\u001b[0m\n\u001b[1;32m    215\u001b[0m _decoder \u001b[38;5;241m=\u001b[39m decoder \u001b[38;5;129;01mor\u001b[39;00m \u001b[38;5;28mself\u001b[39m\u001b[38;5;241m.\u001b[39m_final_result_decoder\n\u001b[1;32m    216\u001b[0m \u001b[38;5;28;01mif\u001b[39;00m \u001b[38;5;28mself\u001b[39m\u001b[38;5;241m.\u001b[39m_results \u001b[38;5;129;01mis\u001b[39;00m \u001b[38;5;28;01mNone\u001b[39;00m \u001b[38;5;129;01mor\u001b[39;00m (_decoder \u001b[38;5;241m!=\u001b[39m \u001b[38;5;28mself\u001b[39m\u001b[38;5;241m.\u001b[39m_final_result_decoder):\n\u001b[0;32m--> 217\u001b[0m     \u001b[38;5;28;43mself\u001b[39;49m\u001b[38;5;241;43m.\u001b[39;49m\u001b[43mwait_for_final_state\u001b[49m\u001b[43m(\u001b[49m\u001b[43mtimeout\u001b[49m\u001b[38;5;241;43m=\u001b[39;49m\u001b[43mtimeout\u001b[49m\u001b[43m)\u001b[49m\n\u001b[1;32m    218\u001b[0m     \u001b[38;5;28;01mif\u001b[39;00m \u001b[38;5;28mself\u001b[39m\u001b[38;5;241m.\u001b[39m_status \u001b[38;5;241m==\u001b[39m JobStatus\u001b[38;5;241m.\u001b[39mERROR:\n\u001b[1;32m    219\u001b[0m         error_message \u001b[38;5;241m=\u001b[39m \u001b[38;5;28mself\u001b[39m\u001b[38;5;241m.\u001b[39m_reason \u001b[38;5;28;01mif\u001b[39;00m \u001b[38;5;28mself\u001b[39m\u001b[38;5;241m.\u001b[39m_reason \u001b[38;5;28;01melse\u001b[39;00m \u001b[38;5;28mself\u001b[39m\u001b[38;5;241m.\u001b[39m_error_message\n",
      "File \u001b[0;32m~/anaconda3/envs/qusim/lib/python3.10/site-packages/qiskit_ibm_runtime/runtime_job.py:306\u001b[0m, in \u001b[0;36mRuntimeJob.wait_for_final_state\u001b[0;34m(self, timeout)\u001b[0m\n\u001b[1;32m    304\u001b[0m     \u001b[38;5;28mself\u001b[39m\u001b[38;5;241m.\u001b[39m_ws_client_future \u001b[38;5;241m=\u001b[39m \u001b[38;5;28mself\u001b[39m\u001b[38;5;241m.\u001b[39m_executor\u001b[38;5;241m.\u001b[39msubmit(\u001b[38;5;28mself\u001b[39m\u001b[38;5;241m.\u001b[39m_start_websocket_client)\n\u001b[1;32m    305\u001b[0m \u001b[38;5;28;01mif\u001b[39;00m \u001b[38;5;28mself\u001b[39m\u001b[38;5;241m.\u001b[39m_is_streaming():\n\u001b[0;32m--> 306\u001b[0m     \u001b[38;5;28;43mself\u001b[39;49m\u001b[38;5;241;43m.\u001b[39;49m\u001b[43m_ws_client_future\u001b[49m\u001b[38;5;241;43m.\u001b[39;49m\u001b[43mresult\u001b[49m\u001b[43m(\u001b[49m\u001b[43mtimeout\u001b[49m\u001b[43m)\u001b[49m\n\u001b[1;32m    307\u001b[0m \u001b[38;5;66;03m# poll for status after stream has closed until status is final\u001b[39;00m\n\u001b[1;32m    308\u001b[0m \u001b[38;5;66;03m# because status doesn't become final as soon as stream closes\u001b[39;00m\n\u001b[1;32m    309\u001b[0m status \u001b[38;5;241m=\u001b[39m \u001b[38;5;28mself\u001b[39m\u001b[38;5;241m.\u001b[39mstatus()\n",
      "File \u001b[0;32m~/anaconda3/envs/qusim/lib/python3.10/concurrent/futures/_base.py:453\u001b[0m, in \u001b[0;36mFuture.result\u001b[0;34m(self, timeout)\u001b[0m\n\u001b[1;32m    450\u001b[0m \u001b[38;5;28;01melif\u001b[39;00m \u001b[38;5;28mself\u001b[39m\u001b[38;5;241m.\u001b[39m_state \u001b[38;5;241m==\u001b[39m FINISHED:\n\u001b[1;32m    451\u001b[0m     \u001b[38;5;28;01mreturn\u001b[39;00m \u001b[38;5;28mself\u001b[39m\u001b[38;5;241m.\u001b[39m__get_result()\n\u001b[0;32m--> 453\u001b[0m \u001b[38;5;28;43mself\u001b[39;49m\u001b[38;5;241;43m.\u001b[39;49m\u001b[43m_condition\u001b[49m\u001b[38;5;241;43m.\u001b[39;49m\u001b[43mwait\u001b[49m\u001b[43m(\u001b[49m\u001b[43mtimeout\u001b[49m\u001b[43m)\u001b[49m\n\u001b[1;32m    455\u001b[0m \u001b[38;5;28;01mif\u001b[39;00m \u001b[38;5;28mself\u001b[39m\u001b[38;5;241m.\u001b[39m_state \u001b[38;5;129;01min\u001b[39;00m [CANCELLED, CANCELLED_AND_NOTIFIED]:\n\u001b[1;32m    456\u001b[0m     \u001b[38;5;28;01mraise\u001b[39;00m CancelledError()\n",
      "File \u001b[0;32m~/anaconda3/envs/qusim/lib/python3.10/threading.py:320\u001b[0m, in \u001b[0;36mCondition.wait\u001b[0;34m(self, timeout)\u001b[0m\n\u001b[1;32m    318\u001b[0m \u001b[38;5;28;01mtry\u001b[39;00m:    \u001b[38;5;66;03m# restore state no matter what (e.g., KeyboardInterrupt)\u001b[39;00m\n\u001b[1;32m    319\u001b[0m     \u001b[38;5;28;01mif\u001b[39;00m timeout \u001b[38;5;129;01mis\u001b[39;00m \u001b[38;5;28;01mNone\u001b[39;00m:\n\u001b[0;32m--> 320\u001b[0m         \u001b[43mwaiter\u001b[49m\u001b[38;5;241;43m.\u001b[39;49m\u001b[43macquire\u001b[49m\u001b[43m(\u001b[49m\u001b[43m)\u001b[49m\n\u001b[1;32m    321\u001b[0m         gotit \u001b[38;5;241m=\u001b[39m \u001b[38;5;28;01mTrue\u001b[39;00m\n\u001b[1;32m    322\u001b[0m     \u001b[38;5;28;01melse\u001b[39;00m:\n",
      "\u001b[0;31mKeyboardInterrupt\u001b[0m: "
     ]
    }
   ],
   "source": [
    "#MAIN (TROTTER EVO) ANCILLA METHOD\n",
    "\n",
    "#parameters\n",
    "n,A,T,G,step=6,1,1,0,4\n",
    "time = 3\n",
    "layers = np.array([j for j in range(1,step)])\n",
    "C = np.zeros((n,len(layers)),dtype=complex)\n",
    "init='000000'\n",
    "\n",
    "\n",
    "#specify the credentials when initializing QiskitRuntimeService, if they are not previously saved\n",
    "service = QiskitRuntimeService(channel=\"ibm_quantum\")\n",
    "backend = service.backend(\"simulator_statevector\")\n",
    "\n",
    "#settings job execution\n",
    "options = Options()\n",
    "options.execution.shots = 1000\n",
    "options.optimization_level = 1  # optimization\n",
    "options.resilience_level = 2  # mitigation\n",
    "\n",
    "for i in tqdm(range(1,n+1)):\n",
    "    for k,layer in enumerate(tqdm(layers)):\n",
    "        qc=QuantumCircuit(n+1)\n",
    "        #init\n",
    "        #string = init\n",
    "        #QuantumCircuit.initialize(qcp,string)\n",
    "      \n",
    "        qc.h(0)\n",
    "\n",
    "        #creation of controlled unitary\n",
    "        #v_gate = UnitaryGate(X, label='CU') \n",
    "        #v_gate = v_gate.control(ctrl_state='1')\n",
    "        #qc.append(v_gate, [0,n//2])\n",
    "        qc.cx(0,1)\n",
    "        #fwd evolution\n",
    "        qc.barrier(range(n+1))\n",
    "        qc.barrier(range(n+1))\n",
    "        #W_j perturbation\n",
    "        qc.z(i)\n",
    "        #backwards evolution\n",
    "        qc.barrier(range(n+1))\n",
    "        qc.barrier(range(n+1))\n",
    "        revbwassembler_1(qc,matrix,layer,n)\n",
    "        #qc.append(v_gate, [0,n//2])\n",
    "        qc.cx(0,1)\n",
    "        #generate operator to measure\n",
    "        op=generate_pauli_1(n,0)\n",
    "        #runtime\n",
    "        with Session(service=service, backend=backend) as session:\n",
    "            estimator_sim = Estimator(session=session, options=options)\n",
    "            job_sim = estimator_sim.run(circuits=[qc], observables=[op])\n",
    "            values = job_sim.result().values\n",
    "        \n",
    "        C[i-1,k]=values"
   ]
  },
  {
   "cell_type": "code",
   "execution_count": null,
   "id": "45a0d0ad",
   "metadata": {},
   "outputs": [],
   "source": [
    "Cnew=np.flipud(np.transpose(np.real(C)))\n",
    "plt.imshow(Cnew)\n",
    "plt.xlabel('Sites')\n",
    "plt.ylabel('Time')\n",
    "#plt.title('A='+str(A)+' T='+str(T)+' G='+str(G)+' size='+str(n)+' init='+str(init)+' step='+str(step))\n",
    "plt.colorbar()"
   ]
  },
  {
   "cell_type": "code",
   "execution_count": 253,
   "id": "52fa3280",
   "metadata": {
    "scrolled": true
   },
   "outputs": [
    {
     "name": "stderr",
     "output_type": "stream",
     "text": [
      "  0%|                                                                                             | 0/6 [00:00<?, ?it/s]\n",
      "  0%|                                                                                             | 0/9 [00:00<?, ?it/s]\u001b[A\n",
      " 11%|█████████▍                                                                           | 1/9 [00:04<00:36,  4.60s/it]\u001b[A\n",
      " 22%|██████████████████▉                                                                  | 2/9 [00:08<00:28,  4.06s/it]\u001b[A\n",
      " 33%|████████████████████████████▎                                                        | 3/9 [00:12<00:25,  4.17s/it]\u001b[A\n",
      " 44%|█████████████████████████████████████▊                                               | 4/9 [00:16<00:19,  3.92s/it]\u001b[A\n",
      " 56%|███████████████████████████████████████████████▏                                     | 5/9 [00:20<00:16,  4.00s/it]\u001b[A\n",
      " 67%|████████████████████████████████████████████████████████▋                            | 6/9 [00:24<00:12,  4.21s/it]\u001b[A\n",
      " 78%|██████████████████████████████████████████████████████████████████                   | 7/9 [00:28<00:08,  4.10s/it]\u001b[A\n",
      " 89%|███████████████████████████████████████████████████████████████████████████▌         | 8/9 [00:32<00:03,  3.97s/it]\u001b[A\n",
      "100%|█████████████████████████████████████████████████████████████████████████████████████| 9/9 [00:36<00:00,  4.00s/it]\u001b[A\n",
      " 17%|██████████████▏                                                                      | 1/6 [00:36<03:00, 36.04s/it]\n",
      "  0%|                                                                                             | 0/9 [00:00<?, ?it/s]\u001b[A\n",
      " 11%|█████████▍                                                                           | 1/9 [00:03<00:29,  3.68s/it]\u001b[A\n",
      " 22%|██████████████████▉                                                                  | 2/9 [00:07<00:25,  3.66s/it]\u001b[A\n",
      " 33%|████████████████████████████▎                                                        | 3/9 [00:11<00:22,  3.69s/it]\u001b[A\n",
      " 44%|█████████████████████████████████████▊                                               | 4/9 [00:14<00:18,  3.73s/it]\u001b[A\n",
      " 56%|███████████████████████████████████████████████▏                                     | 5/9 [00:18<00:14,  3.71s/it]\u001b[A\n",
      " 67%|████████████████████████████████████████████████████████▋                            | 6/9 [00:22<00:11,  3.77s/it]\u001b[A\n",
      " 78%|██████████████████████████████████████████████████████████████████                   | 7/9 [00:26<00:07,  3.85s/it]\u001b[A\n",
      " 89%|███████████████████████████████████████████████████████████████████████████▌         | 8/9 [00:29<00:03,  3.76s/it]\u001b[A\n",
      "100%|█████████████████████████████████████████████████████████████████████████████████████| 9/9 [00:33<00:00,  3.78s/it]\u001b[A\n",
      " 33%|████████████████████████████▎                                                        | 2/6 [01:10<02:19, 34.84s/it]\n",
      "  0%|                                                                                             | 0/9 [00:00<?, ?it/s]\u001b[A\n",
      " 11%|█████████▍                                                                           | 1/9 [00:03<00:28,  3.58s/it]\u001b[A\n",
      " 22%|██████████████████▉                                                                  | 2/9 [00:07<00:26,  3.84s/it]\u001b[A\n",
      " 33%|████████████████████████████▎                                                        | 3/9 [00:11<00:22,  3.71s/it]\u001b[A\n",
      " 44%|█████████████████████████████████████▊                                               | 4/9 [00:14<00:18,  3.74s/it]\u001b[A\n",
      " 56%|███████████████████████████████████████████████▏                                     | 5/9 [00:18<00:15,  3.80s/it]\u001b[A\n",
      " 67%|████████████████████████████████████████████████████████▋                            | 6/9 [00:22<00:11,  3.79s/it]\u001b[A\n",
      " 78%|██████████████████████████████████████████████████████████████████                   | 7/9 [00:26<00:07,  3.89s/it]\u001b[A\n",
      " 89%|███████████████████████████████████████████████████████████████████████████▌         | 8/9 [00:30<00:03,  3.86s/it]\u001b[A\n",
      "100%|█████████████████████████████████████████████████████████████████████████████████████| 9/9 [00:34<00:00,  3.79s/it]\u001b[A\n",
      " 50%|██████████████████████████████████████████▌                                          | 3/6 [01:44<01:43, 34.52s/it]\n",
      "  0%|                                                                                             | 0/9 [00:00<?, ?it/s]\u001b[A\n",
      " 11%|█████████▍                                                                           | 1/9 [00:03<00:28,  3.53s/it]\u001b[A\n",
      " 22%|██████████████████▉                                                                  | 2/9 [00:07<00:25,  3.66s/it]\u001b[A\n",
      " 33%|████████████████████████████▎                                                        | 3/9 [00:10<00:21,  3.64s/it]\u001b[A\n",
      " 44%|█████████████████████████████████████▊                                               | 4/9 [00:15<00:19,  3.83s/it]\u001b[A\n",
      " 56%|███████████████████████████████████████████████▏                                     | 5/9 [00:18<00:14,  3.70s/it]\u001b[A\n",
      " 67%|████████████████████████████████████████████████████████▋                            | 6/9 [00:22<00:11,  3.90s/it]\u001b[A\n",
      " 78%|██████████████████████████████████████████████████████████████████                   | 7/9 [00:27<00:08,  4.20s/it]\u001b[A\n",
      " 89%|███████████████████████████████████████████████████████████████████████████▌         | 8/9 [00:31<00:04,  4.10s/it]\u001b[A\n",
      "100%|█████████████████████████████████████████████████████████████████████████████████████| 9/9 [00:35<00:00,  3.94s/it]\u001b[A\n",
      " 67%|████████████████████████████████████████████████████████▋                            | 4/6 [02:19<01:09, 34.90s/it]\n",
      "  0%|                                                                                             | 0/9 [00:00<?, ?it/s]\u001b[A\n",
      " 11%|█████████▍                                                                           | 1/9 [00:03<00:29,  3.68s/it]\u001b[A\n",
      " 22%|██████████████████▉                                                                  | 2/9 [00:07<00:27,  3.86s/it]\u001b[A\n",
      " 33%|████████████████████████████▎                                                        | 3/9 [00:11<00:22,  3.74s/it]\u001b[A\n",
      " 44%|█████████████████████████████████████▊                                               | 4/9 [00:15<00:20,  4.06s/it]\u001b[A\n",
      " 56%|███████████████████████████████████████████████▏                                     | 5/9 [00:20<00:16,  4.24s/it]\u001b[A\n",
      " 67%|████████████████████████████████████████████████████████▋                            | 6/9 [00:24<00:12,  4.12s/it]\u001b[A\n",
      " 78%|██████████████████████████████████████████████████████████████████                   | 7/9 [00:27<00:07,  3.98s/it]\u001b[A\n",
      " 89%|███████████████████████████████████████████████████████████████████████████▌         | 8/9 [00:32<00:04,  4.03s/it]\u001b[A\n",
      "100%|█████████████████████████████████████████████████████████████████████████████████████| 9/9 [00:36<00:00,  4.00s/it]\u001b[A\n",
      " 83%|██████████████████████████████████████████████████████████████████████▊              | 5/6 [02:55<00:35, 35.31s/it]\n",
      "  0%|                                                                                             | 0/9 [00:00<?, ?it/s]\u001b[A\n",
      " 11%|█████████▍                                                                           | 1/9 [00:03<00:28,  3.58s/it]\u001b[A\n",
      " 22%|██████████████████▉                                                                  | 2/9 [00:07<00:27,  3.94s/it]\u001b[A\n",
      " 33%|████████████████████████████▎                                                        | 3/9 [00:11<00:24,  4.01s/it]\u001b[A\n",
      " 44%|█████████████████████████████████████▊                                               | 4/9 [00:15<00:20,  4.01s/it]\u001b[A\n",
      " 56%|███████████████████████████████████████████████▏                                     | 5/9 [00:19<00:15,  3.88s/it]\u001b[A\n",
      " 67%|████████████████████████████████████████████████████████▋                            | 6/9 [00:23<00:11,  3.92s/it]\u001b[A\n",
      " 78%|██████████████████████████████████████████████████████████████████                   | 7/9 [00:27<00:08,  4.09s/it]\u001b[A\n",
      " 89%|███████████████████████████████████████████████████████████████████████████▌         | 8/9 [00:31<00:03,  3.90s/it]\u001b[A\n",
      "100%|█████████████████████████████████████████████████████████████████████████████████████| 9/9 [00:35<00:00,  3.90s/it]\u001b[A\n"
     ]
    },
    {
     "name": "stderr",
     "output_type": "stream",
     "text": [
      "100%|█████████████████████████████████████████████████████████████████████████████████████| 6/6 [03:30<00:00, 35.14s/it]\n"
     ]
    }
   ],
   "source": [
    "#MAIN 2 (1 layer evo) ANCILLA METHOD\n",
    "\n",
    "n=6\n",
    "\n",
    "thetas = np.arange(1,10,1)\n",
    "C = np.zeros((n,len(thetas)),dtype=float)\n",
    "string='0'*(n+1)\n",
    "layers = np.array([j for j in range(1,step)])\n",
    "#specify the credentials when initializing QiskitRuntimeService, if they are not previously saved\n",
    "service = QiskitRuntimeService(channel=\"ibm_quantum\")\n",
    "backend = service.backend(\"simulator_statevector\")\n",
    "\n",
    "#settings job execution\n",
    "options = Options()\n",
    "options.execution.shots = 1000\n",
    "options.optimization_level = 1  # optimization\n",
    "options.resilience_level = 2  # mitigation\n",
    "\n",
    "for i in tqdm(range(1,n+1)):\n",
    "    for k,t in enumerate(tqdm(thetas)):\n",
    "        qc0 = QuantumCircuit(n+1)\n",
    "        qc = QuantumCircuit(n+1)\n",
    "        qcc = QuantumCircuit(n+1)\n",
    "        circ = QuantumCircuit(n+1)\n",
    "        final = QuantumCircuit(n+1)\n",
    "        qc0.h(0)\n",
    "        qc0.cx(0,1)\n",
    "        #fwd evolution\n",
    "        randbwassembler_1(qc,1,6)\n",
    "        ##W_j perturbation\n",
    "        qcc.z(i)\n",
    "        ##backwards evolution\n",
    "        qcc = qcc.compose(qc.inverse())\n",
    "        #put circuit together\n",
    "        circ = qc0.compose(qc.compose(qcc))\n",
    "        circ.cx(0,1,ctrl_state=0)\n",
    "        #QuantumCircuit.initialize(final, string)\n",
    "        final = final.compose(circ) \n",
    "        #generate operator to measure\n",
    "        op=generate_pauli_1(n,0)\n",
    "        #runtime\n",
    "        with Session(service=service, backend=backend) as session:\n",
    "            estimator_sim = Estimator(session=session, options=options)\n",
    "            job_sim = estimator_sim.run(circuits=[final], observables=[op])\n",
    "            values = job_sim.result().values\n",
    "        \n",
    "        C[i-1,k]=values"
   ]
  },
  {
   "cell_type": "code",
   "execution_count": 249,
   "id": "16de461d",
   "metadata": {},
   "outputs": [
    {
     "data": {
      "text/plain": [
       "SparsePauliOp(['XIIIIII'],\n",
       "              coeffs=[1.+0.j])"
      ]
     },
     "execution_count": 249,
     "metadata": {},
     "output_type": "execute_result"
    }
   ],
   "source": [
    "generate_pauli_1(6,0)"
   ]
  },
  {
   "cell_type": "code",
   "execution_count": 254,
   "id": "c8422cc0",
   "metadata": {},
   "outputs": [
    {
     "data": {
      "text/plain": [
       "<matplotlib.colorbar.Colorbar at 0x7ff0dfb6e6b0>"
      ]
     },
     "execution_count": 254,
     "metadata": {},
     "output_type": "execute_result"
    },
    {
     "data": {
      "image/png": "[encoded data removed]",
      "text/plain": [
       "<Figure size 640x480 with 2 Axes>"
      ]
     },
     "metadata": {},
     "output_type": "display_data"
    }
   ],
   "source": [
    "Cnew=np.flipud(np.transpose(C))\n",
    "plt.imshow(Cnew)\n",
    "plt.xlabel('Sites')\n",
    "plt.ylabel('Time')\n",
    "#plt.title('A='+str(A)+' T='+str(T)+' G='+str(G)+' size='+str(n)+' init='+str(init)+' step='+str(step))\n",
    "plt.colorbar()"
   ]
  },
  {
   "cell_type": "code",
   "execution_count": null,
   "id": "e0e2a617",
   "metadata": {},
   "outputs": [],
   "source": [
    "#saving data\n",
    "with open('tau='+str(tau)+' h='+str(h)+' J='+str(J)+' n='+str(n)+' init: '+str(string), 'wb') as file:\n",
    "      \n",
    "    # A new file will be created\n",
    "    pickle.dump(ent_entropy, file)"
   ]
  },
  {
   "cell_type": "code",
   "execution_count": null,
   "id": "8e5ad723",
   "metadata": {},
   "outputs": [],
   "source": [
    "#loading data\n",
    "with open('tau='+str(tau)+' h='+str(h)+' J='+str(J)+' n=10', 'rb') as file:\n",
    "    loaded_data = pickle.load(file)"
   ]
  },
  {
   "cell_type": "code",
   "execution_count": 252,
   "id": "1ad5483c",
   "metadata": {},
   "outputs": [],
   "source": [
    "#OTOC\n",
    "#PLUS PART\n",
    "\n",
    "\n",
    "def circ(n,A,T,G,step,layers,pos,init):\n",
    "    matrix = U(A,T/step,G)\n",
    "    qc=QuantumCircuit(n+1)\n",
    "    #init\n",
    "    #string = init\n",
    "    #QuantumCircuit.initialize(qcp,string)\n",
    "    X = np.array([[0,1],[1,0]])\n",
    "    qc.h(0)\n",
    "    \n",
    "    \n",
    "    \n",
    "    #V_i perturbation +pi/2\n",
    "    qcp.ry((np.pi/2),n//2,label='V_plus')\n",
    "    #fwd evolution\n",
    "    qcp.barrier(range(n))\n",
    "    qcp.barrier(range(n))\n",
    "    bwassembler(qcp,matrix,layers,n)\n",
    "    #W_j perturbation\n",
    "    qcp.z(pos)\n",
    "    #backwards evolution\n",
    "    qcp.barrier(range(n))\n",
    "    qcp.barrier(range(n))\n",
    "    revbwassembler(qcp,matrix,layers,n)\n",
    "    #transpiling\n",
    "    basis_gates=['cx', 'id', 'rz', 'x', 'sx']\n",
    "    trans_plus=transpile(qcp, basis_gates=basis_gates, optimization_level=2)\n",
    "    \n",
    "    return trans_plus\n",
    "\n",
    "\n",
    "#define unitary\n",
    "def U(A,T,G):\n",
    "    U = np.zeros((4,4), dtype=complex)\n",
    "    \n",
    "    U[0,0]=(-1+2*1j*A*np.cosh(G/2)*(1/np.sinh(T)))/np.sqrt((1+2*A**(2)*(1/np.tanh(T))*(1/np.sinh(T)))+2*A**(2)*np.cosh(G)*(1/np.sinh(T))**2)\n",
    "    \n",
    "    U[0,3]=(1j*A*(1/np.cosh(T/2)))/np.sqrt((1+2*A**(2)*(1/np.tanh(T))*(1/np.sinh(T)))+2*A**(2)*np.cosh(G)*(1/np.sinh(T))**2)\n",
    "    \n",
    "    U[1,1]=(1j*A*(1/np.sinh(T/2)))/np.sqrt((1+2*A**(2)*(1/np.tanh(T))*(1/np.sinh(T)))+2*A**(2)*np.cosh(G)*(1/np.sinh(T))**2)\n",
    "    \n",
    "    U[1,2]=(-1+2*1j*A*(1/np.sinh(T))*np.sinh(G/2))/np.sqrt((1+2*A**(2)*(1/np.tanh(T))*(1/np.sinh(T)))+2*A**(2)*np.cosh(G)*(1/np.sinh(T))**2)\n",
    "    \n",
    "    U[2,1]=(-1-2*1j*A*(1/np.sinh(T))*np.sinh(G/2))/np.sqrt((1+2*A**(2)*(1/np.tanh(T))*(1/np.sinh(T)))+2*A**(2)*np.cosh(G)*(1/np.sinh(T))**2)\n",
    "    \n",
    "    U[2,2]=(1j*A*(1/np.sinh(T/2)))/np.sqrt((1+2*A**(2)*(1/np.tanh(T))*(1/np.sinh(T)))+2*A**(2)*np.cosh(G)*(1/np.sinh(T))**2)\n",
    "    \n",
    "    U[3,0]=-(1j*A*(1/np.cosh(T/2)))/np.sqrt((1+2*A**(2)*(1/np.tanh(T))*(1/np.sinh(T)))+2*A**(2)*np.cosh(G)*(1/np.sinh(T))**2)\n",
    "    \n",
    "    U[3,3]=(1+2*1j*A*np.cosh(G/2)*(1/np.sinh(T)))/np.sqrt((1+2*A**(2)*(1/np.tanh(T))*(1/np.sinh(T)))+2*A**(2)*np.cosh(G)*(1/np.sinh(T))**2)\n",
    "    \n",
    "    return(U)\n",
    "\n",
    "#define BW\n",
    "def bwassembler_1(qc,matrix,layers,n):\n",
    "    \n",
    "    m=0\n",
    "    while m < layers:\n",
    "        i=0;j=0;    \n",
    "        #even layer\n",
    "        while i < n/2:\n",
    "            qc.unitary(matrix, [2*i+1,2*i+2])\n",
    "            i+=1;\n",
    "        qc.barrier(range(n+1))\n",
    "        \n",
    "        \n",
    "        #odd layer\n",
    "        while j < n/2:\n",
    "            \n",
    "            if j == (n/2 - 1):\n",
    "                qc.unitary(matrix,[2*j+2,1])\n",
    "            else:\n",
    "                qc.unitary(matrix, [2*j+2,2*j+3])\n",
    "            \n",
    "            j+=1;\n",
    "        qc.barrier(range(n+1))\n",
    "        \n",
    "        \n",
    "        m+=1\n",
    "    qc.barrier(range(n+1))\n",
    "    return(qc)\n",
    "\n",
    "#define reversed BW\n",
    "def revbwassembler_1(qc,matrix,layers,n):\n",
    "    matrix=matrix.conj().T\n",
    "    m=0\n",
    "    while m < layers:\n",
    "        i=0;j=0;    \n",
    "        \n",
    "        #odd layer\n",
    "        while j < n/2:\n",
    "            \n",
    "            if j == (n/2 - 1):\n",
    "                qc.unitary(matrix,[2*j+2,1])\n",
    "            else:\n",
    "                qc.unitary(matrix, [2*j+2,2*j+3])\n",
    "            \n",
    "            j+=1;\n",
    "        qc.barrier(range(n+1))\n",
    "        \n",
    "        #even layer\n",
    "        while i < n/2:\n",
    "            qc.unitary(matrix, [2*i+1,2*i+2])\n",
    "            i+=1;\n",
    "        qc.barrier(range(n+1))\n",
    "        \n",
    "        \n",
    "        m+=1\n",
    "    qc.barrier(range(n+1))\n",
    "    return(qc)\n",
    "\n",
    "#define random BW\n",
    "def randbwassembler(qc,layers,n):\n",
    "    \n",
    "    m=0\n",
    "    while m < layers:\n",
    "        i=0;j=0;    \n",
    "        \n",
    "        #odd layer\n",
    "        while j < n/2:\n",
    "            \n",
    "            if j == (n/2 - 1):\n",
    "                qc.unitary(unitary_group.rvs(4),[2*j+1,0])\n",
    "            else:\n",
    "                qc.unitary(unitary_group.rvs(4), [2*j+1,2*j+2])\n",
    "            \n",
    "            j+=1;\n",
    "        qc.barrier(range(n))\n",
    "        \n",
    "        #even layer\n",
    "        while i < n/2:\n",
    "            qc.unitary(unitary_group.rvs(4), [2*i,2*i+1])\n",
    "            i+=1;\n",
    "        qc.barrier(range(n))\n",
    "        \n",
    "        \n",
    "        m+=1\n",
    "    qc.barrier(range(n))\n",
    "    return(qc)\n",
    "def randbwassembler_1(qc,layers,n):\n",
    "    \n",
    "    m=0\n",
    "    while m < layers:\n",
    "        i=0;j=0;    \n",
    "        \n",
    "        #odd layer\n",
    "        while j < n/2:\n",
    "            \n",
    "            if j == (n/2 - 1):\n",
    "                qc.unitary(unitary_group.rvs(4),[2*j+2,1])\n",
    "            else:\n",
    "                qc.unitary(unitary_group.rvs(4), [2*j+2,2*j+3])\n",
    "            \n",
    "            j+=1;\n",
    "        qc.barrier(range(n+1))\n",
    "        \n",
    "        #even layer\n",
    "        while i < n/2:\n",
    "            qc.unitary(unitary_group.rvs(4), [2*i+1,2*i+2])\n",
    "            i+=1;\n",
    "        qc.barrier(range(n+1))\n",
    "        \n",
    "        \n",
    "        m+=1\n",
    "    qc.barrier(range(n+1))\n",
    "    return(qc)\n",
    "#define operators to measure\n",
    "def generate_pauli(n, j):\n",
    "    if n <= 0 or j < 0 or  j >= n:\n",
    "        raise ValueError(\"Invalid input values\")\n",
    "    \n",
    "    pauli_str = \"I\" * n  # Initialize with n identity operators\n",
    "    # Set the Z at position i and j\n",
    "    pauli_str_list = list(pauli_str)\n",
    "    pauli_str_list[j] = \"X\"\n",
    "    pauli_str = \"\".join(pauli_str_list)\n",
    "    op = SparsePauliOp(pauli_str, coeffs=[1])\n",
    "    \n",
    "    return op\n",
    "\n",
    "#define operators to measure\n",
    "def generate_pauli_1(n, j):\n",
    "    if n <= 0 or j < 0 or  j >= n:\n",
    "        raise ValueError(\"Invalid input values\")\n",
    "    \n",
    "    pauli_str = \"I\" * (n+1)  # Initialize with n identity operators\n",
    "    # Set the Z at position i and j\n",
    "    pauli_str_list = list(pauli_str)\n",
    "    pauli_str_list[j] = \"Y\"\n",
    "    pauli_str = \"\".join(pauli_str_list)\n",
    "    op = SparsePauliOp(pauli_str, coeffs=[1])\n",
    "    \n",
    "    return op\n",
    "\n",
    "def prodstaten(n):\n",
    "    \n",
    "    X = np.array([[0,1],[1,0]])\n",
    "    X0 = np.zeros((n,2**n,2**n),dtype = complex)\n",
    "    \n",
    "    for i in range(0,n):   \n",
    "        X0[i]=np.kron(np.kron(np.eye(2**i),X),np.eye(2**(n-i-1)))\n",
    "    operator = np.eye(2**n)\n",
    "    for i in range(0,n//2):\n",
    "        operator = (X0[2*i]+1j*X0[2*i+1])@operator\n",
    "    return (1/np.sqrt(2**(n//2)))*operator\n",
    "    \n",
    "def bell_pair1(qc, a, b):\n",
    "    \n",
    "    qc.h(a) # Put qubit a into state |+> or |-> using hadamard gate\n",
    "    qc.cx(a,b) # CNOT with a as control and b as target\n",
    "    \n",
    "def bell_pair4(qc,a,b):\n",
    "    \n",
    "    qc.h(a)\n",
    "    qc.x(b)\n",
    "    qc.z(a)\n",
    "    qc.z(b)\n",
    "    qc.cx(a,b)"
   ]
  },
  {
   "cell_type": "code",
   "execution_count": 107,
   "id": "38f47177",
   "metadata": {
    "scrolled": true
   },
   "outputs": [
    {
     "data": {
      "image/png": "[encoded data removed]",
      "text/plain": [
       "<Figure size 2210.55x1287.61 with 1 Axes>"
      ]
     },
     "execution_count": 107,
     "metadata": {},
     "output_type": "execute_result"
    }
   ],
   "source": [
    "n,A,T,G,step,layers,pos=6,1,1,0,1,1,5\n",
    "matrix = U(A,T/step,G)\n",
    "qc=QuantumCircuit(n+1)\n",
    "#init\n",
    "#string = init\n",
    "#QuantumCircuit.initialize(qcp,string)\n",
    "X = np.array([[0,1],[1,0]])\n",
    "\n",
    "qc.h(0)\n",
    "X = np.array([[0,1],[1,0]])\n",
    "#creation of controlled unitary\n",
    "v_gate = UnitaryGate(X, label='CU') #this gate will have to be the whole evolution circuit \n",
    "\n",
    "v_gate = v_gate.control(ctrl_state='1')\n",
    "qc.append(v_gate, [0,n//2])\n",
    "\n",
    "#fwd evolution\n",
    "qc.barrier(range(n+1))\n",
    "qc.barrier(range(n+1))\n",
    "bwassembler_1(qc,matrix,layers,n)\n",
    "#W_j perturbation\n",
    "qc.z(pos)\n",
    "#backwards evolution\n",
    "qc.barrier(range(n+1))\n",
    "qc.barrier(range(n+1))\n",
    "revbwassembler_1(qc,matrix,layers,n)\n",
    "qc.append(v_gate, [0,n//2])\n",
    "\n",
    "#transpiling\n",
    "basis_gates=['cx', 'id', 'rz', 'x', 'sx']\n",
    "#trans_plus=transpile(qc, basis_gates=basis_gates, optimization_level=2)\n",
    "qc.draw(output='mpl',style={'displaycolor':dispcolors}, filename='my_circuit.pdf')"
   ]
  },
  {
   "cell_type": "code",
   "execution_count": 246,
   "id": "503a9c94",
   "metadata": {},
   "outputs": [
    {
     "data": {
      "image/png": "[encoded data removed]",
      "text/plain": [
       "<Figure size 1792.5x618.722 with 1 Axes>"
      ]
     },
     "execution_count": 246,
     "metadata": {},
     "output_type": "execute_result"
    }
   ],
   "source": [
    "n=6\n",
    "qc0 = QuantumCircuit(n+1)\n",
    "qc = QuantumCircuit(n+1)\n",
    "qcc = QuantumCircuit(n+1)\n",
    "circ = QuantumCircuit(n+1)\n",
    "final = QuantumCircuit(n+1)\n",
    "qc0.h(0)\n",
    "qc0.cx(0,1)\n",
    "#fwd evolution\n",
    "randbwassembler_1(qc,1,6)\n",
    "##W_j perturbation\n",
    "qcc.z(i)\n",
    "##backwards evolution\n",
    "qcc = qcc.compose(qc.inverse())\n",
    "#put circuit together\n",
    "circ = qc0.compose(qc.compose(qcc))\n",
    "circ.cx(0,1,ctrl_state=0)\n",
    "#QuantumCircuit.initialize(final, string)\n",
    "final = final.compose(circ) \n",
    "\n",
    "final.draw(output='mpl',style={'displaycolor':dispcolors}, filename='my_circuit.pdf')"
   ]
  },
  {
   "cell_type": "code",
   "execution_count": 190,
   "id": "9df28d96",
   "metadata": {},
   "outputs": [
    {
     "data": {
      "text/latex": [
       "$$ |0000\\rangle$$"
      ],
      "text/plain": [
       "<IPython.core.display.Latex object>"
      ]
     },
     "execution_count": 190,
     "metadata": {},
     "output_type": "execute_result"
    }
   ],
   "source": [
    "# Set the initial state of the simulator to the ground state using from_int\n",
    "state = Statevector.from_int(0, 2**4)\n",
    "state.draw('latex')"
   ]
  },
  {
   "cell_type": "code",
   "execution_count": 192,
   "id": "48f682eb",
   "metadata": {},
   "outputs": [
    {
     "data": {
      "text/latex": [
       "$$ |0000\\rangle$$"
      ],
      "text/plain": [
       "<IPython.core.display.Latex object>"
      ]
     },
     "execution_count": 192,
     "metadata": {},
     "output_type": "execute_result"
    }
   ],
   "source": [
    "# Evolve the state by the quantum circuit\n",
    "state = state.evolve(qc)\n",
    "\n",
    "#draw using latex\n",
    "state.draw('latex')\n",
    "\n",
    "#Alternative way of representing in latex\n",
    "#array_to_latex(state)"
   ]
  },
  {
   "cell_type": "code",
   "execution_count": null,
   "id": "6d50b74b",
   "metadata": {},
   "outputs": [],
   "source": []
  }
 ],
 "metadata": {
  "kernelspec": {
   "display_name": "Python 3 (ipykernel)",
   "language": "python",
   "name": "python3"
  },
  "language_info": {
   "codemirror_mode": {
    "name": "ipython",
    "version": 3
   },
   "file_extension": ".py",
   "mimetype": "text/x-python",
   "name": "python",
   "nbconvert_exporter": "python",
   "pygments_lexer": "ipython3",
   "version": "3.10.9"
  }
 },
 "nbformat": 4,
 "nbformat_minor": 5
}
