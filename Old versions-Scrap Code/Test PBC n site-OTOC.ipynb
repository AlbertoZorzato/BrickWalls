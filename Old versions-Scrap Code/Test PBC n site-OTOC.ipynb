{
 "cells": [
  {
   "cell_type": "code",
   "execution_count": 97,
   "id": "3c8c7fc2",
   "metadata": {},
   "outputs": [],
   "source": [
    "from tqdm import tqdm\n",
    "from qiskit import quantum_info\n",
    "from qiskit.quantum_info import DensityMatrix, Statevector, partial_trace\n",
    "from qiskit.visualization import plot_histogram\n",
    "import matplotlib.pyplot as plt\n",
    "import numpy as np\n",
    "#from qiskit_experiments.framework import ParallelExperiment\n",
    "from qiskit_experiments.library import StateTomography\n",
    "from qiskit.providers.aer import AerSimulator\n",
    "from qiskit.providers.fake_provider import FakeParis\n",
    "from numpy.linalg import norm \n",
    "import cvxpy\n",
    "#set noisy simulator backend \n",
    "backend = AerSimulator.from_backend(FakeParis())\n",
    "from qiskit import QuantumCircuit, transpile\n",
    "from qiskit.quantum_info import Operator\n",
    "from qiskit.transpiler import PassManager\n",
    "from qiskit.transpiler.passes import Unroller\n",
    "#visualization\n",
    "from qiskit.visualization import plot_state_city\n",
    "from qiskit.visualization import plot_histogram\n",
    "from qiskit import QuantumCircuit\n",
    "from qiskit.quantum_info import SparsePauliOp\n",
    "from qiskit.circuit import Parameter\n",
    "from qiskit.primitives import Estimator\n",
    "from qiskit_ibm_runtime import Estimator, Session, QiskitRuntimeService, Options, Sampler"
   ]
  },
  {
   "cell_type": "code",
   "execution_count": 56,
   "id": "68a852ad",
   "metadata": {},
   "outputs": [
    {
     "data": {
      "text/plain": [
       "True"
      ]
     },
     "execution_count": 56,
     "metadata": {},
     "output_type": "execute_result"
    }
   ],
   "source": [
    "mat=U(1,1,1)\n",
    "uni = mat.conj().T@mat\n",
    "np.allclose(np.eye(4),uni,atol=1e-15)"
   ]
  },
  {
   "cell_type": "code",
   "execution_count": null,
   "id": "e1949bbc",
   "metadata": {},
   "outputs": [],
   "source": [
    "dispcolors = {'cx':('#426299', '#000000'),\n",
    "              'cswap':('#705399', '#000000'),\n",
    "              'cp':('#CFFF8B', '#000000')}"
   ]
  },
  {
   "cell_type": "code",
   "execution_count": null,
   "id": "7d70ca35",
   "metadata": {},
   "outputs": [],
   "source": [
    "#sqrt(iSWAP)\n",
    "sqiswap = np.array( [\n",
    "    [1, 0, 0, 0],\n",
    "    [0, 1/np.sqrt(2), 1j/np.sqrt(2), 0],\n",
    "    [0, 1j/np.sqrt(2), 1/np.sqrt(2), 0],\n",
    "    [0, 0, 0, 1] ])"
   ]
  },
  {
   "cell_type": "code",
   "execution_count": 116,
   "id": "c7135bf4",
   "metadata": {},
   "outputs": [],
   "source": [
    "# Save an IBM Quantum account.\n",
    "QiskitRuntimeService.save_account(channel=\"ibm_quantum\", token=\"b58a80862cd6d4e3f8618d0fb10c85a7415315bcf55dd407e498ce33bdd4709623e266b4fdee952700733135cd2fa847c7bffa65966a4efb0aa2ae6a4ad7b583\", overwrite=True)"
   ]
  },
  {
   "cell_type": "code",
   "execution_count": 128,
   "id": "c2bb973f",
   "metadata": {},
   "outputs": [],
   "source": [
    "#EXECUTION PARAMETERS\n",
    "n,A,T,G,step,layers=4,1,1,1,10,1\n",
    "j=3"
   ]
  },
  {
   "cell_type": "code",
   "execution_count": 129,
   "id": "c2d1f5e2",
   "metadata": {
    "scrolled": true
   },
   "outputs": [],
   "source": [
    "#OTOC\n",
    "#PLUS PART\n",
    "\n",
    "\n",
    "\n",
    "matrix = U(A,T/step,G)\n",
    "qcp=QuantumCircuit(n)\n",
    "#init\n",
    "string = \"0\" * n\n",
    "QuantumCircuit.initialize(qcp,'0111')\n",
    "#V_i perturbation +pi/2\n",
    "qcp.ry((np.pi/2),0,label='V_plus')\n",
    "#fwd evolution\n",
    "qcp.barrier(range(n))\n",
    "qcp.barrier(range(n))\n",
    "bwassembler(qcp,matrix,layers,n)\n",
    "#W_j perturbation\n",
    "qcp.z(j)\n",
    "#backwards evolution\n",
    "qcp.barrier(range(n))\n",
    "qcp.barrier(range(n))\n",
    "revbwassembler(qcp,matrix,layers,n)\n",
    "#measurement \n",
    "op=generate_pauli(n,0)\n",
    "basis_gates=['cx', 'id', 'rz', 'x', 'sx']\n",
    "trans_plus=transpile(qcp, basis_gates=basis_gates, optimization_level=3)\n",
    "#qcp.draw(output='mpl',style={'displaycolor':dispcolors}, filename='my_circuit.pdf')\n"
   ]
  },
  {
   "cell_type": "code",
   "execution_count": 130,
   "id": "2ac1b982",
   "metadata": {},
   "outputs": [],
   "source": [
    "#OTOC\n",
    "#MINUS PART\n",
    "\n",
    "\n",
    "\n",
    "matrix = U(A,T/step,G)\n",
    "qcp=QuantumCircuit(n)\n",
    "#init\n",
    "string = \"0\" * n\n",
    "QuantumCircuit.initialize(qcp,'0111')\n",
    "#V_i perturbation -pi/2\n",
    "qcp.ry((-np.pi/2),0,label='V_minus')\n",
    "#fwd evolution\n",
    "qcp.barrier(range(n))\n",
    "qcp.barrier(range(n))\n",
    "bwassembler(qcp,matrix,layers,n)\n",
    "#W_j perturbation\n",
    "qcp.z(j)\n",
    "#backwards evolution\n",
    "qcp.barrier(range(n))\n",
    "qcp.barrier(range(n))\n",
    "revbwassembler(qcp,matrix,layers,n)\n",
    "#measurement \n",
    "op=generate_pauli(n,0)\n",
    "basis_gates=['cx', 'id', 'rz', 'x', 'sx']\n",
    "trans_minus=transpile(qcp, basis_gates=basis_gates, optimization_level=3)\n",
    "#qcp.draw(output='mpl',style={'displaycolor':dispcolors}, filename='my_circuit.pdf')\n"
   ]
  },
  {
   "cell_type": "code",
   "execution_count": 131,
   "id": "5b0f474e",
   "metadata": {},
   "outputs": [],
   "source": [
    "#RUNTIME\n",
    "\n",
    "\n",
    "#specify the credentials when initializing QiskitRuntimeService, if they are not previously saved\n",
    "service = QiskitRuntimeService(channel=\"ibm_quantum\")\n",
    "backend = service.backend(\"simulator_statevector\")\n",
    "\n",
    "\n",
    "\n",
    "#settings job execution\n",
    "service = QiskitRuntimeService(channel=\"ibm_quantum\")\n",
    "options = Options()\n",
    "options.execution.shots = 1000\n",
    "options.optimization_level = 2  # optimization\n",
    "options.resilience_level = 2  # mitigation\n",
    "\n",
    "\n",
    "#runtime plus\n",
    "with Session(service=service, backend=backend) as session:\n",
    "    estimator_sim = Estimator(session=session, options=options)\n",
    "    job_sim = estimator_sim.run(circuits=[trans_plus], observables=[op])\n",
    "    values_plus = job_sim.result().values\n",
    "#runtime minus\n",
    "with Session(service=service, backend=backend) as session:\n",
    "    estimator_sim = Estimator(session=session, options=options)\n",
    "    job_sim = estimator_sim.run(circuits=[trans_minus], observables=[op])\n",
    "    values_minus = job_sim.result().values"
   ]
  },
  {
   "cell_type": "code",
   "execution_count": 132,
   "id": "eef7b965",
   "metadata": {},
   "outputs": [
    {
     "name": "stdout",
     "output_type": "stream",
     "text": [
      "[-0.5235] [-0.53966667] [1.98383333]\n"
     ]
    }
   ],
   "source": [
    "#DATA PROCESSING\n",
    "\n",
    "\n",
    "C=2+values_minus-values_plus\n",
    "\n",
    "print(values_plus, values_minus,C)"
   ]
  },
  {
   "cell_type": "code",
   "execution_count": 76,
   "id": "594831e4",
   "metadata": {
    "collapsed": true
   },
   "outputs": [
    {
     "data": {
      "image/png": "[encoded data removed]",
      "text/plain": [
       "<Figure size 2210.55x785.944 with 1 Axes>"
      ]
     },
     "execution_count": 76,
     "metadata": {},
     "output_type": "execute_result"
    }
   ],
   "source": [
    "qcp.draw(output='mpl',style={'displaycolor':dispcolors}, filename='my_circuit.pdf')"
   ]
  },
  {
   "cell_type": "code",
   "execution_count": null,
   "id": "e0e2a617",
   "metadata": {},
   "outputs": [],
   "source": [
    "#saving data\n",
    "with open('tau='+str(tau)+' h='+str(h)+' J='+str(J)+' n='+str(n)+' init: '+str(string), 'wb') as file:\n",
    "      \n",
    "    # A new file will be created\n",
    "    pickle.dump(ent_entropy, file)"
   ]
  },
  {
   "cell_type": "code",
   "execution_count": null,
   "id": "8e5ad723",
   "metadata": {},
   "outputs": [],
   "source": [
    "#loading data\n",
    "with open('tau='+str(tau)+' h='+str(h)+' J='+str(J)+' n=10', 'rb') as file:\n",
    "    loaded_data = pickle.load(file)"
   ]
  },
  {
   "cell_type": "code",
   "execution_count": 81,
   "id": "1ad5483c",
   "metadata": {},
   "outputs": [],
   "source": [
    "#define unitary\n",
    "def U(A,T,G):\n",
    "    U = np.zeros((4,4), dtype=complex)\n",
    "    \n",
    "    U[0,0]=(-1+2*1j*A*np.cosh(G/2)*(1/np.sinh(T)))/np.sqrt((1+2*A**(2)*(1/np.tanh(T))*(1/np.sinh(T)))+2*A**(2)*np.cosh(G)*(1/np.sinh(T))**2)\n",
    "    \n",
    "    U[0,3]=(1j*A*(1/np.cosh(T/2)))/np.sqrt((1+2*A**(2)*(1/np.tanh(T))*(1/np.sinh(T)))+2*A**(2)*np.cosh(G)*(1/np.sinh(T))**2)\n",
    "    \n",
    "    U[1,1]=(1j*A*(1/np.sinh(T/2)))/np.sqrt((1+2*A**(2)*(1/np.tanh(T))*(1/np.sinh(T)))+2*A**(2)*np.cosh(G)*(1/np.sinh(T))**2)\n",
    "    \n",
    "    U[1,2]=(-1+2*1j*A*(1/np.sinh(T))*np.sinh(G/2))/np.sqrt((1+2*A**(2)*(1/np.tanh(T))*(1/np.sinh(T)))+2*A**(2)*np.cosh(G)*(1/np.sinh(T))**2)\n",
    "    \n",
    "    U[2,1]=(-1-2*1j*A*(1/np.sinh(T))*np.sinh(G/2))/np.sqrt((1+2*A**(2)*(1/np.tanh(T))*(1/np.sinh(T)))+2*A**(2)*np.cosh(G)*(1/np.sinh(T))**2)\n",
    "    \n",
    "    U[2,2]=(1j*A*(1/np.sinh(T/2)))/np.sqrt((1+2*A**(2)*(1/np.tanh(T))*(1/np.sinh(T)))+2*A**(2)*np.cosh(G)*(1/np.sinh(T))**2)\n",
    "    \n",
    "    U[3,0]=-(1j*A*(1/np.cosh(T/2)))/np.sqrt((1+2*A**(2)*(1/np.tanh(T))*(1/np.sinh(T)))+2*A**(2)*np.cosh(G)*(1/np.sinh(T))**2)\n",
    "    \n",
    "    U[3,3]=(1+2*1j*A*np.cosh(G/2)*(1/np.sinh(T)))/np.sqrt((1+2*A**(2)*(1/np.tanh(T))*(1/np.sinh(T)))+2*A**(2)*np.cosh(G)*(1/np.sinh(T))**2)\n",
    "    \n",
    "    return(U)\n",
    "\n",
    "def bwassembler(qc,matrix,layers,n):\n",
    "    \n",
    "    m=0\n",
    "    while m < layers:\n",
    "        i=0;j=0;    \n",
    "        #even layer\n",
    "        while i < n/2:\n",
    "            qc.unitary(matrix, [2*i,2*i+1])\n",
    "            i+=1;\n",
    "        qc.barrier(range(n))\n",
    "        \n",
    "        \n",
    "        #odd layer\n",
    "        while j < n/2:\n",
    "            \n",
    "            if j == (n/2 - 1):\n",
    "                qc.unitary(matrix,[2*j+1,0])\n",
    "            else:\n",
    "                qc.unitary(matrix, [2*j+1,2*j+2])\n",
    "            \n",
    "            j+=1;\n",
    "        qc.barrier(range(n))\n",
    "        \n",
    "        \n",
    "        m+=1\n",
    "    qc.barrier(range(n))\n",
    "    return(qc)\n",
    "\n",
    "def revbwassembler(qc,matrix,layers,n):\n",
    "    matrix=matrix.conj().T\n",
    "    m=0\n",
    "    while m < layers:\n",
    "        i=0;j=0;    \n",
    "        \n",
    "        #odd layer\n",
    "        while j < n/2:\n",
    "            \n",
    "            if j == (n/2 - 1):\n",
    "                qc.unitary(matrix,[2*j+1,0])\n",
    "            else:\n",
    "                qc.unitary(matrix, [2*j+1,2*j+2])\n",
    "            \n",
    "            j+=1;\n",
    "        qc.barrier(range(n))\n",
    "        \n",
    "        #even layer\n",
    "        while i < n/2:\n",
    "            qc.unitary(matrix, [2*i,2*i+1])\n",
    "            i+=1;\n",
    "        qc.barrier(range(n))\n",
    "        \n",
    "        \n",
    "        m+=1\n",
    "    qc.barrier(range(n))\n",
    "    return(qc)\n",
    "\n",
    "\n",
    "def generate_pauli(n, j):\n",
    "    if n <= 0 or j < 0 or  j >= n:\n",
    "        raise ValueError(\"Invalid input values\")\n",
    "    \n",
    "    pauli_str = \"I\" * n  # Initialize with n identity operators\n",
    "    # Set the Z at position i and j\n",
    "    pauli_str_list = list(pauli_str)\n",
    "    pauli_str_list[j] = \"Z\"\n",
    "    pauli_str = \"\".join(pauli_str_list)\n",
    "    op = SparsePauliOp(pauli_str, coeffs=[1])\n",
    "    \n",
    "    \n",
    "\n",
    "    return op"
   ]
  },
  {
   "cell_type": "code",
   "execution_count": null,
   "id": "67db51d5",
   "metadata": {},
   "outputs": [],
   "source": []
  }
 ],
 "metadata": {
  "kernelspec": {
   "display_name": "Python 3 (ipykernel)",
   "language": "python",
   "name": "python3"
  },
  "language_info": {
   "codemirror_mode": {
    "name": "ipython",
    "version": 3
   },
   "file_extension": ".py",
   "mimetype": "text/x-python",
   "name": "python",
   "nbconvert_exporter": "python",
   "pygments_lexer": "ipython3",
   "version": "3.10.9"
  }
 },
 "nbformat": 4,
 "nbformat_minor": 5
}
