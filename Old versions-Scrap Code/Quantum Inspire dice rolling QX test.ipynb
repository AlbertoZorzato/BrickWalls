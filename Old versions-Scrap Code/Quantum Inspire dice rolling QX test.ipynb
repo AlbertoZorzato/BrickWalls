{
 "cells": [
  {
   "cell_type": "code",
   "execution_count": 11,
   "id": "950c36da",
   "metadata": {},
   "outputs": [
    {
     "name": "stdout",
     "output_type": "stream",
     "text": [
      "swig/python detected a memory leak of type 'std::optional< qx::SimulationError > *', no destructor found.\n",
      "swig/python detected a memory leak of type 'std::optional< qx::SimulationError > *', no destructor found.\n",
      "swig/python detected a memory leak of type 'std::optional< qx::SimulationError > *', no destructor found.\n",
      "[OPENQL] /__w/OpenQL/OpenQL/src/ql/api/misc.cc:46 Info: re-initializing OpenQL library\n"
     ]
    }
   ],
   "source": [
    "from openql import openql as ql\n",
    "import qxelarator\n",
    "from functools import reduce\n",
    "import os\n",
    "import matplotlib.pyplot as plt\n",
    "ql.initialize()\n",
    "ql.set_option('output_dir', 'output')\n",
    "ql.set_option('log_level', 'LOG_INFO')\n",
    "\n",
    "nqubits = 3"
   ]
  },
  {
   "cell_type": "code",
   "execution_count": 68,
   "id": "2b3b527b",
   "metadata": {},
   "outputs": [
    {
     "name": "stdout",
     "output_type": "stream",
     "text": [
      "Enter mail address\n",
      "a.zorzato@uva.nl\n",
      "Enter password\n",
      "········\n"
     ]
    }
   ],
   "source": [
    "from getpass import getpass\n",
    "from coreapi.auth import BasicAuthentication\n",
    "from quantuminspire.api import QuantumInspireAPI\n",
    "\n",
    "print('Enter mail address')\n",
    "email = input()\n",
    "\n",
    "print('Enter password')\n",
    "password = getpass()\n",
    "\n",
    "server_url = r'https://api.quantum-inspire.com'\n",
    "authentication = BasicAuthentication(email, password)\n",
    "qi = QuantumInspireAPI(server_url, authentication)\n"
   ]
  },
  {
   "cell_type": "code",
   "execution_count": 70,
   "id": "2e6128e0",
   "metadata": {},
   "outputs": [],
   "source": [
    "from quantuminspire.credentials import save_account\n",
    "save_account('1549f0e9cf336b539c2fea0d4f0869ce002d9900')"
   ]
  },
  {
   "cell_type": "code",
   "execution_count": 71,
   "id": "ff39fac0",
   "metadata": {},
   "outputs": [],
   "source": [
    "#Qiskit token authentication, at beginning of each session\n",
    "from quantuminspire.qiskit import QI\n",
    "QI.set_authentication()"
   ]
  },
  {
   "cell_type": "code",
   "execution_count": 76,
   "id": "27ce1cf1",
   "metadata": {},
   "outputs": [
    {
     "name": "stderr",
     "output_type": "stream",
     "text": [
      "Your experiment can not be optimized and may take longer to execute, see https://www.quantum-inspire.com/kbase/optimization-of-simulations/ for details.\n"
     ]
    },
    {
     "name": "stdout",
     "output_type": "stream",
     "text": [
      "[OrderedDict([('0', 0.3), ('3', 0.7)])]\n"
     ]
    }
   ],
   "source": [
    "server_url = r'https://api.quantum-inspire.com'\n",
    "authentication = BasicAuthentication(email, password)\n",
    "qi = QuantumInspireAPI(server_url, authentication)\n",
    "\n",
    "qasm = '''version 1.0\n",
    "\n",
    "qubits 2\n",
    "\n",
    "H q[0]\n",
    "CNOT q[0], q[1]\n",
    "Measure q[0,1]\n",
    "'''\n",
    "\n",
    "backend_type = qi.get_backend_type_by_name('QX single-node simulator')\n",
    "result = qi.execute_qasm(qasm, backend_type=backend_type, number_of_shots=10)\n",
    "\n",
    "if result.get('histogram', {}):\n",
    "    print(result['histogram'])\n",
    "else:\n",
    "    reason = result.get('raw_text', 'No reason in result structure.')\n",
    "    print(f'Result structure does not contain proper histogram data. {reason}')"
   ]
  },
  {
   "cell_type": "code",
   "execution_count": 75,
   "id": "be4af806",
   "metadata": {},
   "outputs": [],
   "source": [
    "QI.set_authentication(authentication, project_name='TestQI')"
   ]
  },
  {
   "cell_type": "code",
   "execution_count": null,
   "id": "8faa3a4d",
   "metadata": {},
   "outputs": [],
   "source": []
  }
 ],
 "metadata": {
  "kernelspec": {
   "display_name": "Python 3 (ipykernel)",
   "language": "python",
   "name": "python3"
  },
  "language_info": {
   "codemirror_mode": {
    "name": "ipython",
    "version": 3
   },
   "file_extension": ".py",
   "mimetype": "text/x-python",
   "name": "python",
   "nbconvert_exporter": "python",
   "pygments_lexer": "ipython3",
   "version": "3.10.9"
  }
 },
 "nbformat": 4,
 "nbformat_minor": 5
}
