{
 "cells": [
  {
   "cell_type": "code",
   "execution_count": 1,
   "id": "f7ce25cc",
   "metadata": {},
   "outputs": [],
   "source": [
    "from qiskit import *\n",
    "from tqdm import tqdm\n",
    "from qiskit import quantum_info\n",
    "from qiskit.quantum_info import DensityMatrix, Statevector\n",
    "from qiskit.visualization import plot_histogram\n",
    "import matplotlib.pyplot as plt\n",
    "import numpy as np\n",
    "#from qiskit_experiments.framework import ParallelExperiment\n",
    "from qiskit_experiments.library import StateTomography\n",
    "from qiskit.providers.aer import AerSimulator\n",
    "from qiskit.providers.fake_provider import FakeParis\n",
    "from numpy.linalg import norm \n",
    "import cvxpy\n",
    "#set noisy simulator backend \n",
    "backend = AerSimulator.from_backend(FakeParis())\n"
   ]
  },
  {
   "cell_type": "code",
   "execution_count": 17,
   "id": "a254a705",
   "metadata": {},
   "outputs": [],
   "source": [
    "#DEFINE (PIETRO'S) MATRIX\n",
    "\n",
    "alpha = 2\n",
    "\n",
    "import numpy as np\n",
    "def k(theta, alpha):\n",
    "    return np.sqrt((-1+2*alpha**2 + np.cosh(theta))/(-1+np.cosh(theta)))\n",
    "\n",
    "\n",
    "def U(theta, alpha):\n",
    "    \n",
    "    return np.array([[(1-2*1j*alpha*(1/np.sinh(theta)))/(k(theta,alpha)), 0, 0, (-1j*alpha*(1/np.cosh(theta/2)))/(k(theta,alpha))],\n",
    "                     \n",
    "                     [0, ((-4*1j*alpha*(np.cos(0.25*(np.pi+1j*theta)))**2)*(1/np.sinh(theta)))/(k(theta,alpha)),\n",
    "                      (2*(np.cos(0.25*(np.pi+1j*theta)))**2)*(1/np.cosh(theta/2))/(k(theta,alpha)),0],\n",
    "                     \n",
    "                    [0,(2*(1/np.cosh(theta/2))*(np.sin(0.25*(np.pi+1j*theta)))**2)/(k(theta,alpha)),\n",
    "                     ((-4*1j*alpha*(np.sin(0.25*(np.pi+1j*theta)))**2)*(1/np.sinh(theta)))/(k(theta,alpha)),0],\n",
    "                     \n",
    "                    [(1j*alpha*(1/np.cosh(theta/2)))/(k(theta,alpha)),0,0,(-1-2*1j*alpha*(1/np.sinh(theta)))/(k(theta,alpha))]])\n",
    "\n"
   ]
  },
  {
   "cell_type": "code",
   "execution_count": 22,
   "id": "3b2dabff",
   "metadata": {},
   "outputs": [
    {
     "name": "stdout",
     "output_type": "stream",
     "text": [
      "AnalysisResult\n",
      "- name: state\n",
      "- value: DensityMatrix([[ 8.73333333e-01+0.j        ,  1.56666667e-02-0.00658333j,\n",
      "                 1.79166667e-02-0.01675j   , -9.25000000e-03-0.0055j    ],\n",
      "               [ 1.56666667e-02+0.00658333j,  3.30000000e-02+0.j        ,\n",
      "                 1.02500000e-02-0.006j     , -3.08333333e-03-0.00525j   ],\n",
      "               [ 1.79166667e-02+0.01675j   ,  1.02500000e-02+0.006j     ,\n",
      "                 2.85000000e-02+0.j        , -3.33333333e-04+0.00291667j],\n",
      "               [-9.25000000e-03+0.0055j    , -3.08333333e-03+0.00525j   ,\n",
      "                -3.33333333e-04-0.00291667j,  6.51666667e-02+0.j        ]],\n",
      "              dims=(2, 2))\n",
      "- extra: <5 items>\n",
      "- device_components: ['Q0', 'Q1']\n",
      "- verified: False\n",
      "AnalysisResult\n",
      "- name: positive\n",
      "- value: True\n",
      "- device_components: ['Q0', 'Q1']\n",
      "- verified: False\n",
      "(0.8733333333333334+0j)\n"
     ]
    },
    {
     "data": {
      "text/plain": [
       "[<matplotlib.lines.Line2D at 0x7f83ebd0c850>]"
      ]
     },
     "execution_count": 22,
     "metadata": {},
     "output_type": "execute_result"
    },
    {
     "data": {
      "image/png": "[encoded data removed]",
      "text/plain": [
       "<Figure size 640x480 with 1 Axes>"
      ]
     },
     "metadata": {},
     "output_type": "display_data"
    }
   ],
   "source": [
    "theta0=0.001\n",
    "theta = 0.5\n",
    "alpha=2\n",
    "\n",
    "\n",
    "#build circuit    \n",
    "qc = QuantumCircuit(2,2)\n",
    "v0=np.array([1,0,0,0])\n",
    "init = U(theta0,alpha)@v0\n",
    "init = init.tolist()\n",
    "QuantumCircuit.initialize(qc,init,[0,1])\n",
    "matrix = U(theta,alpha)\n",
    "qc.unitary(matrix, [0,1])\n",
    "qc.barrier(range(2))\n",
    "qc.measure(range(2),range(2))\n",
    "\n",
    "# QST Experiment\n",
    "qstexp1 = StateTomography(qc)\n",
    "qstdata1 = qstexp1.run(backend, shots=2000, seed_simulation=100).block_for_results()\n",
    "\n",
    "# Print results\n",
    "for result in qstdata1.analysis_results():\n",
    "    print(result)\n",
    "\n",
    "#fitted state extraction\n",
    "final_state = qstdata1.analysis_results(\"state\")\n",
    "density=np.asarray(final_state.value)\n",
    "print(density[0,0])\n",
    "#A.append(density([0,0]))\n",
    "plt.plot(density[0,0],'x')"
   ]
  },
  {
   "cell_type": "code",
   "execution_count": 8,
   "id": "79a17033",
   "metadata": {
    "scrolled": true
   },
   "outputs": [
    {
     "name": "stderr",
     "output_type": "stream",
     "text": [
      "\r",
      "  0%|                                                                                          | 0/1000 [00:00<?, ?it/s]"
     ]
    },
    {
     "name": "stdout",
     "output_type": "stream",
     "text": [
      "0.001\n"
     ]
    },
    {
     "name": "stderr",
     "output_type": "stream",
     "text": [
      "\r",
      "  0%|                                                                                  | 1/1000 [00:02<33:45,  2.03s/it]"
     ]
    },
    {
     "name": "stdout",
     "output_type": "stream",
     "text": [
      "0.006\n"
     ]
    },
    {
     "name": "stderr",
     "output_type": "stream",
     "text": [
      "\r",
      "  0%|▏                                                                                 | 2/1000 [00:05<49:26,  2.97s/it]"
     ]
    },
    {
     "name": "stdout",
     "output_type": "stream",
     "text": [
      "0.011\n"
     ]
    },
    {
     "name": "stderr",
     "output_type": "stream",
     "text": [
      "\r",
      "  0%|▏                                                                                 | 3/1000 [00:09<57:58,  3.49s/it]"
     ]
    },
    {
     "name": "stdout",
     "output_type": "stream",
     "text": [
      "0.016\n"
     ]
    },
    {
     "name": "stderr",
     "output_type": "stream",
     "text": [
      "\r",
      "  0%|▎                                                                               | 4/1000 [00:14<1:08:09,  4.11s/it]"
     ]
    },
    {
     "name": "stdout",
     "output_type": "stream",
     "text": [
      "0.021\n"
     ]
    },
    {
     "name": "stderr",
     "output_type": "stream",
     "text": [
      "\r",
      "  0%|▍                                                                               | 5/1000 [00:20<1:19:06,  4.77s/it]"
     ]
    },
    {
     "name": "stdout",
     "output_type": "stream",
     "text": [
      "0.026000000000000002\n"
     ]
    },
    {
     "name": "stderr",
     "output_type": "stream",
     "text": [
      "\r",
      "  1%|▍                                                                               | 6/1000 [00:27<1:31:16,  5.51s/it]"
     ]
    },
    {
     "name": "stdout",
     "output_type": "stream",
     "text": [
      "0.031\n"
     ]
    },
    {
     "name": "stderr",
     "output_type": "stream",
     "text": [
      "\r",
      "  1%|▌                                                                               | 7/1000 [00:35<1:43:33,  6.26s/it]"
     ]
    },
    {
     "name": "stdout",
     "output_type": "stream",
     "text": [
      "0.036000000000000004\n"
     ]
    },
    {
     "name": "stderr",
     "output_type": "stream",
     "text": [
      "\r",
      "  1%|▋                                                                               | 8/1000 [00:44<1:59:59,  7.26s/it]"
     ]
    },
    {
     "name": "stdout",
     "output_type": "stream",
     "text": [
      "0.041\n"
     ]
    },
    {
     "name": "stderr",
     "output_type": "stream",
     "text": [
      "\r",
      "  1%|▋                                                                               | 9/1000 [00:55<2:19:08,  8.42s/it]"
     ]
    },
    {
     "name": "stdout",
     "output_type": "stream",
     "text": [
      "0.046\n"
     ]
    },
    {
     "name": "stderr",
     "output_type": "stream",
     "text": [
      "\r",
      "  1%|▊                                                                              | 10/1000 [01:07<2:36:29,  9.48s/it]"
     ]
    },
    {
     "name": "stdout",
     "output_type": "stream",
     "text": [
      "0.051000000000000004\n"
     ]
    },
    {
     "name": "stderr",
     "output_type": "stream",
     "text": [
      "\r",
      "  1%|▊                                                                              | 11/1000 [01:20<2:54:39, 10.60s/it]"
     ]
    },
    {
     "name": "stdout",
     "output_type": "stream",
     "text": [
      "0.056\n"
     ]
    },
    {
     "name": "stderr",
     "output_type": "stream",
     "text": [
      "\r",
      "  1%|▉                                                                              | 12/1000 [01:35<3:12:41, 11.70s/it]"
     ]
    },
    {
     "name": "stdout",
     "output_type": "stream",
     "text": [
      "0.061\n"
     ]
    },
    {
     "name": "stderr",
     "output_type": "stream",
     "text": [
      "\r",
      "  1%|█                                                                              | 13/1000 [01:50<3:30:44, 12.81s/it]"
     ]
    },
    {
     "name": "stdout",
     "output_type": "stream",
     "text": [
      "0.066\n"
     ]
    },
    {
     "name": "stderr",
     "output_type": "stream",
     "text": [
      "\r",
      "  1%|█                                                                              | 14/1000 [02:06<3:47:01, 13.82s/it]"
     ]
    },
    {
     "name": "stdout",
     "output_type": "stream",
     "text": [
      "0.07100000000000001\n"
     ]
    },
    {
     "name": "stderr",
     "output_type": "stream",
     "text": [
      "\r",
      "  2%|█▏                                                                             | 15/1000 [02:24<4:05:08, 14.93s/it]"
     ]
    },
    {
     "name": "stdout",
     "output_type": "stream",
     "text": [
      "0.076\n"
     ]
    },
    {
     "name": "stderr",
     "output_type": "stream",
     "text": [
      "\r",
      "  2%|█▎                                                                             | 16/1000 [02:42<4:24:21, 16.12s/it]"
     ]
    },
    {
     "name": "stdout",
     "output_type": "stream",
     "text": [
      "0.081\n"
     ]
    },
    {
     "name": "stderr",
     "output_type": "stream",
     "text": [
      "\r",
      "  2%|█▎                                                                             | 17/1000 [03:02<4:42:55, 17.27s/it]"
     ]
    },
    {
     "name": "stdout",
     "output_type": "stream",
     "text": [
      "0.08600000000000001\n"
     ]
    },
    {
     "name": "stderr",
     "output_type": "stream",
     "text": [
      "\r",
      "  2%|█▍                                                                             | 18/1000 [03:23<5:00:02, 18.33s/it]"
     ]
    },
    {
     "name": "stdout",
     "output_type": "stream",
     "text": [
      "0.091\n"
     ]
    },
    {
     "name": "stderr",
     "output_type": "stream",
     "text": [
      "\r",
      "  2%|█▌                                                                             | 19/1000 [03:45<5:15:25, 19.29s/it]"
     ]
    },
    {
     "name": "stdout",
     "output_type": "stream",
     "text": [
      "0.096\n"
     ]
    },
    {
     "name": "stderr",
     "output_type": "stream",
     "text": [
      "\r",
      "  2%|█▌                                                                             | 20/1000 [04:08<5:33:49, 20.44s/it]"
     ]
    },
    {
     "name": "stdout",
     "output_type": "stream",
     "text": [
      "0.101\n"
     ]
    },
    {
     "name": "stderr",
     "output_type": "stream",
     "text": [
      "\r",
      "  2%|█▋                                                                             | 21/1000 [04:32<5:49:36, 21.43s/it]"
     ]
    },
    {
     "name": "stdout",
     "output_type": "stream",
     "text": [
      "0.106\n"
     ]
    },
    {
     "name": "stderr",
     "output_type": "stream",
     "text": [
      "\r",
      "  2%|█▋                                                                             | 22/1000 [04:56<6:05:21, 22.41s/it]"
     ]
    },
    {
     "name": "stdout",
     "output_type": "stream",
     "text": [
      "0.111\n"
     ]
    },
    {
     "name": "stderr",
     "output_type": "stream",
     "text": [
      "\r",
      "  2%|█▊                                                                             | 23/1000 [05:22<6:21:53, 23.45s/it]"
     ]
    },
    {
     "name": "stdout",
     "output_type": "stream",
     "text": [
      "0.116\n"
     ]
    },
    {
     "name": "stderr",
     "output_type": "stream",
     "text": [
      "\r",
      "  2%|█▉                                                                             | 24/1000 [05:49<6:38:45, 24.51s/it]"
     ]
    },
    {
     "name": "stdout",
     "output_type": "stream",
     "text": [
      "0.121\n"
     ]
    },
    {
     "name": "stderr",
     "output_type": "stream",
     "text": [
      "\r",
      "  2%|█▉                                                                             | 25/1000 [06:17<6:54:43, 25.52s/it]"
     ]
    },
    {
     "name": "stdout",
     "output_type": "stream",
     "text": [
      "0.126\n"
     ]
    },
    {
     "name": "stderr",
     "output_type": "stream",
     "text": [
      "\r",
      "  3%|██                                                                             | 26/1000 [06:46<7:11:38, 26.59s/it]"
     ]
    },
    {
     "name": "stdout",
     "output_type": "stream",
     "text": [
      "0.131\n"
     ]
    },
    {
     "name": "stderr",
     "output_type": "stream",
     "text": [
      "\r",
      "  3%|██▏                                                                            | 27/1000 [07:17<7:31:49, 27.86s/it]"
     ]
    },
    {
     "name": "stdout",
     "output_type": "stream",
     "text": [
      "0.136\n"
     ]
    },
    {
     "name": "stderr",
     "output_type": "stream",
     "text": [
      "\r",
      "  3%|██▏                                                                            | 28/1000 [07:50<7:58:21, 29.53s/it]"
     ]
    },
    {
     "name": "stdout",
     "output_type": "stream",
     "text": [
      "0.14100000000000001\n"
     ]
    },
    {
     "name": "stderr",
     "output_type": "stream",
     "text": [
      "\r",
      "  3%|██▎                                                                            | 29/1000 [08:26<8:29:25, 31.48s/it]"
     ]
    },
    {
     "name": "stdout",
     "output_type": "stream",
     "text": [
      "0.146\n"
     ]
    },
    {
     "name": "stderr",
     "output_type": "stream",
     "text": [
      "\r",
      "  3%|██▎                                                                            | 30/1000 [09:01<8:42:06, 32.30s/it]"
     ]
    },
    {
     "name": "stdout",
     "output_type": "stream",
     "text": [
      "0.151\n"
     ]
    },
    {
     "name": "stderr",
     "output_type": "stream",
     "text": [
      "\r",
      "  3%|██▍                                                                            | 31/1000 [09:35<8:53:39, 33.04s/it]"
     ]
    },
    {
     "name": "stdout",
     "output_type": "stream",
     "text": [
      "0.156\n"
     ]
    },
    {
     "name": "stderr",
     "output_type": "stream",
     "text": [
      "\r",
      "  3%|██▌                                                                            | 32/1000 [10:11<9:05:22, 33.80s/it]"
     ]
    },
    {
     "name": "stdout",
     "output_type": "stream",
     "text": [
      "0.161\n"
     ]
    },
    {
     "name": "stderr",
     "output_type": "stream",
     "text": [
      "\r",
      "  3%|██▌                                                                            | 33/1000 [10:48<9:21:24, 34.83s/it]"
     ]
    },
    {
     "name": "stdout",
     "output_type": "stream",
     "text": [
      "0.166\n"
     ]
    },
    {
     "name": "stderr",
     "output_type": "stream",
     "text": [
      "\r",
      "  3%|██▋                                                                            | 34/1000 [11:26<9:34:39, 35.69s/it]"
     ]
    },
    {
     "name": "stdout",
     "output_type": "stream",
     "text": [
      "0.171\n"
     ]
    },
    {
     "name": "stderr",
     "output_type": "stream",
     "text": [
      "\r",
      "  4%|██▋                                                                           | 35/1000 [12:08<10:02:39, 37.47s/it]"
     ]
    },
    {
     "name": "stdout",
     "output_type": "stream",
     "text": [
      "0.17600000000000002\n"
     ]
    },
    {
     "name": "stderr",
     "output_type": "stream",
     "text": [
      "\r",
      "  4%|██▊                                                                           | 36/1000 [12:53<10:39:08, 39.78s/it]"
     ]
    },
    {
     "name": "stdout",
     "output_type": "stream",
     "text": [
      "0.181\n"
     ]
    },
    {
     "name": "stderr",
     "output_type": "stream",
     "text": [
      "\r",
      "  4%|██▉                                                                           | 37/1000 [13:40<11:14:46, 42.04s/it]"
     ]
    },
    {
     "name": "stdout",
     "output_type": "stream",
     "text": [
      "0.186\n"
     ]
    },
    {
     "name": "stderr",
     "output_type": "stream",
     "text": [
      "\r",
      "  4%|██▉                                                                           | 38/1000 [14:24<11:22:55, 42.59s/it]"
     ]
    },
    {
     "name": "stdout",
     "output_type": "stream",
     "text": [
      "0.191\n"
     ]
    },
    {
     "name": "stderr",
     "output_type": "stream",
     "text": [
      "\r",
      "  4%|███                                                                           | 39/1000 [15:08<11:30:09, 43.09s/it]"
     ]
    },
    {
     "name": "stdout",
     "output_type": "stream",
     "text": [
      "0.196\n"
     ]
    },
    {
     "name": "stderr",
     "output_type": "stream",
     "text": [
      "\r",
      "  4%|███                                                                           | 40/1000 [15:55<11:47:51, 44.24s/it]"
     ]
    },
    {
     "name": "stdout",
     "output_type": "stream",
     "text": [
      "0.201\n"
     ]
    },
    {
     "name": "stderr",
     "output_type": "stream",
     "text": [
      "\r",
      "  4%|███▏                                                                          | 41/1000 [16:42<11:57:46, 44.91s/it]"
     ]
    },
    {
     "name": "stdout",
     "output_type": "stream",
     "text": [
      "0.20600000000000002\n"
     ]
    },
    {
     "name": "stderr",
     "output_type": "stream",
     "text": [
      "\r",
      "  4%|███▎                                                                          | 42/1000 [17:28<12:06:37, 45.51s/it]"
     ]
    },
    {
     "name": "stdout",
     "output_type": "stream",
     "text": [
      "0.211\n"
     ]
    },
    {
     "name": "stderr",
     "output_type": "stream",
     "text": [
      "\r",
      "  4%|███▎                                                                          | 43/1000 [18:16<12:17:41, 46.25s/it]"
     ]
    },
    {
     "name": "stdout",
     "output_type": "stream",
     "text": [
      "0.216\n"
     ]
    },
    {
     "name": "stderr",
     "output_type": "stream",
     "text": [
      "\r",
      "  4%|███▍                                                                          | 44/1000 [19:11<12:55:22, 48.66s/it]"
     ]
    },
    {
     "name": "stdout",
     "output_type": "stream",
     "text": [
      "0.221\n"
     ]
    },
    {
     "name": "stderr",
     "output_type": "stream",
     "text": [
      "\r",
      "  4%|███▌                                                                          | 45/1000 [20:03<13:10:18, 49.65s/it]"
     ]
    },
    {
     "name": "stdout",
     "output_type": "stream",
     "text": [
      "0.226\n"
     ]
    },
    {
     "name": "stderr",
     "output_type": "stream",
     "text": [
      "\r",
      "  5%|███▌                                                                          | 46/1000 [20:56<13:24:31, 50.60s/it]"
     ]
    },
    {
     "name": "stdout",
     "output_type": "stream",
     "text": [
      "0.231\n"
     ]
    },
    {
     "name": "stderr",
     "output_type": "stream",
     "text": [
      "\r",
      "  5%|███▋                                                                          | 47/1000 [21:49<13:36:05, 51.38s/it]"
     ]
    },
    {
     "name": "stdout",
     "output_type": "stream",
     "text": [
      "0.23600000000000002\n"
     ]
    },
    {
     "name": "stderr",
     "output_type": "stream",
     "text": [
      "\r",
      "  5%|███▋                                                                          | 48/1000 [22:44<13:53:30, 52.53s/it]"
     ]
    },
    {
     "name": "stdout",
     "output_type": "stream",
     "text": [
      "0.241\n"
     ]
    },
    {
     "name": "stderr",
     "output_type": "stream",
     "text": [
      "\r",
      "  5%|███▊                                                                          | 49/1000 [23:39<14:03:59, 53.25s/it]"
     ]
    },
    {
     "name": "stdout",
     "output_type": "stream",
     "text": [
      "0.246\n"
     ]
    },
    {
     "name": "stderr",
     "output_type": "stream",
     "text": [
      "\r",
      "  5%|███▉                                                                          | 50/1000 [24:39<14:34:09, 55.21s/it]"
     ]
    },
    {
     "name": "stdout",
     "output_type": "stream",
     "text": [
      "0.251\n"
     ]
    },
    {
     "name": "stderr",
     "output_type": "stream",
     "text": [
      "\r",
      "  5%|███▉                                                                          | 51/1000 [25:36<14:42:56, 55.82s/it]"
     ]
    },
    {
     "name": "stdout",
     "output_type": "stream",
     "text": [
      "0.256\n"
     ]
    },
    {
     "name": "stderr",
     "output_type": "stream",
     "text": [
      "\r",
      "  5%|████                                                                          | 52/1000 [26:33<14:49:11, 56.28s/it]"
     ]
    },
    {
     "name": "stdout",
     "output_type": "stream",
     "text": [
      "0.261\n"
     ]
    },
    {
     "name": "stderr",
     "output_type": "stream",
     "text": [
      "\r",
      "  5%|████▏                                                                         | 53/1000 [27:32<14:58:57, 56.96s/it]"
     ]
    },
    {
     "name": "stdout",
     "output_type": "stream",
     "text": [
      "0.266\n"
     ]
    },
    {
     "name": "stderr",
     "output_type": "stream",
     "text": [
      "\r",
      "  5%|████▏                                                                         | 54/1000 [28:33<15:20:21, 58.37s/it]"
     ]
    },
    {
     "name": "stdout",
     "output_type": "stream",
     "text": [
      "0.271\n"
     ]
    },
    {
     "name": "stderr",
     "output_type": "stream",
     "text": [
      "\r",
      "  6%|████▎                                                                         | 55/1000 [29:35<15:36:31, 59.46s/it]"
     ]
    },
    {
     "name": "stdout",
     "output_type": "stream",
     "text": [
      "0.276\n"
     ]
    },
    {
     "name": "stderr",
     "output_type": "stream",
     "text": [
      "\r",
      "  6%|████▎                                                                         | 56/1000 [30:37<15:47:33, 60.23s/it]"
     ]
    },
    {
     "name": "stdout",
     "output_type": "stream",
     "text": [
      "0.281\n"
     ]
    },
    {
     "name": "stderr",
     "output_type": "stream",
     "text": [
      "\r",
      "  6%|████▍                                                                         | 57/1000 [31:39<15:52:55, 60.63s/it]"
     ]
    },
    {
     "name": "stdout",
     "output_type": "stream",
     "text": [
      "0.28600000000000003\n"
     ]
    },
    {
     "name": "stderr",
     "output_type": "stream",
     "text": [
      "\r",
      "  6%|████▌                                                                         | 58/1000 [32:41<15:59:13, 61.10s/it]"
     ]
    },
    {
     "name": "stdout",
     "output_type": "stream",
     "text": [
      "0.291\n"
     ]
    },
    {
     "name": "stderr",
     "output_type": "stream",
     "text": [
      "\r",
      "  6%|████▌                                                                         | 59/1000 [33:47<16:18:14, 62.37s/it]"
     ]
    },
    {
     "name": "stdout",
     "output_type": "stream",
     "text": [
      "0.296\n"
     ]
    },
    {
     "name": "stderr",
     "output_type": "stream",
     "text": [
      "\r",
      "  6%|████▋                                                                         | 60/1000 [34:57<16:53:44, 64.71s/it]"
     ]
    },
    {
     "name": "stdout",
     "output_type": "stream",
     "text": [
      "0.301\n"
     ]
    },
    {
     "name": "stderr",
     "output_type": "stream",
     "text": [
      "\r",
      "  6%|████▊                                                                         | 61/1000 [36:08<17:23:13, 66.66s/it]"
     ]
    },
    {
     "name": "stdout",
     "output_type": "stream",
     "text": [
      "0.306\n"
     ]
    },
    {
     "name": "stderr",
     "output_type": "stream",
     "text": [
      "\r",
      "  6%|████▊                                                                         | 62/1000 [37:20<17:48:26, 68.34s/it]"
     ]
    },
    {
     "name": "stdout",
     "output_type": "stream",
     "text": [
      "0.311\n"
     ]
    },
    {
     "name": "stderr",
     "output_type": "stream",
     "text": [
      "\r",
      "  6%|████▉                                                                         | 63/1000 [38:33<18:09:18, 69.75s/it]"
     ]
    },
    {
     "name": "stdout",
     "output_type": "stream",
     "text": [
      "0.316\n"
     ]
    },
    {
     "name": "stderr",
     "output_type": "stream",
     "text": [
      "\r",
      "  6%|████▉                                                                         | 64/1000 [39:48<18:30:26, 71.18s/it]"
     ]
    },
    {
     "name": "stdout",
     "output_type": "stream",
     "text": [
      "0.321\n"
     ]
    },
    {
     "name": "stderr",
     "output_type": "stream",
     "text": [
      "\r",
      "  6%|█████                                                                         | 65/1000 [41:04<18:54:06, 72.78s/it]"
     ]
    },
    {
     "name": "stdout",
     "output_type": "stream",
     "text": [
      "0.326\n"
     ]
    },
    {
     "name": "stderr",
     "output_type": "stream",
     "text": [
      "\r",
      "  7%|█████▏                                                                        | 66/1000 [42:22<19:14:03, 74.14s/it]"
     ]
    },
    {
     "name": "stdout",
     "output_type": "stream",
     "text": [
      "0.331\n"
     ]
    },
    {
     "name": "stderr",
     "output_type": "stream",
     "text": [
      "\r",
      "  7%|█████▏                                                                        | 67/1000 [43:39<19:27:07, 75.06s/it]"
     ]
    },
    {
     "name": "stdout",
     "output_type": "stream",
     "text": [
      "0.336\n"
     ]
    },
    {
     "name": "stderr",
     "output_type": "stream",
     "text": [
      "\r",
      "  7%|█████▎                                                                        | 68/1000 [44:59<19:49:27, 76.57s/it]"
     ]
    },
    {
     "name": "stdout",
     "output_type": "stream",
     "text": [
      "0.341\n"
     ]
    },
    {
     "name": "stderr",
     "output_type": "stream",
     "text": [
      "\r",
      "  7%|█████▍                                                                        | 69/1000 [46:23<20:22:47, 78.80s/it]"
     ]
    },
    {
     "name": "stdout",
     "output_type": "stream",
     "text": [
      "0.34600000000000003\n"
     ]
    },
    {
     "name": "stderr",
     "output_type": "stream",
     "text": [
      "\r",
      "  7%|█████▍                                                                        | 70/1000 [47:55<21:24:11, 82.85s/it]"
     ]
    },
    {
     "name": "stdout",
     "output_type": "stream",
     "text": [
      "0.35100000000000003\n"
     ]
    },
    {
     "name": "stderr",
     "output_type": "stream",
     "text": [
      "\r",
      "  7%|█████▌                                                                        | 71/1000 [49:25<21:56:49, 85.05s/it]"
     ]
    },
    {
     "name": "stdout",
     "output_type": "stream",
     "text": [
      "0.356\n"
     ]
    },
    {
     "name": "stderr",
     "output_type": "stream",
     "text": [
      "\r",
      "  7%|█████▌                                                                        | 72/1000 [51:00<22:41:11, 88.01s/it]"
     ]
    },
    {
     "name": "stdout",
     "output_type": "stream",
     "text": [
      "0.361\n"
     ]
    },
    {
     "name": "stderr",
     "output_type": "stream",
     "text": [
      "\r",
      "  7%|█████▋                                                                        | 73/1000 [52:30<22:48:34, 88.58s/it]"
     ]
    },
    {
     "name": "stdout",
     "output_type": "stream",
     "text": [
      "0.366\n"
     ]
    },
    {
     "name": "stderr",
     "output_type": "stream",
     "text": [
      "\r",
      "  7%|█████▊                                                                        | 74/1000 [54:01<22:56:29, 89.19s/it]"
     ]
    },
    {
     "name": "stdout",
     "output_type": "stream",
     "text": [
      "0.371\n"
     ]
    },
    {
     "name": "stderr",
     "output_type": "stream",
     "text": [
      "\r",
      "  8%|█████▊                                                                        | 75/1000 [55:37<23:27:40, 91.31s/it]"
     ]
    },
    {
     "name": "stdout",
     "output_type": "stream",
     "text": [
      "0.376\n"
     ]
    },
    {
     "name": "stderr",
     "output_type": "stream",
     "text": [
      "\r",
      "  8%|█████▉                                                                        | 76/1000 [57:14<23:51:21, 92.95s/it]"
     ]
    },
    {
     "name": "stdout",
     "output_type": "stream",
     "text": [
      "0.381\n"
     ]
    },
    {
     "name": "stderr",
     "output_type": "stream",
     "text": [
      "\r",
      "  8%|██████                                                                        | 77/1000 [58:56<24:30:10, 95.57s/it]"
     ]
    },
    {
     "name": "stdout",
     "output_type": "stream",
     "text": [
      "0.386\n"
     ]
    },
    {
     "name": "stderr",
     "output_type": "stream",
     "text": [
      "\r",
      "  8%|█████▊                                                                     | 78/1000 [1:00:48<25:44:48, 100.53s/it]"
     ]
    },
    {
     "name": "stdout",
     "output_type": "stream",
     "text": [
      "0.391\n"
     ]
    },
    {
     "name": "stderr",
     "output_type": "stream",
     "text": [
      "\r",
      "  8%|█████▉                                                                     | 79/1000 [1:02:41<26:44:14, 104.51s/it]"
     ]
    },
    {
     "name": "stdout",
     "output_type": "stream",
     "text": [
      "0.396\n"
     ]
    },
    {
     "name": "stderr",
     "output_type": "stream",
     "text": [
      "\r",
      "  8%|██████                                                                     | 80/1000 [1:04:32<27:08:56, 106.24s/it]"
     ]
    },
    {
     "name": "stdout",
     "output_type": "stream",
     "text": [
      "0.401\n"
     ]
    },
    {
     "name": "stderr",
     "output_type": "stream",
     "text": [
      "\r",
      "  8%|██████                                                                     | 81/1000 [1:06:21<27:21:00, 107.14s/it]"
     ]
    },
    {
     "name": "stdout",
     "output_type": "stream",
     "text": [
      "0.406\n"
     ]
    },
    {
     "name": "stderr",
     "output_type": "stream",
     "text": [
      "\r",
      "  8%|██████▏                                                                    | 82/1000 [1:08:07<27:14:20, 106.82s/it]"
     ]
    },
    {
     "name": "stdout",
     "output_type": "stream",
     "text": [
      "0.41100000000000003\n"
     ]
    },
    {
     "name": "stderr",
     "output_type": "stream",
     "text": [
      "\r",
      "  8%|██████▏                                                                    | 83/1000 [1:10:01<27:44:22, 108.90s/it]"
     ]
    },
    {
     "name": "stdout",
     "output_type": "stream",
     "text": [
      "0.41600000000000004\n"
     ]
    },
    {
     "name": "stderr",
     "output_type": "stream",
     "text": [
      "  8%|██████▎                                                                     | 83/1000 [1:11:55<13:14:37, 51.99s/it]\n"
     ]
    },
    {
     "ename": "QiskitError",
     "evalue": "'Density matrix is not a pure state'",
     "output_type": "error",
     "traceback": [
      "\u001b[0;31m---------------------------------------------------------------------------\u001b[0m",
      "\u001b[0;31mQiskitError\u001b[0m                               Traceback (most recent call last)",
      "Cell \u001b[0;32mIn[8], line 66\u001b[0m\n\u001b[1;32m     64\u001b[0m  \u001b[38;5;66;03m#NOT SO LEGIT: here I convert density to DensityMatrix object and then to a statevector\u001b[39;00m\n\u001b[1;32m     65\u001b[0m  density \u001b[38;5;241m=\u001b[39m DensityMatrix(density)\n\u001b[0;32m---> 66\u001b[0m  new_init \u001b[38;5;241m=\u001b[39m \u001b[43mdensity\u001b[49m\u001b[38;5;241;43m.\u001b[39;49m\u001b[43mto_statevector\u001b[49m\u001b[43m(\u001b[49m\u001b[43matol\u001b[49m\u001b[38;5;241;43m=\u001b[39;49m\u001b[38;5;241;43m1E-1\u001b[39;49m\u001b[43m)\u001b[49m\n\u001b[1;32m     68\u001b[0m  \u001b[38;5;66;03m#store in classical bit (still to implement, now we just put it in list)\u001b[39;00m\n\u001b[1;32m     69\u001b[0m  \n\u001b[1;32m     70\u001b[0m  \u001b[38;5;66;03m##re-initialise state to previous iteration tomography fit for statevector and enter next stage \u001b[39;00m\n\u001b[0;32m   (...)\u001b[0m\n\u001b[1;32m     81\u001b[0m \u001b[38;5;66;03m# print(np.dot(v1.conj().T,v1))\u001b[39;00m\n\u001b[1;32m     82\u001b[0m  \u001b[38;5;66;03m#raise KeyboardInterrupt\u001b[39;00m\n\u001b[1;32m     83\u001b[0m  QuantumCircuit\u001b[38;5;241m.\u001b[39minitialize(qc,new_init,[\u001b[38;5;241m0\u001b[39m,\u001b[38;5;241m1\u001b[39m])\n",
      "File \u001b[0;32m~/.local/lib/python3.10/site-packages/qiskit/quantum_info/states/densitymatrix.py:781\u001b[0m, in \u001b[0;36mDensityMatrix.to_statevector\u001b[0;34m(self, atol, rtol)\u001b[0m\n\u001b[1;32m    779\u001b[0m nonzero_evals \u001b[38;5;241m=\u001b[39m evals[\u001b[38;5;28mabs\u001b[39m(evals) \u001b[38;5;241m>\u001b[39m atol]\n\u001b[1;32m    780\u001b[0m \u001b[38;5;28;01mif\u001b[39;00m \u001b[38;5;28mlen\u001b[39m(nonzero_evals) \u001b[38;5;241m!=\u001b[39m \u001b[38;5;241m1\u001b[39m \u001b[38;5;129;01mor\u001b[39;00m \u001b[38;5;129;01mnot\u001b[39;00m np\u001b[38;5;241m.\u001b[39misclose(nonzero_evals[\u001b[38;5;241m0\u001b[39m], \u001b[38;5;241m1\u001b[39m, atol\u001b[38;5;241m=\u001b[39matol, rtol\u001b[38;5;241m=\u001b[39mrtol):\n\u001b[0;32m--> 781\u001b[0m     \u001b[38;5;28;01mraise\u001b[39;00m QiskitError(\u001b[38;5;124m\"\u001b[39m\u001b[38;5;124mDensity matrix is not a pure state\u001b[39m\u001b[38;5;124m\"\u001b[39m)\n\u001b[1;32m    783\u001b[0m psi \u001b[38;5;241m=\u001b[39m evecs[:, np\u001b[38;5;241m.\u001b[39margmax(evals)]  \u001b[38;5;66;03m# eigenvectors returned in columns.\u001b[39;00m\n\u001b[1;32m    784\u001b[0m \u001b[38;5;28;01mreturn\u001b[39;00m Statevector(psi)\n",
      "\u001b[0;31mQiskitError\u001b[0m: 'Density matrix is not a pure state'"
     ]
    }
   ],
   "source": [
    "#variables\n",
    "theta0 = 0.001   #initial theta\n",
    "theta1 = 5 \n",
    "theta=0.6\n",
    "#final theta\n",
    "alpha = 2\n",
    "shots = 24000\n",
    "#res = 0.1\n",
    "res_list = np.array([0.005])\n",
    "\n",
    "#plotting specs\n",
    "#color = iter(cm.rainbow(np.linspace(0, 1, len(res_list))))\n",
    "#plt.rc('text', usetex=True)\n",
    "#plt.rc('font', family='serif')\n",
    "#plt.tick_params(labelsize=10) vccf\n",
    "\n",
    "m = 0\n",
    "\n",
    "\n",
    "for res in res_list:  \n",
    "    A = []\n",
    "    B = []\n",
    "    #c = next(color)\n",
    "    theta_sweep=np.arange(theta0, theta1, res) \n",
    "    \n",
    "    #initialize first time\n",
    "    qc = QuantumCircuit(2,2)\n",
    "    v0=np.array([1,0,0,0])\n",
    "    v1 = np.zeros(4)\n",
    "    init = U(theta0,alpha)@v0\n",
    "    init = init.tolist()\n",
    "    QuantumCircuit.initialize(qc,init,[0,1])\n",
    "    \n",
    "    for a, theta in enumerate(tqdm(theta_sweep)):    \n",
    "        \n",
    "        print(theta)        \n",
    "        #build circuit    \n",
    "        \n",
    "        matrix = U(theta,alpha)\n",
    "        qc.unitary(matrix, [0,1])\n",
    "        qc.barrier(range(2))\n",
    "        qc.measure(range(2),range(2))\n",
    "        \n",
    "        # QST Experiment\n",
    "        \n",
    "        qstexp1 = StateTomography(qc)\n",
    "        #qstexp1.analysis.set_options(fitter='cvxpy_gaussian_lstsq')\n",
    "        qstdata1 = qstexp1.run(backend,shots=shots, seed_simulation=100).block_for_results()\n",
    "        \n",
    "        \n",
    "        # Print results\n",
    "        #for result in qstdata1.analysis_results():\n",
    "        #    print(result)\n",
    "        #    print(result.extra)\n",
    "        \n",
    "        #fitted state extraction\n",
    "        final_state = qstdata1.analysis_results(\"state\")\n",
    "        density=np.asarray(final_state.value)\n",
    "        \n",
    "        #save state value for plotting \n",
    "        A.append(np.abs(density[0,0]))\n",
    "        B.append(np.abs(density[3,3]))\n",
    "        \n",
    "        #NOT SO LEGIT: here I convert density to DensityMatrix object and then to a statevector\n",
    "        density = DensityMatrix(density)\n",
    "        new_init = density.to_statevector(atol=1E-1)\n",
    "              \n",
    "        #store in classical bit (still to implement, now we just put it in list)\n",
    "        \n",
    "        ##re-initialise state to previous iteration tomography fit for statevector and enter next stage \n",
    "        #for i in range(len(v1)):\n",
    "        #    v1[i]=density[i,i]\n",
    "\n",
    "        #    v1[0]+=np.sqrt(o)\n",
    "        #print('amplitude-squared sum is')\n",
    "        #print(sum(v1[i] for i in range(len(v1)))) \n",
    "        \n",
    "        #raise KeyboardInterrupt\n",
    "        #here we have to renormalize v1 as its squared amplitudes sum to something like 1.00000000000008 instead of 1 and \n",
    "        #init doesnt want to initialise to some nonunitary\n",
    "       # print(np.dot(v1.conj().T,v1))\n",
    "        #raise KeyboardInterrupt\n",
    "        QuantumCircuit.initialize(qc,new_init,[0,1])\n",
    "        \n",
    "            \n",
    "    \n",
    "    A = np.asarray(A)\n",
    "    B = np.asarray(B)\n",
    "    plt.plot(theta_sweep, A)\n",
    "    plt.plot(theta_sweep, B)\n",
    "    plt.xlabel(r'$\\theta$')\n",
    "    plt.ylabel('Amplitude')\n",
    "    plt.title('Tomography - resolution '+str(res)+', shots = '+str(shots))\n",
    "    plt.savefig('/home/alberto/Notebooks/Tomography - resolution '+str(res)+', shots = '+str(shots)+'.pdf')\n",
    "    \n",
    "#    #print(len(B[0]))\n",
    "#    C = np.zeros(len(B))\n",
    "#    for i in range(len(B)):\n",
    "#        #print(B[i,:])\n",
    "#        C[i] = np.average(B[i,:])\n",
    "#    plt.plot(theta_sweep, C+m,'-', c=c)\n",
    "#    plt.xlabel(r'$\\theta$')\n",
    "#    plt.ylabel('Amplitude')\n",
    "#    #plt.title('Time evolution for different Trotter step sizes')\n",
    "#    m += 1\n",
    "#\n",
    "##plt.savefig('C:\\Users\\azorzat\\Desktop\\Coding\\Notebooks\\Plots\\swag.pdf')\n",
    "#"
   ]
  },
  {
   "cell_type": "code",
   "execution_count": null,
   "id": "5576e864",
   "metadata": {},
   "outputs": [],
   "source": [
    "#PROBLEMA E CHIEDERSI SE AD OGNI ITERAZIONE STA AGENDO SULLO STATEVECTOR RISULTANTE DALLA COMPUTAZIONE PRECEDENTE\n",
    "#O ALTRO"
   ]
  },
  {
   "cell_type": "code",
   "execution_count": 5,
   "id": "579f5ee7",
   "metadata": {},
   "outputs": [
    {
     "data": {
      "text/plain": [
       "[<matplotlib.lines.Line2D at 0x7fd6bd715cc0>]"
      ]
     },
     "execution_count": 5,
     "metadata": {},
     "output_type": "execute_result"
    },
    {
     "data": {
      "image/png": "[encoded data removed]",
      "text/plain": [
       "<Figure size 640x480 with 1 Axes>"
      ]
     },
     "metadata": {},
     "output_type": "display_data"
    }
   ],
   "source": [
    "v = np.zeros(80)\n",
    "\n",
    "for i in range(80):\n",
    "    v[i]+=0.005\n",
    "        \n",
    "\n",
    "A = np.asarray(A)\n",
    "B = np.asarray(B)\n",
    "plt.plot(A)\n",
    "plt.plot(B)"
   ]
  },
  {
   "cell_type": "code",
   "execution_count": 13,
   "id": "14fd5895",
   "metadata": {},
   "outputs": [
    {
     "data": {
      "text/plain": [
       "Text(0, 0.5, 'Amplitude')"
      ]
     },
     "execution_count": 13,
     "metadata": {},
     "output_type": "execute_result"
    },
    {
     "data": {
      "image/png": "[encoded data removed]",
      "text/plain": [
       "<Figure size 640x480 with 1 Axes>"
      ]
     },
     "metadata": {},
     "output_type": "display_data"
    }
   ],
   "source": [
    "import pickle\n",
    "  \n",
    "# Open the file in binary mode\n",
    "with open('Evolution 00 - Trotter step=0.005, shots=1000 .pkl', 'rb') as file:\n",
    "      \n",
    "    # Call load method to deserialze\n",
    "    vec_00 = pickle.load(file)\n",
    "\n",
    "  \n",
    "# Open the file in binary mode\n",
    "with open('Evolution 11 - Trotter step=0.005, shots=1000 .pkl', 'rb') as file:\n",
    "      \n",
    "    # Call load method to deserialze\n",
    "    vec_11 = pickle.load(file)\n",
    "    \n",
    "    \n",
    "    \n",
    "plt.plot(vec_11[:100], c='g')\n",
    "plt.plot(vec_00[:100], c='m')\n",
    "plt.xlabel('Theta')\n",
    "plt.ylabel('Amplitude')"
   ]
  },
  {
   "cell_type": "code",
   "execution_count": null,
   "id": "9ec5dda4",
   "metadata": {},
   "outputs": [],
   "source": []
  }
 ],
 "metadata": {
  "kernelspec": {
   "display_name": "Python 3 (ipykernel)",
   "language": "python",
   "name": "python3"
  },
  "language_info": {
   "codemirror_mode": {
    "name": "ipython",
    "version": 3
   },
   "file_extension": ".py",
   "mimetype": "text/x-python",
   "name": "python",
   "nbconvert_exporter": "python",
   "pygments_lexer": "ipython3",
   "version": "3.10.9"
  }
 },
 "nbformat": 4,
 "nbformat_minor": 5
}
